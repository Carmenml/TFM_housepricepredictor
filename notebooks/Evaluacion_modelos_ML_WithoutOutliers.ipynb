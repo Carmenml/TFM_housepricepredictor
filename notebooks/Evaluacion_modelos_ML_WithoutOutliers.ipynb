{
 "cells": [
  {
   "cell_type": "markdown",
   "metadata": {
    "tags": []
   },
   "source": [
    "## **EVALUACIÓN MODELOS**\n",
    "El dataset utilizado no contiene una gran cantidad de datos ya que se realizar exclusivamente de la zona de Churriana, Málaga y además nuestro modelo de scrapeo web termina bloqueando la extracción de datos y no nos permite obtener todos los datos de la zona disponibles.\n",
    "\n",
    "Se aplican diferentes modelos para ver cual de ellos presenta el mejor comportamiento a la hora de predecir el precio:\n",
    "* Regresión Lineal\n",
    "* Regresión Bridge\n",
    "* SVM-Support Vector Machine\n",
    "* XgBoost Regresion\n",
    "* Gradient Boosting Regressor\n",
    "* Arbol de Regresión"
   ]
  },
  {
   "cell_type": "markdown",
   "metadata": {},
   "source": [
    "### **Importamos las librerías necesarias:**"
   ]
  },
  {
   "cell_type": "code",
   "execution_count": 1,
   "metadata": {},
   "outputs": [],
   "source": [
    "import numpy as np\n",
    "import matplotlib.pyplot as plt\n",
    "import pandas as pd\n",
    "import seaborn as sns\n",
    "import sklearn\n",
    "\n",
    "from plotly.subplots import make_subplots\n",
    "import plotly.graph_objects as go\n",
    "import plotly.express as px"
   ]
  },
  {
   "cell_type": "markdown",
   "metadata": {},
   "source": [
    "### **Importamos el modulo con las funciones para el calculo de modelos**"
   ]
  },
  {
   "cell_type": "code",
   "execution_count": 2,
   "metadata": {},
   "outputs": [],
   "source": [
    "from ipynb.fs.defs.Funciones_modelos_ML import regresion_lineal,regresion_ridge, svm_support, xgboost_regresion, gb_regresion, arbol_regresion"
   ]
  },
  {
   "cell_type": "code",
   "execution_count": 3,
   "metadata": {},
   "outputs": [],
   "source": [
    "file_path = \"../data/data_model_churriana_without_outliers.csv\"\n",
    "data = pd.read_csv(file_path, index_col = 0)"
   ]
  },
  {
   "cell_type": "code",
   "execution_count": 4,
   "metadata": {},
   "outputs": [
    {
     "data": {
      "text/html": [
       "<div>\n",
       "<style scoped>\n",
       "    .dataframe tbody tr th:only-of-type {\n",
       "        vertical-align: middle;\n",
       "    }\n",
       "\n",
       "    .dataframe tbody tr th {\n",
       "        vertical-align: top;\n",
       "    }\n",
       "\n",
       "    .dataframe thead th {\n",
       "        text-align: right;\n",
       "    }\n",
       "</style>\n",
       "<table border=\"1\" class=\"dataframe\">\n",
       "  <thead>\n",
       "    <tr style=\"text-align: right;\">\n",
       "      <th></th>\n",
       "      <th>latitude</th>\n",
       "      <th>longitude</th>\n",
       "      <th>price</th>\n",
       "      <th>energy_certification</th>\n",
       "      <th>room_number</th>\n",
       "      <th>bath_number</th>\n",
       "      <th>has_garden</th>\n",
       "      <th>has_terrace</th>\n",
       "      <th>has_parking</th>\n",
       "      <th>has_swimmingpool</th>\n",
       "      <th>has_lift</th>\n",
       "      <th>constructed_area</th>\n",
       "      <th>is_new_development</th>\n",
       "      <th>is_needs_renovating</th>\n",
       "      <th>is_goog_condition</th>\n",
       "    </tr>\n",
       "  </thead>\n",
       "  <tbody>\n",
       "    <tr>\n",
       "      <th>0</th>\n",
       "      <td>36.666638</td>\n",
       "      <td>-4.464576</td>\n",
       "      <td>395000</td>\n",
       "      <td>7</td>\n",
       "      <td>4</td>\n",
       "      <td>3</td>\n",
       "      <td>1.0</td>\n",
       "      <td>1.0</td>\n",
       "      <td>1.0</td>\n",
       "      <td>1.0</td>\n",
       "      <td>0.0</td>\n",
       "      <td>194</td>\n",
       "      <td>0</td>\n",
       "      <td>0</td>\n",
       "      <td>1</td>\n",
       "    </tr>\n",
       "    <tr>\n",
       "      <th>1</th>\n",
       "      <td>36.663719</td>\n",
       "      <td>-4.503897</td>\n",
       "      <td>640000</td>\n",
       "      <td>7</td>\n",
       "      <td>4</td>\n",
       "      <td>2</td>\n",
       "      <td>1.0</td>\n",
       "      <td>1.0</td>\n",
       "      <td>1.0</td>\n",
       "      <td>1.0</td>\n",
       "      <td>0.0</td>\n",
       "      <td>310</td>\n",
       "      <td>0</td>\n",
       "      <td>0</td>\n",
       "      <td>1</td>\n",
       "    </tr>\n",
       "    <tr>\n",
       "      <th>2</th>\n",
       "      <td>36.656894</td>\n",
       "      <td>-4.502930</td>\n",
       "      <td>567000</td>\n",
       "      <td>7</td>\n",
       "      <td>5</td>\n",
       "      <td>4</td>\n",
       "      <td>1.0</td>\n",
       "      <td>1.0</td>\n",
       "      <td>0.0</td>\n",
       "      <td>1.0</td>\n",
       "      <td>0.0</td>\n",
       "      <td>410</td>\n",
       "      <td>0</td>\n",
       "      <td>0</td>\n",
       "      <td>1</td>\n",
       "    </tr>\n",
       "    <tr>\n",
       "      <th>3</th>\n",
       "      <td>36.671190</td>\n",
       "      <td>-4.516900</td>\n",
       "      <td>375900</td>\n",
       "      <td>8</td>\n",
       "      <td>4</td>\n",
       "      <td>2</td>\n",
       "      <td>1.0</td>\n",
       "      <td>1.0</td>\n",
       "      <td>1.0</td>\n",
       "      <td>1.0</td>\n",
       "      <td>1.0</td>\n",
       "      <td>236</td>\n",
       "      <td>1</td>\n",
       "      <td>0</td>\n",
       "      <td>0</td>\n",
       "    </tr>\n",
       "    <tr>\n",
       "      <th>4</th>\n",
       "      <td>36.671190</td>\n",
       "      <td>-4.516900</td>\n",
       "      <td>249900</td>\n",
       "      <td>8</td>\n",
       "      <td>2</td>\n",
       "      <td>2</td>\n",
       "      <td>0.0</td>\n",
       "      <td>1.0</td>\n",
       "      <td>1.0</td>\n",
       "      <td>1.0</td>\n",
       "      <td>1.0</td>\n",
       "      <td>150</td>\n",
       "      <td>1</td>\n",
       "      <td>0</td>\n",
       "      <td>0</td>\n",
       "    </tr>\n",
       "  </tbody>\n",
       "</table>\n",
       "</div>"
      ],
      "text/plain": [
       "    latitude  longitude   price  energy_certification  room_number  \\\n",
       "0  36.666638  -4.464576  395000                     7            4   \n",
       "1  36.663719  -4.503897  640000                     7            4   \n",
       "2  36.656894  -4.502930  567000                     7            5   \n",
       "3  36.671190  -4.516900  375900                     8            4   \n",
       "4  36.671190  -4.516900  249900                     8            2   \n",
       "\n",
       "   bath_number  has_garden  has_terrace  has_parking  has_swimmingpool  \\\n",
       "0            3         1.0          1.0          1.0               1.0   \n",
       "1            2         1.0          1.0          1.0               1.0   \n",
       "2            4         1.0          1.0          0.0               1.0   \n",
       "3            2         1.0          1.0          1.0               1.0   \n",
       "4            2         0.0          1.0          1.0               1.0   \n",
       "\n",
       "   has_lift  constructed_area  is_new_development  is_needs_renovating  \\\n",
       "0       0.0               194                   0                    0   \n",
       "1       0.0               310                   0                    0   \n",
       "2       0.0               410                   0                    0   \n",
       "3       1.0               236                   1                    0   \n",
       "4       1.0               150                   1                    0   \n",
       "\n",
       "   is_goog_condition  \n",
       "0                  1  \n",
       "1                  1  \n",
       "2                  1  \n",
       "3                  0  \n",
       "4                  0  "
      ]
     },
     "execution_count": 4,
     "metadata": {},
     "output_type": "execute_result"
    }
   ],
   "source": [
    "data.head()"
   ]
  },
  {
   "cell_type": "markdown",
   "metadata": {},
   "source": [
    "#### **Tabla para evaluación de los modelos**<br>\n",
    "Creamos una tabla vacía con las siguientes columnas: 'Modelo', 'Detalles', 'R2 train', 'R2 test', 'MAE train' y 'MAE test'.\n",
    "Aquí iremos agregando los resultados de cada modelo para finalmente de un simple vistazo poder comparar los rendimientos que aportan y quedarnos con uno de ellos."
   ]
  },
  {
   "cell_type": "code",
   "execution_count": 5,
   "metadata": {},
   "outputs": [],
   "source": [
    "resultados = pd.DataFrame({\n",
    "    'Modelo':[],\n",
    "    'Detalles':[],\n",
    "    'R2 train':[],\n",
    "    'R2 test':[],\n",
    "    'MAE train':[],\n",
    "    'MAE test':[]\n",
    "})"
   ]
  },
  {
   "cell_type": "markdown",
   "metadata": {},
   "source": [
    "Definimos dos funciones que nos ayudarán a evaluar posteriormente el rendimiento de los modelos."
   ]
  },
  {
   "cell_type": "markdown",
   "metadata": {},
   "source": [
    "#### **Variable objetivo y features**"
   ]
  },
  {
   "cell_type": "code",
   "execution_count": 6,
   "metadata": {},
   "outputs": [],
   "source": [
    "%store -r features\n",
    "%store -r target"
   ]
  },
  {
   "cell_type": "markdown",
   "metadata": {},
   "source": [
    "#### **Dividimos el conjunto de datos en train y test**"
   ]
  },
  {
   "cell_type": "code",
   "execution_count": 7,
   "metadata": {},
   "outputs": [],
   "source": [
    "%store -r features_train1\n",
    "%store -r features_test1\n",
    "%store -r target_train1\n",
    "%store -r target_test1"
   ]
  },
  {
   "cell_type": "markdown",
   "metadata": {
    "tags": []
   },
   "source": [
    "#### **Regresión lineal**"
   ]
  },
  {
   "cell_type": "code",
   "execution_count": 8,
   "metadata": {},
   "outputs": [],
   "source": [
    "features_train= features_train1\n",
    "features_test = features_test1\n",
    "target_train= target_train1\n",
    "target_test= target_test1"
   ]
  },
  {
   "cell_type": "code",
   "execution_count": 9,
   "metadata": {},
   "outputs": [],
   "source": [
    "from sklearn.linear_model import LinearRegression"
   ]
  },
  {
   "cell_type": "code",
   "execution_count": 10,
   "metadata": {
    "tags": []
   },
   "outputs": [
    {
     "data": {
      "text/html": [
       "<div>\n",
       "<style scoped>\n",
       "    .dataframe tbody tr th:only-of-type {\n",
       "        vertical-align: middle;\n",
       "    }\n",
       "\n",
       "    .dataframe tbody tr th {\n",
       "        vertical-align: top;\n",
       "    }\n",
       "\n",
       "    .dataframe thead th {\n",
       "        text-align: right;\n",
       "    }\n",
       "</style>\n",
       "<table border=\"1\" class=\"dataframe\">\n",
       "  <thead>\n",
       "    <tr style=\"text-align: right;\">\n",
       "      <th></th>\n",
       "      <th>Modelo</th>\n",
       "      <th>Detalles</th>\n",
       "      <th>R2 train</th>\n",
       "      <th>R2 test</th>\n",
       "      <th>MAE train</th>\n",
       "      <th>MAE test</th>\n",
       "    </tr>\n",
       "  </thead>\n",
       "  <tbody>\n",
       "    <tr>\n",
       "      <th>0</th>\n",
       "      <td>Regresión Lineal</td>\n",
       "      <td>Sin procesar/Sin outliers</td>\n",
       "      <td>0.7968</td>\n",
       "      <td>0.7097</td>\n",
       "      <td>59748.341766</td>\n",
       "      <td>72635.246482</td>\n",
       "    </tr>\n",
       "  </tbody>\n",
       "</table>\n",
       "</div>"
      ],
      "text/plain": [
       "             Modelo                   Detalles R2 train R2 test     MAE train  \\\n",
       "0  Regresión Lineal  Sin procesar/Sin outliers   0.7968  0.7097  59748.341766   \n",
       "\n",
       "       MAE test  \n",
       "0  72635.246482  "
      ]
     },
     "execution_count": 10,
     "metadata": {},
     "output_type": "execute_result"
    }
   ],
   "source": [
    "#Definimos una función para aplicar regresiones lineales. \n",
    "\n",
    "r2_train,r2_test,MAE_train,MAE_test,target_train_pred,target_test_pred = regresion_lineal(data, target, features_train, target_train, features_test, target_test)\n",
    "\n",
    "\n",
    "final = resultados.shape[0]\n",
    "resultados.loc[final] = ['Regresión Lineal','Sin procesar/Sin outliers',r2_train,r2_test,MAE_train,MAE_test]\n",
    "resultados"
   ]
  },
  {
   "cell_type": "markdown",
   "metadata": {},
   "source": [
    "### **Regresión Ridge**"
   ]
  },
  {
   "cell_type": "code",
   "execution_count": 11,
   "metadata": {
    "tags": []
   },
   "outputs": [
    {
     "data": {
      "text/html": [
       "<div>\n",
       "<style scoped>\n",
       "    .dataframe tbody tr th:only-of-type {\n",
       "        vertical-align: middle;\n",
       "    }\n",
       "\n",
       "    .dataframe tbody tr th {\n",
       "        vertical-align: top;\n",
       "    }\n",
       "\n",
       "    .dataframe thead th {\n",
       "        text-align: right;\n",
       "    }\n",
       "</style>\n",
       "<table border=\"1\" class=\"dataframe\">\n",
       "  <thead>\n",
       "    <tr style=\"text-align: right;\">\n",
       "      <th></th>\n",
       "      <th>Modelo</th>\n",
       "      <th>Detalles</th>\n",
       "      <th>R2 train</th>\n",
       "      <th>R2 test</th>\n",
       "      <th>MAE train</th>\n",
       "      <th>MAE test</th>\n",
       "    </tr>\n",
       "  </thead>\n",
       "  <tbody>\n",
       "    <tr>\n",
       "      <th>0</th>\n",
       "      <td>Regresión Lineal</td>\n",
       "      <td>Sin procesar/Sin outliers</td>\n",
       "      <td>0.7968</td>\n",
       "      <td>0.7097</td>\n",
       "      <td>59748.341766</td>\n",
       "      <td>72635.246482</td>\n",
       "    </tr>\n",
       "    <tr>\n",
       "      <th>1</th>\n",
       "      <td>Regresión Bridge</td>\n",
       "      <td>Sin procesar/Sin outliers</td>\n",
       "      <td>0.7589</td>\n",
       "      <td>0.6166</td>\n",
       "      <td>66154.779450</td>\n",
       "      <td>90640.081427</td>\n",
       "    </tr>\n",
       "  </tbody>\n",
       "</table>\n",
       "</div>"
      ],
      "text/plain": [
       "             Modelo                   Detalles R2 train R2 test     MAE train  \\\n",
       "0  Regresión Lineal  Sin procesar/Sin outliers   0.7968  0.7097  59748.341766   \n",
       "1  Regresión Bridge  Sin procesar/Sin outliers   0.7589  0.6166  66154.779450   \n",
       "\n",
       "       MAE test  \n",
       "0  72635.246482  \n",
       "1  90640.081427  "
      ]
     },
     "execution_count": 11,
     "metadata": {},
     "output_type": "execute_result"
    }
   ],
   "source": [
    "r2_train,r2_test,MAE_train,MAE_test,target_train_pred,target_test_pred = regresion_ridge(data, target, features_train, target_train, features_test, target_test)\n",
    "final = resultados.shape[0]\n",
    "resultados.loc[final] = ['Regresión Bridge','Sin procesar/Sin outliers',r2_train,r2_test,MAE_train,MAE_test]\n",
    "resultados"
   ]
  },
  {
   "cell_type": "markdown",
   "metadata": {},
   "source": [
    "El modelo de regresión lineal presenta mejores resultados que el modelo bridge.\n",
    "<br>\n",
    "Veamos otros tipos de modelos a comparar."
   ]
  },
  {
   "cell_type": "markdown",
   "metadata": {},
   "source": [
    "### **SVM-Support Vector Machine**\n"
   ]
  },
  {
   "cell_type": "code",
   "execution_count": 12,
   "metadata": {},
   "outputs": [
    {
     "data": {
      "text/html": [
       "<div>\n",
       "<style scoped>\n",
       "    .dataframe tbody tr th:only-of-type {\n",
       "        vertical-align: middle;\n",
       "    }\n",
       "\n",
       "    .dataframe tbody tr th {\n",
       "        vertical-align: top;\n",
       "    }\n",
       "\n",
       "    .dataframe thead th {\n",
       "        text-align: right;\n",
       "    }\n",
       "</style>\n",
       "<table border=\"1\" class=\"dataframe\">\n",
       "  <thead>\n",
       "    <tr style=\"text-align: right;\">\n",
       "      <th></th>\n",
       "      <th>Modelo</th>\n",
       "      <th>Detalles</th>\n",
       "      <th>R2 train</th>\n",
       "      <th>R2 test</th>\n",
       "      <th>MAE train</th>\n",
       "      <th>MAE test</th>\n",
       "    </tr>\n",
       "  </thead>\n",
       "  <tbody>\n",
       "    <tr>\n",
       "      <th>0</th>\n",
       "      <td>Regresión Lineal</td>\n",
       "      <td>Sin procesar/Sin outliers</td>\n",
       "      <td>0.7968</td>\n",
       "      <td>0.7097</td>\n",
       "      <td>59748.341766</td>\n",
       "      <td>72635.246482</td>\n",
       "    </tr>\n",
       "    <tr>\n",
       "      <th>1</th>\n",
       "      <td>Regresión Bridge</td>\n",
       "      <td>Sin procesar/Sin outliers</td>\n",
       "      <td>0.7589</td>\n",
       "      <td>0.6166</td>\n",
       "      <td>66154.779450</td>\n",
       "      <td>90640.081427</td>\n",
       "    </tr>\n",
       "    <tr>\n",
       "      <th>2</th>\n",
       "      <td>SVM linear</td>\n",
       "      <td>Sin procesar/Sin outliers</td>\n",
       "      <td>0.6899</td>\n",
       "      <td>0.5765</td>\n",
       "      <td>71564.130606</td>\n",
       "      <td>91359.905767</td>\n",
       "    </tr>\n",
       "    <tr>\n",
       "      <th>3</th>\n",
       "      <td>SVM poly</td>\n",
       "      <td>Sin procesar/Sin outliers</td>\n",
       "      <td>-0.0879</td>\n",
       "      <td>-0.1417</td>\n",
       "      <td>133037.979209</td>\n",
       "      <td>138241.086612</td>\n",
       "    </tr>\n",
       "    <tr>\n",
       "      <th>4</th>\n",
       "      <td>SVM rbf</td>\n",
       "      <td>Sin procesar/Sin outliers</td>\n",
       "      <td>-0.0959</td>\n",
       "      <td>-0.1460</td>\n",
       "      <td>133405.157270</td>\n",
       "      <td>138460.576667</td>\n",
       "    </tr>\n",
       "    <tr>\n",
       "      <th>5</th>\n",
       "      <td>SVM sigmoid</td>\n",
       "      <td>Sin procesar/Sin outliers</td>\n",
       "      <td>-0.0960</td>\n",
       "      <td>-0.1462</td>\n",
       "      <td>133416.996507</td>\n",
       "      <td>138470.997963</td>\n",
       "    </tr>\n",
       "  </tbody>\n",
       "</table>\n",
       "</div>"
      ],
      "text/plain": [
       "             Modelo                   Detalles R2 train  R2 test  \\\n",
       "0  Regresión Lineal  Sin procesar/Sin outliers   0.7968   0.7097   \n",
       "1  Regresión Bridge  Sin procesar/Sin outliers   0.7589   0.6166   \n",
       "2        SVM linear  Sin procesar/Sin outliers   0.6899   0.5765   \n",
       "3          SVM poly  Sin procesar/Sin outliers  -0.0879  -0.1417   \n",
       "4           SVM rbf  Sin procesar/Sin outliers  -0.0959  -0.1460   \n",
       "5       SVM sigmoid  Sin procesar/Sin outliers  -0.0960  -0.1462   \n",
       "\n",
       "       MAE train       MAE test  \n",
       "0   59748.341766   72635.246482  \n",
       "1   66154.779450   90640.081427  \n",
       "2   71564.130606   91359.905767  \n",
       "3  133037.979209  138241.086612  \n",
       "4  133405.157270  138460.576667  \n",
       "5  133416.996507  138470.997963  "
      ]
     },
     "execution_count": 12,
     "metadata": {},
     "output_type": "execute_result"
    }
   ],
   "source": [
    "kernels = ['linear', 'poly', 'rbf', 'sigmoid']\n",
    "\n",
    "for kernel in kernels:\n",
    "    r2_train,r2_test,MAE_train,MAE_test,target_train_pred,target_test_pred = svm_support(data, target, features_train, target_train, features_test, target_test, kernel=kernel)\n",
    "    final = resultados.shape[0]\n",
    "    resultados.loc[final] = [f\"SVM {kernel}\",\"Sin procesar/Sin outliers\",r2_train,r2_test,MAE_train,MAE_test]\n",
    "resultados"
   ]
  },
  {
   "cell_type": "markdown",
   "metadata": {},
   "source": [
    "Este modelo presenta los mejores resultados para el parámetro \"linear\", el resto no ajusta bien el modelo."
   ]
  },
  {
   "cell_type": "markdown",
   "metadata": {},
   "source": [
    "### **XGBoost**"
   ]
  },
  {
   "cell_type": "code",
   "execution_count": 13,
   "metadata": {},
   "outputs": [
    {
     "data": {
      "text/html": [
       "<div>\n",
       "<style scoped>\n",
       "    .dataframe tbody tr th:only-of-type {\n",
       "        vertical-align: middle;\n",
       "    }\n",
       "\n",
       "    .dataframe tbody tr th {\n",
       "        vertical-align: top;\n",
       "    }\n",
       "\n",
       "    .dataframe thead th {\n",
       "        text-align: right;\n",
       "    }\n",
       "</style>\n",
       "<table border=\"1\" class=\"dataframe\">\n",
       "  <thead>\n",
       "    <tr style=\"text-align: right;\">\n",
       "      <th></th>\n",
       "      <th>Modelo</th>\n",
       "      <th>Detalles</th>\n",
       "      <th>R2 train</th>\n",
       "      <th>R2 test</th>\n",
       "      <th>MAE train</th>\n",
       "      <th>MAE test</th>\n",
       "    </tr>\n",
       "  </thead>\n",
       "  <tbody>\n",
       "    <tr>\n",
       "      <th>0</th>\n",
       "      <td>Regresión Lineal</td>\n",
       "      <td>Sin procesar/Sin outliers</td>\n",
       "      <td>0.7968</td>\n",
       "      <td>0.7097</td>\n",
       "      <td>59748.341766</td>\n",
       "      <td>72635.246482</td>\n",
       "    </tr>\n",
       "    <tr>\n",
       "      <th>1</th>\n",
       "      <td>Regresión Bridge</td>\n",
       "      <td>Sin procesar/Sin outliers</td>\n",
       "      <td>0.7589</td>\n",
       "      <td>0.6166</td>\n",
       "      <td>66154.779450</td>\n",
       "      <td>90640.081427</td>\n",
       "    </tr>\n",
       "    <tr>\n",
       "      <th>2</th>\n",
       "      <td>SVM linear</td>\n",
       "      <td>Sin procesar/Sin outliers</td>\n",
       "      <td>0.6899</td>\n",
       "      <td>0.5765</td>\n",
       "      <td>71564.130606</td>\n",
       "      <td>91359.905767</td>\n",
       "    </tr>\n",
       "    <tr>\n",
       "      <th>3</th>\n",
       "      <td>SVM poly</td>\n",
       "      <td>Sin procesar/Sin outliers</td>\n",
       "      <td>-0.0879</td>\n",
       "      <td>-0.1417</td>\n",
       "      <td>133037.979209</td>\n",
       "      <td>138241.086612</td>\n",
       "    </tr>\n",
       "    <tr>\n",
       "      <th>4</th>\n",
       "      <td>SVM rbf</td>\n",
       "      <td>Sin procesar/Sin outliers</td>\n",
       "      <td>-0.0959</td>\n",
       "      <td>-0.1460</td>\n",
       "      <td>133405.157270</td>\n",
       "      <td>138460.576667</td>\n",
       "    </tr>\n",
       "    <tr>\n",
       "      <th>5</th>\n",
       "      <td>SVM sigmoid</td>\n",
       "      <td>Sin procesar/Sin outliers</td>\n",
       "      <td>-0.0960</td>\n",
       "      <td>-0.1462</td>\n",
       "      <td>133416.996507</td>\n",
       "      <td>138470.997963</td>\n",
       "    </tr>\n",
       "    <tr>\n",
       "      <th>6</th>\n",
       "      <td>xgboost Regresion</td>\n",
       "      <td>Sin procesar/Sin outliers</td>\n",
       "      <td>1.0000</td>\n",
       "      <td>0.6653</td>\n",
       "      <td>264.895824</td>\n",
       "      <td>60078.626379</td>\n",
       "    </tr>\n",
       "  </tbody>\n",
       "</table>\n",
       "</div>"
      ],
      "text/plain": [
       "              Modelo                   Detalles R2 train  R2 test  \\\n",
       "0   Regresión Lineal  Sin procesar/Sin outliers   0.7968   0.7097   \n",
       "1   Regresión Bridge  Sin procesar/Sin outliers   0.7589   0.6166   \n",
       "2         SVM linear  Sin procesar/Sin outliers   0.6899   0.5765   \n",
       "3           SVM poly  Sin procesar/Sin outliers  -0.0879  -0.1417   \n",
       "4            SVM rbf  Sin procesar/Sin outliers  -0.0959  -0.1460   \n",
       "5        SVM sigmoid  Sin procesar/Sin outliers  -0.0960  -0.1462   \n",
       "6  xgboost Regresion  Sin procesar/Sin outliers   1.0000   0.6653   \n",
       "\n",
       "       MAE train       MAE test  \n",
       "0   59748.341766   72635.246482  \n",
       "1   66154.779450   90640.081427  \n",
       "2   71564.130606   91359.905767  \n",
       "3  133037.979209  138241.086612  \n",
       "4  133405.157270  138460.576667  \n",
       "5  133416.996507  138470.997963  \n",
       "6     264.895824   60078.626379  "
      ]
     },
     "execution_count": 13,
     "metadata": {},
     "output_type": "execute_result"
    }
   ],
   "source": [
    "r2_train,r2_test,MAE_train,MAE_test,target_train_pred,target_test_pred = xgboost_regresion(data, target, features_train, target_train, features_test, target_test)\n",
    "final = resultados.shape[0]\n",
    "resultados.loc[final] = ['xgboost Regresion','Sin procesar/Sin outliers',r2_train,r2_test,MAE_train,MAE_test]\n",
    "resultados"
   ]
  },
  {
   "cell_type": "markdown",
   "metadata": {
    "tags": []
   },
   "source": [
    "### **Gradient Boosting Regressor**"
   ]
  },
  {
   "cell_type": "code",
   "execution_count": 14,
   "metadata": {},
   "outputs": [
    {
     "data": {
      "text/html": [
       "<div>\n",
       "<style scoped>\n",
       "    .dataframe tbody tr th:only-of-type {\n",
       "        vertical-align: middle;\n",
       "    }\n",
       "\n",
       "    .dataframe tbody tr th {\n",
       "        vertical-align: top;\n",
       "    }\n",
       "\n",
       "    .dataframe thead th {\n",
       "        text-align: right;\n",
       "    }\n",
       "</style>\n",
       "<table border=\"1\" class=\"dataframe\">\n",
       "  <thead>\n",
       "    <tr style=\"text-align: right;\">\n",
       "      <th></th>\n",
       "      <th>Modelo</th>\n",
       "      <th>Detalles</th>\n",
       "      <th>R2 train</th>\n",
       "      <th>R2 test</th>\n",
       "      <th>MAE train</th>\n",
       "      <th>MAE test</th>\n",
       "    </tr>\n",
       "  </thead>\n",
       "  <tbody>\n",
       "    <tr>\n",
       "      <th>0</th>\n",
       "      <td>Regresión Lineal</td>\n",
       "      <td>Sin procesar/Sin outliers</td>\n",
       "      <td>0.7968</td>\n",
       "      <td>0.7097</td>\n",
       "      <td>59748.341766</td>\n",
       "      <td>72635.246482</td>\n",
       "    </tr>\n",
       "    <tr>\n",
       "      <th>1</th>\n",
       "      <td>Regresión Bridge</td>\n",
       "      <td>Sin procesar/Sin outliers</td>\n",
       "      <td>0.7589</td>\n",
       "      <td>0.6166</td>\n",
       "      <td>66154.779450</td>\n",
       "      <td>90640.081427</td>\n",
       "    </tr>\n",
       "    <tr>\n",
       "      <th>2</th>\n",
       "      <td>SVM linear</td>\n",
       "      <td>Sin procesar/Sin outliers</td>\n",
       "      <td>0.6899</td>\n",
       "      <td>0.5765</td>\n",
       "      <td>71564.130606</td>\n",
       "      <td>91359.905767</td>\n",
       "    </tr>\n",
       "    <tr>\n",
       "      <th>3</th>\n",
       "      <td>SVM poly</td>\n",
       "      <td>Sin procesar/Sin outliers</td>\n",
       "      <td>-0.0879</td>\n",
       "      <td>-0.1417</td>\n",
       "      <td>133037.979209</td>\n",
       "      <td>138241.086612</td>\n",
       "    </tr>\n",
       "    <tr>\n",
       "      <th>4</th>\n",
       "      <td>SVM rbf</td>\n",
       "      <td>Sin procesar/Sin outliers</td>\n",
       "      <td>-0.0959</td>\n",
       "      <td>-0.1460</td>\n",
       "      <td>133405.157270</td>\n",
       "      <td>138460.576667</td>\n",
       "    </tr>\n",
       "    <tr>\n",
       "      <th>5</th>\n",
       "      <td>SVM sigmoid</td>\n",
       "      <td>Sin procesar/Sin outliers</td>\n",
       "      <td>-0.0960</td>\n",
       "      <td>-0.1462</td>\n",
       "      <td>133416.996507</td>\n",
       "      <td>138470.997963</td>\n",
       "    </tr>\n",
       "    <tr>\n",
       "      <th>6</th>\n",
       "      <td>xgboost Regresion</td>\n",
       "      <td>Sin procesar/Sin outliers</td>\n",
       "      <td>1.0000</td>\n",
       "      <td>0.6653</td>\n",
       "      <td>264.895824</td>\n",
       "      <td>60078.626379</td>\n",
       "    </tr>\n",
       "    <tr>\n",
       "      <th>7</th>\n",
       "      <td>Gradient Boosting Regressor</td>\n",
       "      <td>Sin procesar/Sin outliers</td>\n",
       "      <td>0.9939</td>\n",
       "      <td>0.5325</td>\n",
       "      <td>11113.940793</td>\n",
       "      <td>71422.954367</td>\n",
       "    </tr>\n",
       "  </tbody>\n",
       "</table>\n",
       "</div>"
      ],
      "text/plain": [
       "                        Modelo                   Detalles R2 train  R2 test  \\\n",
       "0             Regresión Lineal  Sin procesar/Sin outliers   0.7968   0.7097   \n",
       "1             Regresión Bridge  Sin procesar/Sin outliers   0.7589   0.6166   \n",
       "2                   SVM linear  Sin procesar/Sin outliers   0.6899   0.5765   \n",
       "3                     SVM poly  Sin procesar/Sin outliers  -0.0879  -0.1417   \n",
       "4                      SVM rbf  Sin procesar/Sin outliers  -0.0959  -0.1460   \n",
       "5                  SVM sigmoid  Sin procesar/Sin outliers  -0.0960  -0.1462   \n",
       "6            xgboost Regresion  Sin procesar/Sin outliers   1.0000   0.6653   \n",
       "7  Gradient Boosting Regressor  Sin procesar/Sin outliers   0.9939   0.5325   \n",
       "\n",
       "       MAE train       MAE test  \n",
       "0   59748.341766   72635.246482  \n",
       "1   66154.779450   90640.081427  \n",
       "2   71564.130606   91359.905767  \n",
       "3  133037.979209  138241.086612  \n",
       "4  133405.157270  138460.576667  \n",
       "5  133416.996507  138470.997963  \n",
       "6     264.895824   60078.626379  \n",
       "7   11113.940793   71422.954367  "
      ]
     },
     "execution_count": 14,
     "metadata": {},
     "output_type": "execute_result"
    }
   ],
   "source": [
    "r2_train,r2_test,MAE_train,MAE_test,target_train_pred,target_test_pred = gb_regresion(data, target, features_train, target_train, features_test, target_test)\n",
    "final = resultados.shape[0]\n",
    "resultados.loc[final] = ['Gradient Boosting Regressor','Sin procesar/Sin outliers',r2_train,r2_test,MAE_train,MAE_test]\n",
    "resultados"
   ]
  },
  {
   "cell_type": "markdown",
   "metadata": {
    "tags": []
   },
   "source": [
    "### **Random Forest Regressor**"
   ]
  },
  {
   "cell_type": "code",
   "execution_count": 15,
   "metadata": {},
   "outputs": [
    {
     "data": {
      "text/html": [
       "<div>\n",
       "<style scoped>\n",
       "    .dataframe tbody tr th:only-of-type {\n",
       "        vertical-align: middle;\n",
       "    }\n",
       "\n",
       "    .dataframe tbody tr th {\n",
       "        vertical-align: top;\n",
       "    }\n",
       "\n",
       "    .dataframe thead th {\n",
       "        text-align: right;\n",
       "    }\n",
       "</style>\n",
       "<table border=\"1\" class=\"dataframe\">\n",
       "  <thead>\n",
       "    <tr style=\"text-align: right;\">\n",
       "      <th></th>\n",
       "      <th>Modelo</th>\n",
       "      <th>Detalles</th>\n",
       "      <th>R2 train</th>\n",
       "      <th>R2 test</th>\n",
       "      <th>MAE train</th>\n",
       "      <th>MAE test</th>\n",
       "    </tr>\n",
       "  </thead>\n",
       "  <tbody>\n",
       "    <tr>\n",
       "      <th>0</th>\n",
       "      <td>Regresión Lineal</td>\n",
       "      <td>Sin procesar/Sin outliers</td>\n",
       "      <td>0.7968</td>\n",
       "      <td>0.7097</td>\n",
       "      <td>59748.341766</td>\n",
       "      <td>72635.246482</td>\n",
       "    </tr>\n",
       "    <tr>\n",
       "      <th>1</th>\n",
       "      <td>Regresión Bridge</td>\n",
       "      <td>Sin procesar/Sin outliers</td>\n",
       "      <td>0.7589</td>\n",
       "      <td>0.6166</td>\n",
       "      <td>66154.779450</td>\n",
       "      <td>90640.081427</td>\n",
       "    </tr>\n",
       "    <tr>\n",
       "      <th>2</th>\n",
       "      <td>SVM linear</td>\n",
       "      <td>Sin procesar/Sin outliers</td>\n",
       "      <td>0.6899</td>\n",
       "      <td>0.5765</td>\n",
       "      <td>71564.130606</td>\n",
       "      <td>91359.905767</td>\n",
       "    </tr>\n",
       "    <tr>\n",
       "      <th>3</th>\n",
       "      <td>SVM poly</td>\n",
       "      <td>Sin procesar/Sin outliers</td>\n",
       "      <td>-0.0879</td>\n",
       "      <td>-0.1417</td>\n",
       "      <td>133037.979209</td>\n",
       "      <td>138241.086612</td>\n",
       "    </tr>\n",
       "    <tr>\n",
       "      <th>4</th>\n",
       "      <td>SVM rbf</td>\n",
       "      <td>Sin procesar/Sin outliers</td>\n",
       "      <td>-0.0959</td>\n",
       "      <td>-0.1460</td>\n",
       "      <td>133405.157270</td>\n",
       "      <td>138460.576667</td>\n",
       "    </tr>\n",
       "    <tr>\n",
       "      <th>5</th>\n",
       "      <td>SVM sigmoid</td>\n",
       "      <td>Sin procesar/Sin outliers</td>\n",
       "      <td>-0.0960</td>\n",
       "      <td>-0.1462</td>\n",
       "      <td>133416.996507</td>\n",
       "      <td>138470.997963</td>\n",
       "    </tr>\n",
       "    <tr>\n",
       "      <th>6</th>\n",
       "      <td>xgboost Regresion</td>\n",
       "      <td>Sin procesar/Sin outliers</td>\n",
       "      <td>1.0000</td>\n",
       "      <td>0.6653</td>\n",
       "      <td>264.895824</td>\n",
       "      <td>60078.626379</td>\n",
       "    </tr>\n",
       "    <tr>\n",
       "      <th>7</th>\n",
       "      <td>Gradient Boosting Regressor</td>\n",
       "      <td>Sin procesar/Sin outliers</td>\n",
       "      <td>0.9939</td>\n",
       "      <td>0.5325</td>\n",
       "      <td>11113.940793</td>\n",
       "      <td>71422.954367</td>\n",
       "    </tr>\n",
       "    <tr>\n",
       "      <th>8</th>\n",
       "      <td>Árbol de regresión</td>\n",
       "      <td>Sin procesar/Sin outliers</td>\n",
       "      <td>0.8045</td>\n",
       "      <td>0.6497</td>\n",
       "      <td>55712.089869</td>\n",
       "      <td>75832.371148</td>\n",
       "    </tr>\n",
       "  </tbody>\n",
       "</table>\n",
       "</div>"
      ],
      "text/plain": [
       "                        Modelo                   Detalles R2 train  R2 test  \\\n",
       "0             Regresión Lineal  Sin procesar/Sin outliers   0.7968   0.7097   \n",
       "1             Regresión Bridge  Sin procesar/Sin outliers   0.7589   0.6166   \n",
       "2                   SVM linear  Sin procesar/Sin outliers   0.6899   0.5765   \n",
       "3                     SVM poly  Sin procesar/Sin outliers  -0.0879  -0.1417   \n",
       "4                      SVM rbf  Sin procesar/Sin outliers  -0.0959  -0.1460   \n",
       "5                  SVM sigmoid  Sin procesar/Sin outliers  -0.0960  -0.1462   \n",
       "6            xgboost Regresion  Sin procesar/Sin outliers   1.0000   0.6653   \n",
       "7  Gradient Boosting Regressor  Sin procesar/Sin outliers   0.9939   0.5325   \n",
       "8           Árbol de regresión  Sin procesar/Sin outliers   0.8045   0.6497   \n",
       "\n",
       "       MAE train       MAE test  \n",
       "0   59748.341766   72635.246482  \n",
       "1   66154.779450   90640.081427  \n",
       "2   71564.130606   91359.905767  \n",
       "3  133037.979209  138241.086612  \n",
       "4  133405.157270  138460.576667  \n",
       "5  133416.996507  138470.997963  \n",
       "6     264.895824   60078.626379  \n",
       "7   11113.940793   71422.954367  \n",
       "8   55712.089869   75832.371148  "
      ]
     },
     "execution_count": 15,
     "metadata": {},
     "output_type": "execute_result"
    }
   ],
   "source": [
    "r2_train,r2_test, MAE_train,MAE_test,target_train_pred,target_test_pred = arbol_regresion(data, target, features_train, target_train, features_test, target_test)\n",
    "final = resultados.shape[0]\n",
    "resultados.loc[final] = ['Árbol de regresión','Sin procesar/Sin outliers',r2_train,r2_test, MAE_train,MAE_test]\n",
    "resultados"
   ]
  },
  {
   "cell_type": "markdown",
   "metadata": {},
   "source": [
    "### **Valoración de resultados modelos sin Outliers**\n",
    "\n",
    "Tras hacer diferentes pruebas de entranamiento el modelo aplicado a datos sin outliers presenta mejores resultados.\n",
    "<br>\n",
    "Los modelos que han presentado mejor rendimientos han sido xgboost y gradient boosting regression. En el siguiente nootebook trabajaremos ambos modelos para ver si conseguimos mejorar su rendimiento y quedarnos con el que mejores resultaods aporte para generar nuestro dataset final con la columna precio predicho, variación del precio predicho con el precio real y sacar su porcentaje de rentabilidad. Estos datos serán los que usaremos para la parte de viualización front end."
   ]
  },
  {
   "cell_type": "code",
   "execution_count": 16,
   "metadata": {},
   "outputs": [],
   "source": [
    "resultados['R2 test'] = resultados['R2 test'].astype(float)"
   ]
  },
  {
   "cell_type": "code",
   "execution_count": 17,
   "metadata": {},
   "outputs": [
    {
     "data": {
      "image/png": "[encoded data removed]",
      "text/plain": [
       "<Figure size 640x480 with 1 Axes>"
      ]
     },
     "metadata": {},
     "output_type": "display_data"
    }
   ],
   "source": [
    "sns.barplot(x='Modelo', y='R2 test', data=resultados)\n",
    "\n",
    "# Añade título y etiquetas de eje\n",
    "plt.title('Comparación de R2 test de los modelos sin Outliers', color='darkblue')\n",
    "plt.xlabel('Modelos')\n",
    "plt.ylabel('R2')\n",
    "plt.xticks(rotation=60)\n",
    "\n",
    "# Muestra el gráfico\n",
    "plt.savefig(\"../graficas/comparacion_r2test_modelos_without_outliers\")\n",
    "plt.show()"
   ]
  },
  {
   "cell_type": "markdown",
   "metadata": {},
   "source": [
    "Guardamos la tabla de evaluaciones obtenida:"
   ]
  },
  {
   "cell_type": "code",
   "execution_count": 18,
   "metadata": {},
   "outputs": [],
   "source": [
    "resultados.to_csv('../data/tabla_resultados_evaluaciones_modelos_without_outliers.csv', index=False)"
   ]
  },
  {
   "cell_type": "code",
   "execution_count": null,
   "metadata": {},
   "outputs": [],
   "source": []
  }
 ],
 "metadata": {
  "kernelspec": {
   "display_name": "Python 3 (ipykernel)",
   "language": "python",
   "name": "python3"
  },
  "language_info": {
   "codemirror_mode": {
    "name": "ipython",
    "version": 3
   },
   "file_extension": ".py",
   "mimetype": "text/x-python",
   "name": "python",
   "nbconvert_exporter": "python",
   "pygments_lexer": "ipython3",
   "version": "3.10.9"
  }
 },
 "nbformat": 4,
 "nbformat_minor": 4
}
