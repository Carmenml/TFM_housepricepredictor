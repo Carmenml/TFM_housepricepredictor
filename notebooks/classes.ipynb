{
 "cells": [
  {
   "cell_type": "code",
   "execution_count": 5,
   "id": "bd898e62-4978-458a-98b1-586e6a1cb3d1",
   "metadata": {},
   "outputs": [],
   "source": [
    "class DataSplit:\n",
    "    \n",
    "    def __init__(self, features_train, features_test, target_train, target_test, target, features):\n",
    "        self.features_train = features_train\n",
    "        self.features_test = features_test\n",
    "        self.target_train = target_train\n",
    "        self.target_test = target_test\n",
    "        self.target = target\n",
    "        self.features = features"
   ]
  },
  {
   "cell_type": "code",
   "execution_count": null,
   "id": "59bd6b64-ff19-407c-96e6-437ff469dc22",
   "metadata": {},
   "outputs": [],
   "source": []
  },
  {
   "cell_type": "code",
   "execution_count": null,
   "id": "38fc06f8-164f-4ba2-8aec-926d3b9ecee7",
   "metadata": {},
   "outputs": [],
   "source": []
  }
 ],
 "metadata": {
  "kernelspec": {
   "display_name": "Python 3",
   "language": "python",
   "name": "python3"
  },
  "language_info": {
   "codemirror_mode": {
    "name": "ipython",
    "version": 3
   },
   "file_extension": ".py",
   "mimetype": "text/x-python",
   "name": "python",
   "nbconvert_exporter": "python",
   "pygments_lexer": "ipython3",
   "version": "3.9.13"
  }
 },
 "nbformat": 4,
 "nbformat_minor": 5
}
