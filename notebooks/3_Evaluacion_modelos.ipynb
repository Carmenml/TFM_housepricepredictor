{
 "cells": [
  {
   "cell_type": "markdown",
   "metadata": {
    "tags": []
   },
   "source": [
    "## ***EVALUACIÓN MODELOS***\n",
    "El dataset utilizado no contiene una gran cantidad de datos ya que se realizar exclusivamente de la zona de Churriana, Málaga y además nuestro modelo de scrapeo web termina bloqueando la extracción de datos y no nos permite obtener todos los datos de la zona disponibles.\n",
    "\n",
    "Se aplican diferentes modelos para ver cual de ellos presenta el mejor comportamiento a la hora de predecir el precio:\n",
    "* Regresión Lineal\n",
    "* Regresión Polinómica\n",
    "* SVM-Support Vector Machine\n",
    "* Arbol de Regresión\n",
    "* Redes Neuronales - Regresión"
   ]
  },
  {
   "cell_type": "markdown",
   "metadata": {},
   "source": [
    "**Importamos las librerías necesarias:**"
   ]
  },
  {
   "cell_type": "code",
   "execution_count": 87,
   "metadata": {},
   "outputs": [],
   "source": [
    "import numpy as np\n",
    "import matplotlib.pyplot as plt\n",
    "import pandas as pd\n",
    "import seaborn as sns\n",
    "import sklearn\n",
    "\n",
    "from plotly.subplots import make_subplots\n",
    "import plotly.graph_objects as go\n",
    "import plotly.express as px"
   ]
  },
  {
   "cell_type": "code",
   "execution_count": 88,
   "metadata": {},
   "outputs": [],
   "source": [
    "file_path = \"../data/data_model_churriana_malaga.csv\"\n",
    "data = pd.read_csv(file_path, index_col = 0)"
   ]
  },
  {
   "cell_type": "code",
   "execution_count": 89,
   "metadata": {},
   "outputs": [
    {
     "data": {
      "text/html": [
       "<div>\n",
       "<style scoped>\n",
       "    .dataframe tbody tr th:only-of-type {\n",
       "        vertical-align: middle;\n",
       "    }\n",
       "\n",
       "    .dataframe tbody tr th {\n",
       "        vertical-align: top;\n",
       "    }\n",
       "\n",
       "    .dataframe thead th {\n",
       "        text-align: right;\n",
       "    }\n",
       "</style>\n",
       "<table border=\"1\" class=\"dataframe\">\n",
       "  <thead>\n",
       "    <tr style=\"text-align: right;\">\n",
       "      <th></th>\n",
       "      <th>latitude</th>\n",
       "      <th>longitude</th>\n",
       "      <th>price</th>\n",
       "      <th>energy_certification</th>\n",
       "      <th>room_number</th>\n",
       "      <th>bath_number</th>\n",
       "      <th>has_garden</th>\n",
       "      <th>has_terrace</th>\n",
       "      <th>has_parking</th>\n",
       "      <th>has_swimmingpool</th>\n",
       "      <th>has_lift</th>\n",
       "      <th>constructed_area</th>\n",
       "      <th>is_new_development</th>\n",
       "      <th>is_needs_renovating</th>\n",
       "      <th>is_goog_condition</th>\n",
       "    </tr>\n",
       "  </thead>\n",
       "  <tbody>\n",
       "    <tr>\n",
       "      <th>0</th>\n",
       "      <td>36.666638</td>\n",
       "      <td>-4.464576</td>\n",
       "      <td>395000</td>\n",
       "      <td>7</td>\n",
       "      <td>4</td>\n",
       "      <td>3</td>\n",
       "      <td>1.0</td>\n",
       "      <td>1.0</td>\n",
       "      <td>1.0</td>\n",
       "      <td>1.0</td>\n",
       "      <td>0.0</td>\n",
       "      <td>194</td>\n",
       "      <td>0</td>\n",
       "      <td>0</td>\n",
       "      <td>1</td>\n",
       "    </tr>\n",
       "    <tr>\n",
       "      <th>1</th>\n",
       "      <td>36.663719</td>\n",
       "      <td>-4.503897</td>\n",
       "      <td>640000</td>\n",
       "      <td>7</td>\n",
       "      <td>4</td>\n",
       "      <td>2</td>\n",
       "      <td>1.0</td>\n",
       "      <td>1.0</td>\n",
       "      <td>1.0</td>\n",
       "      <td>1.0</td>\n",
       "      <td>0.0</td>\n",
       "      <td>310</td>\n",
       "      <td>0</td>\n",
       "      <td>0</td>\n",
       "      <td>1</td>\n",
       "    </tr>\n",
       "    <tr>\n",
       "      <th>2</th>\n",
       "      <td>36.656894</td>\n",
       "      <td>-4.502930</td>\n",
       "      <td>567000</td>\n",
       "      <td>7</td>\n",
       "      <td>5</td>\n",
       "      <td>4</td>\n",
       "      <td>1.0</td>\n",
       "      <td>1.0</td>\n",
       "      <td>0.0</td>\n",
       "      <td>1.0</td>\n",
       "      <td>0.0</td>\n",
       "      <td>410</td>\n",
       "      <td>0</td>\n",
       "      <td>0</td>\n",
       "      <td>1</td>\n",
       "    </tr>\n",
       "    <tr>\n",
       "      <th>3</th>\n",
       "      <td>36.671190</td>\n",
       "      <td>-4.516900</td>\n",
       "      <td>375900</td>\n",
       "      <td>8</td>\n",
       "      <td>4</td>\n",
       "      <td>2</td>\n",
       "      <td>1.0</td>\n",
       "      <td>1.0</td>\n",
       "      <td>1.0</td>\n",
       "      <td>1.0</td>\n",
       "      <td>1.0</td>\n",
       "      <td>236</td>\n",
       "      <td>1</td>\n",
       "      <td>0</td>\n",
       "      <td>0</td>\n",
       "    </tr>\n",
       "    <tr>\n",
       "      <th>4</th>\n",
       "      <td>36.671190</td>\n",
       "      <td>-4.516900</td>\n",
       "      <td>249900</td>\n",
       "      <td>8</td>\n",
       "      <td>2</td>\n",
       "      <td>2</td>\n",
       "      <td>0.0</td>\n",
       "      <td>1.0</td>\n",
       "      <td>1.0</td>\n",
       "      <td>1.0</td>\n",
       "      <td>1.0</td>\n",
       "      <td>150</td>\n",
       "      <td>1</td>\n",
       "      <td>0</td>\n",
       "      <td>0</td>\n",
       "    </tr>\n",
       "  </tbody>\n",
       "</table>\n",
       "</div>"
      ],
      "text/plain": [
       "    latitude  longitude   price  energy_certification  room_number  \\\n",
       "0  36.666638  -4.464576  395000                     7            4   \n",
       "1  36.663719  -4.503897  640000                     7            4   \n",
       "2  36.656894  -4.502930  567000                     7            5   \n",
       "3  36.671190  -4.516900  375900                     8            4   \n",
       "4  36.671190  -4.516900  249900                     8            2   \n",
       "\n",
       "   bath_number  has_garden  has_terrace  has_parking  has_swimmingpool  \\\n",
       "0            3         1.0          1.0          1.0               1.0   \n",
       "1            2         1.0          1.0          1.0               1.0   \n",
       "2            4         1.0          1.0          0.0               1.0   \n",
       "3            2         1.0          1.0          1.0               1.0   \n",
       "4            2         0.0          1.0          1.0               1.0   \n",
       "\n",
       "   has_lift  constructed_area  is_new_development  is_needs_renovating  \\\n",
       "0       0.0               194                   0                    0   \n",
       "1       0.0               310                   0                    0   \n",
       "2       0.0               410                   0                    0   \n",
       "3       1.0               236                   1                    0   \n",
       "4       1.0               150                   1                    0   \n",
       "\n",
       "   is_goog_condition  \n",
       "0                  1  \n",
       "1                  1  \n",
       "2                  1  \n",
       "3                  0  \n",
       "4                  0  "
      ]
     },
     "execution_count": 89,
     "metadata": {},
     "output_type": "execute_result"
    }
   ],
   "source": [
    "data.head()"
   ]
  },
  {
   "cell_type": "markdown",
   "metadata": {},
   "source": [
    "**Tabla para evaluación de los modelos**<br>\n",
    "Creamos una tabla vacía con las siguientes columnas: 'Modelo', 'Detalles', 'R2 train', 'R2 test', 'MAE train' y 'MAE test'.\n",
    "Aquí iremos agregando los resultados de cada modelo para finalmente de un simple vistazo poder comparar los rendimientos que aportan y quedarnos con uno de ellos."
   ]
  },
  {
   "cell_type": "code",
   "execution_count": 90,
   "metadata": {},
   "outputs": [],
   "source": [
    "resultados = pd.DataFrame({\n",
    "    'Modelo':[],\n",
    "    'Detalles':[],\n",
    "    'R2 train':[],\n",
    "    'R2 test':[],\n",
    "    'MAE train':[],\n",
    "    'MAE test':[]\n",
    "})"
   ]
  },
  {
   "cell_type": "markdown",
   "metadata": {},
   "source": [
    "Definimos dos funciones que nos ayudarán a evaluar posteriormente el rendimiento de los modelos."
   ]
  },
  {
   "cell_type": "code",
   "execution_count": 91,
   "metadata": {},
   "outputs": [],
   "source": [
    "def error_absoluto_medio(y,y_pred):\n",
    "    v = np.abs(y - y_pred)\n",
    "    return v.sum()/len(y)\n",
    "    \n",
    "def error_gen(y_train,y_pred_train,y_test,y_pred_test):\n",
    "    MAE_TRAIN = error_absoluto_medio(y_train,y_pred_train)\n",
    "    MAE_TEST = error_absoluto_medio(y_test,y_pred_test)\n",
    "    return MAE_TRAIN,MAE_TEST"
   ]
  },
  {
   "cell_type": "markdown",
   "metadata": {
    "tags": []
   },
   "source": [
    "#### **Regresión lineal**\n",
    "\n",
    "En primer lugar aplicaremos un modelo de regresión lineal. Aplicaremos este modelo a nuestros diferentes conjuntos de datos. Recordar que los datos ya han sido limpiados y trabajados en la sección anterior por lo que ya están preparados para su uso.\n",
    "* Primero usaremos el dataset final preparado para los modelos si tratar adicionalmente los datos. (data_model_churriana_malaga.csv)\n",
    "* Aplicaremos el modelo también a nuestro dataset sin Outliers. (data_model_churriana_malaga_without_outliers.csv)\n",
    "* Trataremos los datos tanto totales como sin Outliers y preprocesaremos los mismos haciendo un escalado de datos para evaluar el modelo. \n"
   ]
  },
  {
   "cell_type": "code",
   "execution_count": 92,
   "metadata": {},
   "outputs": [],
   "source": [
    "from sklearn.linear_model import LinearRegression\n",
    "from sklearn.model_selection import train_test_split"
   ]
  },
  {
   "cell_type": "code",
   "execution_count": 93,
   "metadata": {
    "tags": []
   },
   "outputs": [
    {
     "data": {
      "text/html": [
       "<div>\n",
       "<style scoped>\n",
       "    .dataframe tbody tr th:only-of-type {\n",
       "        vertical-align: middle;\n",
       "    }\n",
       "\n",
       "    .dataframe tbody tr th {\n",
       "        vertical-align: top;\n",
       "    }\n",
       "\n",
       "    .dataframe thead th {\n",
       "        text-align: right;\n",
       "    }\n",
       "</style>\n",
       "<table border=\"1\" class=\"dataframe\">\n",
       "  <thead>\n",
       "    <tr style=\"text-align: right;\">\n",
       "      <th></th>\n",
       "      <th>Modelo</th>\n",
       "      <th>Detalles</th>\n",
       "      <th>R2 train</th>\n",
       "      <th>R2 test</th>\n",
       "      <th>MAE train</th>\n",
       "      <th>MAE test</th>\n",
       "    </tr>\n",
       "  </thead>\n",
       "  <tbody>\n",
       "    <tr>\n",
       "      <th>0</th>\n",
       "      <td>Regresión Lineal</td>\n",
       "      <td>Sin procesar</td>\n",
       "      <td>0.7950</td>\n",
       "      <td>0.7158</td>\n",
       "      <td>116934.62433</td>\n",
       "      <td>115166.04626</td>\n",
       "    </tr>\n",
       "  </tbody>\n",
       "</table>\n",
       "</div>"
      ],
      "text/plain": [
       "             Modelo      Detalles R2 train R2 test     MAE train      MAE test\n",
       "0  Regresión Lineal  Sin procesar   0.7950  0.7158  116934.62433  115166.04626"
      ]
     },
     "execution_count": 93,
     "metadata": {},
     "output_type": "execute_result"
    }
   ],
   "source": [
    "#Definimos una función para aplicar regresiones lineales. \n",
    "def regresion_lineal(data,test_size=0.2,Prec_var='price'):\n",
    "    #definimos las variables den entrada y salida.\n",
    "    x = data.drop(Prec_var,axis=1)\n",
    "    y = data[Prec_var]\n",
    "    \n",
    "    #dividimos el conjunto\n",
    "    x_train,x_test,y_train,y_test = train_test_split(x,y,test_size=test_size)\n",
    "  \n",
    "    #definimos la instancia\n",
    "    lr = LinearRegression()\n",
    "    lr.fit(x_train,y_train)\n",
    "    \n",
    "    \n",
    "    #metricas de evaluación\n",
    "    r2_train = lr.score(x_train,y_train)\n",
    "    r2_test = lr.score(x_test,y_test)\n",
    "    \n",
    "    r2_train = \"{:.4f}\".format(r2_train)\n",
    "    r2_test = \"{:.4f}\".format(r2_test)\n",
    "    \n",
    "    #aplicamos el modelo\n",
    "    y_train_pred = lr.predict(x_train)\n",
    "    y_test_pred = lr.predict(x_test)\n",
    "    \n",
    "    MAE_train = error_absoluto_medio(y_train,y_train_pred)\n",
    "    \n",
    "    MAE_test = error_absoluto_medio(y_test,y_test_pred)\n",
    "    \n",
    "    return r2_train,r2_test,MAE_train,MAE_test\n",
    "\n",
    "r2_train,r2_test,MAE_train,MAE_test = regresion_lineal(data)\n",
    "\n",
    "\n",
    "final = resultados.shape[0]\n",
    "resultados.loc[final] = ['Regresión Lineal','Sin procesar',r2_train,r2_test,MAE_train,MAE_test]\n",
    "resultados"
   ]
  },
  {
   "cell_type": "code",
   "execution_count": 94,
   "metadata": {},
   "outputs": [],
   "source": [
    "file_path = \"../data/data_model_churriana_without_outliers.csv\"\n",
    "data2 = pd.read_csv(file_path, index_col = 0)"
   ]
  },
  {
   "cell_type": "code",
   "execution_count": 95,
   "metadata": {},
   "outputs": [
    {
     "data": {
      "text/html": [
       "<div>\n",
       "<style scoped>\n",
       "    .dataframe tbody tr th:only-of-type {\n",
       "        vertical-align: middle;\n",
       "    }\n",
       "\n",
       "    .dataframe tbody tr th {\n",
       "        vertical-align: top;\n",
       "    }\n",
       "\n",
       "    .dataframe thead th {\n",
       "        text-align: right;\n",
       "    }\n",
       "</style>\n",
       "<table border=\"1\" class=\"dataframe\">\n",
       "  <thead>\n",
       "    <tr style=\"text-align: right;\">\n",
       "      <th></th>\n",
       "      <th>Modelo</th>\n",
       "      <th>Detalles</th>\n",
       "      <th>R2 train</th>\n",
       "      <th>R2 test</th>\n",
       "      <th>MAE train</th>\n",
       "      <th>MAE test</th>\n",
       "    </tr>\n",
       "  </thead>\n",
       "  <tbody>\n",
       "    <tr>\n",
       "      <th>0</th>\n",
       "      <td>Regresión Lineal</td>\n",
       "      <td>Sin procesar</td>\n",
       "      <td>0.7950</td>\n",
       "      <td>0.7158</td>\n",
       "      <td>116934.624330</td>\n",
       "      <td>115166.046260</td>\n",
       "    </tr>\n",
       "    <tr>\n",
       "      <th>1</th>\n",
       "      <td>Regresión Lineal</td>\n",
       "      <td>Sin procesar / Sin outliers</td>\n",
       "      <td>0.8118</td>\n",
       "      <td>0.7028</td>\n",
       "      <td>56792.191768</td>\n",
       "      <td>88107.692013</td>\n",
       "    </tr>\n",
       "  </tbody>\n",
       "</table>\n",
       "</div>"
      ],
      "text/plain": [
       "             Modelo                     Detalles R2 train R2 test  \\\n",
       "0  Regresión Lineal                 Sin procesar   0.7950  0.7158   \n",
       "1  Regresión Lineal  Sin procesar / Sin outliers   0.8118  0.7028   \n",
       "\n",
       "       MAE train       MAE test  \n",
       "0  116934.624330  115166.046260  \n",
       "1   56792.191768   88107.692013  "
      ]
     },
     "execution_count": 95,
     "metadata": {},
     "output_type": "execute_result"
    }
   ],
   "source": [
    "r2_train,r2_test,MAE_train,MAE_test = regresion_lineal(data2)\n",
    "\n",
    "\n",
    "final = resultados.shape[0]\n",
    "resultados.loc[final] = ['Regresión Lineal','Sin procesar / Sin outliers',r2_train,r2_test,MAE_train,MAE_test]\n",
    "resultados"
   ]
  },
  {
   "cell_type": "markdown",
   "metadata": {},
   "source": [
    "#### **Escalación de los datos**"
   ]
  },
  {
   "cell_type": "code",
   "execution_count": 133,
   "metadata": {},
   "outputs": [
    {
     "data": {
      "text/plain": [
       "array(['latitude', 'longitude', 'energy_certification', 'room_number',\n",
       "       'bath_number', 'has_garden', 'has_terrace', 'has_parking',\n",
       "       'has_swimmingpool', 'has_lift', 'constructed_area',\n",
       "       'is_new_development', 'is_needs_renovating', 'is_goog_condition'],\n",
       "      dtype=object)"
      ]
     },
     "execution_count": 133,
     "metadata": {},
     "output_type": "execute_result"
    }
   ],
   "source": [
    "col_esc"
   ]
  },
  {
   "cell_type": "code",
   "execution_count": 134,
   "metadata": {},
   "outputs": [
    {
     "data": {
      "text/html": [
       "<div>\n",
       "<style scoped>\n",
       "    .dataframe tbody tr th:only-of-type {\n",
       "        vertical-align: middle;\n",
       "    }\n",
       "\n",
       "    .dataframe tbody tr th {\n",
       "        vertical-align: top;\n",
       "    }\n",
       "\n",
       "    .dataframe thead th {\n",
       "        text-align: right;\n",
       "    }\n",
       "</style>\n",
       "<table border=\"1\" class=\"dataframe\">\n",
       "  <thead>\n",
       "    <tr style=\"text-align: right;\">\n",
       "      <th></th>\n",
       "      <th>latitude</th>\n",
       "      <th>longitude</th>\n",
       "      <th>energy_certification</th>\n",
       "      <th>room_number</th>\n",
       "      <th>bath_number</th>\n",
       "      <th>has_garden</th>\n",
       "      <th>has_terrace</th>\n",
       "      <th>has_parking</th>\n",
       "      <th>has_swimmingpool</th>\n",
       "      <th>has_lift</th>\n",
       "      <th>constructed_area</th>\n",
       "      <th>is_new_development</th>\n",
       "      <th>is_needs_renovating</th>\n",
       "      <th>is_goog_condition</th>\n",
       "    </tr>\n",
       "  </thead>\n",
       "  <tbody>\n",
       "    <tr>\n",
       "      <th>0</th>\n",
       "      <td>0.104634</td>\n",
       "      <td>0.212265</td>\n",
       "      <td>0.875</td>\n",
       "      <td>0.230769</td>\n",
       "      <td>0.285714</td>\n",
       "      <td>1.0</td>\n",
       "      <td>1.0</td>\n",
       "      <td>1.0</td>\n",
       "      <td>1.0</td>\n",
       "      <td>0.0</td>\n",
       "      <td>0.058776</td>\n",
       "      <td>0.0</td>\n",
       "      <td>0.0</td>\n",
       "      <td>1.0</td>\n",
       "    </tr>\n",
       "    <tr>\n",
       "      <th>1</th>\n",
       "      <td>0.099171</td>\n",
       "      <td>0.174626</td>\n",
       "      <td>0.875</td>\n",
       "      <td>0.230769</td>\n",
       "      <td>0.142857</td>\n",
       "      <td>1.0</td>\n",
       "      <td>1.0</td>\n",
       "      <td>1.0</td>\n",
       "      <td>1.0</td>\n",
       "      <td>0.0</td>\n",
       "      <td>0.106122</td>\n",
       "      <td>0.0</td>\n",
       "      <td>0.0</td>\n",
       "      <td>1.0</td>\n",
       "    </tr>\n",
       "    <tr>\n",
       "      <th>2</th>\n",
       "      <td>0.086396</td>\n",
       "      <td>0.175551</td>\n",
       "      <td>0.875</td>\n",
       "      <td>0.307692</td>\n",
       "      <td>0.428571</td>\n",
       "      <td>1.0</td>\n",
       "      <td>1.0</td>\n",
       "      <td>0.0</td>\n",
       "      <td>1.0</td>\n",
       "      <td>0.0</td>\n",
       "      <td>0.146939</td>\n",
       "      <td>0.0</td>\n",
       "      <td>0.0</td>\n",
       "      <td>1.0</td>\n",
       "    </tr>\n",
       "    <tr>\n",
       "      <th>3</th>\n",
       "      <td>0.113152</td>\n",
       "      <td>0.162179</td>\n",
       "      <td>1.000</td>\n",
       "      <td>0.230769</td>\n",
       "      <td>0.142857</td>\n",
       "      <td>1.0</td>\n",
       "      <td>1.0</td>\n",
       "      <td>1.0</td>\n",
       "      <td>1.0</td>\n",
       "      <td>1.0</td>\n",
       "      <td>0.075918</td>\n",
       "      <td>1.0</td>\n",
       "      <td>0.0</td>\n",
       "      <td>0.0</td>\n",
       "    </tr>\n",
       "    <tr>\n",
       "      <th>4</th>\n",
       "      <td>0.113152</td>\n",
       "      <td>0.162179</td>\n",
       "      <td>1.000</td>\n",
       "      <td>0.076923</td>\n",
       "      <td>0.142857</td>\n",
       "      <td>0.0</td>\n",
       "      <td>1.0</td>\n",
       "      <td>1.0</td>\n",
       "      <td>1.0</td>\n",
       "      <td>1.0</td>\n",
       "      <td>0.040816</td>\n",
       "      <td>1.0</td>\n",
       "      <td>0.0</td>\n",
       "      <td>0.0</td>\n",
       "    </tr>\n",
       "    <tr>\n",
       "      <th>...</th>\n",
       "      <td>...</td>\n",
       "      <td>...</td>\n",
       "      <td>...</td>\n",
       "      <td>...</td>\n",
       "      <td>...</td>\n",
       "      <td>...</td>\n",
       "      <td>...</td>\n",
       "      <td>...</td>\n",
       "      <td>...</td>\n",
       "      <td>...</td>\n",
       "      <td>...</td>\n",
       "      <td>...</td>\n",
       "      <td>...</td>\n",
       "      <td>...</td>\n",
       "    </tr>\n",
       "    <tr>\n",
       "      <th>182</th>\n",
       "      <td>0.110686</td>\n",
       "      <td>0.159731</td>\n",
       "      <td>0.125</td>\n",
       "      <td>0.153846</td>\n",
       "      <td>0.285714</td>\n",
       "      <td>1.0</td>\n",
       "      <td>1.0</td>\n",
       "      <td>1.0</td>\n",
       "      <td>1.0</td>\n",
       "      <td>0.0</td>\n",
       "      <td>0.036735</td>\n",
       "      <td>0.0</td>\n",
       "      <td>0.0</td>\n",
       "      <td>1.0</td>\n",
       "    </tr>\n",
       "    <tr>\n",
       "      <th>183</th>\n",
       "      <td>0.095501</td>\n",
       "      <td>0.174078</td>\n",
       "      <td>0.500</td>\n",
       "      <td>0.230769</td>\n",
       "      <td>0.285714</td>\n",
       "      <td>1.0</td>\n",
       "      <td>1.0</td>\n",
       "      <td>1.0</td>\n",
       "      <td>0.0</td>\n",
       "      <td>0.0</td>\n",
       "      <td>0.071837</td>\n",
       "      <td>0.0</td>\n",
       "      <td>0.0</td>\n",
       "      <td>1.0</td>\n",
       "    </tr>\n",
       "    <tr>\n",
       "      <th>184</th>\n",
       "      <td>0.100987</td>\n",
       "      <td>0.159707</td>\n",
       "      <td>1.000</td>\n",
       "      <td>0.230769</td>\n",
       "      <td>0.142857</td>\n",
       "      <td>1.0</td>\n",
       "      <td>1.0</td>\n",
       "      <td>1.0</td>\n",
       "      <td>1.0</td>\n",
       "      <td>0.0</td>\n",
       "      <td>0.106122</td>\n",
       "      <td>0.0</td>\n",
       "      <td>0.0</td>\n",
       "      <td>1.0</td>\n",
       "    </tr>\n",
       "    <tr>\n",
       "      <th>185</th>\n",
       "      <td>0.094338</td>\n",
       "      <td>0.159240</td>\n",
       "      <td>0.875</td>\n",
       "      <td>0.153846</td>\n",
       "      <td>0.142857</td>\n",
       "      <td>1.0</td>\n",
       "      <td>1.0</td>\n",
       "      <td>1.0</td>\n",
       "      <td>1.0</td>\n",
       "      <td>0.0</td>\n",
       "      <td>0.029796</td>\n",
       "      <td>0.0</td>\n",
       "      <td>0.0</td>\n",
       "      <td>1.0</td>\n",
       "    </tr>\n",
       "    <tr>\n",
       "      <th>186</th>\n",
       "      <td>0.096930</td>\n",
       "      <td>0.180374</td>\n",
       "      <td>0.875</td>\n",
       "      <td>0.230769</td>\n",
       "      <td>0.285714</td>\n",
       "      <td>0.0</td>\n",
       "      <td>1.0</td>\n",
       "      <td>1.0</td>\n",
       "      <td>1.0</td>\n",
       "      <td>0.0</td>\n",
       "      <td>0.062041</td>\n",
       "      <td>0.0</td>\n",
       "      <td>0.0</td>\n",
       "      <td>1.0</td>\n",
       "    </tr>\n",
       "  </tbody>\n",
       "</table>\n",
       "<p>187 rows × 14 columns</p>\n",
       "</div>"
      ],
      "text/plain": [
       "     latitude  longitude  energy_certification  room_number  bath_number  \\\n",
       "0    0.104634   0.212265                 0.875     0.230769     0.285714   \n",
       "1    0.099171   0.174626                 0.875     0.230769     0.142857   \n",
       "2    0.086396   0.175551                 0.875     0.307692     0.428571   \n",
       "3    0.113152   0.162179                 1.000     0.230769     0.142857   \n",
       "4    0.113152   0.162179                 1.000     0.076923     0.142857   \n",
       "..        ...        ...                   ...          ...          ...   \n",
       "182  0.110686   0.159731                 0.125     0.153846     0.285714   \n",
       "183  0.095501   0.174078                 0.500     0.230769     0.285714   \n",
       "184  0.100987   0.159707                 1.000     0.230769     0.142857   \n",
       "185  0.094338   0.159240                 0.875     0.153846     0.142857   \n",
       "186  0.096930   0.180374                 0.875     0.230769     0.285714   \n",
       "\n",
       "     has_garden  has_terrace  has_parking  has_swimmingpool  has_lift  \\\n",
       "0           1.0          1.0          1.0               1.0       0.0   \n",
       "1           1.0          1.0          1.0               1.0       0.0   \n",
       "2           1.0          1.0          0.0               1.0       0.0   \n",
       "3           1.0          1.0          1.0               1.0       1.0   \n",
       "4           0.0          1.0          1.0               1.0       1.0   \n",
       "..          ...          ...          ...               ...       ...   \n",
       "182         1.0          1.0          1.0               1.0       0.0   \n",
       "183         1.0          1.0          1.0               0.0       0.0   \n",
       "184         1.0          1.0          1.0               1.0       0.0   \n",
       "185         1.0          1.0          1.0               1.0       0.0   \n",
       "186         0.0          1.0          1.0               1.0       0.0   \n",
       "\n",
       "     constructed_area  is_new_development  is_needs_renovating  \\\n",
       "0            0.058776                 0.0                  0.0   \n",
       "1            0.106122                 0.0                  0.0   \n",
       "2            0.146939                 0.0                  0.0   \n",
       "3            0.075918                 1.0                  0.0   \n",
       "4            0.040816                 1.0                  0.0   \n",
       "..                ...                 ...                  ...   \n",
       "182          0.036735                 0.0                  0.0   \n",
       "183          0.071837                 0.0                  0.0   \n",
       "184          0.106122                 0.0                  0.0   \n",
       "185          0.029796                 0.0                  0.0   \n",
       "186          0.062041                 0.0                  0.0   \n",
       "\n",
       "     is_goog_condition  \n",
       "0                  1.0  \n",
       "1                  1.0  \n",
       "2                  1.0  \n",
       "3                  0.0  \n",
       "4                  0.0  \n",
       "..                 ...  \n",
       "182                1.0  \n",
       "183                1.0  \n",
       "184                1.0  \n",
       "185                1.0  \n",
       "186                1.0  \n",
       "\n",
       "[187 rows x 14 columns]"
      ]
     },
     "execution_count": 134,
     "metadata": {},
     "output_type": "execute_result"
    }
   ],
   "source": [
    "data3[col_esc]"
   ]
  },
  {
   "cell_type": "code",
   "execution_count": 141,
   "metadata": {},
   "outputs": [],
   "source": [
    "from sklearn.preprocessing import MinMaxScaler\n",
    "aux1 =  data.drop('price',axis=1)\n",
    "col_esc = aux1.columns.values\n",
    "\n",
    "scale = MinMaxScaler()\n",
    "\n",
    "data3 = data\n",
    "data3[col_esc] = scale.fit_transform(data[col_esc])"
   ]
  },
  {
   "cell_type": "code",
   "execution_count": 142,
   "metadata": {
    "tags": []
   },
   "outputs": [
    {
     "data": {
      "text/html": [
       "<div>\n",
       "<style scoped>\n",
       "    .dataframe tbody tr th:only-of-type {\n",
       "        vertical-align: middle;\n",
       "    }\n",
       "\n",
       "    .dataframe tbody tr th {\n",
       "        vertical-align: top;\n",
       "    }\n",
       "\n",
       "    .dataframe thead th {\n",
       "        text-align: right;\n",
       "    }\n",
       "</style>\n",
       "<table border=\"1\" class=\"dataframe\">\n",
       "  <thead>\n",
       "    <tr style=\"text-align: right;\">\n",
       "      <th></th>\n",
       "      <th>latitude</th>\n",
       "      <th>longitude</th>\n",
       "      <th>price</th>\n",
       "      <th>energy_certification</th>\n",
       "      <th>room_number</th>\n",
       "      <th>bath_number</th>\n",
       "      <th>has_garden</th>\n",
       "      <th>has_terrace</th>\n",
       "      <th>has_parking</th>\n",
       "      <th>has_swimmingpool</th>\n",
       "      <th>has_lift</th>\n",
       "      <th>constructed_area</th>\n",
       "      <th>is_new_development</th>\n",
       "      <th>is_needs_renovating</th>\n",
       "      <th>is_goog_condition</th>\n",
       "    </tr>\n",
       "  </thead>\n",
       "  <tbody>\n",
       "    <tr>\n",
       "      <th>0</th>\n",
       "      <td>0.104634</td>\n",
       "      <td>0.212265</td>\n",
       "      <td>395000</td>\n",
       "      <td>0.875</td>\n",
       "      <td>0.230769</td>\n",
       "      <td>0.285714</td>\n",
       "      <td>1.0</td>\n",
       "      <td>1.0</td>\n",
       "      <td>1.0</td>\n",
       "      <td>1.0</td>\n",
       "      <td>0.0</td>\n",
       "      <td>0.058776</td>\n",
       "      <td>0.0</td>\n",
       "      <td>0.0</td>\n",
       "      <td>1.0</td>\n",
       "    </tr>\n",
       "    <tr>\n",
       "      <th>1</th>\n",
       "      <td>0.099171</td>\n",
       "      <td>0.174626</td>\n",
       "      <td>640000</td>\n",
       "      <td>0.875</td>\n",
       "      <td>0.230769</td>\n",
       "      <td>0.142857</td>\n",
       "      <td>1.0</td>\n",
       "      <td>1.0</td>\n",
       "      <td>1.0</td>\n",
       "      <td>1.0</td>\n",
       "      <td>0.0</td>\n",
       "      <td>0.106122</td>\n",
       "      <td>0.0</td>\n",
       "      <td>0.0</td>\n",
       "      <td>1.0</td>\n",
       "    </tr>\n",
       "    <tr>\n",
       "      <th>2</th>\n",
       "      <td>0.086396</td>\n",
       "      <td>0.175551</td>\n",
       "      <td>567000</td>\n",
       "      <td>0.875</td>\n",
       "      <td>0.307692</td>\n",
       "      <td>0.428571</td>\n",
       "      <td>1.0</td>\n",
       "      <td>1.0</td>\n",
       "      <td>0.0</td>\n",
       "      <td>1.0</td>\n",
       "      <td>0.0</td>\n",
       "      <td>0.146939</td>\n",
       "      <td>0.0</td>\n",
       "      <td>0.0</td>\n",
       "      <td>1.0</td>\n",
       "    </tr>\n",
       "    <tr>\n",
       "      <th>3</th>\n",
       "      <td>0.113152</td>\n",
       "      <td>0.162179</td>\n",
       "      <td>375900</td>\n",
       "      <td>1.000</td>\n",
       "      <td>0.230769</td>\n",
       "      <td>0.142857</td>\n",
       "      <td>1.0</td>\n",
       "      <td>1.0</td>\n",
       "      <td>1.0</td>\n",
       "      <td>1.0</td>\n",
       "      <td>1.0</td>\n",
       "      <td>0.075918</td>\n",
       "      <td>1.0</td>\n",
       "      <td>0.0</td>\n",
       "      <td>0.0</td>\n",
       "    </tr>\n",
       "    <tr>\n",
       "      <th>4</th>\n",
       "      <td>0.113152</td>\n",
       "      <td>0.162179</td>\n",
       "      <td>249900</td>\n",
       "      <td>1.000</td>\n",
       "      <td>0.076923</td>\n",
       "      <td>0.142857</td>\n",
       "      <td>0.0</td>\n",
       "      <td>1.0</td>\n",
       "      <td>1.0</td>\n",
       "      <td>1.0</td>\n",
       "      <td>1.0</td>\n",
       "      <td>0.040816</td>\n",
       "      <td>1.0</td>\n",
       "      <td>0.0</td>\n",
       "      <td>0.0</td>\n",
       "    </tr>\n",
       "  </tbody>\n",
       "</table>\n",
       "</div>"
      ],
      "text/plain": [
       "   latitude  longitude   price  energy_certification  room_number  \\\n",
       "0  0.104634   0.212265  395000                 0.875     0.230769   \n",
       "1  0.099171   0.174626  640000                 0.875     0.230769   \n",
       "2  0.086396   0.175551  567000                 0.875     0.307692   \n",
       "3  0.113152   0.162179  375900                 1.000     0.230769   \n",
       "4  0.113152   0.162179  249900                 1.000     0.076923   \n",
       "\n",
       "   bath_number  has_garden  has_terrace  has_parking  has_swimmingpool  \\\n",
       "0     0.285714         1.0          1.0          1.0               1.0   \n",
       "1     0.142857         1.0          1.0          1.0               1.0   \n",
       "2     0.428571         1.0          1.0          0.0               1.0   \n",
       "3     0.142857         1.0          1.0          1.0               1.0   \n",
       "4     0.142857         0.0          1.0          1.0               1.0   \n",
       "\n",
       "   has_lift  constructed_area  is_new_development  is_needs_renovating  \\\n",
       "0       0.0          0.058776                 0.0                  0.0   \n",
       "1       0.0          0.106122                 0.0                  0.0   \n",
       "2       0.0          0.146939                 0.0                  0.0   \n",
       "3       1.0          0.075918                 1.0                  0.0   \n",
       "4       1.0          0.040816                 1.0                  0.0   \n",
       "\n",
       "   is_goog_condition  \n",
       "0                1.0  \n",
       "1                1.0  \n",
       "2                1.0  \n",
       "3                0.0  \n",
       "4                0.0  "
      ]
     },
     "execution_count": 142,
     "metadata": {},
     "output_type": "execute_result"
    }
   ],
   "source": [
    "data3.head()"
   ]
  },
  {
   "cell_type": "code",
   "execution_count": 98,
   "metadata": {},
   "outputs": [
    {
     "data": {
      "text/html": [
       "<div>\n",
       "<style scoped>\n",
       "    .dataframe tbody tr th:only-of-type {\n",
       "        vertical-align: middle;\n",
       "    }\n",
       "\n",
       "    .dataframe tbody tr th {\n",
       "        vertical-align: top;\n",
       "    }\n",
       "\n",
       "    .dataframe thead th {\n",
       "        text-align: right;\n",
       "    }\n",
       "</style>\n",
       "<table border=\"1\" class=\"dataframe\">\n",
       "  <thead>\n",
       "    <tr style=\"text-align: right;\">\n",
       "      <th></th>\n",
       "      <th>latitude</th>\n",
       "      <th>longitude</th>\n",
       "      <th>price</th>\n",
       "      <th>energy_certification</th>\n",
       "      <th>room_number</th>\n",
       "      <th>bath_number</th>\n",
       "      <th>has_garden</th>\n",
       "      <th>has_terrace</th>\n",
       "      <th>has_parking</th>\n",
       "      <th>has_swimmingpool</th>\n",
       "      <th>has_lift</th>\n",
       "      <th>constructed_area</th>\n",
       "      <th>is_new_development</th>\n",
       "      <th>is_needs_renovating</th>\n",
       "      <th>is_goog_condition</th>\n",
       "    </tr>\n",
       "  </thead>\n",
       "  <tbody>\n",
       "    <tr>\n",
       "      <th>count</th>\n",
       "      <td>187.000000</td>\n",
       "      <td>187.000000</td>\n",
       "      <td>1.870000e+02</td>\n",
       "      <td>187.000000</td>\n",
       "      <td>187.000000</td>\n",
       "      <td>187.000000</td>\n",
       "      <td>187.000000</td>\n",
       "      <td>187.000000</td>\n",
       "      <td>187.000000</td>\n",
       "      <td>187.00000</td>\n",
       "      <td>187.000000</td>\n",
       "      <td>187.000000</td>\n",
       "      <td>187.000000</td>\n",
       "      <td>187.000000</td>\n",
       "      <td>187.000000</td>\n",
       "    </tr>\n",
       "    <tr>\n",
       "      <th>mean</th>\n",
       "      <td>0.152275</td>\n",
       "      <td>0.226678</td>\n",
       "      <td>4.829937e+05</td>\n",
       "      <td>0.679813</td>\n",
       "      <td>0.201974</td>\n",
       "      <td>0.222307</td>\n",
       "      <td>0.609626</td>\n",
       "      <td>0.860963</td>\n",
       "      <td>0.812834</td>\n",
       "      <td>0.73262</td>\n",
       "      <td>0.422460</td>\n",
       "      <td>0.078952</td>\n",
       "      <td>0.229947</td>\n",
       "      <td>0.053476</td>\n",
       "      <td>0.716578</td>\n",
       "    </tr>\n",
       "    <tr>\n",
       "      <th>std</th>\n",
       "      <td>0.211999</td>\n",
       "      <td>0.193632</td>\n",
       "      <td>5.127819e+05</td>\n",
       "      <td>0.301770</td>\n",
       "      <td>0.125336</td>\n",
       "      <td>0.199341</td>\n",
       "      <td>0.489144</td>\n",
       "      <td>0.346914</td>\n",
       "      <td>0.391092</td>\n",
       "      <td>0.44378</td>\n",
       "      <td>0.495277</td>\n",
       "      <td>0.110337</td>\n",
       "      <td>0.421928</td>\n",
       "      <td>0.225585</td>\n",
       "      <td>0.451870</td>\n",
       "    </tr>\n",
       "    <tr>\n",
       "      <th>min</th>\n",
       "      <td>0.000000</td>\n",
       "      <td>0.000000</td>\n",
       "      <td>5.490000e+04</td>\n",
       "      <td>0.000000</td>\n",
       "      <td>0.000000</td>\n",
       "      <td>0.000000</td>\n",
       "      <td>0.000000</td>\n",
       "      <td>0.000000</td>\n",
       "      <td>0.000000</td>\n",
       "      <td>0.00000</td>\n",
       "      <td>0.000000</td>\n",
       "      <td>0.000000</td>\n",
       "      <td>0.000000</td>\n",
       "      <td>0.000000</td>\n",
       "      <td>0.000000</td>\n",
       "    </tr>\n",
       "    <tr>\n",
       "      <th>25%</th>\n",
       "      <td>0.091272</td>\n",
       "      <td>0.171782</td>\n",
       "      <td>2.499000e+05</td>\n",
       "      <td>0.500000</td>\n",
       "      <td>0.153846</td>\n",
       "      <td>0.142857</td>\n",
       "      <td>0.000000</td>\n",
       "      <td>1.000000</td>\n",
       "      <td>1.000000</td>\n",
       "      <td>0.00000</td>\n",
       "      <td>0.000000</td>\n",
       "      <td>0.023878</td>\n",
       "      <td>0.000000</td>\n",
       "      <td>0.000000</td>\n",
       "      <td>0.000000</td>\n",
       "    </tr>\n",
       "    <tr>\n",
       "      <th>50%</th>\n",
       "      <td>0.099349</td>\n",
       "      <td>0.176613</td>\n",
       "      <td>2.999900e+05</td>\n",
       "      <td>0.750000</td>\n",
       "      <td>0.153846</td>\n",
       "      <td>0.142857</td>\n",
       "      <td>1.000000</td>\n",
       "      <td>1.000000</td>\n",
       "      <td>1.000000</td>\n",
       "      <td>1.00000</td>\n",
       "      <td>0.000000</td>\n",
       "      <td>0.041633</td>\n",
       "      <td>0.000000</td>\n",
       "      <td>0.000000</td>\n",
       "      <td>1.000000</td>\n",
       "    </tr>\n",
       "    <tr>\n",
       "      <th>75%</th>\n",
       "      <td>0.113012</td>\n",
       "      <td>0.187782</td>\n",
       "      <td>5.670000e+05</td>\n",
       "      <td>1.000000</td>\n",
       "      <td>0.230769</td>\n",
       "      <td>0.285714</td>\n",
       "      <td>1.000000</td>\n",
       "      <td>1.000000</td>\n",
       "      <td>1.000000</td>\n",
       "      <td>1.00000</td>\n",
       "      <td>1.000000</td>\n",
       "      <td>0.084082</td>\n",
       "      <td>0.000000</td>\n",
       "      <td>0.000000</td>\n",
       "      <td>1.000000</td>\n",
       "    </tr>\n",
       "    <tr>\n",
       "      <th>max</th>\n",
       "      <td>1.000000</td>\n",
       "      <td>1.000000</td>\n",
       "      <td>5.000000e+06</td>\n",
       "      <td>1.000000</td>\n",
       "      <td>1.000000</td>\n",
       "      <td>1.000000</td>\n",
       "      <td>1.000000</td>\n",
       "      <td>1.000000</td>\n",
       "      <td>1.000000</td>\n",
       "      <td>1.00000</td>\n",
       "      <td>1.000000</td>\n",
       "      <td>1.000000</td>\n",
       "      <td>1.000000</td>\n",
       "      <td>1.000000</td>\n",
       "      <td>1.000000</td>\n",
       "    </tr>\n",
       "  </tbody>\n",
       "</table>\n",
       "</div>"
      ],
      "text/plain": [
       "         latitude   longitude         price  energy_certification  \\\n",
       "count  187.000000  187.000000  1.870000e+02            187.000000   \n",
       "mean     0.152275    0.226678  4.829937e+05              0.679813   \n",
       "std      0.211999    0.193632  5.127819e+05              0.301770   \n",
       "min      0.000000    0.000000  5.490000e+04              0.000000   \n",
       "25%      0.091272    0.171782  2.499000e+05              0.500000   \n",
       "50%      0.099349    0.176613  2.999900e+05              0.750000   \n",
       "75%      0.113012    0.187782  5.670000e+05              1.000000   \n",
       "max      1.000000    1.000000  5.000000e+06              1.000000   \n",
       "\n",
       "       room_number  bath_number  has_garden  has_terrace  has_parking  \\\n",
       "count   187.000000   187.000000  187.000000   187.000000   187.000000   \n",
       "mean      0.201974     0.222307    0.609626     0.860963     0.812834   \n",
       "std       0.125336     0.199341    0.489144     0.346914     0.391092   \n",
       "min       0.000000     0.000000    0.000000     0.000000     0.000000   \n",
       "25%       0.153846     0.142857    0.000000     1.000000     1.000000   \n",
       "50%       0.153846     0.142857    1.000000     1.000000     1.000000   \n",
       "75%       0.230769     0.285714    1.000000     1.000000     1.000000   \n",
       "max       1.000000     1.000000    1.000000     1.000000     1.000000   \n",
       "\n",
       "       has_swimmingpool    has_lift  constructed_area  is_new_development  \\\n",
       "count         187.00000  187.000000        187.000000          187.000000   \n",
       "mean            0.73262    0.422460          0.078952            0.229947   \n",
       "std             0.44378    0.495277          0.110337            0.421928   \n",
       "min             0.00000    0.000000          0.000000            0.000000   \n",
       "25%             0.00000    0.000000          0.023878            0.000000   \n",
       "50%             1.00000    0.000000          0.041633            0.000000   \n",
       "75%             1.00000    1.000000          0.084082            0.000000   \n",
       "max             1.00000    1.000000          1.000000            1.000000   \n",
       "\n",
       "       is_needs_renovating  is_goog_condition  \n",
       "count           187.000000         187.000000  \n",
       "mean              0.053476           0.716578  \n",
       "std               0.225585           0.451870  \n",
       "min               0.000000           0.000000  \n",
       "25%               0.000000           0.000000  \n",
       "50%               0.000000           1.000000  \n",
       "75%               0.000000           1.000000  \n",
       "max               1.000000           1.000000  "
      ]
     },
     "execution_count": 98,
     "metadata": {},
     "output_type": "execute_result"
    }
   ],
   "source": [
    "data.describe()"
   ]
  },
  {
   "cell_type": "code",
   "execution_count": 99,
   "metadata": {},
   "outputs": [
    {
     "data": {
      "text/html": [
       "<div>\n",
       "<style scoped>\n",
       "    .dataframe tbody tr th:only-of-type {\n",
       "        vertical-align: middle;\n",
       "    }\n",
       "\n",
       "    .dataframe tbody tr th {\n",
       "        vertical-align: top;\n",
       "    }\n",
       "\n",
       "    .dataframe thead th {\n",
       "        text-align: right;\n",
       "    }\n",
       "</style>\n",
       "<table border=\"1\" class=\"dataframe\">\n",
       "  <thead>\n",
       "    <tr style=\"text-align: right;\">\n",
       "      <th></th>\n",
       "      <th>Modelo</th>\n",
       "      <th>Detalles</th>\n",
       "      <th>R2 train</th>\n",
       "      <th>R2 test</th>\n",
       "      <th>MAE train</th>\n",
       "      <th>MAE test</th>\n",
       "    </tr>\n",
       "  </thead>\n",
       "  <tbody>\n",
       "    <tr>\n",
       "      <th>0</th>\n",
       "      <td>Regresión Lineal</td>\n",
       "      <td>Sin procesar</td>\n",
       "      <td>0.7950</td>\n",
       "      <td>0.7158</td>\n",
       "      <td>116934.624330</td>\n",
       "      <td>115166.046260</td>\n",
       "    </tr>\n",
       "    <tr>\n",
       "      <th>1</th>\n",
       "      <td>Regresión Lineal</td>\n",
       "      <td>Sin procesar / Sin outliers</td>\n",
       "      <td>0.8118</td>\n",
       "      <td>0.7028</td>\n",
       "      <td>56792.191768</td>\n",
       "      <td>88107.692013</td>\n",
       "    </tr>\n",
       "    <tr>\n",
       "      <th>2</th>\n",
       "      <td>Regresión Lineal</td>\n",
       "      <td>Datos escalados</td>\n",
       "      <td>0.7862</td>\n",
       "      <td>0.8427</td>\n",
       "      <td>124144.086985</td>\n",
       "      <td>91857.539317</td>\n",
       "    </tr>\n",
       "  </tbody>\n",
       "</table>\n",
       "</div>"
      ],
      "text/plain": [
       "             Modelo                     Detalles R2 train R2 test  \\\n",
       "0  Regresión Lineal                 Sin procesar   0.7950  0.7158   \n",
       "1  Regresión Lineal  Sin procesar / Sin outliers   0.8118  0.7028   \n",
       "2  Regresión Lineal              Datos escalados   0.7862  0.8427   \n",
       "\n",
       "       MAE train       MAE test  \n",
       "0  116934.624330  115166.046260  \n",
       "1   56792.191768   88107.692013  \n",
       "2  124144.086985   91857.539317  "
      ]
     },
     "execution_count": 99,
     "metadata": {},
     "output_type": "execute_result"
    }
   ],
   "source": [
    "r2_train,r2_test,MAE_train,MAE_test = regresion_lineal(data3)\n",
    "\n",
    "\n",
    "final = resultados.shape[0]\n",
    "resultados.loc[final] = ['Regresión Lineal','Datos escalados',r2_train,r2_test,MAE_train,MAE_test]\n",
    "resultados"
   ]
  },
  {
   "cell_type": "code",
   "execution_count": 100,
   "metadata": {},
   "outputs": [],
   "source": [
    "aux2 =  data2.drop('price',axis=1)\n",
    "col_esc1 = aux2.columns.values\n",
    "\n",
    "scale = MinMaxScaler()\n",
    "\n",
    "data4 = data2\n",
    "data4[col_esc] = scale.fit_transform(data2[col_esc])"
   ]
  },
  {
   "cell_type": "code",
   "execution_count": 101,
   "metadata": {},
   "outputs": [
    {
     "data": {
      "text/html": [
       "<div>\n",
       "<style scoped>\n",
       "    .dataframe tbody tr th:only-of-type {\n",
       "        vertical-align: middle;\n",
       "    }\n",
       "\n",
       "    .dataframe tbody tr th {\n",
       "        vertical-align: top;\n",
       "    }\n",
       "\n",
       "    .dataframe thead th {\n",
       "        text-align: right;\n",
       "    }\n",
       "</style>\n",
       "<table border=\"1\" class=\"dataframe\">\n",
       "  <thead>\n",
       "    <tr style=\"text-align: right;\">\n",
       "      <th></th>\n",
       "      <th>Modelo</th>\n",
       "      <th>Detalles</th>\n",
       "      <th>R2 train</th>\n",
       "      <th>R2 test</th>\n",
       "      <th>MAE train</th>\n",
       "      <th>MAE test</th>\n",
       "    </tr>\n",
       "  </thead>\n",
       "  <tbody>\n",
       "    <tr>\n",
       "      <th>0</th>\n",
       "      <td>Regresión Lineal</td>\n",
       "      <td>Sin procesar</td>\n",
       "      <td>0.7950</td>\n",
       "      <td>0.7158</td>\n",
       "      <td>116934.624330</td>\n",
       "      <td>115166.046260</td>\n",
       "    </tr>\n",
       "    <tr>\n",
       "      <th>1</th>\n",
       "      <td>Regresión Lineal</td>\n",
       "      <td>Sin procesar / Sin outliers</td>\n",
       "      <td>0.8118</td>\n",
       "      <td>0.7028</td>\n",
       "      <td>56792.191768</td>\n",
       "      <td>88107.692013</td>\n",
       "    </tr>\n",
       "    <tr>\n",
       "      <th>2</th>\n",
       "      <td>Regresión Lineal</td>\n",
       "      <td>Datos escalados</td>\n",
       "      <td>0.7862</td>\n",
       "      <td>0.8427</td>\n",
       "      <td>124144.086985</td>\n",
       "      <td>91857.539317</td>\n",
       "    </tr>\n",
       "    <tr>\n",
       "      <th>3</th>\n",
       "      <td>Regresión Lineal</td>\n",
       "      <td>Datos escalados / Sin outliers</td>\n",
       "      <td>0.7882</td>\n",
       "      <td>0.6828</td>\n",
       "      <td>67404.389758</td>\n",
       "      <td>57682.446079</td>\n",
       "    </tr>\n",
       "  </tbody>\n",
       "</table>\n",
       "</div>"
      ],
      "text/plain": [
       "             Modelo                        Detalles R2 train R2 test  \\\n",
       "0  Regresión Lineal                    Sin procesar   0.7950  0.7158   \n",
       "1  Regresión Lineal     Sin procesar / Sin outliers   0.8118  0.7028   \n",
       "2  Regresión Lineal                 Datos escalados   0.7862  0.8427   \n",
       "3  Regresión Lineal  Datos escalados / Sin outliers   0.7882  0.6828   \n",
       "\n",
       "       MAE train       MAE test  \n",
       "0  116934.624330  115166.046260  \n",
       "1   56792.191768   88107.692013  \n",
       "2  124144.086985   91857.539317  \n",
       "3   67404.389758   57682.446079  "
      ]
     },
     "execution_count": 101,
     "metadata": {},
     "output_type": "execute_result"
    }
   ],
   "source": [
    "r2_train,r2_test,MAE_train,MAE_test = regresion_lineal(data4)\n",
    "\n",
    "\n",
    "final = resultados.shape[0]\n",
    "resultados.loc[final] = ['Regresión Lineal','Datos escalados / Sin outliers',r2_train,r2_test,MAE_train,MAE_test]\n",
    "resultados"
   ]
  },
  {
   "cell_type": "code",
   "execution_count": 132,
   "metadata": {},
   "outputs": [
    {
     "ename": "NameError",
     "evalue": "name 'y_train_pred' is not defined",
     "output_type": "error",
     "traceback": [
      "\u001b[0;31m---------------------------------------------------------------------------\u001b[0m",
      "\u001b[0;31mNameError\u001b[0m                                 Traceback (most recent call last)",
      "Cell \u001b[0;32mIn[132], line 1\u001b[0m\n\u001b[0;32m----> 1\u001b[0m residuals \u001b[38;5;241m=\u001b[39m y_train \u001b[38;5;241m-\u001b[39m \u001b[43my_train_pred\u001b[49m\n\u001b[1;32m      3\u001b[0m \u001b[38;5;66;03m# Gráfico de los residuos\u001b[39;00m\n\u001b[1;32m      4\u001b[0m plt\u001b[38;5;241m.\u001b[39mscatter(y_train_pred, residuals)\n",
      "\u001b[0;31mNameError\u001b[0m: name 'y_train_pred' is not defined"
     ]
    }
   ],
   "source": [
    "residuals = y_train - y_train_pred\n",
    "\n",
    "# Gráfico de los residuos\n",
    "plt.scatter(y_train_pred, residuals)\n",
    "plt.xlabel(\"Prediction\")\n",
    "plt.ylabel(\"Residuals\")\n",
    "plt.show()\n",
    "\n",
    "# Verificación de la normalidad de los residuos\n",
    "plt.hist(residuals, bins=50)\n",
    "plt.xlabel(\"Residuals\")\n",
    "plt.ylabel(\"Count\")\n",
    "plt.show()"
   ]
  },
  {
   "cell_type": "markdown",
   "metadata": {},
   "source": [
    "### **Selección del modelo de regresión**<br>\n",
    "* Al usar la regresion lineal obtenemos un porcentaje de precisión del 82%. \n",
    "* Los datos sin outliers y escalados son los que presentan mejor rendimiento para el modelo de regresión lineal.\n",
    "<br>\n",
    "\n",
    "Este resultado no está mal pero dado que el dataset posee varias características que no presentan una relación lineal con el precio, probaremos con modelos más flexibles.\n",
    "<br><br>\n",
    "#### **Regresión polinómica**\n"
   ]
  },
  {
   "cell_type": "code",
   "execution_count": 102,
   "metadata": {},
   "outputs": [],
   "source": [
    "file_path = \"../data/data_model_churriana_malaga.csv\"\n",
    "data = pd.read_csv(file_path, index_col = 0)"
   ]
  },
  {
   "cell_type": "code",
   "execution_count": 103,
   "metadata": {
    "tags": []
   },
   "outputs": [
    {
     "data": {
      "text/html": [
       "<div>\n",
       "<style scoped>\n",
       "    .dataframe tbody tr th:only-of-type {\n",
       "        vertical-align: middle;\n",
       "    }\n",
       "\n",
       "    .dataframe tbody tr th {\n",
       "        vertical-align: top;\n",
       "    }\n",
       "\n",
       "    .dataframe thead th {\n",
       "        text-align: right;\n",
       "    }\n",
       "</style>\n",
       "<table border=\"1\" class=\"dataframe\">\n",
       "  <thead>\n",
       "    <tr style=\"text-align: right;\">\n",
       "      <th></th>\n",
       "      <th>Modelo</th>\n",
       "      <th>Detalles</th>\n",
       "      <th>R2 train</th>\n",
       "      <th>R2 test</th>\n",
       "      <th>MAE train</th>\n",
       "      <th>MAE test</th>\n",
       "    </tr>\n",
       "  </thead>\n",
       "  <tbody>\n",
       "    <tr>\n",
       "      <th>0</th>\n",
       "      <td>Regresión Lineal</td>\n",
       "      <td>Sin procesar</td>\n",
       "      <td>0.7950</td>\n",
       "      <td>0.7158</td>\n",
       "      <td>116934.624330</td>\n",
       "      <td>1.151660e+05</td>\n",
       "    </tr>\n",
       "    <tr>\n",
       "      <th>1</th>\n",
       "      <td>Regresión Lineal</td>\n",
       "      <td>Sin procesar / Sin outliers</td>\n",
       "      <td>0.8118</td>\n",
       "      <td>0.7028</td>\n",
       "      <td>56792.191768</td>\n",
       "      <td>8.810769e+04</td>\n",
       "    </tr>\n",
       "    <tr>\n",
       "      <th>2</th>\n",
       "      <td>Regresión Lineal</td>\n",
       "      <td>Datos escalados</td>\n",
       "      <td>0.7862</td>\n",
       "      <td>0.8427</td>\n",
       "      <td>124144.086985</td>\n",
       "      <td>9.185754e+04</td>\n",
       "    </tr>\n",
       "    <tr>\n",
       "      <th>3</th>\n",
       "      <td>Regresión Lineal</td>\n",
       "      <td>Datos escalados / Sin outliers</td>\n",
       "      <td>0.7882</td>\n",
       "      <td>0.6828</td>\n",
       "      <td>67404.389758</td>\n",
       "      <td>5.768245e+04</td>\n",
       "    </tr>\n",
       "    <tr>\n",
       "      <th>4</th>\n",
       "      <td>Regresión Polinómica</td>\n",
       "      <td>Sin procesar / Grado 3</td>\n",
       "      <td>0.9805</td>\n",
       "      <td>-1258401276.6614</td>\n",
       "      <td>38457.782036</td>\n",
       "      <td>6.741033e+09</td>\n",
       "    </tr>\n",
       "  </tbody>\n",
       "</table>\n",
       "</div>"
      ],
      "text/plain": [
       "                 Modelo                        Detalles R2 train  \\\n",
       "0      Regresión Lineal                    Sin procesar   0.7950   \n",
       "1      Regresión Lineal     Sin procesar / Sin outliers   0.8118   \n",
       "2      Regresión Lineal                 Datos escalados   0.7862   \n",
       "3      Regresión Lineal  Datos escalados / Sin outliers   0.7882   \n",
       "4  Regresión Polinómica          Sin procesar / Grado 3   0.9805   \n",
       "\n",
       "            R2 test      MAE train      MAE test  \n",
       "0            0.7158  116934.624330  1.151660e+05  \n",
       "1            0.7028   56792.191768  8.810769e+04  \n",
       "2            0.8427  124144.086985  9.185754e+04  \n",
       "3            0.6828   67404.389758  5.768245e+04  \n",
       "4  -1258401276.6614   38457.782036  6.741033e+09  "
      ]
     },
     "execution_count": 103,
     "metadata": {},
     "output_type": "execute_result"
    }
   ],
   "source": [
    "from sklearn.preprocessing import PolynomialFeatures\n",
    "\n",
    "def regresion_poli(data,degree=2,test_size=0.2,Prec_var='price'):\n",
    "    x = data.drop(Prec_var,axis=1)\n",
    "    y = data[Prec_var]\n",
    "    \n",
    "    poly = PolynomialFeatures(degree=2,)\n",
    "    x_poly = poly.fit_transform(x)\n",
    "    \n",
    "    x_train,x_test,y_train,y_test = train_test_split(x_poly,y,test_size=test_size)\n",
    "        \n",
    "    lr = LinearRegression()\n",
    "    lr.fit(x_train,y_train)\n",
    "    \n",
    "    r2_train = lr.score(x_train,y_train)\n",
    "    r2_test = lr.score(x_test,y_test)\n",
    "    \n",
    "    r2_train = \"{:.4f}\".format(r2_train)\n",
    "    r2_test = \"{:.4f}\".format(r2_test)\n",
    "    \n",
    "    y_train_pred = lr.predict(x_train)\n",
    "    y_test_pred = lr.predict(x_test)\n",
    "    \n",
    "    MAE_train,MAE_test = error_gen(y_train,y_train_pred,y_test,y_test_pred)\n",
    "    \n",
    "\n",
    "    return r2_train,r2_test,MAE_train,MAE_test\n",
    "\n",
    "r2_train,r2_test,MAE_train,MAE_test = regresion_poli(data,degree=3)\n",
    "final = resultados.shape[0]\n",
    "resultados.loc[final] = ['Regresión Polinómica','Sin procesar / Grado 3',r2_train,r2_test,MAE_train,MAE_test]\n",
    "resultados"
   ]
  },
  {
   "cell_type": "markdown",
   "metadata": {},
   "source": [
    "**Regresión polinómica datos sin outliers**"
   ]
  },
  {
   "cell_type": "code",
   "execution_count": 104,
   "metadata": {},
   "outputs": [],
   "source": [
    "file_path = \"../data/data_model_churriana_without_outliers.csv\"\n",
    "data2 = pd.read_csv(file_path, index_col = 0)"
   ]
  },
  {
   "cell_type": "code",
   "execution_count": 105,
   "metadata": {},
   "outputs": [
    {
     "data": {
      "text/html": [
       "<div>\n",
       "<style scoped>\n",
       "    .dataframe tbody tr th:only-of-type {\n",
       "        vertical-align: middle;\n",
       "    }\n",
       "\n",
       "    .dataframe tbody tr th {\n",
       "        vertical-align: top;\n",
       "    }\n",
       "\n",
       "    .dataframe thead th {\n",
       "        text-align: right;\n",
       "    }\n",
       "</style>\n",
       "<table border=\"1\" class=\"dataframe\">\n",
       "  <thead>\n",
       "    <tr style=\"text-align: right;\">\n",
       "      <th></th>\n",
       "      <th>Modelo</th>\n",
       "      <th>Detalles</th>\n",
       "      <th>R2 train</th>\n",
       "      <th>R2 test</th>\n",
       "      <th>MAE train</th>\n",
       "      <th>MAE test</th>\n",
       "    </tr>\n",
       "  </thead>\n",
       "  <tbody>\n",
       "    <tr>\n",
       "      <th>0</th>\n",
       "      <td>Regresión Lineal</td>\n",
       "      <td>Sin procesar</td>\n",
       "      <td>0.7950</td>\n",
       "      <td>0.7158</td>\n",
       "      <td>116934.624330</td>\n",
       "      <td>1.151660e+05</td>\n",
       "    </tr>\n",
       "    <tr>\n",
       "      <th>1</th>\n",
       "      <td>Regresión Lineal</td>\n",
       "      <td>Sin procesar / Sin outliers</td>\n",
       "      <td>0.8118</td>\n",
       "      <td>0.7028</td>\n",
       "      <td>56792.191768</td>\n",
       "      <td>8.810769e+04</td>\n",
       "    </tr>\n",
       "    <tr>\n",
       "      <th>2</th>\n",
       "      <td>Regresión Lineal</td>\n",
       "      <td>Datos escalados</td>\n",
       "      <td>0.7862</td>\n",
       "      <td>0.8427</td>\n",
       "      <td>124144.086985</td>\n",
       "      <td>9.185754e+04</td>\n",
       "    </tr>\n",
       "    <tr>\n",
       "      <th>3</th>\n",
       "      <td>Regresión Lineal</td>\n",
       "      <td>Datos escalados / Sin outliers</td>\n",
       "      <td>0.7882</td>\n",
       "      <td>0.6828</td>\n",
       "      <td>67404.389758</td>\n",
       "      <td>5.768245e+04</td>\n",
       "    </tr>\n",
       "    <tr>\n",
       "      <th>4</th>\n",
       "      <td>Regresión Polinómica</td>\n",
       "      <td>Sin procesar / Grado 3</td>\n",
       "      <td>0.9805</td>\n",
       "      <td>-1258401276.6614</td>\n",
       "      <td>38457.782036</td>\n",
       "      <td>6.741033e+09</td>\n",
       "    </tr>\n",
       "    <tr>\n",
       "      <th>5</th>\n",
       "      <td>Regresión Polinómica</td>\n",
       "      <td>Sin procesar / Grado 3 / Sin outliers</td>\n",
       "      <td>0.4521</td>\n",
       "      <td>-10467.3640</td>\n",
       "      <td>102359.688419</td>\n",
       "      <td>6.097405e+06</td>\n",
       "    </tr>\n",
       "  </tbody>\n",
       "</table>\n",
       "</div>"
      ],
      "text/plain": [
       "                 Modelo                               Detalles R2 train  \\\n",
       "0      Regresión Lineal                           Sin procesar   0.7950   \n",
       "1      Regresión Lineal            Sin procesar / Sin outliers   0.8118   \n",
       "2      Regresión Lineal                        Datos escalados   0.7862   \n",
       "3      Regresión Lineal         Datos escalados / Sin outliers   0.7882   \n",
       "4  Regresión Polinómica                 Sin procesar / Grado 3   0.9805   \n",
       "5  Regresión Polinómica  Sin procesar / Grado 3 / Sin outliers   0.4521   \n",
       "\n",
       "            R2 test      MAE train      MAE test  \n",
       "0            0.7158  116934.624330  1.151660e+05  \n",
       "1            0.7028   56792.191768  8.810769e+04  \n",
       "2            0.8427  124144.086985  9.185754e+04  \n",
       "3            0.6828   67404.389758  5.768245e+04  \n",
       "4  -1258401276.6614   38457.782036  6.741033e+09  \n",
       "5       -10467.3640  102359.688419  6.097405e+06  "
      ]
     },
     "execution_count": 105,
     "metadata": {},
     "output_type": "execute_result"
    }
   ],
   "source": [
    "r2_train,r2_test,MAE_train,MAE_test = regresion_poli(data2,degree=3)\n",
    "final = resultados.shape[0]\n",
    "resultados.loc[final] = ['Regresión Polinómica','Sin procesar / Grado 3 / Sin outliers',r2_train,r2_test,MAE_train,MAE_test]\n",
    "resultados"
   ]
  },
  {
   "cell_type": "markdown",
   "metadata": {},
   "source": [
    "El modelo de regresión polinómica podemos confirmar que no es la mejor opción cuando estamos tratando tan poca cantidad de datos. Estos modelos necesitan gran volumen de datos para ser precisos. Está sobreajustando y no es capaz de generalizar bien a nuevos datos.\n",
    "<br>\n",
    "No aplicamos el modelo a los datos escalados, no es necesario ya que está confirmado que su rendimiento para este caso es peor."
   ]
  },
  {
   "cell_type": "markdown",
   "metadata": {},
   "source": [
    "### **SVM-Support Vector Machine**\n"
   ]
  },
  {
   "cell_type": "code",
   "execution_count": 106,
   "metadata": {},
   "outputs": [],
   "source": [
    "file_path = \"../data/data_model_churriana_malaga.csv\"\n",
    "data = pd.read_csv(file_path, index_col = 0)"
   ]
  },
  {
   "cell_type": "code",
   "execution_count": 107,
   "metadata": {},
   "outputs": [
    {
     "data": {
      "text/html": [
       "<div>\n",
       "<style scoped>\n",
       "    .dataframe tbody tr th:only-of-type {\n",
       "        vertical-align: middle;\n",
       "    }\n",
       "\n",
       "    .dataframe tbody tr th {\n",
       "        vertical-align: top;\n",
       "    }\n",
       "\n",
       "    .dataframe thead th {\n",
       "        text-align: right;\n",
       "    }\n",
       "</style>\n",
       "<table border=\"1\" class=\"dataframe\">\n",
       "  <thead>\n",
       "    <tr style=\"text-align: right;\">\n",
       "      <th></th>\n",
       "      <th>Modelo</th>\n",
       "      <th>Detalles</th>\n",
       "      <th>R2 train</th>\n",
       "      <th>R2 test</th>\n",
       "      <th>MAE train</th>\n",
       "      <th>MAE test</th>\n",
       "    </tr>\n",
       "  </thead>\n",
       "  <tbody>\n",
       "    <tr>\n",
       "      <th>0</th>\n",
       "      <td>Regresión Lineal</td>\n",
       "      <td>Sin procesar</td>\n",
       "      <td>0.7950</td>\n",
       "      <td>0.7158</td>\n",
       "      <td>116934.624330</td>\n",
       "      <td>1.151660e+05</td>\n",
       "    </tr>\n",
       "    <tr>\n",
       "      <th>1</th>\n",
       "      <td>Regresión Lineal</td>\n",
       "      <td>Sin procesar / Sin outliers</td>\n",
       "      <td>0.8118</td>\n",
       "      <td>0.7028</td>\n",
       "      <td>56792.191768</td>\n",
       "      <td>8.810769e+04</td>\n",
       "    </tr>\n",
       "    <tr>\n",
       "      <th>2</th>\n",
       "      <td>Regresión Lineal</td>\n",
       "      <td>Datos escalados</td>\n",
       "      <td>0.7862</td>\n",
       "      <td>0.8427</td>\n",
       "      <td>124144.086985</td>\n",
       "      <td>9.185754e+04</td>\n",
       "    </tr>\n",
       "    <tr>\n",
       "      <th>3</th>\n",
       "      <td>Regresión Lineal</td>\n",
       "      <td>Datos escalados / Sin outliers</td>\n",
       "      <td>0.7882</td>\n",
       "      <td>0.6828</td>\n",
       "      <td>67404.389758</td>\n",
       "      <td>5.768245e+04</td>\n",
       "    </tr>\n",
       "    <tr>\n",
       "      <th>4</th>\n",
       "      <td>Regresión Polinómica</td>\n",
       "      <td>Sin procesar / Grado 3</td>\n",
       "      <td>0.9805</td>\n",
       "      <td>-1258401276.6614</td>\n",
       "      <td>38457.782036</td>\n",
       "      <td>6.741033e+09</td>\n",
       "    </tr>\n",
       "    <tr>\n",
       "      <th>5</th>\n",
       "      <td>Regresión Polinómica</td>\n",
       "      <td>Sin procesar / Grado 3 / Sin outliers</td>\n",
       "      <td>0.4521</td>\n",
       "      <td>-10467.3640</td>\n",
       "      <td>102359.688419</td>\n",
       "      <td>6.097405e+06</td>\n",
       "    </tr>\n",
       "    <tr>\n",
       "      <th>6</th>\n",
       "      <td>SVM</td>\n",
       "      <td>Sin procesar / linear</td>\n",
       "      <td>0.7351</td>\n",
       "      <td>0.8877</td>\n",
       "      <td>120667.133933</td>\n",
       "      <td>9.248978e+04</td>\n",
       "    </tr>\n",
       "    <tr>\n",
       "      <th>7</th>\n",
       "      <td>SVM</td>\n",
       "      <td>Sin procesar / poly</td>\n",
       "      <td>-0.0549</td>\n",
       "      <td>-0.3638</td>\n",
       "      <td>226694.281742</td>\n",
       "      <td>3.340851e+05</td>\n",
       "    </tr>\n",
       "    <tr>\n",
       "      <th>8</th>\n",
       "      <td>SVM</td>\n",
       "      <td>Sin procesar / rbf</td>\n",
       "      <td>-0.1149</td>\n",
       "      <td>-0.0634</td>\n",
       "      <td>261855.869581</td>\n",
       "      <td>2.069879e+05</td>\n",
       "    </tr>\n",
       "    <tr>\n",
       "      <th>9</th>\n",
       "      <td>SVM</td>\n",
       "      <td>Sin procesar / sigmoid</td>\n",
       "      <td>-0.1677</td>\n",
       "      <td>-0.1947</td>\n",
       "      <td>197764.939590</td>\n",
       "      <td>4.573644e+05</td>\n",
       "    </tr>\n",
       "  </tbody>\n",
       "</table>\n",
       "</div>"
      ],
      "text/plain": [
       "                 Modelo                               Detalles R2 train  \\\n",
       "0      Regresión Lineal                           Sin procesar   0.7950   \n",
       "1      Regresión Lineal            Sin procesar / Sin outliers   0.8118   \n",
       "2      Regresión Lineal                        Datos escalados   0.7862   \n",
       "3      Regresión Lineal         Datos escalados / Sin outliers   0.7882   \n",
       "4  Regresión Polinómica                 Sin procesar / Grado 3   0.9805   \n",
       "5  Regresión Polinómica  Sin procesar / Grado 3 / Sin outliers   0.4521   \n",
       "6                   SVM                  Sin procesar / linear   0.7351   \n",
       "7                   SVM                    Sin procesar / poly  -0.0549   \n",
       "8                   SVM                     Sin procesar / rbf  -0.1149   \n",
       "9                   SVM                 Sin procesar / sigmoid  -0.1677   \n",
       "\n",
       "            R2 test      MAE train      MAE test  \n",
       "0            0.7158  116934.624330  1.151660e+05  \n",
       "1            0.7028   56792.191768  8.810769e+04  \n",
       "2            0.8427  124144.086985  9.185754e+04  \n",
       "3            0.6828   67404.389758  5.768245e+04  \n",
       "4  -1258401276.6614   38457.782036  6.741033e+09  \n",
       "5       -10467.3640  102359.688419  6.097405e+06  \n",
       "6            0.8877  120667.133933  9.248978e+04  \n",
       "7           -0.3638  226694.281742  3.340851e+05  \n",
       "8           -0.0634  261855.869581  2.069879e+05  \n",
       "9           -0.1947  197764.939590  4.573644e+05  "
      ]
     },
     "execution_count": 107,
     "metadata": {},
     "output_type": "execute_result"
    }
   ],
   "source": [
    "from sklearn.svm import SVR\n",
    "\n",
    "def svm_support(data,test_size=0.2,Prec_var='price',kernel='rbf'):\n",
    "    x = data.drop(Prec_var,axis=1)\n",
    "    y = data[Prec_var]\n",
    "    \n",
    "    x_train,x_test,y_train,y_test = train_test_split(x,y,test_size=test_size)\n",
    "  \n",
    "    svm = SVR(kernel=kernel)\n",
    "    svm.fit(x_train,y_train)\n",
    "    \n",
    "    r2_train = svm.score(x_train,y_train)\n",
    "    r2_test = svm.score(x_test,y_test)\n",
    "    \n",
    "    r2_train = \"{:.4f}\".format(r2_train)\n",
    "    r2_test = \"{:.4f}\".format(r2_test)\n",
    "    \n",
    "    y_train_pred = svm.predict(x_train)\n",
    "    y_test_pred = svm.predict(x_test)\n",
    "    \n",
    "    MAE_train = error_absoluto_medio(y_train,y_train_pred)\n",
    "    MAE_test = error_absoluto_medio(y_test,y_test_pred)\n",
    "    \n",
    "    return r2_train,r2_test,MAE_train,MAE_test\n",
    "\n",
    "kernels = ['linear', 'poly', 'rbf', 'sigmoid']\n",
    "\n",
    "for kernel in kernels:\n",
    "    r2_train,r2_test,MAE_train,MAE_test = svm_support(data,kernel=kernel)\n",
    "    final = resultados.shape[0]\n",
    "    resultados.loc[final] = ['SVM',f\"Sin procesar / {kernel}\",r2_train,r2_test,MAE_train,MAE_test]\n",
    "resultados"
   ]
  },
  {
   "cell_type": "markdown",
   "metadata": {},
   "source": [
    "**SVM sin outliers**"
   ]
  },
  {
   "cell_type": "code",
   "execution_count": 108,
   "metadata": {},
   "outputs": [],
   "source": [
    "file_path = \"../data/data_model_churriana_without_outliers.csv\"\n",
    "data2 = pd.read_csv(file_path, index_col = 0)"
   ]
  },
  {
   "cell_type": "code",
   "execution_count": 109,
   "metadata": {},
   "outputs": [
    {
     "data": {
      "text/html": [
       "<div>\n",
       "<style scoped>\n",
       "    .dataframe tbody tr th:only-of-type {\n",
       "        vertical-align: middle;\n",
       "    }\n",
       "\n",
       "    .dataframe tbody tr th {\n",
       "        vertical-align: top;\n",
       "    }\n",
       "\n",
       "    .dataframe thead th {\n",
       "        text-align: right;\n",
       "    }\n",
       "</style>\n",
       "<table border=\"1\" class=\"dataframe\">\n",
       "  <thead>\n",
       "    <tr style=\"text-align: right;\">\n",
       "      <th></th>\n",
       "      <th>Modelo</th>\n",
       "      <th>Detalles</th>\n",
       "      <th>R2 train</th>\n",
       "      <th>R2 test</th>\n",
       "      <th>MAE train</th>\n",
       "      <th>MAE test</th>\n",
       "    </tr>\n",
       "  </thead>\n",
       "  <tbody>\n",
       "    <tr>\n",
       "      <th>0</th>\n",
       "      <td>Regresión Lineal</td>\n",
       "      <td>Sin procesar</td>\n",
       "      <td>0.7950</td>\n",
       "      <td>0.7158</td>\n",
       "      <td>116934.624330</td>\n",
       "      <td>1.151660e+05</td>\n",
       "    </tr>\n",
       "    <tr>\n",
       "      <th>1</th>\n",
       "      <td>Regresión Lineal</td>\n",
       "      <td>Sin procesar / Sin outliers</td>\n",
       "      <td>0.8118</td>\n",
       "      <td>0.7028</td>\n",
       "      <td>56792.191768</td>\n",
       "      <td>8.810769e+04</td>\n",
       "    </tr>\n",
       "    <tr>\n",
       "      <th>2</th>\n",
       "      <td>Regresión Lineal</td>\n",
       "      <td>Datos escalados</td>\n",
       "      <td>0.7862</td>\n",
       "      <td>0.8427</td>\n",
       "      <td>124144.086985</td>\n",
       "      <td>9.185754e+04</td>\n",
       "    </tr>\n",
       "    <tr>\n",
       "      <th>3</th>\n",
       "      <td>Regresión Lineal</td>\n",
       "      <td>Datos escalados / Sin outliers</td>\n",
       "      <td>0.7882</td>\n",
       "      <td>0.6828</td>\n",
       "      <td>67404.389758</td>\n",
       "      <td>5.768245e+04</td>\n",
       "    </tr>\n",
       "    <tr>\n",
       "      <th>4</th>\n",
       "      <td>Regresión Polinómica</td>\n",
       "      <td>Sin procesar / Grado 3</td>\n",
       "      <td>0.9805</td>\n",
       "      <td>-1258401276.6614</td>\n",
       "      <td>38457.782036</td>\n",
       "      <td>6.741033e+09</td>\n",
       "    </tr>\n",
       "    <tr>\n",
       "      <th>5</th>\n",
       "      <td>Regresión Polinómica</td>\n",
       "      <td>Sin procesar / Grado 3 / Sin outliers</td>\n",
       "      <td>0.4521</td>\n",
       "      <td>-10467.3640</td>\n",
       "      <td>102359.688419</td>\n",
       "      <td>6.097405e+06</td>\n",
       "    </tr>\n",
       "    <tr>\n",
       "      <th>6</th>\n",
       "      <td>SVM</td>\n",
       "      <td>Sin procesar / linear</td>\n",
       "      <td>0.7351</td>\n",
       "      <td>0.8877</td>\n",
       "      <td>120667.133933</td>\n",
       "      <td>9.248978e+04</td>\n",
       "    </tr>\n",
       "    <tr>\n",
       "      <th>7</th>\n",
       "      <td>SVM</td>\n",
       "      <td>Sin procesar / poly</td>\n",
       "      <td>-0.0549</td>\n",
       "      <td>-0.3638</td>\n",
       "      <td>226694.281742</td>\n",
       "      <td>3.340851e+05</td>\n",
       "    </tr>\n",
       "    <tr>\n",
       "      <th>8</th>\n",
       "      <td>SVM</td>\n",
       "      <td>Sin procesar / rbf</td>\n",
       "      <td>-0.1149</td>\n",
       "      <td>-0.0634</td>\n",
       "      <td>261855.869581</td>\n",
       "      <td>2.069879e+05</td>\n",
       "    </tr>\n",
       "    <tr>\n",
       "      <th>9</th>\n",
       "      <td>SVM</td>\n",
       "      <td>Sin procesar / sigmoid</td>\n",
       "      <td>-0.1677</td>\n",
       "      <td>-0.1947</td>\n",
       "      <td>197764.939590</td>\n",
       "      <td>4.573644e+05</td>\n",
       "    </tr>\n",
       "    <tr>\n",
       "      <th>10</th>\n",
       "      <td>SVM</td>\n",
       "      <td>Sin procesar / linear / Sin outliers</td>\n",
       "      <td>0.6691</td>\n",
       "      <td>0.7081</td>\n",
       "      <td>76661.038016</td>\n",
       "      <td>6.962643e+04</td>\n",
       "    </tr>\n",
       "    <tr>\n",
       "      <th>11</th>\n",
       "      <td>SVM</td>\n",
       "      <td>Sin procesar / poly / Sin outliers</td>\n",
       "      <td>-0.1179</td>\n",
       "      <td>-0.0407</td>\n",
       "      <td>138732.371518</td>\n",
       "      <td>1.157646e+05</td>\n",
       "    </tr>\n",
       "    <tr>\n",
       "      <th>12</th>\n",
       "      <td>SVM</td>\n",
       "      <td>Sin procesar / rbf / Sin outliers</td>\n",
       "      <td>-0.0991</td>\n",
       "      <td>-0.2513</td>\n",
       "      <td>132950.734985</td>\n",
       "      <td>1.409752e+05</td>\n",
       "    </tr>\n",
       "    <tr>\n",
       "      <th>13</th>\n",
       "      <td>SVM</td>\n",
       "      <td>Sin procesar / sigmoid / Sin outliers</td>\n",
       "      <td>-0.1236</td>\n",
       "      <td>-0.0250</td>\n",
       "      <td>140338.290283</td>\n",
       "      <td>1.112381e+05</td>\n",
       "    </tr>\n",
       "  </tbody>\n",
       "</table>\n",
       "</div>"
      ],
      "text/plain": [
       "                  Modelo                               Detalles R2 train  \\\n",
       "0       Regresión Lineal                           Sin procesar   0.7950   \n",
       "1       Regresión Lineal            Sin procesar / Sin outliers   0.8118   \n",
       "2       Regresión Lineal                        Datos escalados   0.7862   \n",
       "3       Regresión Lineal         Datos escalados / Sin outliers   0.7882   \n",
       "4   Regresión Polinómica                 Sin procesar / Grado 3   0.9805   \n",
       "5   Regresión Polinómica  Sin procesar / Grado 3 / Sin outliers   0.4521   \n",
       "6                    SVM                  Sin procesar / linear   0.7351   \n",
       "7                    SVM                    Sin procesar / poly  -0.0549   \n",
       "8                    SVM                     Sin procesar / rbf  -0.1149   \n",
       "9                    SVM                 Sin procesar / sigmoid  -0.1677   \n",
       "10                   SVM   Sin procesar / linear / Sin outliers   0.6691   \n",
       "11                   SVM     Sin procesar / poly / Sin outliers  -0.1179   \n",
       "12                   SVM      Sin procesar / rbf / Sin outliers  -0.0991   \n",
       "13                   SVM  Sin procesar / sigmoid / Sin outliers  -0.1236   \n",
       "\n",
       "             R2 test      MAE train      MAE test  \n",
       "0             0.7158  116934.624330  1.151660e+05  \n",
       "1             0.7028   56792.191768  8.810769e+04  \n",
       "2             0.8427  124144.086985  9.185754e+04  \n",
       "3             0.6828   67404.389758  5.768245e+04  \n",
       "4   -1258401276.6614   38457.782036  6.741033e+09  \n",
       "5        -10467.3640  102359.688419  6.097405e+06  \n",
       "6             0.8877  120667.133933  9.248978e+04  \n",
       "7            -0.3638  226694.281742  3.340851e+05  \n",
       "8            -0.0634  261855.869581  2.069879e+05  \n",
       "9            -0.1947  197764.939590  4.573644e+05  \n",
       "10            0.7081   76661.038016  6.962643e+04  \n",
       "11           -0.0407  138732.371518  1.157646e+05  \n",
       "12           -0.2513  132950.734985  1.409752e+05  \n",
       "13           -0.0250  140338.290283  1.112381e+05  "
      ]
     },
     "execution_count": 109,
     "metadata": {},
     "output_type": "execute_result"
    }
   ],
   "source": [
    "for kernel in kernels:\n",
    "    r2_train,r2_test,MAE_train,MAE_test = svm_support(data2,kernel=kernel)\n",
    "    final = resultados.shape[0]\n",
    "    resultados.loc[final] = ['SVM',f\"Sin procesar / {kernel} / Sin outliers\",r2_train,r2_test,MAE_train,MAE_test]\n",
    "resultados"
   ]
  },
  {
   "cell_type": "markdown",
   "metadata": {},
   "source": [
    "**SVM datos escalados**"
   ]
  },
  {
   "cell_type": "code",
   "execution_count": 110,
   "metadata": {},
   "outputs": [],
   "source": [
    "data3 = data\n",
    "data3[col_esc] = scale.fit_transform(data[col_esc])"
   ]
  },
  {
   "cell_type": "code",
   "execution_count": 111,
   "metadata": {},
   "outputs": [
    {
     "data": {
      "text/html": [
       "<div>\n",
       "<style scoped>\n",
       "    .dataframe tbody tr th:only-of-type {\n",
       "        vertical-align: middle;\n",
       "    }\n",
       "\n",
       "    .dataframe tbody tr th {\n",
       "        vertical-align: top;\n",
       "    }\n",
       "\n",
       "    .dataframe thead th {\n",
       "        text-align: right;\n",
       "    }\n",
       "</style>\n",
       "<table border=\"1\" class=\"dataframe\">\n",
       "  <thead>\n",
       "    <tr style=\"text-align: right;\">\n",
       "      <th></th>\n",
       "      <th>Modelo</th>\n",
       "      <th>Detalles</th>\n",
       "      <th>R2 train</th>\n",
       "      <th>R2 test</th>\n",
       "      <th>MAE train</th>\n",
       "      <th>MAE test</th>\n",
       "    </tr>\n",
       "  </thead>\n",
       "  <tbody>\n",
       "    <tr>\n",
       "      <th>0</th>\n",
       "      <td>Regresión Lineal</td>\n",
       "      <td>Sin procesar</td>\n",
       "      <td>0.7950</td>\n",
       "      <td>0.7158</td>\n",
       "      <td>116934.624330</td>\n",
       "      <td>1.151660e+05</td>\n",
       "    </tr>\n",
       "    <tr>\n",
       "      <th>1</th>\n",
       "      <td>Regresión Lineal</td>\n",
       "      <td>Sin procesar / Sin outliers</td>\n",
       "      <td>0.8118</td>\n",
       "      <td>0.7028</td>\n",
       "      <td>56792.191768</td>\n",
       "      <td>8.810769e+04</td>\n",
       "    </tr>\n",
       "    <tr>\n",
       "      <th>2</th>\n",
       "      <td>Regresión Lineal</td>\n",
       "      <td>Datos escalados</td>\n",
       "      <td>0.7862</td>\n",
       "      <td>0.8427</td>\n",
       "      <td>124144.086985</td>\n",
       "      <td>9.185754e+04</td>\n",
       "    </tr>\n",
       "    <tr>\n",
       "      <th>3</th>\n",
       "      <td>Regresión Lineal</td>\n",
       "      <td>Datos escalados / Sin outliers</td>\n",
       "      <td>0.7882</td>\n",
       "      <td>0.6828</td>\n",
       "      <td>67404.389758</td>\n",
       "      <td>5.768245e+04</td>\n",
       "    </tr>\n",
       "    <tr>\n",
       "      <th>4</th>\n",
       "      <td>Regresión Polinómica</td>\n",
       "      <td>Sin procesar / Grado 3</td>\n",
       "      <td>0.9805</td>\n",
       "      <td>-1258401276.6614</td>\n",
       "      <td>38457.782036</td>\n",
       "      <td>6.741033e+09</td>\n",
       "    </tr>\n",
       "    <tr>\n",
       "      <th>5</th>\n",
       "      <td>Regresión Polinómica</td>\n",
       "      <td>Sin procesar / Grado 3 / Sin outliers</td>\n",
       "      <td>0.4521</td>\n",
       "      <td>-10467.3640</td>\n",
       "      <td>102359.688419</td>\n",
       "      <td>6.097405e+06</td>\n",
       "    </tr>\n",
       "    <tr>\n",
       "      <th>6</th>\n",
       "      <td>SVM</td>\n",
       "      <td>Sin procesar / linear</td>\n",
       "      <td>0.7351</td>\n",
       "      <td>0.8877</td>\n",
       "      <td>120667.133933</td>\n",
       "      <td>9.248978e+04</td>\n",
       "    </tr>\n",
       "    <tr>\n",
       "      <th>7</th>\n",
       "      <td>SVM</td>\n",
       "      <td>Sin procesar / poly</td>\n",
       "      <td>-0.0549</td>\n",
       "      <td>-0.3638</td>\n",
       "      <td>226694.281742</td>\n",
       "      <td>3.340851e+05</td>\n",
       "    </tr>\n",
       "    <tr>\n",
       "      <th>8</th>\n",
       "      <td>SVM</td>\n",
       "      <td>Sin procesar / rbf</td>\n",
       "      <td>-0.1149</td>\n",
       "      <td>-0.0634</td>\n",
       "      <td>261855.869581</td>\n",
       "      <td>2.069879e+05</td>\n",
       "    </tr>\n",
       "    <tr>\n",
       "      <th>9</th>\n",
       "      <td>SVM</td>\n",
       "      <td>Sin procesar / sigmoid</td>\n",
       "      <td>-0.1677</td>\n",
       "      <td>-0.1947</td>\n",
       "      <td>197764.939590</td>\n",
       "      <td>4.573644e+05</td>\n",
       "    </tr>\n",
       "    <tr>\n",
       "      <th>10</th>\n",
       "      <td>SVM</td>\n",
       "      <td>Sin procesar / linear / Sin outliers</td>\n",
       "      <td>0.6691</td>\n",
       "      <td>0.7081</td>\n",
       "      <td>76661.038016</td>\n",
       "      <td>6.962643e+04</td>\n",
       "    </tr>\n",
       "    <tr>\n",
       "      <th>11</th>\n",
       "      <td>SVM</td>\n",
       "      <td>Sin procesar / poly / Sin outliers</td>\n",
       "      <td>-0.1179</td>\n",
       "      <td>-0.0407</td>\n",
       "      <td>138732.371518</td>\n",
       "      <td>1.157646e+05</td>\n",
       "    </tr>\n",
       "    <tr>\n",
       "      <th>12</th>\n",
       "      <td>SVM</td>\n",
       "      <td>Sin procesar / rbf / Sin outliers</td>\n",
       "      <td>-0.0991</td>\n",
       "      <td>-0.2513</td>\n",
       "      <td>132950.734985</td>\n",
       "      <td>1.409752e+05</td>\n",
       "    </tr>\n",
       "    <tr>\n",
       "      <th>13</th>\n",
       "      <td>SVM</td>\n",
       "      <td>Sin procesar / sigmoid / Sin outliers</td>\n",
       "      <td>-0.1236</td>\n",
       "      <td>-0.0250</td>\n",
       "      <td>140338.290283</td>\n",
       "      <td>1.112381e+05</td>\n",
       "    </tr>\n",
       "    <tr>\n",
       "      <th>14</th>\n",
       "      <td>SVM</td>\n",
       "      <td>Datos escalados / linear</td>\n",
       "      <td>-0.1684</td>\n",
       "      <td>-0.0977</td>\n",
       "      <td>231850.235418</td>\n",
       "      <td>3.235220e+05</td>\n",
       "    </tr>\n",
       "    <tr>\n",
       "      <th>15</th>\n",
       "      <td>SVM</td>\n",
       "      <td>Datos escalados / poly</td>\n",
       "      <td>-0.1261</td>\n",
       "      <td>-0.1722</td>\n",
       "      <td>260990.271276</td>\n",
       "      <td>2.090145e+05</td>\n",
       "    </tr>\n",
       "    <tr>\n",
       "      <th>16</th>\n",
       "      <td>SVM</td>\n",
       "      <td>Datos escalados / rbf</td>\n",
       "      <td>-0.1107</td>\n",
       "      <td>-0.0831</td>\n",
       "      <td>259014.883410</td>\n",
       "      <td>2.181456e+05</td>\n",
       "    </tr>\n",
       "    <tr>\n",
       "      <th>17</th>\n",
       "      <td>SVM</td>\n",
       "      <td>Datos escalados / sigmoid</td>\n",
       "      <td>-0.1071</td>\n",
       "      <td>-0.0906</td>\n",
       "      <td>258936.392352</td>\n",
       "      <td>2.185736e+05</td>\n",
       "    </tr>\n",
       "  </tbody>\n",
       "</table>\n",
       "</div>"
      ],
      "text/plain": [
       "                  Modelo                               Detalles R2 train  \\\n",
       "0       Regresión Lineal                           Sin procesar   0.7950   \n",
       "1       Regresión Lineal            Sin procesar / Sin outliers   0.8118   \n",
       "2       Regresión Lineal                        Datos escalados   0.7862   \n",
       "3       Regresión Lineal         Datos escalados / Sin outliers   0.7882   \n",
       "4   Regresión Polinómica                 Sin procesar / Grado 3   0.9805   \n",
       "5   Regresión Polinómica  Sin procesar / Grado 3 / Sin outliers   0.4521   \n",
       "6                    SVM                  Sin procesar / linear   0.7351   \n",
       "7                    SVM                    Sin procesar / poly  -0.0549   \n",
       "8                    SVM                     Sin procesar / rbf  -0.1149   \n",
       "9                    SVM                 Sin procesar / sigmoid  -0.1677   \n",
       "10                   SVM   Sin procesar / linear / Sin outliers   0.6691   \n",
       "11                   SVM     Sin procesar / poly / Sin outliers  -0.1179   \n",
       "12                   SVM      Sin procesar / rbf / Sin outliers  -0.0991   \n",
       "13                   SVM  Sin procesar / sigmoid / Sin outliers  -0.1236   \n",
       "14                   SVM               Datos escalados / linear  -0.1684   \n",
       "15                   SVM                 Datos escalados / poly  -0.1261   \n",
       "16                   SVM                  Datos escalados / rbf  -0.1107   \n",
       "17                   SVM              Datos escalados / sigmoid  -0.1071   \n",
       "\n",
       "             R2 test      MAE train      MAE test  \n",
       "0             0.7158  116934.624330  1.151660e+05  \n",
       "1             0.7028   56792.191768  8.810769e+04  \n",
       "2             0.8427  124144.086985  9.185754e+04  \n",
       "3             0.6828   67404.389758  5.768245e+04  \n",
       "4   -1258401276.6614   38457.782036  6.741033e+09  \n",
       "5        -10467.3640  102359.688419  6.097405e+06  \n",
       "6             0.8877  120667.133933  9.248978e+04  \n",
       "7            -0.3638  226694.281742  3.340851e+05  \n",
       "8            -0.0634  261855.869581  2.069879e+05  \n",
       "9            -0.1947  197764.939590  4.573644e+05  \n",
       "10            0.7081   76661.038016  6.962643e+04  \n",
       "11           -0.0407  138732.371518  1.157646e+05  \n",
       "12           -0.2513  132950.734985  1.409752e+05  \n",
       "13           -0.0250  140338.290283  1.112381e+05  \n",
       "14           -0.0977  231850.235418  3.235220e+05  \n",
       "15           -0.1722  260990.271276  2.090145e+05  \n",
       "16           -0.0831  259014.883410  2.181456e+05  \n",
       "17           -0.0906  258936.392352  2.185736e+05  "
      ]
     },
     "execution_count": 111,
     "metadata": {},
     "output_type": "execute_result"
    }
   ],
   "source": [
    "for kernel in kernels:\n",
    "    r2_train,r2_test,MAE_train,MAE_test = svm_support(data3,kernel=kernel)\n",
    "    final = resultados.shape[0]\n",
    "    resultados.loc[final] = ['SVM',f\"Datos escalados / {kernel}\",r2_train,r2_test,MAE_train,MAE_test]\n",
    "resultados"
   ]
  },
  {
   "cell_type": "markdown",
   "metadata": {},
   "source": [
    "**SVM datos escalados sin outliers**"
   ]
  },
  {
   "cell_type": "code",
   "execution_count": 112,
   "metadata": {},
   "outputs": [],
   "source": [
    "data4 = data2\n",
    "data4[col_esc] = scale.fit_transform(data2[col_esc])"
   ]
  },
  {
   "cell_type": "code",
   "execution_count": 113,
   "metadata": {},
   "outputs": [
    {
     "data": {
      "text/html": [
       "<div>\n",
       "<style scoped>\n",
       "    .dataframe tbody tr th:only-of-type {\n",
       "        vertical-align: middle;\n",
       "    }\n",
       "\n",
       "    .dataframe tbody tr th {\n",
       "        vertical-align: top;\n",
       "    }\n",
       "\n",
       "    .dataframe thead th {\n",
       "        text-align: right;\n",
       "    }\n",
       "</style>\n",
       "<table border=\"1\" class=\"dataframe\">\n",
       "  <thead>\n",
       "    <tr style=\"text-align: right;\">\n",
       "      <th></th>\n",
       "      <th>Modelo</th>\n",
       "      <th>Detalles</th>\n",
       "      <th>R2 train</th>\n",
       "      <th>R2 test</th>\n",
       "      <th>MAE train</th>\n",
       "      <th>MAE test</th>\n",
       "    </tr>\n",
       "  </thead>\n",
       "  <tbody>\n",
       "    <tr>\n",
       "      <th>0</th>\n",
       "      <td>Regresión Lineal</td>\n",
       "      <td>Sin procesar</td>\n",
       "      <td>0.7950</td>\n",
       "      <td>0.7158</td>\n",
       "      <td>116934.624330</td>\n",
       "      <td>1.151660e+05</td>\n",
       "    </tr>\n",
       "    <tr>\n",
       "      <th>1</th>\n",
       "      <td>Regresión Lineal</td>\n",
       "      <td>Sin procesar / Sin outliers</td>\n",
       "      <td>0.8118</td>\n",
       "      <td>0.7028</td>\n",
       "      <td>56792.191768</td>\n",
       "      <td>8.810769e+04</td>\n",
       "    </tr>\n",
       "    <tr>\n",
       "      <th>2</th>\n",
       "      <td>Regresión Lineal</td>\n",
       "      <td>Datos escalados</td>\n",
       "      <td>0.7862</td>\n",
       "      <td>0.8427</td>\n",
       "      <td>124144.086985</td>\n",
       "      <td>9.185754e+04</td>\n",
       "    </tr>\n",
       "    <tr>\n",
       "      <th>3</th>\n",
       "      <td>Regresión Lineal</td>\n",
       "      <td>Datos escalados / Sin outliers</td>\n",
       "      <td>0.7882</td>\n",
       "      <td>0.6828</td>\n",
       "      <td>67404.389758</td>\n",
       "      <td>5.768245e+04</td>\n",
       "    </tr>\n",
       "    <tr>\n",
       "      <th>4</th>\n",
       "      <td>Regresión Polinómica</td>\n",
       "      <td>Sin procesar / Grado 3</td>\n",
       "      <td>0.9805</td>\n",
       "      <td>-1258401276.6614</td>\n",
       "      <td>38457.782036</td>\n",
       "      <td>6.741033e+09</td>\n",
       "    </tr>\n",
       "    <tr>\n",
       "      <th>5</th>\n",
       "      <td>Regresión Polinómica</td>\n",
       "      <td>Sin procesar / Grado 3 / Sin outliers</td>\n",
       "      <td>0.4521</td>\n",
       "      <td>-10467.3640</td>\n",
       "      <td>102359.688419</td>\n",
       "      <td>6.097405e+06</td>\n",
       "    </tr>\n",
       "    <tr>\n",
       "      <th>6</th>\n",
       "      <td>SVM</td>\n",
       "      <td>Sin procesar / linear</td>\n",
       "      <td>0.7351</td>\n",
       "      <td>0.8877</td>\n",
       "      <td>120667.133933</td>\n",
       "      <td>9.248978e+04</td>\n",
       "    </tr>\n",
       "    <tr>\n",
       "      <th>7</th>\n",
       "      <td>SVM</td>\n",
       "      <td>Sin procesar / poly</td>\n",
       "      <td>-0.0549</td>\n",
       "      <td>-0.3638</td>\n",
       "      <td>226694.281742</td>\n",
       "      <td>3.340851e+05</td>\n",
       "    </tr>\n",
       "    <tr>\n",
       "      <th>8</th>\n",
       "      <td>SVM</td>\n",
       "      <td>Sin procesar / rbf</td>\n",
       "      <td>-0.1149</td>\n",
       "      <td>-0.0634</td>\n",
       "      <td>261855.869581</td>\n",
       "      <td>2.069879e+05</td>\n",
       "    </tr>\n",
       "    <tr>\n",
       "      <th>9</th>\n",
       "      <td>SVM</td>\n",
       "      <td>Sin procesar / sigmoid</td>\n",
       "      <td>-0.1677</td>\n",
       "      <td>-0.1947</td>\n",
       "      <td>197764.939590</td>\n",
       "      <td>4.573644e+05</td>\n",
       "    </tr>\n",
       "    <tr>\n",
       "      <th>10</th>\n",
       "      <td>SVM</td>\n",
       "      <td>Sin procesar / linear / Sin outliers</td>\n",
       "      <td>0.6691</td>\n",
       "      <td>0.7081</td>\n",
       "      <td>76661.038016</td>\n",
       "      <td>6.962643e+04</td>\n",
       "    </tr>\n",
       "    <tr>\n",
       "      <th>11</th>\n",
       "      <td>SVM</td>\n",
       "      <td>Sin procesar / poly / Sin outliers</td>\n",
       "      <td>-0.1179</td>\n",
       "      <td>-0.0407</td>\n",
       "      <td>138732.371518</td>\n",
       "      <td>1.157646e+05</td>\n",
       "    </tr>\n",
       "    <tr>\n",
       "      <th>12</th>\n",
       "      <td>SVM</td>\n",
       "      <td>Sin procesar / rbf / Sin outliers</td>\n",
       "      <td>-0.0991</td>\n",
       "      <td>-0.2513</td>\n",
       "      <td>132950.734985</td>\n",
       "      <td>1.409752e+05</td>\n",
       "    </tr>\n",
       "    <tr>\n",
       "      <th>13</th>\n",
       "      <td>SVM</td>\n",
       "      <td>Sin procesar / sigmoid / Sin outliers</td>\n",
       "      <td>-0.1236</td>\n",
       "      <td>-0.0250</td>\n",
       "      <td>140338.290283</td>\n",
       "      <td>1.112381e+05</td>\n",
       "    </tr>\n",
       "    <tr>\n",
       "      <th>14</th>\n",
       "      <td>SVM</td>\n",
       "      <td>Datos escalados / linear</td>\n",
       "      <td>-0.1684</td>\n",
       "      <td>-0.0977</td>\n",
       "      <td>231850.235418</td>\n",
       "      <td>3.235220e+05</td>\n",
       "    </tr>\n",
       "    <tr>\n",
       "      <th>15</th>\n",
       "      <td>SVM</td>\n",
       "      <td>Datos escalados / poly</td>\n",
       "      <td>-0.1261</td>\n",
       "      <td>-0.1722</td>\n",
       "      <td>260990.271276</td>\n",
       "      <td>2.090145e+05</td>\n",
       "    </tr>\n",
       "    <tr>\n",
       "      <th>16</th>\n",
       "      <td>SVM</td>\n",
       "      <td>Datos escalados / rbf</td>\n",
       "      <td>-0.1107</td>\n",
       "      <td>-0.0831</td>\n",
       "      <td>259014.883410</td>\n",
       "      <td>2.181456e+05</td>\n",
       "    </tr>\n",
       "    <tr>\n",
       "      <th>17</th>\n",
       "      <td>SVM</td>\n",
       "      <td>Datos escalados / sigmoid</td>\n",
       "      <td>-0.1071</td>\n",
       "      <td>-0.0906</td>\n",
       "      <td>258936.392352</td>\n",
       "      <td>2.185736e+05</td>\n",
       "    </tr>\n",
       "    <tr>\n",
       "      <th>18</th>\n",
       "      <td>SVM</td>\n",
       "      <td>Datos escalados / linear / Sin outliers</td>\n",
       "      <td>-0.1215</td>\n",
       "      <td>-0.0485</td>\n",
       "      <td>131904.283890</td>\n",
       "      <td>1.445637e+05</td>\n",
       "    </tr>\n",
       "    <tr>\n",
       "      <th>19</th>\n",
       "      <td>SVM</td>\n",
       "      <td>Datos escalados / poly / Sin outliers</td>\n",
       "      <td>-0.1014</td>\n",
       "      <td>-0.2175</td>\n",
       "      <td>134278.847355</td>\n",
       "      <td>1.351723e+05</td>\n",
       "    </tr>\n",
       "    <tr>\n",
       "      <th>20</th>\n",
       "      <td>SVM</td>\n",
       "      <td>Datos escalados / rbf / Sin outliers</td>\n",
       "      <td>-0.1161</td>\n",
       "      <td>-0.0671</td>\n",
       "      <td>133895.204244</td>\n",
       "      <td>1.365253e+05</td>\n",
       "    </tr>\n",
       "    <tr>\n",
       "      <th>21</th>\n",
       "      <td>SVM</td>\n",
       "      <td>Datos escalados / sigmoid / Sin outliers</td>\n",
       "      <td>-0.1201</td>\n",
       "      <td>-0.0326</td>\n",
       "      <td>143351.840654</td>\n",
       "      <td>9.903105e+04</td>\n",
       "    </tr>\n",
       "  </tbody>\n",
       "</table>\n",
       "</div>"
      ],
      "text/plain": [
       "                  Modelo                                  Detalles R2 train  \\\n",
       "0       Regresión Lineal                              Sin procesar   0.7950   \n",
       "1       Regresión Lineal               Sin procesar / Sin outliers   0.8118   \n",
       "2       Regresión Lineal                           Datos escalados   0.7862   \n",
       "3       Regresión Lineal            Datos escalados / Sin outliers   0.7882   \n",
       "4   Regresión Polinómica                    Sin procesar / Grado 3   0.9805   \n",
       "5   Regresión Polinómica     Sin procesar / Grado 3 / Sin outliers   0.4521   \n",
       "6                    SVM                     Sin procesar / linear   0.7351   \n",
       "7                    SVM                       Sin procesar / poly  -0.0549   \n",
       "8                    SVM                        Sin procesar / rbf  -0.1149   \n",
       "9                    SVM                    Sin procesar / sigmoid  -0.1677   \n",
       "10                   SVM      Sin procesar / linear / Sin outliers   0.6691   \n",
       "11                   SVM        Sin procesar / poly / Sin outliers  -0.1179   \n",
       "12                   SVM         Sin procesar / rbf / Sin outliers  -0.0991   \n",
       "13                   SVM     Sin procesar / sigmoid / Sin outliers  -0.1236   \n",
       "14                   SVM                  Datos escalados / linear  -0.1684   \n",
       "15                   SVM                    Datos escalados / poly  -0.1261   \n",
       "16                   SVM                     Datos escalados / rbf  -0.1107   \n",
       "17                   SVM                 Datos escalados / sigmoid  -0.1071   \n",
       "18                   SVM   Datos escalados / linear / Sin outliers  -0.1215   \n",
       "19                   SVM     Datos escalados / poly / Sin outliers  -0.1014   \n",
       "20                   SVM      Datos escalados / rbf / Sin outliers  -0.1161   \n",
       "21                   SVM  Datos escalados / sigmoid / Sin outliers  -0.1201   \n",
       "\n",
       "             R2 test      MAE train      MAE test  \n",
       "0             0.7158  116934.624330  1.151660e+05  \n",
       "1             0.7028   56792.191768  8.810769e+04  \n",
       "2             0.8427  124144.086985  9.185754e+04  \n",
       "3             0.6828   67404.389758  5.768245e+04  \n",
       "4   -1258401276.6614   38457.782036  6.741033e+09  \n",
       "5        -10467.3640  102359.688419  6.097405e+06  \n",
       "6             0.8877  120667.133933  9.248978e+04  \n",
       "7            -0.3638  226694.281742  3.340851e+05  \n",
       "8            -0.0634  261855.869581  2.069879e+05  \n",
       "9            -0.1947  197764.939590  4.573644e+05  \n",
       "10            0.7081   76661.038016  6.962643e+04  \n",
       "11           -0.0407  138732.371518  1.157646e+05  \n",
       "12           -0.2513  132950.734985  1.409752e+05  \n",
       "13           -0.0250  140338.290283  1.112381e+05  \n",
       "14           -0.0977  231850.235418  3.235220e+05  \n",
       "15           -0.1722  260990.271276  2.090145e+05  \n",
       "16           -0.0831  259014.883410  2.181456e+05  \n",
       "17           -0.0906  258936.392352  2.185736e+05  \n",
       "18           -0.0485  131904.283890  1.445637e+05  \n",
       "19           -0.2175  134278.847355  1.351723e+05  \n",
       "20           -0.0671  133895.204244  1.365253e+05  \n",
       "21           -0.0326  143351.840654  9.903105e+04  "
      ]
     },
     "execution_count": 113,
     "metadata": {},
     "output_type": "execute_result"
    }
   ],
   "source": [
    "for kernel in kernels:\n",
    "    r2_train,r2_test,MAE_train,MAE_test = svm_support(data4,kernel=kernel)\n",
    "    final = resultados.shape[0]\n",
    "    resultados.loc[final] = ['SVM',f\"Datos escalados / {kernel} / Sin outliers\",r2_train,r2_test,MAE_train,MAE_test]\n",
    "resultados"
   ]
  },
  {
   "cell_type": "markdown",
   "metadata": {},
   "source": [
    "Este modelo presenta los mejores resultados para el parámetro \"linear\", el resto no ajusta bien el modelo."
   ]
  },
  {
   "cell_type": "markdown",
   "metadata": {
    "tags": []
   },
   "source": [
    "### **Random Forest Regressor**"
   ]
  },
  {
   "cell_type": "code",
   "execution_count": 114,
   "metadata": {},
   "outputs": [],
   "source": [
    "file_path = \"../data/data_model_churriana_malaga.csv\"\n",
    "data = pd.read_csv(file_path, index_col = 0)"
   ]
  },
  {
   "cell_type": "code",
   "execution_count": 115,
   "metadata": {},
   "outputs": [],
   "source": [
    "from sklearn.tree import DecisionTreeRegressor\n",
    "\n",
    "def Arbol_Regresion(data,test_size=0.2,Prec_var='price'):\n",
    "    x = data.drop(Prec_var,axis=1)\n",
    "    y = data[Prec_var]\n",
    "    x_train,x_test,y_train,y_test = train_test_split(x,y,test_size=test_size)\n",
    "    \n",
    "    tree = DecisionTreeRegressor(min_samples_split=30,min_samples_leaf=10,random_state=0)\n",
    "    tree.fit(x_train,y_train)\n",
    "    \n",
    "    r2_train = tree.score(x_train,y_train)\n",
    "    r2_test = tree.score(x_test,y_test)\n",
    "    \n",
    "    r2_train = \"{:.4f}\".format(r2_train)\n",
    "    r2_test = \"{:.4f}\".format(r2_test)\n",
    "    \n",
    "    y_train_pred = tree.predict(x_train)\n",
    "    y_test_pred = tree.predict(x_test)\n",
    "    \n",
    "    MAE_train,MAE_test = error_gen(y_train,y_train_pred,y_test,y_test_pred)\n",
    "    \n",
    "    return r2_train,r2_test, MAE_train,MAE_test"
   ]
  },
  {
   "cell_type": "code",
   "execution_count": 116,
   "metadata": {},
   "outputs": [
    {
     "data": {
      "text/html": [
       "<div>\n",
       "<style scoped>\n",
       "    .dataframe tbody tr th:only-of-type {\n",
       "        vertical-align: middle;\n",
       "    }\n",
       "\n",
       "    .dataframe tbody tr th {\n",
       "        vertical-align: top;\n",
       "    }\n",
       "\n",
       "    .dataframe thead th {\n",
       "        text-align: right;\n",
       "    }\n",
       "</style>\n",
       "<table border=\"1\" class=\"dataframe\">\n",
       "  <thead>\n",
       "    <tr style=\"text-align: right;\">\n",
       "      <th></th>\n",
       "      <th>Modelo</th>\n",
       "      <th>Detalles</th>\n",
       "      <th>R2 train</th>\n",
       "      <th>R2 test</th>\n",
       "      <th>MAE train</th>\n",
       "      <th>MAE test</th>\n",
       "    </tr>\n",
       "  </thead>\n",
       "  <tbody>\n",
       "    <tr>\n",
       "      <th>0</th>\n",
       "      <td>Regresión Lineal</td>\n",
       "      <td>Sin procesar</td>\n",
       "      <td>0.7950</td>\n",
       "      <td>0.7158</td>\n",
       "      <td>116934.624330</td>\n",
       "      <td>1.151660e+05</td>\n",
       "    </tr>\n",
       "    <tr>\n",
       "      <th>1</th>\n",
       "      <td>Regresión Lineal</td>\n",
       "      <td>Sin procesar / Sin outliers</td>\n",
       "      <td>0.8118</td>\n",
       "      <td>0.7028</td>\n",
       "      <td>56792.191768</td>\n",
       "      <td>8.810769e+04</td>\n",
       "    </tr>\n",
       "    <tr>\n",
       "      <th>2</th>\n",
       "      <td>Regresión Lineal</td>\n",
       "      <td>Datos escalados</td>\n",
       "      <td>0.7862</td>\n",
       "      <td>0.8427</td>\n",
       "      <td>124144.086985</td>\n",
       "      <td>9.185754e+04</td>\n",
       "    </tr>\n",
       "    <tr>\n",
       "      <th>3</th>\n",
       "      <td>Regresión Lineal</td>\n",
       "      <td>Datos escalados / Sin outliers</td>\n",
       "      <td>0.7882</td>\n",
       "      <td>0.6828</td>\n",
       "      <td>67404.389758</td>\n",
       "      <td>5.768245e+04</td>\n",
       "    </tr>\n",
       "    <tr>\n",
       "      <th>4</th>\n",
       "      <td>Regresión Polinómica</td>\n",
       "      <td>Sin procesar / Grado 3</td>\n",
       "      <td>0.9805</td>\n",
       "      <td>-1258401276.6614</td>\n",
       "      <td>38457.782036</td>\n",
       "      <td>6.741033e+09</td>\n",
       "    </tr>\n",
       "    <tr>\n",
       "      <th>5</th>\n",
       "      <td>Regresión Polinómica</td>\n",
       "      <td>Sin procesar / Grado 3 / Sin outliers</td>\n",
       "      <td>0.4521</td>\n",
       "      <td>-10467.3640</td>\n",
       "      <td>102359.688419</td>\n",
       "      <td>6.097405e+06</td>\n",
       "    </tr>\n",
       "    <tr>\n",
       "      <th>6</th>\n",
       "      <td>SVM</td>\n",
       "      <td>Sin procesar / linear</td>\n",
       "      <td>0.7351</td>\n",
       "      <td>0.8877</td>\n",
       "      <td>120667.133933</td>\n",
       "      <td>9.248978e+04</td>\n",
       "    </tr>\n",
       "    <tr>\n",
       "      <th>7</th>\n",
       "      <td>SVM</td>\n",
       "      <td>Sin procesar / poly</td>\n",
       "      <td>-0.0549</td>\n",
       "      <td>-0.3638</td>\n",
       "      <td>226694.281742</td>\n",
       "      <td>3.340851e+05</td>\n",
       "    </tr>\n",
       "    <tr>\n",
       "      <th>8</th>\n",
       "      <td>SVM</td>\n",
       "      <td>Sin procesar / rbf</td>\n",
       "      <td>-0.1149</td>\n",
       "      <td>-0.0634</td>\n",
       "      <td>261855.869581</td>\n",
       "      <td>2.069879e+05</td>\n",
       "    </tr>\n",
       "    <tr>\n",
       "      <th>9</th>\n",
       "      <td>SVM</td>\n",
       "      <td>Sin procesar / sigmoid</td>\n",
       "      <td>-0.1677</td>\n",
       "      <td>-0.1947</td>\n",
       "      <td>197764.939590</td>\n",
       "      <td>4.573644e+05</td>\n",
       "    </tr>\n",
       "    <tr>\n",
       "      <th>10</th>\n",
       "      <td>SVM</td>\n",
       "      <td>Sin procesar / linear / Sin outliers</td>\n",
       "      <td>0.6691</td>\n",
       "      <td>0.7081</td>\n",
       "      <td>76661.038016</td>\n",
       "      <td>6.962643e+04</td>\n",
       "    </tr>\n",
       "    <tr>\n",
       "      <th>11</th>\n",
       "      <td>SVM</td>\n",
       "      <td>Sin procesar / poly / Sin outliers</td>\n",
       "      <td>-0.1179</td>\n",
       "      <td>-0.0407</td>\n",
       "      <td>138732.371518</td>\n",
       "      <td>1.157646e+05</td>\n",
       "    </tr>\n",
       "    <tr>\n",
       "      <th>12</th>\n",
       "      <td>SVM</td>\n",
       "      <td>Sin procesar / rbf / Sin outliers</td>\n",
       "      <td>-0.0991</td>\n",
       "      <td>-0.2513</td>\n",
       "      <td>132950.734985</td>\n",
       "      <td>1.409752e+05</td>\n",
       "    </tr>\n",
       "    <tr>\n",
       "      <th>13</th>\n",
       "      <td>SVM</td>\n",
       "      <td>Sin procesar / sigmoid / Sin outliers</td>\n",
       "      <td>-0.1236</td>\n",
       "      <td>-0.0250</td>\n",
       "      <td>140338.290283</td>\n",
       "      <td>1.112381e+05</td>\n",
       "    </tr>\n",
       "    <tr>\n",
       "      <th>14</th>\n",
       "      <td>SVM</td>\n",
       "      <td>Datos escalados / linear</td>\n",
       "      <td>-0.1684</td>\n",
       "      <td>-0.0977</td>\n",
       "      <td>231850.235418</td>\n",
       "      <td>3.235220e+05</td>\n",
       "    </tr>\n",
       "    <tr>\n",
       "      <th>15</th>\n",
       "      <td>SVM</td>\n",
       "      <td>Datos escalados / poly</td>\n",
       "      <td>-0.1261</td>\n",
       "      <td>-0.1722</td>\n",
       "      <td>260990.271276</td>\n",
       "      <td>2.090145e+05</td>\n",
       "    </tr>\n",
       "    <tr>\n",
       "      <th>16</th>\n",
       "      <td>SVM</td>\n",
       "      <td>Datos escalados / rbf</td>\n",
       "      <td>-0.1107</td>\n",
       "      <td>-0.0831</td>\n",
       "      <td>259014.883410</td>\n",
       "      <td>2.181456e+05</td>\n",
       "    </tr>\n",
       "    <tr>\n",
       "      <th>17</th>\n",
       "      <td>SVM</td>\n",
       "      <td>Datos escalados / sigmoid</td>\n",
       "      <td>-0.1071</td>\n",
       "      <td>-0.0906</td>\n",
       "      <td>258936.392352</td>\n",
       "      <td>2.185736e+05</td>\n",
       "    </tr>\n",
       "    <tr>\n",
       "      <th>18</th>\n",
       "      <td>SVM</td>\n",
       "      <td>Datos escalados / linear / Sin outliers</td>\n",
       "      <td>-0.1215</td>\n",
       "      <td>-0.0485</td>\n",
       "      <td>131904.283890</td>\n",
       "      <td>1.445637e+05</td>\n",
       "    </tr>\n",
       "    <tr>\n",
       "      <th>19</th>\n",
       "      <td>SVM</td>\n",
       "      <td>Datos escalados / poly / Sin outliers</td>\n",
       "      <td>-0.1014</td>\n",
       "      <td>-0.2175</td>\n",
       "      <td>134278.847355</td>\n",
       "      <td>1.351723e+05</td>\n",
       "    </tr>\n",
       "    <tr>\n",
       "      <th>20</th>\n",
       "      <td>SVM</td>\n",
       "      <td>Datos escalados / rbf / Sin outliers</td>\n",
       "      <td>-0.1161</td>\n",
       "      <td>-0.0671</td>\n",
       "      <td>133895.204244</td>\n",
       "      <td>1.365253e+05</td>\n",
       "    </tr>\n",
       "    <tr>\n",
       "      <th>21</th>\n",
       "      <td>SVM</td>\n",
       "      <td>Datos escalados / sigmoid / Sin outliers</td>\n",
       "      <td>-0.1201</td>\n",
       "      <td>-0.0326</td>\n",
       "      <td>143351.840654</td>\n",
       "      <td>9.903105e+04</td>\n",
       "    </tr>\n",
       "    <tr>\n",
       "      <th>22</th>\n",
       "      <td>Árbol de regresión</td>\n",
       "      <td>Sin procesar</td>\n",
       "      <td>0.6148</td>\n",
       "      <td>0.7762</td>\n",
       "      <td>118103.741870</td>\n",
       "      <td>1.179575e+05</td>\n",
       "    </tr>\n",
       "  </tbody>\n",
       "</table>\n",
       "</div>"
      ],
      "text/plain": [
       "                  Modelo                                  Detalles R2 train  \\\n",
       "0       Regresión Lineal                              Sin procesar   0.7950   \n",
       "1       Regresión Lineal               Sin procesar / Sin outliers   0.8118   \n",
       "2       Regresión Lineal                           Datos escalados   0.7862   \n",
       "3       Regresión Lineal            Datos escalados / Sin outliers   0.7882   \n",
       "4   Regresión Polinómica                    Sin procesar / Grado 3   0.9805   \n",
       "5   Regresión Polinómica     Sin procesar / Grado 3 / Sin outliers   0.4521   \n",
       "6                    SVM                     Sin procesar / linear   0.7351   \n",
       "7                    SVM                       Sin procesar / poly  -0.0549   \n",
       "8                    SVM                        Sin procesar / rbf  -0.1149   \n",
       "9                    SVM                    Sin procesar / sigmoid  -0.1677   \n",
       "10                   SVM      Sin procesar / linear / Sin outliers   0.6691   \n",
       "11                   SVM        Sin procesar / poly / Sin outliers  -0.1179   \n",
       "12                   SVM         Sin procesar / rbf / Sin outliers  -0.0991   \n",
       "13                   SVM     Sin procesar / sigmoid / Sin outliers  -0.1236   \n",
       "14                   SVM                  Datos escalados / linear  -0.1684   \n",
       "15                   SVM                    Datos escalados / poly  -0.1261   \n",
       "16                   SVM                     Datos escalados / rbf  -0.1107   \n",
       "17                   SVM                 Datos escalados / sigmoid  -0.1071   \n",
       "18                   SVM   Datos escalados / linear / Sin outliers  -0.1215   \n",
       "19                   SVM     Datos escalados / poly / Sin outliers  -0.1014   \n",
       "20                   SVM      Datos escalados / rbf / Sin outliers  -0.1161   \n",
       "21                   SVM  Datos escalados / sigmoid / Sin outliers  -0.1201   \n",
       "22    Árbol de regresión                              Sin procesar   0.6148   \n",
       "\n",
       "             R2 test      MAE train      MAE test  \n",
       "0             0.7158  116934.624330  1.151660e+05  \n",
       "1             0.7028   56792.191768  8.810769e+04  \n",
       "2             0.8427  124144.086985  9.185754e+04  \n",
       "3             0.6828   67404.389758  5.768245e+04  \n",
       "4   -1258401276.6614   38457.782036  6.741033e+09  \n",
       "5        -10467.3640  102359.688419  6.097405e+06  \n",
       "6             0.8877  120667.133933  9.248978e+04  \n",
       "7            -0.3638  226694.281742  3.340851e+05  \n",
       "8            -0.0634  261855.869581  2.069879e+05  \n",
       "9            -0.1947  197764.939590  4.573644e+05  \n",
       "10            0.7081   76661.038016  6.962643e+04  \n",
       "11           -0.0407  138732.371518  1.157646e+05  \n",
       "12           -0.2513  132950.734985  1.409752e+05  \n",
       "13           -0.0250  140338.290283  1.112381e+05  \n",
       "14           -0.0977  231850.235418  3.235220e+05  \n",
       "15           -0.1722  260990.271276  2.090145e+05  \n",
       "16           -0.0831  259014.883410  2.181456e+05  \n",
       "17           -0.0906  258936.392352  2.185736e+05  \n",
       "18           -0.0485  131904.283890  1.445637e+05  \n",
       "19           -0.2175  134278.847355  1.351723e+05  \n",
       "20           -0.0671  133895.204244  1.365253e+05  \n",
       "21           -0.0326  143351.840654  9.903105e+04  \n",
       "22            0.7762  118103.741870  1.179575e+05  "
      ]
     },
     "execution_count": 116,
     "metadata": {},
     "output_type": "execute_result"
    }
   ],
   "source": [
    "r2_train,r2_test, MAE_train,MAE_test = Arbol_Regresion(data)\n",
    "final = resultados.shape[0]\n",
    "resultados.loc[final] = ['Árbol de regresión','Sin procesar',r2_train,r2_test, MAE_train,MAE_test]\n",
    "resultados"
   ]
  },
  {
   "cell_type": "markdown",
   "metadata": {},
   "source": [
    "**Árbol de Regresión sin Outliers**"
   ]
  },
  {
   "cell_type": "code",
   "execution_count": 117,
   "metadata": {},
   "outputs": [],
   "source": [
    "file_path = \"../data/data_model_churriana_without_outliers.csv\"\n",
    "data2 = pd.read_csv(file_path, index_col = 0)"
   ]
  },
  {
   "cell_type": "code",
   "execution_count": 118,
   "metadata": {},
   "outputs": [
    {
     "data": {
      "text/html": [
       "<div>\n",
       "<style scoped>\n",
       "    .dataframe tbody tr th:only-of-type {\n",
       "        vertical-align: middle;\n",
       "    }\n",
       "\n",
       "    .dataframe tbody tr th {\n",
       "        vertical-align: top;\n",
       "    }\n",
       "\n",
       "    .dataframe thead th {\n",
       "        text-align: right;\n",
       "    }\n",
       "</style>\n",
       "<table border=\"1\" class=\"dataframe\">\n",
       "  <thead>\n",
       "    <tr style=\"text-align: right;\">\n",
       "      <th></th>\n",
       "      <th>Modelo</th>\n",
       "      <th>Detalles</th>\n",
       "      <th>R2 train</th>\n",
       "      <th>R2 test</th>\n",
       "      <th>MAE train</th>\n",
       "      <th>MAE test</th>\n",
       "    </tr>\n",
       "  </thead>\n",
       "  <tbody>\n",
       "    <tr>\n",
       "      <th>0</th>\n",
       "      <td>Regresión Lineal</td>\n",
       "      <td>Sin procesar</td>\n",
       "      <td>0.7950</td>\n",
       "      <td>0.7158</td>\n",
       "      <td>116934.624330</td>\n",
       "      <td>1.151660e+05</td>\n",
       "    </tr>\n",
       "    <tr>\n",
       "      <th>1</th>\n",
       "      <td>Regresión Lineal</td>\n",
       "      <td>Sin procesar / Sin outliers</td>\n",
       "      <td>0.8118</td>\n",
       "      <td>0.7028</td>\n",
       "      <td>56792.191768</td>\n",
       "      <td>8.810769e+04</td>\n",
       "    </tr>\n",
       "    <tr>\n",
       "      <th>2</th>\n",
       "      <td>Regresión Lineal</td>\n",
       "      <td>Datos escalados</td>\n",
       "      <td>0.7862</td>\n",
       "      <td>0.8427</td>\n",
       "      <td>124144.086985</td>\n",
       "      <td>9.185754e+04</td>\n",
       "    </tr>\n",
       "    <tr>\n",
       "      <th>3</th>\n",
       "      <td>Regresión Lineal</td>\n",
       "      <td>Datos escalados / Sin outliers</td>\n",
       "      <td>0.7882</td>\n",
       "      <td>0.6828</td>\n",
       "      <td>67404.389758</td>\n",
       "      <td>5.768245e+04</td>\n",
       "    </tr>\n",
       "    <tr>\n",
       "      <th>4</th>\n",
       "      <td>Regresión Polinómica</td>\n",
       "      <td>Sin procesar / Grado 3</td>\n",
       "      <td>0.9805</td>\n",
       "      <td>-1258401276.6614</td>\n",
       "      <td>38457.782036</td>\n",
       "      <td>6.741033e+09</td>\n",
       "    </tr>\n",
       "    <tr>\n",
       "      <th>5</th>\n",
       "      <td>Regresión Polinómica</td>\n",
       "      <td>Sin procesar / Grado 3 / Sin outliers</td>\n",
       "      <td>0.4521</td>\n",
       "      <td>-10467.3640</td>\n",
       "      <td>102359.688419</td>\n",
       "      <td>6.097405e+06</td>\n",
       "    </tr>\n",
       "    <tr>\n",
       "      <th>6</th>\n",
       "      <td>SVM</td>\n",
       "      <td>Sin procesar / linear</td>\n",
       "      <td>0.7351</td>\n",
       "      <td>0.8877</td>\n",
       "      <td>120667.133933</td>\n",
       "      <td>9.248978e+04</td>\n",
       "    </tr>\n",
       "    <tr>\n",
       "      <th>7</th>\n",
       "      <td>SVM</td>\n",
       "      <td>Sin procesar / poly</td>\n",
       "      <td>-0.0549</td>\n",
       "      <td>-0.3638</td>\n",
       "      <td>226694.281742</td>\n",
       "      <td>3.340851e+05</td>\n",
       "    </tr>\n",
       "    <tr>\n",
       "      <th>8</th>\n",
       "      <td>SVM</td>\n",
       "      <td>Sin procesar / rbf</td>\n",
       "      <td>-0.1149</td>\n",
       "      <td>-0.0634</td>\n",
       "      <td>261855.869581</td>\n",
       "      <td>2.069879e+05</td>\n",
       "    </tr>\n",
       "    <tr>\n",
       "      <th>9</th>\n",
       "      <td>SVM</td>\n",
       "      <td>Sin procesar / sigmoid</td>\n",
       "      <td>-0.1677</td>\n",
       "      <td>-0.1947</td>\n",
       "      <td>197764.939590</td>\n",
       "      <td>4.573644e+05</td>\n",
       "    </tr>\n",
       "    <tr>\n",
       "      <th>10</th>\n",
       "      <td>SVM</td>\n",
       "      <td>Sin procesar / linear / Sin outliers</td>\n",
       "      <td>0.6691</td>\n",
       "      <td>0.7081</td>\n",
       "      <td>76661.038016</td>\n",
       "      <td>6.962643e+04</td>\n",
       "    </tr>\n",
       "    <tr>\n",
       "      <th>11</th>\n",
       "      <td>SVM</td>\n",
       "      <td>Sin procesar / poly / Sin outliers</td>\n",
       "      <td>-0.1179</td>\n",
       "      <td>-0.0407</td>\n",
       "      <td>138732.371518</td>\n",
       "      <td>1.157646e+05</td>\n",
       "    </tr>\n",
       "    <tr>\n",
       "      <th>12</th>\n",
       "      <td>SVM</td>\n",
       "      <td>Sin procesar / rbf / Sin outliers</td>\n",
       "      <td>-0.0991</td>\n",
       "      <td>-0.2513</td>\n",
       "      <td>132950.734985</td>\n",
       "      <td>1.409752e+05</td>\n",
       "    </tr>\n",
       "    <tr>\n",
       "      <th>13</th>\n",
       "      <td>SVM</td>\n",
       "      <td>Sin procesar / sigmoid / Sin outliers</td>\n",
       "      <td>-0.1236</td>\n",
       "      <td>-0.0250</td>\n",
       "      <td>140338.290283</td>\n",
       "      <td>1.112381e+05</td>\n",
       "    </tr>\n",
       "    <tr>\n",
       "      <th>14</th>\n",
       "      <td>SVM</td>\n",
       "      <td>Datos escalados / linear</td>\n",
       "      <td>-0.1684</td>\n",
       "      <td>-0.0977</td>\n",
       "      <td>231850.235418</td>\n",
       "      <td>3.235220e+05</td>\n",
       "    </tr>\n",
       "    <tr>\n",
       "      <th>15</th>\n",
       "      <td>SVM</td>\n",
       "      <td>Datos escalados / poly</td>\n",
       "      <td>-0.1261</td>\n",
       "      <td>-0.1722</td>\n",
       "      <td>260990.271276</td>\n",
       "      <td>2.090145e+05</td>\n",
       "    </tr>\n",
       "    <tr>\n",
       "      <th>16</th>\n",
       "      <td>SVM</td>\n",
       "      <td>Datos escalados / rbf</td>\n",
       "      <td>-0.1107</td>\n",
       "      <td>-0.0831</td>\n",
       "      <td>259014.883410</td>\n",
       "      <td>2.181456e+05</td>\n",
       "    </tr>\n",
       "    <tr>\n",
       "      <th>17</th>\n",
       "      <td>SVM</td>\n",
       "      <td>Datos escalados / sigmoid</td>\n",
       "      <td>-0.1071</td>\n",
       "      <td>-0.0906</td>\n",
       "      <td>258936.392352</td>\n",
       "      <td>2.185736e+05</td>\n",
       "    </tr>\n",
       "    <tr>\n",
       "      <th>18</th>\n",
       "      <td>SVM</td>\n",
       "      <td>Datos escalados / linear / Sin outliers</td>\n",
       "      <td>-0.1215</td>\n",
       "      <td>-0.0485</td>\n",
       "      <td>131904.283890</td>\n",
       "      <td>1.445637e+05</td>\n",
       "    </tr>\n",
       "    <tr>\n",
       "      <th>19</th>\n",
       "      <td>SVM</td>\n",
       "      <td>Datos escalados / poly / Sin outliers</td>\n",
       "      <td>-0.1014</td>\n",
       "      <td>-0.2175</td>\n",
       "      <td>134278.847355</td>\n",
       "      <td>1.351723e+05</td>\n",
       "    </tr>\n",
       "    <tr>\n",
       "      <th>20</th>\n",
       "      <td>SVM</td>\n",
       "      <td>Datos escalados / rbf / Sin outliers</td>\n",
       "      <td>-0.1161</td>\n",
       "      <td>-0.0671</td>\n",
       "      <td>133895.204244</td>\n",
       "      <td>1.365253e+05</td>\n",
       "    </tr>\n",
       "    <tr>\n",
       "      <th>21</th>\n",
       "      <td>SVM</td>\n",
       "      <td>Datos escalados / sigmoid / Sin outliers</td>\n",
       "      <td>-0.1201</td>\n",
       "      <td>-0.0326</td>\n",
       "      <td>143351.840654</td>\n",
       "      <td>9.903105e+04</td>\n",
       "    </tr>\n",
       "    <tr>\n",
       "      <th>22</th>\n",
       "      <td>Árbol de regresión</td>\n",
       "      <td>Sin procesar</td>\n",
       "      <td>0.6148</td>\n",
       "      <td>0.7762</td>\n",
       "      <td>118103.741870</td>\n",
       "      <td>1.179575e+05</td>\n",
       "    </tr>\n",
       "    <tr>\n",
       "      <th>23</th>\n",
       "      <td>Árbol de regresión</td>\n",
       "      <td>Sin procesar / Sin outliers</td>\n",
       "      <td>0.8162</td>\n",
       "      <td>0.7762</td>\n",
       "      <td>53931.421914</td>\n",
       "      <td>8.774551e+04</td>\n",
       "    </tr>\n",
       "  </tbody>\n",
       "</table>\n",
       "</div>"
      ],
      "text/plain": [
       "                  Modelo                                  Detalles R2 train  \\\n",
       "0       Regresión Lineal                              Sin procesar   0.7950   \n",
       "1       Regresión Lineal               Sin procesar / Sin outliers   0.8118   \n",
       "2       Regresión Lineal                           Datos escalados   0.7862   \n",
       "3       Regresión Lineal            Datos escalados / Sin outliers   0.7882   \n",
       "4   Regresión Polinómica                    Sin procesar / Grado 3   0.9805   \n",
       "5   Regresión Polinómica     Sin procesar / Grado 3 / Sin outliers   0.4521   \n",
       "6                    SVM                     Sin procesar / linear   0.7351   \n",
       "7                    SVM                       Sin procesar / poly  -0.0549   \n",
       "8                    SVM                        Sin procesar / rbf  -0.1149   \n",
       "9                    SVM                    Sin procesar / sigmoid  -0.1677   \n",
       "10                   SVM      Sin procesar / linear / Sin outliers   0.6691   \n",
       "11                   SVM        Sin procesar / poly / Sin outliers  -0.1179   \n",
       "12                   SVM         Sin procesar / rbf / Sin outliers  -0.0991   \n",
       "13                   SVM     Sin procesar / sigmoid / Sin outliers  -0.1236   \n",
       "14                   SVM                  Datos escalados / linear  -0.1684   \n",
       "15                   SVM                    Datos escalados / poly  -0.1261   \n",
       "16                   SVM                     Datos escalados / rbf  -0.1107   \n",
       "17                   SVM                 Datos escalados / sigmoid  -0.1071   \n",
       "18                   SVM   Datos escalados / linear / Sin outliers  -0.1215   \n",
       "19                   SVM     Datos escalados / poly / Sin outliers  -0.1014   \n",
       "20                   SVM      Datos escalados / rbf / Sin outliers  -0.1161   \n",
       "21                   SVM  Datos escalados / sigmoid / Sin outliers  -0.1201   \n",
       "22    Árbol de regresión                              Sin procesar   0.6148   \n",
       "23    Árbol de regresión               Sin procesar / Sin outliers   0.8162   \n",
       "\n",
       "             R2 test      MAE train      MAE test  \n",
       "0             0.7158  116934.624330  1.151660e+05  \n",
       "1             0.7028   56792.191768  8.810769e+04  \n",
       "2             0.8427  124144.086985  9.185754e+04  \n",
       "3             0.6828   67404.389758  5.768245e+04  \n",
       "4   -1258401276.6614   38457.782036  6.741033e+09  \n",
       "5        -10467.3640  102359.688419  6.097405e+06  \n",
       "6             0.8877  120667.133933  9.248978e+04  \n",
       "7            -0.3638  226694.281742  3.340851e+05  \n",
       "8            -0.0634  261855.869581  2.069879e+05  \n",
       "9            -0.1947  197764.939590  4.573644e+05  \n",
       "10            0.7081   76661.038016  6.962643e+04  \n",
       "11           -0.0407  138732.371518  1.157646e+05  \n",
       "12           -0.2513  132950.734985  1.409752e+05  \n",
       "13           -0.0250  140338.290283  1.112381e+05  \n",
       "14           -0.0977  231850.235418  3.235220e+05  \n",
       "15           -0.1722  260990.271276  2.090145e+05  \n",
       "16           -0.0831  259014.883410  2.181456e+05  \n",
       "17           -0.0906  258936.392352  2.185736e+05  \n",
       "18           -0.0485  131904.283890  1.445637e+05  \n",
       "19           -0.2175  134278.847355  1.351723e+05  \n",
       "20           -0.0671  133895.204244  1.365253e+05  \n",
       "21           -0.0326  143351.840654  9.903105e+04  \n",
       "22            0.7762  118103.741870  1.179575e+05  \n",
       "23            0.7762   53931.421914  8.774551e+04  "
      ]
     },
     "execution_count": 118,
     "metadata": {},
     "output_type": "execute_result"
    }
   ],
   "source": [
    "Arbol_Regresion(data2)\n",
    "r2_train,r2_tes, MAE_train,MAE_test = Arbol_Regresion(data2)\n",
    "final = resultados.shape[0]\n",
    "resultados.loc[final] = ['Árbol de regresión','Sin procesar / Sin outliers',r2_train,r2_test, MAE_train,MAE_test]\n",
    "resultados"
   ]
  },
  {
   "cell_type": "markdown",
   "metadata": {},
   "source": [
    "**Datos Escalados**"
   ]
  },
  {
   "cell_type": "code",
   "execution_count": 119,
   "metadata": {},
   "outputs": [],
   "source": [
    "data2 = data\n",
    "data2[col_esc] = scale.fit_transform(data[col_esc])"
   ]
  },
  {
   "cell_type": "code",
   "execution_count": 120,
   "metadata": {},
   "outputs": [
    {
     "data": {
      "text/html": [
       "<div>\n",
       "<style scoped>\n",
       "    .dataframe tbody tr th:only-of-type {\n",
       "        vertical-align: middle;\n",
       "    }\n",
       "\n",
       "    .dataframe tbody tr th {\n",
       "        vertical-align: top;\n",
       "    }\n",
       "\n",
       "    .dataframe thead th {\n",
       "        text-align: right;\n",
       "    }\n",
       "</style>\n",
       "<table border=\"1\" class=\"dataframe\">\n",
       "  <thead>\n",
       "    <tr style=\"text-align: right;\">\n",
       "      <th></th>\n",
       "      <th>Modelo</th>\n",
       "      <th>Detalles</th>\n",
       "      <th>R2 train</th>\n",
       "      <th>R2 test</th>\n",
       "      <th>MAE train</th>\n",
       "      <th>MAE test</th>\n",
       "    </tr>\n",
       "  </thead>\n",
       "  <tbody>\n",
       "    <tr>\n",
       "      <th>0</th>\n",
       "      <td>Regresión Lineal</td>\n",
       "      <td>Sin procesar</td>\n",
       "      <td>0.7950</td>\n",
       "      <td>0.7158</td>\n",
       "      <td>116934.624330</td>\n",
       "      <td>1.151660e+05</td>\n",
       "    </tr>\n",
       "    <tr>\n",
       "      <th>1</th>\n",
       "      <td>Regresión Lineal</td>\n",
       "      <td>Sin procesar / Sin outliers</td>\n",
       "      <td>0.8118</td>\n",
       "      <td>0.7028</td>\n",
       "      <td>56792.191768</td>\n",
       "      <td>8.810769e+04</td>\n",
       "    </tr>\n",
       "    <tr>\n",
       "      <th>2</th>\n",
       "      <td>Regresión Lineal</td>\n",
       "      <td>Datos escalados</td>\n",
       "      <td>0.7862</td>\n",
       "      <td>0.8427</td>\n",
       "      <td>124144.086985</td>\n",
       "      <td>9.185754e+04</td>\n",
       "    </tr>\n",
       "    <tr>\n",
       "      <th>3</th>\n",
       "      <td>Regresión Lineal</td>\n",
       "      <td>Datos escalados / Sin outliers</td>\n",
       "      <td>0.7882</td>\n",
       "      <td>0.6828</td>\n",
       "      <td>67404.389758</td>\n",
       "      <td>5.768245e+04</td>\n",
       "    </tr>\n",
       "    <tr>\n",
       "      <th>4</th>\n",
       "      <td>Regresión Polinómica</td>\n",
       "      <td>Sin procesar / Grado 3</td>\n",
       "      <td>0.9805</td>\n",
       "      <td>-1258401276.6614</td>\n",
       "      <td>38457.782036</td>\n",
       "      <td>6.741033e+09</td>\n",
       "    </tr>\n",
       "    <tr>\n",
       "      <th>5</th>\n",
       "      <td>Regresión Polinómica</td>\n",
       "      <td>Sin procesar / Grado 3 / Sin outliers</td>\n",
       "      <td>0.4521</td>\n",
       "      <td>-10467.3640</td>\n",
       "      <td>102359.688419</td>\n",
       "      <td>6.097405e+06</td>\n",
       "    </tr>\n",
       "    <tr>\n",
       "      <th>6</th>\n",
       "      <td>SVM</td>\n",
       "      <td>Sin procesar / linear</td>\n",
       "      <td>0.7351</td>\n",
       "      <td>0.8877</td>\n",
       "      <td>120667.133933</td>\n",
       "      <td>9.248978e+04</td>\n",
       "    </tr>\n",
       "    <tr>\n",
       "      <th>7</th>\n",
       "      <td>SVM</td>\n",
       "      <td>Sin procesar / poly</td>\n",
       "      <td>-0.0549</td>\n",
       "      <td>-0.3638</td>\n",
       "      <td>226694.281742</td>\n",
       "      <td>3.340851e+05</td>\n",
       "    </tr>\n",
       "    <tr>\n",
       "      <th>8</th>\n",
       "      <td>SVM</td>\n",
       "      <td>Sin procesar / rbf</td>\n",
       "      <td>-0.1149</td>\n",
       "      <td>-0.0634</td>\n",
       "      <td>261855.869581</td>\n",
       "      <td>2.069879e+05</td>\n",
       "    </tr>\n",
       "    <tr>\n",
       "      <th>9</th>\n",
       "      <td>SVM</td>\n",
       "      <td>Sin procesar / sigmoid</td>\n",
       "      <td>-0.1677</td>\n",
       "      <td>-0.1947</td>\n",
       "      <td>197764.939590</td>\n",
       "      <td>4.573644e+05</td>\n",
       "    </tr>\n",
       "    <tr>\n",
       "      <th>10</th>\n",
       "      <td>SVM</td>\n",
       "      <td>Sin procesar / linear / Sin outliers</td>\n",
       "      <td>0.6691</td>\n",
       "      <td>0.7081</td>\n",
       "      <td>76661.038016</td>\n",
       "      <td>6.962643e+04</td>\n",
       "    </tr>\n",
       "    <tr>\n",
       "      <th>11</th>\n",
       "      <td>SVM</td>\n",
       "      <td>Sin procesar / poly / Sin outliers</td>\n",
       "      <td>-0.1179</td>\n",
       "      <td>-0.0407</td>\n",
       "      <td>138732.371518</td>\n",
       "      <td>1.157646e+05</td>\n",
       "    </tr>\n",
       "    <tr>\n",
       "      <th>12</th>\n",
       "      <td>SVM</td>\n",
       "      <td>Sin procesar / rbf / Sin outliers</td>\n",
       "      <td>-0.0991</td>\n",
       "      <td>-0.2513</td>\n",
       "      <td>132950.734985</td>\n",
       "      <td>1.409752e+05</td>\n",
       "    </tr>\n",
       "    <tr>\n",
       "      <th>13</th>\n",
       "      <td>SVM</td>\n",
       "      <td>Sin procesar / sigmoid / Sin outliers</td>\n",
       "      <td>-0.1236</td>\n",
       "      <td>-0.0250</td>\n",
       "      <td>140338.290283</td>\n",
       "      <td>1.112381e+05</td>\n",
       "    </tr>\n",
       "    <tr>\n",
       "      <th>14</th>\n",
       "      <td>SVM</td>\n",
       "      <td>Datos escalados / linear</td>\n",
       "      <td>-0.1684</td>\n",
       "      <td>-0.0977</td>\n",
       "      <td>231850.235418</td>\n",
       "      <td>3.235220e+05</td>\n",
       "    </tr>\n",
       "    <tr>\n",
       "      <th>15</th>\n",
       "      <td>SVM</td>\n",
       "      <td>Datos escalados / poly</td>\n",
       "      <td>-0.1261</td>\n",
       "      <td>-0.1722</td>\n",
       "      <td>260990.271276</td>\n",
       "      <td>2.090145e+05</td>\n",
       "    </tr>\n",
       "    <tr>\n",
       "      <th>16</th>\n",
       "      <td>SVM</td>\n",
       "      <td>Datos escalados / rbf</td>\n",
       "      <td>-0.1107</td>\n",
       "      <td>-0.0831</td>\n",
       "      <td>259014.883410</td>\n",
       "      <td>2.181456e+05</td>\n",
       "    </tr>\n",
       "    <tr>\n",
       "      <th>17</th>\n",
       "      <td>SVM</td>\n",
       "      <td>Datos escalados / sigmoid</td>\n",
       "      <td>-0.1071</td>\n",
       "      <td>-0.0906</td>\n",
       "      <td>258936.392352</td>\n",
       "      <td>2.185736e+05</td>\n",
       "    </tr>\n",
       "    <tr>\n",
       "      <th>18</th>\n",
       "      <td>SVM</td>\n",
       "      <td>Datos escalados / linear / Sin outliers</td>\n",
       "      <td>-0.1215</td>\n",
       "      <td>-0.0485</td>\n",
       "      <td>131904.283890</td>\n",
       "      <td>1.445637e+05</td>\n",
       "    </tr>\n",
       "    <tr>\n",
       "      <th>19</th>\n",
       "      <td>SVM</td>\n",
       "      <td>Datos escalados / poly / Sin outliers</td>\n",
       "      <td>-0.1014</td>\n",
       "      <td>-0.2175</td>\n",
       "      <td>134278.847355</td>\n",
       "      <td>1.351723e+05</td>\n",
       "    </tr>\n",
       "    <tr>\n",
       "      <th>20</th>\n",
       "      <td>SVM</td>\n",
       "      <td>Datos escalados / rbf / Sin outliers</td>\n",
       "      <td>-0.1161</td>\n",
       "      <td>-0.0671</td>\n",
       "      <td>133895.204244</td>\n",
       "      <td>1.365253e+05</td>\n",
       "    </tr>\n",
       "    <tr>\n",
       "      <th>21</th>\n",
       "      <td>SVM</td>\n",
       "      <td>Datos escalados / sigmoid / Sin outliers</td>\n",
       "      <td>-0.1201</td>\n",
       "      <td>-0.0326</td>\n",
       "      <td>143351.840654</td>\n",
       "      <td>9.903105e+04</td>\n",
       "    </tr>\n",
       "    <tr>\n",
       "      <th>22</th>\n",
       "      <td>Árbol de regresión</td>\n",
       "      <td>Sin procesar</td>\n",
       "      <td>0.6148</td>\n",
       "      <td>0.7762</td>\n",
       "      <td>118103.741870</td>\n",
       "      <td>1.179575e+05</td>\n",
       "    </tr>\n",
       "    <tr>\n",
       "      <th>23</th>\n",
       "      <td>Árbol de regresión</td>\n",
       "      <td>Sin procesar / Sin outliers</td>\n",
       "      <td>0.8162</td>\n",
       "      <td>0.7762</td>\n",
       "      <td>53931.421914</td>\n",
       "      <td>8.774551e+04</td>\n",
       "    </tr>\n",
       "    <tr>\n",
       "      <th>24</th>\n",
       "      <td>Árbol de regresión</td>\n",
       "      <td>Datos escalados</td>\n",
       "      <td>0.6332</td>\n",
       "      <td>0.7762</td>\n",
       "      <td>116462.501528</td>\n",
       "      <td>1.224157e+05</td>\n",
       "    </tr>\n",
       "  </tbody>\n",
       "</table>\n",
       "</div>"
      ],
      "text/plain": [
       "                  Modelo                                  Detalles R2 train  \\\n",
       "0       Regresión Lineal                              Sin procesar   0.7950   \n",
       "1       Regresión Lineal               Sin procesar / Sin outliers   0.8118   \n",
       "2       Regresión Lineal                           Datos escalados   0.7862   \n",
       "3       Regresión Lineal            Datos escalados / Sin outliers   0.7882   \n",
       "4   Regresión Polinómica                    Sin procesar / Grado 3   0.9805   \n",
       "5   Regresión Polinómica     Sin procesar / Grado 3 / Sin outliers   0.4521   \n",
       "6                    SVM                     Sin procesar / linear   0.7351   \n",
       "7                    SVM                       Sin procesar / poly  -0.0549   \n",
       "8                    SVM                        Sin procesar / rbf  -0.1149   \n",
       "9                    SVM                    Sin procesar / sigmoid  -0.1677   \n",
       "10                   SVM      Sin procesar / linear / Sin outliers   0.6691   \n",
       "11                   SVM        Sin procesar / poly / Sin outliers  -0.1179   \n",
       "12                   SVM         Sin procesar / rbf / Sin outliers  -0.0991   \n",
       "13                   SVM     Sin procesar / sigmoid / Sin outliers  -0.1236   \n",
       "14                   SVM                  Datos escalados / linear  -0.1684   \n",
       "15                   SVM                    Datos escalados / poly  -0.1261   \n",
       "16                   SVM                     Datos escalados / rbf  -0.1107   \n",
       "17                   SVM                 Datos escalados / sigmoid  -0.1071   \n",
       "18                   SVM   Datos escalados / linear / Sin outliers  -0.1215   \n",
       "19                   SVM     Datos escalados / poly / Sin outliers  -0.1014   \n",
       "20                   SVM      Datos escalados / rbf / Sin outliers  -0.1161   \n",
       "21                   SVM  Datos escalados / sigmoid / Sin outliers  -0.1201   \n",
       "22    Árbol de regresión                              Sin procesar   0.6148   \n",
       "23    Árbol de regresión               Sin procesar / Sin outliers   0.8162   \n",
       "24    Árbol de regresión                           Datos escalados   0.6332   \n",
       "\n",
       "             R2 test      MAE train      MAE test  \n",
       "0             0.7158  116934.624330  1.151660e+05  \n",
       "1             0.7028   56792.191768  8.810769e+04  \n",
       "2             0.8427  124144.086985  9.185754e+04  \n",
       "3             0.6828   67404.389758  5.768245e+04  \n",
       "4   -1258401276.6614   38457.782036  6.741033e+09  \n",
       "5        -10467.3640  102359.688419  6.097405e+06  \n",
       "6             0.8877  120667.133933  9.248978e+04  \n",
       "7            -0.3638  226694.281742  3.340851e+05  \n",
       "8            -0.0634  261855.869581  2.069879e+05  \n",
       "9            -0.1947  197764.939590  4.573644e+05  \n",
       "10            0.7081   76661.038016  6.962643e+04  \n",
       "11           -0.0407  138732.371518  1.157646e+05  \n",
       "12           -0.2513  132950.734985  1.409752e+05  \n",
       "13           -0.0250  140338.290283  1.112381e+05  \n",
       "14           -0.0977  231850.235418  3.235220e+05  \n",
       "15           -0.1722  260990.271276  2.090145e+05  \n",
       "16           -0.0831  259014.883410  2.181456e+05  \n",
       "17           -0.0906  258936.392352  2.185736e+05  \n",
       "18           -0.0485  131904.283890  1.445637e+05  \n",
       "19           -0.2175  134278.847355  1.351723e+05  \n",
       "20           -0.0671  133895.204244  1.365253e+05  \n",
       "21           -0.0326  143351.840654  9.903105e+04  \n",
       "22            0.7762  118103.741870  1.179575e+05  \n",
       "23            0.7762   53931.421914  8.774551e+04  \n",
       "24            0.7762  116462.501528  1.224157e+05  "
      ]
     },
     "execution_count": 120,
     "metadata": {},
     "output_type": "execute_result"
    }
   ],
   "source": [
    "Arbol_Regresion(data3)\n",
    "r2_train,r2_tes, MAE_train,MAE_test = Arbol_Regresion(data3)\n",
    "final = resultados.shape[0]\n",
    "resultados.loc[final] = ['Árbol de regresión','Datos escalados',r2_train,r2_test, MAE_train,MAE_test]\n",
    "resultados"
   ]
  },
  {
   "cell_type": "markdown",
   "metadata": {},
   "source": [
    "**Datos Escalados Sin Outliers**"
   ]
  },
  {
   "cell_type": "code",
   "execution_count": 121,
   "metadata": {},
   "outputs": [],
   "source": [
    "data4 = data2\n",
    "data4[col_esc] = scale.fit_transform(data2[col_esc])"
   ]
  },
  {
   "cell_type": "code",
   "execution_count": 122,
   "metadata": {
    "tags": []
   },
   "outputs": [
    {
     "data": {
      "text/html": [
       "<div>\n",
       "<style scoped>\n",
       "    .dataframe tbody tr th:only-of-type {\n",
       "        vertical-align: middle;\n",
       "    }\n",
       "\n",
       "    .dataframe tbody tr th {\n",
       "        vertical-align: top;\n",
       "    }\n",
       "\n",
       "    .dataframe thead th {\n",
       "        text-align: right;\n",
       "    }\n",
       "</style>\n",
       "<table border=\"1\" class=\"dataframe\">\n",
       "  <thead>\n",
       "    <tr style=\"text-align: right;\">\n",
       "      <th></th>\n",
       "      <th>Modelo</th>\n",
       "      <th>Detalles</th>\n",
       "      <th>R2 train</th>\n",
       "      <th>R2 test</th>\n",
       "      <th>MAE train</th>\n",
       "      <th>MAE test</th>\n",
       "    </tr>\n",
       "  </thead>\n",
       "  <tbody>\n",
       "    <tr>\n",
       "      <th>0</th>\n",
       "      <td>Regresión Lineal</td>\n",
       "      <td>Sin procesar</td>\n",
       "      <td>0.7950</td>\n",
       "      <td>0.7158</td>\n",
       "      <td>116934.624330</td>\n",
       "      <td>1.151660e+05</td>\n",
       "    </tr>\n",
       "    <tr>\n",
       "      <th>1</th>\n",
       "      <td>Regresión Lineal</td>\n",
       "      <td>Sin procesar / Sin outliers</td>\n",
       "      <td>0.8118</td>\n",
       "      <td>0.7028</td>\n",
       "      <td>56792.191768</td>\n",
       "      <td>8.810769e+04</td>\n",
       "    </tr>\n",
       "    <tr>\n",
       "      <th>2</th>\n",
       "      <td>Regresión Lineal</td>\n",
       "      <td>Datos escalados</td>\n",
       "      <td>0.7862</td>\n",
       "      <td>0.8427</td>\n",
       "      <td>124144.086985</td>\n",
       "      <td>9.185754e+04</td>\n",
       "    </tr>\n",
       "    <tr>\n",
       "      <th>3</th>\n",
       "      <td>Regresión Lineal</td>\n",
       "      <td>Datos escalados / Sin outliers</td>\n",
       "      <td>0.7882</td>\n",
       "      <td>0.6828</td>\n",
       "      <td>67404.389758</td>\n",
       "      <td>5.768245e+04</td>\n",
       "    </tr>\n",
       "    <tr>\n",
       "      <th>4</th>\n",
       "      <td>Regresión Polinómica</td>\n",
       "      <td>Sin procesar / Grado 3</td>\n",
       "      <td>0.9805</td>\n",
       "      <td>-1258401276.6614</td>\n",
       "      <td>38457.782036</td>\n",
       "      <td>6.741033e+09</td>\n",
       "    </tr>\n",
       "    <tr>\n",
       "      <th>5</th>\n",
       "      <td>Regresión Polinómica</td>\n",
       "      <td>Sin procesar / Grado 3 / Sin outliers</td>\n",
       "      <td>0.4521</td>\n",
       "      <td>-10467.3640</td>\n",
       "      <td>102359.688419</td>\n",
       "      <td>6.097405e+06</td>\n",
       "    </tr>\n",
       "    <tr>\n",
       "      <th>6</th>\n",
       "      <td>SVM</td>\n",
       "      <td>Sin procesar / linear</td>\n",
       "      <td>0.7351</td>\n",
       "      <td>0.8877</td>\n",
       "      <td>120667.133933</td>\n",
       "      <td>9.248978e+04</td>\n",
       "    </tr>\n",
       "    <tr>\n",
       "      <th>7</th>\n",
       "      <td>SVM</td>\n",
       "      <td>Sin procesar / poly</td>\n",
       "      <td>-0.0549</td>\n",
       "      <td>-0.3638</td>\n",
       "      <td>226694.281742</td>\n",
       "      <td>3.340851e+05</td>\n",
       "    </tr>\n",
       "    <tr>\n",
       "      <th>8</th>\n",
       "      <td>SVM</td>\n",
       "      <td>Sin procesar / rbf</td>\n",
       "      <td>-0.1149</td>\n",
       "      <td>-0.0634</td>\n",
       "      <td>261855.869581</td>\n",
       "      <td>2.069879e+05</td>\n",
       "    </tr>\n",
       "    <tr>\n",
       "      <th>9</th>\n",
       "      <td>SVM</td>\n",
       "      <td>Sin procesar / sigmoid</td>\n",
       "      <td>-0.1677</td>\n",
       "      <td>-0.1947</td>\n",
       "      <td>197764.939590</td>\n",
       "      <td>4.573644e+05</td>\n",
       "    </tr>\n",
       "    <tr>\n",
       "      <th>10</th>\n",
       "      <td>SVM</td>\n",
       "      <td>Sin procesar / linear / Sin outliers</td>\n",
       "      <td>0.6691</td>\n",
       "      <td>0.7081</td>\n",
       "      <td>76661.038016</td>\n",
       "      <td>6.962643e+04</td>\n",
       "    </tr>\n",
       "    <tr>\n",
       "      <th>11</th>\n",
       "      <td>SVM</td>\n",
       "      <td>Sin procesar / poly / Sin outliers</td>\n",
       "      <td>-0.1179</td>\n",
       "      <td>-0.0407</td>\n",
       "      <td>138732.371518</td>\n",
       "      <td>1.157646e+05</td>\n",
       "    </tr>\n",
       "    <tr>\n",
       "      <th>12</th>\n",
       "      <td>SVM</td>\n",
       "      <td>Sin procesar / rbf / Sin outliers</td>\n",
       "      <td>-0.0991</td>\n",
       "      <td>-0.2513</td>\n",
       "      <td>132950.734985</td>\n",
       "      <td>1.409752e+05</td>\n",
       "    </tr>\n",
       "    <tr>\n",
       "      <th>13</th>\n",
       "      <td>SVM</td>\n",
       "      <td>Sin procesar / sigmoid / Sin outliers</td>\n",
       "      <td>-0.1236</td>\n",
       "      <td>-0.0250</td>\n",
       "      <td>140338.290283</td>\n",
       "      <td>1.112381e+05</td>\n",
       "    </tr>\n",
       "    <tr>\n",
       "      <th>14</th>\n",
       "      <td>SVM</td>\n",
       "      <td>Datos escalados / linear</td>\n",
       "      <td>-0.1684</td>\n",
       "      <td>-0.0977</td>\n",
       "      <td>231850.235418</td>\n",
       "      <td>3.235220e+05</td>\n",
       "    </tr>\n",
       "    <tr>\n",
       "      <th>15</th>\n",
       "      <td>SVM</td>\n",
       "      <td>Datos escalados / poly</td>\n",
       "      <td>-0.1261</td>\n",
       "      <td>-0.1722</td>\n",
       "      <td>260990.271276</td>\n",
       "      <td>2.090145e+05</td>\n",
       "    </tr>\n",
       "    <tr>\n",
       "      <th>16</th>\n",
       "      <td>SVM</td>\n",
       "      <td>Datos escalados / rbf</td>\n",
       "      <td>-0.1107</td>\n",
       "      <td>-0.0831</td>\n",
       "      <td>259014.883410</td>\n",
       "      <td>2.181456e+05</td>\n",
       "    </tr>\n",
       "    <tr>\n",
       "      <th>17</th>\n",
       "      <td>SVM</td>\n",
       "      <td>Datos escalados / sigmoid</td>\n",
       "      <td>-0.1071</td>\n",
       "      <td>-0.0906</td>\n",
       "      <td>258936.392352</td>\n",
       "      <td>2.185736e+05</td>\n",
       "    </tr>\n",
       "    <tr>\n",
       "      <th>18</th>\n",
       "      <td>SVM</td>\n",
       "      <td>Datos escalados / linear / Sin outliers</td>\n",
       "      <td>-0.1215</td>\n",
       "      <td>-0.0485</td>\n",
       "      <td>131904.283890</td>\n",
       "      <td>1.445637e+05</td>\n",
       "    </tr>\n",
       "    <tr>\n",
       "      <th>19</th>\n",
       "      <td>SVM</td>\n",
       "      <td>Datos escalados / poly / Sin outliers</td>\n",
       "      <td>-0.1014</td>\n",
       "      <td>-0.2175</td>\n",
       "      <td>134278.847355</td>\n",
       "      <td>1.351723e+05</td>\n",
       "    </tr>\n",
       "    <tr>\n",
       "      <th>20</th>\n",
       "      <td>SVM</td>\n",
       "      <td>Datos escalados / rbf / Sin outliers</td>\n",
       "      <td>-0.1161</td>\n",
       "      <td>-0.0671</td>\n",
       "      <td>133895.204244</td>\n",
       "      <td>1.365253e+05</td>\n",
       "    </tr>\n",
       "    <tr>\n",
       "      <th>21</th>\n",
       "      <td>SVM</td>\n",
       "      <td>Datos escalados / sigmoid / Sin outliers</td>\n",
       "      <td>-0.1201</td>\n",
       "      <td>-0.0326</td>\n",
       "      <td>143351.840654</td>\n",
       "      <td>9.903105e+04</td>\n",
       "    </tr>\n",
       "    <tr>\n",
       "      <th>22</th>\n",
       "      <td>Árbol de regresión</td>\n",
       "      <td>Sin procesar</td>\n",
       "      <td>0.6148</td>\n",
       "      <td>0.7762</td>\n",
       "      <td>118103.741870</td>\n",
       "      <td>1.179575e+05</td>\n",
       "    </tr>\n",
       "    <tr>\n",
       "      <th>23</th>\n",
       "      <td>Árbol de regresión</td>\n",
       "      <td>Sin procesar / Sin outliers</td>\n",
       "      <td>0.8162</td>\n",
       "      <td>0.7762</td>\n",
       "      <td>53931.421914</td>\n",
       "      <td>8.774551e+04</td>\n",
       "    </tr>\n",
       "    <tr>\n",
       "      <th>24</th>\n",
       "      <td>Árbol de regresión</td>\n",
       "      <td>Datos escalados</td>\n",
       "      <td>0.6332</td>\n",
       "      <td>0.7762</td>\n",
       "      <td>116462.501528</td>\n",
       "      <td>1.224157e+05</td>\n",
       "    </tr>\n",
       "    <tr>\n",
       "      <th>25</th>\n",
       "      <td>Árbol de regresión</td>\n",
       "      <td>Datos escalados / Sin outliers</td>\n",
       "      <td>0.6585</td>\n",
       "      <td>0.7762</td>\n",
       "      <td>114538.747730</td>\n",
       "      <td>1.357768e+05</td>\n",
       "    </tr>\n",
       "  </tbody>\n",
       "</table>\n",
       "</div>"
      ],
      "text/plain": [
       "                  Modelo                                  Detalles R2 train  \\\n",
       "0       Regresión Lineal                              Sin procesar   0.7950   \n",
       "1       Regresión Lineal               Sin procesar / Sin outliers   0.8118   \n",
       "2       Regresión Lineal                           Datos escalados   0.7862   \n",
       "3       Regresión Lineal            Datos escalados / Sin outliers   0.7882   \n",
       "4   Regresión Polinómica                    Sin procesar / Grado 3   0.9805   \n",
       "5   Regresión Polinómica     Sin procesar / Grado 3 / Sin outliers   0.4521   \n",
       "6                    SVM                     Sin procesar / linear   0.7351   \n",
       "7                    SVM                       Sin procesar / poly  -0.0549   \n",
       "8                    SVM                        Sin procesar / rbf  -0.1149   \n",
       "9                    SVM                    Sin procesar / sigmoid  -0.1677   \n",
       "10                   SVM      Sin procesar / linear / Sin outliers   0.6691   \n",
       "11                   SVM        Sin procesar / poly / Sin outliers  -0.1179   \n",
       "12                   SVM         Sin procesar / rbf / Sin outliers  -0.0991   \n",
       "13                   SVM     Sin procesar / sigmoid / Sin outliers  -0.1236   \n",
       "14                   SVM                  Datos escalados / linear  -0.1684   \n",
       "15                   SVM                    Datos escalados / poly  -0.1261   \n",
       "16                   SVM                     Datos escalados / rbf  -0.1107   \n",
       "17                   SVM                 Datos escalados / sigmoid  -0.1071   \n",
       "18                   SVM   Datos escalados / linear / Sin outliers  -0.1215   \n",
       "19                   SVM     Datos escalados / poly / Sin outliers  -0.1014   \n",
       "20                   SVM      Datos escalados / rbf / Sin outliers  -0.1161   \n",
       "21                   SVM  Datos escalados / sigmoid / Sin outliers  -0.1201   \n",
       "22    Árbol de regresión                              Sin procesar   0.6148   \n",
       "23    Árbol de regresión               Sin procesar / Sin outliers   0.8162   \n",
       "24    Árbol de regresión                           Datos escalados   0.6332   \n",
       "25    Árbol de regresión            Datos escalados / Sin outliers   0.6585   \n",
       "\n",
       "             R2 test      MAE train      MAE test  \n",
       "0             0.7158  116934.624330  1.151660e+05  \n",
       "1             0.7028   56792.191768  8.810769e+04  \n",
       "2             0.8427  124144.086985  9.185754e+04  \n",
       "3             0.6828   67404.389758  5.768245e+04  \n",
       "4   -1258401276.6614   38457.782036  6.741033e+09  \n",
       "5        -10467.3640  102359.688419  6.097405e+06  \n",
       "6             0.8877  120667.133933  9.248978e+04  \n",
       "7            -0.3638  226694.281742  3.340851e+05  \n",
       "8            -0.0634  261855.869581  2.069879e+05  \n",
       "9            -0.1947  197764.939590  4.573644e+05  \n",
       "10            0.7081   76661.038016  6.962643e+04  \n",
       "11           -0.0407  138732.371518  1.157646e+05  \n",
       "12           -0.2513  132950.734985  1.409752e+05  \n",
       "13           -0.0250  140338.290283  1.112381e+05  \n",
       "14           -0.0977  231850.235418  3.235220e+05  \n",
       "15           -0.1722  260990.271276  2.090145e+05  \n",
       "16           -0.0831  259014.883410  2.181456e+05  \n",
       "17           -0.0906  258936.392352  2.185736e+05  \n",
       "18           -0.0485  131904.283890  1.445637e+05  \n",
       "19           -0.2175  134278.847355  1.351723e+05  \n",
       "20           -0.0671  133895.204244  1.365253e+05  \n",
       "21           -0.0326  143351.840654  9.903105e+04  \n",
       "22            0.7762  118103.741870  1.179575e+05  \n",
       "23            0.7762   53931.421914  8.774551e+04  \n",
       "24            0.7762  116462.501528  1.224157e+05  \n",
       "25            0.7762  114538.747730  1.357768e+05  "
      ]
     },
     "execution_count": 122,
     "metadata": {},
     "output_type": "execute_result"
    }
   ],
   "source": [
    "Arbol_Regresion(data4)\n",
    "r2_train,r2_tes, MAE_train,MAE_test = Arbol_Regresion(data4)\n",
    "final = resultados.shape[0]\n",
    "resultados.loc[final] = ['Árbol de regresión','Datos escalados / Sin outliers',r2_train,r2_test, MAE_train,MAE_test]\n",
    "resultados"
   ]
  },
  {
   "cell_type": "markdown",
   "metadata": {
    "tags": []
   },
   "source": [
    "#### **Redes neuronales - Regresión**\n"
   ]
  },
  {
   "cell_type": "markdown",
   "metadata": {},
   "source": [
    "**Compilación del modelo**"
   ]
  },
  {
   "cell_type": "code",
   "execution_count": 123,
   "metadata": {},
   "outputs": [],
   "source": [
    "file_path = \"../data/data_model_churriana_malaga.csv\"\n",
    "data = pd.read_csv(file_path, index_col = 0)"
   ]
  },
  {
   "cell_type": "code",
   "execution_count": 124,
   "metadata": {},
   "outputs": [],
   "source": [
    "data2 = data\n",
    "data2[col_esc] = scale.fit_transform(data[col_esc])"
   ]
  },
  {
   "cell_type": "code",
   "execution_count": 125,
   "metadata": {},
   "outputs": [],
   "source": [
    "import tensorflow as tf\n",
    "from tensorflow.keras import regularizers\n",
    "\n",
    "def get_model_compile():\n",
    "    model = tf.keras.Sequential([\n",
    "        tf.keras.layers.Dense(32,activation='tanh',input_shape=(14,)),\n",
    "        tf.keras.layers.Dense(64,activation='relu'),\n",
    "        tf.keras.layers.Dropout(0.1),\n",
    "        tf.keras.layers.Dense(128,activation='relu'),\n",
    "        tf.keras.layers.Dropout(0.2),\n",
    "        tf.keras.layers.Dense(64,activation='relu'),\n",
    "        tf.keras.layers.Dropout(0.2),\n",
    "        tf.keras.layers.Dense(1)   \n",
    "    ])\n",
    "\n",
    "    optimizer=tf.keras.optimizers.Adam(0.001)\n",
    "    model.compile(loss='mse',\n",
    "                 optimizer=optimizer,\n",
    "                 metrics=['mae','mse'])\n",
    "    return model"
   ]
  },
  {
   "cell_type": "markdown",
   "metadata": {},
   "source": [
    "División del dataset y entrenamiento del modelo¶\n"
   ]
  },
  {
   "cell_type": "code",
   "execution_count": 126,
   "metadata": {},
   "outputs": [],
   "source": [
    "x = data3.drop('price',axis=1)\n",
    "y = data3['price']\n",
    "\n",
    "batch_size = 25 #numero de muestra sobre el que se va a entrenar antes de aplicar el modelo al resto de datos\n",
    "epochs= 10 #numero de veces del bucle de entrenamiento de mi modelo\n",
    "\n",
    "x_train,x_test,y_train,y_test = train_test_split(x,y,test_size=0.2)\n",
    "\n"
   ]
  },
  {
   "cell_type": "code",
   "execution_count": 127,
   "metadata": {},
   "outputs": [],
   "source": [
    "model = get_model_compile()"
   ]
  },
  {
   "cell_type": "code",
   "execution_count": 128,
   "metadata": {},
   "outputs": [],
   "source": [
    "history = model.fit(x_train,y_train,\n",
    "                    epochs=epochs,batch_size=batch_size,\n",
    "                    validation_data=(x_test,y_test),\n",
    "                    shuffle=True,\n",
    "                    verbose=0)"
   ]
  },
  {
   "cell_type": "code",
   "execution_count": 129,
   "metadata": {},
   "outputs": [
    {
     "data": {
      "application/vnd.plotly.v1+json": {
       "config": {
        "plotlyServerURL": "https://plot.ly"
       },
       "data": [
        {
         "mode": "lines",
         "name": "mae",
         "type": "scatter",
         "x": [
          0,
          1,
          2,
          3,
          4,
          5,
          6,
          7,
          8,
          9
         ],
         "xaxis": "x",
         "y": [
          506086.1875,
          506085.59375,
          506084.71875,
          506083.125,
          506080,
          506073.5,
          506061.375,
          506040.59375,
          506001.8125,
          505937.34375
         ],
         "yaxis": "y"
        },
        {
         "mode": "lines",
         "name": "val_mae",
         "type": "scatter",
         "x": [
          0,
          1,
          2,
          3,
          4,
          5,
          6,
          7,
          8,
          9
         ],
         "xaxis": "x",
         "y": [
          392446.5625,
          392445.90625,
          392444.84375,
          392442.625,
          392438.25,
          392429.6875,
          392413.6875,
          392385.25,
          392336.625,
          392256.3125
         ],
         "yaxis": "y"
        },
        {
         "mode": "lines",
         "name": "mse",
         "type": "scatter",
         "x": [
          0,
          1,
          2,
          3,
          4,
          5,
          6,
          7,
          8,
          9
         ],
         "xaxis": "x2",
         "y": [
          560619585536,
          560618995712,
          560618078208,
          560616505344,
          560613031936,
          560606740480,
          560592191488,
          560570957824,
          560527966208,
          560459022336
         ],
         "yaxis": "y2"
        },
        {
         "mode": "lines",
         "name": "val_mse",
         "type": "scatter",
         "x": [
          0,
          1,
          2,
          3,
          4,
          5,
          6,
          7,
          8,
          9
         ],
         "xaxis": "x2",
         "y": [
          236826329088,
          236825804800,
          236824952832,
          236823150592,
          236819480576,
          236812369920,
          236799000576,
          236775276544,
          236734775296,
          236668010496
         ],
         "yaxis": "y2"
        }
       ],
       "layout": {
        "autosize": true,
        "template": {
         "data": {
          "bar": [
           {
            "error_x": {
             "color": "#2a3f5f"
            },
            "error_y": {
             "color": "#2a3f5f"
            },
            "marker": {
             "line": {
              "color": "#E5ECF6",
              "width": 0.5
             },
             "pattern": {
              "fillmode": "overlay",
              "size": 10,
              "solidity": 0.2
             }
            },
            "type": "bar"
           }
          ],
          "barpolar": [
           {
            "marker": {
             "line": {
              "color": "#E5ECF6",
              "width": 0.5
             },
             "pattern": {
              "fillmode": "overlay",
              "size": 10,
              "solidity": 0.2
             }
            },
            "type": "barpolar"
           }
          ],
          "carpet": [
           {
            "aaxis": {
             "endlinecolor": "#2a3f5f",
             "gridcolor": "white",
             "linecolor": "white",
             "minorgridcolor": "white",
             "startlinecolor": "#2a3f5f"
            },
            "baxis": {
             "endlinecolor": "#2a3f5f",
             "gridcolor": "white",
             "linecolor": "white",
             "minorgridcolor": "white",
             "startlinecolor": "#2a3f5f"
            },
            "type": "carpet"
           }
          ],
          "choropleth": [
           {
            "colorbar": {
             "outlinewidth": 0,
             "ticks": ""
            },
            "type": "choropleth"
           }
          ],
          "contour": [
           {
            "colorbar": {
             "outlinewidth": 0,
             "ticks": ""
            },
            "colorscale": [
             [
              0,
              "#0d0887"
             ],
             [
              0.1111111111111111,
              "#46039f"
             ],
             [
              0.2222222222222222,
              "#7201a8"
             ],
             [
              0.3333333333333333,
              "#9c179e"
             ],
             [
              0.4444444444444444,
              "#bd3786"
             ],
             [
              0.5555555555555556,
              "#d8576b"
             ],
             [
              0.6666666666666666,
              "#ed7953"
             ],
             [
              0.7777777777777778,
              "#fb9f3a"
             ],
             [
              0.8888888888888888,
              "#fdca26"
             ],
             [
              1,
              "#f0f921"
             ]
            ],
            "type": "contour"
           }
          ],
          "contourcarpet": [
           {
            "colorbar": {
             "outlinewidth": 0,
             "ticks": ""
            },
            "type": "contourcarpet"
           }
          ],
          "heatmap": [
           {
            "colorbar": {
             "outlinewidth": 0,
             "ticks": ""
            },
            "colorscale": [
             [
              0,
              "#0d0887"
             ],
             [
              0.1111111111111111,
              "#46039f"
             ],
             [
              0.2222222222222222,
              "#7201a8"
             ],
             [
              0.3333333333333333,
              "#9c179e"
             ],
             [
              0.4444444444444444,
              "#bd3786"
             ],
             [
              0.5555555555555556,
              "#d8576b"
             ],
             [
              0.6666666666666666,
              "#ed7953"
             ],
             [
              0.7777777777777778,
              "#fb9f3a"
             ],
             [
              0.8888888888888888,
              "#fdca26"
             ],
             [
              1,
              "#f0f921"
             ]
            ],
            "type": "heatmap"
           }
          ],
          "heatmapgl": [
           {
            "colorbar": {
             "outlinewidth": 0,
             "ticks": ""
            },
            "colorscale": [
             [
              0,
              "#0d0887"
             ],
             [
              0.1111111111111111,
              "#46039f"
             ],
             [
              0.2222222222222222,
              "#7201a8"
             ],
             [
              0.3333333333333333,
              "#9c179e"
             ],
             [
              0.4444444444444444,
              "#bd3786"
             ],
             [
              0.5555555555555556,
              "#d8576b"
             ],
             [
              0.6666666666666666,
              "#ed7953"
             ],
             [
              0.7777777777777778,
              "#fb9f3a"
             ],
             [
              0.8888888888888888,
              "#fdca26"
             ],
             [
              1,
              "#f0f921"
             ]
            ],
            "type": "heatmapgl"
           }
          ],
          "histogram": [
           {
            "marker": {
             "pattern": {
              "fillmode": "overlay",
              "size": 10,
              "solidity": 0.2
             }
            },
            "type": "histogram"
           }
          ],
          "histogram2d": [
           {
            "colorbar": {
             "outlinewidth": 0,
             "ticks": ""
            },
            "colorscale": [
             [
              0,
              "#0d0887"
             ],
             [
              0.1111111111111111,
              "#46039f"
             ],
             [
              0.2222222222222222,
              "#7201a8"
             ],
             [
              0.3333333333333333,
              "#9c179e"
             ],
             [
              0.4444444444444444,
              "#bd3786"
             ],
             [
              0.5555555555555556,
              "#d8576b"
             ],
             [
              0.6666666666666666,
              "#ed7953"
             ],
             [
              0.7777777777777778,
              "#fb9f3a"
             ],
             [
              0.8888888888888888,
              "#fdca26"
             ],
             [
              1,
              "#f0f921"
             ]
            ],
            "type": "histogram2d"
           }
          ],
          "histogram2dcontour": [
           {
            "colorbar": {
             "outlinewidth": 0,
             "ticks": ""
            },
            "colorscale": [
             [
              0,
              "#0d0887"
             ],
             [
              0.1111111111111111,
              "#46039f"
             ],
             [
              0.2222222222222222,
              "#7201a8"
             ],
             [
              0.3333333333333333,
              "#9c179e"
             ],
             [
              0.4444444444444444,
              "#bd3786"
             ],
             [
              0.5555555555555556,
              "#d8576b"
             ],
             [
              0.6666666666666666,
              "#ed7953"
             ],
             [
              0.7777777777777778,
              "#fb9f3a"
             ],
             [
              0.8888888888888888,
              "#fdca26"
             ],
             [
              1,
              "#f0f921"
             ]
            ],
            "type": "histogram2dcontour"
           }
          ],
          "mesh3d": [
           {
            "colorbar": {
             "outlinewidth": 0,
             "ticks": ""
            },
            "type": "mesh3d"
           }
          ],
          "parcoords": [
           {
            "line": {
             "colorbar": {
              "outlinewidth": 0,
              "ticks": ""
             }
            },
            "type": "parcoords"
           }
          ],
          "pie": [
           {
            "automargin": true,
            "type": "pie"
           }
          ],
          "scatter": [
           {
            "fillpattern": {
             "fillmode": "overlay",
             "size": 10,
             "solidity": 0.2
            },
            "type": "scatter"
           }
          ],
          "scatter3d": [
           {
            "line": {
             "colorbar": {
              "outlinewidth": 0,
              "ticks": ""
             }
            },
            "marker": {
             "colorbar": {
              "outlinewidth": 0,
              "ticks": ""
             }
            },
            "type": "scatter3d"
           }
          ],
          "scattercarpet": [
           {
            "marker": {
             "colorbar": {
              "outlinewidth": 0,
              "ticks": ""
             }
            },
            "type": "scattercarpet"
           }
          ],
          "scattergeo": [
           {
            "marker": {
             "colorbar": {
              "outlinewidth": 0,
              "ticks": ""
             }
            },
            "type": "scattergeo"
           }
          ],
          "scattergl": [
           {
            "marker": {
             "colorbar": {
              "outlinewidth": 0,
              "ticks": ""
             }
            },
            "type": "scattergl"
           }
          ],
          "scattermapbox": [
           {
            "marker": {
             "colorbar": {
              "outlinewidth": 0,
              "ticks": ""
             }
            },
            "type": "scattermapbox"
           }
          ],
          "scatterpolar": [
           {
            "marker": {
             "colorbar": {
              "outlinewidth": 0,
              "ticks": ""
             }
            },
            "type": "scatterpolar"
           }
          ],
          "scatterpolargl": [
           {
            "marker": {
             "colorbar": {
              "outlinewidth": 0,
              "ticks": ""
             }
            },
            "type": "scatterpolargl"
           }
          ],
          "scatterternary": [
           {
            "marker": {
             "colorbar": {
              "outlinewidth": 0,
              "ticks": ""
             }
            },
            "type": "scatterternary"
           }
          ],
          "surface": [
           {
            "colorbar": {
             "outlinewidth": 0,
             "ticks": ""
            },
            "colorscale": [
             [
              0,
              "#0d0887"
             ],
             [
              0.1111111111111111,
              "#46039f"
             ],
             [
              0.2222222222222222,
              "#7201a8"
             ],
             [
              0.3333333333333333,
              "#9c179e"
             ],
             [
              0.4444444444444444,
              "#bd3786"
             ],
             [
              0.5555555555555556,
              "#d8576b"
             ],
             [
              0.6666666666666666,
              "#ed7953"
             ],
             [
              0.7777777777777778,
              "#fb9f3a"
             ],
             [
              0.8888888888888888,
              "#fdca26"
             ],
             [
              1,
              "#f0f921"
             ]
            ],
            "type": "surface"
           }
          ],
          "table": [
           {
            "cells": {
             "fill": {
              "color": "#EBF0F8"
             },
             "line": {
              "color": "white"
             }
            },
            "header": {
             "fill": {
              "color": "#C8D4E3"
             },
             "line": {
              "color": "white"
             }
            },
            "type": "table"
           }
          ]
         },
         "layout": {
          "annotationdefaults": {
           "arrowcolor": "#2a3f5f",
           "arrowhead": 0,
           "arrowwidth": 1
          },
          "autotypenumbers": "strict",
          "coloraxis": {
           "colorbar": {
            "outlinewidth": 0,
            "ticks": ""
           }
          },
          "colorscale": {
           "diverging": [
            [
             0,
             "#8e0152"
            ],
            [
             0.1,
             "#c51b7d"
            ],
            [
             0.2,
             "#de77ae"
            ],
            [
             0.3,
             "#f1b6da"
            ],
            [
             0.4,
             "#fde0ef"
            ],
            [
             0.5,
             "#f7f7f7"
            ],
            [
             0.6,
             "#e6f5d0"
            ],
            [
             0.7,
             "#b8e186"
            ],
            [
             0.8,
             "#7fbc41"
            ],
            [
             0.9,
             "#4d9221"
            ],
            [
             1,
             "#276419"
            ]
           ],
           "sequential": [
            [
             0,
             "#0d0887"
            ],
            [
             0.1111111111111111,
             "#46039f"
            ],
            [
             0.2222222222222222,
             "#7201a8"
            ],
            [
             0.3333333333333333,
             "#9c179e"
            ],
            [
             0.4444444444444444,
             "#bd3786"
            ],
            [
             0.5555555555555556,
             "#d8576b"
            ],
            [
             0.6666666666666666,
             "#ed7953"
            ],
            [
             0.7777777777777778,
             "#fb9f3a"
            ],
            [
             0.8888888888888888,
             "#fdca26"
            ],
            [
             1,
             "#f0f921"
            ]
           ],
           "sequentialminus": [
            [
             0,
             "#0d0887"
            ],
            [
             0.1111111111111111,
             "#46039f"
            ],
            [
             0.2222222222222222,
             "#7201a8"
            ],
            [
             0.3333333333333333,
             "#9c179e"
            ],
            [
             0.4444444444444444,
             "#bd3786"
            ],
            [
             0.5555555555555556,
             "#d8576b"
            ],
            [
             0.6666666666666666,
             "#ed7953"
            ],
            [
             0.7777777777777778,
             "#fb9f3a"
            ],
            [
             0.8888888888888888,
             "#fdca26"
            ],
            [
             1,
             "#f0f921"
            ]
           ]
          },
          "colorway": [
           "#636efa",
           "#EF553B",
           "#00cc96",
           "#ab63fa",
           "#FFA15A",
           "#19d3f3",
           "#FF6692",
           "#B6E880",
           "#FF97FF",
           "#FECB52"
          ],
          "font": {
           "color": "#2a3f5f"
          },
          "geo": {
           "bgcolor": "white",
           "lakecolor": "white",
           "landcolor": "#E5ECF6",
           "showlakes": true,
           "showland": true,
           "subunitcolor": "white"
          },
          "hoverlabel": {
           "align": "left"
          },
          "hovermode": "closest",
          "mapbox": {
           "style": "light"
          },
          "paper_bgcolor": "white",
          "plot_bgcolor": "#E5ECF6",
          "polar": {
           "angularaxis": {
            "gridcolor": "white",
            "linecolor": "white",
            "ticks": ""
           },
           "bgcolor": "#E5ECF6",
           "radialaxis": {
            "gridcolor": "white",
            "linecolor": "white",
            "ticks": ""
           }
          },
          "scene": {
           "xaxis": {
            "backgroundcolor": "#E5ECF6",
            "gridcolor": "white",
            "gridwidth": 2,
            "linecolor": "white",
            "showbackground": true,
            "ticks": "",
            "zerolinecolor": "white"
           },
           "yaxis": {
            "backgroundcolor": "#E5ECF6",
            "gridcolor": "white",
            "gridwidth": 2,
            "linecolor": "white",
            "showbackground": true,
            "ticks": "",
            "zerolinecolor": "white"
           },
           "zaxis": {
            "backgroundcolor": "#E5ECF6",
            "gridcolor": "white",
            "gridwidth": 2,
            "linecolor": "white",
            "showbackground": true,
            "ticks": "",
            "zerolinecolor": "white"
           }
          },
          "shapedefaults": {
           "line": {
            "color": "#2a3f5f"
           }
          },
          "ternary": {
           "aaxis": {
            "gridcolor": "white",
            "linecolor": "white",
            "ticks": ""
           },
           "baxis": {
            "gridcolor": "white",
            "linecolor": "white",
            "ticks": ""
           },
           "bgcolor": "#E5ECF6",
           "caxis": {
            "gridcolor": "white",
            "linecolor": "white",
            "ticks": ""
           }
          },
          "title": {
           "x": 0.05
          },
          "xaxis": {
           "automargin": true,
           "gridcolor": "white",
           "linecolor": "white",
           "ticks": "",
           "title": {
            "standoff": 15
           },
           "zerolinecolor": "white",
           "zerolinewidth": 2
          },
          "yaxis": {
           "automargin": true,
           "gridcolor": "white",
           "linecolor": "white",
           "ticks": "",
           "title": {
            "standoff": 15
           },
           "zerolinecolor": "white",
           "zerolinewidth": 2
          }
         }
        },
        "title": {
         "text": "Gráficas de MAE y MSE vs Época"
        },
        "xaxis": {
         "anchor": "y",
         "autorange": true,
         "domain": [
          0,
          0.45
         ],
         "range": [
          0,
          9
         ],
         "type": "linear"
        },
        "xaxis2": {
         "anchor": "y2",
         "autorange": true,
         "domain": [
          0.55,
          1
         ],
         "range": [
          0,
          9
         ],
         "type": "linear"
        },
        "yaxis": {
         "anchor": "x",
         "autorange": true,
         "domain": [
          0,
          1
         ],
         "range": [
          385932.43055555556,
          512410.06944444444
         ],
         "type": "linear"
        },
        "yaxis2": {
         "anchor": "x2",
         "autorange": true,
         "domain": [
          0,
          1
         ],
         "range": [
          218670700771.55554,
          578616895260.4445
         ],
         "type": "linear"
        }
       }
      },
      "image/png": "[encoded data removed]",
      "text/html": [
       "<div>                            <div id=\"7f166d02-d423-40ce-ac43-028f7315f6a6\" class=\"plotly-graph-div\" style=\"height:525px; width:100%;\"></div>            <script type=\"text/javascript\">                require([\"plotly\"], function(Plotly) {                    window.PLOTLYENV=window.PLOTLYENV || {};                                    if (document.getElementById(\"7f166d02-d423-40ce-ac43-028f7315f6a6\")) {                    Plotly.newPlot(                        \"7f166d02-d423-40ce-ac43-028f7315f6a6\",                        [{\"mode\":\"lines\",\"name\":\"mae\",\"x\":[0,1,2,3,4,5,6,7,8,9],\"y\":[506086.1875,506085.59375,506084.71875,506083.125,506080.0,506073.5,506061.375,506040.59375,506001.8125,505937.34375],\"type\":\"scatter\",\"xaxis\":\"x\",\"yaxis\":\"y\"},{\"mode\":\"lines\",\"name\":\"val_mae\",\"x\":[0,1,2,3,4,5,6,7,8,9],\"y\":[392446.5625,392445.90625,392444.84375,392442.625,392438.25,392429.6875,392413.6875,392385.25,392336.625,392256.3125],\"type\":\"scatter\",\"xaxis\":\"x\",\"yaxis\":\"y\"},{\"mode\":\"lines\",\"name\":\"mse\",\"x\":[0,1,2,3,4,5,6,7,8,9],\"y\":[560619585536.0,560618995712.0,560618078208.0,560616505344.0,560613031936.0,560606740480.0,560592191488.0,560570957824.0,560527966208.0,560459022336.0],\"type\":\"scatter\",\"xaxis\":\"x2\",\"yaxis\":\"y2\"},{\"mode\":\"lines\",\"name\":\"val_mse\",\"x\":[0,1,2,3,4,5,6,7,8,9],\"y\":[236826329088.0,236825804800.0,236824952832.0,236823150592.0,236819480576.0,236812369920.0,236799000576.0,236775276544.0,236734775296.0,236668010496.0],\"type\":\"scatter\",\"xaxis\":\"x2\",\"yaxis\":\"y2\"}],                        {\"template\":{\"data\":{\"histogram2dcontour\":[{\"type\":\"histogram2dcontour\",\"colorbar\":{\"outlinewidth\":0,\"ticks\":\"\"},\"colorscale\":[[0.0,\"#0d0887\"],[0.1111111111111111,\"#46039f\"],[0.2222222222222222,\"#7201a8\"],[0.3333333333333333,\"#9c179e\"],[0.4444444444444444,\"#bd3786\"],[0.5555555555555556,\"#d8576b\"],[0.6666666666666666,\"#ed7953\"],[0.7777777777777778,\"#fb9f3a\"],[0.8888888888888888,\"#fdca26\"],[1.0,\"#f0f921\"]]}],\"choropleth\":[{\"type\":\"choropleth\",\"colorbar\":{\"outlinewidth\":0,\"ticks\":\"\"}}],\"histogram2d\":[{\"type\":\"histogram2d\",\"colorbar\":{\"outlinewidth\":0,\"ticks\":\"\"},\"colorscale\":[[0.0,\"#0d0887\"],[0.1111111111111111,\"#46039f\"],[0.2222222222222222,\"#7201a8\"],[0.3333333333333333,\"#9c179e\"],[0.4444444444444444,\"#bd3786\"],[0.5555555555555556,\"#d8576b\"],[0.6666666666666666,\"#ed7953\"],[0.7777777777777778,\"#fb9f3a\"],[0.8888888888888888,\"#fdca26\"],[1.0,\"#f0f921\"]]}],\"heatmap\":[{\"type\":\"heatmap\",\"colorbar\":{\"outlinewidth\":0,\"ticks\":\"\"},\"colorscale\":[[0.0,\"#0d0887\"],[0.1111111111111111,\"#46039f\"],[0.2222222222222222,\"#7201a8\"],[0.3333333333333333,\"#9c179e\"],[0.4444444444444444,\"#bd3786\"],[0.5555555555555556,\"#d8576b\"],[0.6666666666666666,\"#ed7953\"],[0.7777777777777778,\"#fb9f3a\"],[0.8888888888888888,\"#fdca26\"],[1.0,\"#f0f921\"]]}],\"heatmapgl\":[{\"type\":\"heatmapgl\",\"colorbar\":{\"outlinewidth\":0,\"ticks\":\"\"},\"colorscale\":[[0.0,\"#0d0887\"],[0.1111111111111111,\"#46039f\"],[0.2222222222222222,\"#7201a8\"],[0.3333333333333333,\"#9c179e\"],[0.4444444444444444,\"#bd3786\"],[0.5555555555555556,\"#d8576b\"],[0.6666666666666666,\"#ed7953\"],[0.7777777777777778,\"#fb9f3a\"],[0.8888888888888888,\"#fdca26\"],[1.0,\"#f0f921\"]]}],\"contourcarpet\":[{\"type\":\"contourcarpet\",\"colorbar\":{\"outlinewidth\":0,\"ticks\":\"\"}}],\"contour\":[{\"type\":\"contour\",\"colorbar\":{\"outlinewidth\":0,\"ticks\":\"\"},\"colorscale\":[[0.0,\"#0d0887\"],[0.1111111111111111,\"#46039f\"],[0.2222222222222222,\"#7201a8\"],[0.3333333333333333,\"#9c179e\"],[0.4444444444444444,\"#bd3786\"],[0.5555555555555556,\"#d8576b\"],[0.6666666666666666,\"#ed7953\"],[0.7777777777777778,\"#fb9f3a\"],[0.8888888888888888,\"#fdca26\"],[1.0,\"#f0f921\"]]}],\"surface\":[{\"type\":\"surface\",\"colorbar\":{\"outlinewidth\":0,\"ticks\":\"\"},\"colorscale\":[[0.0,\"#0d0887\"],[0.1111111111111111,\"#46039f\"],[0.2222222222222222,\"#7201a8\"],[0.3333333333333333,\"#9c179e\"],[0.4444444444444444,\"#bd3786\"],[0.5555555555555556,\"#d8576b\"],[0.6666666666666666,\"#ed7953\"],[0.7777777777777778,\"#fb9f3a\"],[0.8888888888888888,\"#fdca26\"],[1.0,\"#f0f921\"]]}],\"mesh3d\":[{\"type\":\"mesh3d\",\"colorbar\":{\"outlinewidth\":0,\"ticks\":\"\"}}],\"scatter\":[{\"fillpattern\":{\"fillmode\":\"overlay\",\"size\":10,\"solidity\":0.2},\"type\":\"scatter\"}],\"parcoords\":[{\"type\":\"parcoords\",\"line\":{\"colorbar\":{\"outlinewidth\":0,\"ticks\":\"\"}}}],\"scatterpolargl\":[{\"type\":\"scatterpolargl\",\"marker\":{\"colorbar\":{\"outlinewidth\":0,\"ticks\":\"\"}}}],\"bar\":[{\"error_x\":{\"color\":\"#2a3f5f\"},\"error_y\":{\"color\":\"#2a3f5f\"},\"marker\":{\"line\":{\"color\":\"#E5ECF6\",\"width\":0.5},\"pattern\":{\"fillmode\":\"overlay\",\"size\":10,\"solidity\":0.2}},\"type\":\"bar\"}],\"scattergeo\":[{\"type\":\"scattergeo\",\"marker\":{\"colorbar\":{\"outlinewidth\":0,\"ticks\":\"\"}}}],\"scatterpolar\":[{\"type\":\"scatterpolar\",\"marker\":{\"colorbar\":{\"outlinewidth\":0,\"ticks\":\"\"}}}],\"histogram\":[{\"marker\":{\"pattern\":{\"fillmode\":\"overlay\",\"size\":10,\"solidity\":0.2}},\"type\":\"histogram\"}],\"scattergl\":[{\"type\":\"scattergl\",\"marker\":{\"colorbar\":{\"outlinewidth\":0,\"ticks\":\"\"}}}],\"scatter3d\":[{\"type\":\"scatter3d\",\"line\":{\"colorbar\":{\"outlinewidth\":0,\"ticks\":\"\"}},\"marker\":{\"colorbar\":{\"outlinewidth\":0,\"ticks\":\"\"}}}],\"scattermapbox\":[{\"type\":\"scattermapbox\",\"marker\":{\"colorbar\":{\"outlinewidth\":0,\"ticks\":\"\"}}}],\"scatterternary\":[{\"type\":\"scatterternary\",\"marker\":{\"colorbar\":{\"outlinewidth\":0,\"ticks\":\"\"}}}],\"scattercarpet\":[{\"type\":\"scattercarpet\",\"marker\":{\"colorbar\":{\"outlinewidth\":0,\"ticks\":\"\"}}}],\"carpet\":[{\"aaxis\":{\"endlinecolor\":\"#2a3f5f\",\"gridcolor\":\"white\",\"linecolor\":\"white\",\"minorgridcolor\":\"white\",\"startlinecolor\":\"#2a3f5f\"},\"baxis\":{\"endlinecolor\":\"#2a3f5f\",\"gridcolor\":\"white\",\"linecolor\":\"white\",\"minorgridcolor\":\"white\",\"startlinecolor\":\"#2a3f5f\"},\"type\":\"carpet\"}],\"table\":[{\"cells\":{\"fill\":{\"color\":\"#EBF0F8\"},\"line\":{\"color\":\"white\"}},\"header\":{\"fill\":{\"color\":\"#C8D4E3\"},\"line\":{\"color\":\"white\"}},\"type\":\"table\"}],\"barpolar\":[{\"marker\":{\"line\":{\"color\":\"#E5ECF6\",\"width\":0.5},\"pattern\":{\"fillmode\":\"overlay\",\"size\":10,\"solidity\":0.2}},\"type\":\"barpolar\"}],\"pie\":[{\"automargin\":true,\"type\":\"pie\"}]},\"layout\":{\"autotypenumbers\":\"strict\",\"colorway\":[\"#636efa\",\"#EF553B\",\"#00cc96\",\"#ab63fa\",\"#FFA15A\",\"#19d3f3\",\"#FF6692\",\"#B6E880\",\"#FF97FF\",\"#FECB52\"],\"font\":{\"color\":\"#2a3f5f\"},\"hovermode\":\"closest\",\"hoverlabel\":{\"align\":\"left\"},\"paper_bgcolor\":\"white\",\"plot_bgcolor\":\"#E5ECF6\",\"polar\":{\"bgcolor\":\"#E5ECF6\",\"angularaxis\":{\"gridcolor\":\"white\",\"linecolor\":\"white\",\"ticks\":\"\"},\"radialaxis\":{\"gridcolor\":\"white\",\"linecolor\":\"white\",\"ticks\":\"\"}},\"ternary\":{\"bgcolor\":\"#E5ECF6\",\"aaxis\":{\"gridcolor\":\"white\",\"linecolor\":\"white\",\"ticks\":\"\"},\"baxis\":{\"gridcolor\":\"white\",\"linecolor\":\"white\",\"ticks\":\"\"},\"caxis\":{\"gridcolor\":\"white\",\"linecolor\":\"white\",\"ticks\":\"\"}},\"coloraxis\":{\"colorbar\":{\"outlinewidth\":0,\"ticks\":\"\"}},\"colorscale\":{\"sequential\":[[0.0,\"#0d0887\"],[0.1111111111111111,\"#46039f\"],[0.2222222222222222,\"#7201a8\"],[0.3333333333333333,\"#9c179e\"],[0.4444444444444444,\"#bd3786\"],[0.5555555555555556,\"#d8576b\"],[0.6666666666666666,\"#ed7953\"],[0.7777777777777778,\"#fb9f3a\"],[0.8888888888888888,\"#fdca26\"],[1.0,\"#f0f921\"]],\"sequentialminus\":[[0.0,\"#0d0887\"],[0.1111111111111111,\"#46039f\"],[0.2222222222222222,\"#7201a8\"],[0.3333333333333333,\"#9c179e\"],[0.4444444444444444,\"#bd3786\"],[0.5555555555555556,\"#d8576b\"],[0.6666666666666666,\"#ed7953\"],[0.7777777777777778,\"#fb9f3a\"],[0.8888888888888888,\"#fdca26\"],[1.0,\"#f0f921\"]],\"diverging\":[[0,\"#8e0152\"],[0.1,\"#c51b7d\"],[0.2,\"#de77ae\"],[0.3,\"#f1b6da\"],[0.4,\"#fde0ef\"],[0.5,\"#f7f7f7\"],[0.6,\"#e6f5d0\"],[0.7,\"#b8e186\"],[0.8,\"#7fbc41\"],[0.9,\"#4d9221\"],[1,\"#276419\"]]},\"xaxis\":{\"gridcolor\":\"white\",\"linecolor\":\"white\",\"ticks\":\"\",\"title\":{\"standoff\":15},\"zerolinecolor\":\"white\",\"automargin\":true,\"zerolinewidth\":2},\"yaxis\":{\"gridcolor\":\"white\",\"linecolor\":\"white\",\"ticks\":\"\",\"title\":{\"standoff\":15},\"zerolinecolor\":\"white\",\"automargin\":true,\"zerolinewidth\":2},\"scene\":{\"xaxis\":{\"backgroundcolor\":\"#E5ECF6\",\"gridcolor\":\"white\",\"linecolor\":\"white\",\"showbackground\":true,\"ticks\":\"\",\"zerolinecolor\":\"white\",\"gridwidth\":2},\"yaxis\":{\"backgroundcolor\":\"#E5ECF6\",\"gridcolor\":\"white\",\"linecolor\":\"white\",\"showbackground\":true,\"ticks\":\"\",\"zerolinecolor\":\"white\",\"gridwidth\":2},\"zaxis\":{\"backgroundcolor\":\"#E5ECF6\",\"gridcolor\":\"white\",\"linecolor\":\"white\",\"showbackground\":true,\"ticks\":\"\",\"zerolinecolor\":\"white\",\"gridwidth\":2}},\"shapedefaults\":{\"line\":{\"color\":\"#2a3f5f\"}},\"annotationdefaults\":{\"arrowcolor\":\"#2a3f5f\",\"arrowhead\":0,\"arrowwidth\":1},\"geo\":{\"bgcolor\":\"white\",\"landcolor\":\"#E5ECF6\",\"subunitcolor\":\"white\",\"showland\":true,\"showlakes\":true,\"lakecolor\":\"white\"},\"title\":{\"x\":0.05},\"mapbox\":{\"style\":\"light\"}}},\"xaxis\":{\"anchor\":\"y\",\"domain\":[0.0,0.45]},\"yaxis\":{\"anchor\":\"x\",\"domain\":[0.0,1.0]},\"xaxis2\":{\"anchor\":\"y2\",\"domain\":[0.55,1.0]},\"yaxis2\":{\"anchor\":\"x2\",\"domain\":[0.0,1.0]},\"title\":{\"text\":\"Gr\\u00e1ficas de MAE y MSE vs \\u00c9poca\"}},                        {\"responsive\": true}                    ).then(function(){\n",
       "                            \n",
       "var gd = document.getElementById('7f166d02-d423-40ce-ac43-028f7315f6a6');\n",
       "var x = new MutationObserver(function (mutations, observer) {{\n",
       "        var display = window.getComputedStyle(gd).display;\n",
       "        if (!display || display === 'none') {{\n",
       "            console.log([gd, 'removed!']);\n",
       "            Plotly.purge(gd);\n",
       "            observer.disconnect();\n",
       "        }}\n",
       "}});\n",
       "\n",
       "// Listen for the removal of the full notebook cells\n",
       "var notebookContainer = gd.closest('#notebook-container');\n",
       "if (notebookContainer) {{\n",
       "    x.observe(notebookContainer, {childList: true});\n",
       "}}\n",
       "\n",
       "// Listen for the clearing of the current output cell\n",
       "var outputEl = gd.closest('.output');\n",
       "if (outputEl) {{\n",
       "    x.observe(outputEl, {childList: true});\n",
       "}}\n",
       "\n",
       "                        })                };                });            </script>        </div>"
      ]
     },
     "metadata": {},
     "output_type": "display_data"
    },
    {
     "name": "stdout",
     "output_type": "stream",
     "text": [
      "6/6 [==============================] - 0s 5ms/step\n"
     ]
    },
    {
     "data": {
      "application/vnd.plotly.v1+json": {
       "config": {
        "plotlyServerURL": "https://plot.ly"
       },
       "data": [
        {
         "hovertemplate": "price=%{x}<br>price_pred=%{y}<extra></extra>",
         "legendgroup": "",
         "marker": {
          "color": "#636efa",
          "symbol": "circle"
         },
         "mode": "markers",
         "name": "",
         "orientation": "v",
         "showlegend": false,
         "type": "scatter",
         "x": [
          395000,
          640000,
          567000,
          375900,
          249900,
          230900,
          795000,
          235000,
          690000,
          371000,
          395000,
          595000,
          995000,
          625000,
          450000,
          256500,
          422500,
          1399000,
          256500,
          291800,
          235000,
          262181,
          567000,
          273100,
          246300,
          320000,
          275730,
          135000,
          2706000,
          795000,
          1148000,
          436700,
          291800,
          790000,
          320000,
          795000,
          297100,
          790000,
          205000,
          1148000,
          249900,
          297100,
          779000,
          367000,
          129900,
          179999,
          182100,
          262181,
          900000,
          182000,
          210000,
          235000,
          790000,
          790000,
          299990,
          250000,
          320000,
          550000,
          639000,
          330000,
          1500000,
          54900,
          425000,
          410000,
          895000,
          249900,
          249000,
          223000,
          235000,
          298000,
          139900,
          172000,
          5000000,
          180000,
          1500000,
          318500,
          160000,
          370000,
          205000,
          350000,
          640000,
          157500,
          725000,
          299000,
          430000,
          162000,
          395000,
          860000,
          360000,
          1500000,
          639000,
          1500000,
          173000,
          640000,
          340000,
          359000,
          700000,
          360000,
          700000,
          255000,
          310000,
          240000,
          270000,
          190000,
          1975000,
          260000,
          215000,
          449900,
          85000,
          298000,
          291800,
          262181,
          255900,
          265900,
          255900,
          265900,
          182100,
          291800,
          182100,
          256500,
          1148000,
          750000,
          182100,
          1089800,
          297100,
          291800,
          297100,
          262181,
          1148000,
          256500,
          252000,
          215000,
          225000,
          275000,
          358000,
          1300000,
          355000,
          335000,
          345000,
          362000,
          375900,
          299000,
          189500,
          264500,
          257000,
          258000,
          293000,
          389000,
          344000,
          318000,
          790000,
          175000,
          1990000,
          1210000,
          334000,
          445000,
          215000,
          375900,
          279900,
          299900,
          249900,
          385000,
          172670,
          165877,
          170297,
          262181,
          159320,
          165787,
          176746,
          188400,
          175599,
          1800000,
          422500,
          799900,
          291800,
          297100,
          698000,
          315000,
          278000,
          319000,
          291800,
          256500,
          320000,
          595000,
          640000,
          367500,
          360000
         ],
         "xaxis": "x",
         "y": [
          222.3321533203125,
          222.30831909179688,
          194.8651123046875,
          226.75286865234375,
          195.60110473632812,
          195.05953979492188,
          204.23818969726562,
          160.48585510253906,
          227.19361877441406,
          193.41043090820312,
          218.07440185546875,
          222.98806762695312,
          214.07522583007812,
          199.03213500976562,
          241.89987182617188,
          127.40137481689453,
          131.1790771484375,
          224.4200439453125,
          105.20606994628906,
          236.62689208984375,
          236.62339782714844,
          124.84815979003906,
          194.88095092773438,
          190.319091796875,
          188.7156982421875,
          194.7662811279297,
          162.2400665283203,
          126.83855438232422,
          239.36553955078125,
          221.36383056640625,
          207.360595703125,
          192.2062530517578,
          237.85781860351562,
          219.02914428710938,
          185.46282958984375,
          199.43905639648438,
          236.20986938476562,
          219.59902954101562,
          165.87445068359375,
          209.06365966796875,
          238.07528686523438,
          236.64381408691406,
          197.69247436523438,
          217.81768798828125,
          185.66497802734375,
          235.0596160888672,
          107.91482543945312,
          182.5089111328125,
          212.46224975585938,
          234.68325805664062,
          153.9515838623047,
          214.62863159179688,
          221.0878448486328,
          223.57424926757812,
          139.81646728515625,
          235.78042602539062,
          147.6443634033203,
          221.31544494628906,
          198.48631286621094,
          221.18576049804688,
          223.79881286621094,
          181.7523193359375,
          221.69183349609375,
          205.0274200439453,
          224.85227966308594,
          161.33172607421875,
          210.85484313964844,
          236.62384033203125,
          219.4873504638672,
          192.01048278808594,
          126.8878173828125,
          133.54957580566406,
          233.9029083251953,
          129.8259735107422,
          221.4944610595703,
          220.4124755859375,
          131.4693603515625,
          215.38455200195312,
          139.22067260742188,
          237.86077880859375,
          223.6043701171875,
          210.0409698486328,
          205.55966186523438,
          167.02294921875,
          186.3983612060547,
          162.67906188964844,
          222.8992919921875,
          205.30235290527344,
          216.6736602783203,
          226.8731231689453,
          198.64974975585938,
          222.33236694335938,
          132.5528564453125,
          221.47177124023438,
          195.37857055664062,
          195.71768188476562,
          219.50506591796875,
          213.2693634033203,
          224.0561065673828,
          141.81097412109375,
          174.85308837890625,
          236.22329711914062,
          210.18997192382812,
          210.37408447265625,
          224.01669311523438,
          193.0944061279297,
          192.22830200195312,
          105.22384643554688,
          71.47541809082031,
          166.0279541015625,
          237.959716796875,
          208.46310424804688,
          195.59051513671875,
          196.67312622070312,
          197.15853881835938,
          196.6094970703125,
          129.10025024414062,
          237.959716796875,
          164.06463623046875,
          134.6474609375,
          210.3564453125,
          220.97964477539062,
          164.839111328125,
          201.83255004882812,
          236.62689208984375,
          236.64381408691406,
          236.96377563476562,
          180.44606018066406,
          146.04183959960938,
          134.8130645751953,
          195.21051025390625,
          194.99734497070312,
          194.9759521484375,
          196.64488220214844,
          196.68728637695312,
          227.513671875,
          206.87310791015625,
          206.72166442871094,
          206.72166442871094,
          206.87310791015625,
          199.37228393554688,
          238.29571533203125,
          115.79679870605469,
          142.43475341796875,
          196.6024627685547,
          194.98663330078125,
          196.5812225341797,
          198.11566162109375,
          196.6236572265625,
          202.4310302734375,
          208.47474670410156,
          229.05181884765625,
          229.9839324951172,
          223.61952209472656,
          234.10256958007812,
          198.95834350585938,
          136.63040161132812,
          226.75286865234375,
          196.66253662109375,
          180.69923400878906,
          196.6519317626953,
          186.80255126953125,
          216.46609497070312,
          216.34817504882812,
          216.35662841796875,
          182.41290283203125,
          216.72012329101562,
          216.77438354492188,
          216.6929931640625,
          216.5081329345703,
          216.40716552734375,
          226.05178833007812,
          222.13479614257812,
          221.89564514160156,
          237.89939880371094,
          219.30374145507812,
          223.0970001220703,
          186.72735595703125,
          185.15679931640625,
          186.72735595703125,
          236.64381408691406,
          129.22119140625,
          212.98907470703125,
          199.6912078857422,
          222.67071533203125,
          219.15769958496094,
          195.3470458984375
         ],
         "yaxis": "y"
        }
       ],
       "layout": {
        "autosize": true,
        "legend": {
         "tracegroupgap": 0
        },
        "template": {
         "data": {
          "bar": [
           {
            "error_x": {
             "color": "#2a3f5f"
            },
            "error_y": {
             "color": "#2a3f5f"
            },
            "marker": {
             "line": {
              "color": "#E5ECF6",
              "width": 0.5
             },
             "pattern": {
              "fillmode": "overlay",
              "size": 10,
              "solidity": 0.2
             }
            },
            "type": "bar"
           }
          ],
          "barpolar": [
           {
            "marker": {
             "line": {
              "color": "#E5ECF6",
              "width": 0.5
             },
             "pattern": {
              "fillmode": "overlay",
              "size": 10,
              "solidity": 0.2
             }
            },
            "type": "barpolar"
           }
          ],
          "carpet": [
           {
            "aaxis": {
             "endlinecolor": "#2a3f5f",
             "gridcolor": "white",
             "linecolor": "white",
             "minorgridcolor": "white",
             "startlinecolor": "#2a3f5f"
            },
            "baxis": {
             "endlinecolor": "#2a3f5f",
             "gridcolor": "white",
             "linecolor": "white",
             "minorgridcolor": "white",
             "startlinecolor": "#2a3f5f"
            },
            "type": "carpet"
           }
          ],
          "choropleth": [
           {
            "colorbar": {
             "outlinewidth": 0,
             "ticks": ""
            },
            "type": "choropleth"
           }
          ],
          "contour": [
           {
            "colorbar": {
             "outlinewidth": 0,
             "ticks": ""
            },
            "colorscale": [
             [
              0,
              "#0d0887"
             ],
             [
              0.1111111111111111,
              "#46039f"
             ],
             [
              0.2222222222222222,
              "#7201a8"
             ],
             [
              0.3333333333333333,
              "#9c179e"
             ],
             [
              0.4444444444444444,
              "#bd3786"
             ],
             [
              0.5555555555555556,
              "#d8576b"
             ],
             [
              0.6666666666666666,
              "#ed7953"
             ],
             [
              0.7777777777777778,
              "#fb9f3a"
             ],
             [
              0.8888888888888888,
              "#fdca26"
             ],
             [
              1,
              "#f0f921"
             ]
            ],
            "type": "contour"
           }
          ],
          "contourcarpet": [
           {
            "colorbar": {
             "outlinewidth": 0,
             "ticks": ""
            },
            "type": "contourcarpet"
           }
          ],
          "heatmap": [
           {
            "colorbar": {
             "outlinewidth": 0,
             "ticks": ""
            },
            "colorscale": [
             [
              0,
              "#0d0887"
             ],
             [
              0.1111111111111111,
              "#46039f"
             ],
             [
              0.2222222222222222,
              "#7201a8"
             ],
             [
              0.3333333333333333,
              "#9c179e"
             ],
             [
              0.4444444444444444,
              "#bd3786"
             ],
             [
              0.5555555555555556,
              "#d8576b"
             ],
             [
              0.6666666666666666,
              "#ed7953"
             ],
             [
              0.7777777777777778,
              "#fb9f3a"
             ],
             [
              0.8888888888888888,
              "#fdca26"
             ],
             [
              1,
              "#f0f921"
             ]
            ],
            "type": "heatmap"
           }
          ],
          "heatmapgl": [
           {
            "colorbar": {
             "outlinewidth": 0,
             "ticks": ""
            },
            "colorscale": [
             [
              0,
              "#0d0887"
             ],
             [
              0.1111111111111111,
              "#46039f"
             ],
             [
              0.2222222222222222,
              "#7201a8"
             ],
             [
              0.3333333333333333,
              "#9c179e"
             ],
             [
              0.4444444444444444,
              "#bd3786"
             ],
             [
              0.5555555555555556,
              "#d8576b"
             ],
             [
              0.6666666666666666,
              "#ed7953"
             ],
             [
              0.7777777777777778,
              "#fb9f3a"
             ],
             [
              0.8888888888888888,
              "#fdca26"
             ],
             [
              1,
              "#f0f921"
             ]
            ],
            "type": "heatmapgl"
           }
          ],
          "histogram": [
           {
            "marker": {
             "pattern": {
              "fillmode": "overlay",
              "size": 10,
              "solidity": 0.2
             }
            },
            "type": "histogram"
           }
          ],
          "histogram2d": [
           {
            "colorbar": {
             "outlinewidth": 0,
             "ticks": ""
            },
            "colorscale": [
             [
              0,
              "#0d0887"
             ],
             [
              0.1111111111111111,
              "#46039f"
             ],
             [
              0.2222222222222222,
              "#7201a8"
             ],
             [
              0.3333333333333333,
              "#9c179e"
             ],
             [
              0.4444444444444444,
              "#bd3786"
             ],
             [
              0.5555555555555556,
              "#d8576b"
             ],
             [
              0.6666666666666666,
              "#ed7953"
             ],
             [
              0.7777777777777778,
              "#fb9f3a"
             ],
             [
              0.8888888888888888,
              "#fdca26"
             ],
             [
              1,
              "#f0f921"
             ]
            ],
            "type": "histogram2d"
           }
          ],
          "histogram2dcontour": [
           {
            "colorbar": {
             "outlinewidth": 0,
             "ticks": ""
            },
            "colorscale": [
             [
              0,
              "#0d0887"
             ],
             [
              0.1111111111111111,
              "#46039f"
             ],
             [
              0.2222222222222222,
              "#7201a8"
             ],
             [
              0.3333333333333333,
              "#9c179e"
             ],
             [
              0.4444444444444444,
              "#bd3786"
             ],
             [
              0.5555555555555556,
              "#d8576b"
             ],
             [
              0.6666666666666666,
              "#ed7953"
             ],
             [
              0.7777777777777778,
              "#fb9f3a"
             ],
             [
              0.8888888888888888,
              "#fdca26"
             ],
             [
              1,
              "#f0f921"
             ]
            ],
            "type": "histogram2dcontour"
           }
          ],
          "mesh3d": [
           {
            "colorbar": {
             "outlinewidth": 0,
             "ticks": ""
            },
            "type": "mesh3d"
           }
          ],
          "parcoords": [
           {
            "line": {
             "colorbar": {
              "outlinewidth": 0,
              "ticks": ""
             }
            },
            "type": "parcoords"
           }
          ],
          "pie": [
           {
            "automargin": true,
            "type": "pie"
           }
          ],
          "scatter": [
           {
            "fillpattern": {
             "fillmode": "overlay",
             "size": 10,
             "solidity": 0.2
            },
            "type": "scatter"
           }
          ],
          "scatter3d": [
           {
            "line": {
             "colorbar": {
              "outlinewidth": 0,
              "ticks": ""
             }
            },
            "marker": {
             "colorbar": {
              "outlinewidth": 0,
              "ticks": ""
             }
            },
            "type": "scatter3d"
           }
          ],
          "scattercarpet": [
           {
            "marker": {
             "colorbar": {
              "outlinewidth": 0,
              "ticks": ""
             }
            },
            "type": "scattercarpet"
           }
          ],
          "scattergeo": [
           {
            "marker": {
             "colorbar": {
              "outlinewidth": 0,
              "ticks": ""
             }
            },
            "type": "scattergeo"
           }
          ],
          "scattergl": [
           {
            "marker": {
             "colorbar": {
              "outlinewidth": 0,
              "ticks": ""
             }
            },
            "type": "scattergl"
           }
          ],
          "scattermapbox": [
           {
            "marker": {
             "colorbar": {
              "outlinewidth": 0,
              "ticks": ""
             }
            },
            "type": "scattermapbox"
           }
          ],
          "scatterpolar": [
           {
            "marker": {
             "colorbar": {
              "outlinewidth": 0,
              "ticks": ""
             }
            },
            "type": "scatterpolar"
           }
          ],
          "scatterpolargl": [
           {
            "marker": {
             "colorbar": {
              "outlinewidth": 0,
              "ticks": ""
             }
            },
            "type": "scatterpolargl"
           }
          ],
          "scatterternary": [
           {
            "marker": {
             "colorbar": {
              "outlinewidth": 0,
              "ticks": ""
             }
            },
            "type": "scatterternary"
           }
          ],
          "surface": [
           {
            "colorbar": {
             "outlinewidth": 0,
             "ticks": ""
            },
            "colorscale": [
             [
              0,
              "#0d0887"
             ],
             [
              0.1111111111111111,
              "#46039f"
             ],
             [
              0.2222222222222222,
              "#7201a8"
             ],
             [
              0.3333333333333333,
              "#9c179e"
             ],
             [
              0.4444444444444444,
              "#bd3786"
             ],
             [
              0.5555555555555556,
              "#d8576b"
             ],
             [
              0.6666666666666666,
              "#ed7953"
             ],
             [
              0.7777777777777778,
              "#fb9f3a"
             ],
             [
              0.8888888888888888,
              "#fdca26"
             ],
             [
              1,
              "#f0f921"
             ]
            ],
            "type": "surface"
           }
          ],
          "table": [
           {
            "cells": {
             "fill": {
              "color": "#EBF0F8"
             },
             "line": {
              "color": "white"
             }
            },
            "header": {
             "fill": {
              "color": "#C8D4E3"
             },
             "line": {
              "color": "white"
             }
            },
            "type": "table"
           }
          ]
         },
         "layout": {
          "annotationdefaults": {
           "arrowcolor": "#2a3f5f",
           "arrowhead": 0,
           "arrowwidth": 1
          },
          "autotypenumbers": "strict",
          "coloraxis": {
           "colorbar": {
            "outlinewidth": 0,
            "ticks": ""
           }
          },
          "colorscale": {
           "diverging": [
            [
             0,
             "#8e0152"
            ],
            [
             0.1,
             "#c51b7d"
            ],
            [
             0.2,
             "#de77ae"
            ],
            [
             0.3,
             "#f1b6da"
            ],
            [
             0.4,
             "#fde0ef"
            ],
            [
             0.5,
             "#f7f7f7"
            ],
            [
             0.6,
             "#e6f5d0"
            ],
            [
             0.7,
             "#b8e186"
            ],
            [
             0.8,
             "#7fbc41"
            ],
            [
             0.9,
             "#4d9221"
            ],
            [
             1,
             "#276419"
            ]
           ],
           "sequential": [
            [
             0,
             "#0d0887"
            ],
            [
             0.1111111111111111,
             "#46039f"
            ],
            [
             0.2222222222222222,
             "#7201a8"
            ],
            [
             0.3333333333333333,
             "#9c179e"
            ],
            [
             0.4444444444444444,
             "#bd3786"
            ],
            [
             0.5555555555555556,
             "#d8576b"
            ],
            [
             0.6666666666666666,
             "#ed7953"
            ],
            [
             0.7777777777777778,
             "#fb9f3a"
            ],
            [
             0.8888888888888888,
             "#fdca26"
            ],
            [
             1,
             "#f0f921"
            ]
           ],
           "sequentialminus": [
            [
             0,
             "#0d0887"
            ],
            [
             0.1111111111111111,
             "#46039f"
            ],
            [
             0.2222222222222222,
             "#7201a8"
            ],
            [
             0.3333333333333333,
             "#9c179e"
            ],
            [
             0.4444444444444444,
             "#bd3786"
            ],
            [
             0.5555555555555556,
             "#d8576b"
            ],
            [
             0.6666666666666666,
             "#ed7953"
            ],
            [
             0.7777777777777778,
             "#fb9f3a"
            ],
            [
             0.8888888888888888,
             "#fdca26"
            ],
            [
             1,
             "#f0f921"
            ]
           ]
          },
          "colorway": [
           "#636efa",
           "#EF553B",
           "#00cc96",
           "#ab63fa",
           "#FFA15A",
           "#19d3f3",
           "#FF6692",
           "#B6E880",
           "#FF97FF",
           "#FECB52"
          ],
          "font": {
           "color": "#2a3f5f"
          },
          "geo": {
           "bgcolor": "white",
           "lakecolor": "white",
           "landcolor": "#E5ECF6",
           "showlakes": true,
           "showland": true,
           "subunitcolor": "white"
          },
          "hoverlabel": {
           "align": "left"
          },
          "hovermode": "closest",
          "mapbox": {
           "style": "light"
          },
          "paper_bgcolor": "white",
          "plot_bgcolor": "#E5ECF6",
          "polar": {
           "angularaxis": {
            "gridcolor": "white",
            "linecolor": "white",
            "ticks": ""
           },
           "bgcolor": "#E5ECF6",
           "radialaxis": {
            "gridcolor": "white",
            "linecolor": "white",
            "ticks": ""
           }
          },
          "scene": {
           "xaxis": {
            "backgroundcolor": "#E5ECF6",
            "gridcolor": "white",
            "gridwidth": 2,
            "linecolor": "white",
            "showbackground": true,
            "ticks": "",
            "zerolinecolor": "white"
           },
           "yaxis": {
            "backgroundcolor": "#E5ECF6",
            "gridcolor": "white",
            "gridwidth": 2,
            "linecolor": "white",
            "showbackground": true,
            "ticks": "",
            "zerolinecolor": "white"
           },
           "zaxis": {
            "backgroundcolor": "#E5ECF6",
            "gridcolor": "white",
            "gridwidth": 2,
            "linecolor": "white",
            "showbackground": true,
            "ticks": "",
            "zerolinecolor": "white"
           }
          },
          "shapedefaults": {
           "line": {
            "color": "#2a3f5f"
           }
          },
          "ternary": {
           "aaxis": {
            "gridcolor": "white",
            "linecolor": "white",
            "ticks": ""
           },
           "baxis": {
            "gridcolor": "white",
            "linecolor": "white",
            "ticks": ""
           },
           "bgcolor": "#E5ECF6",
           "caxis": {
            "gridcolor": "white",
            "linecolor": "white",
            "ticks": ""
           }
          },
          "title": {
           "x": 0.05
          },
          "xaxis": {
           "automargin": true,
           "gridcolor": "white",
           "linecolor": "white",
           "ticks": "",
           "title": {
            "standoff": 15
           },
           "zerolinecolor": "white",
           "zerolinewidth": 2
          },
          "yaxis": {
           "automargin": true,
           "gridcolor": "white",
           "linecolor": "white",
           "ticks": "",
           "title": {
            "standoff": 15
           },
           "zerolinecolor": "white",
           "zerolinewidth": 2
          }
         }
        },
        "title": {
         "text": "Gráfica de los precios reales vs los precios predichos "
        },
        "xaxis": {
         "anchor": "y",
         "autorange": true,
         "domain": [
          0,
          1
         ],
         "range": [
          -242660.8710106383,
          5297560.871010639
         ],
         "title": {
          "text": "price"
         },
         "type": "linear"
        },
        "yaxis": {
         "anchor": "x",
         "autorange": true,
         "domain": [
          0,
          1
         ],
         "range": [
          57.41126414178645,
          255.96402577520576
         ],
         "title": {
          "text": "price_pred"
         },
         "type": "linear"
        }
       }
      },
      "image/png": "[encoded data removed]",
      "text/html": [
       "<div>                            <div id=\"8351cd84-c3f2-4d2c-bbfb-c7a88b1b6d8f\" class=\"plotly-graph-div\" style=\"height:525px; width:100%;\"></div>            <script type=\"text/javascript\">                require([\"plotly\"], function(Plotly) {                    window.PLOTLYENV=window.PLOTLYENV || {};                                    if (document.getElementById(\"8351cd84-c3f2-4d2c-bbfb-c7a88b1b6d8f\")) {                    Plotly.newPlot(                        \"8351cd84-c3f2-4d2c-bbfb-c7a88b1b6d8f\",                        [{\"hovertemplate\":\"price=%{x}<br>price_pred=%{y}<extra></extra>\",\"legendgroup\":\"\",\"marker\":{\"color\":\"#636efa\",\"symbol\":\"circle\"},\"mode\":\"markers\",\"name\":\"\",\"orientation\":\"v\",\"showlegend\":false,\"x\":[395000,640000,567000,375900,249900,230900,795000,235000,690000,371000,395000,595000,995000,625000,450000,256500,422500,1399000,256500,291800,235000,262181,567000,273100,246300,320000,275730,135000,2706000,795000,1148000,436700,291800,790000,320000,795000,297100,790000,205000,1148000,249900,297100,779000,367000,129900,179999,182100,262181,900000,182000,210000,235000,790000,790000,299990,250000,320000,550000,639000,330000,1500000,54900,425000,410000,895000,249900,249000,223000,235000,298000,139900,172000,5000000,180000,1500000,318500,160000,370000,205000,350000,640000,157500,725000,299000,430000,162000,395000,860000,360000,1500000,639000,1500000,173000,640000,340000,359000,700000,360000,700000,255000,310000,240000,270000,190000,1975000,260000,215000,449900,85000,298000,291800,262181,255900,265900,255900,265900,182100,291800,182100,256500,1148000,750000,182100,1089800,297100,291800,297100,262181,1148000,256500,252000,215000,225000,275000,358000,1300000,355000,335000,345000,362000,375900,299000,189500,264500,257000,258000,293000,389000,344000,318000,790000,175000,1990000,1210000,334000,445000,215000,375900,279900,299900,249900,385000,172670,165877,170297,262181,159320,165787,176746,188400,175599,1800000,422500,799900,291800,297100,698000,315000,278000,319000,291800,256500,320000,595000,640000,367500,360000],\"xaxis\":\"x\",\"y\":[222.3321533203125,222.30831909179688,194.8651123046875,226.75286865234375,195.60110473632812,195.05953979492188,204.23818969726562,160.48585510253906,227.19361877441406,193.41043090820312,218.07440185546875,222.98806762695312,214.07522583007812,199.03213500976562,241.89987182617188,127.40137481689453,131.1790771484375,224.4200439453125,105.20606994628906,236.62689208984375,236.62339782714844,124.84815979003906,194.88095092773438,190.319091796875,188.7156982421875,194.7662811279297,162.2400665283203,126.83855438232422,239.36553955078125,221.36383056640625,207.360595703125,192.2062530517578,237.85781860351562,219.02914428710938,185.46282958984375,199.43905639648438,236.20986938476562,219.59902954101562,165.87445068359375,209.06365966796875,238.07528686523438,236.64381408691406,197.69247436523438,217.81768798828125,185.66497802734375,235.0596160888672,107.91482543945312,182.5089111328125,212.46224975585938,234.68325805664062,153.9515838623047,214.62863159179688,221.0878448486328,223.57424926757812,139.81646728515625,235.78042602539062,147.6443634033203,221.31544494628906,198.48631286621094,221.18576049804688,223.79881286621094,181.7523193359375,221.69183349609375,205.0274200439453,224.85227966308594,161.33172607421875,210.85484313964844,236.62384033203125,219.4873504638672,192.01048278808594,126.8878173828125,133.54957580566406,233.9029083251953,129.8259735107422,221.4944610595703,220.4124755859375,131.4693603515625,215.38455200195312,139.22067260742188,237.86077880859375,223.6043701171875,210.0409698486328,205.55966186523438,167.02294921875,186.3983612060547,162.67906188964844,222.8992919921875,205.30235290527344,216.6736602783203,226.8731231689453,198.64974975585938,222.33236694335938,132.5528564453125,221.47177124023438,195.37857055664062,195.71768188476562,219.50506591796875,213.2693634033203,224.0561065673828,141.81097412109375,174.85308837890625,236.22329711914062,210.18997192382812,210.37408447265625,224.01669311523438,193.0944061279297,192.22830200195312,105.22384643554688,71.47541809082031,166.0279541015625,237.959716796875,208.46310424804688,195.59051513671875,196.67312622070312,197.15853881835938,196.6094970703125,129.10025024414062,237.959716796875,164.06463623046875,134.6474609375,210.3564453125,220.97964477539062,164.839111328125,201.83255004882812,236.62689208984375,236.64381408691406,236.96377563476562,180.44606018066406,146.04183959960938,134.8130645751953,195.21051025390625,194.99734497070312,194.9759521484375,196.64488220214844,196.68728637695312,227.513671875,206.87310791015625,206.72166442871094,206.72166442871094,206.87310791015625,199.37228393554688,238.29571533203125,115.79679870605469,142.43475341796875,196.6024627685547,194.98663330078125,196.5812225341797,198.11566162109375,196.6236572265625,202.4310302734375,208.47474670410156,229.05181884765625,229.9839324951172,223.61952209472656,234.10256958007812,198.95834350585938,136.63040161132812,226.75286865234375,196.66253662109375,180.69923400878906,196.6519317626953,186.80255126953125,216.46609497070312,216.34817504882812,216.35662841796875,182.41290283203125,216.72012329101562,216.77438354492188,216.6929931640625,216.5081329345703,216.40716552734375,226.05178833007812,222.13479614257812,221.89564514160156,237.89939880371094,219.30374145507812,223.0970001220703,186.72735595703125,185.15679931640625,186.72735595703125,236.64381408691406,129.22119140625,212.98907470703125,199.6912078857422,222.67071533203125,219.15769958496094,195.3470458984375],\"yaxis\":\"y\",\"type\":\"scatter\"}],                        {\"template\":{\"data\":{\"histogram2dcontour\":[{\"type\":\"histogram2dcontour\",\"colorbar\":{\"outlinewidth\":0,\"ticks\":\"\"},\"colorscale\":[[0.0,\"#0d0887\"],[0.1111111111111111,\"#46039f\"],[0.2222222222222222,\"#7201a8\"],[0.3333333333333333,\"#9c179e\"],[0.4444444444444444,\"#bd3786\"],[0.5555555555555556,\"#d8576b\"],[0.6666666666666666,\"#ed7953\"],[0.7777777777777778,\"#fb9f3a\"],[0.8888888888888888,\"#fdca26\"],[1.0,\"#f0f921\"]]}],\"choropleth\":[{\"type\":\"choropleth\",\"colorbar\":{\"outlinewidth\":0,\"ticks\":\"\"}}],\"histogram2d\":[{\"type\":\"histogram2d\",\"colorbar\":{\"outlinewidth\":0,\"ticks\":\"\"},\"colorscale\":[[0.0,\"#0d0887\"],[0.1111111111111111,\"#46039f\"],[0.2222222222222222,\"#7201a8\"],[0.3333333333333333,\"#9c179e\"],[0.4444444444444444,\"#bd3786\"],[0.5555555555555556,\"#d8576b\"],[0.6666666666666666,\"#ed7953\"],[0.7777777777777778,\"#fb9f3a\"],[0.8888888888888888,\"#fdca26\"],[1.0,\"#f0f921\"]]}],\"heatmap\":[{\"type\":\"heatmap\",\"colorbar\":{\"outlinewidth\":0,\"ticks\":\"\"},\"colorscale\":[[0.0,\"#0d0887\"],[0.1111111111111111,\"#46039f\"],[0.2222222222222222,\"#7201a8\"],[0.3333333333333333,\"#9c179e\"],[0.4444444444444444,\"#bd3786\"],[0.5555555555555556,\"#d8576b\"],[0.6666666666666666,\"#ed7953\"],[0.7777777777777778,\"#fb9f3a\"],[0.8888888888888888,\"#fdca26\"],[1.0,\"#f0f921\"]]}],\"heatmapgl\":[{\"type\":\"heatmapgl\",\"colorbar\":{\"outlinewidth\":0,\"ticks\":\"\"},\"colorscale\":[[0.0,\"#0d0887\"],[0.1111111111111111,\"#46039f\"],[0.2222222222222222,\"#7201a8\"],[0.3333333333333333,\"#9c179e\"],[0.4444444444444444,\"#bd3786\"],[0.5555555555555556,\"#d8576b\"],[0.6666666666666666,\"#ed7953\"],[0.7777777777777778,\"#fb9f3a\"],[0.8888888888888888,\"#fdca26\"],[1.0,\"#f0f921\"]]}],\"contourcarpet\":[{\"type\":\"contourcarpet\",\"colorbar\":{\"outlinewidth\":0,\"ticks\":\"\"}}],\"contour\":[{\"type\":\"contour\",\"colorbar\":{\"outlinewidth\":0,\"ticks\":\"\"},\"colorscale\":[[0.0,\"#0d0887\"],[0.1111111111111111,\"#46039f\"],[0.2222222222222222,\"#7201a8\"],[0.3333333333333333,\"#9c179e\"],[0.4444444444444444,\"#bd3786\"],[0.5555555555555556,\"#d8576b\"],[0.6666666666666666,\"#ed7953\"],[0.7777777777777778,\"#fb9f3a\"],[0.8888888888888888,\"#fdca26\"],[1.0,\"#f0f921\"]]}],\"surface\":[{\"type\":\"surface\",\"colorbar\":{\"outlinewidth\":0,\"ticks\":\"\"},\"colorscale\":[[0.0,\"#0d0887\"],[0.1111111111111111,\"#46039f\"],[0.2222222222222222,\"#7201a8\"],[0.3333333333333333,\"#9c179e\"],[0.4444444444444444,\"#bd3786\"],[0.5555555555555556,\"#d8576b\"],[0.6666666666666666,\"#ed7953\"],[0.7777777777777778,\"#fb9f3a\"],[0.8888888888888888,\"#fdca26\"],[1.0,\"#f0f921\"]]}],\"mesh3d\":[{\"type\":\"mesh3d\",\"colorbar\":{\"outlinewidth\":0,\"ticks\":\"\"}}],\"scatter\":[{\"fillpattern\":{\"fillmode\":\"overlay\",\"size\":10,\"solidity\":0.2},\"type\":\"scatter\"}],\"parcoords\":[{\"type\":\"parcoords\",\"line\":{\"colorbar\":{\"outlinewidth\":0,\"ticks\":\"\"}}}],\"scatterpolargl\":[{\"type\":\"scatterpolargl\",\"marker\":{\"colorbar\":{\"outlinewidth\":0,\"ticks\":\"\"}}}],\"bar\":[{\"error_x\":{\"color\":\"#2a3f5f\"},\"error_y\":{\"color\":\"#2a3f5f\"},\"marker\":{\"line\":{\"color\":\"#E5ECF6\",\"width\":0.5},\"pattern\":{\"fillmode\":\"overlay\",\"size\":10,\"solidity\":0.2}},\"type\":\"bar\"}],\"scattergeo\":[{\"type\":\"scattergeo\",\"marker\":{\"colorbar\":{\"outlinewidth\":0,\"ticks\":\"\"}}}],\"scatterpolar\":[{\"type\":\"scatterpolar\",\"marker\":{\"colorbar\":{\"outlinewidth\":0,\"ticks\":\"\"}}}],\"histogram\":[{\"marker\":{\"pattern\":{\"fillmode\":\"overlay\",\"size\":10,\"solidity\":0.2}},\"type\":\"histogram\"}],\"scattergl\":[{\"type\":\"scattergl\",\"marker\":{\"colorbar\":{\"outlinewidth\":0,\"ticks\":\"\"}}}],\"scatter3d\":[{\"type\":\"scatter3d\",\"line\":{\"colorbar\":{\"outlinewidth\":0,\"ticks\":\"\"}},\"marker\":{\"colorbar\":{\"outlinewidth\":0,\"ticks\":\"\"}}}],\"scattermapbox\":[{\"type\":\"scattermapbox\",\"marker\":{\"colorbar\":{\"outlinewidth\":0,\"ticks\":\"\"}}}],\"scatterternary\":[{\"type\":\"scatterternary\",\"marker\":{\"colorbar\":{\"outlinewidth\":0,\"ticks\":\"\"}}}],\"scattercarpet\":[{\"type\":\"scattercarpet\",\"marker\":{\"colorbar\":{\"outlinewidth\":0,\"ticks\":\"\"}}}],\"carpet\":[{\"aaxis\":{\"endlinecolor\":\"#2a3f5f\",\"gridcolor\":\"white\",\"linecolor\":\"white\",\"minorgridcolor\":\"white\",\"startlinecolor\":\"#2a3f5f\"},\"baxis\":{\"endlinecolor\":\"#2a3f5f\",\"gridcolor\":\"white\",\"linecolor\":\"white\",\"minorgridcolor\":\"white\",\"startlinecolor\":\"#2a3f5f\"},\"type\":\"carpet\"}],\"table\":[{\"cells\":{\"fill\":{\"color\":\"#EBF0F8\"},\"line\":{\"color\":\"white\"}},\"header\":{\"fill\":{\"color\":\"#C8D4E3\"},\"line\":{\"color\":\"white\"}},\"type\":\"table\"}],\"barpolar\":[{\"marker\":{\"line\":{\"color\":\"#E5ECF6\",\"width\":0.5},\"pattern\":{\"fillmode\":\"overlay\",\"size\":10,\"solidity\":0.2}},\"type\":\"barpolar\"}],\"pie\":[{\"automargin\":true,\"type\":\"pie\"}]},\"layout\":{\"autotypenumbers\":\"strict\",\"colorway\":[\"#636efa\",\"#EF553B\",\"#00cc96\",\"#ab63fa\",\"#FFA15A\",\"#19d3f3\",\"#FF6692\",\"#B6E880\",\"#FF97FF\",\"#FECB52\"],\"font\":{\"color\":\"#2a3f5f\"},\"hovermode\":\"closest\",\"hoverlabel\":{\"align\":\"left\"},\"paper_bgcolor\":\"white\",\"plot_bgcolor\":\"#E5ECF6\",\"polar\":{\"bgcolor\":\"#E5ECF6\",\"angularaxis\":{\"gridcolor\":\"white\",\"linecolor\":\"white\",\"ticks\":\"\"},\"radialaxis\":{\"gridcolor\":\"white\",\"linecolor\":\"white\",\"ticks\":\"\"}},\"ternary\":{\"bgcolor\":\"#E5ECF6\",\"aaxis\":{\"gridcolor\":\"white\",\"linecolor\":\"white\",\"ticks\":\"\"},\"baxis\":{\"gridcolor\":\"white\",\"linecolor\":\"white\",\"ticks\":\"\"},\"caxis\":{\"gridcolor\":\"white\",\"linecolor\":\"white\",\"ticks\":\"\"}},\"coloraxis\":{\"colorbar\":{\"outlinewidth\":0,\"ticks\":\"\"}},\"colorscale\":{\"sequential\":[[0.0,\"#0d0887\"],[0.1111111111111111,\"#46039f\"],[0.2222222222222222,\"#7201a8\"],[0.3333333333333333,\"#9c179e\"],[0.4444444444444444,\"#bd3786\"],[0.5555555555555556,\"#d8576b\"],[0.6666666666666666,\"#ed7953\"],[0.7777777777777778,\"#fb9f3a\"],[0.8888888888888888,\"#fdca26\"],[1.0,\"#f0f921\"]],\"sequentialminus\":[[0.0,\"#0d0887\"],[0.1111111111111111,\"#46039f\"],[0.2222222222222222,\"#7201a8\"],[0.3333333333333333,\"#9c179e\"],[0.4444444444444444,\"#bd3786\"],[0.5555555555555556,\"#d8576b\"],[0.6666666666666666,\"#ed7953\"],[0.7777777777777778,\"#fb9f3a\"],[0.8888888888888888,\"#fdca26\"],[1.0,\"#f0f921\"]],\"diverging\":[[0,\"#8e0152\"],[0.1,\"#c51b7d\"],[0.2,\"#de77ae\"],[0.3,\"#f1b6da\"],[0.4,\"#fde0ef\"],[0.5,\"#f7f7f7\"],[0.6,\"#e6f5d0\"],[0.7,\"#b8e186\"],[0.8,\"#7fbc41\"],[0.9,\"#4d9221\"],[1,\"#276419\"]]},\"xaxis\":{\"gridcolor\":\"white\",\"linecolor\":\"white\",\"ticks\":\"\",\"title\":{\"standoff\":15},\"zerolinecolor\":\"white\",\"automargin\":true,\"zerolinewidth\":2},\"yaxis\":{\"gridcolor\":\"white\",\"linecolor\":\"white\",\"ticks\":\"\",\"title\":{\"standoff\":15},\"zerolinecolor\":\"white\",\"automargin\":true,\"zerolinewidth\":2},\"scene\":{\"xaxis\":{\"backgroundcolor\":\"#E5ECF6\",\"gridcolor\":\"white\",\"linecolor\":\"white\",\"showbackground\":true,\"ticks\":\"\",\"zerolinecolor\":\"white\",\"gridwidth\":2},\"yaxis\":{\"backgroundcolor\":\"#E5ECF6\",\"gridcolor\":\"white\",\"linecolor\":\"white\",\"showbackground\":true,\"ticks\":\"\",\"zerolinecolor\":\"white\",\"gridwidth\":2},\"zaxis\":{\"backgroundcolor\":\"#E5ECF6\",\"gridcolor\":\"white\",\"linecolor\":\"white\",\"showbackground\":true,\"ticks\":\"\",\"zerolinecolor\":\"white\",\"gridwidth\":2}},\"shapedefaults\":{\"line\":{\"color\":\"#2a3f5f\"}},\"annotationdefaults\":{\"arrowcolor\":\"#2a3f5f\",\"arrowhead\":0,\"arrowwidth\":1},\"geo\":{\"bgcolor\":\"white\",\"landcolor\":\"#E5ECF6\",\"subunitcolor\":\"white\",\"showland\":true,\"showlakes\":true,\"lakecolor\":\"white\"},\"title\":{\"x\":0.05},\"mapbox\":{\"style\":\"light\"}}},\"xaxis\":{\"anchor\":\"y\",\"domain\":[0.0,1.0],\"title\":{\"text\":\"price\"}},\"yaxis\":{\"anchor\":\"x\",\"domain\":[0.0,1.0],\"title\":{\"text\":\"price_pred\"}},\"legend\":{\"tracegroupgap\":0},\"title\":{\"text\":\"Gr\\u00e1fica de los precios reales vs los precios predichos \"}},                        {\"responsive\": true}                    ).then(function(){\n",
       "                            \n",
       "var gd = document.getElementById('8351cd84-c3f2-4d2c-bbfb-c7a88b1b6d8f');\n",
       "var x = new MutationObserver(function (mutations, observer) {{\n",
       "        var display = window.getComputedStyle(gd).display;\n",
       "        if (!display || display === 'none') {{\n",
       "            console.log([gd, 'removed!']);\n",
       "            Plotly.purge(gd);\n",
       "            observer.disconnect();\n",
       "        }}\n",
       "}});\n",
       "\n",
       "// Listen for the removal of the full notebook cells\n",
       "var notebookContainer = gd.closest('#notebook-container');\n",
       "if (notebookContainer) {{\n",
       "    x.observe(notebookContainer, {childList: true});\n",
       "}}\n",
       "\n",
       "// Listen for the clearing of the current output cell\n",
       "var outputEl = gd.closest('.output');\n",
       "if (outputEl) {{\n",
       "    x.observe(outputEl, {childList: true});\n",
       "}}\n",
       "\n",
       "                        })                };                });            </script>        </div>"
      ]
     },
     "metadata": {},
     "output_type": "display_data"
    }
   ],
   "source": [
    "evol_train = pd.DataFrame(history.history)\n",
    "evol_train['epoch'] = history.epoch\n",
    "\n",
    "trace1 = go.Scatter(x=evol_train['epoch'], y=evol_train['mae'], mode='lines',name='mae')\n",
    "trace2 = go.Scatter(x=evol_train['epoch'], y=evol_train['val_mae'], mode='lines',name='val_mae')\n",
    "\n",
    "trace3 = go.Scatter(x=evol_train['epoch'], y=evol_train['mse'], mode='lines',name='mse')\n",
    "trace4 = go.Scatter(x=evol_train['epoch'], y=evol_train['val_mse'], mode='lines',name='val_mse')\n",
    "\n",
    "fig = make_subplots(rows=1,cols=2)\n",
    "fig.add_trace(trace1,row=1,col=1)\n",
    "fig.add_trace(trace2,row=1,col=1)\n",
    "\n",
    "fig.add_trace(trace3,row=1,col=2)\n",
    "fig.add_trace(trace4,row=1,col=2)\n",
    "\n",
    "fig.update_layout(title_text=\"Gráficas de MAE y MSE vs Época\")\n",
    "fig.show()\n",
    "\n",
    "data3['price_pred'] = model.predict(x)\n",
    "px.scatter(data3,x='price',y='price_pred',title='Gráfica de los precios reales vs los precios predichos ')"
   ]
  },
  {
   "cell_type": "code",
   "execution_count": 130,
   "metadata": {},
   "outputs": [
    {
     "name": "stdout",
     "output_type": "stream",
     "text": [
      "5/5 [==============================] - 0s 5ms/step\n",
      "2/2 [==============================] - 0s 5ms/step\n"
     ]
    },
    {
     "data": {
      "text/html": [
       "<div>\n",
       "<style scoped>\n",
       "    .dataframe tbody tr th:only-of-type {\n",
       "        vertical-align: middle;\n",
       "    }\n",
       "\n",
       "    .dataframe tbody tr th {\n",
       "        vertical-align: top;\n",
       "    }\n",
       "\n",
       "    .dataframe thead th {\n",
       "        text-align: right;\n",
       "    }\n",
       "</style>\n",
       "<table border=\"1\" class=\"dataframe\">\n",
       "  <thead>\n",
       "    <tr style=\"text-align: right;\">\n",
       "      <th></th>\n",
       "      <th>Modelo</th>\n",
       "      <th>Detalles</th>\n",
       "      <th>R2 train</th>\n",
       "      <th>R2 test</th>\n",
       "      <th>MAE train</th>\n",
       "      <th>MAE test</th>\n",
       "    </tr>\n",
       "  </thead>\n",
       "  <tbody>\n",
       "    <tr>\n",
       "      <th>0</th>\n",
       "      <td>Regresión Lineal</td>\n",
       "      <td>Sin procesar</td>\n",
       "      <td>0.7950</td>\n",
       "      <td>0.7158</td>\n",
       "      <td>116934.624330</td>\n",
       "      <td>1.151660e+05</td>\n",
       "    </tr>\n",
       "    <tr>\n",
       "      <th>1</th>\n",
       "      <td>Regresión Lineal</td>\n",
       "      <td>Sin procesar / Sin outliers</td>\n",
       "      <td>0.8118</td>\n",
       "      <td>0.7028</td>\n",
       "      <td>56792.191768</td>\n",
       "      <td>8.810769e+04</td>\n",
       "    </tr>\n",
       "    <tr>\n",
       "      <th>2</th>\n",
       "      <td>Regresión Lineal</td>\n",
       "      <td>Datos escalados</td>\n",
       "      <td>0.7862</td>\n",
       "      <td>0.8427</td>\n",
       "      <td>124144.086985</td>\n",
       "      <td>9.185754e+04</td>\n",
       "    </tr>\n",
       "    <tr>\n",
       "      <th>3</th>\n",
       "      <td>Regresión Lineal</td>\n",
       "      <td>Datos escalados / Sin outliers</td>\n",
       "      <td>0.7882</td>\n",
       "      <td>0.6828</td>\n",
       "      <td>67404.389758</td>\n",
       "      <td>5.768245e+04</td>\n",
       "    </tr>\n",
       "    <tr>\n",
       "      <th>4</th>\n",
       "      <td>Regresión Polinómica</td>\n",
       "      <td>Sin procesar / Grado 3</td>\n",
       "      <td>0.9805</td>\n",
       "      <td>-1258401276.6614</td>\n",
       "      <td>38457.782036</td>\n",
       "      <td>6.741033e+09</td>\n",
       "    </tr>\n",
       "    <tr>\n",
       "      <th>5</th>\n",
       "      <td>Regresión Polinómica</td>\n",
       "      <td>Sin procesar / Grado 3 / Sin outliers</td>\n",
       "      <td>0.4521</td>\n",
       "      <td>-10467.3640</td>\n",
       "      <td>102359.688419</td>\n",
       "      <td>6.097405e+06</td>\n",
       "    </tr>\n",
       "    <tr>\n",
       "      <th>6</th>\n",
       "      <td>SVM</td>\n",
       "      <td>Sin procesar / linear</td>\n",
       "      <td>0.7351</td>\n",
       "      <td>0.8877</td>\n",
       "      <td>120667.133933</td>\n",
       "      <td>9.248978e+04</td>\n",
       "    </tr>\n",
       "    <tr>\n",
       "      <th>7</th>\n",
       "      <td>SVM</td>\n",
       "      <td>Sin procesar / poly</td>\n",
       "      <td>-0.0549</td>\n",
       "      <td>-0.3638</td>\n",
       "      <td>226694.281742</td>\n",
       "      <td>3.340851e+05</td>\n",
       "    </tr>\n",
       "    <tr>\n",
       "      <th>8</th>\n",
       "      <td>SVM</td>\n",
       "      <td>Sin procesar / rbf</td>\n",
       "      <td>-0.1149</td>\n",
       "      <td>-0.0634</td>\n",
       "      <td>261855.869581</td>\n",
       "      <td>2.069879e+05</td>\n",
       "    </tr>\n",
       "    <tr>\n",
       "      <th>9</th>\n",
       "      <td>SVM</td>\n",
       "      <td>Sin procesar / sigmoid</td>\n",
       "      <td>-0.1677</td>\n",
       "      <td>-0.1947</td>\n",
       "      <td>197764.939590</td>\n",
       "      <td>4.573644e+05</td>\n",
       "    </tr>\n",
       "    <tr>\n",
       "      <th>10</th>\n",
       "      <td>SVM</td>\n",
       "      <td>Sin procesar / linear / Sin outliers</td>\n",
       "      <td>0.6691</td>\n",
       "      <td>0.7081</td>\n",
       "      <td>76661.038016</td>\n",
       "      <td>6.962643e+04</td>\n",
       "    </tr>\n",
       "    <tr>\n",
       "      <th>11</th>\n",
       "      <td>SVM</td>\n",
       "      <td>Sin procesar / poly / Sin outliers</td>\n",
       "      <td>-0.1179</td>\n",
       "      <td>-0.0407</td>\n",
       "      <td>138732.371518</td>\n",
       "      <td>1.157646e+05</td>\n",
       "    </tr>\n",
       "    <tr>\n",
       "      <th>12</th>\n",
       "      <td>SVM</td>\n",
       "      <td>Sin procesar / rbf / Sin outliers</td>\n",
       "      <td>-0.0991</td>\n",
       "      <td>-0.2513</td>\n",
       "      <td>132950.734985</td>\n",
       "      <td>1.409752e+05</td>\n",
       "    </tr>\n",
       "    <tr>\n",
       "      <th>13</th>\n",
       "      <td>SVM</td>\n",
       "      <td>Sin procesar / sigmoid / Sin outliers</td>\n",
       "      <td>-0.1236</td>\n",
       "      <td>-0.0250</td>\n",
       "      <td>140338.290283</td>\n",
       "      <td>1.112381e+05</td>\n",
       "    </tr>\n",
       "    <tr>\n",
       "      <th>14</th>\n",
       "      <td>SVM</td>\n",
       "      <td>Datos escalados / linear</td>\n",
       "      <td>-0.1684</td>\n",
       "      <td>-0.0977</td>\n",
       "      <td>231850.235418</td>\n",
       "      <td>3.235220e+05</td>\n",
       "    </tr>\n",
       "    <tr>\n",
       "      <th>15</th>\n",
       "      <td>SVM</td>\n",
       "      <td>Datos escalados / poly</td>\n",
       "      <td>-0.1261</td>\n",
       "      <td>-0.1722</td>\n",
       "      <td>260990.271276</td>\n",
       "      <td>2.090145e+05</td>\n",
       "    </tr>\n",
       "    <tr>\n",
       "      <th>16</th>\n",
       "      <td>SVM</td>\n",
       "      <td>Datos escalados / rbf</td>\n",
       "      <td>-0.1107</td>\n",
       "      <td>-0.0831</td>\n",
       "      <td>259014.883410</td>\n",
       "      <td>2.181456e+05</td>\n",
       "    </tr>\n",
       "    <tr>\n",
       "      <th>17</th>\n",
       "      <td>SVM</td>\n",
       "      <td>Datos escalados / sigmoid</td>\n",
       "      <td>-0.1071</td>\n",
       "      <td>-0.0906</td>\n",
       "      <td>258936.392352</td>\n",
       "      <td>2.185736e+05</td>\n",
       "    </tr>\n",
       "    <tr>\n",
       "      <th>18</th>\n",
       "      <td>SVM</td>\n",
       "      <td>Datos escalados / linear / Sin outliers</td>\n",
       "      <td>-0.1215</td>\n",
       "      <td>-0.0485</td>\n",
       "      <td>131904.283890</td>\n",
       "      <td>1.445637e+05</td>\n",
       "    </tr>\n",
       "    <tr>\n",
       "      <th>19</th>\n",
       "      <td>SVM</td>\n",
       "      <td>Datos escalados / poly / Sin outliers</td>\n",
       "      <td>-0.1014</td>\n",
       "      <td>-0.2175</td>\n",
       "      <td>134278.847355</td>\n",
       "      <td>1.351723e+05</td>\n",
       "    </tr>\n",
       "    <tr>\n",
       "      <th>20</th>\n",
       "      <td>SVM</td>\n",
       "      <td>Datos escalados / rbf / Sin outliers</td>\n",
       "      <td>-0.1161</td>\n",
       "      <td>-0.0671</td>\n",
       "      <td>133895.204244</td>\n",
       "      <td>1.365253e+05</td>\n",
       "    </tr>\n",
       "    <tr>\n",
       "      <th>21</th>\n",
       "      <td>SVM</td>\n",
       "      <td>Datos escalados / sigmoid / Sin outliers</td>\n",
       "      <td>-0.1201</td>\n",
       "      <td>-0.0326</td>\n",
       "      <td>143351.840654</td>\n",
       "      <td>9.903105e+04</td>\n",
       "    </tr>\n",
       "    <tr>\n",
       "      <th>22</th>\n",
       "      <td>Árbol de regresión</td>\n",
       "      <td>Sin procesar</td>\n",
       "      <td>0.6148</td>\n",
       "      <td>0.7762</td>\n",
       "      <td>118103.741870</td>\n",
       "      <td>1.179575e+05</td>\n",
       "    </tr>\n",
       "    <tr>\n",
       "      <th>23</th>\n",
       "      <td>Árbol de regresión</td>\n",
       "      <td>Sin procesar / Sin outliers</td>\n",
       "      <td>0.8162</td>\n",
       "      <td>0.7762</td>\n",
       "      <td>53931.421914</td>\n",
       "      <td>8.774551e+04</td>\n",
       "    </tr>\n",
       "    <tr>\n",
       "      <th>24</th>\n",
       "      <td>Árbol de regresión</td>\n",
       "      <td>Datos escalados</td>\n",
       "      <td>0.6332</td>\n",
       "      <td>0.7762</td>\n",
       "      <td>116462.501528</td>\n",
       "      <td>1.224157e+05</td>\n",
       "    </tr>\n",
       "    <tr>\n",
       "      <th>25</th>\n",
       "      <td>Árbol de regresión</td>\n",
       "      <td>Datos escalados / Sin outliers</td>\n",
       "      <td>0.6585</td>\n",
       "      <td>0.7762</td>\n",
       "      <td>114538.747730</td>\n",
       "      <td>1.357768e+05</td>\n",
       "    </tr>\n",
       "    <tr>\n",
       "      <th>26</th>\n",
       "      <td>ANN</td>\n",
       "      <td>Datos escalados</td>\n",
       "      <td>-0.840439</td>\n",
       "      <td>-1.857894</td>\n",
       "      <td>505886.079962</td>\n",
       "      <td>3.922563e+05</td>\n",
       "    </tr>\n",
       "  </tbody>\n",
       "</table>\n",
       "</div>"
      ],
      "text/plain": [
       "                  Modelo                                  Detalles  R2 train  \\\n",
       "0       Regresión Lineal                              Sin procesar    0.7950   \n",
       "1       Regresión Lineal               Sin procesar / Sin outliers    0.8118   \n",
       "2       Regresión Lineal                           Datos escalados    0.7862   \n",
       "3       Regresión Lineal            Datos escalados / Sin outliers    0.7882   \n",
       "4   Regresión Polinómica                    Sin procesar / Grado 3    0.9805   \n",
       "5   Regresión Polinómica     Sin procesar / Grado 3 / Sin outliers    0.4521   \n",
       "6                    SVM                     Sin procesar / linear    0.7351   \n",
       "7                    SVM                       Sin procesar / poly   -0.0549   \n",
       "8                    SVM                        Sin procesar / rbf   -0.1149   \n",
       "9                    SVM                    Sin procesar / sigmoid   -0.1677   \n",
       "10                   SVM      Sin procesar / linear / Sin outliers    0.6691   \n",
       "11                   SVM        Sin procesar / poly / Sin outliers   -0.1179   \n",
       "12                   SVM         Sin procesar / rbf / Sin outliers   -0.0991   \n",
       "13                   SVM     Sin procesar / sigmoid / Sin outliers   -0.1236   \n",
       "14                   SVM                  Datos escalados / linear   -0.1684   \n",
       "15                   SVM                    Datos escalados / poly   -0.1261   \n",
       "16                   SVM                     Datos escalados / rbf   -0.1107   \n",
       "17                   SVM                 Datos escalados / sigmoid   -0.1071   \n",
       "18                   SVM   Datos escalados / linear / Sin outliers   -0.1215   \n",
       "19                   SVM     Datos escalados / poly / Sin outliers   -0.1014   \n",
       "20                   SVM      Datos escalados / rbf / Sin outliers   -0.1161   \n",
       "21                   SVM  Datos escalados / sigmoid / Sin outliers   -0.1201   \n",
       "22    Árbol de regresión                              Sin procesar    0.6148   \n",
       "23    Árbol de regresión               Sin procesar / Sin outliers    0.8162   \n",
       "24    Árbol de regresión                           Datos escalados    0.6332   \n",
       "25    Árbol de regresión            Datos escalados / Sin outliers    0.6585   \n",
       "26                   ANN                           Datos escalados -0.840439   \n",
       "\n",
       "             R2 test      MAE train      MAE test  \n",
       "0             0.7158  116934.624330  1.151660e+05  \n",
       "1             0.7028   56792.191768  8.810769e+04  \n",
       "2             0.8427  124144.086985  9.185754e+04  \n",
       "3             0.6828   67404.389758  5.768245e+04  \n",
       "4   -1258401276.6614   38457.782036  6.741033e+09  \n",
       "5        -10467.3640  102359.688419  6.097405e+06  \n",
       "6             0.8877  120667.133933  9.248978e+04  \n",
       "7            -0.3638  226694.281742  3.340851e+05  \n",
       "8            -0.0634  261855.869581  2.069879e+05  \n",
       "9            -0.1947  197764.939590  4.573644e+05  \n",
       "10            0.7081   76661.038016  6.962643e+04  \n",
       "11           -0.0407  138732.371518  1.157646e+05  \n",
       "12           -0.2513  132950.734985  1.409752e+05  \n",
       "13           -0.0250  140338.290283  1.112381e+05  \n",
       "14           -0.0977  231850.235418  3.235220e+05  \n",
       "15           -0.1722  260990.271276  2.090145e+05  \n",
       "16           -0.0831  259014.883410  2.181456e+05  \n",
       "17           -0.0906  258936.392352  2.185736e+05  \n",
       "18           -0.0485  131904.283890  1.445637e+05  \n",
       "19           -0.2175  134278.847355  1.351723e+05  \n",
       "20           -0.0671  133895.204244  1.365253e+05  \n",
       "21           -0.0326  143351.840654  9.903105e+04  \n",
       "22            0.7762  118103.741870  1.179575e+05  \n",
       "23            0.7762   53931.421914  8.774551e+04  \n",
       "24            0.7762  116462.501528  1.224157e+05  \n",
       "25            0.7762  114538.747730  1.357768e+05  \n",
       "26         -1.857894  505886.079962  3.922563e+05  "
      ]
     },
     "execution_count": 130,
     "metadata": {},
     "output_type": "execute_result"
    }
   ],
   "source": [
    "from sklearn.metrics import r2_score\n",
    "y_pred_train = model.predict(x_train)\n",
    "y_pred_test = model.predict(x_test)\n",
    "\n",
    "r2_train = r2_score(y_train,y_pred_train)\n",
    "r2_test = r2_score(y_test,y_pred_test)\n",
    "\n",
    "MAE_TRAIN,MAE_TEST = error_gen(y_train,y_pred_train[:,0],y_test,y_pred_test[:,0])\n",
    "\n",
    "final = resultados.shape[0]\n",
    "resultados.loc[final] = ['ANN','Datos escalados',r2_train,r2_test,MAE_TRAIN,MAE_TEST]\n",
    "resultados"
   ]
  },
  {
   "cell_type": "markdown",
   "metadata": {},
   "source": [
    "Guardamos la tabla de evaluaciones obtenida:"
   ]
  },
  {
   "cell_type": "code",
   "execution_count": 131,
   "metadata": {},
   "outputs": [],
   "source": [
    "resultados.to_csv('../data/tabla_resultados_evaluaciones_modelos.csv', index=False)"
   ]
  },
  {
   "cell_type": "code",
   "execution_count": null,
   "metadata": {},
   "outputs": [],
   "source": []
  },
  {
   "cell_type": "code",
   "execution_count": null,
   "metadata": {},
   "outputs": [],
   "source": []
  }
 ],
 "metadata": {
  "kernelspec": {
   "display_name": "Python 3 (ipykernel)",
   "language": "python",
   "name": "python3"
  },
  "language_info": {
   "codemirror_mode": {
    "name": "ipython",
    "version": 3
   },
   "file_extension": ".py",
   "mimetype": "text/x-python",
   "name": "python",
   "nbconvert_exporter": "python",
   "pygments_lexer": "ipython3",
   "version": "3.10.9"
  }
 },
 "nbformat": 4,
 "nbformat_minor": 4
}
