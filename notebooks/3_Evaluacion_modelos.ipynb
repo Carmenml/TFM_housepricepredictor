{
 "cells": [
  {
   "cell_type": "markdown",
   "metadata": {
    "tags": []
   },
   "source": [
    "## ***EVALUACIÓN MODELOS***\n",
    "El dataset utilizado no contiene una gran cantidad de datos ya que se realizar exclusivamente de la zona de Churriana, Málaga y además nuestro modelo de scrapeo web termina bloqueando la extracción de datos y no nos permite obtener todos los datos de la zona disponibles.\n",
    "\n",
    "Se aplican diferentes modelos para ver cual de ellos presenta el mejor comportamiento a la hora de predecir el precio:\n",
    "* Regresión Lineal\n",
    "* Regresión Polinómica\n",
    "* SVM-Support Vector Machine\n",
    "* Arbol de Regresión\n",
    "* Redes Neuronales - Regresión"
   ]
  },
  {
   "cell_type": "markdown",
   "metadata": {},
   "source": [
    "**Importamos las librerías necesarias:**"
   ]
  },
  {
   "cell_type": "code",
   "execution_count": 234,
   "metadata": {},
   "outputs": [],
   "source": [
    "import numpy as np\n",
    "import matplotlib.pyplot as plt\n",
    "import pandas as pd\n",
    "import seaborn as sns\n",
    "import sklearn\n",
    "\n",
    "from plotly.subplots import make_subplots\n",
    "import plotly.graph_objects as go\n",
    "import plotly.express as px"
   ]
  },
  {
   "cell_type": "code",
   "execution_count": 235,
   "metadata": {},
   "outputs": [],
   "source": [
    "file_path = \"../data/data_model_churriana_malaga.csv\"\n",
    "data = pd.read_csv(file_path, index_col = 0)"
   ]
  },
  {
   "cell_type": "code",
   "execution_count": 236,
   "metadata": {},
   "outputs": [
    {
     "data": {
      "text/html": [
       "<div>\n",
       "<style scoped>\n",
       "    .dataframe tbody tr th:only-of-type {\n",
       "        vertical-align: middle;\n",
       "    }\n",
       "\n",
       "    .dataframe tbody tr th {\n",
       "        vertical-align: top;\n",
       "    }\n",
       "\n",
       "    .dataframe thead th {\n",
       "        text-align: right;\n",
       "    }\n",
       "</style>\n",
       "<table border=\"1\" class=\"dataframe\">\n",
       "  <thead>\n",
       "    <tr style=\"text-align: right;\">\n",
       "      <th></th>\n",
       "      <th>latitude</th>\n",
       "      <th>longitude</th>\n",
       "      <th>price</th>\n",
       "      <th>energy_certification</th>\n",
       "      <th>room_number</th>\n",
       "      <th>bath_number</th>\n",
       "      <th>has_garden</th>\n",
       "      <th>has_terrace</th>\n",
       "      <th>has_parking</th>\n",
       "      <th>has_swimmingpool</th>\n",
       "      <th>has_lift</th>\n",
       "      <th>constructed_area</th>\n",
       "      <th>is_new_development</th>\n",
       "      <th>is_needs_renovating</th>\n",
       "      <th>is_goog_condition</th>\n",
       "    </tr>\n",
       "  </thead>\n",
       "  <tbody>\n",
       "    <tr>\n",
       "      <th>0</th>\n",
       "      <td>36.666638</td>\n",
       "      <td>-4.464576</td>\n",
       "      <td>395000</td>\n",
       "      <td>7</td>\n",
       "      <td>4</td>\n",
       "      <td>3</td>\n",
       "      <td>1.0</td>\n",
       "      <td>1.0</td>\n",
       "      <td>1.0</td>\n",
       "      <td>1.0</td>\n",
       "      <td>0.0</td>\n",
       "      <td>194</td>\n",
       "      <td>0</td>\n",
       "      <td>0</td>\n",
       "      <td>1</td>\n",
       "    </tr>\n",
       "    <tr>\n",
       "      <th>1</th>\n",
       "      <td>36.663719</td>\n",
       "      <td>-4.503897</td>\n",
       "      <td>640000</td>\n",
       "      <td>7</td>\n",
       "      <td>4</td>\n",
       "      <td>2</td>\n",
       "      <td>1.0</td>\n",
       "      <td>1.0</td>\n",
       "      <td>1.0</td>\n",
       "      <td>1.0</td>\n",
       "      <td>0.0</td>\n",
       "      <td>310</td>\n",
       "      <td>0</td>\n",
       "      <td>0</td>\n",
       "      <td>1</td>\n",
       "    </tr>\n",
       "    <tr>\n",
       "      <th>2</th>\n",
       "      <td>36.656894</td>\n",
       "      <td>-4.502930</td>\n",
       "      <td>567000</td>\n",
       "      <td>7</td>\n",
       "      <td>5</td>\n",
       "      <td>4</td>\n",
       "      <td>1.0</td>\n",
       "      <td>1.0</td>\n",
       "      <td>0.0</td>\n",
       "      <td>1.0</td>\n",
       "      <td>0.0</td>\n",
       "      <td>410</td>\n",
       "      <td>0</td>\n",
       "      <td>0</td>\n",
       "      <td>1</td>\n",
       "    </tr>\n",
       "    <tr>\n",
       "      <th>3</th>\n",
       "      <td>36.671190</td>\n",
       "      <td>-4.516900</td>\n",
       "      <td>375900</td>\n",
       "      <td>8</td>\n",
       "      <td>4</td>\n",
       "      <td>2</td>\n",
       "      <td>1.0</td>\n",
       "      <td>1.0</td>\n",
       "      <td>1.0</td>\n",
       "      <td>1.0</td>\n",
       "      <td>1.0</td>\n",
       "      <td>236</td>\n",
       "      <td>1</td>\n",
       "      <td>0</td>\n",
       "      <td>0</td>\n",
       "    </tr>\n",
       "    <tr>\n",
       "      <th>4</th>\n",
       "      <td>36.671190</td>\n",
       "      <td>-4.516900</td>\n",
       "      <td>249900</td>\n",
       "      <td>8</td>\n",
       "      <td>2</td>\n",
       "      <td>2</td>\n",
       "      <td>0.0</td>\n",
       "      <td>1.0</td>\n",
       "      <td>1.0</td>\n",
       "      <td>1.0</td>\n",
       "      <td>1.0</td>\n",
       "      <td>150</td>\n",
       "      <td>1</td>\n",
       "      <td>0</td>\n",
       "      <td>0</td>\n",
       "    </tr>\n",
       "  </tbody>\n",
       "</table>\n",
       "</div>"
      ],
      "text/plain": [
       "    latitude  longitude   price  energy_certification  room_number  \\\n",
       "0  36.666638  -4.464576  395000                     7            4   \n",
       "1  36.663719  -4.503897  640000                     7            4   \n",
       "2  36.656894  -4.502930  567000                     7            5   \n",
       "3  36.671190  -4.516900  375900                     8            4   \n",
       "4  36.671190  -4.516900  249900                     8            2   \n",
       "\n",
       "   bath_number  has_garden  has_terrace  has_parking  has_swimmingpool  \\\n",
       "0            3         1.0          1.0          1.0               1.0   \n",
       "1            2         1.0          1.0          1.0               1.0   \n",
       "2            4         1.0          1.0          0.0               1.0   \n",
       "3            2         1.0          1.0          1.0               1.0   \n",
       "4            2         0.0          1.0          1.0               1.0   \n",
       "\n",
       "   has_lift  constructed_area  is_new_development  is_needs_renovating  \\\n",
       "0       0.0               194                   0                    0   \n",
       "1       0.0               310                   0                    0   \n",
       "2       0.0               410                   0                    0   \n",
       "3       1.0               236                   1                    0   \n",
       "4       1.0               150                   1                    0   \n",
       "\n",
       "   is_goog_condition  \n",
       "0                  1  \n",
       "1                  1  \n",
       "2                  1  \n",
       "3                  0  \n",
       "4                  0  "
      ]
     },
     "execution_count": 236,
     "metadata": {},
     "output_type": "execute_result"
    }
   ],
   "source": [
    "data.head()"
   ]
  },
  {
   "cell_type": "markdown",
   "metadata": {},
   "source": [
    "**Tabla para evaluación de los modelos**<br>\n",
    "Creamos una tabla vacía con las siguientes columnas: 'Modelo', 'Detalles', 'R2 train', 'R2 test', 'MAE train' y 'MAE test'.\n",
    "Aquí iremos agregando los resultados de cada modelo para finalmente de un simple vistazo poder comparar los rendimientos que aportan y quedarnos con uno de ellos."
   ]
  },
  {
   "cell_type": "code",
   "execution_count": 237,
   "metadata": {},
   "outputs": [],
   "source": [
    "resultados = pd.DataFrame({\n",
    "    'Modelo':[],\n",
    "    'Detalles':[],\n",
    "    'R2 train':[],\n",
    "    'R2 test':[],\n",
    "    'MAE train':[],\n",
    "    'MAE test':[]\n",
    "})"
   ]
  },
  {
   "cell_type": "markdown",
   "metadata": {},
   "source": [
    "Definimos dos funciones que nos ayudarán a evaluar posteriormente el rendimiento de los modelos."
   ]
  },
  {
   "cell_type": "code",
   "execution_count": 238,
   "metadata": {},
   "outputs": [],
   "source": [
    "def error_absoluto_medio(y,y_pred):\n",
    "    v = np.abs(y - y_pred)\n",
    "    return v.sum()/len(y)\n",
    "    \n",
    "def error_gen(y_train,y_pred_train,y_test,y_pred_test):\n",
    "    MAE_TRAIN = error_absoluto_medio(y_train,y_pred_train)\n",
    "    MAE_TEST = error_absoluto_medio(y_test,y_pred_test)\n",
    "    return MAE_TRAIN,MAE_TEST"
   ]
  },
  {
   "cell_type": "markdown",
   "metadata": {
    "tags": []
   },
   "source": [
    "#### **Regrasión lineal**\n",
    "\n",
    "En primer lugar aplicaremos un modelo de regresión lineal. Aplicaremos este modelo a nuestros diferentes conjuntos de datos. Recordar que los datos ya han sido limpiados y trabajados en la sección anterior por lo que ya están preparados para su uso.\n",
    "* Primero usaremos el dataset final preparado para los modelos si tratar adicionalmente los datos. (data_model_churriana_malaga.csv)\n",
    "* Aplicaremos el modelo también a nuestro dataset sin Outliers. (data_model_churriana_malaga_without_outliers.csv)\n",
    "* Trataremos los datos tanto totales como sin Outliers y preprocesaremos los mismos haciendo un escalado de datos para evaluar el modelo. \n"
   ]
  },
  {
   "cell_type": "code",
   "execution_count": 239,
   "metadata": {},
   "outputs": [],
   "source": [
    "from sklearn.linear_model import LinearRegression\n",
    "from sklearn.model_selection import train_test_split"
   ]
  },
  {
   "cell_type": "code",
   "execution_count": 240,
   "metadata": {
    "tags": []
   },
   "outputs": [
    {
     "data": {
      "text/html": [
       "<div>\n",
       "<style scoped>\n",
       "    .dataframe tbody tr th:only-of-type {\n",
       "        vertical-align: middle;\n",
       "    }\n",
       "\n",
       "    .dataframe tbody tr th {\n",
       "        vertical-align: top;\n",
       "    }\n",
       "\n",
       "    .dataframe thead th {\n",
       "        text-align: right;\n",
       "    }\n",
       "</style>\n",
       "<table border=\"1\" class=\"dataframe\">\n",
       "  <thead>\n",
       "    <tr style=\"text-align: right;\">\n",
       "      <th></th>\n",
       "      <th>Modelo</th>\n",
       "      <th>Detalles</th>\n",
       "      <th>R2 train</th>\n",
       "      <th>R2 test</th>\n",
       "      <th>MAE train</th>\n",
       "      <th>MAE test</th>\n",
       "    </tr>\n",
       "  </thead>\n",
       "  <tbody>\n",
       "    <tr>\n",
       "      <th>0</th>\n",
       "      <td>Regresión Lineal</td>\n",
       "      <td>Sin procesar</td>\n",
       "      <td>0.7950</td>\n",
       "      <td>0.6760</td>\n",
       "      <td>119802.73462</td>\n",
       "      <td>98299.236439</td>\n",
       "    </tr>\n",
       "  </tbody>\n",
       "</table>\n",
       "</div>"
      ],
      "text/plain": [
       "             Modelo      Detalles R2 train R2 test     MAE train      MAE test\n",
       "0  Regresión Lineal  Sin procesar   0.7950  0.6760  119802.73462  98299.236439"
      ]
     },
     "execution_count": 240,
     "metadata": {},
     "output_type": "execute_result"
    }
   ],
   "source": [
    "#Definimos una función para aplicar regresiones lineales. \n",
    "def regresion_lineal(data,test_size=0.2,Prec_var='price'):\n",
    "    #definimos las variables den entrada y salida.\n",
    "    x = data.drop(Prec_var,axis=1)\n",
    "    y = data[Prec_var]\n",
    "    \n",
    "    #dividimos el conjunto\n",
    "    x_train,x_test,y_train,y_test = train_test_split(x,y,test_size=test_size)\n",
    "  \n",
    "    #definimos la instancia\n",
    "    lr = LinearRegression()\n",
    "    lr.fit(x_train,y_train)\n",
    "    \n",
    "    \n",
    "    #metricas de evaluación\n",
    "    r2_train = lr.score(x_train,y_train)\n",
    "    r2_test = lr.score(x_test,y_test)\n",
    "    \n",
    "    r2_train = \"{:.4f}\".format(r2_train)\n",
    "    r2_test = \"{:.4f}\".format(r2_test)\n",
    "    \n",
    "    #aplicamos el modelo\n",
    "    y_train_pred = lr.predict(x_train)\n",
    "    y_test_pred = lr.predict(x_test)\n",
    "    \n",
    "    MAE_train = error_absoluto_medio(y_train,y_train_pred)\n",
    "    \n",
    "    MAE_test = error_absoluto_medio(y_test,y_test_pred)\n",
    "    \n",
    "    return r2_train,r2_test,MAE_train,MAE_test\n",
    "\n",
    "r2_train,r2_test,MAE_train,MAE_test = regresion_lineal(data)\n",
    "\n",
    "\n",
    "final = resultados.shape[0]\n",
    "resultados.loc[final] = ['Regresión Lineal','Sin procesar',r2_train,r2_test,MAE_train,MAE_test]\n",
    "resultados"
   ]
  },
  {
   "cell_type": "code",
   "execution_count": 241,
   "metadata": {},
   "outputs": [],
   "source": [
    "file_path = \"../data/data_model_churriana_without_outliers.csv\"\n",
    "data2 = pd.read_csv(file_path, index_col = 0)"
   ]
  },
  {
   "cell_type": "code",
   "execution_count": 242,
   "metadata": {},
   "outputs": [
    {
     "data": {
      "text/html": [
       "<div>\n",
       "<style scoped>\n",
       "    .dataframe tbody tr th:only-of-type {\n",
       "        vertical-align: middle;\n",
       "    }\n",
       "\n",
       "    .dataframe tbody tr th {\n",
       "        vertical-align: top;\n",
       "    }\n",
       "\n",
       "    .dataframe thead th {\n",
       "        text-align: right;\n",
       "    }\n",
       "</style>\n",
       "<table border=\"1\" class=\"dataframe\">\n",
       "  <thead>\n",
       "    <tr style=\"text-align: right;\">\n",
       "      <th></th>\n",
       "      <th>Modelo</th>\n",
       "      <th>Detalles</th>\n",
       "      <th>R2 train</th>\n",
       "      <th>R2 test</th>\n",
       "      <th>MAE train</th>\n",
       "      <th>MAE test</th>\n",
       "    </tr>\n",
       "  </thead>\n",
       "  <tbody>\n",
       "    <tr>\n",
       "      <th>0</th>\n",
       "      <td>Regresión Lineal</td>\n",
       "      <td>Sin procesar</td>\n",
       "      <td>0.7950</td>\n",
       "      <td>0.6760</td>\n",
       "      <td>119802.734620</td>\n",
       "      <td>98299.236439</td>\n",
       "    </tr>\n",
       "    <tr>\n",
       "      <th>1</th>\n",
       "      <td>Regresión Lineal</td>\n",
       "      <td>Sin procesar / Sin outliers</td>\n",
       "      <td>0.7732</td>\n",
       "      <td>0.8412</td>\n",
       "      <td>66998.346234</td>\n",
       "      <td>49442.903255</td>\n",
       "    </tr>\n",
       "  </tbody>\n",
       "</table>\n",
       "</div>"
      ],
      "text/plain": [
       "             Modelo                     Detalles R2 train R2 test  \\\n",
       "0  Regresión Lineal                 Sin procesar   0.7950  0.6760   \n",
       "1  Regresión Lineal  Sin procesar / Sin outliers   0.7732  0.8412   \n",
       "\n",
       "       MAE train      MAE test  \n",
       "0  119802.734620  98299.236439  \n",
       "1   66998.346234  49442.903255  "
      ]
     },
     "execution_count": 242,
     "metadata": {},
     "output_type": "execute_result"
    }
   ],
   "source": [
    "r2_train,r2_test,MAE_train,MAE_test = regresion_lineal(data2)\n",
    "\n",
    "\n",
    "final = resultados.shape[0]\n",
    "resultados.loc[final] = ['Regresión Lineal','Sin procesar / Sin outliers',r2_train,r2_test,MAE_train,MAE_test]\n",
    "resultados"
   ]
  },
  {
   "cell_type": "markdown",
   "metadata": {},
   "source": [
    "#### **Escalación de los datos**"
   ]
  },
  {
   "cell_type": "code",
   "execution_count": 243,
   "metadata": {},
   "outputs": [],
   "source": [
    "from sklearn.preprocessing import MinMaxScaler\n",
    "aux1 =  data.drop('price',axis=1)\n",
    "col_esc = aux1.columns.values\n",
    "\n",
    "scale = MinMaxScaler()\n",
    "\n",
    "data3 = data\n",
    "data3[col_esc] = scale.fit_transform(data[col_esc])"
   ]
  },
  {
   "cell_type": "code",
   "execution_count": 244,
   "metadata": {
    "tags": []
   },
   "outputs": [
    {
     "data": {
      "text/html": [
       "<div>\n",
       "<style scoped>\n",
       "    .dataframe tbody tr th:only-of-type {\n",
       "        vertical-align: middle;\n",
       "    }\n",
       "\n",
       "    .dataframe tbody tr th {\n",
       "        vertical-align: top;\n",
       "    }\n",
       "\n",
       "    .dataframe thead th {\n",
       "        text-align: right;\n",
       "    }\n",
       "</style>\n",
       "<table border=\"1\" class=\"dataframe\">\n",
       "  <thead>\n",
       "    <tr style=\"text-align: right;\">\n",
       "      <th></th>\n",
       "      <th>latitude</th>\n",
       "      <th>longitude</th>\n",
       "      <th>price</th>\n",
       "      <th>energy_certification</th>\n",
       "      <th>room_number</th>\n",
       "      <th>bath_number</th>\n",
       "      <th>has_garden</th>\n",
       "      <th>has_terrace</th>\n",
       "      <th>has_parking</th>\n",
       "      <th>has_swimmingpool</th>\n",
       "      <th>has_lift</th>\n",
       "      <th>constructed_area</th>\n",
       "      <th>is_new_development</th>\n",
       "      <th>is_needs_renovating</th>\n",
       "      <th>is_goog_condition</th>\n",
       "    </tr>\n",
       "  </thead>\n",
       "  <tbody>\n",
       "    <tr>\n",
       "      <th>0</th>\n",
       "      <td>0.104634</td>\n",
       "      <td>0.212265</td>\n",
       "      <td>395000</td>\n",
       "      <td>0.875</td>\n",
       "      <td>0.230769</td>\n",
       "      <td>0.285714</td>\n",
       "      <td>1.0</td>\n",
       "      <td>1.0</td>\n",
       "      <td>1.0</td>\n",
       "      <td>1.0</td>\n",
       "      <td>0.0</td>\n",
       "      <td>0.058776</td>\n",
       "      <td>0.0</td>\n",
       "      <td>0.0</td>\n",
       "      <td>1.0</td>\n",
       "    </tr>\n",
       "    <tr>\n",
       "      <th>1</th>\n",
       "      <td>0.099171</td>\n",
       "      <td>0.174626</td>\n",
       "      <td>640000</td>\n",
       "      <td>0.875</td>\n",
       "      <td>0.230769</td>\n",
       "      <td>0.142857</td>\n",
       "      <td>1.0</td>\n",
       "      <td>1.0</td>\n",
       "      <td>1.0</td>\n",
       "      <td>1.0</td>\n",
       "      <td>0.0</td>\n",
       "      <td>0.106122</td>\n",
       "      <td>0.0</td>\n",
       "      <td>0.0</td>\n",
       "      <td>1.0</td>\n",
       "    </tr>\n",
       "    <tr>\n",
       "      <th>2</th>\n",
       "      <td>0.086396</td>\n",
       "      <td>0.175551</td>\n",
       "      <td>567000</td>\n",
       "      <td>0.875</td>\n",
       "      <td>0.307692</td>\n",
       "      <td>0.428571</td>\n",
       "      <td>1.0</td>\n",
       "      <td>1.0</td>\n",
       "      <td>0.0</td>\n",
       "      <td>1.0</td>\n",
       "      <td>0.0</td>\n",
       "      <td>0.146939</td>\n",
       "      <td>0.0</td>\n",
       "      <td>0.0</td>\n",
       "      <td>1.0</td>\n",
       "    </tr>\n",
       "    <tr>\n",
       "      <th>3</th>\n",
       "      <td>0.113152</td>\n",
       "      <td>0.162179</td>\n",
       "      <td>375900</td>\n",
       "      <td>1.000</td>\n",
       "      <td>0.230769</td>\n",
       "      <td>0.142857</td>\n",
       "      <td>1.0</td>\n",
       "      <td>1.0</td>\n",
       "      <td>1.0</td>\n",
       "      <td>1.0</td>\n",
       "      <td>1.0</td>\n",
       "      <td>0.075918</td>\n",
       "      <td>1.0</td>\n",
       "      <td>0.0</td>\n",
       "      <td>0.0</td>\n",
       "    </tr>\n",
       "    <tr>\n",
       "      <th>4</th>\n",
       "      <td>0.113152</td>\n",
       "      <td>0.162179</td>\n",
       "      <td>249900</td>\n",
       "      <td>1.000</td>\n",
       "      <td>0.076923</td>\n",
       "      <td>0.142857</td>\n",
       "      <td>0.0</td>\n",
       "      <td>1.0</td>\n",
       "      <td>1.0</td>\n",
       "      <td>1.0</td>\n",
       "      <td>1.0</td>\n",
       "      <td>0.040816</td>\n",
       "      <td>1.0</td>\n",
       "      <td>0.0</td>\n",
       "      <td>0.0</td>\n",
       "    </tr>\n",
       "  </tbody>\n",
       "</table>\n",
       "</div>"
      ],
      "text/plain": [
       "   latitude  longitude   price  energy_certification  room_number  \\\n",
       "0  0.104634   0.212265  395000                 0.875     0.230769   \n",
       "1  0.099171   0.174626  640000                 0.875     0.230769   \n",
       "2  0.086396   0.175551  567000                 0.875     0.307692   \n",
       "3  0.113152   0.162179  375900                 1.000     0.230769   \n",
       "4  0.113152   0.162179  249900                 1.000     0.076923   \n",
       "\n",
       "   bath_number  has_garden  has_terrace  has_parking  has_swimmingpool  \\\n",
       "0     0.285714         1.0          1.0          1.0               1.0   \n",
       "1     0.142857         1.0          1.0          1.0               1.0   \n",
       "2     0.428571         1.0          1.0          0.0               1.0   \n",
       "3     0.142857         1.0          1.0          1.0               1.0   \n",
       "4     0.142857         0.0          1.0          1.0               1.0   \n",
       "\n",
       "   has_lift  constructed_area  is_new_development  is_needs_renovating  \\\n",
       "0       0.0          0.058776                 0.0                  0.0   \n",
       "1       0.0          0.106122                 0.0                  0.0   \n",
       "2       0.0          0.146939                 0.0                  0.0   \n",
       "3       1.0          0.075918                 1.0                  0.0   \n",
       "4       1.0          0.040816                 1.0                  0.0   \n",
       "\n",
       "   is_goog_condition  \n",
       "0                1.0  \n",
       "1                1.0  \n",
       "2                1.0  \n",
       "3                0.0  \n",
       "4                0.0  "
      ]
     },
     "execution_count": 244,
     "metadata": {},
     "output_type": "execute_result"
    }
   ],
   "source": [
    "data3.head()"
   ]
  },
  {
   "cell_type": "code",
   "execution_count": 245,
   "metadata": {},
   "outputs": [
    {
     "data": {
      "text/html": [
       "<div>\n",
       "<style scoped>\n",
       "    .dataframe tbody tr th:only-of-type {\n",
       "        vertical-align: middle;\n",
       "    }\n",
       "\n",
       "    .dataframe tbody tr th {\n",
       "        vertical-align: top;\n",
       "    }\n",
       "\n",
       "    .dataframe thead th {\n",
       "        text-align: right;\n",
       "    }\n",
       "</style>\n",
       "<table border=\"1\" class=\"dataframe\">\n",
       "  <thead>\n",
       "    <tr style=\"text-align: right;\">\n",
       "      <th></th>\n",
       "      <th>latitude</th>\n",
       "      <th>longitude</th>\n",
       "      <th>price</th>\n",
       "      <th>energy_certification</th>\n",
       "      <th>room_number</th>\n",
       "      <th>bath_number</th>\n",
       "      <th>has_garden</th>\n",
       "      <th>has_terrace</th>\n",
       "      <th>has_parking</th>\n",
       "      <th>has_swimmingpool</th>\n",
       "      <th>has_lift</th>\n",
       "      <th>constructed_area</th>\n",
       "      <th>is_new_development</th>\n",
       "      <th>is_needs_renovating</th>\n",
       "      <th>is_goog_condition</th>\n",
       "    </tr>\n",
       "  </thead>\n",
       "  <tbody>\n",
       "    <tr>\n",
       "      <th>count</th>\n",
       "      <td>187.000000</td>\n",
       "      <td>187.000000</td>\n",
       "      <td>1.870000e+02</td>\n",
       "      <td>187.000000</td>\n",
       "      <td>187.000000</td>\n",
       "      <td>187.000000</td>\n",
       "      <td>187.000000</td>\n",
       "      <td>187.000000</td>\n",
       "      <td>187.000000</td>\n",
       "      <td>187.00000</td>\n",
       "      <td>187.000000</td>\n",
       "      <td>187.000000</td>\n",
       "      <td>187.000000</td>\n",
       "      <td>187.000000</td>\n",
       "      <td>187.000000</td>\n",
       "    </tr>\n",
       "    <tr>\n",
       "      <th>mean</th>\n",
       "      <td>0.152275</td>\n",
       "      <td>0.226678</td>\n",
       "      <td>4.829937e+05</td>\n",
       "      <td>0.679813</td>\n",
       "      <td>0.201974</td>\n",
       "      <td>0.222307</td>\n",
       "      <td>0.609626</td>\n",
       "      <td>0.860963</td>\n",
       "      <td>0.812834</td>\n",
       "      <td>0.73262</td>\n",
       "      <td>0.422460</td>\n",
       "      <td>0.078952</td>\n",
       "      <td>0.229947</td>\n",
       "      <td>0.053476</td>\n",
       "      <td>0.716578</td>\n",
       "    </tr>\n",
       "    <tr>\n",
       "      <th>std</th>\n",
       "      <td>0.211999</td>\n",
       "      <td>0.193632</td>\n",
       "      <td>5.127819e+05</td>\n",
       "      <td>0.301770</td>\n",
       "      <td>0.125336</td>\n",
       "      <td>0.199341</td>\n",
       "      <td>0.489144</td>\n",
       "      <td>0.346914</td>\n",
       "      <td>0.391092</td>\n",
       "      <td>0.44378</td>\n",
       "      <td>0.495277</td>\n",
       "      <td>0.110337</td>\n",
       "      <td>0.421928</td>\n",
       "      <td>0.225585</td>\n",
       "      <td>0.451870</td>\n",
       "    </tr>\n",
       "    <tr>\n",
       "      <th>min</th>\n",
       "      <td>0.000000</td>\n",
       "      <td>0.000000</td>\n",
       "      <td>5.490000e+04</td>\n",
       "      <td>0.000000</td>\n",
       "      <td>0.000000</td>\n",
       "      <td>0.000000</td>\n",
       "      <td>0.000000</td>\n",
       "      <td>0.000000</td>\n",
       "      <td>0.000000</td>\n",
       "      <td>0.00000</td>\n",
       "      <td>0.000000</td>\n",
       "      <td>0.000000</td>\n",
       "      <td>0.000000</td>\n",
       "      <td>0.000000</td>\n",
       "      <td>0.000000</td>\n",
       "    </tr>\n",
       "    <tr>\n",
       "      <th>25%</th>\n",
       "      <td>0.091272</td>\n",
       "      <td>0.171782</td>\n",
       "      <td>2.499000e+05</td>\n",
       "      <td>0.500000</td>\n",
       "      <td>0.153846</td>\n",
       "      <td>0.142857</td>\n",
       "      <td>0.000000</td>\n",
       "      <td>1.000000</td>\n",
       "      <td>1.000000</td>\n",
       "      <td>0.00000</td>\n",
       "      <td>0.000000</td>\n",
       "      <td>0.023878</td>\n",
       "      <td>0.000000</td>\n",
       "      <td>0.000000</td>\n",
       "      <td>0.000000</td>\n",
       "    </tr>\n",
       "    <tr>\n",
       "      <th>50%</th>\n",
       "      <td>0.099349</td>\n",
       "      <td>0.176613</td>\n",
       "      <td>2.999900e+05</td>\n",
       "      <td>0.750000</td>\n",
       "      <td>0.153846</td>\n",
       "      <td>0.142857</td>\n",
       "      <td>1.000000</td>\n",
       "      <td>1.000000</td>\n",
       "      <td>1.000000</td>\n",
       "      <td>1.00000</td>\n",
       "      <td>0.000000</td>\n",
       "      <td>0.041633</td>\n",
       "      <td>0.000000</td>\n",
       "      <td>0.000000</td>\n",
       "      <td>1.000000</td>\n",
       "    </tr>\n",
       "    <tr>\n",
       "      <th>75%</th>\n",
       "      <td>0.113012</td>\n",
       "      <td>0.187782</td>\n",
       "      <td>5.670000e+05</td>\n",
       "      <td>1.000000</td>\n",
       "      <td>0.230769</td>\n",
       "      <td>0.285714</td>\n",
       "      <td>1.000000</td>\n",
       "      <td>1.000000</td>\n",
       "      <td>1.000000</td>\n",
       "      <td>1.00000</td>\n",
       "      <td>1.000000</td>\n",
       "      <td>0.084082</td>\n",
       "      <td>0.000000</td>\n",
       "      <td>0.000000</td>\n",
       "      <td>1.000000</td>\n",
       "    </tr>\n",
       "    <tr>\n",
       "      <th>max</th>\n",
       "      <td>1.000000</td>\n",
       "      <td>1.000000</td>\n",
       "      <td>5.000000e+06</td>\n",
       "      <td>1.000000</td>\n",
       "      <td>1.000000</td>\n",
       "      <td>1.000000</td>\n",
       "      <td>1.000000</td>\n",
       "      <td>1.000000</td>\n",
       "      <td>1.000000</td>\n",
       "      <td>1.00000</td>\n",
       "      <td>1.000000</td>\n",
       "      <td>1.000000</td>\n",
       "      <td>1.000000</td>\n",
       "      <td>1.000000</td>\n",
       "      <td>1.000000</td>\n",
       "    </tr>\n",
       "  </tbody>\n",
       "</table>\n",
       "</div>"
      ],
      "text/plain": [
       "         latitude   longitude         price  energy_certification  \\\n",
       "count  187.000000  187.000000  1.870000e+02            187.000000   \n",
       "mean     0.152275    0.226678  4.829937e+05              0.679813   \n",
       "std      0.211999    0.193632  5.127819e+05              0.301770   \n",
       "min      0.000000    0.000000  5.490000e+04              0.000000   \n",
       "25%      0.091272    0.171782  2.499000e+05              0.500000   \n",
       "50%      0.099349    0.176613  2.999900e+05              0.750000   \n",
       "75%      0.113012    0.187782  5.670000e+05              1.000000   \n",
       "max      1.000000    1.000000  5.000000e+06              1.000000   \n",
       "\n",
       "       room_number  bath_number  has_garden  has_terrace  has_parking  \\\n",
       "count   187.000000   187.000000  187.000000   187.000000   187.000000   \n",
       "mean      0.201974     0.222307    0.609626     0.860963     0.812834   \n",
       "std       0.125336     0.199341    0.489144     0.346914     0.391092   \n",
       "min       0.000000     0.000000    0.000000     0.000000     0.000000   \n",
       "25%       0.153846     0.142857    0.000000     1.000000     1.000000   \n",
       "50%       0.153846     0.142857    1.000000     1.000000     1.000000   \n",
       "75%       0.230769     0.285714    1.000000     1.000000     1.000000   \n",
       "max       1.000000     1.000000    1.000000     1.000000     1.000000   \n",
       "\n",
       "       has_swimmingpool    has_lift  constructed_area  is_new_development  \\\n",
       "count         187.00000  187.000000        187.000000          187.000000   \n",
       "mean            0.73262    0.422460          0.078952            0.229947   \n",
       "std             0.44378    0.495277          0.110337            0.421928   \n",
       "min             0.00000    0.000000          0.000000            0.000000   \n",
       "25%             0.00000    0.000000          0.023878            0.000000   \n",
       "50%             1.00000    0.000000          0.041633            0.000000   \n",
       "75%             1.00000    1.000000          0.084082            0.000000   \n",
       "max             1.00000    1.000000          1.000000            1.000000   \n",
       "\n",
       "       is_needs_renovating  is_goog_condition  \n",
       "count           187.000000         187.000000  \n",
       "mean              0.053476           0.716578  \n",
       "std               0.225585           0.451870  \n",
       "min               0.000000           0.000000  \n",
       "25%               0.000000           0.000000  \n",
       "50%               0.000000           1.000000  \n",
       "75%               0.000000           1.000000  \n",
       "max               1.000000           1.000000  "
      ]
     },
     "execution_count": 245,
     "metadata": {},
     "output_type": "execute_result"
    }
   ],
   "source": [
    "data.describe()"
   ]
  },
  {
   "cell_type": "code",
   "execution_count": 246,
   "metadata": {},
   "outputs": [
    {
     "data": {
      "text/html": [
       "<div>\n",
       "<style scoped>\n",
       "    .dataframe tbody tr th:only-of-type {\n",
       "        vertical-align: middle;\n",
       "    }\n",
       "\n",
       "    .dataframe tbody tr th {\n",
       "        vertical-align: top;\n",
       "    }\n",
       "\n",
       "    .dataframe thead th {\n",
       "        text-align: right;\n",
       "    }\n",
       "</style>\n",
       "<table border=\"1\" class=\"dataframe\">\n",
       "  <thead>\n",
       "    <tr style=\"text-align: right;\">\n",
       "      <th></th>\n",
       "      <th>Modelo</th>\n",
       "      <th>Detalles</th>\n",
       "      <th>R2 train</th>\n",
       "      <th>R2 test</th>\n",
       "      <th>MAE train</th>\n",
       "      <th>MAE test</th>\n",
       "    </tr>\n",
       "  </thead>\n",
       "  <tbody>\n",
       "    <tr>\n",
       "      <th>0</th>\n",
       "      <td>Regresión Lineal</td>\n",
       "      <td>Sin procesar</td>\n",
       "      <td>0.7950</td>\n",
       "      <td>0.6760</td>\n",
       "      <td>119802.734620</td>\n",
       "      <td>98299.236439</td>\n",
       "    </tr>\n",
       "    <tr>\n",
       "      <th>1</th>\n",
       "      <td>Regresión Lineal</td>\n",
       "      <td>Sin procesar / Sin outliers</td>\n",
       "      <td>0.7732</td>\n",
       "      <td>0.8412</td>\n",
       "      <td>66998.346234</td>\n",
       "      <td>49442.903255</td>\n",
       "    </tr>\n",
       "    <tr>\n",
       "      <th>2</th>\n",
       "      <td>Regresión Lineal</td>\n",
       "      <td>Datos escalados</td>\n",
       "      <td>0.8865</td>\n",
       "      <td>0.5795</td>\n",
       "      <td>95919.135341</td>\n",
       "      <td>182084.546525</td>\n",
       "    </tr>\n",
       "  </tbody>\n",
       "</table>\n",
       "</div>"
      ],
      "text/plain": [
       "             Modelo                     Detalles R2 train R2 test  \\\n",
       "0  Regresión Lineal                 Sin procesar   0.7950  0.6760   \n",
       "1  Regresión Lineal  Sin procesar / Sin outliers   0.7732  0.8412   \n",
       "2  Regresión Lineal              Datos escalados   0.8865  0.5795   \n",
       "\n",
       "       MAE train       MAE test  \n",
       "0  119802.734620   98299.236439  \n",
       "1   66998.346234   49442.903255  \n",
       "2   95919.135341  182084.546525  "
      ]
     },
     "execution_count": 246,
     "metadata": {},
     "output_type": "execute_result"
    }
   ],
   "source": [
    "r2_train,r2_test,MAE_train,MAE_test = regresion_lineal(data3)\n",
    "\n",
    "\n",
    "final = resultados.shape[0]\n",
    "resultados.loc[final] = ['Regresión Lineal','Datos escalados',r2_train,r2_test,MAE_train,MAE_test]\n",
    "resultados"
   ]
  },
  {
   "cell_type": "code",
   "execution_count": 247,
   "metadata": {},
   "outputs": [],
   "source": [
    "aux2 =  data2.drop('price',axis=1)\n",
    "col_esc1 = aux2.columns.values\n",
    "\n",
    "scale = MinMaxScaler()\n",
    "\n",
    "data4 = data2\n",
    "data4[col_esc] = scale.fit_transform(data2[col_esc])"
   ]
  },
  {
   "cell_type": "code",
   "execution_count": 248,
   "metadata": {},
   "outputs": [
    {
     "data": {
      "text/html": [
       "<div>\n",
       "<style scoped>\n",
       "    .dataframe tbody tr th:only-of-type {\n",
       "        vertical-align: middle;\n",
       "    }\n",
       "\n",
       "    .dataframe tbody tr th {\n",
       "        vertical-align: top;\n",
       "    }\n",
       "\n",
       "    .dataframe thead th {\n",
       "        text-align: right;\n",
       "    }\n",
       "</style>\n",
       "<table border=\"1\" class=\"dataframe\">\n",
       "  <thead>\n",
       "    <tr style=\"text-align: right;\">\n",
       "      <th></th>\n",
       "      <th>Modelo</th>\n",
       "      <th>Detalles</th>\n",
       "      <th>R2 train</th>\n",
       "      <th>R2 test</th>\n",
       "      <th>MAE train</th>\n",
       "      <th>MAE test</th>\n",
       "    </tr>\n",
       "  </thead>\n",
       "  <tbody>\n",
       "    <tr>\n",
       "      <th>0</th>\n",
       "      <td>Regresión Lineal</td>\n",
       "      <td>Sin procesar</td>\n",
       "      <td>0.7950</td>\n",
       "      <td>0.6760</td>\n",
       "      <td>119802.734620</td>\n",
       "      <td>98299.236439</td>\n",
       "    </tr>\n",
       "    <tr>\n",
       "      <th>1</th>\n",
       "      <td>Regresión Lineal</td>\n",
       "      <td>Sin procesar / Sin outliers</td>\n",
       "      <td>0.7732</td>\n",
       "      <td>0.8412</td>\n",
       "      <td>66998.346234</td>\n",
       "      <td>49442.903255</td>\n",
       "    </tr>\n",
       "    <tr>\n",
       "      <th>2</th>\n",
       "      <td>Regresión Lineal</td>\n",
       "      <td>Datos escalados</td>\n",
       "      <td>0.8865</td>\n",
       "      <td>0.5795</td>\n",
       "      <td>95919.135341</td>\n",
       "      <td>182084.546525</td>\n",
       "    </tr>\n",
       "    <tr>\n",
       "      <th>3</th>\n",
       "      <td>Regresión Lineal</td>\n",
       "      <td>Datos escalados / Sin outliers</td>\n",
       "      <td>0.8120</td>\n",
       "      <td>0.5950</td>\n",
       "      <td>58506.723803</td>\n",
       "      <td>90334.195687</td>\n",
       "    </tr>\n",
       "  </tbody>\n",
       "</table>\n",
       "</div>"
      ],
      "text/plain": [
       "             Modelo                        Detalles R2 train R2 test  \\\n",
       "0  Regresión Lineal                    Sin procesar   0.7950  0.6760   \n",
       "1  Regresión Lineal     Sin procesar / Sin outliers   0.7732  0.8412   \n",
       "2  Regresión Lineal                 Datos escalados   0.8865  0.5795   \n",
       "3  Regresión Lineal  Datos escalados / Sin outliers   0.8120  0.5950   \n",
       "\n",
       "       MAE train       MAE test  \n",
       "0  119802.734620   98299.236439  \n",
       "1   66998.346234   49442.903255  \n",
       "2   95919.135341  182084.546525  \n",
       "3   58506.723803   90334.195687  "
      ]
     },
     "execution_count": 248,
     "metadata": {},
     "output_type": "execute_result"
    }
   ],
   "source": [
    "r2_train,r2_test,MAE_train,MAE_test = regresion_lineal(data4)\n",
    "\n",
    "\n",
    "final = resultados.shape[0]\n",
    "resultados.loc[final] = ['Regresión Lineal','Datos escalados / Sin outliers',r2_train,r2_test,MAE_train,MAE_test]\n",
    "resultados"
   ]
  },
  {
   "cell_type": "markdown",
   "metadata": {},
   "source": [
    "### **Selección del modelo de regresión**<br>\n",
    "* Al usar la regresion lineal obtenemos un porcentaje de precisión del 82%. \n",
    "* Los datos sin outliers y escalados son los que presentan mejor rendimiento para el modelo de regresión lineal.\n",
    "<br>\n",
    "\n",
    "Este resultado no está mal pero dado que el dataset posee varias características que no presentan una relación lineal con el precio, probaremos con modelos más flexibles.\n",
    "<br><br>\n",
    "#### **Regresión polinómica**\n"
   ]
  },
  {
   "cell_type": "code",
   "execution_count": 249,
   "metadata": {},
   "outputs": [],
   "source": [
    "file_path = \"../data/data_model_churriana_malaga.csv\"\n",
    "data = pd.read_csv(file_path, index_col = 0)"
   ]
  },
  {
   "cell_type": "code",
   "execution_count": 250,
   "metadata": {
    "tags": []
   },
   "outputs": [
    {
     "data": {
      "text/html": [
       "<div>\n",
       "<style scoped>\n",
       "    .dataframe tbody tr th:only-of-type {\n",
       "        vertical-align: middle;\n",
       "    }\n",
       "\n",
       "    .dataframe tbody tr th {\n",
       "        vertical-align: top;\n",
       "    }\n",
       "\n",
       "    .dataframe thead th {\n",
       "        text-align: right;\n",
       "    }\n",
       "</style>\n",
       "<table border=\"1\" class=\"dataframe\">\n",
       "  <thead>\n",
       "    <tr style=\"text-align: right;\">\n",
       "      <th></th>\n",
       "      <th>Modelo</th>\n",
       "      <th>Detalles</th>\n",
       "      <th>R2 train</th>\n",
       "      <th>R2 test</th>\n",
       "      <th>MAE train</th>\n",
       "      <th>MAE test</th>\n",
       "    </tr>\n",
       "  </thead>\n",
       "  <tbody>\n",
       "    <tr>\n",
       "      <th>0</th>\n",
       "      <td>Regresión Lineal</td>\n",
       "      <td>Sin procesar</td>\n",
       "      <td>0.7950</td>\n",
       "      <td>0.6760</td>\n",
       "      <td>119802.734620</td>\n",
       "      <td>98299.236439</td>\n",
       "    </tr>\n",
       "    <tr>\n",
       "      <th>1</th>\n",
       "      <td>Regresión Lineal</td>\n",
       "      <td>Sin procesar / Sin outliers</td>\n",
       "      <td>0.7732</td>\n",
       "      <td>0.8412</td>\n",
       "      <td>66998.346234</td>\n",
       "      <td>49442.903255</td>\n",
       "    </tr>\n",
       "    <tr>\n",
       "      <th>2</th>\n",
       "      <td>Regresión Lineal</td>\n",
       "      <td>Datos escalados</td>\n",
       "      <td>0.8865</td>\n",
       "      <td>0.5795</td>\n",
       "      <td>95919.135341</td>\n",
       "      <td>182084.546525</td>\n",
       "    </tr>\n",
       "    <tr>\n",
       "      <th>3</th>\n",
       "      <td>Regresión Lineal</td>\n",
       "      <td>Datos escalados / Sin outliers</td>\n",
       "      <td>0.8120</td>\n",
       "      <td>0.5950</td>\n",
       "      <td>58506.723803</td>\n",
       "      <td>90334.195687</td>\n",
       "    </tr>\n",
       "    <tr>\n",
       "      <th>4</th>\n",
       "      <td>Regresión Polinómica</td>\n",
       "      <td>Sin procesar / Grado 3</td>\n",
       "      <td>0.8551</td>\n",
       "      <td>-0.4478</td>\n",
       "      <td>120047.791055</td>\n",
       "      <td>466563.204153</td>\n",
       "    </tr>\n",
       "  </tbody>\n",
       "</table>\n",
       "</div>"
      ],
      "text/plain": [
       "                 Modelo                        Detalles R2 train  R2 test  \\\n",
       "0      Regresión Lineal                    Sin procesar   0.7950   0.6760   \n",
       "1      Regresión Lineal     Sin procesar / Sin outliers   0.7732   0.8412   \n",
       "2      Regresión Lineal                 Datos escalados   0.8865   0.5795   \n",
       "3      Regresión Lineal  Datos escalados / Sin outliers   0.8120   0.5950   \n",
       "4  Regresión Polinómica          Sin procesar / Grado 3   0.8551  -0.4478   \n",
       "\n",
       "       MAE train       MAE test  \n",
       "0  119802.734620   98299.236439  \n",
       "1   66998.346234   49442.903255  \n",
       "2   95919.135341  182084.546525  \n",
       "3   58506.723803   90334.195687  \n",
       "4  120047.791055  466563.204153  "
      ]
     },
     "execution_count": 250,
     "metadata": {},
     "output_type": "execute_result"
    }
   ],
   "source": [
    "from sklearn.preprocessing import PolynomialFeatures\n",
    "\n",
    "def regresion_poli(data,degree=2,test_size=0.2,Prec_var='price'):\n",
    "    x = data.drop(Prec_var,axis=1)\n",
    "    y = data[Prec_var]\n",
    "    \n",
    "    poly = PolynomialFeatures(degree=2,)\n",
    "    x_poly = poly.fit_transform(x)\n",
    "    \n",
    "    x_train,x_test,y_train,y_test = train_test_split(x_poly,y,test_size=test_size)\n",
    "        \n",
    "    lr = LinearRegression()\n",
    "    lr.fit(x_train,y_train)\n",
    "    \n",
    "    r2_train = lr.score(x_train,y_train)\n",
    "    r2_test = lr.score(x_test,y_test)\n",
    "    \n",
    "    r2_train = \"{:.4f}\".format(r2_train)\n",
    "    r2_test = \"{:.4f}\".format(r2_test)\n",
    "    \n",
    "    y_train_pred = lr.predict(x_train)\n",
    "    y_test_pred = lr.predict(x_test)\n",
    "    \n",
    "    MAE_train,MAE_test = error_gen(y_train,y_train_pred,y_test,y_test_pred)\n",
    "    \n",
    "\n",
    "    return r2_train,r2_test,MAE_train,MAE_test\n",
    "\n",
    "r2_train,r2_test,MAE_train,MAE_test = regresion_poli(data,degree=3)\n",
    "final = resultados.shape[0]\n",
    "resultados.loc[final] = ['Regresión Polinómica','Sin procesar / Grado 3',r2_train,r2_test,MAE_train,MAE_test]\n",
    "resultados"
   ]
  },
  {
   "cell_type": "markdown",
   "metadata": {},
   "source": [
    "**Regresión polinómica datos sin outliers**"
   ]
  },
  {
   "cell_type": "code",
   "execution_count": 251,
   "metadata": {},
   "outputs": [],
   "source": [
    "file_path = \"../data/data_model_churriana_without_outliers.csv\"\n",
    "data2 = pd.read_csv(file_path, index_col = 0)"
   ]
  },
  {
   "cell_type": "code",
   "execution_count": 252,
   "metadata": {},
   "outputs": [
    {
     "data": {
      "text/html": [
       "<div>\n",
       "<style scoped>\n",
       "    .dataframe tbody tr th:only-of-type {\n",
       "        vertical-align: middle;\n",
       "    }\n",
       "\n",
       "    .dataframe tbody tr th {\n",
       "        vertical-align: top;\n",
       "    }\n",
       "\n",
       "    .dataframe thead th {\n",
       "        text-align: right;\n",
       "    }\n",
       "</style>\n",
       "<table border=\"1\" class=\"dataframe\">\n",
       "  <thead>\n",
       "    <tr style=\"text-align: right;\">\n",
       "      <th></th>\n",
       "      <th>Modelo</th>\n",
       "      <th>Detalles</th>\n",
       "      <th>R2 train</th>\n",
       "      <th>R2 test</th>\n",
       "      <th>MAE train</th>\n",
       "      <th>MAE test</th>\n",
       "    </tr>\n",
       "  </thead>\n",
       "  <tbody>\n",
       "    <tr>\n",
       "      <th>0</th>\n",
       "      <td>Regresión Lineal</td>\n",
       "      <td>Sin procesar</td>\n",
       "      <td>0.7950</td>\n",
       "      <td>0.6760</td>\n",
       "      <td>119802.734620</td>\n",
       "      <td>9.829924e+04</td>\n",
       "    </tr>\n",
       "    <tr>\n",
       "      <th>1</th>\n",
       "      <td>Regresión Lineal</td>\n",
       "      <td>Sin procesar / Sin outliers</td>\n",
       "      <td>0.7732</td>\n",
       "      <td>0.8412</td>\n",
       "      <td>66998.346234</td>\n",
       "      <td>4.944290e+04</td>\n",
       "    </tr>\n",
       "    <tr>\n",
       "      <th>2</th>\n",
       "      <td>Regresión Lineal</td>\n",
       "      <td>Datos escalados</td>\n",
       "      <td>0.8865</td>\n",
       "      <td>0.5795</td>\n",
       "      <td>95919.135341</td>\n",
       "      <td>1.820845e+05</td>\n",
       "    </tr>\n",
       "    <tr>\n",
       "      <th>3</th>\n",
       "      <td>Regresión Lineal</td>\n",
       "      <td>Datos escalados / Sin outliers</td>\n",
       "      <td>0.8120</td>\n",
       "      <td>0.5950</td>\n",
       "      <td>58506.723803</td>\n",
       "      <td>9.033420e+04</td>\n",
       "    </tr>\n",
       "    <tr>\n",
       "      <th>4</th>\n",
       "      <td>Regresión Polinómica</td>\n",
       "      <td>Sin procesar / Grado 3</td>\n",
       "      <td>0.8551</td>\n",
       "      <td>-0.4478</td>\n",
       "      <td>120047.791055</td>\n",
       "      <td>4.665632e+05</td>\n",
       "    </tr>\n",
       "    <tr>\n",
       "      <th>5</th>\n",
       "      <td>Regresión Polinómica</td>\n",
       "      <td>Sin procesar / Grado 3 / Sin outliers</td>\n",
       "      <td>0.9760</td>\n",
       "      <td>-6046.9840</td>\n",
       "      <td>20157.810608</td>\n",
       "      <td>4.291520e+06</td>\n",
       "    </tr>\n",
       "  </tbody>\n",
       "</table>\n",
       "</div>"
      ],
      "text/plain": [
       "                 Modelo                               Detalles R2 train  \\\n",
       "0      Regresión Lineal                           Sin procesar   0.7950   \n",
       "1      Regresión Lineal            Sin procesar / Sin outliers   0.7732   \n",
       "2      Regresión Lineal                        Datos escalados   0.8865   \n",
       "3      Regresión Lineal         Datos escalados / Sin outliers   0.8120   \n",
       "4  Regresión Polinómica                 Sin procesar / Grado 3   0.8551   \n",
       "5  Regresión Polinómica  Sin procesar / Grado 3 / Sin outliers   0.9760   \n",
       "\n",
       "      R2 test      MAE train      MAE test  \n",
       "0      0.6760  119802.734620  9.829924e+04  \n",
       "1      0.8412   66998.346234  4.944290e+04  \n",
       "2      0.5795   95919.135341  1.820845e+05  \n",
       "3      0.5950   58506.723803  9.033420e+04  \n",
       "4     -0.4478  120047.791055  4.665632e+05  \n",
       "5  -6046.9840   20157.810608  4.291520e+06  "
      ]
     },
     "execution_count": 252,
     "metadata": {},
     "output_type": "execute_result"
    }
   ],
   "source": [
    "r2_train,r2_test,MAE_train,MAE_test = regresion_poli(data2,degree=3)\n",
    "final = resultados.shape[0]\n",
    "resultados.loc[final] = ['Regresión Polinómica','Sin procesar / Grado 3 / Sin outliers',r2_train,r2_test,MAE_train,MAE_test]\n",
    "resultados"
   ]
  },
  {
   "cell_type": "markdown",
   "metadata": {},
   "source": [
    "El modelo de regresión polinómica podemos confirmar que no es la mejor opción cuando estamos tratando tan poca cantidad de datos. Estos modelos necesitan gran volumen de datos para ser precisos. Está sobreajustando y no es capaz de generalizar bien a nuevos datos.\n",
    "<br>\n",
    "No aplicamos el modelo a los datos escalados, no es necesario ya que está confirmado que su rendimiento para este caso es peor."
   ]
  },
  {
   "cell_type": "markdown",
   "metadata": {},
   "source": [
    "### **SVM-Support Vector Machine**\n"
   ]
  },
  {
   "cell_type": "code",
   "execution_count": 253,
   "metadata": {},
   "outputs": [],
   "source": [
    "file_path = \"../data/data_model_churriana_malaga.csv\"\n",
    "data = pd.read_csv(file_path, index_col = 0)"
   ]
  },
  {
   "cell_type": "code",
   "execution_count": 254,
   "metadata": {},
   "outputs": [
    {
     "data": {
      "text/html": [
       "<div>\n",
       "<style scoped>\n",
       "    .dataframe tbody tr th:only-of-type {\n",
       "        vertical-align: middle;\n",
       "    }\n",
       "\n",
       "    .dataframe tbody tr th {\n",
       "        vertical-align: top;\n",
       "    }\n",
       "\n",
       "    .dataframe thead th {\n",
       "        text-align: right;\n",
       "    }\n",
       "</style>\n",
       "<table border=\"1\" class=\"dataframe\">\n",
       "  <thead>\n",
       "    <tr style=\"text-align: right;\">\n",
       "      <th></th>\n",
       "      <th>Modelo</th>\n",
       "      <th>Detalles</th>\n",
       "      <th>R2 train</th>\n",
       "      <th>R2 test</th>\n",
       "      <th>MAE train</th>\n",
       "      <th>MAE test</th>\n",
       "    </tr>\n",
       "  </thead>\n",
       "  <tbody>\n",
       "    <tr>\n",
       "      <th>0</th>\n",
       "      <td>Regresión Lineal</td>\n",
       "      <td>Sin procesar</td>\n",
       "      <td>0.7950</td>\n",
       "      <td>0.6760</td>\n",
       "      <td>119802.734620</td>\n",
       "      <td>9.829924e+04</td>\n",
       "    </tr>\n",
       "    <tr>\n",
       "      <th>1</th>\n",
       "      <td>Regresión Lineal</td>\n",
       "      <td>Sin procesar / Sin outliers</td>\n",
       "      <td>0.7732</td>\n",
       "      <td>0.8412</td>\n",
       "      <td>66998.346234</td>\n",
       "      <td>4.944290e+04</td>\n",
       "    </tr>\n",
       "    <tr>\n",
       "      <th>2</th>\n",
       "      <td>Regresión Lineal</td>\n",
       "      <td>Datos escalados</td>\n",
       "      <td>0.8865</td>\n",
       "      <td>0.5795</td>\n",
       "      <td>95919.135341</td>\n",
       "      <td>1.820845e+05</td>\n",
       "    </tr>\n",
       "    <tr>\n",
       "      <th>3</th>\n",
       "      <td>Regresión Lineal</td>\n",
       "      <td>Datos escalados / Sin outliers</td>\n",
       "      <td>0.8120</td>\n",
       "      <td>0.5950</td>\n",
       "      <td>58506.723803</td>\n",
       "      <td>9.033420e+04</td>\n",
       "    </tr>\n",
       "    <tr>\n",
       "      <th>4</th>\n",
       "      <td>Regresión Polinómica</td>\n",
       "      <td>Sin procesar / Grado 3</td>\n",
       "      <td>0.8551</td>\n",
       "      <td>-0.4478</td>\n",
       "      <td>120047.791055</td>\n",
       "      <td>4.665632e+05</td>\n",
       "    </tr>\n",
       "    <tr>\n",
       "      <th>5</th>\n",
       "      <td>Regresión Polinómica</td>\n",
       "      <td>Sin procesar / Grado 3 / Sin outliers</td>\n",
       "      <td>0.9760</td>\n",
       "      <td>-6046.9840</td>\n",
       "      <td>20157.810608</td>\n",
       "      <td>4.291520e+06</td>\n",
       "    </tr>\n",
       "    <tr>\n",
       "      <th>6</th>\n",
       "      <td>SVM</td>\n",
       "      <td>Sin procesar / linear</td>\n",
       "      <td>0.7578</td>\n",
       "      <td>0.7238</td>\n",
       "      <td>109009.758699</td>\n",
       "      <td>1.250306e+05</td>\n",
       "    </tr>\n",
       "    <tr>\n",
       "      <th>7</th>\n",
       "      <td>SVM</td>\n",
       "      <td>Sin procesar / poly</td>\n",
       "      <td>-0.1039</td>\n",
       "      <td>-0.0611</td>\n",
       "      <td>231480.247148</td>\n",
       "      <td>2.897273e+05</td>\n",
       "    </tr>\n",
       "    <tr>\n",
       "      <th>8</th>\n",
       "      <td>SVM</td>\n",
       "      <td>Sin procesar / rbf</td>\n",
       "      <td>-0.1061</td>\n",
       "      <td>-0.0742</td>\n",
       "      <td>268957.663998</td>\n",
       "      <td>2.110845e+05</td>\n",
       "    </tr>\n",
       "    <tr>\n",
       "      <th>9</th>\n",
       "      <td>SVM</td>\n",
       "      <td>Sin procesar / sigmoid</td>\n",
       "      <td>-0.1190</td>\n",
       "      <td>-0.0969</td>\n",
       "      <td>271096.466764</td>\n",
       "      <td>2.038353e+05</td>\n",
       "    </tr>\n",
       "  </tbody>\n",
       "</table>\n",
       "</div>"
      ],
      "text/plain": [
       "                 Modelo                               Detalles R2 train  \\\n",
       "0      Regresión Lineal                           Sin procesar   0.7950   \n",
       "1      Regresión Lineal            Sin procesar / Sin outliers   0.7732   \n",
       "2      Regresión Lineal                        Datos escalados   0.8865   \n",
       "3      Regresión Lineal         Datos escalados / Sin outliers   0.8120   \n",
       "4  Regresión Polinómica                 Sin procesar / Grado 3   0.8551   \n",
       "5  Regresión Polinómica  Sin procesar / Grado 3 / Sin outliers   0.9760   \n",
       "6                   SVM                  Sin procesar / linear   0.7578   \n",
       "7                   SVM                    Sin procesar / poly  -0.1039   \n",
       "8                   SVM                     Sin procesar / rbf  -0.1061   \n",
       "9                   SVM                 Sin procesar / sigmoid  -0.1190   \n",
       "\n",
       "      R2 test      MAE train      MAE test  \n",
       "0      0.6760  119802.734620  9.829924e+04  \n",
       "1      0.8412   66998.346234  4.944290e+04  \n",
       "2      0.5795   95919.135341  1.820845e+05  \n",
       "3      0.5950   58506.723803  9.033420e+04  \n",
       "4     -0.4478  120047.791055  4.665632e+05  \n",
       "5  -6046.9840   20157.810608  4.291520e+06  \n",
       "6      0.7238  109009.758699  1.250306e+05  \n",
       "7     -0.0611  231480.247148  2.897273e+05  \n",
       "8     -0.0742  268957.663998  2.110845e+05  \n",
       "9     -0.0969  271096.466764  2.038353e+05  "
      ]
     },
     "execution_count": 254,
     "metadata": {},
     "output_type": "execute_result"
    }
   ],
   "source": [
    "from sklearn.svm import SVR\n",
    "\n",
    "def svm_support(data,test_size=0.3,Prec_var='price',kernel='rbf'):\n",
    "    x = data.drop(Prec_var,axis=1)\n",
    "    y = data[Prec_var]\n",
    "    \n",
    "    x_train,x_test,y_train,y_test = train_test_split(x,y,test_size=test_size)\n",
    "  \n",
    "    svm = SVR(kernel=kernel)\n",
    "    svm.fit(x_train,y_train)\n",
    "    \n",
    "    r2_train = svm.score(x_train,y_train)\n",
    "    r2_test = svm.score(x_test,y_test)\n",
    "    \n",
    "    r2_train = \"{:.4f}\".format(r2_train)\n",
    "    r2_test = \"{:.4f}\".format(r2_test)\n",
    "    \n",
    "    y_train_pred = svm.predict(x_train)\n",
    "    y_test_pred = svm.predict(x_test)\n",
    "    \n",
    "    MAE_train = error_absoluto_medio(y_train,y_train_pred)\n",
    "    MAE_test = error_absoluto_medio(y_test,y_test_pred)\n",
    "    \n",
    "    return r2_train,r2_test,MAE_train,MAE_test\n",
    "\n",
    "kernels = ['linear', 'poly', 'rbf', 'sigmoid']\n",
    "\n",
    "for kernel in kernels:\n",
    "    r2_train,r2_test,MAE_train,MAE_test = svm_support(data,kernel=kernel)\n",
    "    final = resultados.shape[0]\n",
    "    resultados.loc[final] = ['SVM',f\"Sin procesar / {kernel}\",r2_train,r2_test,MAE_train,MAE_test]\n",
    "resultados"
   ]
  },
  {
   "cell_type": "markdown",
   "metadata": {},
   "source": [
    "**SVM sin outliers**"
   ]
  },
  {
   "cell_type": "code",
   "execution_count": 255,
   "metadata": {},
   "outputs": [],
   "source": [
    "file_path = \"../data/data_model_churriana_without_outliers.csv\"\n",
    "data2 = pd.read_csv(file_path, index_col = 0)"
   ]
  },
  {
   "cell_type": "code",
   "execution_count": 256,
   "metadata": {},
   "outputs": [
    {
     "data": {
      "text/html": [
       "<div>\n",
       "<style scoped>\n",
       "    .dataframe tbody tr th:only-of-type {\n",
       "        vertical-align: middle;\n",
       "    }\n",
       "\n",
       "    .dataframe tbody tr th {\n",
       "        vertical-align: top;\n",
       "    }\n",
       "\n",
       "    .dataframe thead th {\n",
       "        text-align: right;\n",
       "    }\n",
       "</style>\n",
       "<table border=\"1\" class=\"dataframe\">\n",
       "  <thead>\n",
       "    <tr style=\"text-align: right;\">\n",
       "      <th></th>\n",
       "      <th>Modelo</th>\n",
       "      <th>Detalles</th>\n",
       "      <th>R2 train</th>\n",
       "      <th>R2 test</th>\n",
       "      <th>MAE train</th>\n",
       "      <th>MAE test</th>\n",
       "    </tr>\n",
       "  </thead>\n",
       "  <tbody>\n",
       "    <tr>\n",
       "      <th>0</th>\n",
       "      <td>Regresión Lineal</td>\n",
       "      <td>Sin procesar</td>\n",
       "      <td>0.7950</td>\n",
       "      <td>0.6760</td>\n",
       "      <td>119802.734620</td>\n",
       "      <td>9.829924e+04</td>\n",
       "    </tr>\n",
       "    <tr>\n",
       "      <th>1</th>\n",
       "      <td>Regresión Lineal</td>\n",
       "      <td>Sin procesar / Sin outliers</td>\n",
       "      <td>0.7732</td>\n",
       "      <td>0.8412</td>\n",
       "      <td>66998.346234</td>\n",
       "      <td>4.944290e+04</td>\n",
       "    </tr>\n",
       "    <tr>\n",
       "      <th>2</th>\n",
       "      <td>Regresión Lineal</td>\n",
       "      <td>Datos escalados</td>\n",
       "      <td>0.8865</td>\n",
       "      <td>0.5795</td>\n",
       "      <td>95919.135341</td>\n",
       "      <td>1.820845e+05</td>\n",
       "    </tr>\n",
       "    <tr>\n",
       "      <th>3</th>\n",
       "      <td>Regresión Lineal</td>\n",
       "      <td>Datos escalados / Sin outliers</td>\n",
       "      <td>0.8120</td>\n",
       "      <td>0.5950</td>\n",
       "      <td>58506.723803</td>\n",
       "      <td>9.033420e+04</td>\n",
       "    </tr>\n",
       "    <tr>\n",
       "      <th>4</th>\n",
       "      <td>Regresión Polinómica</td>\n",
       "      <td>Sin procesar / Grado 3</td>\n",
       "      <td>0.8551</td>\n",
       "      <td>-0.4478</td>\n",
       "      <td>120047.791055</td>\n",
       "      <td>4.665632e+05</td>\n",
       "    </tr>\n",
       "    <tr>\n",
       "      <th>5</th>\n",
       "      <td>Regresión Polinómica</td>\n",
       "      <td>Sin procesar / Grado 3 / Sin outliers</td>\n",
       "      <td>0.9760</td>\n",
       "      <td>-6046.9840</td>\n",
       "      <td>20157.810608</td>\n",
       "      <td>4.291520e+06</td>\n",
       "    </tr>\n",
       "    <tr>\n",
       "      <th>6</th>\n",
       "      <td>SVM</td>\n",
       "      <td>Sin procesar / linear</td>\n",
       "      <td>0.7578</td>\n",
       "      <td>0.7238</td>\n",
       "      <td>109009.758699</td>\n",
       "      <td>1.250306e+05</td>\n",
       "    </tr>\n",
       "    <tr>\n",
       "      <th>7</th>\n",
       "      <td>SVM</td>\n",
       "      <td>Sin procesar / poly</td>\n",
       "      <td>-0.1039</td>\n",
       "      <td>-0.0611</td>\n",
       "      <td>231480.247148</td>\n",
       "      <td>2.897273e+05</td>\n",
       "    </tr>\n",
       "    <tr>\n",
       "      <th>8</th>\n",
       "      <td>SVM</td>\n",
       "      <td>Sin procesar / rbf</td>\n",
       "      <td>-0.1061</td>\n",
       "      <td>-0.0742</td>\n",
       "      <td>268957.663998</td>\n",
       "      <td>2.110845e+05</td>\n",
       "    </tr>\n",
       "    <tr>\n",
       "      <th>9</th>\n",
       "      <td>SVM</td>\n",
       "      <td>Sin procesar / sigmoid</td>\n",
       "      <td>-0.1190</td>\n",
       "      <td>-0.0969</td>\n",
       "      <td>271096.466764</td>\n",
       "      <td>2.038353e+05</td>\n",
       "    </tr>\n",
       "    <tr>\n",
       "      <th>10</th>\n",
       "      <td>SVM</td>\n",
       "      <td>Sin procesar / linear / Sin outliers</td>\n",
       "      <td>0.7019</td>\n",
       "      <td>0.5835</td>\n",
       "      <td>69583.618900</td>\n",
       "      <td>8.941037e+04</td>\n",
       "    </tr>\n",
       "    <tr>\n",
       "      <th>11</th>\n",
       "      <td>SVM</td>\n",
       "      <td>Sin procesar / poly / Sin outliers</td>\n",
       "      <td>-0.1059</td>\n",
       "      <td>-0.0840</td>\n",
       "      <td>138557.717042</td>\n",
       "      <td>1.238412e+05</td>\n",
       "    </tr>\n",
       "    <tr>\n",
       "      <th>12</th>\n",
       "      <td>SVM</td>\n",
       "      <td>Sin procesar / rbf / Sin outliers</td>\n",
       "      <td>-0.1151</td>\n",
       "      <td>-0.0764</td>\n",
       "      <td>132349.562010</td>\n",
       "      <td>1.393468e+05</td>\n",
       "    </tr>\n",
       "    <tr>\n",
       "      <th>13</th>\n",
       "      <td>SVM</td>\n",
       "      <td>Sin procesar / sigmoid / Sin outliers</td>\n",
       "      <td>-0.1374</td>\n",
       "      <td>-0.0312</td>\n",
       "      <td>140139.711248</td>\n",
       "      <td>1.214014e+05</td>\n",
       "    </tr>\n",
       "  </tbody>\n",
       "</table>\n",
       "</div>"
      ],
      "text/plain": [
       "                  Modelo                               Detalles R2 train  \\\n",
       "0       Regresión Lineal                           Sin procesar   0.7950   \n",
       "1       Regresión Lineal            Sin procesar / Sin outliers   0.7732   \n",
       "2       Regresión Lineal                        Datos escalados   0.8865   \n",
       "3       Regresión Lineal         Datos escalados / Sin outliers   0.8120   \n",
       "4   Regresión Polinómica                 Sin procesar / Grado 3   0.8551   \n",
       "5   Regresión Polinómica  Sin procesar / Grado 3 / Sin outliers   0.9760   \n",
       "6                    SVM                  Sin procesar / linear   0.7578   \n",
       "7                    SVM                    Sin procesar / poly  -0.1039   \n",
       "8                    SVM                     Sin procesar / rbf  -0.1061   \n",
       "9                    SVM                 Sin procesar / sigmoid  -0.1190   \n",
       "10                   SVM   Sin procesar / linear / Sin outliers   0.7019   \n",
       "11                   SVM     Sin procesar / poly / Sin outliers  -0.1059   \n",
       "12                   SVM      Sin procesar / rbf / Sin outliers  -0.1151   \n",
       "13                   SVM  Sin procesar / sigmoid / Sin outliers  -0.1374   \n",
       "\n",
       "       R2 test      MAE train      MAE test  \n",
       "0       0.6760  119802.734620  9.829924e+04  \n",
       "1       0.8412   66998.346234  4.944290e+04  \n",
       "2       0.5795   95919.135341  1.820845e+05  \n",
       "3       0.5950   58506.723803  9.033420e+04  \n",
       "4      -0.4478  120047.791055  4.665632e+05  \n",
       "5   -6046.9840   20157.810608  4.291520e+06  \n",
       "6       0.7238  109009.758699  1.250306e+05  \n",
       "7      -0.0611  231480.247148  2.897273e+05  \n",
       "8      -0.0742  268957.663998  2.110845e+05  \n",
       "9      -0.0969  271096.466764  2.038353e+05  \n",
       "10      0.5835   69583.618900  8.941037e+04  \n",
       "11     -0.0840  138557.717042  1.238412e+05  \n",
       "12     -0.0764  132349.562010  1.393468e+05  \n",
       "13     -0.0312  140139.711248  1.214014e+05  "
      ]
     },
     "execution_count": 256,
     "metadata": {},
     "output_type": "execute_result"
    }
   ],
   "source": [
    "for kernel in kernels:\n",
    "    r2_train,r2_test,MAE_train,MAE_test = svm_support(data2,kernel=kernel)\n",
    "    final = resultados.shape[0]\n",
    "    resultados.loc[final] = ['SVM',f\"Sin procesar / {kernel} / Sin outliers\",r2_train,r2_test,MAE_train,MAE_test]\n",
    "resultados"
   ]
  },
  {
   "cell_type": "markdown",
   "metadata": {},
   "source": [
    "**SVM datos escalados**"
   ]
  },
  {
   "cell_type": "code",
   "execution_count": 257,
   "metadata": {},
   "outputs": [],
   "source": [
    "data3 = data\n",
    "data3[col_esc] = scale.fit_transform(data[col_esc])"
   ]
  },
  {
   "cell_type": "code",
   "execution_count": 258,
   "metadata": {},
   "outputs": [
    {
     "data": {
      "text/html": [
       "<div>\n",
       "<style scoped>\n",
       "    .dataframe tbody tr th:only-of-type {\n",
       "        vertical-align: middle;\n",
       "    }\n",
       "\n",
       "    .dataframe tbody tr th {\n",
       "        vertical-align: top;\n",
       "    }\n",
       "\n",
       "    .dataframe thead th {\n",
       "        text-align: right;\n",
       "    }\n",
       "</style>\n",
       "<table border=\"1\" class=\"dataframe\">\n",
       "  <thead>\n",
       "    <tr style=\"text-align: right;\">\n",
       "      <th></th>\n",
       "      <th>Modelo</th>\n",
       "      <th>Detalles</th>\n",
       "      <th>R2 train</th>\n",
       "      <th>R2 test</th>\n",
       "      <th>MAE train</th>\n",
       "      <th>MAE test</th>\n",
       "    </tr>\n",
       "  </thead>\n",
       "  <tbody>\n",
       "    <tr>\n",
       "      <th>0</th>\n",
       "      <td>Regresión Lineal</td>\n",
       "      <td>Sin procesar</td>\n",
       "      <td>0.7950</td>\n",
       "      <td>0.6760</td>\n",
       "      <td>119802.734620</td>\n",
       "      <td>9.829924e+04</td>\n",
       "    </tr>\n",
       "    <tr>\n",
       "      <th>1</th>\n",
       "      <td>Regresión Lineal</td>\n",
       "      <td>Sin procesar / Sin outliers</td>\n",
       "      <td>0.7732</td>\n",
       "      <td>0.8412</td>\n",
       "      <td>66998.346234</td>\n",
       "      <td>4.944290e+04</td>\n",
       "    </tr>\n",
       "    <tr>\n",
       "      <th>2</th>\n",
       "      <td>Regresión Lineal</td>\n",
       "      <td>Datos escalados</td>\n",
       "      <td>0.8865</td>\n",
       "      <td>0.5795</td>\n",
       "      <td>95919.135341</td>\n",
       "      <td>1.820845e+05</td>\n",
       "    </tr>\n",
       "    <tr>\n",
       "      <th>3</th>\n",
       "      <td>Regresión Lineal</td>\n",
       "      <td>Datos escalados / Sin outliers</td>\n",
       "      <td>0.8120</td>\n",
       "      <td>0.5950</td>\n",
       "      <td>58506.723803</td>\n",
       "      <td>9.033420e+04</td>\n",
       "    </tr>\n",
       "    <tr>\n",
       "      <th>4</th>\n",
       "      <td>Regresión Polinómica</td>\n",
       "      <td>Sin procesar / Grado 3</td>\n",
       "      <td>0.8551</td>\n",
       "      <td>-0.4478</td>\n",
       "      <td>120047.791055</td>\n",
       "      <td>4.665632e+05</td>\n",
       "    </tr>\n",
       "    <tr>\n",
       "      <th>5</th>\n",
       "      <td>Regresión Polinómica</td>\n",
       "      <td>Sin procesar / Grado 3 / Sin outliers</td>\n",
       "      <td>0.9760</td>\n",
       "      <td>-6046.9840</td>\n",
       "      <td>20157.810608</td>\n",
       "      <td>4.291520e+06</td>\n",
       "    </tr>\n",
       "    <tr>\n",
       "      <th>6</th>\n",
       "      <td>SVM</td>\n",
       "      <td>Sin procesar / linear</td>\n",
       "      <td>0.7578</td>\n",
       "      <td>0.7238</td>\n",
       "      <td>109009.758699</td>\n",
       "      <td>1.250306e+05</td>\n",
       "    </tr>\n",
       "    <tr>\n",
       "      <th>7</th>\n",
       "      <td>SVM</td>\n",
       "      <td>Sin procesar / poly</td>\n",
       "      <td>-0.1039</td>\n",
       "      <td>-0.0611</td>\n",
       "      <td>231480.247148</td>\n",
       "      <td>2.897273e+05</td>\n",
       "    </tr>\n",
       "    <tr>\n",
       "      <th>8</th>\n",
       "      <td>SVM</td>\n",
       "      <td>Sin procesar / rbf</td>\n",
       "      <td>-0.1061</td>\n",
       "      <td>-0.0742</td>\n",
       "      <td>268957.663998</td>\n",
       "      <td>2.110845e+05</td>\n",
       "    </tr>\n",
       "    <tr>\n",
       "      <th>9</th>\n",
       "      <td>SVM</td>\n",
       "      <td>Sin procesar / sigmoid</td>\n",
       "      <td>-0.1190</td>\n",
       "      <td>-0.0969</td>\n",
       "      <td>271096.466764</td>\n",
       "      <td>2.038353e+05</td>\n",
       "    </tr>\n",
       "    <tr>\n",
       "      <th>10</th>\n",
       "      <td>SVM</td>\n",
       "      <td>Sin procesar / linear / Sin outliers</td>\n",
       "      <td>0.7019</td>\n",
       "      <td>0.5835</td>\n",
       "      <td>69583.618900</td>\n",
       "      <td>8.941037e+04</td>\n",
       "    </tr>\n",
       "    <tr>\n",
       "      <th>11</th>\n",
       "      <td>SVM</td>\n",
       "      <td>Sin procesar / poly / Sin outliers</td>\n",
       "      <td>-0.1059</td>\n",
       "      <td>-0.0840</td>\n",
       "      <td>138557.717042</td>\n",
       "      <td>1.238412e+05</td>\n",
       "    </tr>\n",
       "    <tr>\n",
       "      <th>12</th>\n",
       "      <td>SVM</td>\n",
       "      <td>Sin procesar / rbf / Sin outliers</td>\n",
       "      <td>-0.1151</td>\n",
       "      <td>-0.0764</td>\n",
       "      <td>132349.562010</td>\n",
       "      <td>1.393468e+05</td>\n",
       "    </tr>\n",
       "    <tr>\n",
       "      <th>13</th>\n",
       "      <td>SVM</td>\n",
       "      <td>Sin procesar / sigmoid / Sin outliers</td>\n",
       "      <td>-0.1374</td>\n",
       "      <td>-0.0312</td>\n",
       "      <td>140139.711248</td>\n",
       "      <td>1.214014e+05</td>\n",
       "    </tr>\n",
       "    <tr>\n",
       "      <th>14</th>\n",
       "      <td>SVM</td>\n",
       "      <td>Datos escalados / linear</td>\n",
       "      <td>-0.1038</td>\n",
       "      <td>-0.1172</td>\n",
       "      <td>261136.479180</td>\n",
       "      <td>2.269127e+05</td>\n",
       "    </tr>\n",
       "    <tr>\n",
       "      <th>15</th>\n",
       "      <td>SVM</td>\n",
       "      <td>Datos escalados / poly</td>\n",
       "      <td>-0.1283</td>\n",
       "      <td>-0.0795</td>\n",
       "      <td>281080.720470</td>\n",
       "      <td>1.808701e+05</td>\n",
       "    </tr>\n",
       "    <tr>\n",
       "      <th>16</th>\n",
       "      <td>SVM</td>\n",
       "      <td>Datos escalados / rbf</td>\n",
       "      <td>-0.0844</td>\n",
       "      <td>-0.1970</td>\n",
       "      <td>242877.771555</td>\n",
       "      <td>2.684446e+05</td>\n",
       "    </tr>\n",
       "    <tr>\n",
       "      <th>17</th>\n",
       "      <td>SVM</td>\n",
       "      <td>Datos escalados / sigmoid</td>\n",
       "      <td>-0.1009</td>\n",
       "      <td>-0.2544</td>\n",
       "      <td>244309.103330</td>\n",
       "      <td>2.647312e+05</td>\n",
       "    </tr>\n",
       "  </tbody>\n",
       "</table>\n",
       "</div>"
      ],
      "text/plain": [
       "                  Modelo                               Detalles R2 train  \\\n",
       "0       Regresión Lineal                           Sin procesar   0.7950   \n",
       "1       Regresión Lineal            Sin procesar / Sin outliers   0.7732   \n",
       "2       Regresión Lineal                        Datos escalados   0.8865   \n",
       "3       Regresión Lineal         Datos escalados / Sin outliers   0.8120   \n",
       "4   Regresión Polinómica                 Sin procesar / Grado 3   0.8551   \n",
       "5   Regresión Polinómica  Sin procesar / Grado 3 / Sin outliers   0.9760   \n",
       "6                    SVM                  Sin procesar / linear   0.7578   \n",
       "7                    SVM                    Sin procesar / poly  -0.1039   \n",
       "8                    SVM                     Sin procesar / rbf  -0.1061   \n",
       "9                    SVM                 Sin procesar / sigmoid  -0.1190   \n",
       "10                   SVM   Sin procesar / linear / Sin outliers   0.7019   \n",
       "11                   SVM     Sin procesar / poly / Sin outliers  -0.1059   \n",
       "12                   SVM      Sin procesar / rbf / Sin outliers  -0.1151   \n",
       "13                   SVM  Sin procesar / sigmoid / Sin outliers  -0.1374   \n",
       "14                   SVM               Datos escalados / linear  -0.1038   \n",
       "15                   SVM                 Datos escalados / poly  -0.1283   \n",
       "16                   SVM                  Datos escalados / rbf  -0.0844   \n",
       "17                   SVM              Datos escalados / sigmoid  -0.1009   \n",
       "\n",
       "       R2 test      MAE train      MAE test  \n",
       "0       0.6760  119802.734620  9.829924e+04  \n",
       "1       0.8412   66998.346234  4.944290e+04  \n",
       "2       0.5795   95919.135341  1.820845e+05  \n",
       "3       0.5950   58506.723803  9.033420e+04  \n",
       "4      -0.4478  120047.791055  4.665632e+05  \n",
       "5   -6046.9840   20157.810608  4.291520e+06  \n",
       "6       0.7238  109009.758699  1.250306e+05  \n",
       "7      -0.0611  231480.247148  2.897273e+05  \n",
       "8      -0.0742  268957.663998  2.110845e+05  \n",
       "9      -0.0969  271096.466764  2.038353e+05  \n",
       "10      0.5835   69583.618900  8.941037e+04  \n",
       "11     -0.0840  138557.717042  1.238412e+05  \n",
       "12     -0.0764  132349.562010  1.393468e+05  \n",
       "13     -0.0312  140139.711248  1.214014e+05  \n",
       "14     -0.1172  261136.479180  2.269127e+05  \n",
       "15     -0.0795  281080.720470  1.808701e+05  \n",
       "16     -0.1970  242877.771555  2.684446e+05  \n",
       "17     -0.2544  244309.103330  2.647312e+05  "
      ]
     },
     "execution_count": 258,
     "metadata": {},
     "output_type": "execute_result"
    }
   ],
   "source": [
    "for kernel in kernels:\n",
    "    r2_train,r2_test,MAE_train,MAE_test = svm_support(data3,kernel=kernel)\n",
    "    final = resultados.shape[0]\n",
    "    resultados.loc[final] = ['SVM',f\"Datos escalados / {kernel}\",r2_train,r2_test,MAE_train,MAE_test]\n",
    "resultados"
   ]
  },
  {
   "cell_type": "markdown",
   "metadata": {},
   "source": [
    "**SVM datos escalados sin outliers**"
   ]
  },
  {
   "cell_type": "code",
   "execution_count": 259,
   "metadata": {},
   "outputs": [],
   "source": [
    "data4 = data2\n",
    "data4[col_esc] = scale.fit_transform(data2[col_esc])"
   ]
  },
  {
   "cell_type": "code",
   "execution_count": 260,
   "metadata": {},
   "outputs": [
    {
     "data": {
      "text/html": [
       "<div>\n",
       "<style scoped>\n",
       "    .dataframe tbody tr th:only-of-type {\n",
       "        vertical-align: middle;\n",
       "    }\n",
       "\n",
       "    .dataframe tbody tr th {\n",
       "        vertical-align: top;\n",
       "    }\n",
       "\n",
       "    .dataframe thead th {\n",
       "        text-align: right;\n",
       "    }\n",
       "</style>\n",
       "<table border=\"1\" class=\"dataframe\">\n",
       "  <thead>\n",
       "    <tr style=\"text-align: right;\">\n",
       "      <th></th>\n",
       "      <th>Modelo</th>\n",
       "      <th>Detalles</th>\n",
       "      <th>R2 train</th>\n",
       "      <th>R2 test</th>\n",
       "      <th>MAE train</th>\n",
       "      <th>MAE test</th>\n",
       "    </tr>\n",
       "  </thead>\n",
       "  <tbody>\n",
       "    <tr>\n",
       "      <th>0</th>\n",
       "      <td>Regresión Lineal</td>\n",
       "      <td>Sin procesar</td>\n",
       "      <td>0.7950</td>\n",
       "      <td>0.6760</td>\n",
       "      <td>119802.734620</td>\n",
       "      <td>9.829924e+04</td>\n",
       "    </tr>\n",
       "    <tr>\n",
       "      <th>1</th>\n",
       "      <td>Regresión Lineal</td>\n",
       "      <td>Sin procesar / Sin outliers</td>\n",
       "      <td>0.7732</td>\n",
       "      <td>0.8412</td>\n",
       "      <td>66998.346234</td>\n",
       "      <td>4.944290e+04</td>\n",
       "    </tr>\n",
       "    <tr>\n",
       "      <th>2</th>\n",
       "      <td>Regresión Lineal</td>\n",
       "      <td>Datos escalados</td>\n",
       "      <td>0.8865</td>\n",
       "      <td>0.5795</td>\n",
       "      <td>95919.135341</td>\n",
       "      <td>1.820845e+05</td>\n",
       "    </tr>\n",
       "    <tr>\n",
       "      <th>3</th>\n",
       "      <td>Regresión Lineal</td>\n",
       "      <td>Datos escalados / Sin outliers</td>\n",
       "      <td>0.8120</td>\n",
       "      <td>0.5950</td>\n",
       "      <td>58506.723803</td>\n",
       "      <td>9.033420e+04</td>\n",
       "    </tr>\n",
       "    <tr>\n",
       "      <th>4</th>\n",
       "      <td>Regresión Polinómica</td>\n",
       "      <td>Sin procesar / Grado 3</td>\n",
       "      <td>0.8551</td>\n",
       "      <td>-0.4478</td>\n",
       "      <td>120047.791055</td>\n",
       "      <td>4.665632e+05</td>\n",
       "    </tr>\n",
       "    <tr>\n",
       "      <th>5</th>\n",
       "      <td>Regresión Polinómica</td>\n",
       "      <td>Sin procesar / Grado 3 / Sin outliers</td>\n",
       "      <td>0.9760</td>\n",
       "      <td>-6046.9840</td>\n",
       "      <td>20157.810608</td>\n",
       "      <td>4.291520e+06</td>\n",
       "    </tr>\n",
       "    <tr>\n",
       "      <th>6</th>\n",
       "      <td>SVM</td>\n",
       "      <td>Sin procesar / linear</td>\n",
       "      <td>0.7578</td>\n",
       "      <td>0.7238</td>\n",
       "      <td>109009.758699</td>\n",
       "      <td>1.250306e+05</td>\n",
       "    </tr>\n",
       "    <tr>\n",
       "      <th>7</th>\n",
       "      <td>SVM</td>\n",
       "      <td>Sin procesar / poly</td>\n",
       "      <td>-0.1039</td>\n",
       "      <td>-0.0611</td>\n",
       "      <td>231480.247148</td>\n",
       "      <td>2.897273e+05</td>\n",
       "    </tr>\n",
       "    <tr>\n",
       "      <th>8</th>\n",
       "      <td>SVM</td>\n",
       "      <td>Sin procesar / rbf</td>\n",
       "      <td>-0.1061</td>\n",
       "      <td>-0.0742</td>\n",
       "      <td>268957.663998</td>\n",
       "      <td>2.110845e+05</td>\n",
       "    </tr>\n",
       "    <tr>\n",
       "      <th>9</th>\n",
       "      <td>SVM</td>\n",
       "      <td>Sin procesar / sigmoid</td>\n",
       "      <td>-0.1190</td>\n",
       "      <td>-0.0969</td>\n",
       "      <td>271096.466764</td>\n",
       "      <td>2.038353e+05</td>\n",
       "    </tr>\n",
       "    <tr>\n",
       "      <th>10</th>\n",
       "      <td>SVM</td>\n",
       "      <td>Sin procesar / linear / Sin outliers</td>\n",
       "      <td>0.7019</td>\n",
       "      <td>0.5835</td>\n",
       "      <td>69583.618900</td>\n",
       "      <td>8.941037e+04</td>\n",
       "    </tr>\n",
       "    <tr>\n",
       "      <th>11</th>\n",
       "      <td>SVM</td>\n",
       "      <td>Sin procesar / poly / Sin outliers</td>\n",
       "      <td>-0.1059</td>\n",
       "      <td>-0.0840</td>\n",
       "      <td>138557.717042</td>\n",
       "      <td>1.238412e+05</td>\n",
       "    </tr>\n",
       "    <tr>\n",
       "      <th>12</th>\n",
       "      <td>SVM</td>\n",
       "      <td>Sin procesar / rbf / Sin outliers</td>\n",
       "      <td>-0.1151</td>\n",
       "      <td>-0.0764</td>\n",
       "      <td>132349.562010</td>\n",
       "      <td>1.393468e+05</td>\n",
       "    </tr>\n",
       "    <tr>\n",
       "      <th>13</th>\n",
       "      <td>SVM</td>\n",
       "      <td>Sin procesar / sigmoid / Sin outliers</td>\n",
       "      <td>-0.1374</td>\n",
       "      <td>-0.0312</td>\n",
       "      <td>140139.711248</td>\n",
       "      <td>1.214014e+05</td>\n",
       "    </tr>\n",
       "    <tr>\n",
       "      <th>14</th>\n",
       "      <td>SVM</td>\n",
       "      <td>Datos escalados / linear</td>\n",
       "      <td>-0.1038</td>\n",
       "      <td>-0.1172</td>\n",
       "      <td>261136.479180</td>\n",
       "      <td>2.269127e+05</td>\n",
       "    </tr>\n",
       "    <tr>\n",
       "      <th>15</th>\n",
       "      <td>SVM</td>\n",
       "      <td>Datos escalados / poly</td>\n",
       "      <td>-0.1283</td>\n",
       "      <td>-0.0795</td>\n",
       "      <td>281080.720470</td>\n",
       "      <td>1.808701e+05</td>\n",
       "    </tr>\n",
       "    <tr>\n",
       "      <th>16</th>\n",
       "      <td>SVM</td>\n",
       "      <td>Datos escalados / rbf</td>\n",
       "      <td>-0.0844</td>\n",
       "      <td>-0.1970</td>\n",
       "      <td>242877.771555</td>\n",
       "      <td>2.684446e+05</td>\n",
       "    </tr>\n",
       "    <tr>\n",
       "      <th>17</th>\n",
       "      <td>SVM</td>\n",
       "      <td>Datos escalados / sigmoid</td>\n",
       "      <td>-0.1009</td>\n",
       "      <td>-0.2544</td>\n",
       "      <td>244309.103330</td>\n",
       "      <td>2.647312e+05</td>\n",
       "    </tr>\n",
       "    <tr>\n",
       "      <th>18</th>\n",
       "      <td>SVM</td>\n",
       "      <td>Datos escalados / linear / Sin outliers</td>\n",
       "      <td>-0.1102</td>\n",
       "      <td>-0.0758</td>\n",
       "      <td>135106.850626</td>\n",
       "      <td>1.330802e+05</td>\n",
       "    </tr>\n",
       "    <tr>\n",
       "      <th>19</th>\n",
       "      <td>SVM</td>\n",
       "      <td>Datos escalados / poly / Sin outliers</td>\n",
       "      <td>-0.0874</td>\n",
       "      <td>-0.1362</td>\n",
       "      <td>125869.129555</td>\n",
       "      <td>1.542681e+05</td>\n",
       "    </tr>\n",
       "    <tr>\n",
       "      <th>20</th>\n",
       "      <td>SVM</td>\n",
       "      <td>Datos escalados / rbf / Sin outliers</td>\n",
       "      <td>-0.1227</td>\n",
       "      <td>-0.0007</td>\n",
       "      <td>153685.038055</td>\n",
       "      <td>9.358333e+04</td>\n",
       "    </tr>\n",
       "    <tr>\n",
       "      <th>21</th>\n",
       "      <td>SVM</td>\n",
       "      <td>Datos escalados / sigmoid / Sin outliers</td>\n",
       "      <td>-0.1156</td>\n",
       "      <td>-0.0819</td>\n",
       "      <td>139775.837525</td>\n",
       "      <td>1.219450e+05</td>\n",
       "    </tr>\n",
       "  </tbody>\n",
       "</table>\n",
       "</div>"
      ],
      "text/plain": [
       "                  Modelo                                  Detalles R2 train  \\\n",
       "0       Regresión Lineal                              Sin procesar   0.7950   \n",
       "1       Regresión Lineal               Sin procesar / Sin outliers   0.7732   \n",
       "2       Regresión Lineal                           Datos escalados   0.8865   \n",
       "3       Regresión Lineal            Datos escalados / Sin outliers   0.8120   \n",
       "4   Regresión Polinómica                    Sin procesar / Grado 3   0.8551   \n",
       "5   Regresión Polinómica     Sin procesar / Grado 3 / Sin outliers   0.9760   \n",
       "6                    SVM                     Sin procesar / linear   0.7578   \n",
       "7                    SVM                       Sin procesar / poly  -0.1039   \n",
       "8                    SVM                        Sin procesar / rbf  -0.1061   \n",
       "9                    SVM                    Sin procesar / sigmoid  -0.1190   \n",
       "10                   SVM      Sin procesar / linear / Sin outliers   0.7019   \n",
       "11                   SVM        Sin procesar / poly / Sin outliers  -0.1059   \n",
       "12                   SVM         Sin procesar / rbf / Sin outliers  -0.1151   \n",
       "13                   SVM     Sin procesar / sigmoid / Sin outliers  -0.1374   \n",
       "14                   SVM                  Datos escalados / linear  -0.1038   \n",
       "15                   SVM                    Datos escalados / poly  -0.1283   \n",
       "16                   SVM                     Datos escalados / rbf  -0.0844   \n",
       "17                   SVM                 Datos escalados / sigmoid  -0.1009   \n",
       "18                   SVM   Datos escalados / linear / Sin outliers  -0.1102   \n",
       "19                   SVM     Datos escalados / poly / Sin outliers  -0.0874   \n",
       "20                   SVM      Datos escalados / rbf / Sin outliers  -0.1227   \n",
       "21                   SVM  Datos escalados / sigmoid / Sin outliers  -0.1156   \n",
       "\n",
       "       R2 test      MAE train      MAE test  \n",
       "0       0.6760  119802.734620  9.829924e+04  \n",
       "1       0.8412   66998.346234  4.944290e+04  \n",
       "2       0.5795   95919.135341  1.820845e+05  \n",
       "3       0.5950   58506.723803  9.033420e+04  \n",
       "4      -0.4478  120047.791055  4.665632e+05  \n",
       "5   -6046.9840   20157.810608  4.291520e+06  \n",
       "6       0.7238  109009.758699  1.250306e+05  \n",
       "7      -0.0611  231480.247148  2.897273e+05  \n",
       "8      -0.0742  268957.663998  2.110845e+05  \n",
       "9      -0.0969  271096.466764  2.038353e+05  \n",
       "10      0.5835   69583.618900  8.941037e+04  \n",
       "11     -0.0840  138557.717042  1.238412e+05  \n",
       "12     -0.0764  132349.562010  1.393468e+05  \n",
       "13     -0.0312  140139.711248  1.214014e+05  \n",
       "14     -0.1172  261136.479180  2.269127e+05  \n",
       "15     -0.0795  281080.720470  1.808701e+05  \n",
       "16     -0.1970  242877.771555  2.684446e+05  \n",
       "17     -0.2544  244309.103330  2.647312e+05  \n",
       "18     -0.0758  135106.850626  1.330802e+05  \n",
       "19     -0.1362  125869.129555  1.542681e+05  \n",
       "20     -0.0007  153685.038055  9.358333e+04  \n",
       "21     -0.0819  139775.837525  1.219450e+05  "
      ]
     },
     "execution_count": 260,
     "metadata": {},
     "output_type": "execute_result"
    }
   ],
   "source": [
    "for kernel in kernels:\n",
    "    r2_train,r2_test,MAE_train,MAE_test = svm_support(data4,kernel=kernel)\n",
    "    final = resultados.shape[0]\n",
    "    resultados.loc[final] = ['SVM',f\"Datos escalados / {kernel} / Sin outliers\",r2_train,r2_test,MAE_train,MAE_test]\n",
    "resultados"
   ]
  },
  {
   "cell_type": "markdown",
   "metadata": {},
   "source": [
    "Este modelo presenta los mejores resultados para el parámetro \"linear\", el resto no ajusta bien el modelo."
   ]
  },
  {
   "cell_type": "markdown",
   "metadata": {
    "tags": []
   },
   "source": [
    "### **Random Forest Regressor**"
   ]
  },
  {
   "cell_type": "code",
   "execution_count": 261,
   "metadata": {},
   "outputs": [],
   "source": [
    "file_path = \"../data/data_model_churriana_malaga.csv\"\n",
    "data = pd.read_csv(file_path, index_col = 0)"
   ]
  },
  {
   "cell_type": "code",
   "execution_count": 262,
   "metadata": {},
   "outputs": [],
   "source": [
    "from sklearn.tree import DecisionTreeRegressor\n",
    "\n",
    "def Arbol_Regresion(data,test_size=0.2,Prec_var='price'):\n",
    "    x = data.drop(Prec_var,axis=1)\n",
    "    y = data[Prec_var]\n",
    "    x_train,x_test,y_train,y_test = train_test_split(x,y,test_size=test_size)\n",
    "    \n",
    "    tree = DecisionTreeRegressor(min_samples_split=30,min_samples_leaf=10,random_state=0)\n",
    "    tree.fit(x_train,y_train)\n",
    "    \n",
    "    r2_train = tree.score(x_train,y_train)\n",
    "    r2_test = tree.score(x_test,y_test)\n",
    "    \n",
    "    r2_train = \"{:.4f}\".format(r2_train)\n",
    "    r2_test = \"{:.4f}\".format(r2_test)\n",
    "    \n",
    "    y_train_pred = tree.predict(x_train)\n",
    "    y_test_pred = tree.predict(x_test)\n",
    "    \n",
    "    MAE_train,MAE_test = error_gen(y_train,y_train_pred,y_test,y_test_pred)\n",
    "    \n",
    "    return r2_train,r2_test, MAE_train,MAE_test"
   ]
  },
  {
   "cell_type": "code",
   "execution_count": 263,
   "metadata": {},
   "outputs": [
    {
     "data": {
      "text/html": [
       "<div>\n",
       "<style scoped>\n",
       "    .dataframe tbody tr th:only-of-type {\n",
       "        vertical-align: middle;\n",
       "    }\n",
       "\n",
       "    .dataframe tbody tr th {\n",
       "        vertical-align: top;\n",
       "    }\n",
       "\n",
       "    .dataframe thead th {\n",
       "        text-align: right;\n",
       "    }\n",
       "</style>\n",
       "<table border=\"1\" class=\"dataframe\">\n",
       "  <thead>\n",
       "    <tr style=\"text-align: right;\">\n",
       "      <th></th>\n",
       "      <th>Modelo</th>\n",
       "      <th>Detalles</th>\n",
       "      <th>R2 train</th>\n",
       "      <th>R2 test</th>\n",
       "      <th>MAE train</th>\n",
       "      <th>MAE test</th>\n",
       "    </tr>\n",
       "  </thead>\n",
       "  <tbody>\n",
       "    <tr>\n",
       "      <th>0</th>\n",
       "      <td>Regresión Lineal</td>\n",
       "      <td>Sin procesar</td>\n",
       "      <td>0.7950</td>\n",
       "      <td>0.6760</td>\n",
       "      <td>119802.734620</td>\n",
       "      <td>9.829924e+04</td>\n",
       "    </tr>\n",
       "    <tr>\n",
       "      <th>1</th>\n",
       "      <td>Regresión Lineal</td>\n",
       "      <td>Sin procesar / Sin outliers</td>\n",
       "      <td>0.7732</td>\n",
       "      <td>0.8412</td>\n",
       "      <td>66998.346234</td>\n",
       "      <td>4.944290e+04</td>\n",
       "    </tr>\n",
       "    <tr>\n",
       "      <th>2</th>\n",
       "      <td>Regresión Lineal</td>\n",
       "      <td>Datos escalados</td>\n",
       "      <td>0.8865</td>\n",
       "      <td>0.5795</td>\n",
       "      <td>95919.135341</td>\n",
       "      <td>1.820845e+05</td>\n",
       "    </tr>\n",
       "    <tr>\n",
       "      <th>3</th>\n",
       "      <td>Regresión Lineal</td>\n",
       "      <td>Datos escalados / Sin outliers</td>\n",
       "      <td>0.8120</td>\n",
       "      <td>0.5950</td>\n",
       "      <td>58506.723803</td>\n",
       "      <td>9.033420e+04</td>\n",
       "    </tr>\n",
       "    <tr>\n",
       "      <th>4</th>\n",
       "      <td>Regresión Polinómica</td>\n",
       "      <td>Sin procesar / Grado 3</td>\n",
       "      <td>0.8551</td>\n",
       "      <td>-0.4478</td>\n",
       "      <td>120047.791055</td>\n",
       "      <td>4.665632e+05</td>\n",
       "    </tr>\n",
       "    <tr>\n",
       "      <th>5</th>\n",
       "      <td>Regresión Polinómica</td>\n",
       "      <td>Sin procesar / Grado 3 / Sin outliers</td>\n",
       "      <td>0.9760</td>\n",
       "      <td>-6046.9840</td>\n",
       "      <td>20157.810608</td>\n",
       "      <td>4.291520e+06</td>\n",
       "    </tr>\n",
       "    <tr>\n",
       "      <th>6</th>\n",
       "      <td>SVM</td>\n",
       "      <td>Sin procesar / linear</td>\n",
       "      <td>0.7578</td>\n",
       "      <td>0.7238</td>\n",
       "      <td>109009.758699</td>\n",
       "      <td>1.250306e+05</td>\n",
       "    </tr>\n",
       "    <tr>\n",
       "      <th>7</th>\n",
       "      <td>SVM</td>\n",
       "      <td>Sin procesar / poly</td>\n",
       "      <td>-0.1039</td>\n",
       "      <td>-0.0611</td>\n",
       "      <td>231480.247148</td>\n",
       "      <td>2.897273e+05</td>\n",
       "    </tr>\n",
       "    <tr>\n",
       "      <th>8</th>\n",
       "      <td>SVM</td>\n",
       "      <td>Sin procesar / rbf</td>\n",
       "      <td>-0.1061</td>\n",
       "      <td>-0.0742</td>\n",
       "      <td>268957.663998</td>\n",
       "      <td>2.110845e+05</td>\n",
       "    </tr>\n",
       "    <tr>\n",
       "      <th>9</th>\n",
       "      <td>SVM</td>\n",
       "      <td>Sin procesar / sigmoid</td>\n",
       "      <td>-0.1190</td>\n",
       "      <td>-0.0969</td>\n",
       "      <td>271096.466764</td>\n",
       "      <td>2.038353e+05</td>\n",
       "    </tr>\n",
       "    <tr>\n",
       "      <th>10</th>\n",
       "      <td>SVM</td>\n",
       "      <td>Sin procesar / linear / Sin outliers</td>\n",
       "      <td>0.7019</td>\n",
       "      <td>0.5835</td>\n",
       "      <td>69583.618900</td>\n",
       "      <td>8.941037e+04</td>\n",
       "    </tr>\n",
       "    <tr>\n",
       "      <th>11</th>\n",
       "      <td>SVM</td>\n",
       "      <td>Sin procesar / poly / Sin outliers</td>\n",
       "      <td>-0.1059</td>\n",
       "      <td>-0.0840</td>\n",
       "      <td>138557.717042</td>\n",
       "      <td>1.238412e+05</td>\n",
       "    </tr>\n",
       "    <tr>\n",
       "      <th>12</th>\n",
       "      <td>SVM</td>\n",
       "      <td>Sin procesar / rbf / Sin outliers</td>\n",
       "      <td>-0.1151</td>\n",
       "      <td>-0.0764</td>\n",
       "      <td>132349.562010</td>\n",
       "      <td>1.393468e+05</td>\n",
       "    </tr>\n",
       "    <tr>\n",
       "      <th>13</th>\n",
       "      <td>SVM</td>\n",
       "      <td>Sin procesar / sigmoid / Sin outliers</td>\n",
       "      <td>-0.1374</td>\n",
       "      <td>-0.0312</td>\n",
       "      <td>140139.711248</td>\n",
       "      <td>1.214014e+05</td>\n",
       "    </tr>\n",
       "    <tr>\n",
       "      <th>14</th>\n",
       "      <td>SVM</td>\n",
       "      <td>Datos escalados / linear</td>\n",
       "      <td>-0.1038</td>\n",
       "      <td>-0.1172</td>\n",
       "      <td>261136.479180</td>\n",
       "      <td>2.269127e+05</td>\n",
       "    </tr>\n",
       "    <tr>\n",
       "      <th>15</th>\n",
       "      <td>SVM</td>\n",
       "      <td>Datos escalados / poly</td>\n",
       "      <td>-0.1283</td>\n",
       "      <td>-0.0795</td>\n",
       "      <td>281080.720470</td>\n",
       "      <td>1.808701e+05</td>\n",
       "    </tr>\n",
       "    <tr>\n",
       "      <th>16</th>\n",
       "      <td>SVM</td>\n",
       "      <td>Datos escalados / rbf</td>\n",
       "      <td>-0.0844</td>\n",
       "      <td>-0.1970</td>\n",
       "      <td>242877.771555</td>\n",
       "      <td>2.684446e+05</td>\n",
       "    </tr>\n",
       "    <tr>\n",
       "      <th>17</th>\n",
       "      <td>SVM</td>\n",
       "      <td>Datos escalados / sigmoid</td>\n",
       "      <td>-0.1009</td>\n",
       "      <td>-0.2544</td>\n",
       "      <td>244309.103330</td>\n",
       "      <td>2.647312e+05</td>\n",
       "    </tr>\n",
       "    <tr>\n",
       "      <th>18</th>\n",
       "      <td>SVM</td>\n",
       "      <td>Datos escalados / linear / Sin outliers</td>\n",
       "      <td>-0.1102</td>\n",
       "      <td>-0.0758</td>\n",
       "      <td>135106.850626</td>\n",
       "      <td>1.330802e+05</td>\n",
       "    </tr>\n",
       "    <tr>\n",
       "      <th>19</th>\n",
       "      <td>SVM</td>\n",
       "      <td>Datos escalados / poly / Sin outliers</td>\n",
       "      <td>-0.0874</td>\n",
       "      <td>-0.1362</td>\n",
       "      <td>125869.129555</td>\n",
       "      <td>1.542681e+05</td>\n",
       "    </tr>\n",
       "    <tr>\n",
       "      <th>20</th>\n",
       "      <td>SVM</td>\n",
       "      <td>Datos escalados / rbf / Sin outliers</td>\n",
       "      <td>-0.1227</td>\n",
       "      <td>-0.0007</td>\n",
       "      <td>153685.038055</td>\n",
       "      <td>9.358333e+04</td>\n",
       "    </tr>\n",
       "    <tr>\n",
       "      <th>21</th>\n",
       "      <td>SVM</td>\n",
       "      <td>Datos escalados / sigmoid / Sin outliers</td>\n",
       "      <td>-0.1156</td>\n",
       "      <td>-0.0819</td>\n",
       "      <td>139775.837525</td>\n",
       "      <td>1.219450e+05</td>\n",
       "    </tr>\n",
       "    <tr>\n",
       "      <th>22</th>\n",
       "      <td>Árbol de regresión</td>\n",
       "      <td>Sin procesar</td>\n",
       "      <td>0.6759</td>\n",
       "      <td>0.4010</td>\n",
       "      <td>117460.703980</td>\n",
       "      <td>1.220116e+05</td>\n",
       "    </tr>\n",
       "  </tbody>\n",
       "</table>\n",
       "</div>"
      ],
      "text/plain": [
       "                  Modelo                                  Detalles R2 train  \\\n",
       "0       Regresión Lineal                              Sin procesar   0.7950   \n",
       "1       Regresión Lineal               Sin procesar / Sin outliers   0.7732   \n",
       "2       Regresión Lineal                           Datos escalados   0.8865   \n",
       "3       Regresión Lineal            Datos escalados / Sin outliers   0.8120   \n",
       "4   Regresión Polinómica                    Sin procesar / Grado 3   0.8551   \n",
       "5   Regresión Polinómica     Sin procesar / Grado 3 / Sin outliers   0.9760   \n",
       "6                    SVM                     Sin procesar / linear   0.7578   \n",
       "7                    SVM                       Sin procesar / poly  -0.1039   \n",
       "8                    SVM                        Sin procesar / rbf  -0.1061   \n",
       "9                    SVM                    Sin procesar / sigmoid  -0.1190   \n",
       "10                   SVM      Sin procesar / linear / Sin outliers   0.7019   \n",
       "11                   SVM        Sin procesar / poly / Sin outliers  -0.1059   \n",
       "12                   SVM         Sin procesar / rbf / Sin outliers  -0.1151   \n",
       "13                   SVM     Sin procesar / sigmoid / Sin outliers  -0.1374   \n",
       "14                   SVM                  Datos escalados / linear  -0.1038   \n",
       "15                   SVM                    Datos escalados / poly  -0.1283   \n",
       "16                   SVM                     Datos escalados / rbf  -0.0844   \n",
       "17                   SVM                 Datos escalados / sigmoid  -0.1009   \n",
       "18                   SVM   Datos escalados / linear / Sin outliers  -0.1102   \n",
       "19                   SVM     Datos escalados / poly / Sin outliers  -0.0874   \n",
       "20                   SVM      Datos escalados / rbf / Sin outliers  -0.1227   \n",
       "21                   SVM  Datos escalados / sigmoid / Sin outliers  -0.1156   \n",
       "22    Árbol de regresión                              Sin procesar   0.6759   \n",
       "\n",
       "       R2 test      MAE train      MAE test  \n",
       "0       0.6760  119802.734620  9.829924e+04  \n",
       "1       0.8412   66998.346234  4.944290e+04  \n",
       "2       0.5795   95919.135341  1.820845e+05  \n",
       "3       0.5950   58506.723803  9.033420e+04  \n",
       "4      -0.4478  120047.791055  4.665632e+05  \n",
       "5   -6046.9840   20157.810608  4.291520e+06  \n",
       "6       0.7238  109009.758699  1.250306e+05  \n",
       "7      -0.0611  231480.247148  2.897273e+05  \n",
       "8      -0.0742  268957.663998  2.110845e+05  \n",
       "9      -0.0969  271096.466764  2.038353e+05  \n",
       "10      0.5835   69583.618900  8.941037e+04  \n",
       "11     -0.0840  138557.717042  1.238412e+05  \n",
       "12     -0.0764  132349.562010  1.393468e+05  \n",
       "13     -0.0312  140139.711248  1.214014e+05  \n",
       "14     -0.1172  261136.479180  2.269127e+05  \n",
       "15     -0.0795  281080.720470  1.808701e+05  \n",
       "16     -0.1970  242877.771555  2.684446e+05  \n",
       "17     -0.2544  244309.103330  2.647312e+05  \n",
       "18     -0.0758  135106.850626  1.330802e+05  \n",
       "19     -0.1362  125869.129555  1.542681e+05  \n",
       "20     -0.0007  153685.038055  9.358333e+04  \n",
       "21     -0.0819  139775.837525  1.219450e+05  \n",
       "22      0.4010  117460.703980  1.220116e+05  "
      ]
     },
     "execution_count": 263,
     "metadata": {},
     "output_type": "execute_result"
    }
   ],
   "source": [
    "r2_train,r2_test, MAE_train,MAE_test = Arbol_Regresion(data)\n",
    "final = resultados.shape[0]\n",
    "resultados.loc[final] = ['Árbol de regresión','Sin procesar',r2_train,r2_test, MAE_train,MAE_test]\n",
    "resultados"
   ]
  },
  {
   "cell_type": "markdown",
   "metadata": {},
   "source": [
    "**Árbol de Regresión sin Outliers**"
   ]
  },
  {
   "cell_type": "code",
   "execution_count": 264,
   "metadata": {},
   "outputs": [],
   "source": [
    "file_path = \"../data/data_model_churriana_without_outliers.csv\"\n",
    "data2 = pd.read_csv(file_path, index_col = 0)"
   ]
  },
  {
   "cell_type": "code",
   "execution_count": 265,
   "metadata": {},
   "outputs": [
    {
     "data": {
      "text/html": [
       "<div>\n",
       "<style scoped>\n",
       "    .dataframe tbody tr th:only-of-type {\n",
       "        vertical-align: middle;\n",
       "    }\n",
       "\n",
       "    .dataframe tbody tr th {\n",
       "        vertical-align: top;\n",
       "    }\n",
       "\n",
       "    .dataframe thead th {\n",
       "        text-align: right;\n",
       "    }\n",
       "</style>\n",
       "<table border=\"1\" class=\"dataframe\">\n",
       "  <thead>\n",
       "    <tr style=\"text-align: right;\">\n",
       "      <th></th>\n",
       "      <th>Modelo</th>\n",
       "      <th>Detalles</th>\n",
       "      <th>R2 train</th>\n",
       "      <th>R2 test</th>\n",
       "      <th>MAE train</th>\n",
       "      <th>MAE test</th>\n",
       "    </tr>\n",
       "  </thead>\n",
       "  <tbody>\n",
       "    <tr>\n",
       "      <th>0</th>\n",
       "      <td>Regresión Lineal</td>\n",
       "      <td>Sin procesar</td>\n",
       "      <td>0.7950</td>\n",
       "      <td>0.6760</td>\n",
       "      <td>119802.734620</td>\n",
       "      <td>9.829924e+04</td>\n",
       "    </tr>\n",
       "    <tr>\n",
       "      <th>1</th>\n",
       "      <td>Regresión Lineal</td>\n",
       "      <td>Sin procesar / Sin outliers</td>\n",
       "      <td>0.7732</td>\n",
       "      <td>0.8412</td>\n",
       "      <td>66998.346234</td>\n",
       "      <td>4.944290e+04</td>\n",
       "    </tr>\n",
       "    <tr>\n",
       "      <th>2</th>\n",
       "      <td>Regresión Lineal</td>\n",
       "      <td>Datos escalados</td>\n",
       "      <td>0.8865</td>\n",
       "      <td>0.5795</td>\n",
       "      <td>95919.135341</td>\n",
       "      <td>1.820845e+05</td>\n",
       "    </tr>\n",
       "    <tr>\n",
       "      <th>3</th>\n",
       "      <td>Regresión Lineal</td>\n",
       "      <td>Datos escalados / Sin outliers</td>\n",
       "      <td>0.8120</td>\n",
       "      <td>0.5950</td>\n",
       "      <td>58506.723803</td>\n",
       "      <td>9.033420e+04</td>\n",
       "    </tr>\n",
       "    <tr>\n",
       "      <th>4</th>\n",
       "      <td>Regresión Polinómica</td>\n",
       "      <td>Sin procesar / Grado 3</td>\n",
       "      <td>0.8551</td>\n",
       "      <td>-0.4478</td>\n",
       "      <td>120047.791055</td>\n",
       "      <td>4.665632e+05</td>\n",
       "    </tr>\n",
       "    <tr>\n",
       "      <th>5</th>\n",
       "      <td>Regresión Polinómica</td>\n",
       "      <td>Sin procesar / Grado 3 / Sin outliers</td>\n",
       "      <td>0.9760</td>\n",
       "      <td>-6046.9840</td>\n",
       "      <td>20157.810608</td>\n",
       "      <td>4.291520e+06</td>\n",
       "    </tr>\n",
       "    <tr>\n",
       "      <th>6</th>\n",
       "      <td>SVM</td>\n",
       "      <td>Sin procesar / linear</td>\n",
       "      <td>0.7578</td>\n",
       "      <td>0.7238</td>\n",
       "      <td>109009.758699</td>\n",
       "      <td>1.250306e+05</td>\n",
       "    </tr>\n",
       "    <tr>\n",
       "      <th>7</th>\n",
       "      <td>SVM</td>\n",
       "      <td>Sin procesar / poly</td>\n",
       "      <td>-0.1039</td>\n",
       "      <td>-0.0611</td>\n",
       "      <td>231480.247148</td>\n",
       "      <td>2.897273e+05</td>\n",
       "    </tr>\n",
       "    <tr>\n",
       "      <th>8</th>\n",
       "      <td>SVM</td>\n",
       "      <td>Sin procesar / rbf</td>\n",
       "      <td>-0.1061</td>\n",
       "      <td>-0.0742</td>\n",
       "      <td>268957.663998</td>\n",
       "      <td>2.110845e+05</td>\n",
       "    </tr>\n",
       "    <tr>\n",
       "      <th>9</th>\n",
       "      <td>SVM</td>\n",
       "      <td>Sin procesar / sigmoid</td>\n",
       "      <td>-0.1190</td>\n",
       "      <td>-0.0969</td>\n",
       "      <td>271096.466764</td>\n",
       "      <td>2.038353e+05</td>\n",
       "    </tr>\n",
       "    <tr>\n",
       "      <th>10</th>\n",
       "      <td>SVM</td>\n",
       "      <td>Sin procesar / linear / Sin outliers</td>\n",
       "      <td>0.7019</td>\n",
       "      <td>0.5835</td>\n",
       "      <td>69583.618900</td>\n",
       "      <td>8.941037e+04</td>\n",
       "    </tr>\n",
       "    <tr>\n",
       "      <th>11</th>\n",
       "      <td>SVM</td>\n",
       "      <td>Sin procesar / poly / Sin outliers</td>\n",
       "      <td>-0.1059</td>\n",
       "      <td>-0.0840</td>\n",
       "      <td>138557.717042</td>\n",
       "      <td>1.238412e+05</td>\n",
       "    </tr>\n",
       "    <tr>\n",
       "      <th>12</th>\n",
       "      <td>SVM</td>\n",
       "      <td>Sin procesar / rbf / Sin outliers</td>\n",
       "      <td>-0.1151</td>\n",
       "      <td>-0.0764</td>\n",
       "      <td>132349.562010</td>\n",
       "      <td>1.393468e+05</td>\n",
       "    </tr>\n",
       "    <tr>\n",
       "      <th>13</th>\n",
       "      <td>SVM</td>\n",
       "      <td>Sin procesar / sigmoid / Sin outliers</td>\n",
       "      <td>-0.1374</td>\n",
       "      <td>-0.0312</td>\n",
       "      <td>140139.711248</td>\n",
       "      <td>1.214014e+05</td>\n",
       "    </tr>\n",
       "    <tr>\n",
       "      <th>14</th>\n",
       "      <td>SVM</td>\n",
       "      <td>Datos escalados / linear</td>\n",
       "      <td>-0.1038</td>\n",
       "      <td>-0.1172</td>\n",
       "      <td>261136.479180</td>\n",
       "      <td>2.269127e+05</td>\n",
       "    </tr>\n",
       "    <tr>\n",
       "      <th>15</th>\n",
       "      <td>SVM</td>\n",
       "      <td>Datos escalados / poly</td>\n",
       "      <td>-0.1283</td>\n",
       "      <td>-0.0795</td>\n",
       "      <td>281080.720470</td>\n",
       "      <td>1.808701e+05</td>\n",
       "    </tr>\n",
       "    <tr>\n",
       "      <th>16</th>\n",
       "      <td>SVM</td>\n",
       "      <td>Datos escalados / rbf</td>\n",
       "      <td>-0.0844</td>\n",
       "      <td>-0.1970</td>\n",
       "      <td>242877.771555</td>\n",
       "      <td>2.684446e+05</td>\n",
       "    </tr>\n",
       "    <tr>\n",
       "      <th>17</th>\n",
       "      <td>SVM</td>\n",
       "      <td>Datos escalados / sigmoid</td>\n",
       "      <td>-0.1009</td>\n",
       "      <td>-0.2544</td>\n",
       "      <td>244309.103330</td>\n",
       "      <td>2.647312e+05</td>\n",
       "    </tr>\n",
       "    <tr>\n",
       "      <th>18</th>\n",
       "      <td>SVM</td>\n",
       "      <td>Datos escalados / linear / Sin outliers</td>\n",
       "      <td>-0.1102</td>\n",
       "      <td>-0.0758</td>\n",
       "      <td>135106.850626</td>\n",
       "      <td>1.330802e+05</td>\n",
       "    </tr>\n",
       "    <tr>\n",
       "      <th>19</th>\n",
       "      <td>SVM</td>\n",
       "      <td>Datos escalados / poly / Sin outliers</td>\n",
       "      <td>-0.0874</td>\n",
       "      <td>-0.1362</td>\n",
       "      <td>125869.129555</td>\n",
       "      <td>1.542681e+05</td>\n",
       "    </tr>\n",
       "    <tr>\n",
       "      <th>20</th>\n",
       "      <td>SVM</td>\n",
       "      <td>Datos escalados / rbf / Sin outliers</td>\n",
       "      <td>-0.1227</td>\n",
       "      <td>-0.0007</td>\n",
       "      <td>153685.038055</td>\n",
       "      <td>9.358333e+04</td>\n",
       "    </tr>\n",
       "    <tr>\n",
       "      <th>21</th>\n",
       "      <td>SVM</td>\n",
       "      <td>Datos escalados / sigmoid / Sin outliers</td>\n",
       "      <td>-0.1156</td>\n",
       "      <td>-0.0819</td>\n",
       "      <td>139775.837525</td>\n",
       "      <td>1.219450e+05</td>\n",
       "    </tr>\n",
       "    <tr>\n",
       "      <th>22</th>\n",
       "      <td>Árbol de regresión</td>\n",
       "      <td>Sin procesar</td>\n",
       "      <td>0.6759</td>\n",
       "      <td>0.4010</td>\n",
       "      <td>117460.703980</td>\n",
       "      <td>1.220116e+05</td>\n",
       "    </tr>\n",
       "    <tr>\n",
       "      <th>23</th>\n",
       "      <td>Árbol de regresión</td>\n",
       "      <td>Sin procesar / Sin outliers</td>\n",
       "      <td>0.7823</td>\n",
       "      <td>0.4010</td>\n",
       "      <td>61217.956672</td>\n",
       "      <td>6.136387e+04</td>\n",
       "    </tr>\n",
       "  </tbody>\n",
       "</table>\n",
       "</div>"
      ],
      "text/plain": [
       "                  Modelo                                  Detalles R2 train  \\\n",
       "0       Regresión Lineal                              Sin procesar   0.7950   \n",
       "1       Regresión Lineal               Sin procesar / Sin outliers   0.7732   \n",
       "2       Regresión Lineal                           Datos escalados   0.8865   \n",
       "3       Regresión Lineal            Datos escalados / Sin outliers   0.8120   \n",
       "4   Regresión Polinómica                    Sin procesar / Grado 3   0.8551   \n",
       "5   Regresión Polinómica     Sin procesar / Grado 3 / Sin outliers   0.9760   \n",
       "6                    SVM                     Sin procesar / linear   0.7578   \n",
       "7                    SVM                       Sin procesar / poly  -0.1039   \n",
       "8                    SVM                        Sin procesar / rbf  -0.1061   \n",
       "9                    SVM                    Sin procesar / sigmoid  -0.1190   \n",
       "10                   SVM      Sin procesar / linear / Sin outliers   0.7019   \n",
       "11                   SVM        Sin procesar / poly / Sin outliers  -0.1059   \n",
       "12                   SVM         Sin procesar / rbf / Sin outliers  -0.1151   \n",
       "13                   SVM     Sin procesar / sigmoid / Sin outliers  -0.1374   \n",
       "14                   SVM                  Datos escalados / linear  -0.1038   \n",
       "15                   SVM                    Datos escalados / poly  -0.1283   \n",
       "16                   SVM                     Datos escalados / rbf  -0.0844   \n",
       "17                   SVM                 Datos escalados / sigmoid  -0.1009   \n",
       "18                   SVM   Datos escalados / linear / Sin outliers  -0.1102   \n",
       "19                   SVM     Datos escalados / poly / Sin outliers  -0.0874   \n",
       "20                   SVM      Datos escalados / rbf / Sin outliers  -0.1227   \n",
       "21                   SVM  Datos escalados / sigmoid / Sin outliers  -0.1156   \n",
       "22    Árbol de regresión                              Sin procesar   0.6759   \n",
       "23    Árbol de regresión               Sin procesar / Sin outliers   0.7823   \n",
       "\n",
       "       R2 test      MAE train      MAE test  \n",
       "0       0.6760  119802.734620  9.829924e+04  \n",
       "1       0.8412   66998.346234  4.944290e+04  \n",
       "2       0.5795   95919.135341  1.820845e+05  \n",
       "3       0.5950   58506.723803  9.033420e+04  \n",
       "4      -0.4478  120047.791055  4.665632e+05  \n",
       "5   -6046.9840   20157.810608  4.291520e+06  \n",
       "6       0.7238  109009.758699  1.250306e+05  \n",
       "7      -0.0611  231480.247148  2.897273e+05  \n",
       "8      -0.0742  268957.663998  2.110845e+05  \n",
       "9      -0.0969  271096.466764  2.038353e+05  \n",
       "10      0.5835   69583.618900  8.941037e+04  \n",
       "11     -0.0840  138557.717042  1.238412e+05  \n",
       "12     -0.0764  132349.562010  1.393468e+05  \n",
       "13     -0.0312  140139.711248  1.214014e+05  \n",
       "14     -0.1172  261136.479180  2.269127e+05  \n",
       "15     -0.0795  281080.720470  1.808701e+05  \n",
       "16     -0.1970  242877.771555  2.684446e+05  \n",
       "17     -0.2544  244309.103330  2.647312e+05  \n",
       "18     -0.0758  135106.850626  1.330802e+05  \n",
       "19     -0.1362  125869.129555  1.542681e+05  \n",
       "20     -0.0007  153685.038055  9.358333e+04  \n",
       "21     -0.0819  139775.837525  1.219450e+05  \n",
       "22      0.4010  117460.703980  1.220116e+05  \n",
       "23      0.4010   61217.956672  6.136387e+04  "
      ]
     },
     "execution_count": 265,
     "metadata": {},
     "output_type": "execute_result"
    }
   ],
   "source": [
    "Arbol_Regresion(data2)\n",
    "r2_train,r2_tes, MAE_train,MAE_test = Arbol_Regresion(data2)\n",
    "final = resultados.shape[0]\n",
    "resultados.loc[final] = ['Árbol de regresión','Sin procesar / Sin outliers',r2_train,r2_test, MAE_train,MAE_test]\n",
    "resultados"
   ]
  },
  {
   "cell_type": "markdown",
   "metadata": {},
   "source": [
    "**Datos Escalados**"
   ]
  },
  {
   "cell_type": "code",
   "execution_count": 266,
   "metadata": {},
   "outputs": [],
   "source": [
    "data2 = data\n",
    "data2[col_esc] = scale.fit_transform(data[col_esc])"
   ]
  },
  {
   "cell_type": "code",
   "execution_count": 267,
   "metadata": {},
   "outputs": [
    {
     "data": {
      "text/html": [
       "<div>\n",
       "<style scoped>\n",
       "    .dataframe tbody tr th:only-of-type {\n",
       "        vertical-align: middle;\n",
       "    }\n",
       "\n",
       "    .dataframe tbody tr th {\n",
       "        vertical-align: top;\n",
       "    }\n",
       "\n",
       "    .dataframe thead th {\n",
       "        text-align: right;\n",
       "    }\n",
       "</style>\n",
       "<table border=\"1\" class=\"dataframe\">\n",
       "  <thead>\n",
       "    <tr style=\"text-align: right;\">\n",
       "      <th></th>\n",
       "      <th>Modelo</th>\n",
       "      <th>Detalles</th>\n",
       "      <th>R2 train</th>\n",
       "      <th>R2 test</th>\n",
       "      <th>MAE train</th>\n",
       "      <th>MAE test</th>\n",
       "    </tr>\n",
       "  </thead>\n",
       "  <tbody>\n",
       "    <tr>\n",
       "      <th>0</th>\n",
       "      <td>Regresión Lineal</td>\n",
       "      <td>Sin procesar</td>\n",
       "      <td>0.7950</td>\n",
       "      <td>0.6760</td>\n",
       "      <td>119802.734620</td>\n",
       "      <td>9.829924e+04</td>\n",
       "    </tr>\n",
       "    <tr>\n",
       "      <th>1</th>\n",
       "      <td>Regresión Lineal</td>\n",
       "      <td>Sin procesar / Sin outliers</td>\n",
       "      <td>0.7732</td>\n",
       "      <td>0.8412</td>\n",
       "      <td>66998.346234</td>\n",
       "      <td>4.944290e+04</td>\n",
       "    </tr>\n",
       "    <tr>\n",
       "      <th>2</th>\n",
       "      <td>Regresión Lineal</td>\n",
       "      <td>Datos escalados</td>\n",
       "      <td>0.8865</td>\n",
       "      <td>0.5795</td>\n",
       "      <td>95919.135341</td>\n",
       "      <td>1.820845e+05</td>\n",
       "    </tr>\n",
       "    <tr>\n",
       "      <th>3</th>\n",
       "      <td>Regresión Lineal</td>\n",
       "      <td>Datos escalados / Sin outliers</td>\n",
       "      <td>0.8120</td>\n",
       "      <td>0.5950</td>\n",
       "      <td>58506.723803</td>\n",
       "      <td>9.033420e+04</td>\n",
       "    </tr>\n",
       "    <tr>\n",
       "      <th>4</th>\n",
       "      <td>Regresión Polinómica</td>\n",
       "      <td>Sin procesar / Grado 3</td>\n",
       "      <td>0.8551</td>\n",
       "      <td>-0.4478</td>\n",
       "      <td>120047.791055</td>\n",
       "      <td>4.665632e+05</td>\n",
       "    </tr>\n",
       "    <tr>\n",
       "      <th>5</th>\n",
       "      <td>Regresión Polinómica</td>\n",
       "      <td>Sin procesar / Grado 3 / Sin outliers</td>\n",
       "      <td>0.9760</td>\n",
       "      <td>-6046.9840</td>\n",
       "      <td>20157.810608</td>\n",
       "      <td>4.291520e+06</td>\n",
       "    </tr>\n",
       "    <tr>\n",
       "      <th>6</th>\n",
       "      <td>SVM</td>\n",
       "      <td>Sin procesar / linear</td>\n",
       "      <td>0.7578</td>\n",
       "      <td>0.7238</td>\n",
       "      <td>109009.758699</td>\n",
       "      <td>1.250306e+05</td>\n",
       "    </tr>\n",
       "    <tr>\n",
       "      <th>7</th>\n",
       "      <td>SVM</td>\n",
       "      <td>Sin procesar / poly</td>\n",
       "      <td>-0.1039</td>\n",
       "      <td>-0.0611</td>\n",
       "      <td>231480.247148</td>\n",
       "      <td>2.897273e+05</td>\n",
       "    </tr>\n",
       "    <tr>\n",
       "      <th>8</th>\n",
       "      <td>SVM</td>\n",
       "      <td>Sin procesar / rbf</td>\n",
       "      <td>-0.1061</td>\n",
       "      <td>-0.0742</td>\n",
       "      <td>268957.663998</td>\n",
       "      <td>2.110845e+05</td>\n",
       "    </tr>\n",
       "    <tr>\n",
       "      <th>9</th>\n",
       "      <td>SVM</td>\n",
       "      <td>Sin procesar / sigmoid</td>\n",
       "      <td>-0.1190</td>\n",
       "      <td>-0.0969</td>\n",
       "      <td>271096.466764</td>\n",
       "      <td>2.038353e+05</td>\n",
       "    </tr>\n",
       "    <tr>\n",
       "      <th>10</th>\n",
       "      <td>SVM</td>\n",
       "      <td>Sin procesar / linear / Sin outliers</td>\n",
       "      <td>0.7019</td>\n",
       "      <td>0.5835</td>\n",
       "      <td>69583.618900</td>\n",
       "      <td>8.941037e+04</td>\n",
       "    </tr>\n",
       "    <tr>\n",
       "      <th>11</th>\n",
       "      <td>SVM</td>\n",
       "      <td>Sin procesar / poly / Sin outliers</td>\n",
       "      <td>-0.1059</td>\n",
       "      <td>-0.0840</td>\n",
       "      <td>138557.717042</td>\n",
       "      <td>1.238412e+05</td>\n",
       "    </tr>\n",
       "    <tr>\n",
       "      <th>12</th>\n",
       "      <td>SVM</td>\n",
       "      <td>Sin procesar / rbf / Sin outliers</td>\n",
       "      <td>-0.1151</td>\n",
       "      <td>-0.0764</td>\n",
       "      <td>132349.562010</td>\n",
       "      <td>1.393468e+05</td>\n",
       "    </tr>\n",
       "    <tr>\n",
       "      <th>13</th>\n",
       "      <td>SVM</td>\n",
       "      <td>Sin procesar / sigmoid / Sin outliers</td>\n",
       "      <td>-0.1374</td>\n",
       "      <td>-0.0312</td>\n",
       "      <td>140139.711248</td>\n",
       "      <td>1.214014e+05</td>\n",
       "    </tr>\n",
       "    <tr>\n",
       "      <th>14</th>\n",
       "      <td>SVM</td>\n",
       "      <td>Datos escalados / linear</td>\n",
       "      <td>-0.1038</td>\n",
       "      <td>-0.1172</td>\n",
       "      <td>261136.479180</td>\n",
       "      <td>2.269127e+05</td>\n",
       "    </tr>\n",
       "    <tr>\n",
       "      <th>15</th>\n",
       "      <td>SVM</td>\n",
       "      <td>Datos escalados / poly</td>\n",
       "      <td>-0.1283</td>\n",
       "      <td>-0.0795</td>\n",
       "      <td>281080.720470</td>\n",
       "      <td>1.808701e+05</td>\n",
       "    </tr>\n",
       "    <tr>\n",
       "      <th>16</th>\n",
       "      <td>SVM</td>\n",
       "      <td>Datos escalados / rbf</td>\n",
       "      <td>-0.0844</td>\n",
       "      <td>-0.1970</td>\n",
       "      <td>242877.771555</td>\n",
       "      <td>2.684446e+05</td>\n",
       "    </tr>\n",
       "    <tr>\n",
       "      <th>17</th>\n",
       "      <td>SVM</td>\n",
       "      <td>Datos escalados / sigmoid</td>\n",
       "      <td>-0.1009</td>\n",
       "      <td>-0.2544</td>\n",
       "      <td>244309.103330</td>\n",
       "      <td>2.647312e+05</td>\n",
       "    </tr>\n",
       "    <tr>\n",
       "      <th>18</th>\n",
       "      <td>SVM</td>\n",
       "      <td>Datos escalados / linear / Sin outliers</td>\n",
       "      <td>-0.1102</td>\n",
       "      <td>-0.0758</td>\n",
       "      <td>135106.850626</td>\n",
       "      <td>1.330802e+05</td>\n",
       "    </tr>\n",
       "    <tr>\n",
       "      <th>19</th>\n",
       "      <td>SVM</td>\n",
       "      <td>Datos escalados / poly / Sin outliers</td>\n",
       "      <td>-0.0874</td>\n",
       "      <td>-0.1362</td>\n",
       "      <td>125869.129555</td>\n",
       "      <td>1.542681e+05</td>\n",
       "    </tr>\n",
       "    <tr>\n",
       "      <th>20</th>\n",
       "      <td>SVM</td>\n",
       "      <td>Datos escalados / rbf / Sin outliers</td>\n",
       "      <td>-0.1227</td>\n",
       "      <td>-0.0007</td>\n",
       "      <td>153685.038055</td>\n",
       "      <td>9.358333e+04</td>\n",
       "    </tr>\n",
       "    <tr>\n",
       "      <th>21</th>\n",
       "      <td>SVM</td>\n",
       "      <td>Datos escalados / sigmoid / Sin outliers</td>\n",
       "      <td>-0.1156</td>\n",
       "      <td>-0.0819</td>\n",
       "      <td>139775.837525</td>\n",
       "      <td>1.219450e+05</td>\n",
       "    </tr>\n",
       "    <tr>\n",
       "      <th>22</th>\n",
       "      <td>Árbol de regresión</td>\n",
       "      <td>Sin procesar</td>\n",
       "      <td>0.6759</td>\n",
       "      <td>0.4010</td>\n",
       "      <td>117460.703980</td>\n",
       "      <td>1.220116e+05</td>\n",
       "    </tr>\n",
       "    <tr>\n",
       "      <th>23</th>\n",
       "      <td>Árbol de regresión</td>\n",
       "      <td>Sin procesar / Sin outliers</td>\n",
       "      <td>0.7823</td>\n",
       "      <td>0.4010</td>\n",
       "      <td>61217.956672</td>\n",
       "      <td>6.136387e+04</td>\n",
       "    </tr>\n",
       "    <tr>\n",
       "      <th>24</th>\n",
       "      <td>Árbol de regresión</td>\n",
       "      <td>Datos escalados</td>\n",
       "      <td>0.6149</td>\n",
       "      <td>0.4010</td>\n",
       "      <td>118885.524864</td>\n",
       "      <td>1.276302e+05</td>\n",
       "    </tr>\n",
       "  </tbody>\n",
       "</table>\n",
       "</div>"
      ],
      "text/plain": [
       "                  Modelo                                  Detalles R2 train  \\\n",
       "0       Regresión Lineal                              Sin procesar   0.7950   \n",
       "1       Regresión Lineal               Sin procesar / Sin outliers   0.7732   \n",
       "2       Regresión Lineal                           Datos escalados   0.8865   \n",
       "3       Regresión Lineal            Datos escalados / Sin outliers   0.8120   \n",
       "4   Regresión Polinómica                    Sin procesar / Grado 3   0.8551   \n",
       "5   Regresión Polinómica     Sin procesar / Grado 3 / Sin outliers   0.9760   \n",
       "6                    SVM                     Sin procesar / linear   0.7578   \n",
       "7                    SVM                       Sin procesar / poly  -0.1039   \n",
       "8                    SVM                        Sin procesar / rbf  -0.1061   \n",
       "9                    SVM                    Sin procesar / sigmoid  -0.1190   \n",
       "10                   SVM      Sin procesar / linear / Sin outliers   0.7019   \n",
       "11                   SVM        Sin procesar / poly / Sin outliers  -0.1059   \n",
       "12                   SVM         Sin procesar / rbf / Sin outliers  -0.1151   \n",
       "13                   SVM     Sin procesar / sigmoid / Sin outliers  -0.1374   \n",
       "14                   SVM                  Datos escalados / linear  -0.1038   \n",
       "15                   SVM                    Datos escalados / poly  -0.1283   \n",
       "16                   SVM                     Datos escalados / rbf  -0.0844   \n",
       "17                   SVM                 Datos escalados / sigmoid  -0.1009   \n",
       "18                   SVM   Datos escalados / linear / Sin outliers  -0.1102   \n",
       "19                   SVM     Datos escalados / poly / Sin outliers  -0.0874   \n",
       "20                   SVM      Datos escalados / rbf / Sin outliers  -0.1227   \n",
       "21                   SVM  Datos escalados / sigmoid / Sin outliers  -0.1156   \n",
       "22    Árbol de regresión                              Sin procesar   0.6759   \n",
       "23    Árbol de regresión               Sin procesar / Sin outliers   0.7823   \n",
       "24    Árbol de regresión                           Datos escalados   0.6149   \n",
       "\n",
       "       R2 test      MAE train      MAE test  \n",
       "0       0.6760  119802.734620  9.829924e+04  \n",
       "1       0.8412   66998.346234  4.944290e+04  \n",
       "2       0.5795   95919.135341  1.820845e+05  \n",
       "3       0.5950   58506.723803  9.033420e+04  \n",
       "4      -0.4478  120047.791055  4.665632e+05  \n",
       "5   -6046.9840   20157.810608  4.291520e+06  \n",
       "6       0.7238  109009.758699  1.250306e+05  \n",
       "7      -0.0611  231480.247148  2.897273e+05  \n",
       "8      -0.0742  268957.663998  2.110845e+05  \n",
       "9      -0.0969  271096.466764  2.038353e+05  \n",
       "10      0.5835   69583.618900  8.941037e+04  \n",
       "11     -0.0840  138557.717042  1.238412e+05  \n",
       "12     -0.0764  132349.562010  1.393468e+05  \n",
       "13     -0.0312  140139.711248  1.214014e+05  \n",
       "14     -0.1172  261136.479180  2.269127e+05  \n",
       "15     -0.0795  281080.720470  1.808701e+05  \n",
       "16     -0.1970  242877.771555  2.684446e+05  \n",
       "17     -0.2544  244309.103330  2.647312e+05  \n",
       "18     -0.0758  135106.850626  1.330802e+05  \n",
       "19     -0.1362  125869.129555  1.542681e+05  \n",
       "20     -0.0007  153685.038055  9.358333e+04  \n",
       "21     -0.0819  139775.837525  1.219450e+05  \n",
       "22      0.4010  117460.703980  1.220116e+05  \n",
       "23      0.4010   61217.956672  6.136387e+04  \n",
       "24      0.4010  118885.524864  1.276302e+05  "
      ]
     },
     "execution_count": 267,
     "metadata": {},
     "output_type": "execute_result"
    }
   ],
   "source": [
    "Arbol_Regresion(data3)\n",
    "r2_train,r2_tes, MAE_train,MAE_test = Arbol_Regresion(data3)\n",
    "final = resultados.shape[0]\n",
    "resultados.loc[final] = ['Árbol de regresión','Datos escalados',r2_train,r2_test, MAE_train,MAE_test]\n",
    "resultados"
   ]
  },
  {
   "cell_type": "markdown",
   "metadata": {},
   "source": [
    "**Datos Escalados Sin Outliers**"
   ]
  },
  {
   "cell_type": "code",
   "execution_count": 268,
   "metadata": {},
   "outputs": [],
   "source": [
    "data4 = data2\n",
    "data4[col_esc] = scale.fit_transform(data2[col_esc])"
   ]
  },
  {
   "cell_type": "code",
   "execution_count": 269,
   "metadata": {
    "tags": []
   },
   "outputs": [
    {
     "data": {
      "text/html": [
       "<div>\n",
       "<style scoped>\n",
       "    .dataframe tbody tr th:only-of-type {\n",
       "        vertical-align: middle;\n",
       "    }\n",
       "\n",
       "    .dataframe tbody tr th {\n",
       "        vertical-align: top;\n",
       "    }\n",
       "\n",
       "    .dataframe thead th {\n",
       "        text-align: right;\n",
       "    }\n",
       "</style>\n",
       "<table border=\"1\" class=\"dataframe\">\n",
       "  <thead>\n",
       "    <tr style=\"text-align: right;\">\n",
       "      <th></th>\n",
       "      <th>Modelo</th>\n",
       "      <th>Detalles</th>\n",
       "      <th>R2 train</th>\n",
       "      <th>R2 test</th>\n",
       "      <th>MAE train</th>\n",
       "      <th>MAE test</th>\n",
       "    </tr>\n",
       "  </thead>\n",
       "  <tbody>\n",
       "    <tr>\n",
       "      <th>0</th>\n",
       "      <td>Regresión Lineal</td>\n",
       "      <td>Sin procesar</td>\n",
       "      <td>0.7950</td>\n",
       "      <td>0.6760</td>\n",
       "      <td>119802.734620</td>\n",
       "      <td>9.829924e+04</td>\n",
       "    </tr>\n",
       "    <tr>\n",
       "      <th>1</th>\n",
       "      <td>Regresión Lineal</td>\n",
       "      <td>Sin procesar / Sin outliers</td>\n",
       "      <td>0.7732</td>\n",
       "      <td>0.8412</td>\n",
       "      <td>66998.346234</td>\n",
       "      <td>4.944290e+04</td>\n",
       "    </tr>\n",
       "    <tr>\n",
       "      <th>2</th>\n",
       "      <td>Regresión Lineal</td>\n",
       "      <td>Datos escalados</td>\n",
       "      <td>0.8865</td>\n",
       "      <td>0.5795</td>\n",
       "      <td>95919.135341</td>\n",
       "      <td>1.820845e+05</td>\n",
       "    </tr>\n",
       "    <tr>\n",
       "      <th>3</th>\n",
       "      <td>Regresión Lineal</td>\n",
       "      <td>Datos escalados / Sin outliers</td>\n",
       "      <td>0.8120</td>\n",
       "      <td>0.5950</td>\n",
       "      <td>58506.723803</td>\n",
       "      <td>9.033420e+04</td>\n",
       "    </tr>\n",
       "    <tr>\n",
       "      <th>4</th>\n",
       "      <td>Regresión Polinómica</td>\n",
       "      <td>Sin procesar / Grado 3</td>\n",
       "      <td>0.8551</td>\n",
       "      <td>-0.4478</td>\n",
       "      <td>120047.791055</td>\n",
       "      <td>4.665632e+05</td>\n",
       "    </tr>\n",
       "    <tr>\n",
       "      <th>5</th>\n",
       "      <td>Regresión Polinómica</td>\n",
       "      <td>Sin procesar / Grado 3 / Sin outliers</td>\n",
       "      <td>0.9760</td>\n",
       "      <td>-6046.9840</td>\n",
       "      <td>20157.810608</td>\n",
       "      <td>4.291520e+06</td>\n",
       "    </tr>\n",
       "    <tr>\n",
       "      <th>6</th>\n",
       "      <td>SVM</td>\n",
       "      <td>Sin procesar / linear</td>\n",
       "      <td>0.7578</td>\n",
       "      <td>0.7238</td>\n",
       "      <td>109009.758699</td>\n",
       "      <td>1.250306e+05</td>\n",
       "    </tr>\n",
       "    <tr>\n",
       "      <th>7</th>\n",
       "      <td>SVM</td>\n",
       "      <td>Sin procesar / poly</td>\n",
       "      <td>-0.1039</td>\n",
       "      <td>-0.0611</td>\n",
       "      <td>231480.247148</td>\n",
       "      <td>2.897273e+05</td>\n",
       "    </tr>\n",
       "    <tr>\n",
       "      <th>8</th>\n",
       "      <td>SVM</td>\n",
       "      <td>Sin procesar / rbf</td>\n",
       "      <td>-0.1061</td>\n",
       "      <td>-0.0742</td>\n",
       "      <td>268957.663998</td>\n",
       "      <td>2.110845e+05</td>\n",
       "    </tr>\n",
       "    <tr>\n",
       "      <th>9</th>\n",
       "      <td>SVM</td>\n",
       "      <td>Sin procesar / sigmoid</td>\n",
       "      <td>-0.1190</td>\n",
       "      <td>-0.0969</td>\n",
       "      <td>271096.466764</td>\n",
       "      <td>2.038353e+05</td>\n",
       "    </tr>\n",
       "    <tr>\n",
       "      <th>10</th>\n",
       "      <td>SVM</td>\n",
       "      <td>Sin procesar / linear / Sin outliers</td>\n",
       "      <td>0.7019</td>\n",
       "      <td>0.5835</td>\n",
       "      <td>69583.618900</td>\n",
       "      <td>8.941037e+04</td>\n",
       "    </tr>\n",
       "    <tr>\n",
       "      <th>11</th>\n",
       "      <td>SVM</td>\n",
       "      <td>Sin procesar / poly / Sin outliers</td>\n",
       "      <td>-0.1059</td>\n",
       "      <td>-0.0840</td>\n",
       "      <td>138557.717042</td>\n",
       "      <td>1.238412e+05</td>\n",
       "    </tr>\n",
       "    <tr>\n",
       "      <th>12</th>\n",
       "      <td>SVM</td>\n",
       "      <td>Sin procesar / rbf / Sin outliers</td>\n",
       "      <td>-0.1151</td>\n",
       "      <td>-0.0764</td>\n",
       "      <td>132349.562010</td>\n",
       "      <td>1.393468e+05</td>\n",
       "    </tr>\n",
       "    <tr>\n",
       "      <th>13</th>\n",
       "      <td>SVM</td>\n",
       "      <td>Sin procesar / sigmoid / Sin outliers</td>\n",
       "      <td>-0.1374</td>\n",
       "      <td>-0.0312</td>\n",
       "      <td>140139.711248</td>\n",
       "      <td>1.214014e+05</td>\n",
       "    </tr>\n",
       "    <tr>\n",
       "      <th>14</th>\n",
       "      <td>SVM</td>\n",
       "      <td>Datos escalados / linear</td>\n",
       "      <td>-0.1038</td>\n",
       "      <td>-0.1172</td>\n",
       "      <td>261136.479180</td>\n",
       "      <td>2.269127e+05</td>\n",
       "    </tr>\n",
       "    <tr>\n",
       "      <th>15</th>\n",
       "      <td>SVM</td>\n",
       "      <td>Datos escalados / poly</td>\n",
       "      <td>-0.1283</td>\n",
       "      <td>-0.0795</td>\n",
       "      <td>281080.720470</td>\n",
       "      <td>1.808701e+05</td>\n",
       "    </tr>\n",
       "    <tr>\n",
       "      <th>16</th>\n",
       "      <td>SVM</td>\n",
       "      <td>Datos escalados / rbf</td>\n",
       "      <td>-0.0844</td>\n",
       "      <td>-0.1970</td>\n",
       "      <td>242877.771555</td>\n",
       "      <td>2.684446e+05</td>\n",
       "    </tr>\n",
       "    <tr>\n",
       "      <th>17</th>\n",
       "      <td>SVM</td>\n",
       "      <td>Datos escalados / sigmoid</td>\n",
       "      <td>-0.1009</td>\n",
       "      <td>-0.2544</td>\n",
       "      <td>244309.103330</td>\n",
       "      <td>2.647312e+05</td>\n",
       "    </tr>\n",
       "    <tr>\n",
       "      <th>18</th>\n",
       "      <td>SVM</td>\n",
       "      <td>Datos escalados / linear / Sin outliers</td>\n",
       "      <td>-0.1102</td>\n",
       "      <td>-0.0758</td>\n",
       "      <td>135106.850626</td>\n",
       "      <td>1.330802e+05</td>\n",
       "    </tr>\n",
       "    <tr>\n",
       "      <th>19</th>\n",
       "      <td>SVM</td>\n",
       "      <td>Datos escalados / poly / Sin outliers</td>\n",
       "      <td>-0.0874</td>\n",
       "      <td>-0.1362</td>\n",
       "      <td>125869.129555</td>\n",
       "      <td>1.542681e+05</td>\n",
       "    </tr>\n",
       "    <tr>\n",
       "      <th>20</th>\n",
       "      <td>SVM</td>\n",
       "      <td>Datos escalados / rbf / Sin outliers</td>\n",
       "      <td>-0.1227</td>\n",
       "      <td>-0.0007</td>\n",
       "      <td>153685.038055</td>\n",
       "      <td>9.358333e+04</td>\n",
       "    </tr>\n",
       "    <tr>\n",
       "      <th>21</th>\n",
       "      <td>SVM</td>\n",
       "      <td>Datos escalados / sigmoid / Sin outliers</td>\n",
       "      <td>-0.1156</td>\n",
       "      <td>-0.0819</td>\n",
       "      <td>139775.837525</td>\n",
       "      <td>1.219450e+05</td>\n",
       "    </tr>\n",
       "    <tr>\n",
       "      <th>22</th>\n",
       "      <td>Árbol de regresión</td>\n",
       "      <td>Sin procesar</td>\n",
       "      <td>0.6759</td>\n",
       "      <td>0.4010</td>\n",
       "      <td>117460.703980</td>\n",
       "      <td>1.220116e+05</td>\n",
       "    </tr>\n",
       "    <tr>\n",
       "      <th>23</th>\n",
       "      <td>Árbol de regresión</td>\n",
       "      <td>Sin procesar / Sin outliers</td>\n",
       "      <td>0.7823</td>\n",
       "      <td>0.4010</td>\n",
       "      <td>61217.956672</td>\n",
       "      <td>6.136387e+04</td>\n",
       "    </tr>\n",
       "    <tr>\n",
       "      <th>24</th>\n",
       "      <td>Árbol de regresión</td>\n",
       "      <td>Datos escalados</td>\n",
       "      <td>0.6149</td>\n",
       "      <td>0.4010</td>\n",
       "      <td>118885.524864</td>\n",
       "      <td>1.276302e+05</td>\n",
       "    </tr>\n",
       "    <tr>\n",
       "      <th>25</th>\n",
       "      <td>Árbol de regresión</td>\n",
       "      <td>Datos escalados / Sin outliers</td>\n",
       "      <td>0.7534</td>\n",
       "      <td>0.4010</td>\n",
       "      <td>88861.161242</td>\n",
       "      <td>1.887714e+05</td>\n",
       "    </tr>\n",
       "  </tbody>\n",
       "</table>\n",
       "</div>"
      ],
      "text/plain": [
       "                  Modelo                                  Detalles R2 train  \\\n",
       "0       Regresión Lineal                              Sin procesar   0.7950   \n",
       "1       Regresión Lineal               Sin procesar / Sin outliers   0.7732   \n",
       "2       Regresión Lineal                           Datos escalados   0.8865   \n",
       "3       Regresión Lineal            Datos escalados / Sin outliers   0.8120   \n",
       "4   Regresión Polinómica                    Sin procesar / Grado 3   0.8551   \n",
       "5   Regresión Polinómica     Sin procesar / Grado 3 / Sin outliers   0.9760   \n",
       "6                    SVM                     Sin procesar / linear   0.7578   \n",
       "7                    SVM                       Sin procesar / poly  -0.1039   \n",
       "8                    SVM                        Sin procesar / rbf  -0.1061   \n",
       "9                    SVM                    Sin procesar / sigmoid  -0.1190   \n",
       "10                   SVM      Sin procesar / linear / Sin outliers   0.7019   \n",
       "11                   SVM        Sin procesar / poly / Sin outliers  -0.1059   \n",
       "12                   SVM         Sin procesar / rbf / Sin outliers  -0.1151   \n",
       "13                   SVM     Sin procesar / sigmoid / Sin outliers  -0.1374   \n",
       "14                   SVM                  Datos escalados / linear  -0.1038   \n",
       "15                   SVM                    Datos escalados / poly  -0.1283   \n",
       "16                   SVM                     Datos escalados / rbf  -0.0844   \n",
       "17                   SVM                 Datos escalados / sigmoid  -0.1009   \n",
       "18                   SVM   Datos escalados / linear / Sin outliers  -0.1102   \n",
       "19                   SVM     Datos escalados / poly / Sin outliers  -0.0874   \n",
       "20                   SVM      Datos escalados / rbf / Sin outliers  -0.1227   \n",
       "21                   SVM  Datos escalados / sigmoid / Sin outliers  -0.1156   \n",
       "22    Árbol de regresión                              Sin procesar   0.6759   \n",
       "23    Árbol de regresión               Sin procesar / Sin outliers   0.7823   \n",
       "24    Árbol de regresión                           Datos escalados   0.6149   \n",
       "25    Árbol de regresión            Datos escalados / Sin outliers   0.7534   \n",
       "\n",
       "       R2 test      MAE train      MAE test  \n",
       "0       0.6760  119802.734620  9.829924e+04  \n",
       "1       0.8412   66998.346234  4.944290e+04  \n",
       "2       0.5795   95919.135341  1.820845e+05  \n",
       "3       0.5950   58506.723803  9.033420e+04  \n",
       "4      -0.4478  120047.791055  4.665632e+05  \n",
       "5   -6046.9840   20157.810608  4.291520e+06  \n",
       "6       0.7238  109009.758699  1.250306e+05  \n",
       "7      -0.0611  231480.247148  2.897273e+05  \n",
       "8      -0.0742  268957.663998  2.110845e+05  \n",
       "9      -0.0969  271096.466764  2.038353e+05  \n",
       "10      0.5835   69583.618900  8.941037e+04  \n",
       "11     -0.0840  138557.717042  1.238412e+05  \n",
       "12     -0.0764  132349.562010  1.393468e+05  \n",
       "13     -0.0312  140139.711248  1.214014e+05  \n",
       "14     -0.1172  261136.479180  2.269127e+05  \n",
       "15     -0.0795  281080.720470  1.808701e+05  \n",
       "16     -0.1970  242877.771555  2.684446e+05  \n",
       "17     -0.2544  244309.103330  2.647312e+05  \n",
       "18     -0.0758  135106.850626  1.330802e+05  \n",
       "19     -0.1362  125869.129555  1.542681e+05  \n",
       "20     -0.0007  153685.038055  9.358333e+04  \n",
       "21     -0.0819  139775.837525  1.219450e+05  \n",
       "22      0.4010  117460.703980  1.220116e+05  \n",
       "23      0.4010   61217.956672  6.136387e+04  \n",
       "24      0.4010  118885.524864  1.276302e+05  \n",
       "25      0.4010   88861.161242  1.887714e+05  "
      ]
     },
     "execution_count": 269,
     "metadata": {},
     "output_type": "execute_result"
    }
   ],
   "source": [
    "Arbol_Regresion(data4)\n",
    "r2_train,r2_tes, MAE_train,MAE_test = Arbol_Regresion(data4)\n",
    "final = resultados.shape[0]\n",
    "resultados.loc[final] = ['Árbol de regresión','Datos escalados / Sin outliers',r2_train,r2_test, MAE_train,MAE_test]\n",
    "resultados"
   ]
  },
  {
   "cell_type": "markdown",
   "metadata": {
    "tags": []
   },
   "source": [
    "#### **Redes neuronales - Regresión**\n"
   ]
  },
  {
   "cell_type": "markdown",
   "metadata": {},
   "source": [
    "**Compilación del modelo**"
   ]
  },
  {
   "cell_type": "code",
   "execution_count": 270,
   "metadata": {},
   "outputs": [],
   "source": [
    "file_path = \"../data/data_model_churriana_malaga.csv\"\n",
    "data = pd.read_csv(file_path, index_col = 0)"
   ]
  },
  {
   "cell_type": "code",
   "execution_count": 271,
   "metadata": {},
   "outputs": [],
   "source": [
    "data2 = data\n",
    "data2[col_esc] = scale.fit_transform(data[col_esc])"
   ]
  },
  {
   "cell_type": "code",
   "execution_count": 272,
   "metadata": {},
   "outputs": [],
   "source": [
    "import tensorflow as tf\n",
    "from tensorflow.keras import regularizers\n",
    "\n",
    "def get_model_compile():\n",
    "    model = tf.keras.Sequential([\n",
    "        tf.keras.layers.Dense(32,activation='tanh',input_shape=(14,)),\n",
    "        tf.keras.layers.Dense(64,activation='relu'),\n",
    "        tf.keras.layers.Dropout(0.1),\n",
    "        tf.keras.layers.Dense(128,activation='relu'),\n",
    "        tf.keras.layers.Dropout(0.2),\n",
    "        tf.keras.layers.Dense(64,activation='relu'),\n",
    "        tf.keras.layers.Dropout(0.2),\n",
    "        tf.keras.layers.Dense(1)   \n",
    "    ])\n",
    "\n",
    "    optimizer=tf.keras.optimizers.Adam(0.001)\n",
    "    model.compile(loss='mse',\n",
    "                 optimizer=optimizer,\n",
    "                 metrics=['mae','mse'])\n",
    "    return model"
   ]
  },
  {
   "cell_type": "markdown",
   "metadata": {},
   "source": [
    "División del dataset y entrenamiento del modelo¶\n"
   ]
  },
  {
   "cell_type": "code",
   "execution_count": 273,
   "metadata": {},
   "outputs": [],
   "source": [
    "x = data3.drop('price',axis=1)\n",
    "y = data3['price']\n",
    "\n",
    "batch_size = 25 #numero de muestra sobre el que se va a entrenar antes de aplicar el modelo al resto de datos\n",
    "epochs= 10 #numero de veces del bucle de entrenamiento de mi modelo\n",
    "\n",
    "x_train,x_test,y_train,y_test = train_test_split(x,y,test_size=0.2)\n",
    "\n"
   ]
  },
  {
   "cell_type": "code",
   "execution_count": 274,
   "metadata": {},
   "outputs": [],
   "source": [
    "model = get_model_compile()"
   ]
  },
  {
   "cell_type": "code",
   "execution_count": 275,
   "metadata": {},
   "outputs": [],
   "source": [
    "history = model.fit(x_train,y_train,\n",
    "                    epochs=epochs,batch_size=batch_size,\n",
    "                    validation_data=(x_test,y_test),\n",
    "                    shuffle=True,\n",
    "                    verbose=0)"
   ]
  },
  {
   "cell_type": "code",
   "execution_count": 276,
   "metadata": {},
   "outputs": [
    {
     "data": {
      "application/vnd.plotly.v1+json": {
       "config": {
        "plotlyServerURL": "https://plot.ly"
       },
       "data": [
        {
         "mode": "lines",
         "name": "mae",
         "type": "scatter",
         "x": [
          0,
          1,
          2,
          3,
          4,
          5,
          6,
          7,
          8,
          9
         ],
         "xaxis": "x",
         "y": [
          477133.25,
          477132.71875,
          477132.03125,
          477130.53125,
          477128,
          477122.9375,
          477113.875,
          477096.6875,
          477066.46875,
          477017.0625
         ],
         "yaxis": "y"
        },
        {
         "mode": "lines",
         "name": "val_mae",
         "type": "scatter",
         "x": [
          0,
          1,
          2,
          3,
          4,
          5,
          6,
          7,
          8,
          9
         ],
         "xaxis": "x",
         "y": [
          505972.46875,
          505971.90625,
          505970.84375,
          505968.84375,
          505965.0625,
          505958,
          505944.90625,
          505921.25,
          505879.59375,
          505811
         ],
         "yaxis": "y"
        },
        {
         "mode": "lines",
         "name": "mse",
         "type": "scatter",
         "x": [
          0,
          1,
          2,
          3,
          4,
          5,
          6,
          7,
          8,
          9
         ],
         "xaxis": "x2",
         "y": [
          513209696256,
          513209139200,
          513208385536,
          513206943744,
          513204355072,
          513199144960,
          513190952960,
          513173553152,
          513140621312,
          513093533696
         ],
         "yaxis": "y2"
        },
        {
         "mode": "lines",
         "name": "val_mse",
         "type": "scatter",
         "x": [
          0,
          1,
          2,
          3,
          4,
          5,
          6,
          7,
          8,
          9
         ],
         "xaxis": "x2",
         "y": [
          422723321856,
          422722699264,
          422721585152,
          422719520768,
          422715588608,
          422708183040,
          422694551552,
          422669877248,
          422626394112,
          422554828800
         ],
         "yaxis": "y2"
        }
       ],
       "layout": {
        "autosize": true,
        "template": {
         "data": {
          "bar": [
           {
            "error_x": {
             "color": "#2a3f5f"
            },
            "error_y": {
             "color": "#2a3f5f"
            },
            "marker": {
             "line": {
              "color": "#E5ECF6",
              "width": 0.5
             },
             "pattern": {
              "fillmode": "overlay",
              "size": 10,
              "solidity": 0.2
             }
            },
            "type": "bar"
           }
          ],
          "barpolar": [
           {
            "marker": {
             "line": {
              "color": "#E5ECF6",
              "width": 0.5
             },
             "pattern": {
              "fillmode": "overlay",
              "size": 10,
              "solidity": 0.2
             }
            },
            "type": "barpolar"
           }
          ],
          "carpet": [
           {
            "aaxis": {
             "endlinecolor": "#2a3f5f",
             "gridcolor": "white",
             "linecolor": "white",
             "minorgridcolor": "white",
             "startlinecolor": "#2a3f5f"
            },
            "baxis": {
             "endlinecolor": "#2a3f5f",
             "gridcolor": "white",
             "linecolor": "white",
             "minorgridcolor": "white",
             "startlinecolor": "#2a3f5f"
            },
            "type": "carpet"
           }
          ],
          "choropleth": [
           {
            "colorbar": {
             "outlinewidth": 0,
             "ticks": ""
            },
            "type": "choropleth"
           }
          ],
          "contour": [
           {
            "colorbar": {
             "outlinewidth": 0,
             "ticks": ""
            },
            "colorscale": [
             [
              0,
              "#0d0887"
             ],
             [
              0.1111111111111111,
              "#46039f"
             ],
             [
              0.2222222222222222,
              "#7201a8"
             ],
             [
              0.3333333333333333,
              "#9c179e"
             ],
             [
              0.4444444444444444,
              "#bd3786"
             ],
             [
              0.5555555555555556,
              "#d8576b"
             ],
             [
              0.6666666666666666,
              "#ed7953"
             ],
             [
              0.7777777777777778,
              "#fb9f3a"
             ],
             [
              0.8888888888888888,
              "#fdca26"
             ],
             [
              1,
              "#f0f921"
             ]
            ],
            "type": "contour"
           }
          ],
          "contourcarpet": [
           {
            "colorbar": {
             "outlinewidth": 0,
             "ticks": ""
            },
            "type": "contourcarpet"
           }
          ],
          "heatmap": [
           {
            "colorbar": {
             "outlinewidth": 0,
             "ticks": ""
            },
            "colorscale": [
             [
              0,
              "#0d0887"
             ],
             [
              0.1111111111111111,
              "#46039f"
             ],
             [
              0.2222222222222222,
              "#7201a8"
             ],
             [
              0.3333333333333333,
              "#9c179e"
             ],
             [
              0.4444444444444444,
              "#bd3786"
             ],
             [
              0.5555555555555556,
              "#d8576b"
             ],
             [
              0.6666666666666666,
              "#ed7953"
             ],
             [
              0.7777777777777778,
              "#fb9f3a"
             ],
             [
              0.8888888888888888,
              "#fdca26"
             ],
             [
              1,
              "#f0f921"
             ]
            ],
            "type": "heatmap"
           }
          ],
          "heatmapgl": [
           {
            "colorbar": {
             "outlinewidth": 0,
             "ticks": ""
            },
            "colorscale": [
             [
              0,
              "#0d0887"
             ],
             [
              0.1111111111111111,
              "#46039f"
             ],
             [
              0.2222222222222222,
              "#7201a8"
             ],
             [
              0.3333333333333333,
              "#9c179e"
             ],
             [
              0.4444444444444444,
              "#bd3786"
             ],
             [
              0.5555555555555556,
              "#d8576b"
             ],
             [
              0.6666666666666666,
              "#ed7953"
             ],
             [
              0.7777777777777778,
              "#fb9f3a"
             ],
             [
              0.8888888888888888,
              "#fdca26"
             ],
             [
              1,
              "#f0f921"
             ]
            ],
            "type": "heatmapgl"
           }
          ],
          "histogram": [
           {
            "marker": {
             "pattern": {
              "fillmode": "overlay",
              "size": 10,
              "solidity": 0.2
             }
            },
            "type": "histogram"
           }
          ],
          "histogram2d": [
           {
            "colorbar": {
             "outlinewidth": 0,
             "ticks": ""
            },
            "colorscale": [
             [
              0,
              "#0d0887"
             ],
             [
              0.1111111111111111,
              "#46039f"
             ],
             [
              0.2222222222222222,
              "#7201a8"
             ],
             [
              0.3333333333333333,
              "#9c179e"
             ],
             [
              0.4444444444444444,
              "#bd3786"
             ],
             [
              0.5555555555555556,
              "#d8576b"
             ],
             [
              0.6666666666666666,
              "#ed7953"
             ],
             [
              0.7777777777777778,
              "#fb9f3a"
             ],
             [
              0.8888888888888888,
              "#fdca26"
             ],
             [
              1,
              "#f0f921"
             ]
            ],
            "type": "histogram2d"
           }
          ],
          "histogram2dcontour": [
           {
            "colorbar": {
             "outlinewidth": 0,
             "ticks": ""
            },
            "colorscale": [
             [
              0,
              "#0d0887"
             ],
             [
              0.1111111111111111,
              "#46039f"
             ],
             [
              0.2222222222222222,
              "#7201a8"
             ],
             [
              0.3333333333333333,
              "#9c179e"
             ],
             [
              0.4444444444444444,
              "#bd3786"
             ],
             [
              0.5555555555555556,
              "#d8576b"
             ],
             [
              0.6666666666666666,
              "#ed7953"
             ],
             [
              0.7777777777777778,
              "#fb9f3a"
             ],
             [
              0.8888888888888888,
              "#fdca26"
             ],
             [
              1,
              "#f0f921"
             ]
            ],
            "type": "histogram2dcontour"
           }
          ],
          "mesh3d": [
           {
            "colorbar": {
             "outlinewidth": 0,
             "ticks": ""
            },
            "type": "mesh3d"
           }
          ],
          "parcoords": [
           {
            "line": {
             "colorbar": {
              "outlinewidth": 0,
              "ticks": ""
             }
            },
            "type": "parcoords"
           }
          ],
          "pie": [
           {
            "automargin": true,
            "type": "pie"
           }
          ],
          "scatter": [
           {
            "fillpattern": {
             "fillmode": "overlay",
             "size": 10,
             "solidity": 0.2
            },
            "type": "scatter"
           }
          ],
          "scatter3d": [
           {
            "line": {
             "colorbar": {
              "outlinewidth": 0,
              "ticks": ""
             }
            },
            "marker": {
             "colorbar": {
              "outlinewidth": 0,
              "ticks": ""
             }
            },
            "type": "scatter3d"
           }
          ],
          "scattercarpet": [
           {
            "marker": {
             "colorbar": {
              "outlinewidth": 0,
              "ticks": ""
             }
            },
            "type": "scattercarpet"
           }
          ],
          "scattergeo": [
           {
            "marker": {
             "colorbar": {
              "outlinewidth": 0,
              "ticks": ""
             }
            },
            "type": "scattergeo"
           }
          ],
          "scattergl": [
           {
            "marker": {
             "colorbar": {
              "outlinewidth": 0,
              "ticks": ""
             }
            },
            "type": "scattergl"
           }
          ],
          "scattermapbox": [
           {
            "marker": {
             "colorbar": {
              "outlinewidth": 0,
              "ticks": ""
             }
            },
            "type": "scattermapbox"
           }
          ],
          "scatterpolar": [
           {
            "marker": {
             "colorbar": {
              "outlinewidth": 0,
              "ticks": ""
             }
            },
            "type": "scatterpolar"
           }
          ],
          "scatterpolargl": [
           {
            "marker": {
             "colorbar": {
              "outlinewidth": 0,
              "ticks": ""
             }
            },
            "type": "scatterpolargl"
           }
          ],
          "scatterternary": [
           {
            "marker": {
             "colorbar": {
              "outlinewidth": 0,
              "ticks": ""
             }
            },
            "type": "scatterternary"
           }
          ],
          "surface": [
           {
            "colorbar": {
             "outlinewidth": 0,
             "ticks": ""
            },
            "colorscale": [
             [
              0,
              "#0d0887"
             ],
             [
              0.1111111111111111,
              "#46039f"
             ],
             [
              0.2222222222222222,
              "#7201a8"
             ],
             [
              0.3333333333333333,
              "#9c179e"
             ],
             [
              0.4444444444444444,
              "#bd3786"
             ],
             [
              0.5555555555555556,
              "#d8576b"
             ],
             [
              0.6666666666666666,
              "#ed7953"
             ],
             [
              0.7777777777777778,
              "#fb9f3a"
             ],
             [
              0.8888888888888888,
              "#fdca26"
             ],
             [
              1,
              "#f0f921"
             ]
            ],
            "type": "surface"
           }
          ],
          "table": [
           {
            "cells": {
             "fill": {
              "color": "#EBF0F8"
             },
             "line": {
              "color": "white"
             }
            },
            "header": {
             "fill": {
              "color": "#C8D4E3"
             },
             "line": {
              "color": "white"
             }
            },
            "type": "table"
           }
          ]
         },
         "layout": {
          "annotationdefaults": {
           "arrowcolor": "#2a3f5f",
           "arrowhead": 0,
           "arrowwidth": 1
          },
          "autotypenumbers": "strict",
          "coloraxis": {
           "colorbar": {
            "outlinewidth": 0,
            "ticks": ""
           }
          },
          "colorscale": {
           "diverging": [
            [
             0,
             "#8e0152"
            ],
            [
             0.1,
             "#c51b7d"
            ],
            [
             0.2,
             "#de77ae"
            ],
            [
             0.3,
             "#f1b6da"
            ],
            [
             0.4,
             "#fde0ef"
            ],
            [
             0.5,
             "#f7f7f7"
            ],
            [
             0.6,
             "#e6f5d0"
            ],
            [
             0.7,
             "#b8e186"
            ],
            [
             0.8,
             "#7fbc41"
            ],
            [
             0.9,
             "#4d9221"
            ],
            [
             1,
             "#276419"
            ]
           ],
           "sequential": [
            [
             0,
             "#0d0887"
            ],
            [
             0.1111111111111111,
             "#46039f"
            ],
            [
             0.2222222222222222,
             "#7201a8"
            ],
            [
             0.3333333333333333,
             "#9c179e"
            ],
            [
             0.4444444444444444,
             "#bd3786"
            ],
            [
             0.5555555555555556,
             "#d8576b"
            ],
            [
             0.6666666666666666,
             "#ed7953"
            ],
            [
             0.7777777777777778,
             "#fb9f3a"
            ],
            [
             0.8888888888888888,
             "#fdca26"
            ],
            [
             1,
             "#f0f921"
            ]
           ],
           "sequentialminus": [
            [
             0,
             "#0d0887"
            ],
            [
             0.1111111111111111,
             "#46039f"
            ],
            [
             0.2222222222222222,
             "#7201a8"
            ],
            [
             0.3333333333333333,
             "#9c179e"
            ],
            [
             0.4444444444444444,
             "#bd3786"
            ],
            [
             0.5555555555555556,
             "#d8576b"
            ],
            [
             0.6666666666666666,
             "#ed7953"
            ],
            [
             0.7777777777777778,
             "#fb9f3a"
            ],
            [
             0.8888888888888888,
             "#fdca26"
            ],
            [
             1,
             "#f0f921"
            ]
           ]
          },
          "colorway": [
           "#636efa",
           "#EF553B",
           "#00cc96",
           "#ab63fa",
           "#FFA15A",
           "#19d3f3",
           "#FF6692",
           "#B6E880",
           "#FF97FF",
           "#FECB52"
          ],
          "font": {
           "color": "#2a3f5f"
          },
          "geo": {
           "bgcolor": "white",
           "lakecolor": "white",
           "landcolor": "#E5ECF6",
           "showlakes": true,
           "showland": true,
           "subunitcolor": "white"
          },
          "hoverlabel": {
           "align": "left"
          },
          "hovermode": "closest",
          "mapbox": {
           "style": "light"
          },
          "paper_bgcolor": "white",
          "plot_bgcolor": "#E5ECF6",
          "polar": {
           "angularaxis": {
            "gridcolor": "white",
            "linecolor": "white",
            "ticks": ""
           },
           "bgcolor": "#E5ECF6",
           "radialaxis": {
            "gridcolor": "white",
            "linecolor": "white",
            "ticks": ""
           }
          },
          "scene": {
           "xaxis": {
            "backgroundcolor": "#E5ECF6",
            "gridcolor": "white",
            "gridwidth": 2,
            "linecolor": "white",
            "showbackground": true,
            "ticks": "",
            "zerolinecolor": "white"
           },
           "yaxis": {
            "backgroundcolor": "#E5ECF6",
            "gridcolor": "white",
            "gridwidth": 2,
            "linecolor": "white",
            "showbackground": true,
            "ticks": "",
            "zerolinecolor": "white"
           },
           "zaxis": {
            "backgroundcolor": "#E5ECF6",
            "gridcolor": "white",
            "gridwidth": 2,
            "linecolor": "white",
            "showbackground": true,
            "ticks": "",
            "zerolinecolor": "white"
           }
          },
          "shapedefaults": {
           "line": {
            "color": "#2a3f5f"
           }
          },
          "ternary": {
           "aaxis": {
            "gridcolor": "white",
            "linecolor": "white",
            "ticks": ""
           },
           "baxis": {
            "gridcolor": "white",
            "linecolor": "white",
            "ticks": ""
           },
           "bgcolor": "#E5ECF6",
           "caxis": {
            "gridcolor": "white",
            "linecolor": "white",
            "ticks": ""
           }
          },
          "title": {
           "x": 0.05
          },
          "xaxis": {
           "automargin": true,
           "gridcolor": "white",
           "linecolor": "white",
           "ticks": "",
           "title": {
            "standoff": 15
           },
           "zerolinecolor": "white",
           "zerolinewidth": 2
          },
          "yaxis": {
           "automargin": true,
           "gridcolor": "white",
           "linecolor": "white",
           "ticks": "",
           "title": {
            "standoff": 15
           },
           "zerolinecolor": "white",
           "zerolinewidth": 2
          }
         }
        },
        "title": {
         "text": "Gráficas de MAE y MSE vs Época"
        },
        "xaxis": {
         "anchor": "y",
         "autorange": true,
         "domain": [
          0,
          0.45
         ],
         "range": [
          0,
          9
         ],
         "type": "linear"
        },
        "xaxis2": {
         "anchor": "y2",
         "autorange": true,
         "domain": [
          0.55,
          1
         ],
         "range": [
          0,
          9
         ],
         "type": "linear"
        },
        "yaxis": {
         "anchor": "x",
         "autorange": true,
         "domain": [
          0,
          1
         ],
         "range": [
          475408.42881944444,
          507581.10243055556
         ],
         "type": "linear"
        },
        "yaxis2": {
         "anchor": "x2",
         "autorange": true,
         "domain": [
          0,
          1
         ],
         "range": [
          417518447274.6667,
          518246077781.3333
         ],
         "type": "linear"
        }
       }
      },
      "image/png": "[encoded data removed]",
      "text/html": [
       "<div>                            <div id=\"c6db0f9f-dd76-4143-8a60-393734552cbe\" class=\"plotly-graph-div\" style=\"height:525px; width:100%;\"></div>            <script type=\"text/javascript\">                require([\"plotly\"], function(Plotly) {                    window.PLOTLYENV=window.PLOTLYENV || {};                                    if (document.getElementById(\"c6db0f9f-dd76-4143-8a60-393734552cbe\")) {                    Plotly.newPlot(                        \"c6db0f9f-dd76-4143-8a60-393734552cbe\",                        [{\"mode\":\"lines\",\"name\":\"mae\",\"x\":[0,1,2,3,4,5,6,7,8,9],\"y\":[477133.25,477132.71875,477132.03125,477130.53125,477128.0,477122.9375,477113.875,477096.6875,477066.46875,477017.0625],\"type\":\"scatter\",\"xaxis\":\"x\",\"yaxis\":\"y\"},{\"mode\":\"lines\",\"name\":\"val_mae\",\"x\":[0,1,2,3,4,5,6,7,8,9],\"y\":[505972.46875,505971.90625,505970.84375,505968.84375,505965.0625,505958.0,505944.90625,505921.25,505879.59375,505811.0],\"type\":\"scatter\",\"xaxis\":\"x\",\"yaxis\":\"y\"},{\"mode\":\"lines\",\"name\":\"mse\",\"x\":[0,1,2,3,4,5,6,7,8,9],\"y\":[513209696256.0,513209139200.0,513208385536.0,513206943744.0,513204355072.0,513199144960.0,513190952960.0,513173553152.0,513140621312.0,513093533696.0],\"type\":\"scatter\",\"xaxis\":\"x2\",\"yaxis\":\"y2\"},{\"mode\":\"lines\",\"name\":\"val_mse\",\"x\":[0,1,2,3,4,5,6,7,8,9],\"y\":[422723321856.0,422722699264.0,422721585152.0,422719520768.0,422715588608.0,422708183040.0,422694551552.0,422669877248.0,422626394112.0,422554828800.0],\"type\":\"scatter\",\"xaxis\":\"x2\",\"yaxis\":\"y2\"}],                        {\"template\":{\"data\":{\"histogram2dcontour\":[{\"type\":\"histogram2dcontour\",\"colorbar\":{\"outlinewidth\":0,\"ticks\":\"\"},\"colorscale\":[[0.0,\"#0d0887\"],[0.1111111111111111,\"#46039f\"],[0.2222222222222222,\"#7201a8\"],[0.3333333333333333,\"#9c179e\"],[0.4444444444444444,\"#bd3786\"],[0.5555555555555556,\"#d8576b\"],[0.6666666666666666,\"#ed7953\"],[0.7777777777777778,\"#fb9f3a\"],[0.8888888888888888,\"#fdca26\"],[1.0,\"#f0f921\"]]}],\"choropleth\":[{\"type\":\"choropleth\",\"colorbar\":{\"outlinewidth\":0,\"ticks\":\"\"}}],\"histogram2d\":[{\"type\":\"histogram2d\",\"colorbar\":{\"outlinewidth\":0,\"ticks\":\"\"},\"colorscale\":[[0.0,\"#0d0887\"],[0.1111111111111111,\"#46039f\"],[0.2222222222222222,\"#7201a8\"],[0.3333333333333333,\"#9c179e\"],[0.4444444444444444,\"#bd3786\"],[0.5555555555555556,\"#d8576b\"],[0.6666666666666666,\"#ed7953\"],[0.7777777777777778,\"#fb9f3a\"],[0.8888888888888888,\"#fdca26\"],[1.0,\"#f0f921\"]]}],\"heatmap\":[{\"type\":\"heatmap\",\"colorbar\":{\"outlinewidth\":0,\"ticks\":\"\"},\"colorscale\":[[0.0,\"#0d0887\"],[0.1111111111111111,\"#46039f\"],[0.2222222222222222,\"#7201a8\"],[0.3333333333333333,\"#9c179e\"],[0.4444444444444444,\"#bd3786\"],[0.5555555555555556,\"#d8576b\"],[0.6666666666666666,\"#ed7953\"],[0.7777777777777778,\"#fb9f3a\"],[0.8888888888888888,\"#fdca26\"],[1.0,\"#f0f921\"]]}],\"heatmapgl\":[{\"type\":\"heatmapgl\",\"colorbar\":{\"outlinewidth\":0,\"ticks\":\"\"},\"colorscale\":[[0.0,\"#0d0887\"],[0.1111111111111111,\"#46039f\"],[0.2222222222222222,\"#7201a8\"],[0.3333333333333333,\"#9c179e\"],[0.4444444444444444,\"#bd3786\"],[0.5555555555555556,\"#d8576b\"],[0.6666666666666666,\"#ed7953\"],[0.7777777777777778,\"#fb9f3a\"],[0.8888888888888888,\"#fdca26\"],[1.0,\"#f0f921\"]]}],\"contourcarpet\":[{\"type\":\"contourcarpet\",\"colorbar\":{\"outlinewidth\":0,\"ticks\":\"\"}}],\"contour\":[{\"type\":\"contour\",\"colorbar\":{\"outlinewidth\":0,\"ticks\":\"\"},\"colorscale\":[[0.0,\"#0d0887\"],[0.1111111111111111,\"#46039f\"],[0.2222222222222222,\"#7201a8\"],[0.3333333333333333,\"#9c179e\"],[0.4444444444444444,\"#bd3786\"],[0.5555555555555556,\"#d8576b\"],[0.6666666666666666,\"#ed7953\"],[0.7777777777777778,\"#fb9f3a\"],[0.8888888888888888,\"#fdca26\"],[1.0,\"#f0f921\"]]}],\"surface\":[{\"type\":\"surface\",\"colorbar\":{\"outlinewidth\":0,\"ticks\":\"\"},\"colorscale\":[[0.0,\"#0d0887\"],[0.1111111111111111,\"#46039f\"],[0.2222222222222222,\"#7201a8\"],[0.3333333333333333,\"#9c179e\"],[0.4444444444444444,\"#bd3786\"],[0.5555555555555556,\"#d8576b\"],[0.6666666666666666,\"#ed7953\"],[0.7777777777777778,\"#fb9f3a\"],[0.8888888888888888,\"#fdca26\"],[1.0,\"#f0f921\"]]}],\"mesh3d\":[{\"type\":\"mesh3d\",\"colorbar\":{\"outlinewidth\":0,\"ticks\":\"\"}}],\"scatter\":[{\"fillpattern\":{\"fillmode\":\"overlay\",\"size\":10,\"solidity\":0.2},\"type\":\"scatter\"}],\"parcoords\":[{\"type\":\"parcoords\",\"line\":{\"colorbar\":{\"outlinewidth\":0,\"ticks\":\"\"}}}],\"scatterpolargl\":[{\"type\":\"scatterpolargl\",\"marker\":{\"colorbar\":{\"outlinewidth\":0,\"ticks\":\"\"}}}],\"bar\":[{\"error_x\":{\"color\":\"#2a3f5f\"},\"error_y\":{\"color\":\"#2a3f5f\"},\"marker\":{\"line\":{\"color\":\"#E5ECF6\",\"width\":0.5},\"pattern\":{\"fillmode\":\"overlay\",\"size\":10,\"solidity\":0.2}},\"type\":\"bar\"}],\"scattergeo\":[{\"type\":\"scattergeo\",\"marker\":{\"colorbar\":{\"outlinewidth\":0,\"ticks\":\"\"}}}],\"scatterpolar\":[{\"type\":\"scatterpolar\",\"marker\":{\"colorbar\":{\"outlinewidth\":0,\"ticks\":\"\"}}}],\"histogram\":[{\"marker\":{\"pattern\":{\"fillmode\":\"overlay\",\"size\":10,\"solidity\":0.2}},\"type\":\"histogram\"}],\"scattergl\":[{\"type\":\"scattergl\",\"marker\":{\"colorbar\":{\"outlinewidth\":0,\"ticks\":\"\"}}}],\"scatter3d\":[{\"type\":\"scatter3d\",\"line\":{\"colorbar\":{\"outlinewidth\":0,\"ticks\":\"\"}},\"marker\":{\"colorbar\":{\"outlinewidth\":0,\"ticks\":\"\"}}}],\"scattermapbox\":[{\"type\":\"scattermapbox\",\"marker\":{\"colorbar\":{\"outlinewidth\":0,\"ticks\":\"\"}}}],\"scatterternary\":[{\"type\":\"scatterternary\",\"marker\":{\"colorbar\":{\"outlinewidth\":0,\"ticks\":\"\"}}}],\"scattercarpet\":[{\"type\":\"scattercarpet\",\"marker\":{\"colorbar\":{\"outlinewidth\":0,\"ticks\":\"\"}}}],\"carpet\":[{\"aaxis\":{\"endlinecolor\":\"#2a3f5f\",\"gridcolor\":\"white\",\"linecolor\":\"white\",\"minorgridcolor\":\"white\",\"startlinecolor\":\"#2a3f5f\"},\"baxis\":{\"endlinecolor\":\"#2a3f5f\",\"gridcolor\":\"white\",\"linecolor\":\"white\",\"minorgridcolor\":\"white\",\"startlinecolor\":\"#2a3f5f\"},\"type\":\"carpet\"}],\"table\":[{\"cells\":{\"fill\":{\"color\":\"#EBF0F8\"},\"line\":{\"color\":\"white\"}},\"header\":{\"fill\":{\"color\":\"#C8D4E3\"},\"line\":{\"color\":\"white\"}},\"type\":\"table\"}],\"barpolar\":[{\"marker\":{\"line\":{\"color\":\"#E5ECF6\",\"width\":0.5},\"pattern\":{\"fillmode\":\"overlay\",\"size\":10,\"solidity\":0.2}},\"type\":\"barpolar\"}],\"pie\":[{\"automargin\":true,\"type\":\"pie\"}]},\"layout\":{\"autotypenumbers\":\"strict\",\"colorway\":[\"#636efa\",\"#EF553B\",\"#00cc96\",\"#ab63fa\",\"#FFA15A\",\"#19d3f3\",\"#FF6692\",\"#B6E880\",\"#FF97FF\",\"#FECB52\"],\"font\":{\"color\":\"#2a3f5f\"},\"hovermode\":\"closest\",\"hoverlabel\":{\"align\":\"left\"},\"paper_bgcolor\":\"white\",\"plot_bgcolor\":\"#E5ECF6\",\"polar\":{\"bgcolor\":\"#E5ECF6\",\"angularaxis\":{\"gridcolor\":\"white\",\"linecolor\":\"white\",\"ticks\":\"\"},\"radialaxis\":{\"gridcolor\":\"white\",\"linecolor\":\"white\",\"ticks\":\"\"}},\"ternary\":{\"bgcolor\":\"#E5ECF6\",\"aaxis\":{\"gridcolor\":\"white\",\"linecolor\":\"white\",\"ticks\":\"\"},\"baxis\":{\"gridcolor\":\"white\",\"linecolor\":\"white\",\"ticks\":\"\"},\"caxis\":{\"gridcolor\":\"white\",\"linecolor\":\"white\",\"ticks\":\"\"}},\"coloraxis\":{\"colorbar\":{\"outlinewidth\":0,\"ticks\":\"\"}},\"colorscale\":{\"sequential\":[[0.0,\"#0d0887\"],[0.1111111111111111,\"#46039f\"],[0.2222222222222222,\"#7201a8\"],[0.3333333333333333,\"#9c179e\"],[0.4444444444444444,\"#bd3786\"],[0.5555555555555556,\"#d8576b\"],[0.6666666666666666,\"#ed7953\"],[0.7777777777777778,\"#fb9f3a\"],[0.8888888888888888,\"#fdca26\"],[1.0,\"#f0f921\"]],\"sequentialminus\":[[0.0,\"#0d0887\"],[0.1111111111111111,\"#46039f\"],[0.2222222222222222,\"#7201a8\"],[0.3333333333333333,\"#9c179e\"],[0.4444444444444444,\"#bd3786\"],[0.5555555555555556,\"#d8576b\"],[0.6666666666666666,\"#ed7953\"],[0.7777777777777778,\"#fb9f3a\"],[0.8888888888888888,\"#fdca26\"],[1.0,\"#f0f921\"]],\"diverging\":[[0,\"#8e0152\"],[0.1,\"#c51b7d\"],[0.2,\"#de77ae\"],[0.3,\"#f1b6da\"],[0.4,\"#fde0ef\"],[0.5,\"#f7f7f7\"],[0.6,\"#e6f5d0\"],[0.7,\"#b8e186\"],[0.8,\"#7fbc41\"],[0.9,\"#4d9221\"],[1,\"#276419\"]]},\"xaxis\":{\"gridcolor\":\"white\",\"linecolor\":\"white\",\"ticks\":\"\",\"title\":{\"standoff\":15},\"zerolinecolor\":\"white\",\"automargin\":true,\"zerolinewidth\":2},\"yaxis\":{\"gridcolor\":\"white\",\"linecolor\":\"white\",\"ticks\":\"\",\"title\":{\"standoff\":15},\"zerolinecolor\":\"white\",\"automargin\":true,\"zerolinewidth\":2},\"scene\":{\"xaxis\":{\"backgroundcolor\":\"#E5ECF6\",\"gridcolor\":\"white\",\"linecolor\":\"white\",\"showbackground\":true,\"ticks\":\"\",\"zerolinecolor\":\"white\",\"gridwidth\":2},\"yaxis\":{\"backgroundcolor\":\"#E5ECF6\",\"gridcolor\":\"white\",\"linecolor\":\"white\",\"showbackground\":true,\"ticks\":\"\",\"zerolinecolor\":\"white\",\"gridwidth\":2},\"zaxis\":{\"backgroundcolor\":\"#E5ECF6\",\"gridcolor\":\"white\",\"linecolor\":\"white\",\"showbackground\":true,\"ticks\":\"\",\"zerolinecolor\":\"white\",\"gridwidth\":2}},\"shapedefaults\":{\"line\":{\"color\":\"#2a3f5f\"}},\"annotationdefaults\":{\"arrowcolor\":\"#2a3f5f\",\"arrowhead\":0,\"arrowwidth\":1},\"geo\":{\"bgcolor\":\"white\",\"landcolor\":\"#E5ECF6\",\"subunitcolor\":\"white\",\"showland\":true,\"showlakes\":true,\"lakecolor\":\"white\"},\"title\":{\"x\":0.05},\"mapbox\":{\"style\":\"light\"}}},\"xaxis\":{\"anchor\":\"y\",\"domain\":[0.0,0.45]},\"yaxis\":{\"anchor\":\"x\",\"domain\":[0.0,1.0]},\"xaxis2\":{\"anchor\":\"y2\",\"domain\":[0.55,1.0]},\"yaxis2\":{\"anchor\":\"x2\",\"domain\":[0.0,1.0]},\"title\":{\"text\":\"Gr\\u00e1ficas de MAE y MSE vs \\u00c9poca\"}},                        {\"responsive\": true}                    ).then(function(){\n",
       "                            \n",
       "var gd = document.getElementById('c6db0f9f-dd76-4143-8a60-393734552cbe');\n",
       "var x = new MutationObserver(function (mutations, observer) {{\n",
       "        var display = window.getComputedStyle(gd).display;\n",
       "        if (!display || display === 'none') {{\n",
       "            console.log([gd, 'removed!']);\n",
       "            Plotly.purge(gd);\n",
       "            observer.disconnect();\n",
       "        }}\n",
       "}});\n",
       "\n",
       "// Listen for the removal of the full notebook cells\n",
       "var notebookContainer = gd.closest('#notebook-container');\n",
       "if (notebookContainer) {{\n",
       "    x.observe(notebookContainer, {childList: true});\n",
       "}}\n",
       "\n",
       "// Listen for the clearing of the current output cell\n",
       "var outputEl = gd.closest('.output');\n",
       "if (outputEl) {{\n",
       "    x.observe(outputEl, {childList: true});\n",
       "}}\n",
       "\n",
       "                        })                };                });            </script>        </div>"
      ]
     },
     "metadata": {},
     "output_type": "display_data"
    },
    {
     "name": "stdout",
     "output_type": "stream",
     "text": [
      "6/6 [==============================] - 0s 2ms/step\n"
     ]
    },
    {
     "data": {
      "application/vnd.plotly.v1+json": {
       "config": {
        "plotlyServerURL": "https://plot.ly"
       },
       "data": [
        {
         "hovertemplate": "price=%{x}<br>price_pred=%{y}<extra></extra>",
         "legendgroup": "",
         "marker": {
          "color": "#636efa",
          "symbol": "circle"
         },
         "mode": "markers",
         "name": "",
         "orientation": "v",
         "showlegend": false,
         "type": "scatter",
         "x": [
          395000,
          640000,
          567000,
          375900,
          249900,
          230900,
          795000,
          235000,
          690000,
          371000,
          395000,
          595000,
          995000,
          625000,
          450000,
          256500,
          422500,
          1399000,
          256500,
          291800,
          235000,
          262181,
          567000,
          273100,
          246300,
          320000,
          275730,
          135000,
          2706000,
          795000,
          1148000,
          436700,
          291800,
          790000,
          320000,
          795000,
          297100,
          790000,
          205000,
          1148000,
          249900,
          297100,
          779000,
          367000,
          129900,
          179999,
          182100,
          262181,
          900000,
          182000,
          210000,
          235000,
          790000,
          790000,
          299990,
          250000,
          320000,
          550000,
          639000,
          330000,
          1500000,
          54900,
          425000,
          410000,
          895000,
          249900,
          249000,
          223000,
          235000,
          298000,
          139900,
          172000,
          5000000,
          180000,
          1500000,
          318500,
          160000,
          370000,
          205000,
          350000,
          640000,
          157500,
          725000,
          299000,
          430000,
          162000,
          395000,
          860000,
          360000,
          1500000,
          639000,
          1500000,
          173000,
          640000,
          340000,
          359000,
          700000,
          360000,
          700000,
          255000,
          310000,
          240000,
          270000,
          190000,
          1975000,
          260000,
          215000,
          449900,
          85000,
          298000,
          291800,
          262181,
          255900,
          265900,
          255900,
          265900,
          182100,
          291800,
          182100,
          256500,
          1148000,
          750000,
          182100,
          1089800,
          297100,
          291800,
          297100,
          262181,
          1148000,
          256500,
          252000,
          215000,
          225000,
          275000,
          358000,
          1300000,
          355000,
          335000,
          345000,
          362000,
          375900,
          299000,
          189500,
          264500,
          257000,
          258000,
          293000,
          389000,
          344000,
          318000,
          790000,
          175000,
          1990000,
          1210000,
          334000,
          445000,
          215000,
          375900,
          279900,
          299900,
          249900,
          385000,
          172670,
          165877,
          170297,
          262181,
          159320,
          165787,
          176746,
          188400,
          175599,
          1800000,
          422500,
          799900,
          291800,
          297100,
          698000,
          315000,
          278000,
          319000,
          291800,
          256500,
          320000,
          595000,
          640000,
          367500,
          360000
         ],
         "xaxis": "x",
         "y": [
          185.44845581054688,
          185.3803253173828,
          181.19879150390625,
          176.6163330078125,
          156.50143432617188,
          156.13809204101562,
          141.79800415039062,
          132.81361389160156,
          189.48806762695312,
          167.2458038330078,
          167.7678985595703,
          186.72103881835938,
          153.9907684326172,
          155.91848754882812,
          189.187744140625,
          126.17704772949219,
          149.56527709960938,
          177.49908447265625,
          105.64817810058594,
          177.47633361816406,
          177.475341796875,
          111.13287353515625,
          181.21694946289062,
          129.17117309570312,
          127.89021301269531,
          171.947998046875,
          143.69985961914062,
          144.77655029296875,
          193.79933166503906,
          171.4083251953125,
          170.14752197265625,
          130.6915740966797,
          189.24224853515625,
          171.88726806640625,
          138.92684936523438,
          131.4341278076172,
          173.44674682617188,
          165.74073791503906,
          137.58090209960938,
          172.52532958984375,
          191.97384643554688,
          177.49118041992188,
          171.04974365234375,
          167.8177947998047,
          170.32962036132812,
          194.20840454101562,
          119.69914245605469,
          155.11172485351562,
          167.17742919921875,
          186.4962158203125,
          157.072265625,
          172.51150512695312,
          170.53289794921875,
          183.04306030273438,
          118.49136352539062,
          179.813720703125,
          126.63690185546875,
          185.70834350585938,
          158.30709838867188,
          185.24658203125,
          173.73745727539062,
          147.30641174316406,
          186.094970703125,
          164.5223388671875,
          187.62977600097656,
          158.04931640625,
          183.7908477783203,
          177.52679443359375,
          183.35537719726562,
          154.93939208984375,
          112.95249938964844,
          152.24453735351562,
          180.1191864013672,
          128.3056640625,
          168.11825561523438,
          180.5333251953125,
          129.1135711669922,
          162.0170440673828,
          109.52224731445312,
          192.85214233398438,
          190.3991241455078,
          182.49581909179688,
          174.89682006835938,
          139.04098510742188,
          126.03738403320312,
          158.629150390625,
          189.3275146484375,
          177.52426147460938,
          163.19882202148438,
          189.35165405273438,
          158.50604248046875,
          169.13372802734375,
          150.85000610351562,
          184.83251953125,
          159.98269653320312,
          150.39572143554688,
          172.34971618652344,
          152.92251586914062,
          190.253662109375,
          111.89817810058594,
          159.71270751953125,
          183.8572998046875,
          149.31651306152344,
          186.5856170654297,
          174.14425659179688,
          138.67138671875,
          149.9678192138672,
          126.91603088378906,
          89.30307006835938,
          149.19146728515625,
          185.80006408691406,
          168.8014678955078,
          156.49435424804688,
          157.34100341796875,
          157.66818237304688,
          157.298095703125,
          140.1378173828125,
          185.80006408691406,
          155.989013671875,
          144.36834716796875,
          176.71578979492188,
          170.49342346191406,
          136.674072265625,
          153.02023315429688,
          177.47633361816406,
          177.49118041992188,
          177.77545166015625,
          149.20401000976562,
          143.647705078125,
          144.5183563232422,
          156.0142822265625,
          155.87074279785156,
          155.8563232421875,
          157.09841918945312,
          157.1270751953125,
          190.17483520507812,
          170.46572875976562,
          170.358154296875,
          170.358154296875,
          170.46572875976562,
          159.2726287841797,
          189.24990844726562,
          129.25115966796875,
          133.086181640625,
          157.06973266601562,
          155.863525390625,
          157.05535888671875,
          158.2011260986328,
          157.08407592773438,
          156.14903259277344,
          152.6869659423828,
          153.9478759765625,
          176.30162048339844,
          173.4920654296875,
          168.32786560058594,
          155.9820556640625,
          115.01123046875,
          176.6163330078125,
          157.3338623046875,
          152.2502899169922,
          157.3267364501953,
          122.51210021972656,
          169.6152801513672,
          169.5301055908203,
          169.5362091064453,
          154.99078369140625,
          167.9310302734375,
          167.96458435058594,
          167.91421508789062,
          169.64561462402344,
          169.5727081298828,
          175.6697235107422,
          175.54312133789062,
          171.537353515625,
          189.28692626953125,
          183.01803588867188,
          175.59132385253906,
          122.45240020751953,
          121.16815185546875,
          122.45240020751953,
          177.49118041992188,
          131.85101318359375,
          156.6798095703125,
          160.47244262695312,
          189.2461700439453,
          183.07354736328125,
          168.51687622070312
         ],
         "yaxis": "y"
        }
       ],
       "layout": {
        "autosize": true,
        "legend": {
         "tracegroupgap": 0
        },
        "template": {
         "data": {
          "bar": [
           {
            "error_x": {
             "color": "#2a3f5f"
            },
            "error_y": {
             "color": "#2a3f5f"
            },
            "marker": {
             "line": {
              "color": "#E5ECF6",
              "width": 0.5
             },
             "pattern": {
              "fillmode": "overlay",
              "size": 10,
              "solidity": 0.2
             }
            },
            "type": "bar"
           }
          ],
          "barpolar": [
           {
            "marker": {
             "line": {
              "color": "#E5ECF6",
              "width": 0.5
             },
             "pattern": {
              "fillmode": "overlay",
              "size": 10,
              "solidity": 0.2
             }
            },
            "type": "barpolar"
           }
          ],
          "carpet": [
           {
            "aaxis": {
             "endlinecolor": "#2a3f5f",
             "gridcolor": "white",
             "linecolor": "white",
             "minorgridcolor": "white",
             "startlinecolor": "#2a3f5f"
            },
            "baxis": {
             "endlinecolor": "#2a3f5f",
             "gridcolor": "white",
             "linecolor": "white",
             "minorgridcolor": "white",
             "startlinecolor": "#2a3f5f"
            },
            "type": "carpet"
           }
          ],
          "choropleth": [
           {
            "colorbar": {
             "outlinewidth": 0,
             "ticks": ""
            },
            "type": "choropleth"
           }
          ],
          "contour": [
           {
            "colorbar": {
             "outlinewidth": 0,
             "ticks": ""
            },
            "colorscale": [
             [
              0,
              "#0d0887"
             ],
             [
              0.1111111111111111,
              "#46039f"
             ],
             [
              0.2222222222222222,
              "#7201a8"
             ],
             [
              0.3333333333333333,
              "#9c179e"
             ],
             [
              0.4444444444444444,
              "#bd3786"
             ],
             [
              0.5555555555555556,
              "#d8576b"
             ],
             [
              0.6666666666666666,
              "#ed7953"
             ],
             [
              0.7777777777777778,
              "#fb9f3a"
             ],
             [
              0.8888888888888888,
              "#fdca26"
             ],
             [
              1,
              "#f0f921"
             ]
            ],
            "type": "contour"
           }
          ],
          "contourcarpet": [
           {
            "colorbar": {
             "outlinewidth": 0,
             "ticks": ""
            },
            "type": "contourcarpet"
           }
          ],
          "heatmap": [
           {
            "colorbar": {
             "outlinewidth": 0,
             "ticks": ""
            },
            "colorscale": [
             [
              0,
              "#0d0887"
             ],
             [
              0.1111111111111111,
              "#46039f"
             ],
             [
              0.2222222222222222,
              "#7201a8"
             ],
             [
              0.3333333333333333,
              "#9c179e"
             ],
             [
              0.4444444444444444,
              "#bd3786"
             ],
             [
              0.5555555555555556,
              "#d8576b"
             ],
             [
              0.6666666666666666,
              "#ed7953"
             ],
             [
              0.7777777777777778,
              "#fb9f3a"
             ],
             [
              0.8888888888888888,
              "#fdca26"
             ],
             [
              1,
              "#f0f921"
             ]
            ],
            "type": "heatmap"
           }
          ],
          "heatmapgl": [
           {
            "colorbar": {
             "outlinewidth": 0,
             "ticks": ""
            },
            "colorscale": [
             [
              0,
              "#0d0887"
             ],
             [
              0.1111111111111111,
              "#46039f"
             ],
             [
              0.2222222222222222,
              "#7201a8"
             ],
             [
              0.3333333333333333,
              "#9c179e"
             ],
             [
              0.4444444444444444,
              "#bd3786"
             ],
             [
              0.5555555555555556,
              "#d8576b"
             ],
             [
              0.6666666666666666,
              "#ed7953"
             ],
             [
              0.7777777777777778,
              "#fb9f3a"
             ],
             [
              0.8888888888888888,
              "#fdca26"
             ],
             [
              1,
              "#f0f921"
             ]
            ],
            "type": "heatmapgl"
           }
          ],
          "histogram": [
           {
            "marker": {
             "pattern": {
              "fillmode": "overlay",
              "size": 10,
              "solidity": 0.2
             }
            },
            "type": "histogram"
           }
          ],
          "histogram2d": [
           {
            "colorbar": {
             "outlinewidth": 0,
             "ticks": ""
            },
            "colorscale": [
             [
              0,
              "#0d0887"
             ],
             [
              0.1111111111111111,
              "#46039f"
             ],
             [
              0.2222222222222222,
              "#7201a8"
             ],
             [
              0.3333333333333333,
              "#9c179e"
             ],
             [
              0.4444444444444444,
              "#bd3786"
             ],
             [
              0.5555555555555556,
              "#d8576b"
             ],
             [
              0.6666666666666666,
              "#ed7953"
             ],
             [
              0.7777777777777778,
              "#fb9f3a"
             ],
             [
              0.8888888888888888,
              "#fdca26"
             ],
             [
              1,
              "#f0f921"
             ]
            ],
            "type": "histogram2d"
           }
          ],
          "histogram2dcontour": [
           {
            "colorbar": {
             "outlinewidth": 0,
             "ticks": ""
            },
            "colorscale": [
             [
              0,
              "#0d0887"
             ],
             [
              0.1111111111111111,
              "#46039f"
             ],
             [
              0.2222222222222222,
              "#7201a8"
             ],
             [
              0.3333333333333333,
              "#9c179e"
             ],
             [
              0.4444444444444444,
              "#bd3786"
             ],
             [
              0.5555555555555556,
              "#d8576b"
             ],
             [
              0.6666666666666666,
              "#ed7953"
             ],
             [
              0.7777777777777778,
              "#fb9f3a"
             ],
             [
              0.8888888888888888,
              "#fdca26"
             ],
             [
              1,
              "#f0f921"
             ]
            ],
            "type": "histogram2dcontour"
           }
          ],
          "mesh3d": [
           {
            "colorbar": {
             "outlinewidth": 0,
             "ticks": ""
            },
            "type": "mesh3d"
           }
          ],
          "parcoords": [
           {
            "line": {
             "colorbar": {
              "outlinewidth": 0,
              "ticks": ""
             }
            },
            "type": "parcoords"
           }
          ],
          "pie": [
           {
            "automargin": true,
            "type": "pie"
           }
          ],
          "scatter": [
           {
            "fillpattern": {
             "fillmode": "overlay",
             "size": 10,
             "solidity": 0.2
            },
            "type": "scatter"
           }
          ],
          "scatter3d": [
           {
            "line": {
             "colorbar": {
              "outlinewidth": 0,
              "ticks": ""
             }
            },
            "marker": {
             "colorbar": {
              "outlinewidth": 0,
              "ticks": ""
             }
            },
            "type": "scatter3d"
           }
          ],
          "scattercarpet": [
           {
            "marker": {
             "colorbar": {
              "outlinewidth": 0,
              "ticks": ""
             }
            },
            "type": "scattercarpet"
           }
          ],
          "scattergeo": [
           {
            "marker": {
             "colorbar": {
              "outlinewidth": 0,
              "ticks": ""
             }
            },
            "type": "scattergeo"
           }
          ],
          "scattergl": [
           {
            "marker": {
             "colorbar": {
              "outlinewidth": 0,
              "ticks": ""
             }
            },
            "type": "scattergl"
           }
          ],
          "scattermapbox": [
           {
            "marker": {
             "colorbar": {
              "outlinewidth": 0,
              "ticks": ""
             }
            },
            "type": "scattermapbox"
           }
          ],
          "scatterpolar": [
           {
            "marker": {
             "colorbar": {
              "outlinewidth": 0,
              "ticks": ""
             }
            },
            "type": "scatterpolar"
           }
          ],
          "scatterpolargl": [
           {
            "marker": {
             "colorbar": {
              "outlinewidth": 0,
              "ticks": ""
             }
            },
            "type": "scatterpolargl"
           }
          ],
          "scatterternary": [
           {
            "marker": {
             "colorbar": {
              "outlinewidth": 0,
              "ticks": ""
             }
            },
            "type": "scatterternary"
           }
          ],
          "surface": [
           {
            "colorbar": {
             "outlinewidth": 0,
             "ticks": ""
            },
            "colorscale": [
             [
              0,
              "#0d0887"
             ],
             [
              0.1111111111111111,
              "#46039f"
             ],
             [
              0.2222222222222222,
              "#7201a8"
             ],
             [
              0.3333333333333333,
              "#9c179e"
             ],
             [
              0.4444444444444444,
              "#bd3786"
             ],
             [
              0.5555555555555556,
              "#d8576b"
             ],
             [
              0.6666666666666666,
              "#ed7953"
             ],
             [
              0.7777777777777778,
              "#fb9f3a"
             ],
             [
              0.8888888888888888,
              "#fdca26"
             ],
             [
              1,
              "#f0f921"
             ]
            ],
            "type": "surface"
           }
          ],
          "table": [
           {
            "cells": {
             "fill": {
              "color": "#EBF0F8"
             },
             "line": {
              "color": "white"
             }
            },
            "header": {
             "fill": {
              "color": "#C8D4E3"
             },
             "line": {
              "color": "white"
             }
            },
            "type": "table"
           }
          ]
         },
         "layout": {
          "annotationdefaults": {
           "arrowcolor": "#2a3f5f",
           "arrowhead": 0,
           "arrowwidth": 1
          },
          "autotypenumbers": "strict",
          "coloraxis": {
           "colorbar": {
            "outlinewidth": 0,
            "ticks": ""
           }
          },
          "colorscale": {
           "diverging": [
            [
             0,
             "#8e0152"
            ],
            [
             0.1,
             "#c51b7d"
            ],
            [
             0.2,
             "#de77ae"
            ],
            [
             0.3,
             "#f1b6da"
            ],
            [
             0.4,
             "#fde0ef"
            ],
            [
             0.5,
             "#f7f7f7"
            ],
            [
             0.6,
             "#e6f5d0"
            ],
            [
             0.7,
             "#b8e186"
            ],
            [
             0.8,
             "#7fbc41"
            ],
            [
             0.9,
             "#4d9221"
            ],
            [
             1,
             "#276419"
            ]
           ],
           "sequential": [
            [
             0,
             "#0d0887"
            ],
            [
             0.1111111111111111,
             "#46039f"
            ],
            [
             0.2222222222222222,
             "#7201a8"
            ],
            [
             0.3333333333333333,
             "#9c179e"
            ],
            [
             0.4444444444444444,
             "#bd3786"
            ],
            [
             0.5555555555555556,
             "#d8576b"
            ],
            [
             0.6666666666666666,
             "#ed7953"
            ],
            [
             0.7777777777777778,
             "#fb9f3a"
            ],
            [
             0.8888888888888888,
             "#fdca26"
            ],
            [
             1,
             "#f0f921"
            ]
           ],
           "sequentialminus": [
            [
             0,
             "#0d0887"
            ],
            [
             0.1111111111111111,
             "#46039f"
            ],
            [
             0.2222222222222222,
             "#7201a8"
            ],
            [
             0.3333333333333333,
             "#9c179e"
            ],
            [
             0.4444444444444444,
             "#bd3786"
            ],
            [
             0.5555555555555556,
             "#d8576b"
            ],
            [
             0.6666666666666666,
             "#ed7953"
            ],
            [
             0.7777777777777778,
             "#fb9f3a"
            ],
            [
             0.8888888888888888,
             "#fdca26"
            ],
            [
             1,
             "#f0f921"
            ]
           ]
          },
          "colorway": [
           "#636efa",
           "#EF553B",
           "#00cc96",
           "#ab63fa",
           "#FFA15A",
           "#19d3f3",
           "#FF6692",
           "#B6E880",
           "#FF97FF",
           "#FECB52"
          ],
          "font": {
           "color": "#2a3f5f"
          },
          "geo": {
           "bgcolor": "white",
           "lakecolor": "white",
           "landcolor": "#E5ECF6",
           "showlakes": true,
           "showland": true,
           "subunitcolor": "white"
          },
          "hoverlabel": {
           "align": "left"
          },
          "hovermode": "closest",
          "mapbox": {
           "style": "light"
          },
          "paper_bgcolor": "white",
          "plot_bgcolor": "#E5ECF6",
          "polar": {
           "angularaxis": {
            "gridcolor": "white",
            "linecolor": "white",
            "ticks": ""
           },
           "bgcolor": "#E5ECF6",
           "radialaxis": {
            "gridcolor": "white",
            "linecolor": "white",
            "ticks": ""
           }
          },
          "scene": {
           "xaxis": {
            "backgroundcolor": "#E5ECF6",
            "gridcolor": "white",
            "gridwidth": 2,
            "linecolor": "white",
            "showbackground": true,
            "ticks": "",
            "zerolinecolor": "white"
           },
           "yaxis": {
            "backgroundcolor": "#E5ECF6",
            "gridcolor": "white",
            "gridwidth": 2,
            "linecolor": "white",
            "showbackground": true,
            "ticks": "",
            "zerolinecolor": "white"
           },
           "zaxis": {
            "backgroundcolor": "#E5ECF6",
            "gridcolor": "white",
            "gridwidth": 2,
            "linecolor": "white",
            "showbackground": true,
            "ticks": "",
            "zerolinecolor": "white"
           }
          },
          "shapedefaults": {
           "line": {
            "color": "#2a3f5f"
           }
          },
          "ternary": {
           "aaxis": {
            "gridcolor": "white",
            "linecolor": "white",
            "ticks": ""
           },
           "baxis": {
            "gridcolor": "white",
            "linecolor": "white",
            "ticks": ""
           },
           "bgcolor": "#E5ECF6",
           "caxis": {
            "gridcolor": "white",
            "linecolor": "white",
            "ticks": ""
           }
          },
          "title": {
           "x": 0.05
          },
          "xaxis": {
           "automargin": true,
           "gridcolor": "white",
           "linecolor": "white",
           "ticks": "",
           "title": {
            "standoff": 15
           },
           "zerolinecolor": "white",
           "zerolinewidth": 2
          },
          "yaxis": {
           "automargin": true,
           "gridcolor": "white",
           "linecolor": "white",
           "ticks": "",
           "title": {
            "standoff": 15
           },
           "zerolinecolor": "white",
           "zerolinewidth": 2
          }
         }
        },
        "title": {
         "text": "Gráfica de los precios reales vs los precios predichos "
        },
        "xaxis": {
         "anchor": "y",
         "autorange": true,
         "domain": [
          0,
          1
         ],
         "range": [
          -248033.91512662556,
          5302933.915126625
         ],
         "title": {
          "text": "price"
         },
         "type": "linear"
        },
        "yaxis": {
         "anchor": "x",
         "autorange": true,
         "domain": [
          0,
          1
         ],
         "range": [
          80.64583372838288,
          202.86564088099212
         ],
         "title": {
          "text": "price_pred"
         },
         "type": "linear"
        }
       }
      },
      "image/png": "[encoded data removed]",
      "text/html": [
       "<div>                            <div id=\"c4dfe41b-ad20-4015-a31d-18576cf4fc3f\" class=\"plotly-graph-div\" style=\"height:525px; width:100%;\"></div>            <script type=\"text/javascript\">                require([\"plotly\"], function(Plotly) {                    window.PLOTLYENV=window.PLOTLYENV || {};                                    if (document.getElementById(\"c4dfe41b-ad20-4015-a31d-18576cf4fc3f\")) {                    Plotly.newPlot(                        \"c4dfe41b-ad20-4015-a31d-18576cf4fc3f\",                        [{\"hovertemplate\":\"price=%{x}<br>price_pred=%{y}<extra></extra>\",\"legendgroup\":\"\",\"marker\":{\"color\":\"#636efa\",\"symbol\":\"circle\"},\"mode\":\"markers\",\"name\":\"\",\"orientation\":\"v\",\"showlegend\":false,\"x\":[395000,640000,567000,375900,249900,230900,795000,235000,690000,371000,395000,595000,995000,625000,450000,256500,422500,1399000,256500,291800,235000,262181,567000,273100,246300,320000,275730,135000,2706000,795000,1148000,436700,291800,790000,320000,795000,297100,790000,205000,1148000,249900,297100,779000,367000,129900,179999,182100,262181,900000,182000,210000,235000,790000,790000,299990,250000,320000,550000,639000,330000,1500000,54900,425000,410000,895000,249900,249000,223000,235000,298000,139900,172000,5000000,180000,1500000,318500,160000,370000,205000,350000,640000,157500,725000,299000,430000,162000,395000,860000,360000,1500000,639000,1500000,173000,640000,340000,359000,700000,360000,700000,255000,310000,240000,270000,190000,1975000,260000,215000,449900,85000,298000,291800,262181,255900,265900,255900,265900,182100,291800,182100,256500,1148000,750000,182100,1089800,297100,291800,297100,262181,1148000,256500,252000,215000,225000,275000,358000,1300000,355000,335000,345000,362000,375900,299000,189500,264500,257000,258000,293000,389000,344000,318000,790000,175000,1990000,1210000,334000,445000,215000,375900,279900,299900,249900,385000,172670,165877,170297,262181,159320,165787,176746,188400,175599,1800000,422500,799900,291800,297100,698000,315000,278000,319000,291800,256500,320000,595000,640000,367500,360000],\"xaxis\":\"x\",\"y\":[185.44845581054688,185.3803253173828,181.19879150390625,176.6163330078125,156.50143432617188,156.13809204101562,141.79800415039062,132.81361389160156,189.48806762695312,167.2458038330078,167.7678985595703,186.72103881835938,153.9907684326172,155.91848754882812,189.187744140625,126.17704772949219,149.56527709960938,177.49908447265625,105.64817810058594,177.47633361816406,177.475341796875,111.13287353515625,181.21694946289062,129.17117309570312,127.89021301269531,171.947998046875,143.69985961914062,144.77655029296875,193.79933166503906,171.4083251953125,170.14752197265625,130.6915740966797,189.24224853515625,171.88726806640625,138.92684936523438,131.4341278076172,173.44674682617188,165.74073791503906,137.58090209960938,172.52532958984375,191.97384643554688,177.49118041992188,171.04974365234375,167.8177947998047,170.32962036132812,194.20840454101562,119.69914245605469,155.11172485351562,167.17742919921875,186.4962158203125,157.072265625,172.51150512695312,170.53289794921875,183.04306030273438,118.49136352539062,179.813720703125,126.63690185546875,185.70834350585938,158.30709838867188,185.24658203125,173.73745727539062,147.30641174316406,186.094970703125,164.5223388671875,187.62977600097656,158.04931640625,183.7908477783203,177.52679443359375,183.35537719726562,154.93939208984375,112.95249938964844,152.24453735351562,180.1191864013672,128.3056640625,168.11825561523438,180.5333251953125,129.1135711669922,162.0170440673828,109.52224731445312,192.85214233398438,190.3991241455078,182.49581909179688,174.89682006835938,139.04098510742188,126.03738403320312,158.629150390625,189.3275146484375,177.52426147460938,163.19882202148438,189.35165405273438,158.50604248046875,169.13372802734375,150.85000610351562,184.83251953125,159.98269653320312,150.39572143554688,172.34971618652344,152.92251586914062,190.253662109375,111.89817810058594,159.71270751953125,183.8572998046875,149.31651306152344,186.5856170654297,174.14425659179688,138.67138671875,149.9678192138672,126.91603088378906,89.30307006835938,149.19146728515625,185.80006408691406,168.8014678955078,156.49435424804688,157.34100341796875,157.66818237304688,157.298095703125,140.1378173828125,185.80006408691406,155.989013671875,144.36834716796875,176.71578979492188,170.49342346191406,136.674072265625,153.02023315429688,177.47633361816406,177.49118041992188,177.77545166015625,149.20401000976562,143.647705078125,144.5183563232422,156.0142822265625,155.87074279785156,155.8563232421875,157.09841918945312,157.1270751953125,190.17483520507812,170.46572875976562,170.358154296875,170.358154296875,170.46572875976562,159.2726287841797,189.24990844726562,129.25115966796875,133.086181640625,157.06973266601562,155.863525390625,157.05535888671875,158.2011260986328,157.08407592773438,156.14903259277344,152.6869659423828,153.9478759765625,176.30162048339844,173.4920654296875,168.32786560058594,155.9820556640625,115.01123046875,176.6163330078125,157.3338623046875,152.2502899169922,157.3267364501953,122.51210021972656,169.6152801513672,169.5301055908203,169.5362091064453,154.99078369140625,167.9310302734375,167.96458435058594,167.91421508789062,169.64561462402344,169.5727081298828,175.6697235107422,175.54312133789062,171.537353515625,189.28692626953125,183.01803588867188,175.59132385253906,122.45240020751953,121.16815185546875,122.45240020751953,177.49118041992188,131.85101318359375,156.6798095703125,160.47244262695312,189.2461700439453,183.07354736328125,168.51687622070312],\"yaxis\":\"y\",\"type\":\"scatter\"}],                        {\"template\":{\"data\":{\"histogram2dcontour\":[{\"type\":\"histogram2dcontour\",\"colorbar\":{\"outlinewidth\":0,\"ticks\":\"\"},\"colorscale\":[[0.0,\"#0d0887\"],[0.1111111111111111,\"#46039f\"],[0.2222222222222222,\"#7201a8\"],[0.3333333333333333,\"#9c179e\"],[0.4444444444444444,\"#bd3786\"],[0.5555555555555556,\"#d8576b\"],[0.6666666666666666,\"#ed7953\"],[0.7777777777777778,\"#fb9f3a\"],[0.8888888888888888,\"#fdca26\"],[1.0,\"#f0f921\"]]}],\"choropleth\":[{\"type\":\"choropleth\",\"colorbar\":{\"outlinewidth\":0,\"ticks\":\"\"}}],\"histogram2d\":[{\"type\":\"histogram2d\",\"colorbar\":{\"outlinewidth\":0,\"ticks\":\"\"},\"colorscale\":[[0.0,\"#0d0887\"],[0.1111111111111111,\"#46039f\"],[0.2222222222222222,\"#7201a8\"],[0.3333333333333333,\"#9c179e\"],[0.4444444444444444,\"#bd3786\"],[0.5555555555555556,\"#d8576b\"],[0.6666666666666666,\"#ed7953\"],[0.7777777777777778,\"#fb9f3a\"],[0.8888888888888888,\"#fdca26\"],[1.0,\"#f0f921\"]]}],\"heatmap\":[{\"type\":\"heatmap\",\"colorbar\":{\"outlinewidth\":0,\"ticks\":\"\"},\"colorscale\":[[0.0,\"#0d0887\"],[0.1111111111111111,\"#46039f\"],[0.2222222222222222,\"#7201a8\"],[0.3333333333333333,\"#9c179e\"],[0.4444444444444444,\"#bd3786\"],[0.5555555555555556,\"#d8576b\"],[0.6666666666666666,\"#ed7953\"],[0.7777777777777778,\"#fb9f3a\"],[0.8888888888888888,\"#fdca26\"],[1.0,\"#f0f921\"]]}],\"heatmapgl\":[{\"type\":\"heatmapgl\",\"colorbar\":{\"outlinewidth\":0,\"ticks\":\"\"},\"colorscale\":[[0.0,\"#0d0887\"],[0.1111111111111111,\"#46039f\"],[0.2222222222222222,\"#7201a8\"],[0.3333333333333333,\"#9c179e\"],[0.4444444444444444,\"#bd3786\"],[0.5555555555555556,\"#d8576b\"],[0.6666666666666666,\"#ed7953\"],[0.7777777777777778,\"#fb9f3a\"],[0.8888888888888888,\"#fdca26\"],[1.0,\"#f0f921\"]]}],\"contourcarpet\":[{\"type\":\"contourcarpet\",\"colorbar\":{\"outlinewidth\":0,\"ticks\":\"\"}}],\"contour\":[{\"type\":\"contour\",\"colorbar\":{\"outlinewidth\":0,\"ticks\":\"\"},\"colorscale\":[[0.0,\"#0d0887\"],[0.1111111111111111,\"#46039f\"],[0.2222222222222222,\"#7201a8\"],[0.3333333333333333,\"#9c179e\"],[0.4444444444444444,\"#bd3786\"],[0.5555555555555556,\"#d8576b\"],[0.6666666666666666,\"#ed7953\"],[0.7777777777777778,\"#fb9f3a\"],[0.8888888888888888,\"#fdca26\"],[1.0,\"#f0f921\"]]}],\"surface\":[{\"type\":\"surface\",\"colorbar\":{\"outlinewidth\":0,\"ticks\":\"\"},\"colorscale\":[[0.0,\"#0d0887\"],[0.1111111111111111,\"#46039f\"],[0.2222222222222222,\"#7201a8\"],[0.3333333333333333,\"#9c179e\"],[0.4444444444444444,\"#bd3786\"],[0.5555555555555556,\"#d8576b\"],[0.6666666666666666,\"#ed7953\"],[0.7777777777777778,\"#fb9f3a\"],[0.8888888888888888,\"#fdca26\"],[1.0,\"#f0f921\"]]}],\"mesh3d\":[{\"type\":\"mesh3d\",\"colorbar\":{\"outlinewidth\":0,\"ticks\":\"\"}}],\"scatter\":[{\"fillpattern\":{\"fillmode\":\"overlay\",\"size\":10,\"solidity\":0.2},\"type\":\"scatter\"}],\"parcoords\":[{\"type\":\"parcoords\",\"line\":{\"colorbar\":{\"outlinewidth\":0,\"ticks\":\"\"}}}],\"scatterpolargl\":[{\"type\":\"scatterpolargl\",\"marker\":{\"colorbar\":{\"outlinewidth\":0,\"ticks\":\"\"}}}],\"bar\":[{\"error_x\":{\"color\":\"#2a3f5f\"},\"error_y\":{\"color\":\"#2a3f5f\"},\"marker\":{\"line\":{\"color\":\"#E5ECF6\",\"width\":0.5},\"pattern\":{\"fillmode\":\"overlay\",\"size\":10,\"solidity\":0.2}},\"type\":\"bar\"}],\"scattergeo\":[{\"type\":\"scattergeo\",\"marker\":{\"colorbar\":{\"outlinewidth\":0,\"ticks\":\"\"}}}],\"scatterpolar\":[{\"type\":\"scatterpolar\",\"marker\":{\"colorbar\":{\"outlinewidth\":0,\"ticks\":\"\"}}}],\"histogram\":[{\"marker\":{\"pattern\":{\"fillmode\":\"overlay\",\"size\":10,\"solidity\":0.2}},\"type\":\"histogram\"}],\"scattergl\":[{\"type\":\"scattergl\",\"marker\":{\"colorbar\":{\"outlinewidth\":0,\"ticks\":\"\"}}}],\"scatter3d\":[{\"type\":\"scatter3d\",\"line\":{\"colorbar\":{\"outlinewidth\":0,\"ticks\":\"\"}},\"marker\":{\"colorbar\":{\"outlinewidth\":0,\"ticks\":\"\"}}}],\"scattermapbox\":[{\"type\":\"scattermapbox\",\"marker\":{\"colorbar\":{\"outlinewidth\":0,\"ticks\":\"\"}}}],\"scatterternary\":[{\"type\":\"scatterternary\",\"marker\":{\"colorbar\":{\"outlinewidth\":0,\"ticks\":\"\"}}}],\"scattercarpet\":[{\"type\":\"scattercarpet\",\"marker\":{\"colorbar\":{\"outlinewidth\":0,\"ticks\":\"\"}}}],\"carpet\":[{\"aaxis\":{\"endlinecolor\":\"#2a3f5f\",\"gridcolor\":\"white\",\"linecolor\":\"white\",\"minorgridcolor\":\"white\",\"startlinecolor\":\"#2a3f5f\"},\"baxis\":{\"endlinecolor\":\"#2a3f5f\",\"gridcolor\":\"white\",\"linecolor\":\"white\",\"minorgridcolor\":\"white\",\"startlinecolor\":\"#2a3f5f\"},\"type\":\"carpet\"}],\"table\":[{\"cells\":{\"fill\":{\"color\":\"#EBF0F8\"},\"line\":{\"color\":\"white\"}},\"header\":{\"fill\":{\"color\":\"#C8D4E3\"},\"line\":{\"color\":\"white\"}},\"type\":\"table\"}],\"barpolar\":[{\"marker\":{\"line\":{\"color\":\"#E5ECF6\",\"width\":0.5},\"pattern\":{\"fillmode\":\"overlay\",\"size\":10,\"solidity\":0.2}},\"type\":\"barpolar\"}],\"pie\":[{\"automargin\":true,\"type\":\"pie\"}]},\"layout\":{\"autotypenumbers\":\"strict\",\"colorway\":[\"#636efa\",\"#EF553B\",\"#00cc96\",\"#ab63fa\",\"#FFA15A\",\"#19d3f3\",\"#FF6692\",\"#B6E880\",\"#FF97FF\",\"#FECB52\"],\"font\":{\"color\":\"#2a3f5f\"},\"hovermode\":\"closest\",\"hoverlabel\":{\"align\":\"left\"},\"paper_bgcolor\":\"white\",\"plot_bgcolor\":\"#E5ECF6\",\"polar\":{\"bgcolor\":\"#E5ECF6\",\"angularaxis\":{\"gridcolor\":\"white\",\"linecolor\":\"white\",\"ticks\":\"\"},\"radialaxis\":{\"gridcolor\":\"white\",\"linecolor\":\"white\",\"ticks\":\"\"}},\"ternary\":{\"bgcolor\":\"#E5ECF6\",\"aaxis\":{\"gridcolor\":\"white\",\"linecolor\":\"white\",\"ticks\":\"\"},\"baxis\":{\"gridcolor\":\"white\",\"linecolor\":\"white\",\"ticks\":\"\"},\"caxis\":{\"gridcolor\":\"white\",\"linecolor\":\"white\",\"ticks\":\"\"}},\"coloraxis\":{\"colorbar\":{\"outlinewidth\":0,\"ticks\":\"\"}},\"colorscale\":{\"sequential\":[[0.0,\"#0d0887\"],[0.1111111111111111,\"#46039f\"],[0.2222222222222222,\"#7201a8\"],[0.3333333333333333,\"#9c179e\"],[0.4444444444444444,\"#bd3786\"],[0.5555555555555556,\"#d8576b\"],[0.6666666666666666,\"#ed7953\"],[0.7777777777777778,\"#fb9f3a\"],[0.8888888888888888,\"#fdca26\"],[1.0,\"#f0f921\"]],\"sequentialminus\":[[0.0,\"#0d0887\"],[0.1111111111111111,\"#46039f\"],[0.2222222222222222,\"#7201a8\"],[0.3333333333333333,\"#9c179e\"],[0.4444444444444444,\"#bd3786\"],[0.5555555555555556,\"#d8576b\"],[0.6666666666666666,\"#ed7953\"],[0.7777777777777778,\"#fb9f3a\"],[0.8888888888888888,\"#fdca26\"],[1.0,\"#f0f921\"]],\"diverging\":[[0,\"#8e0152\"],[0.1,\"#c51b7d\"],[0.2,\"#de77ae\"],[0.3,\"#f1b6da\"],[0.4,\"#fde0ef\"],[0.5,\"#f7f7f7\"],[0.6,\"#e6f5d0\"],[0.7,\"#b8e186\"],[0.8,\"#7fbc41\"],[0.9,\"#4d9221\"],[1,\"#276419\"]]},\"xaxis\":{\"gridcolor\":\"white\",\"linecolor\":\"white\",\"ticks\":\"\",\"title\":{\"standoff\":15},\"zerolinecolor\":\"white\",\"automargin\":true,\"zerolinewidth\":2},\"yaxis\":{\"gridcolor\":\"white\",\"linecolor\":\"white\",\"ticks\":\"\",\"title\":{\"standoff\":15},\"zerolinecolor\":\"white\",\"automargin\":true,\"zerolinewidth\":2},\"scene\":{\"xaxis\":{\"backgroundcolor\":\"#E5ECF6\",\"gridcolor\":\"white\",\"linecolor\":\"white\",\"showbackground\":true,\"ticks\":\"\",\"zerolinecolor\":\"white\",\"gridwidth\":2},\"yaxis\":{\"backgroundcolor\":\"#E5ECF6\",\"gridcolor\":\"white\",\"linecolor\":\"white\",\"showbackground\":true,\"ticks\":\"\",\"zerolinecolor\":\"white\",\"gridwidth\":2},\"zaxis\":{\"backgroundcolor\":\"#E5ECF6\",\"gridcolor\":\"white\",\"linecolor\":\"white\",\"showbackground\":true,\"ticks\":\"\",\"zerolinecolor\":\"white\",\"gridwidth\":2}},\"shapedefaults\":{\"line\":{\"color\":\"#2a3f5f\"}},\"annotationdefaults\":{\"arrowcolor\":\"#2a3f5f\",\"arrowhead\":0,\"arrowwidth\":1},\"geo\":{\"bgcolor\":\"white\",\"landcolor\":\"#E5ECF6\",\"subunitcolor\":\"white\",\"showland\":true,\"showlakes\":true,\"lakecolor\":\"white\"},\"title\":{\"x\":0.05},\"mapbox\":{\"style\":\"light\"}}},\"xaxis\":{\"anchor\":\"y\",\"domain\":[0.0,1.0],\"title\":{\"text\":\"price\"}},\"yaxis\":{\"anchor\":\"x\",\"domain\":[0.0,1.0],\"title\":{\"text\":\"price_pred\"}},\"legend\":{\"tracegroupgap\":0},\"title\":{\"text\":\"Gr\\u00e1fica de los precios reales vs los precios predichos \"}},                        {\"responsive\": true}                    ).then(function(){\n",
       "                            \n",
       "var gd = document.getElementById('c4dfe41b-ad20-4015-a31d-18576cf4fc3f');\n",
       "var x = new MutationObserver(function (mutations, observer) {{\n",
       "        var display = window.getComputedStyle(gd).display;\n",
       "        if (!display || display === 'none') {{\n",
       "            console.log([gd, 'removed!']);\n",
       "            Plotly.purge(gd);\n",
       "            observer.disconnect();\n",
       "        }}\n",
       "}});\n",
       "\n",
       "// Listen for the removal of the full notebook cells\n",
       "var notebookContainer = gd.closest('#notebook-container');\n",
       "if (notebookContainer) {{\n",
       "    x.observe(notebookContainer, {childList: true});\n",
       "}}\n",
       "\n",
       "// Listen for the clearing of the current output cell\n",
       "var outputEl = gd.closest('.output');\n",
       "if (outputEl) {{\n",
       "    x.observe(outputEl, {childList: true});\n",
       "}}\n",
       "\n",
       "                        })                };                });            </script>        </div>"
      ]
     },
     "metadata": {},
     "output_type": "display_data"
    }
   ],
   "source": [
    "evol_train = pd.DataFrame(history.history)\n",
    "evol_train['epoch'] = history.epoch\n",
    "\n",
    "trace1 = go.Scatter(x=evol_train['epoch'], y=evol_train['mae'], mode='lines',name='mae')\n",
    "trace2 = go.Scatter(x=evol_train['epoch'], y=evol_train['val_mae'], mode='lines',name='val_mae')\n",
    "\n",
    "trace3 = go.Scatter(x=evol_train['epoch'], y=evol_train['mse'], mode='lines',name='mse')\n",
    "trace4 = go.Scatter(x=evol_train['epoch'], y=evol_train['val_mse'], mode='lines',name='val_mse')\n",
    "\n",
    "fig = make_subplots(rows=1,cols=2)\n",
    "fig.add_trace(trace1,row=1,col=1)\n",
    "fig.add_trace(trace2,row=1,col=1)\n",
    "\n",
    "fig.add_trace(trace3,row=1,col=2)\n",
    "fig.add_trace(trace4,row=1,col=2)\n",
    "\n",
    "fig.update_layout(title_text=\"Gráficas de MAE y MSE vs Época\")\n",
    "fig.show()\n",
    "\n",
    "data3['price_pred'] = model.predict(x)\n",
    "px.scatter(data3,x='price',y='price_pred',title='Gráfica de los precios reales vs los precios predichos ')"
   ]
  },
  {
   "cell_type": "code",
   "execution_count": 277,
   "metadata": {},
   "outputs": [
    {
     "name": "stdout",
     "output_type": "stream",
     "text": [
      "5/5 [==============================] - 0s 4ms/step\n",
      "2/2 [==============================] - 0s 12ms/step\n"
     ]
    },
    {
     "data": {
      "text/html": [
       "<div>\n",
       "<style scoped>\n",
       "    .dataframe tbody tr th:only-of-type {\n",
       "        vertical-align: middle;\n",
       "    }\n",
       "\n",
       "    .dataframe tbody tr th {\n",
       "        vertical-align: top;\n",
       "    }\n",
       "\n",
       "    .dataframe thead th {\n",
       "        text-align: right;\n",
       "    }\n",
       "</style>\n",
       "<table border=\"1\" class=\"dataframe\">\n",
       "  <thead>\n",
       "    <tr style=\"text-align: right;\">\n",
       "      <th></th>\n",
       "      <th>Modelo</th>\n",
       "      <th>Detalles</th>\n",
       "      <th>R2 train</th>\n",
       "      <th>R2 test</th>\n",
       "      <th>MAE train</th>\n",
       "      <th>MAE test</th>\n",
       "    </tr>\n",
       "  </thead>\n",
       "  <tbody>\n",
       "    <tr>\n",
       "      <th>0</th>\n",
       "      <td>Regresión Lineal</td>\n",
       "      <td>Sin procesar</td>\n",
       "      <td>0.7950</td>\n",
       "      <td>0.6760</td>\n",
       "      <td>119802.734620</td>\n",
       "      <td>9.829924e+04</td>\n",
       "    </tr>\n",
       "    <tr>\n",
       "      <th>1</th>\n",
       "      <td>Regresión Lineal</td>\n",
       "      <td>Sin procesar / Sin outliers</td>\n",
       "      <td>0.7732</td>\n",
       "      <td>0.8412</td>\n",
       "      <td>66998.346234</td>\n",
       "      <td>4.944290e+04</td>\n",
       "    </tr>\n",
       "    <tr>\n",
       "      <th>2</th>\n",
       "      <td>Regresión Lineal</td>\n",
       "      <td>Datos escalados</td>\n",
       "      <td>0.8865</td>\n",
       "      <td>0.5795</td>\n",
       "      <td>95919.135341</td>\n",
       "      <td>1.820845e+05</td>\n",
       "    </tr>\n",
       "    <tr>\n",
       "      <th>3</th>\n",
       "      <td>Regresión Lineal</td>\n",
       "      <td>Datos escalados / Sin outliers</td>\n",
       "      <td>0.8120</td>\n",
       "      <td>0.5950</td>\n",
       "      <td>58506.723803</td>\n",
       "      <td>9.033420e+04</td>\n",
       "    </tr>\n",
       "    <tr>\n",
       "      <th>4</th>\n",
       "      <td>Regresión Polinómica</td>\n",
       "      <td>Sin procesar / Grado 3</td>\n",
       "      <td>0.8551</td>\n",
       "      <td>-0.4478</td>\n",
       "      <td>120047.791055</td>\n",
       "      <td>4.665632e+05</td>\n",
       "    </tr>\n",
       "    <tr>\n",
       "      <th>5</th>\n",
       "      <td>Regresión Polinómica</td>\n",
       "      <td>Sin procesar / Grado 3 / Sin outliers</td>\n",
       "      <td>0.9760</td>\n",
       "      <td>-6046.9840</td>\n",
       "      <td>20157.810608</td>\n",
       "      <td>4.291520e+06</td>\n",
       "    </tr>\n",
       "    <tr>\n",
       "      <th>6</th>\n",
       "      <td>SVM</td>\n",
       "      <td>Sin procesar / linear</td>\n",
       "      <td>0.7578</td>\n",
       "      <td>0.7238</td>\n",
       "      <td>109009.758699</td>\n",
       "      <td>1.250306e+05</td>\n",
       "    </tr>\n",
       "    <tr>\n",
       "      <th>7</th>\n",
       "      <td>SVM</td>\n",
       "      <td>Sin procesar / poly</td>\n",
       "      <td>-0.1039</td>\n",
       "      <td>-0.0611</td>\n",
       "      <td>231480.247148</td>\n",
       "      <td>2.897273e+05</td>\n",
       "    </tr>\n",
       "    <tr>\n",
       "      <th>8</th>\n",
       "      <td>SVM</td>\n",
       "      <td>Sin procesar / rbf</td>\n",
       "      <td>-0.1061</td>\n",
       "      <td>-0.0742</td>\n",
       "      <td>268957.663998</td>\n",
       "      <td>2.110845e+05</td>\n",
       "    </tr>\n",
       "    <tr>\n",
       "      <th>9</th>\n",
       "      <td>SVM</td>\n",
       "      <td>Sin procesar / sigmoid</td>\n",
       "      <td>-0.1190</td>\n",
       "      <td>-0.0969</td>\n",
       "      <td>271096.466764</td>\n",
       "      <td>2.038353e+05</td>\n",
       "    </tr>\n",
       "    <tr>\n",
       "      <th>10</th>\n",
       "      <td>SVM</td>\n",
       "      <td>Sin procesar / linear / Sin outliers</td>\n",
       "      <td>0.7019</td>\n",
       "      <td>0.5835</td>\n",
       "      <td>69583.618900</td>\n",
       "      <td>8.941037e+04</td>\n",
       "    </tr>\n",
       "    <tr>\n",
       "      <th>11</th>\n",
       "      <td>SVM</td>\n",
       "      <td>Sin procesar / poly / Sin outliers</td>\n",
       "      <td>-0.1059</td>\n",
       "      <td>-0.0840</td>\n",
       "      <td>138557.717042</td>\n",
       "      <td>1.238412e+05</td>\n",
       "    </tr>\n",
       "    <tr>\n",
       "      <th>12</th>\n",
       "      <td>SVM</td>\n",
       "      <td>Sin procesar / rbf / Sin outliers</td>\n",
       "      <td>-0.1151</td>\n",
       "      <td>-0.0764</td>\n",
       "      <td>132349.562010</td>\n",
       "      <td>1.393468e+05</td>\n",
       "    </tr>\n",
       "    <tr>\n",
       "      <th>13</th>\n",
       "      <td>SVM</td>\n",
       "      <td>Sin procesar / sigmoid / Sin outliers</td>\n",
       "      <td>-0.1374</td>\n",
       "      <td>-0.0312</td>\n",
       "      <td>140139.711248</td>\n",
       "      <td>1.214014e+05</td>\n",
       "    </tr>\n",
       "    <tr>\n",
       "      <th>14</th>\n",
       "      <td>SVM</td>\n",
       "      <td>Datos escalados / linear</td>\n",
       "      <td>-0.1038</td>\n",
       "      <td>-0.1172</td>\n",
       "      <td>261136.479180</td>\n",
       "      <td>2.269127e+05</td>\n",
       "    </tr>\n",
       "    <tr>\n",
       "      <th>15</th>\n",
       "      <td>SVM</td>\n",
       "      <td>Datos escalados / poly</td>\n",
       "      <td>-0.1283</td>\n",
       "      <td>-0.0795</td>\n",
       "      <td>281080.720470</td>\n",
       "      <td>1.808701e+05</td>\n",
       "    </tr>\n",
       "    <tr>\n",
       "      <th>16</th>\n",
       "      <td>SVM</td>\n",
       "      <td>Datos escalados / rbf</td>\n",
       "      <td>-0.0844</td>\n",
       "      <td>-0.1970</td>\n",
       "      <td>242877.771555</td>\n",
       "      <td>2.684446e+05</td>\n",
       "    </tr>\n",
       "    <tr>\n",
       "      <th>17</th>\n",
       "      <td>SVM</td>\n",
       "      <td>Datos escalados / sigmoid</td>\n",
       "      <td>-0.1009</td>\n",
       "      <td>-0.2544</td>\n",
       "      <td>244309.103330</td>\n",
       "      <td>2.647312e+05</td>\n",
       "    </tr>\n",
       "    <tr>\n",
       "      <th>18</th>\n",
       "      <td>SVM</td>\n",
       "      <td>Datos escalados / linear / Sin outliers</td>\n",
       "      <td>-0.1102</td>\n",
       "      <td>-0.0758</td>\n",
       "      <td>135106.850626</td>\n",
       "      <td>1.330802e+05</td>\n",
       "    </tr>\n",
       "    <tr>\n",
       "      <th>19</th>\n",
       "      <td>SVM</td>\n",
       "      <td>Datos escalados / poly / Sin outliers</td>\n",
       "      <td>-0.0874</td>\n",
       "      <td>-0.1362</td>\n",
       "      <td>125869.129555</td>\n",
       "      <td>1.542681e+05</td>\n",
       "    </tr>\n",
       "    <tr>\n",
       "      <th>20</th>\n",
       "      <td>SVM</td>\n",
       "      <td>Datos escalados / rbf / Sin outliers</td>\n",
       "      <td>-0.1227</td>\n",
       "      <td>-0.0007</td>\n",
       "      <td>153685.038055</td>\n",
       "      <td>9.358333e+04</td>\n",
       "    </tr>\n",
       "    <tr>\n",
       "      <th>21</th>\n",
       "      <td>SVM</td>\n",
       "      <td>Datos escalados / sigmoid / Sin outliers</td>\n",
       "      <td>-0.1156</td>\n",
       "      <td>-0.0819</td>\n",
       "      <td>139775.837525</td>\n",
       "      <td>1.219450e+05</td>\n",
       "    </tr>\n",
       "    <tr>\n",
       "      <th>22</th>\n",
       "      <td>Árbol de regresión</td>\n",
       "      <td>Sin procesar</td>\n",
       "      <td>0.6759</td>\n",
       "      <td>0.4010</td>\n",
       "      <td>117460.703980</td>\n",
       "      <td>1.220116e+05</td>\n",
       "    </tr>\n",
       "    <tr>\n",
       "      <th>23</th>\n",
       "      <td>Árbol de regresión</td>\n",
       "      <td>Sin procesar / Sin outliers</td>\n",
       "      <td>0.7823</td>\n",
       "      <td>0.4010</td>\n",
       "      <td>61217.956672</td>\n",
       "      <td>6.136387e+04</td>\n",
       "    </tr>\n",
       "    <tr>\n",
       "      <th>24</th>\n",
       "      <td>Árbol de regresión</td>\n",
       "      <td>Datos escalados</td>\n",
       "      <td>0.6149</td>\n",
       "      <td>0.4010</td>\n",
       "      <td>118885.524864</td>\n",
       "      <td>1.276302e+05</td>\n",
       "    </tr>\n",
       "    <tr>\n",
       "      <th>25</th>\n",
       "      <td>Árbol de regresión</td>\n",
       "      <td>Datos escalados / Sin outliers</td>\n",
       "      <td>0.7534</td>\n",
       "      <td>0.4010</td>\n",
       "      <td>88861.161242</td>\n",
       "      <td>1.887714e+05</td>\n",
       "    </tr>\n",
       "    <tr>\n",
       "      <th>26</th>\n",
       "      <td>ANN</td>\n",
       "      <td>Datos escalados</td>\n",
       "      <td>-0.796685</td>\n",
       "      <td>-1.534592</td>\n",
       "      <td>476972.067139</td>\n",
       "      <td>5.058110e+05</td>\n",
       "    </tr>\n",
       "  </tbody>\n",
       "</table>\n",
       "</div>"
      ],
      "text/plain": [
       "                  Modelo                                  Detalles  R2 train  \\\n",
       "0       Regresión Lineal                              Sin procesar    0.7950   \n",
       "1       Regresión Lineal               Sin procesar / Sin outliers    0.7732   \n",
       "2       Regresión Lineal                           Datos escalados    0.8865   \n",
       "3       Regresión Lineal            Datos escalados / Sin outliers    0.8120   \n",
       "4   Regresión Polinómica                    Sin procesar / Grado 3    0.8551   \n",
       "5   Regresión Polinómica     Sin procesar / Grado 3 / Sin outliers    0.9760   \n",
       "6                    SVM                     Sin procesar / linear    0.7578   \n",
       "7                    SVM                       Sin procesar / poly   -0.1039   \n",
       "8                    SVM                        Sin procesar / rbf   -0.1061   \n",
       "9                    SVM                    Sin procesar / sigmoid   -0.1190   \n",
       "10                   SVM      Sin procesar / linear / Sin outliers    0.7019   \n",
       "11                   SVM        Sin procesar / poly / Sin outliers   -0.1059   \n",
       "12                   SVM         Sin procesar / rbf / Sin outliers   -0.1151   \n",
       "13                   SVM     Sin procesar / sigmoid / Sin outliers   -0.1374   \n",
       "14                   SVM                  Datos escalados / linear   -0.1038   \n",
       "15                   SVM                    Datos escalados / poly   -0.1283   \n",
       "16                   SVM                     Datos escalados / rbf   -0.0844   \n",
       "17                   SVM                 Datos escalados / sigmoid   -0.1009   \n",
       "18                   SVM   Datos escalados / linear / Sin outliers   -0.1102   \n",
       "19                   SVM     Datos escalados / poly / Sin outliers   -0.0874   \n",
       "20                   SVM      Datos escalados / rbf / Sin outliers   -0.1227   \n",
       "21                   SVM  Datos escalados / sigmoid / Sin outliers   -0.1156   \n",
       "22    Árbol de regresión                              Sin procesar    0.6759   \n",
       "23    Árbol de regresión               Sin procesar / Sin outliers    0.7823   \n",
       "24    Árbol de regresión                           Datos escalados    0.6149   \n",
       "25    Árbol de regresión            Datos escalados / Sin outliers    0.7534   \n",
       "26                   ANN                           Datos escalados -0.796685   \n",
       "\n",
       "       R2 test      MAE train      MAE test  \n",
       "0       0.6760  119802.734620  9.829924e+04  \n",
       "1       0.8412   66998.346234  4.944290e+04  \n",
       "2       0.5795   95919.135341  1.820845e+05  \n",
       "3       0.5950   58506.723803  9.033420e+04  \n",
       "4      -0.4478  120047.791055  4.665632e+05  \n",
       "5   -6046.9840   20157.810608  4.291520e+06  \n",
       "6       0.7238  109009.758699  1.250306e+05  \n",
       "7      -0.0611  231480.247148  2.897273e+05  \n",
       "8      -0.0742  268957.663998  2.110845e+05  \n",
       "9      -0.0969  271096.466764  2.038353e+05  \n",
       "10      0.5835   69583.618900  8.941037e+04  \n",
       "11     -0.0840  138557.717042  1.238412e+05  \n",
       "12     -0.0764  132349.562010  1.393468e+05  \n",
       "13     -0.0312  140139.711248  1.214014e+05  \n",
       "14     -0.1172  261136.479180  2.269127e+05  \n",
       "15     -0.0795  281080.720470  1.808701e+05  \n",
       "16     -0.1970  242877.771555  2.684446e+05  \n",
       "17     -0.2544  244309.103330  2.647312e+05  \n",
       "18     -0.0758  135106.850626  1.330802e+05  \n",
       "19     -0.1362  125869.129555  1.542681e+05  \n",
       "20     -0.0007  153685.038055  9.358333e+04  \n",
       "21     -0.0819  139775.837525  1.219450e+05  \n",
       "22      0.4010  117460.703980  1.220116e+05  \n",
       "23      0.4010   61217.956672  6.136387e+04  \n",
       "24      0.4010  118885.524864  1.276302e+05  \n",
       "25      0.4010   88861.161242  1.887714e+05  \n",
       "26   -1.534592  476972.067139  5.058110e+05  "
      ]
     },
     "execution_count": 277,
     "metadata": {},
     "output_type": "execute_result"
    }
   ],
   "source": [
    "from sklearn.metrics import r2_score\n",
    "y_pred_train = model.predict(x_train)\n",
    "y_pred_test = model.predict(x_test)\n",
    "\n",
    "r2_train = r2_score(y_train,y_pred_train)\n",
    "r2_test = r2_score(y_test,y_pred_test)\n",
    "\n",
    "MAE_TRAIN,MAE_TEST = error_gen(y_train,y_pred_train[:,0],y_test,y_pred_test[:,0])\n",
    "\n",
    "final = resultados.shape[0]\n",
    "resultados.loc[final] = ['ANN','Datos escalados',r2_train,r2_test,MAE_TRAIN,MAE_TEST]\n",
    "resultados"
   ]
  },
  {
   "cell_type": "markdown",
   "metadata": {},
   "source": [
    "Guardamos la tabla de evaluaciones obtenida:"
   ]
  },
  {
   "cell_type": "code",
   "execution_count": 278,
   "metadata": {},
   "outputs": [],
   "source": [
    "resultados.to_csv('../data/tabla_resultados_evaluaciones_modelos.csv', index=False)"
   ]
  },
  {
   "cell_type": "code",
   "execution_count": null,
   "metadata": {},
   "outputs": [],
   "source": []
  },
  {
   "cell_type": "code",
   "execution_count": null,
   "metadata": {},
   "outputs": [],
   "source": []
  }
 ],
 "metadata": {
  "kernelspec": {
   "display_name": "Python 3 (ipykernel)",
   "language": "python",
   "name": "python3"
  },
  "language_info": {
   "codemirror_mode": {
    "name": "ipython",
    "version": 3
   },
   "file_extension": ".py",
   "mimetype": "text/x-python",
   "name": "python",
   "nbconvert_exporter": "python",
   "pygments_lexer": "ipython3",
   "version": "3.10.9"
  }
 },
 "nbformat": 4,
 "nbformat_minor": 4
}
