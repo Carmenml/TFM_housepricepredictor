{
 "cells": [
  {
   "cell_type": "code",
   "execution_count": 1,
   "id": "43e927a9-7ebb-4986-a5ed-3c545286bf35",
   "metadata": {},
   "outputs": [],
   "source": [
    "import pandas as pd"
   ]
  },
  {
   "cell_type": "code",
   "execution_count": 2,
   "id": "20da2d70-4624-4cdb-ba3d-b888aecfd41c",
   "metadata": {},
   "outputs": [],
   "source": [
    "%store -r features\n",
    "%store -r target"
   ]
  },
  {
   "cell_type": "markdown",
   "id": "7f21f087-f68a-4d10-9b7e-81be93a745b3",
   "metadata": {},
   "source": [
    "#### **Guardamos variables para el dataset sin Outliers**"
   ]
  },
  {
   "cell_type": "code",
   "execution_count": 3,
   "id": "b96a060f-c4e6-4023-9f44-fc0f719c36cf",
   "metadata": {},
   "outputs": [],
   "source": [
    "file_path = \"../data/data_model_churriana_without_outliers.csv\"\n",
    "data_without_outliers = pd.read_csv(file_path, index_col = 0)"
   ]
  },
  {
   "cell_type": "code",
   "execution_count": 4,
   "id": "631d1683-a97d-4648-a1de-1f53c3633865",
   "metadata": {},
   "outputs": [],
   "source": [
    "import sklearn\n",
    "from sklearn.model_selection import train_test_split\n",
    "\n",
    "features = data_without_outliers.drop('price',axis=1)\n",
    "target = data_without_outliers['price']    \n",
    "\n",
    "\n",
    "features_train1,features_test1,target_train1,target_test1 = train_test_split(features,target,test_size=0.2)\n",
    "\n",
    "#Guardamos variables en el store para poder llamarlas y usarlas en otros notebooks."
   ]
  },
  {
   "cell_type": "code",
   "execution_count": 5,
   "id": "9f53c1ca-fea5-48cf-992e-a942b3610fda",
   "metadata": {},
   "outputs": [
    {
     "name": "stdout",
     "output_type": "stream",
     "text": [
      "Stored 'features_train1' (DataFrame)\n",
      "Stored 'features_test1' (DataFrame)\n",
      "Stored 'target_train1' (Series)\n",
      "Stored 'target_test1' (Series)\n"
     ]
    }
   ],
   "source": [
    "%store features_train1\n",
    "%store features_test1\n",
    "%store target_train1\n",
    "%store target_test1"
   ]
  },
  {
   "cell_type": "code",
   "execution_count": null,
   "id": "3811ead2-670a-4f78-a6b6-54416d483040",
   "metadata": {},
   "outputs": [],
   "source": []
  }
 ],
 "metadata": {
  "kernelspec": {
   "display_name": "Python 3 (ipykernel)",
   "language": "python",
   "name": "python3"
  },
  "language_info": {
   "codemirror_mode": {
    "name": "ipython",
    "version": 3
   },
   "file_extension": ".py",
   "mimetype": "text/x-python",
   "name": "python",
   "nbconvert_exporter": "python",
   "pygments_lexer": "ipython3",
   "version": "3.10.9"
  }
 },
 "nbformat": 4,
 "nbformat_minor": 5
}
