{
 "cells": [
  {
   "cell_type": "markdown",
   "id": "05e52527-90db-4d32-a1a8-f5d3078d2cb0",
   "metadata": {},
   "source": [
    "# **DEFINICIÓN DE FUNCIONES PARA APLICAR EN LA EVALUACIÓN DE MODELOS**"
   ]
  },
  {
   "cell_type": "markdown",
   "id": "4000fa2c-49f2-46bd-b749-376b36036623",
   "metadata": {
    "jp-MarkdownHeadingCollapsed": true,
    "tags": []
   },
   "source": [
    "## **Modelos definidos:**\n",
    "\n",
    "* Regresión Lineal\n",
    "* Regresión Bridge\n",
    "* SVM-Support Vector Machine\n",
    "* XgBoost Regresion\n",
    "* Gradient Boosting Regressor\n",
    "* Arbol de Regresión"
   ]
  },
  {
   "cell_type": "markdown",
   "id": "6fd7a7a1-ad7a-4a99-b38a-537f3b325c44",
   "metadata": {},
   "source": [
    "## **Importación de librerías y modulos necesarios para las funciones:**"
   ]
  },
  {
   "cell_type": "code",
   "execution_count": 13,
   "id": "be5bbf97-7458-42ff-8c5f-cc3cf6835305",
   "metadata": {},
   "outputs": [],
   "source": [
    "import numpy as np\n",
    "import pandas as pd\n",
    "import sklearn\n",
    "from sklearn.linear_model import LinearRegression\n",
    "from sklearn.linear_model import Ridge\n",
    "from sklearn.svm import SVR\n",
    "import xgboost as xgb\n",
    "from sklearn.ensemble import GradientBoostingRegressor\n",
    "from sklearn.tree import DecisionTreeRegressor"
   ]
  },
  {
   "cell_type": "code",
   "execution_count": 14,
   "id": "a5f4e794-5ef7-4902-9e96-91c1e56228a8",
   "metadata": {},
   "outputs": [],
   "source": [
    "def error_absoluto_medio(target,target_pred):\n",
    "    v = np.abs(target - target_pred)\n",
    "    return v.sum()/len(target)\n",
    "    \n",
    "def error_gen(target_train,target_train_pred,target_test,target_test_pred):\n",
    "    MAE_TRAIN = error_absoluto_medio(target_train,target_train_pred)\n",
    "    MAE_TEST = error_absoluto_medio(target_test,target_test_pred)\n",
    "    return MAE_TRAIN,MAE_TEST"
   ]
  },
  {
   "cell_type": "markdown",
   "id": "29584198-ac9b-4300-8a1e-e4f66b4c1f66",
   "metadata": {},
   "source": [
    "#### **REGRESIÓN LINEAL**"
   ]
  },
  {
   "cell_type": "code",
   "execution_count": 15,
   "id": "181a8971-433f-4de3-a581-09341f591b2b",
   "metadata": {},
   "outputs": [],
   "source": [
    "#Definimos una función para aplicar regresiones lineales y evaluar el modelo. \n",
    "def regresion_lineal(features_train, target_train, features_test, target_test):\n",
    " \n",
    " \n",
    "    #definimos la instancia\n",
    "    lr = LinearRegression()\n",
    "    lr.fit(features_train,target_train)\n",
    "    \n",
    "    \n",
    "    #metricas de evaluación\n",
    "    r2_train = lr.score(features_train,target_train)\n",
    "    r2_test = lr.score(features_test,target_test)\n",
    "    \n",
    "    r2_train = \"{:.4f}\".format(r2_train)\n",
    "    r2_test = \"{:.4f}\".format(r2_test)\n",
    "    \n",
    "    #aplicamos el modelo\n",
    "    target_train_pred = lr.predict(features_train)\n",
    "    target_test_pred = lr.predict(features_test)\n",
    "\n",
    "    \n",
    "    MAE_train = error_absoluto_medio(target_train,target_train_pred)\n",
    "    \n",
    "    MAE_test = error_absoluto_medio(target_test,target_test_pred)\n",
    "    \n",
    "    return r2_train,r2_test,MAE_train,MAE_test,target_train_pred,target_test_pred"
   ]
  },
  {
   "cell_type": "markdown",
   "id": "e2dc0eec-b0e7-4b05-942e-c017e9a10be4",
   "metadata": {
    "tags": []
   },
   "source": [
    "#### **REGRESIÓN RIDGE**"
   ]
  },
  {
   "cell_type": "code",
   "execution_count": 16,
   "id": "88be0583-9cb2-49bf-9d32-89558dfaeb4d",
   "metadata": {},
   "outputs": [],
   "source": [
    "#Definimos una función para aplicar regresiones Ridge y evaluar el modelo. \n",
    "\n",
    "def regresion_ridge(features_train, target_train, features_test, target_test):\n",
    "    \n",
    "    #definimos la instancia    \n",
    "    rd = Ridge(alpha=100)    \n",
    "    rd.fit(features_train,target_train)\n",
    "    \n",
    "    #metricas de evaluación\n",
    "    r2_train = rd.score(features_train,target_train)\n",
    "    r2_test = rd.score(features_test,target_test)\n",
    "    \n",
    "    r2_train = \"{:.4f}\".format(r2_train)\n",
    "    r2_test = \"{:.4f}\".format(r2_test)\n",
    "    \n",
    "    #aplicamos el modelo\n",
    "    target_train_pred = rd.predict(features_train)\n",
    "    target_test_pred = rd.predict(features_test)\n",
    "    \n",
    "    MAE_train,MAE_test = error_gen(target_train,target_train_pred,target_test,target_test_pred)\n",
    "    \n",
    "\n",
    "    return r2_train,r2_test,MAE_train,MAE_test,target_train_pred,target_test_pred"
   ]
  },
  {
   "cell_type": "markdown",
   "id": "91a9ee08-728d-49f0-a19f-8de6e3ac1929",
   "metadata": {
    "tags": []
   },
   "source": [
    "#### **SVM-SUPPORT**"
   ]
  },
  {
   "cell_type": "code",
   "execution_count": 17,
   "id": "3c3499be-1a41-4dd8-9d27-0dfaf8ae2745",
   "metadata": {},
   "outputs": [],
   "source": [
    "#Definimos una función para aplicar svm_support y evaluar el modelo. \n",
    "\n",
    "def svm_support(features_train, target_train, features_test, target_test, kernel='rbf'):\n",
    "    \n",
    "    #definimos la instancia  \n",
    "    svm = SVR(kernel=kernel)\n",
    "    svm.fit(features_train,target_train)\n",
    "    \n",
    "    #metricas de evaluación\n",
    "    r2_train = svm.score(features_train,target_train)\n",
    "    r2_test = svm.score(features_test,target_test)\n",
    "    \n",
    "    r2_train = \"{:.4f}\".format(r2_train)\n",
    "    r2_test = \"{:.4f}\".format(r2_test)\n",
    "    \n",
    "    #aplicamos el modelo\n",
    "    target_train_pred = svm.predict(features_train)\n",
    "    target_test_pred = svm.predict(features_test)\n",
    "    \n",
    "    MAE_train = error_absoluto_medio(target_train,target_train_pred)\n",
    "    MAE_test = error_absoluto_medio(target_test,target_test_pred)\n",
    "    \n",
    "    return r2_train,r2_test,MAE_train,MAE_test,target_train_pred,target_test_pred"
   ]
  },
  {
   "cell_type": "markdown",
   "id": "a736cd6d-2d51-4a7a-9012-325ade6c2b0f",
   "metadata": {},
   "source": [
    "#### **XGBOOST_REGRESION**"
   ]
  },
  {
   "cell_type": "code",
   "execution_count": 18,
   "id": "79f60ac6-d2cb-410f-97f0-31b93b29f268",
   "metadata": {},
   "outputs": [],
   "source": [
    "#Definimos una función para aplicar Xgboost_regresion y evaluar el modelo. \n",
    "\n",
    "def xgboost_regresion(features_train, target_train, features_test, target_test):\n",
    "    \n",
    "    #definimos la instancia    \n",
    "    xgbr = xgb.XGBRegressor()    \n",
    "    xgbr.fit(features_train,target_train)\n",
    "    \n",
    "    #metricas de evaluación\n",
    "    r2_train = xgbr.score(features_train,target_train)\n",
    "    r2_test = xgbr.score(features_test,target_test)\n",
    "    \n",
    "    r2_train = \"{:.4f}\".format(r2_train)\n",
    "    r2_test = \"{:.4f}\".format(r2_test)\n",
    "    \n",
    "    #aplicamos el modelo\n",
    "    target_train_pred = xgbr.predict(features_train)\n",
    "    target_test_pred = xgbr.predict(features_test)\n",
    "    \n",
    "    MAE_train,MAE_test = error_gen(target_train,target_train_pred,target_test,target_test_pred)\n",
    "    \n",
    "\n",
    "    return r2_train,r2_test,MAE_train,MAE_test,target_train_pred,target_test_pred"
   ]
  },
  {
   "cell_type": "markdown",
   "id": "ccee6a14-be0b-4755-968c-4f01af38fb43",
   "metadata": {},
   "source": [
    "#### **GRADIENT BOOSTING REGRESSOR**"
   ]
  },
  {
   "cell_type": "code",
   "execution_count": 19,
   "id": "595f1e1e-ee79-45aa-ac24-51a3a1dc38dd",
   "metadata": {},
   "outputs": [],
   "source": [
    "#Definimos una función para aplicar Xgboost_regresion y evaluar el modelo. \n",
    "def gb_regresion(features_train, target_train, features_test, target_test):\n",
    "    \n",
    "        \n",
    "    gb = GradientBoostingRegressor()    \n",
    "    gb.fit(features_train,target_train)\n",
    "    \n",
    "    r2_train = gb.score(features_train,target_train)\n",
    "    r2_test = gb.score(features_test,target_test)\n",
    "    \n",
    "    r2_train = \"{:.4f}\".format(r2_train)\n",
    "    r2_test = \"{:.4f}\".format(r2_test)\n",
    "    \n",
    "    target_train_pred = gb.predict(features_train)\n",
    "    target_test_pred = gb.predict(features_test)\n",
    "    \n",
    "    MAE_train,MAE_test = error_gen(target_train,target_train_pred,target_test,target_test_pred)\n",
    "    \n",
    "\n",
    "    return r2_train,r2_test,MAE_train,MAE_test,target_train_pred,target_test_pred"
   ]
  },
  {
   "cell_type": "markdown",
   "id": "befb9062-2f6b-460f-be25-90330cf66fa9",
   "metadata": {},
   "source": [
    "#### **ARBOL DE REGRESIÓN**"
   ]
  },
  {
   "cell_type": "code",
   "execution_count": 20,
   "id": "6f90bd79-2116-4224-b425-ea524f9c0b13",
   "metadata": {},
   "outputs": [],
   "source": [
    "def arbol_regresion(features_train, target_train, features_test, target_test):\n",
    "    \n",
    "    tree = DecisionTreeRegressor(min_samples_split=30,min_samples_leaf=10,random_state=0)\n",
    "    tree.fit(features_train,target_train)\n",
    "    \n",
    "    r2_train = tree.score(features_train,target_train)\n",
    "    r2_test = tree.score(features_test,target_test)\n",
    "    \n",
    "    r2_train = \"{:.4f}\".format(r2_train)\n",
    "    r2_test = \"{:.4f}\".format(r2_test)\n",
    "    \n",
    "    target_train_pred = tree.predict(features_train)\n",
    "    target_test_pred = tree.predict(features_test)\n",
    "    \n",
    "    MAE_train,MAE_test = error_gen(target_train,target_train_pred,target_test,target_test_pred)\n",
    "    \n",
    "    return r2_train,r2_test, MAE_train,MAE_test,target_train_pred,target_test_pred"
   ]
  },
  {
   "cell_type": "code",
   "execution_count": null,
   "id": "8571c5b7-afd4-4d71-b48a-16e7fa060d22",
   "metadata": {},
   "outputs": [],
   "source": []
  },
  {
   "cell_type": "code",
   "execution_count": null,
   "id": "201de607-298d-43a8-952b-d321065e0418",
   "metadata": {},
   "outputs": [],
   "source": []
  },
  {
   "cell_type": "code",
   "execution_count": null,
   "id": "9cab8d7c-67e3-43b0-a376-b6c14276e2c3",
   "metadata": {},
   "outputs": [],
   "source": []
  }
 ],
 "metadata": {
  "kernelspec": {
   "display_name": "Python 3 (ipykernel)",
   "language": "python",
   "name": "python3"
  },
  "language_info": {
   "codemirror_mode": {
    "name": "ipython",
    "version": 3
   },
   "file_extension": ".py",
   "mimetype": "text/x-python",
   "name": "python",
   "nbconvert_exporter": "python",
   "pygments_lexer": "ipython3",
   "version": "3.10.9"
  }
 },
 "nbformat": 4,
 "nbformat_minor": 5
}
