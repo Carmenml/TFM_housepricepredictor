{
 "cells": [
  {
   "cell_type": "markdown",
   "metadata": {
    "tags": []
   },
   "source": [
    "## **EVALUACIÓN MODELOS**\n",
    "El dataset utilizado no contiene una gran cantidad de datos ya que se realizar exclusivamente de la zona de Churriana, Málaga y además nuestro modelo de scrapeo web termina bloqueando la extracción de datos y no nos permite obtener todos los datos de la zona disponibles.\n",
    "\n",
    "Se aplican diferentes modelos para ver cual de ellos presenta el mejor comportamiento a la hora de predecir el precio:\n",
    "* Regresión Lineal\n",
    "* Regresión Bridge\n",
    "* SVM-Support Vector Machine\n",
    "* XgBoost Regresion\n",
    "* Gradient Boosting Regressor\n",
    "* Arbol de Regresión"
   ]
  },
  {
   "cell_type": "markdown",
   "metadata": {},
   "source": [
    "### **Importamos las librerías necesarias:**"
   ]
  },
  {
   "cell_type": "code",
   "execution_count": 1,
   "metadata": {},
   "outputs": [],
   "source": [
    "import numpy as np\n",
    "import matplotlib.pyplot as plt\n",
    "import pandas as pd\n",
    "import seaborn as sns\n",
    "import sklearn\n",
    "\n",
    "from plotly.subplots import make_subplots\n",
    "import plotly.graph_objects as go\n",
    "import plotly.express as px"
   ]
  },
  {
   "cell_type": "markdown",
   "metadata": {},
   "source": [
    "### **Importamos el modulo con las funciones para el calculo de modelos**"
   ]
  },
  {
   "cell_type": "code",
   "execution_count": 2,
   "metadata": {},
   "outputs": [],
   "source": [
    "from ipynb.fs.defs.Funciones_modelos_ML import *"
   ]
  },
  {
   "cell_type": "code",
   "execution_count": 3,
   "metadata": {},
   "outputs": [],
   "source": [
    "file_path = \"../data/data_model_churriana_malaga.csv\"\n",
    "data = pd.read_csv(file_path, index_col = 0)"
   ]
  },
  {
   "cell_type": "code",
   "execution_count": 4,
   "metadata": {},
   "outputs": [
    {
     "data": {
      "text/html": [
       "<div>\n",
       "<style scoped>\n",
       "    .dataframe tbody tr th:only-of-type {\n",
       "        vertical-align: middle;\n",
       "    }\n",
       "\n",
       "    .dataframe tbody tr th {\n",
       "        vertical-align: top;\n",
       "    }\n",
       "\n",
       "    .dataframe thead th {\n",
       "        text-align: right;\n",
       "    }\n",
       "</style>\n",
       "<table border=\"1\" class=\"dataframe\">\n",
       "  <thead>\n",
       "    <tr style=\"text-align: right;\">\n",
       "      <th></th>\n",
       "      <th>latitude</th>\n",
       "      <th>longitude</th>\n",
       "      <th>price</th>\n",
       "      <th>energy_certification</th>\n",
       "      <th>room_number</th>\n",
       "      <th>bath_number</th>\n",
       "      <th>has_garden</th>\n",
       "      <th>has_terrace</th>\n",
       "      <th>has_parking</th>\n",
       "      <th>has_swimmingpool</th>\n",
       "      <th>has_lift</th>\n",
       "      <th>constructed_area</th>\n",
       "      <th>is_new_development</th>\n",
       "      <th>is_needs_renovating</th>\n",
       "      <th>is_goog_condition</th>\n",
       "    </tr>\n",
       "  </thead>\n",
       "  <tbody>\n",
       "    <tr>\n",
       "      <th>0</th>\n",
       "      <td>36.666638</td>\n",
       "      <td>-4.464576</td>\n",
       "      <td>395000</td>\n",
       "      <td>7</td>\n",
       "      <td>4</td>\n",
       "      <td>3</td>\n",
       "      <td>1.0</td>\n",
       "      <td>1.0</td>\n",
       "      <td>1.0</td>\n",
       "      <td>1.0</td>\n",
       "      <td>0.0</td>\n",
       "      <td>194</td>\n",
       "      <td>0</td>\n",
       "      <td>0</td>\n",
       "      <td>1</td>\n",
       "    </tr>\n",
       "    <tr>\n",
       "      <th>1</th>\n",
       "      <td>36.663719</td>\n",
       "      <td>-4.503897</td>\n",
       "      <td>640000</td>\n",
       "      <td>7</td>\n",
       "      <td>4</td>\n",
       "      <td>2</td>\n",
       "      <td>1.0</td>\n",
       "      <td>1.0</td>\n",
       "      <td>1.0</td>\n",
       "      <td>1.0</td>\n",
       "      <td>0.0</td>\n",
       "      <td>310</td>\n",
       "      <td>0</td>\n",
       "      <td>0</td>\n",
       "      <td>1</td>\n",
       "    </tr>\n",
       "    <tr>\n",
       "      <th>2</th>\n",
       "      <td>36.656894</td>\n",
       "      <td>-4.502930</td>\n",
       "      <td>567000</td>\n",
       "      <td>7</td>\n",
       "      <td>5</td>\n",
       "      <td>4</td>\n",
       "      <td>1.0</td>\n",
       "      <td>1.0</td>\n",
       "      <td>0.0</td>\n",
       "      <td>1.0</td>\n",
       "      <td>0.0</td>\n",
       "      <td>410</td>\n",
       "      <td>0</td>\n",
       "      <td>0</td>\n",
       "      <td>1</td>\n",
       "    </tr>\n",
       "    <tr>\n",
       "      <th>3</th>\n",
       "      <td>36.671190</td>\n",
       "      <td>-4.516900</td>\n",
       "      <td>375900</td>\n",
       "      <td>8</td>\n",
       "      <td>4</td>\n",
       "      <td>2</td>\n",
       "      <td>1.0</td>\n",
       "      <td>1.0</td>\n",
       "      <td>1.0</td>\n",
       "      <td>1.0</td>\n",
       "      <td>1.0</td>\n",
       "      <td>236</td>\n",
       "      <td>1</td>\n",
       "      <td>0</td>\n",
       "      <td>0</td>\n",
       "    </tr>\n",
       "    <tr>\n",
       "      <th>4</th>\n",
       "      <td>36.671190</td>\n",
       "      <td>-4.516900</td>\n",
       "      <td>249900</td>\n",
       "      <td>8</td>\n",
       "      <td>2</td>\n",
       "      <td>2</td>\n",
       "      <td>0.0</td>\n",
       "      <td>1.0</td>\n",
       "      <td>1.0</td>\n",
       "      <td>1.0</td>\n",
       "      <td>1.0</td>\n",
       "      <td>150</td>\n",
       "      <td>1</td>\n",
       "      <td>0</td>\n",
       "      <td>0</td>\n",
       "    </tr>\n",
       "  </tbody>\n",
       "</table>\n",
       "</div>"
      ],
      "text/plain": [
       "    latitude  longitude   price  energy_certification  room_number  \\\n",
       "0  36.666638  -4.464576  395000                     7            4   \n",
       "1  36.663719  -4.503897  640000                     7            4   \n",
       "2  36.656894  -4.502930  567000                     7            5   \n",
       "3  36.671190  -4.516900  375900                     8            4   \n",
       "4  36.671190  -4.516900  249900                     8            2   \n",
       "\n",
       "   bath_number  has_garden  has_terrace  has_parking  has_swimmingpool  \\\n",
       "0            3         1.0          1.0          1.0               1.0   \n",
       "1            2         1.0          1.0          1.0               1.0   \n",
       "2            4         1.0          1.0          0.0               1.0   \n",
       "3            2         1.0          1.0          1.0               1.0   \n",
       "4            2         0.0          1.0          1.0               1.0   \n",
       "\n",
       "   has_lift  constructed_area  is_new_development  is_needs_renovating  \\\n",
       "0       0.0               194                   0                    0   \n",
       "1       0.0               310                   0                    0   \n",
       "2       0.0               410                   0                    0   \n",
       "3       1.0               236                   1                    0   \n",
       "4       1.0               150                   1                    0   \n",
       "\n",
       "   is_goog_condition  \n",
       "0                  1  \n",
       "1                  1  \n",
       "2                  1  \n",
       "3                  0  \n",
       "4                  0  "
      ]
     },
     "execution_count": 4,
     "metadata": {},
     "output_type": "execute_result"
    }
   ],
   "source": [
    "data.head()"
   ]
  },
  {
   "cell_type": "markdown",
   "metadata": {},
   "source": [
    "#### **Tabla para evaluación de los modelos**<br>\n",
    "Creamos una tabla vacía con las siguientes columnas: 'Modelo', 'Detalles', 'R2 train', 'R2 test', 'MAE train' y 'MAE test'.\n",
    "Aquí iremos agregando los resultados de cada modelo para finalmente de un simple vistazo poder comparar los rendimientos que aportan y quedarnos con uno de ellos."
   ]
  },
  {
   "cell_type": "code",
   "execution_count": 5,
   "metadata": {},
   "outputs": [],
   "source": [
    "resultados = pd.DataFrame({\n",
    "    'Modelo':[],\n",
    "    'Detalles':[],\n",
    "    'R2 train':[],\n",
    "    'R2 test':[],\n",
    "    'MAE train':[],\n",
    "    'MAE test':[]\n",
    "})"
   ]
  },
  {
   "cell_type": "markdown",
   "metadata": {},
   "source": [
    "Definimos dos funciones que nos ayudarán a evaluar posteriormente el rendimiento de los modelos."
   ]
  },
  {
   "cell_type": "markdown",
   "metadata": {},
   "source": [
    "#### **Variable objetivo y features**"
   ]
  },
  {
   "cell_type": "code",
   "execution_count": null,
   "metadata": {},
   "outputs": [],
   "source": []
  },
  {
   "cell_type": "markdown",
   "metadata": {},
   "source": [
    "#### **Dividimos el conjunto de datos en train y test**"
   ]
  },
  {
   "cell_type": "code",
   "execution_count": 14,
   "metadata": {},
   "outputs": [
    {
     "ename": "AttributeError",
     "evalue": "'DataSplit' object has no attribute 'features'",
     "output_type": "error",
     "traceback": [
      "\u001b[0;31m---------------------------------------------------------------------------\u001b[0m",
      "\u001b[0;31mAttributeError\u001b[0m                            Traceback (most recent call last)",
      "Cell \u001b[0;32mIn[14], line 6\u001b[0m\n\u001b[1;32m      4\u001b[0m features_test \u001b[38;5;241m=\u001b[39m datos_completos\u001b[38;5;241m.\u001b[39mfeatures_test\n\u001b[1;32m      5\u001b[0m target_test \u001b[38;5;241m=\u001b[39m datos_completos\u001b[38;5;241m.\u001b[39mtarget_test\n\u001b[0;32m----> 6\u001b[0m features \u001b[38;5;241m=\u001b[39m \u001b[43mdatos_completos\u001b[49m\u001b[38;5;241;43m.\u001b[39;49m\u001b[43mfeatures\u001b[49m\n\u001b[1;32m      7\u001b[0m target \u001b[38;5;241m=\u001b[39m datos_completos\u001b[38;5;241m.\u001b[39mtarget\n",
      "\u001b[0;31mAttributeError\u001b[0m: 'DataSplit' object has no attribute 'features'"
     ]
    }
   ],
   "source": [
    "%store -r datos_completos\n",
    "features_train = datos_completos.features_train\n",
    "target_train = datos_completos.target_train\n",
    "features_test = datos_completos.features_test\n",
    "target_test = datos_completos.target_test\n",
    "features = datos_completos.features\n",
    "target = datos_completos.target"
   ]
  },
  {
   "cell_type": "markdown",
   "metadata": {
    "tags": []
   },
   "source": [
    "#### **Regresión lineal**"
   ]
  },
  {
   "cell_type": "code",
   "execution_count": 11,
   "metadata": {},
   "outputs": [],
   "source": [
    "from sklearn.linear_model import LinearRegression"
   ]
  },
  {
   "cell_type": "code",
   "execution_count": 12,
   "metadata": {
    "tags": []
   },
   "outputs": [
    {
     "data": {
      "text/html": [
       "<div>\n",
       "<style scoped>\n",
       "    .dataframe tbody tr th:only-of-type {\n",
       "        vertical-align: middle;\n",
       "    }\n",
       "\n",
       "    .dataframe tbody tr th {\n",
       "        vertical-align: top;\n",
       "    }\n",
       "\n",
       "    .dataframe thead th {\n",
       "        text-align: right;\n",
       "    }\n",
       "</style>\n",
       "<table border=\"1\" class=\"dataframe\">\n",
       "  <thead>\n",
       "    <tr style=\"text-align: right;\">\n",
       "      <th></th>\n",
       "      <th>Modelo</th>\n",
       "      <th>Detalles</th>\n",
       "      <th>R2 train</th>\n",
       "      <th>R2 test</th>\n",
       "      <th>MAE train</th>\n",
       "      <th>MAE test</th>\n",
       "    </tr>\n",
       "  </thead>\n",
       "  <tbody>\n",
       "    <tr>\n",
       "      <th>0</th>\n",
       "      <td>Regresión Lineal</td>\n",
       "      <td>Sin procesar</td>\n",
       "      <td>0.9011</td>\n",
       "      <td>0.6000</td>\n",
       "      <td>83715.801434</td>\n",
       "      <td>201226.266966</td>\n",
       "    </tr>\n",
       "  </tbody>\n",
       "</table>\n",
       "</div>"
      ],
      "text/plain": [
       "             Modelo      Detalles R2 train R2 test     MAE train  \\\n",
       "0  Regresión Lineal  Sin procesar   0.9011  0.6000  83715.801434   \n",
       "\n",
       "        MAE test  \n",
       "0  201226.266966  "
      ]
     },
     "execution_count": 12,
     "metadata": {},
     "output_type": "execute_result"
    }
   ],
   "source": [
    "#Definimos una función para aplicar regresiones lineales. \n",
    "\n",
    "r2_train,r2_test,MAE_train,MAE_test,target_train_pred,target_test_pred = regresion_lineal(data, target, features_train, target_train, features_test, target_test)\n",
    "\n",
    "\n",
    "final = resultados.shape[0]\n",
    "resultados.loc[final] = ['Regresión Lineal','Sin procesar',r2_train,r2_test,MAE_train,MAE_test]\n",
    "resultados"
   ]
  },
  {
   "cell_type": "markdown",
   "metadata": {},
   "source": [
    "### **Regresión Ridge**"
   ]
  },
  {
   "cell_type": "code",
   "execution_count": 13,
   "metadata": {
    "tags": []
   },
   "outputs": [
    {
     "data": {
      "text/html": [
       "<div>\n",
       "<style scoped>\n",
       "    .dataframe tbody tr th:only-of-type {\n",
       "        vertical-align: middle;\n",
       "    }\n",
       "\n",
       "    .dataframe tbody tr th {\n",
       "        vertical-align: top;\n",
       "    }\n",
       "\n",
       "    .dataframe thead th {\n",
       "        text-align: right;\n",
       "    }\n",
       "</style>\n",
       "<table border=\"1\" class=\"dataframe\">\n",
       "  <thead>\n",
       "    <tr style=\"text-align: right;\">\n",
       "      <th></th>\n",
       "      <th>Modelo</th>\n",
       "      <th>Detalles</th>\n",
       "      <th>R2 train</th>\n",
       "      <th>R2 test</th>\n",
       "      <th>MAE train</th>\n",
       "      <th>MAE test</th>\n",
       "    </tr>\n",
       "  </thead>\n",
       "  <tbody>\n",
       "    <tr>\n",
       "      <th>0</th>\n",
       "      <td>Regresión Lineal</td>\n",
       "      <td>Sin procesar</td>\n",
       "      <td>0.9011</td>\n",
       "      <td>0.6000</td>\n",
       "      <td>83715.801434</td>\n",
       "      <td>201226.266966</td>\n",
       "    </tr>\n",
       "    <tr>\n",
       "      <th>1</th>\n",
       "      <td>Regresión Bridge</td>\n",
       "      <td>Sin procesar</td>\n",
       "      <td>0.8646</td>\n",
       "      <td>0.6497</td>\n",
       "      <td>94640.250304</td>\n",
       "      <td>181849.493157</td>\n",
       "    </tr>\n",
       "  </tbody>\n",
       "</table>\n",
       "</div>"
      ],
      "text/plain": [
       "             Modelo      Detalles R2 train R2 test     MAE train  \\\n",
       "0  Regresión Lineal  Sin procesar   0.9011  0.6000  83715.801434   \n",
       "1  Regresión Bridge  Sin procesar   0.8646  0.6497  94640.250304   \n",
       "\n",
       "        MAE test  \n",
       "0  201226.266966  \n",
       "1  181849.493157  "
      ]
     },
     "execution_count": 13,
     "metadata": {},
     "output_type": "execute_result"
    }
   ],
   "source": [
    "r2_train,r2_test,MAE_train,MAE_test,target_train_pred,target_test_pred = regresion_ridge(data, target, features_train, target_train, features_test, target_test)\n",
    "final = resultados.shape[0]\n",
    "resultados.loc[final] = ['Regresión Bridge','Sin procesar',r2_train,r2_test,MAE_train,MAE_test]\n",
    "resultados"
   ]
  },
  {
   "cell_type": "markdown",
   "metadata": {},
   "source": [
    "El modelo de regresión lineal presenta mejores resultados que el modelo bridge.\n",
    "<br>\n",
    "Veamos otros tipos de modelos a comparar."
   ]
  },
  {
   "cell_type": "markdown",
   "metadata": {},
   "source": [
    "### **SVM-Support Vector Machine**\n"
   ]
  },
  {
   "cell_type": "code",
   "execution_count": 11,
   "metadata": {},
   "outputs": [
    {
     "data": {
      "text/html": [
       "<div>\n",
       "<style scoped>\n",
       "    .dataframe tbody tr th:only-of-type {\n",
       "        vertical-align: middle;\n",
       "    }\n",
       "\n",
       "    .dataframe tbody tr th {\n",
       "        vertical-align: top;\n",
       "    }\n",
       "\n",
       "    .dataframe thead th {\n",
       "        text-align: right;\n",
       "    }\n",
       "</style>\n",
       "<table border=\"1\" class=\"dataframe\">\n",
       "  <thead>\n",
       "    <tr style=\"text-align: right;\">\n",
       "      <th></th>\n",
       "      <th>Modelo</th>\n",
       "      <th>Detalles</th>\n",
       "      <th>R2 train</th>\n",
       "      <th>R2 test</th>\n",
       "      <th>MAE train</th>\n",
       "      <th>MAE test</th>\n",
       "    </tr>\n",
       "  </thead>\n",
       "  <tbody>\n",
       "    <tr>\n",
       "      <th>0</th>\n",
       "      <td>Regresión Lineal</td>\n",
       "      <td>Sin procesar</td>\n",
       "      <td>0.8984</td>\n",
       "      <td>0.6064</td>\n",
       "      <td>85108.467569</td>\n",
       "      <td>187211.020693</td>\n",
       "    </tr>\n",
       "    <tr>\n",
       "      <th>1</th>\n",
       "      <td>Regresión Bridge</td>\n",
       "      <td>Sin procesar</td>\n",
       "      <td>0.8703</td>\n",
       "      <td>0.6252</td>\n",
       "      <td>92224.225725</td>\n",
       "      <td>191317.605630</td>\n",
       "    </tr>\n",
       "    <tr>\n",
       "      <th>2</th>\n",
       "      <td>SVM linear</td>\n",
       "      <td>Sin procesar</td>\n",
       "      <td>0.8150</td>\n",
       "      <td>0.6758</td>\n",
       "      <td>100237.204952</td>\n",
       "      <td>185210.338313</td>\n",
       "    </tr>\n",
       "    <tr>\n",
       "      <th>3</th>\n",
       "      <td>SVM poly</td>\n",
       "      <td>Sin procesar</td>\n",
       "      <td>-0.1296</td>\n",
       "      <td>-0.0882</td>\n",
       "      <td>225990.993648</td>\n",
       "      <td>338429.185516</td>\n",
       "    </tr>\n",
       "    <tr>\n",
       "      <th>4</th>\n",
       "      <td>SVM rbf</td>\n",
       "      <td>Sin procesar</td>\n",
       "      <td>-0.1720</td>\n",
       "      <td>-0.1051</td>\n",
       "      <td>227704.843298</td>\n",
       "      <td>339847.170051</td>\n",
       "    </tr>\n",
       "    <tr>\n",
       "      <th>5</th>\n",
       "      <td>SVM sigmoid</td>\n",
       "      <td>Sin procesar</td>\n",
       "      <td>-0.1721</td>\n",
       "      <td>-0.1052</td>\n",
       "      <td>227712.445745</td>\n",
       "      <td>339853.117237</td>\n",
       "    </tr>\n",
       "  </tbody>\n",
       "</table>\n",
       "</div>"
      ],
      "text/plain": [
       "             Modelo      Detalles R2 train  R2 test      MAE train  \\\n",
       "0  Regresión Lineal  Sin procesar   0.8984   0.6064   85108.467569   \n",
       "1  Regresión Bridge  Sin procesar   0.8703   0.6252   92224.225725   \n",
       "2        SVM linear  Sin procesar   0.8150   0.6758  100237.204952   \n",
       "3          SVM poly  Sin procesar  -0.1296  -0.0882  225990.993648   \n",
       "4           SVM rbf  Sin procesar  -0.1720  -0.1051  227704.843298   \n",
       "5       SVM sigmoid  Sin procesar  -0.1721  -0.1052  227712.445745   \n",
       "\n",
       "        MAE test  \n",
       "0  187211.020693  \n",
       "1  191317.605630  \n",
       "2  185210.338313  \n",
       "3  338429.185516  \n",
       "4  339847.170051  \n",
       "5  339853.117237  "
      ]
     },
     "execution_count": 11,
     "metadata": {},
     "output_type": "execute_result"
    }
   ],
   "source": [
    "kernels = ['linear', 'poly', 'rbf', 'sigmoid']\n",
    "\n",
    "for kernel in kernels:\n",
    "    r2_train,r2_test,MAE_train,MAE_test,target_train_pred,target_test_pred = svm_support(data, target, features_train, target_train, features_test, target_test, kernel=kernel)\n",
    "    final = resultados.shape[0]\n",
    "    resultados.loc[final] = [f\"SVM {kernel}\",\"Sin procesar\",r2_train,r2_test,MAE_train,MAE_test]\n",
    "resultados"
   ]
  },
  {
   "cell_type": "markdown",
   "metadata": {},
   "source": [
    "Este modelo presenta los mejores resultados para el parámetro \"linear\", el resto no ajusta bien el modelo."
   ]
  },
  {
   "cell_type": "markdown",
   "metadata": {},
   "source": [
    "### **XGBoost**"
   ]
  },
  {
   "cell_type": "code",
   "execution_count": 12,
   "metadata": {},
   "outputs": [
    {
     "data": {
      "text/html": [
       "<div>\n",
       "<style scoped>\n",
       "    .dataframe tbody tr th:only-of-type {\n",
       "        vertical-align: middle;\n",
       "    }\n",
       "\n",
       "    .dataframe tbody tr th {\n",
       "        vertical-align: top;\n",
       "    }\n",
       "\n",
       "    .dataframe thead th {\n",
       "        text-align: right;\n",
       "    }\n",
       "</style>\n",
       "<table border=\"1\" class=\"dataframe\">\n",
       "  <thead>\n",
       "    <tr style=\"text-align: right;\">\n",
       "      <th></th>\n",
       "      <th>Modelo</th>\n",
       "      <th>Detalles</th>\n",
       "      <th>R2 train</th>\n",
       "      <th>R2 test</th>\n",
       "      <th>MAE train</th>\n",
       "      <th>MAE test</th>\n",
       "    </tr>\n",
       "  </thead>\n",
       "  <tbody>\n",
       "    <tr>\n",
       "      <th>0</th>\n",
       "      <td>Regresión Lineal</td>\n",
       "      <td>Sin procesar</td>\n",
       "      <td>0.8984</td>\n",
       "      <td>0.6064</td>\n",
       "      <td>85108.467569</td>\n",
       "      <td>187211.020693</td>\n",
       "    </tr>\n",
       "    <tr>\n",
       "      <th>1</th>\n",
       "      <td>Regresión Bridge</td>\n",
       "      <td>Sin procesar</td>\n",
       "      <td>0.8703</td>\n",
       "      <td>0.6252</td>\n",
       "      <td>92224.225725</td>\n",
       "      <td>191317.605630</td>\n",
       "    </tr>\n",
       "    <tr>\n",
       "      <th>2</th>\n",
       "      <td>SVM linear</td>\n",
       "      <td>Sin procesar</td>\n",
       "      <td>0.8150</td>\n",
       "      <td>0.6758</td>\n",
       "      <td>100237.204952</td>\n",
       "      <td>185210.338313</td>\n",
       "    </tr>\n",
       "    <tr>\n",
       "      <th>3</th>\n",
       "      <td>SVM poly</td>\n",
       "      <td>Sin procesar</td>\n",
       "      <td>-0.1296</td>\n",
       "      <td>-0.0882</td>\n",
       "      <td>225990.993648</td>\n",
       "      <td>338429.185516</td>\n",
       "    </tr>\n",
       "    <tr>\n",
       "      <th>4</th>\n",
       "      <td>SVM rbf</td>\n",
       "      <td>Sin procesar</td>\n",
       "      <td>-0.1720</td>\n",
       "      <td>-0.1051</td>\n",
       "      <td>227704.843298</td>\n",
       "      <td>339847.170051</td>\n",
       "    </tr>\n",
       "    <tr>\n",
       "      <th>5</th>\n",
       "      <td>SVM sigmoid</td>\n",
       "      <td>Sin procesar</td>\n",
       "      <td>-0.1721</td>\n",
       "      <td>-0.1052</td>\n",
       "      <td>227712.445745</td>\n",
       "      <td>339853.117237</td>\n",
       "    </tr>\n",
       "    <tr>\n",
       "      <th>6</th>\n",
       "      <td>xgboost Regresion</td>\n",
       "      <td>Sin procesar</td>\n",
       "      <td>1.0000</td>\n",
       "      <td>0.6011</td>\n",
       "      <td>154.052171</td>\n",
       "      <td>154047.635280</td>\n",
       "    </tr>\n",
       "  </tbody>\n",
       "</table>\n",
       "</div>"
      ],
      "text/plain": [
       "              Modelo      Detalles R2 train  R2 test      MAE train  \\\n",
       "0   Regresión Lineal  Sin procesar   0.8984   0.6064   85108.467569   \n",
       "1   Regresión Bridge  Sin procesar   0.8703   0.6252   92224.225725   \n",
       "2         SVM linear  Sin procesar   0.8150   0.6758  100237.204952   \n",
       "3           SVM poly  Sin procesar  -0.1296  -0.0882  225990.993648   \n",
       "4            SVM rbf  Sin procesar  -0.1720  -0.1051  227704.843298   \n",
       "5        SVM sigmoid  Sin procesar  -0.1721  -0.1052  227712.445745   \n",
       "6  xgboost Regresion  Sin procesar   1.0000   0.6011     154.052171   \n",
       "\n",
       "        MAE test  \n",
       "0  187211.020693  \n",
       "1  191317.605630  \n",
       "2  185210.338313  \n",
       "3  338429.185516  \n",
       "4  339847.170051  \n",
       "5  339853.117237  \n",
       "6  154047.635280  "
      ]
     },
     "execution_count": 12,
     "metadata": {},
     "output_type": "execute_result"
    }
   ],
   "source": [
    "r2_train,r2_test,MAE_train,MAE_test,target_train_pred,target_test_pred = xgboost_regresion(data, target, features_train, target_train, features_test, target_test)\n",
    "final = resultados.shape[0]\n",
    "resultados.loc[final] = ['xgboost Regresion','Sin procesar',r2_train,r2_test,MAE_train,MAE_test]\n",
    "resultados"
   ]
  },
  {
   "cell_type": "markdown",
   "metadata": {
    "tags": []
   },
   "source": [
    "### **Gradient Boosting Regressor**"
   ]
  },
  {
   "cell_type": "code",
   "execution_count": 13,
   "metadata": {},
   "outputs": [
    {
     "data": {
      "text/html": [
       "<div>\n",
       "<style scoped>\n",
       "    .dataframe tbody tr th:only-of-type {\n",
       "        vertical-align: middle;\n",
       "    }\n",
       "\n",
       "    .dataframe tbody tr th {\n",
       "        vertical-align: top;\n",
       "    }\n",
       "\n",
       "    .dataframe thead th {\n",
       "        text-align: right;\n",
       "    }\n",
       "</style>\n",
       "<table border=\"1\" class=\"dataframe\">\n",
       "  <thead>\n",
       "    <tr style=\"text-align: right;\">\n",
       "      <th></th>\n",
       "      <th>Modelo</th>\n",
       "      <th>Detalles</th>\n",
       "      <th>R2 train</th>\n",
       "      <th>R2 test</th>\n",
       "      <th>MAE train</th>\n",
       "      <th>MAE test</th>\n",
       "    </tr>\n",
       "  </thead>\n",
       "  <tbody>\n",
       "    <tr>\n",
       "      <th>0</th>\n",
       "      <td>Regresión Lineal</td>\n",
       "      <td>Sin procesar</td>\n",
       "      <td>0.8984</td>\n",
       "      <td>0.6064</td>\n",
       "      <td>85108.467569</td>\n",
       "      <td>187211.020693</td>\n",
       "    </tr>\n",
       "    <tr>\n",
       "      <th>1</th>\n",
       "      <td>Regresión Bridge</td>\n",
       "      <td>Sin procesar</td>\n",
       "      <td>0.8703</td>\n",
       "      <td>0.6252</td>\n",
       "      <td>92224.225725</td>\n",
       "      <td>191317.605630</td>\n",
       "    </tr>\n",
       "    <tr>\n",
       "      <th>2</th>\n",
       "      <td>SVM linear</td>\n",
       "      <td>Sin procesar</td>\n",
       "      <td>0.8150</td>\n",
       "      <td>0.6758</td>\n",
       "      <td>100237.204952</td>\n",
       "      <td>185210.338313</td>\n",
       "    </tr>\n",
       "    <tr>\n",
       "      <th>3</th>\n",
       "      <td>SVM poly</td>\n",
       "      <td>Sin procesar</td>\n",
       "      <td>-0.1296</td>\n",
       "      <td>-0.0882</td>\n",
       "      <td>225990.993648</td>\n",
       "      <td>338429.185516</td>\n",
       "    </tr>\n",
       "    <tr>\n",
       "      <th>4</th>\n",
       "      <td>SVM rbf</td>\n",
       "      <td>Sin procesar</td>\n",
       "      <td>-0.1720</td>\n",
       "      <td>-0.1051</td>\n",
       "      <td>227704.843298</td>\n",
       "      <td>339847.170051</td>\n",
       "    </tr>\n",
       "    <tr>\n",
       "      <th>5</th>\n",
       "      <td>SVM sigmoid</td>\n",
       "      <td>Sin procesar</td>\n",
       "      <td>-0.1721</td>\n",
       "      <td>-0.1052</td>\n",
       "      <td>227712.445745</td>\n",
       "      <td>339853.117237</td>\n",
       "    </tr>\n",
       "    <tr>\n",
       "      <th>6</th>\n",
       "      <td>xgboost Regresion</td>\n",
       "      <td>Sin procesar</td>\n",
       "      <td>1.0000</td>\n",
       "      <td>0.6011</td>\n",
       "      <td>154.052171</td>\n",
       "      <td>154047.635280</td>\n",
       "    </tr>\n",
       "    <tr>\n",
       "      <th>7</th>\n",
       "      <td>Gradient Boosting Regressor</td>\n",
       "      <td>Sin procesar</td>\n",
       "      <td>0.9955</td>\n",
       "      <td>0.5745</td>\n",
       "      <td>18768.389799</td>\n",
       "      <td>164684.502620</td>\n",
       "    </tr>\n",
       "  </tbody>\n",
       "</table>\n",
       "</div>"
      ],
      "text/plain": [
       "                        Modelo      Detalles R2 train  R2 test      MAE train  \\\n",
       "0             Regresión Lineal  Sin procesar   0.8984   0.6064   85108.467569   \n",
       "1             Regresión Bridge  Sin procesar   0.8703   0.6252   92224.225725   \n",
       "2                   SVM linear  Sin procesar   0.8150   0.6758  100237.204952   \n",
       "3                     SVM poly  Sin procesar  -0.1296  -0.0882  225990.993648   \n",
       "4                      SVM rbf  Sin procesar  -0.1720  -0.1051  227704.843298   \n",
       "5                  SVM sigmoid  Sin procesar  -0.1721  -0.1052  227712.445745   \n",
       "6            xgboost Regresion  Sin procesar   1.0000   0.6011     154.052171   \n",
       "7  Gradient Boosting Regressor  Sin procesar   0.9955   0.5745   18768.389799   \n",
       "\n",
       "        MAE test  \n",
       "0  187211.020693  \n",
       "1  191317.605630  \n",
       "2  185210.338313  \n",
       "3  338429.185516  \n",
       "4  339847.170051  \n",
       "5  339853.117237  \n",
       "6  154047.635280  \n",
       "7  164684.502620  "
      ]
     },
     "execution_count": 13,
     "metadata": {},
     "output_type": "execute_result"
    }
   ],
   "source": [
    "r2_train,r2_test,MAE_train,MAE_test,target_train_pred,target_test_pred = gb_regresion(data, target, features_train, target_train, features_test, target_test)\n",
    "final = resultados.shape[0]\n",
    "resultados.loc[final] = ['Gradient Boosting Regressor','Sin procesar',r2_train,r2_test,MAE_train,MAE_test]\n",
    "resultados"
   ]
  },
  {
   "cell_type": "markdown",
   "metadata": {
    "tags": []
   },
   "source": [
    "### **Random Forest Regressor**"
   ]
  },
  {
   "cell_type": "code",
   "execution_count": 14,
   "metadata": {},
   "outputs": [
    {
     "data": {
      "text/html": [
       "<div>\n",
       "<style scoped>\n",
       "    .dataframe tbody tr th:only-of-type {\n",
       "        vertical-align: middle;\n",
       "    }\n",
       "\n",
       "    .dataframe tbody tr th {\n",
       "        vertical-align: top;\n",
       "    }\n",
       "\n",
       "    .dataframe thead th {\n",
       "        text-align: right;\n",
       "    }\n",
       "</style>\n",
       "<table border=\"1\" class=\"dataframe\">\n",
       "  <thead>\n",
       "    <tr style=\"text-align: right;\">\n",
       "      <th></th>\n",
       "      <th>Modelo</th>\n",
       "      <th>Detalles</th>\n",
       "      <th>R2 train</th>\n",
       "      <th>R2 test</th>\n",
       "      <th>MAE train</th>\n",
       "      <th>MAE test</th>\n",
       "    </tr>\n",
       "  </thead>\n",
       "  <tbody>\n",
       "    <tr>\n",
       "      <th>0</th>\n",
       "      <td>Regresión Lineal</td>\n",
       "      <td>Sin procesar</td>\n",
       "      <td>0.8984</td>\n",
       "      <td>0.6064</td>\n",
       "      <td>85108.467569</td>\n",
       "      <td>187211.020693</td>\n",
       "    </tr>\n",
       "    <tr>\n",
       "      <th>1</th>\n",
       "      <td>Regresión Bridge</td>\n",
       "      <td>Sin procesar</td>\n",
       "      <td>0.8703</td>\n",
       "      <td>0.6252</td>\n",
       "      <td>92224.225725</td>\n",
       "      <td>191317.605630</td>\n",
       "    </tr>\n",
       "    <tr>\n",
       "      <th>2</th>\n",
       "      <td>SVM linear</td>\n",
       "      <td>Sin procesar</td>\n",
       "      <td>0.8150</td>\n",
       "      <td>0.6758</td>\n",
       "      <td>100237.204952</td>\n",
       "      <td>185210.338313</td>\n",
       "    </tr>\n",
       "    <tr>\n",
       "      <th>3</th>\n",
       "      <td>SVM poly</td>\n",
       "      <td>Sin procesar</td>\n",
       "      <td>-0.1296</td>\n",
       "      <td>-0.0882</td>\n",
       "      <td>225990.993648</td>\n",
       "      <td>338429.185516</td>\n",
       "    </tr>\n",
       "    <tr>\n",
       "      <th>4</th>\n",
       "      <td>SVM rbf</td>\n",
       "      <td>Sin procesar</td>\n",
       "      <td>-0.1720</td>\n",
       "      <td>-0.1051</td>\n",
       "      <td>227704.843298</td>\n",
       "      <td>339847.170051</td>\n",
       "    </tr>\n",
       "    <tr>\n",
       "      <th>5</th>\n",
       "      <td>SVM sigmoid</td>\n",
       "      <td>Sin procesar</td>\n",
       "      <td>-0.1721</td>\n",
       "      <td>-0.1052</td>\n",
       "      <td>227712.445745</td>\n",
       "      <td>339853.117237</td>\n",
       "    </tr>\n",
       "    <tr>\n",
       "      <th>6</th>\n",
       "      <td>xgboost Regresion</td>\n",
       "      <td>Sin procesar</td>\n",
       "      <td>1.0000</td>\n",
       "      <td>0.6011</td>\n",
       "      <td>154.052171</td>\n",
       "      <td>154047.635280</td>\n",
       "    </tr>\n",
       "    <tr>\n",
       "      <th>7</th>\n",
       "      <td>Gradient Boosting Regressor</td>\n",
       "      <td>Sin procesar</td>\n",
       "      <td>0.9955</td>\n",
       "      <td>0.5745</td>\n",
       "      <td>18768.389799</td>\n",
       "      <td>164684.502620</td>\n",
       "    </tr>\n",
       "    <tr>\n",
       "      <th>8</th>\n",
       "      <td>Árbol de regresión</td>\n",
       "      <td>Sin procesar</td>\n",
       "      <td>0.7927</td>\n",
       "      <td>0.4487</td>\n",
       "      <td>90435.970707</td>\n",
       "      <td>190445.789714</td>\n",
       "    </tr>\n",
       "  </tbody>\n",
       "</table>\n",
       "</div>"
      ],
      "text/plain": [
       "                        Modelo      Detalles R2 train  R2 test      MAE train  \\\n",
       "0             Regresión Lineal  Sin procesar   0.8984   0.6064   85108.467569   \n",
       "1             Regresión Bridge  Sin procesar   0.8703   0.6252   92224.225725   \n",
       "2                   SVM linear  Sin procesar   0.8150   0.6758  100237.204952   \n",
       "3                     SVM poly  Sin procesar  -0.1296  -0.0882  225990.993648   \n",
       "4                      SVM rbf  Sin procesar  -0.1720  -0.1051  227704.843298   \n",
       "5                  SVM sigmoid  Sin procesar  -0.1721  -0.1052  227712.445745   \n",
       "6            xgboost Regresion  Sin procesar   1.0000   0.6011     154.052171   \n",
       "7  Gradient Boosting Regressor  Sin procesar   0.9955   0.5745   18768.389799   \n",
       "8           Árbol de regresión  Sin procesar   0.7927   0.4487   90435.970707   \n",
       "\n",
       "        MAE test  \n",
       "0  187211.020693  \n",
       "1  191317.605630  \n",
       "2  185210.338313  \n",
       "3  338429.185516  \n",
       "4  339847.170051  \n",
       "5  339853.117237  \n",
       "6  154047.635280  \n",
       "7  164684.502620  \n",
       "8  190445.789714  "
      ]
     },
     "execution_count": 14,
     "metadata": {},
     "output_type": "execute_result"
    }
   ],
   "source": [
    "r2_train,r2_test, MAE_train,MAE_test,target_train_pred,target_test_pred = arbol_regresion(data, target, features_train, target_train, features_test, target_test)\n",
    "final = resultados.shape[0]\n",
    "resultados.loc[final] = ['Árbol de regresión','Sin procesar',r2_train,r2_test, MAE_train,MAE_test]\n",
    "resultados"
   ]
  },
  {
   "cell_type": "markdown",
   "metadata": {},
   "source": [
    "### **Valoración de resultados modelos**\n",
    "\n",
    "Los modelos que han presentado mejor rendimientos han sido Regresion Bridge, SVM y Linear Regresor. En el siguiente nootebook trabajaremos ambos modelos para ver si conseguimos mejorar su rendimiento y quedarnos con el que mejores resultaods aporte para generar nuestro dataset final con la columna precio predicho, variación del precio predicho con el precio real y sacar su porcentaje de rentabilidad. Estos datos serán los que usaremos para la parte de viualización front end."
   ]
  },
  {
   "cell_type": "code",
   "execution_count": 15,
   "metadata": {},
   "outputs": [],
   "source": [
    "resultados['R2 test'] = resultados['R2 test'].astype(float)"
   ]
  },
  {
   "cell_type": "code",
   "execution_count": 16,
   "metadata": {},
   "outputs": [
    {
     "data": {
      "image/png": "[encoded data removed]",
      "text/plain": [
       "<Figure size 640x480 with 1 Axes>"
      ]
     },
     "metadata": {},
     "output_type": "display_data"
    }
   ],
   "source": [
    "sns.barplot(x='Modelo', y='R2 test', data=resultados)\n",
    "\n",
    "# Añade título y etiquetas de eje\n",
    "plt.title('Comparación de R2 test de los modelos', color='darkblue')\n",
    "plt.xlabel('Modelos')\n",
    "plt.ylabel('R2')\n",
    "plt.xticks(rotation=60)\n",
    "\n",
    "# Muestra el gráfico\n",
    "plt.savefig(\"../graficas/comparacion_r2test_modelos\")\n",
    "plt.show()"
   ]
  },
  {
   "cell_type": "markdown",
   "metadata": {},
   "source": [
    "Guardamos la tabla de evaluaciones obtenida:"
   ]
  },
  {
   "cell_type": "code",
   "execution_count": 17,
   "metadata": {},
   "outputs": [],
   "source": [
    "resultados.to_csv('../data/tabla_resultados_evaluaciones_modelos.csv', index=False)"
   ]
  },
  {
   "cell_type": "code",
   "execution_count": null,
   "metadata": {},
   "outputs": [],
   "source": []
  }
 ],
 "metadata": {
  "kernelspec": {
   "display_name": "Python 3 (ipykernel)",
   "language": "python",
   "name": "python3"
  },
  "language_info": {
   "codemirror_mode": {
    "name": "ipython",
    "version": 3
   },
   "file_extension": ".py",
   "mimetype": "text/x-python",
   "name": "python",
   "nbconvert_exporter": "python",
   "pygments_lexer": "ipython3",
   "version": "3.10.9"
  }
 },
 "nbformat": 4,
 "nbformat_minor": 4
}
