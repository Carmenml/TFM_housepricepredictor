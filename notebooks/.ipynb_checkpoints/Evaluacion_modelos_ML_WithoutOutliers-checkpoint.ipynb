{
 "cells": [
  {
   "cell_type": "markdown",
   "metadata": {
    "tags": []
   },
   "source": [
    "## **EVALUACIÓN MODELOS**\n",
    "El dataset utilizado no contiene una gran cantidad de datos ya que se realizar exclusivamente de la zona de Churriana, Málaga y además nuestro modelo de scrapeo web termina bloqueando la extracción de datos y no nos permite obtener todos los datos de la zona disponibles.\n",
    "\n",
    "Se aplican diferentes modelos para ver cual de ellos presenta el mejor comportamiento a la hora de predecir el precio:\n",
    "* Regresión Lineal\n",
    "* Regresión Bridge\n",
    "* SVM-Support Vector Machine\n",
    "* XgBoost Regresion\n",
    "* Gradient Boosting Regressor\n",
    "* Arbol de Regresión"
   ]
  },
  {
   "cell_type": "markdown",
   "metadata": {},
   "source": [
    "### **Importamos las librerías necesarias:**"
   ]
  },
  {
   "cell_type": "code",
   "execution_count": 23,
   "metadata": {},
   "outputs": [],
   "source": [
    "import numpy as np\n",
    "import matplotlib.pyplot as plt\n",
    "import pandas as pd\n",
    "import seaborn as sns\n",
    "import sklearn\n",
    "\n",
    "from plotly.subplots import make_subplots\n",
    "import plotly.graph_objects as go\n",
    "import plotly.express as px"
   ]
  },
  {
   "cell_type": "markdown",
   "metadata": {},
   "source": [
    "### **Importamos el modulo con las funciones para el calculo de modelos**"
   ]
  },
  {
   "cell_type": "code",
   "execution_count": 24,
   "metadata": {},
   "outputs": [],
   "source": [
    "from ipynb.fs.defs.Funciones_modelos_ML import regresion_lineal,regresion_ridge, svm_support, xgboost_regresion, gb_regresion, arbol_regresion"
   ]
  },
  {
   "cell_type": "code",
   "execution_count": 25,
   "metadata": {},
   "outputs": [],
   "source": [
    "file_path = \"../data/data_model_churriana_malaga.csv\"\n",
    "data = pd.read_csv(file_path, index_col = 0)"
   ]
  },
  {
   "cell_type": "code",
   "execution_count": 26,
   "metadata": {},
   "outputs": [
    {
     "data": {
      "text/html": [
       "<div>\n",
       "<style scoped>\n",
       "    .dataframe tbody tr th:only-of-type {\n",
       "        vertical-align: middle;\n",
       "    }\n",
       "\n",
       "    .dataframe tbody tr th {\n",
       "        vertical-align: top;\n",
       "    }\n",
       "\n",
       "    .dataframe thead th {\n",
       "        text-align: right;\n",
       "    }\n",
       "</style>\n",
       "<table border=\"1\" class=\"dataframe\">\n",
       "  <thead>\n",
       "    <tr style=\"text-align: right;\">\n",
       "      <th></th>\n",
       "      <th>latitude</th>\n",
       "      <th>longitude</th>\n",
       "      <th>price</th>\n",
       "      <th>energy_certification</th>\n",
       "      <th>room_number</th>\n",
       "      <th>bath_number</th>\n",
       "      <th>has_garden</th>\n",
       "      <th>has_terrace</th>\n",
       "      <th>has_parking</th>\n",
       "      <th>has_swimmingpool</th>\n",
       "      <th>has_lift</th>\n",
       "      <th>constructed_area</th>\n",
       "      <th>is_new_development</th>\n",
       "      <th>is_needs_renovating</th>\n",
       "      <th>is_goog_condition</th>\n",
       "    </tr>\n",
       "  </thead>\n",
       "  <tbody>\n",
       "    <tr>\n",
       "      <th>0</th>\n",
       "      <td>36.666638</td>\n",
       "      <td>-4.464576</td>\n",
       "      <td>395000</td>\n",
       "      <td>7</td>\n",
       "      <td>4</td>\n",
       "      <td>3</td>\n",
       "      <td>1.0</td>\n",
       "      <td>1.0</td>\n",
       "      <td>1.0</td>\n",
       "      <td>1.0</td>\n",
       "      <td>0.0</td>\n",
       "      <td>194</td>\n",
       "      <td>0</td>\n",
       "      <td>0</td>\n",
       "      <td>1</td>\n",
       "    </tr>\n",
       "    <tr>\n",
       "      <th>1</th>\n",
       "      <td>36.663719</td>\n",
       "      <td>-4.503897</td>\n",
       "      <td>640000</td>\n",
       "      <td>7</td>\n",
       "      <td>4</td>\n",
       "      <td>2</td>\n",
       "      <td>1.0</td>\n",
       "      <td>1.0</td>\n",
       "      <td>1.0</td>\n",
       "      <td>1.0</td>\n",
       "      <td>0.0</td>\n",
       "      <td>310</td>\n",
       "      <td>0</td>\n",
       "      <td>0</td>\n",
       "      <td>1</td>\n",
       "    </tr>\n",
       "    <tr>\n",
       "      <th>2</th>\n",
       "      <td>36.656894</td>\n",
       "      <td>-4.502930</td>\n",
       "      <td>567000</td>\n",
       "      <td>7</td>\n",
       "      <td>5</td>\n",
       "      <td>4</td>\n",
       "      <td>1.0</td>\n",
       "      <td>1.0</td>\n",
       "      <td>0.0</td>\n",
       "      <td>1.0</td>\n",
       "      <td>0.0</td>\n",
       "      <td>410</td>\n",
       "      <td>0</td>\n",
       "      <td>0</td>\n",
       "      <td>1</td>\n",
       "    </tr>\n",
       "    <tr>\n",
       "      <th>3</th>\n",
       "      <td>36.671190</td>\n",
       "      <td>-4.516900</td>\n",
       "      <td>375900</td>\n",
       "      <td>8</td>\n",
       "      <td>4</td>\n",
       "      <td>2</td>\n",
       "      <td>1.0</td>\n",
       "      <td>1.0</td>\n",
       "      <td>1.0</td>\n",
       "      <td>1.0</td>\n",
       "      <td>1.0</td>\n",
       "      <td>236</td>\n",
       "      <td>1</td>\n",
       "      <td>0</td>\n",
       "      <td>0</td>\n",
       "    </tr>\n",
       "    <tr>\n",
       "      <th>4</th>\n",
       "      <td>36.671190</td>\n",
       "      <td>-4.516900</td>\n",
       "      <td>249900</td>\n",
       "      <td>8</td>\n",
       "      <td>2</td>\n",
       "      <td>2</td>\n",
       "      <td>0.0</td>\n",
       "      <td>1.0</td>\n",
       "      <td>1.0</td>\n",
       "      <td>1.0</td>\n",
       "      <td>1.0</td>\n",
       "      <td>150</td>\n",
       "      <td>1</td>\n",
       "      <td>0</td>\n",
       "      <td>0</td>\n",
       "    </tr>\n",
       "  </tbody>\n",
       "</table>\n",
       "</div>"
      ],
      "text/plain": [
       "    latitude  longitude   price  energy_certification  room_number  \\\n",
       "0  36.666638  -4.464576  395000                     7            4   \n",
       "1  36.663719  -4.503897  640000                     7            4   \n",
       "2  36.656894  -4.502930  567000                     7            5   \n",
       "3  36.671190  -4.516900  375900                     8            4   \n",
       "4  36.671190  -4.516900  249900                     8            2   \n",
       "\n",
       "   bath_number  has_garden  has_terrace  has_parking  has_swimmingpool  \\\n",
       "0            3         1.0          1.0          1.0               1.0   \n",
       "1            2         1.0          1.0          1.0               1.0   \n",
       "2            4         1.0          1.0          0.0               1.0   \n",
       "3            2         1.0          1.0          1.0               1.0   \n",
       "4            2         0.0          1.0          1.0               1.0   \n",
       "\n",
       "   has_lift  constructed_area  is_new_development  is_needs_renovating  \\\n",
       "0       0.0               194                   0                    0   \n",
       "1       0.0               310                   0                    0   \n",
       "2       0.0               410                   0                    0   \n",
       "3       1.0               236                   1                    0   \n",
       "4       1.0               150                   1                    0   \n",
       "\n",
       "   is_goog_condition  \n",
       "0                  1  \n",
       "1                  1  \n",
       "2                  1  \n",
       "3                  0  \n",
       "4                  0  "
      ]
     },
     "execution_count": 26,
     "metadata": {},
     "output_type": "execute_result"
    }
   ],
   "source": [
    "data.head()"
   ]
  },
  {
   "cell_type": "markdown",
   "metadata": {},
   "source": [
    "#### **Tabla para evaluación de los modelos**<br>\n",
    "Creamos una tabla vacía con las siguientes columnas: 'Modelo', 'Detalles', 'R2 train', 'R2 test', 'MAE train' y 'MAE test'.\n",
    "Aquí iremos agregando los resultados de cada modelo para finalmente de un simple vistazo poder comparar los rendimientos que aportan y quedarnos con uno de ellos."
   ]
  },
  {
   "cell_type": "code",
   "execution_count": 27,
   "metadata": {},
   "outputs": [],
   "source": [
    "resultados = pd.DataFrame({\n",
    "    'Modelo':[],\n",
    "    'Detalles':[],\n",
    "    'R2 train':[],\n",
    "    'R2 test':[],\n",
    "    'MAE train':[],\n",
    "    'MAE test':[]\n",
    "})"
   ]
  },
  {
   "cell_type": "markdown",
   "metadata": {},
   "source": [
    "Definimos dos funciones que nos ayudarán a evaluar posteriormente el rendimiento de los modelos."
   ]
  },
  {
   "cell_type": "markdown",
   "metadata": {},
   "source": [
    "#### **Variable objetivo y features**"
   ]
  },
  {
   "cell_type": "code",
   "execution_count": 28,
   "metadata": {},
   "outputs": [],
   "source": [
    "%store -r features\n",
    "%store -r target"
   ]
  },
  {
   "cell_type": "markdown",
   "metadata": {},
   "source": [
    "#### **Dividimos el conjunto de datos en train y test**"
   ]
  },
  {
   "cell_type": "code",
   "execution_count": 29,
   "metadata": {},
   "outputs": [],
   "source": [
    "%store -r features_train\n",
    "%store -r features_test\n",
    "%store -r target_train\n",
    "%store -r target_test"
   ]
  },
  {
   "cell_type": "markdown",
   "metadata": {
    "tags": []
   },
   "source": [
    "#### **Regresión lineal**"
   ]
  },
  {
   "cell_type": "code",
   "execution_count": 30,
   "metadata": {},
   "outputs": [],
   "source": [
    "from sklearn.linear_model import LinearRegression"
   ]
  },
  {
   "cell_type": "code",
   "execution_count": 31,
   "metadata": {
    "tags": []
   },
   "outputs": [
    {
     "data": {
      "text/html": [
       "<div>\n",
       "<style scoped>\n",
       "    .dataframe tbody tr th:only-of-type {\n",
       "        vertical-align: middle;\n",
       "    }\n",
       "\n",
       "    .dataframe tbody tr th {\n",
       "        vertical-align: top;\n",
       "    }\n",
       "\n",
       "    .dataframe thead th {\n",
       "        text-align: right;\n",
       "    }\n",
       "</style>\n",
       "<table border=\"1\" class=\"dataframe\">\n",
       "  <thead>\n",
       "    <tr style=\"text-align: right;\">\n",
       "      <th></th>\n",
       "      <th>Modelo</th>\n",
       "      <th>Detalles</th>\n",
       "      <th>R2 train</th>\n",
       "      <th>R2 test</th>\n",
       "      <th>MAE train</th>\n",
       "      <th>MAE test</th>\n",
       "    </tr>\n",
       "  </thead>\n",
       "  <tbody>\n",
       "    <tr>\n",
       "      <th>0</th>\n",
       "      <td>Regresión Lineal</td>\n",
       "      <td>Sin procesar</td>\n",
       "      <td>0.8106</td>\n",
       "      <td>0.2941</td>\n",
       "      <td>125948.66323</td>\n",
       "      <td>130757.152958</td>\n",
       "    </tr>\n",
       "  </tbody>\n",
       "</table>\n",
       "</div>"
      ],
      "text/plain": [
       "             Modelo      Detalles R2 train R2 test     MAE train  \\\n",
       "0  Regresión Lineal  Sin procesar   0.8106  0.2941  125948.66323   \n",
       "\n",
       "        MAE test  \n",
       "0  130757.152958  "
      ]
     },
     "execution_count": 31,
     "metadata": {},
     "output_type": "execute_result"
    }
   ],
   "source": [
    "#Definimos una función para aplicar regresiones lineales. \n",
    "\n",
    "r2_train,r2_test,MAE_train,MAE_test,target_train_pred,target_test_pred = regresion_lineal(data, target, features_train, target_train, features_test, target_test)\n",
    "\n",
    "\n",
    "final = resultados.shape[0]\n",
    "resultados.loc[final] = ['Regresión Lineal','Sin procesar',r2_train,r2_test,MAE_train,MAE_test]\n",
    "resultados"
   ]
  },
  {
   "cell_type": "markdown",
   "metadata": {},
   "source": [
    "### **Regresión Ridge**"
   ]
  },
  {
   "cell_type": "code",
   "execution_count": 33,
   "metadata": {
    "tags": []
   },
   "outputs": [
    {
     "data": {
      "text/html": [
       "<div>\n",
       "<style scoped>\n",
       "    .dataframe tbody tr th:only-of-type {\n",
       "        vertical-align: middle;\n",
       "    }\n",
       "\n",
       "    .dataframe tbody tr th {\n",
       "        vertical-align: top;\n",
       "    }\n",
       "\n",
       "    .dataframe thead th {\n",
       "        text-align: right;\n",
       "    }\n",
       "</style>\n",
       "<table border=\"1\" class=\"dataframe\">\n",
       "  <thead>\n",
       "    <tr style=\"text-align: right;\">\n",
       "      <th></th>\n",
       "      <th>Modelo</th>\n",
       "      <th>Detalles</th>\n",
       "      <th>R2 train</th>\n",
       "      <th>R2 test</th>\n",
       "      <th>MAE train</th>\n",
       "      <th>MAE test</th>\n",
       "    </tr>\n",
       "  </thead>\n",
       "  <tbody>\n",
       "    <tr>\n",
       "      <th>0</th>\n",
       "      <td>Regresión Lineal</td>\n",
       "      <td>Sin procesar</td>\n",
       "      <td>0.8106</td>\n",
       "      <td>0.2941</td>\n",
       "      <td>125948.663230</td>\n",
       "      <td>130757.152958</td>\n",
       "    </tr>\n",
       "    <tr>\n",
       "      <th>1</th>\n",
       "      <td>Regresión Bridge</td>\n",
       "      <td>Sin procesar</td>\n",
       "      <td>0.7933</td>\n",
       "      <td>0.5579</td>\n",
       "      <td>127738.452997</td>\n",
       "      <td>105159.664479</td>\n",
       "    </tr>\n",
       "  </tbody>\n",
       "</table>\n",
       "</div>"
      ],
      "text/plain": [
       "             Modelo      Detalles R2 train R2 test      MAE train  \\\n",
       "0  Regresión Lineal  Sin procesar   0.8106  0.2941  125948.663230   \n",
       "1  Regresión Bridge  Sin procesar   0.7933  0.5579  127738.452997   \n",
       "\n",
       "        MAE test  \n",
       "0  130757.152958  \n",
       "1  105159.664479  "
      ]
     },
     "execution_count": 33,
     "metadata": {},
     "output_type": "execute_result"
    }
   ],
   "source": [
    "r2_train,r2_test,MAE_train,MAE_test,target_train_pred,target_test_pred = regresion_ridge(data, target, features_train, target_train, features_test, target_test)\n",
    "final = resultados.shape[0]\n",
    "resultados.loc[final] = ['Regresión Bridge','Sin procesar',r2_train,r2_test,MAE_train,MAE_test]\n",
    "resultados"
   ]
  },
  {
   "cell_type": "markdown",
   "metadata": {},
   "source": [
    "El modelo de regresión lineal presenta mejores resultados que el modelo bridge.\n",
    "<br>\n",
    "Veamos otros tipos de modelos a comparar."
   ]
  },
  {
   "cell_type": "markdown",
   "metadata": {},
   "source": [
    "### **SVM-Support Vector Machine**\n"
   ]
  },
  {
   "cell_type": "code",
   "execution_count": 35,
   "metadata": {},
   "outputs": [
    {
     "data": {
      "text/html": [
       "<div>\n",
       "<style scoped>\n",
       "    .dataframe tbody tr th:only-of-type {\n",
       "        vertical-align: middle;\n",
       "    }\n",
       "\n",
       "    .dataframe tbody tr th {\n",
       "        vertical-align: top;\n",
       "    }\n",
       "\n",
       "    .dataframe thead th {\n",
       "        text-align: right;\n",
       "    }\n",
       "</style>\n",
       "<table border=\"1\" class=\"dataframe\">\n",
       "  <thead>\n",
       "    <tr style=\"text-align: right;\">\n",
       "      <th></th>\n",
       "      <th>Modelo</th>\n",
       "      <th>Detalles</th>\n",
       "      <th>R2 train</th>\n",
       "      <th>R2 test</th>\n",
       "      <th>MAE train</th>\n",
       "      <th>MAE test</th>\n",
       "    </tr>\n",
       "  </thead>\n",
       "  <tbody>\n",
       "    <tr>\n",
       "      <th>0</th>\n",
       "      <td>Regresión Lineal</td>\n",
       "      <td>Sin procesar</td>\n",
       "      <td>0.8106</td>\n",
       "      <td>0.2941</td>\n",
       "      <td>125948.663230</td>\n",
       "      <td>130757.152958</td>\n",
       "    </tr>\n",
       "    <tr>\n",
       "      <th>1</th>\n",
       "      <td>Regresión Bridge</td>\n",
       "      <td>Sin procesar</td>\n",
       "      <td>0.7933</td>\n",
       "      <td>0.5579</td>\n",
       "      <td>127738.452997</td>\n",
       "      <td>105159.664479</td>\n",
       "    </tr>\n",
       "    <tr>\n",
       "      <th>2</th>\n",
       "      <td>SVM linear</td>\n",
       "      <td>Sin procesar</td>\n",
       "      <td>0.7469</td>\n",
       "      <td>0.7981</td>\n",
       "      <td>122366.178674</td>\n",
       "      <td>80197.966061</td>\n",
       "    </tr>\n",
       "    <tr>\n",
       "      <th>3</th>\n",
       "      <td>SVM poly</td>\n",
       "      <td>Sin procesar</td>\n",
       "      <td>-0.0825</td>\n",
       "      <td>-0.1025</td>\n",
       "      <td>264363.027066</td>\n",
       "      <td>189120.616567</td>\n",
       "    </tr>\n",
       "    <tr>\n",
       "      <th>4</th>\n",
       "      <td>SVM rbf</td>\n",
       "      <td>Sin procesar</td>\n",
       "      <td>-0.1105</td>\n",
       "      <td>-0.1165</td>\n",
       "      <td>266129.376800</td>\n",
       "      <td>189842.790500</td>\n",
       "    </tr>\n",
       "    <tr>\n",
       "      <th>5</th>\n",
       "      <td>SVM sigmoid</td>\n",
       "      <td>Sin procesar</td>\n",
       "      <td>-0.1105</td>\n",
       "      <td>-0.1165</td>\n",
       "      <td>266136.296126</td>\n",
       "      <td>189848.152120</td>\n",
       "    </tr>\n",
       "  </tbody>\n",
       "</table>\n",
       "</div>"
      ],
      "text/plain": [
       "             Modelo      Detalles R2 train  R2 test      MAE train  \\\n",
       "0  Regresión Lineal  Sin procesar   0.8106   0.2941  125948.663230   \n",
       "1  Regresión Bridge  Sin procesar   0.7933   0.5579  127738.452997   \n",
       "2        SVM linear  Sin procesar   0.7469   0.7981  122366.178674   \n",
       "3          SVM poly  Sin procesar  -0.0825  -0.1025  264363.027066   \n",
       "4           SVM rbf  Sin procesar  -0.1105  -0.1165  266129.376800   \n",
       "5       SVM sigmoid  Sin procesar  -0.1105  -0.1165  266136.296126   \n",
       "\n",
       "        MAE test  \n",
       "0  130757.152958  \n",
       "1  105159.664479  \n",
       "2   80197.966061  \n",
       "3  189120.616567  \n",
       "4  189842.790500  \n",
       "5  189848.152120  "
      ]
     },
     "execution_count": 35,
     "metadata": {},
     "output_type": "execute_result"
    }
   ],
   "source": [
    "kernels = ['linear', 'poly', 'rbf', 'sigmoid']\n",
    "\n",
    "for kernel in kernels:\n",
    "    r2_train,r2_test,MAE_train,MAE_test,target_train_pred,target_test_pred = svm_support(data, target, features_train, target_train, features_test, target_test, kernel=kernel)\n",
    "    final = resultados.shape[0]\n",
    "    resultados.loc[final] = [f\"SVM {kernel}\",\"Sin procesar\",r2_train,r2_test,MAE_train,MAE_test]\n",
    "resultados"
   ]
  },
  {
   "cell_type": "markdown",
   "metadata": {},
   "source": [
    "Este modelo presenta los mejores resultados para el parámetro \"linear\", el resto no ajusta bien el modelo."
   ]
  },
  {
   "cell_type": "markdown",
   "metadata": {},
   "source": [
    "### **XGBoost**"
   ]
  },
  {
   "cell_type": "code",
   "execution_count": 37,
   "metadata": {},
   "outputs": [
    {
     "data": {
      "text/html": [
       "<div>\n",
       "<style scoped>\n",
       "    .dataframe tbody tr th:only-of-type {\n",
       "        vertical-align: middle;\n",
       "    }\n",
       "\n",
       "    .dataframe tbody tr th {\n",
       "        vertical-align: top;\n",
       "    }\n",
       "\n",
       "    .dataframe thead th {\n",
       "        text-align: right;\n",
       "    }\n",
       "</style>\n",
       "<table border=\"1\" class=\"dataframe\">\n",
       "  <thead>\n",
       "    <tr style=\"text-align: right;\">\n",
       "      <th></th>\n",
       "      <th>Modelo</th>\n",
       "      <th>Detalles</th>\n",
       "      <th>R2 train</th>\n",
       "      <th>R2 test</th>\n",
       "      <th>MAE train</th>\n",
       "      <th>MAE test</th>\n",
       "    </tr>\n",
       "  </thead>\n",
       "  <tbody>\n",
       "    <tr>\n",
       "      <th>0</th>\n",
       "      <td>Regresión Lineal</td>\n",
       "      <td>Sin procesar</td>\n",
       "      <td>0.8106</td>\n",
       "      <td>0.2941</td>\n",
       "      <td>125948.663230</td>\n",
       "      <td>130757.152958</td>\n",
       "    </tr>\n",
       "    <tr>\n",
       "      <th>1</th>\n",
       "      <td>Regresión Bridge</td>\n",
       "      <td>Sin procesar</td>\n",
       "      <td>0.7933</td>\n",
       "      <td>0.5579</td>\n",
       "      <td>127738.452997</td>\n",
       "      <td>105159.664479</td>\n",
       "    </tr>\n",
       "    <tr>\n",
       "      <th>2</th>\n",
       "      <td>SVM linear</td>\n",
       "      <td>Sin procesar</td>\n",
       "      <td>0.7469</td>\n",
       "      <td>0.7981</td>\n",
       "      <td>122366.178674</td>\n",
       "      <td>80197.966061</td>\n",
       "    </tr>\n",
       "    <tr>\n",
       "      <th>3</th>\n",
       "      <td>SVM poly</td>\n",
       "      <td>Sin procesar</td>\n",
       "      <td>-0.0825</td>\n",
       "      <td>-0.1025</td>\n",
       "      <td>264363.027066</td>\n",
       "      <td>189120.616567</td>\n",
       "    </tr>\n",
       "    <tr>\n",
       "      <th>4</th>\n",
       "      <td>SVM rbf</td>\n",
       "      <td>Sin procesar</td>\n",
       "      <td>-0.1105</td>\n",
       "      <td>-0.1165</td>\n",
       "      <td>266129.376800</td>\n",
       "      <td>189842.790500</td>\n",
       "    </tr>\n",
       "    <tr>\n",
       "      <th>5</th>\n",
       "      <td>SVM sigmoid</td>\n",
       "      <td>Sin procesar</td>\n",
       "      <td>-0.1105</td>\n",
       "      <td>-0.1165</td>\n",
       "      <td>266136.296126</td>\n",
       "      <td>189848.152120</td>\n",
       "    </tr>\n",
       "    <tr>\n",
       "      <th>6</th>\n",
       "      <td>xgboost Regresion</td>\n",
       "      <td>Sin procesar</td>\n",
       "      <td>1.0000</td>\n",
       "      <td>-2.2860</td>\n",
       "      <td>197.100461</td>\n",
       "      <td>195859.649260</td>\n",
       "    </tr>\n",
       "  </tbody>\n",
       "</table>\n",
       "</div>"
      ],
      "text/plain": [
       "              Modelo      Detalles R2 train  R2 test      MAE train  \\\n",
       "0   Regresión Lineal  Sin procesar   0.8106   0.2941  125948.663230   \n",
       "1   Regresión Bridge  Sin procesar   0.7933   0.5579  127738.452997   \n",
       "2         SVM linear  Sin procesar   0.7469   0.7981  122366.178674   \n",
       "3           SVM poly  Sin procesar  -0.0825  -0.1025  264363.027066   \n",
       "4            SVM rbf  Sin procesar  -0.1105  -0.1165  266129.376800   \n",
       "5        SVM sigmoid  Sin procesar  -0.1105  -0.1165  266136.296126   \n",
       "6  xgboost Regresion  Sin procesar   1.0000  -2.2860     197.100461   \n",
       "\n",
       "        MAE test  \n",
       "0  130757.152958  \n",
       "1  105159.664479  \n",
       "2   80197.966061  \n",
       "3  189120.616567  \n",
       "4  189842.790500  \n",
       "5  189848.152120  \n",
       "6  195859.649260  "
      ]
     },
     "execution_count": 37,
     "metadata": {},
     "output_type": "execute_result"
    }
   ],
   "source": [
    "r2_train,r2_test,MAE_train,MAE_test,target_train_pred,target_test_pred = xgboost_regresion(data, target, features_train, target_train, features_test, target_test)\n",
    "final = resultados.shape[0]\n",
    "resultados.loc[final] = ['xgboost Regresion','Sin procesar',r2_train,r2_test,MAE_train,MAE_test]\n",
    "resultados"
   ]
  },
  {
   "cell_type": "markdown",
   "metadata": {
    "tags": []
   },
   "source": [
    "### **Gradient Boosting Regressor**"
   ]
  },
  {
   "cell_type": "code",
   "execution_count": 39,
   "metadata": {},
   "outputs": [
    {
     "data": {
      "text/html": [
       "<div>\n",
       "<style scoped>\n",
       "    .dataframe tbody tr th:only-of-type {\n",
       "        vertical-align: middle;\n",
       "    }\n",
       "\n",
       "    .dataframe tbody tr th {\n",
       "        vertical-align: top;\n",
       "    }\n",
       "\n",
       "    .dataframe thead th {\n",
       "        text-align: right;\n",
       "    }\n",
       "</style>\n",
       "<table border=\"1\" class=\"dataframe\">\n",
       "  <thead>\n",
       "    <tr style=\"text-align: right;\">\n",
       "      <th></th>\n",
       "      <th>Modelo</th>\n",
       "      <th>Detalles</th>\n",
       "      <th>R2 train</th>\n",
       "      <th>R2 test</th>\n",
       "      <th>MAE train</th>\n",
       "      <th>MAE test</th>\n",
       "    </tr>\n",
       "  </thead>\n",
       "  <tbody>\n",
       "    <tr>\n",
       "      <th>0</th>\n",
       "      <td>Regresión Lineal</td>\n",
       "      <td>Sin procesar</td>\n",
       "      <td>0.8106</td>\n",
       "      <td>0.2941</td>\n",
       "      <td>125948.663230</td>\n",
       "      <td>130757.152958</td>\n",
       "    </tr>\n",
       "    <tr>\n",
       "      <th>1</th>\n",
       "      <td>Regresión Bridge</td>\n",
       "      <td>Sin procesar</td>\n",
       "      <td>0.7933</td>\n",
       "      <td>0.5579</td>\n",
       "      <td>127738.452997</td>\n",
       "      <td>105159.664479</td>\n",
       "    </tr>\n",
       "    <tr>\n",
       "      <th>2</th>\n",
       "      <td>SVM linear</td>\n",
       "      <td>Sin procesar</td>\n",
       "      <td>0.7469</td>\n",
       "      <td>0.7981</td>\n",
       "      <td>122366.178674</td>\n",
       "      <td>80197.966061</td>\n",
       "    </tr>\n",
       "    <tr>\n",
       "      <th>3</th>\n",
       "      <td>SVM poly</td>\n",
       "      <td>Sin procesar</td>\n",
       "      <td>-0.0825</td>\n",
       "      <td>-0.1025</td>\n",
       "      <td>264363.027066</td>\n",
       "      <td>189120.616567</td>\n",
       "    </tr>\n",
       "    <tr>\n",
       "      <th>4</th>\n",
       "      <td>SVM rbf</td>\n",
       "      <td>Sin procesar</td>\n",
       "      <td>-0.1105</td>\n",
       "      <td>-0.1165</td>\n",
       "      <td>266129.376800</td>\n",
       "      <td>189842.790500</td>\n",
       "    </tr>\n",
       "    <tr>\n",
       "      <th>5</th>\n",
       "      <td>SVM sigmoid</td>\n",
       "      <td>Sin procesar</td>\n",
       "      <td>-0.1105</td>\n",
       "      <td>-0.1165</td>\n",
       "      <td>266136.296126</td>\n",
       "      <td>189848.152120</td>\n",
       "    </tr>\n",
       "    <tr>\n",
       "      <th>6</th>\n",
       "      <td>xgboost Regresion</td>\n",
       "      <td>Sin procesar</td>\n",
       "      <td>1.0000</td>\n",
       "      <td>-2.2860</td>\n",
       "      <td>197.100461</td>\n",
       "      <td>195859.649260</td>\n",
       "    </tr>\n",
       "    <tr>\n",
       "      <th>7</th>\n",
       "      <td>Gradient Boosting Regressor</td>\n",
       "      <td>Sin procesar</td>\n",
       "      <td>0.9963</td>\n",
       "      <td>-2.8750</td>\n",
       "      <td>23124.428487</td>\n",
       "      <td>195454.579163</td>\n",
       "    </tr>\n",
       "  </tbody>\n",
       "</table>\n",
       "</div>"
      ],
      "text/plain": [
       "                        Modelo      Detalles R2 train  R2 test      MAE train  \\\n",
       "0             Regresión Lineal  Sin procesar   0.8106   0.2941  125948.663230   \n",
       "1             Regresión Bridge  Sin procesar   0.7933   0.5579  127738.452997   \n",
       "2                   SVM linear  Sin procesar   0.7469   0.7981  122366.178674   \n",
       "3                     SVM poly  Sin procesar  -0.0825  -0.1025  264363.027066   \n",
       "4                      SVM rbf  Sin procesar  -0.1105  -0.1165  266129.376800   \n",
       "5                  SVM sigmoid  Sin procesar  -0.1105  -0.1165  266136.296126   \n",
       "6            xgboost Regresion  Sin procesar   1.0000  -2.2860     197.100461   \n",
       "7  Gradient Boosting Regressor  Sin procesar   0.9963  -2.8750   23124.428487   \n",
       "\n",
       "        MAE test  \n",
       "0  130757.152958  \n",
       "1  105159.664479  \n",
       "2   80197.966061  \n",
       "3  189120.616567  \n",
       "4  189842.790500  \n",
       "5  189848.152120  \n",
       "6  195859.649260  \n",
       "7  195454.579163  "
      ]
     },
     "execution_count": 39,
     "metadata": {},
     "output_type": "execute_result"
    }
   ],
   "source": [
    "r2_train,r2_test,MAE_train,MAE_test,target_train_pred,target_test_pred = gb_regresion(data, target, features_train, target_train, features_test, target_test)\n",
    "final = resultados.shape[0]\n",
    "resultados.loc[final] = ['Gradient Boosting Regressor','Sin procesar',r2_train,r2_test,MAE_train,MAE_test]\n",
    "resultados"
   ]
  },
  {
   "cell_type": "markdown",
   "metadata": {
    "tags": []
   },
   "source": [
    "### **Random Forest Regressor**"
   ]
  },
  {
   "cell_type": "code",
   "execution_count": 41,
   "metadata": {},
   "outputs": [
    {
     "data": {
      "text/html": [
       "<div>\n",
       "<style scoped>\n",
       "    .dataframe tbody tr th:only-of-type {\n",
       "        vertical-align: middle;\n",
       "    }\n",
       "\n",
       "    .dataframe tbody tr th {\n",
       "        vertical-align: top;\n",
       "    }\n",
       "\n",
       "    .dataframe thead th {\n",
       "        text-align: right;\n",
       "    }\n",
       "</style>\n",
       "<table border=\"1\" class=\"dataframe\">\n",
       "  <thead>\n",
       "    <tr style=\"text-align: right;\">\n",
       "      <th></th>\n",
       "      <th>Modelo</th>\n",
       "      <th>Detalles</th>\n",
       "      <th>R2 train</th>\n",
       "      <th>R2 test</th>\n",
       "      <th>MAE train</th>\n",
       "      <th>MAE test</th>\n",
       "    </tr>\n",
       "  </thead>\n",
       "  <tbody>\n",
       "    <tr>\n",
       "      <th>0</th>\n",
       "      <td>Regresión Lineal</td>\n",
       "      <td>Sin procesar</td>\n",
       "      <td>0.8106</td>\n",
       "      <td>0.2941</td>\n",
       "      <td>125948.663230</td>\n",
       "      <td>130757.152958</td>\n",
       "    </tr>\n",
       "    <tr>\n",
       "      <th>1</th>\n",
       "      <td>Regresión Bridge</td>\n",
       "      <td>Sin procesar</td>\n",
       "      <td>0.7933</td>\n",
       "      <td>0.5579</td>\n",
       "      <td>127738.452997</td>\n",
       "      <td>105159.664479</td>\n",
       "    </tr>\n",
       "    <tr>\n",
       "      <th>2</th>\n",
       "      <td>SVM linear</td>\n",
       "      <td>Sin procesar</td>\n",
       "      <td>0.7469</td>\n",
       "      <td>0.7981</td>\n",
       "      <td>122366.178674</td>\n",
       "      <td>80197.966061</td>\n",
       "    </tr>\n",
       "    <tr>\n",
       "      <th>3</th>\n",
       "      <td>SVM poly</td>\n",
       "      <td>Sin procesar</td>\n",
       "      <td>-0.0825</td>\n",
       "      <td>-0.1025</td>\n",
       "      <td>264363.027066</td>\n",
       "      <td>189120.616567</td>\n",
       "    </tr>\n",
       "    <tr>\n",
       "      <th>4</th>\n",
       "      <td>SVM rbf</td>\n",
       "      <td>Sin procesar</td>\n",
       "      <td>-0.1105</td>\n",
       "      <td>-0.1165</td>\n",
       "      <td>266129.376800</td>\n",
       "      <td>189842.790500</td>\n",
       "    </tr>\n",
       "    <tr>\n",
       "      <th>5</th>\n",
       "      <td>SVM sigmoid</td>\n",
       "      <td>Sin procesar</td>\n",
       "      <td>-0.1105</td>\n",
       "      <td>-0.1165</td>\n",
       "      <td>266136.296126</td>\n",
       "      <td>189848.152120</td>\n",
       "    </tr>\n",
       "    <tr>\n",
       "      <th>6</th>\n",
       "      <td>xgboost Regresion</td>\n",
       "      <td>Sin procesar</td>\n",
       "      <td>1.0000</td>\n",
       "      <td>-2.2860</td>\n",
       "      <td>197.100461</td>\n",
       "      <td>195859.649260</td>\n",
       "    </tr>\n",
       "    <tr>\n",
       "      <th>7</th>\n",
       "      <td>Gradient Boosting Regressor</td>\n",
       "      <td>Sin procesar</td>\n",
       "      <td>0.9963</td>\n",
       "      <td>-2.8750</td>\n",
       "      <td>23124.428487</td>\n",
       "      <td>195454.579163</td>\n",
       "    </tr>\n",
       "    <tr>\n",
       "      <th>8</th>\n",
       "      <td>Árbol de regresión</td>\n",
       "      <td>Sin procesar</td>\n",
       "      <td>0.6497</td>\n",
       "      <td>0.3140</td>\n",
       "      <td>120009.631769</td>\n",
       "      <td>123786.747113</td>\n",
       "    </tr>\n",
       "  </tbody>\n",
       "</table>\n",
       "</div>"
      ],
      "text/plain": [
       "                        Modelo      Detalles R2 train  R2 test      MAE train  \\\n",
       "0             Regresión Lineal  Sin procesar   0.8106   0.2941  125948.663230   \n",
       "1             Regresión Bridge  Sin procesar   0.7933   0.5579  127738.452997   \n",
       "2                   SVM linear  Sin procesar   0.7469   0.7981  122366.178674   \n",
       "3                     SVM poly  Sin procesar  -0.0825  -0.1025  264363.027066   \n",
       "4                      SVM rbf  Sin procesar  -0.1105  -0.1165  266129.376800   \n",
       "5                  SVM sigmoid  Sin procesar  -0.1105  -0.1165  266136.296126   \n",
       "6            xgboost Regresion  Sin procesar   1.0000  -2.2860     197.100461   \n",
       "7  Gradient Boosting Regressor  Sin procesar   0.9963  -2.8750   23124.428487   \n",
       "8           Árbol de regresión  Sin procesar   0.6497   0.3140  120009.631769   \n",
       "\n",
       "        MAE test  \n",
       "0  130757.152958  \n",
       "1  105159.664479  \n",
       "2   80197.966061  \n",
       "3  189120.616567  \n",
       "4  189842.790500  \n",
       "5  189848.152120  \n",
       "6  195859.649260  \n",
       "7  195454.579163  \n",
       "8  123786.747113  "
      ]
     },
     "execution_count": 41,
     "metadata": {},
     "output_type": "execute_result"
    }
   ],
   "source": [
    "r2_train,r2_test, MAE_train,MAE_test,target_train_pred,target_test_pred = arbol_regresion(data, target, features_train, target_train, features_test, target_test)\n",
    "final = resultados.shape[0]\n",
    "resultados.loc[final] = ['Árbol de regresión','Sin procesar',r2_train,r2_test, MAE_train,MAE_test]\n",
    "resultados"
   ]
  },
  {
   "cell_type": "markdown",
   "metadata": {},
   "source": [
    "### **Valoración de resultados modelos**\n",
    "\n",
    "Los modelos que han presentado mejor rendimientos han sido Regresion Bridge, SVM y Linear Regresor. En el siguiente nootebook trabajaremos ambos modelos para ver si conseguimos mejorar su rendimiento y quedarnos con el que mejores resultaods aporte para generar nuestro dataset final con la columna precio predicho, variación del precio predicho con el precio real y sacar su porcentaje de rentabilidad. Estos datos serán los que usaremos para la parte de viualización front end."
   ]
  },
  {
   "cell_type": "code",
   "execution_count": 42,
   "metadata": {},
   "outputs": [],
   "source": [
    "resultados['R2 test'] = resultados['R2 test'].astype(float)"
   ]
  },
  {
   "cell_type": "code",
   "execution_count": 43,
   "metadata": {},
   "outputs": [
    {
     "data": {
      "image/png": "[encoded data removed]",
      "text/plain": [
       "<Figure size 640x480 with 1 Axes>"
      ]
     },
     "metadata": {},
     "output_type": "display_data"
    }
   ],
   "source": [
    "sns.barplot(x='Modelo', y='R2 test', data=resultados)\n",
    "\n",
    "# Añade título y etiquetas de eje\n",
    "plt.title('Comparación de R2 test de los modelos', color='darkblue')\n",
    "plt.xlabel('Modelos')\n",
    "plt.ylabel('R2')\n",
    "plt.xticks(rotation=90)\n",
    "\n",
    "# Muestra el gráfico\n",
    "plt.savefig(\"../graficas/comparacion_r2test_modelos\")\n",
    "plt.show()"
   ]
  },
  {
   "cell_type": "markdown",
   "metadata": {},
   "source": [
    "Guardamos la tabla de evaluaciones obtenida:"
   ]
  },
  {
   "cell_type": "code",
   "execution_count": 44,
   "metadata": {},
   "outputs": [],
   "source": [
    "resultados.to_csv('../data/tabla_resultados_evaluaciones_modelos.csv', index=False)"
   ]
  },
  {
   "cell_type": "code",
   "execution_count": null,
   "metadata": {},
   "outputs": [],
   "source": []
  }
 ],
 "metadata": {
  "kernelspec": {
   "display_name": "Python 3 (ipykernel)",
   "language": "python",
   "name": "python3"
  },
  "language_info": {
   "codemirror_mode": {
    "name": "ipython",
    "version": 3
   },
   "file_extension": ".py",
   "mimetype": "text/x-python",
   "name": "python",
   "nbconvert_exporter": "python",
   "pygments_lexer": "ipython3",
   "version": "3.10.9"
  }
 },
 "nbformat": 4,
 "nbformat_minor": 4
}
