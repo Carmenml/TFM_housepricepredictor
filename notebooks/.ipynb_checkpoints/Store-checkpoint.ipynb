{
 "cells": [
  {
   "cell_type": "code",
   "execution_count": 1,
   "id": "43e927a9-7ebb-4986-a5ed-3c545286bf35",
   "metadata": {},
   "outputs": [],
   "source": [
    "import pandas as pd\n",
    "from ipynb.fs.defs.classes import *"
   ]
  },
  {
   "cell_type": "markdown",
   "id": "0c537752-6f28-433d-8289-c9491e8ce84b",
   "metadata": {},
   "source": [
    "#### **Guardamos variables para el dataset completo**"
   ]
  },
  {
   "cell_type": "code",
   "execution_count": 2,
   "id": "3998e42c-f18c-4406-839a-b7425e9aaeb2",
   "metadata": {},
   "outputs": [],
   "source": [
    "file_path = \"../data/data_model_churriana_malaga.csv\"\n",
    "data = pd.read_csv(file_path, index_col = 0)"
   ]
  },
  {
   "cell_type": "code",
   "execution_count": 4,
   "id": "57ba1842-523f-48ac-82c0-b2fa117ec6fb",
   "metadata": {},
   "outputs": [],
   "source": [
    "import sklearn\n",
    "\n",
    "features = data.drop('price',axis=1)\n",
    "target = data['price']  \n",
    "test_size=0.2\n",
    "\n",
    "from sklearn.model_selection import train_test_split\n",
    "\n",
    "features_train,features_test,target_train,target_test = train_test_split(features,target, test_size=test_size)"
   ]
  },
  {
   "cell_type": "code",
   "execution_count": 5,
   "id": "b35e1499-bea1-498a-932c-a074a12b8264",
   "metadata": {},
   "outputs": [],
   "source": [
    "datos_completos = DataSplit(features_train,features_test,target_train,target_test, features, target)"
   ]
  },
  {
   "cell_type": "code",
   "execution_count": 6,
   "id": "cb6f2545-dff3-417b-90d0-2f9bfc4344a6",
   "metadata": {},
   "outputs": [
    {
     "name": "stdout",
     "output_type": "stream",
     "text": [
      "Stored 'datos_completos' (DataSplit)\n"
     ]
    }
   ],
   "source": [
    "#Guardamos variables en el store para poder llamarlas y usarlas en otros notebooks.\n",
    "%store datos_completos"
   ]
  },
  {
   "cell_type": "code",
   "execution_count": 7,
   "id": "3811ead2-670a-4f78-a6b6-54416d483040",
   "metadata": {},
   "outputs": [],
   "source": [
    "##Guardamos variables para el dataset sin outliers"
   ]
  },
  {
   "cell_type": "code",
   "execution_count": 8,
   "id": "38e81694-7862-4f5a-83ba-61df3187f971",
   "metadata": {},
   "outputs": [],
   "source": [
    "file_path = \"../data/data_model_churriana_without_outliers.csv\"\n",
    "data2 = pd.read_csv(file_path, index_col = 0)"
   ]
  },
  {
   "cell_type": "code",
   "execution_count": 9,
   "id": "53d63b94-f812-4ec3-b060-47bbc4e77b91",
   "metadata": {},
   "outputs": [],
   "source": [
    "features1 = data2.drop('price',axis=1)\n",
    "target1 = data2['price']\n",
    "features_train,features_test,target_train,target_test = train_test_split(features1,target1,test_size=test_size)\n",
    "\n",
    "datos_without_outliers = DataSplit(features_train,features_test,target_train,target_test, features1, target1)\n"
   ]
  },
  {
   "cell_type": "code",
   "execution_count": 10,
   "id": "171e6db8-8781-40f3-bcfe-5dede1eb0519",
   "metadata": {},
   "outputs": [
    {
     "name": "stdout",
     "output_type": "stream",
     "text": [
      "Stored 'datos_without_outliers' (DataSplit)\n"
     ]
    }
   ],
   "source": [
    "#Guardamos variables en el store para poder llamarlas y usarlas en otros notebooks.\n",
    "%store datos_without_outliers"
   ]
  },
  {
   "cell_type": "code",
   "execution_count": null,
   "id": "0a0aac2e-e1f4-42bc-85d1-c70d7f35f8f9",
   "metadata": {},
   "outputs": [],
   "source": []
  }
 ],
 "metadata": {
  "kernelspec": {
   "display_name": "Python 3 (ipykernel)",
   "language": "python",
   "name": "python3"
  },
  "language_info": {
   "codemirror_mode": {
    "name": "ipython",
    "version": 3
   },
   "file_extension": ".py",
   "mimetype": "text/x-python",
   "name": "python",
   "nbconvert_exporter": "python",
   "pygments_lexer": "ipython3",
   "version": "3.10.9"
  }
 },
 "nbformat": 4,
 "nbformat_minor": 5
}
