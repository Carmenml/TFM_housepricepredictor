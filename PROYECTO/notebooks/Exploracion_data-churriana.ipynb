{
 "cells": [
  {
   "cell_type": "markdown",
   "metadata": {},
   "source": [
    "# **ANALISIS EXPLORATORIO DE DATOS (EDA)**"
   ]
  },
  {
   "cell_type": "markdown",
   "metadata": {},
   "source": [
    "* ### **Dataset Barrio Churriana Málaga**"
   ]
  },
  {
   "cell_type": "markdown",
   "metadata": {
    "tags": []
   },
   "source": [
    "#### ***Lectura e inspección del dataset***\n",
    "\n",
    "En esta sección realizaremos:<br>\n",
    "* Análisis estadístico de los datos.\n",
    "* Identificación de Nan numbers y limpieza.\n",
    "* Exploración del conjunto de datos.\n",
    "* Identificación de posibles Outliers y tratamiento.\n",
    "* Preprocesamiento de variables categóricas a numéricas.\n",
    "* Datos finales para trabajar en los modelos\n"
   ]
  },
  {
   "cell_type": "markdown",
   "metadata": {},
   "source": [
    "Importamos las librerías necesarias"
   ]
  },
  {
   "cell_type": "code",
   "execution_count": 63,
   "metadata": {},
   "outputs": [],
   "source": [
    "import pandas as pd\n",
    "import matplotlib.pyplot as plt\n",
    "%matplotlib inline\n",
    "import numpy as np\n",
    "import seaborn as sb\n",
    "from plotly.subplots import make_subplots\n",
    "import plotly.graph_objects as go\n",
    "import plotly.express as px"
   ]
  },
  {
   "cell_type": "code",
   "execution_count": 6,
   "metadata": {},
   "outputs": [],
   "source": [
    "properties_churriana = pd.read_csv(\"data_scrapping/info-churriana-malaga.csv\", index_col = 0)"
   ]
  },
  {
   "cell_type": "code",
   "execution_count": 7,
   "metadata": {},
   "outputs": [
    {
     "data": {
      "text/plain": [
       "(187, 18)"
      ]
     },
     "execution_count": 7,
     "metadata": {},
     "output_type": "execute_result"
    }
   ],
   "source": [
    "properties_churriana.shape"
   ]
  },
  {
   "cell_type": "code",
   "execution_count": 8,
   "metadata": {},
   "outputs": [
    {
     "data": {
      "text/html": [
       "<div>\n",
       "<style scoped>\n",
       "    .dataframe tbody tr th:only-of-type {\n",
       "        vertical-align: middle;\n",
       "    }\n",
       "\n",
       "    .dataframe tbody tr th {\n",
       "        vertical-align: top;\n",
       "    }\n",
       "\n",
       "    .dataframe thead th {\n",
       "        text-align: right;\n",
       "    }\n",
       "</style>\n",
       "<table border=\"1\" class=\"dataframe\">\n",
       "  <thead>\n",
       "    <tr style=\"text-align: right;\">\n",
       "      <th></th>\n",
       "      <th>titulo</th>\n",
       "      <th>localizacion</th>\n",
       "      <th>latitude</th>\n",
       "      <th>longitude</th>\n",
       "      <th>price</th>\n",
       "      <th>energy_certification</th>\n",
       "      <th>basic_characteristics</th>\n",
       "      <th>room_number</th>\n",
       "      <th>bath_number</th>\n",
       "      <th>has_garden</th>\n",
       "      <th>has_terrace</th>\n",
       "      <th>has_parking</th>\n",
       "      <th>has_swimmingpool</th>\n",
       "      <th>has_lift</th>\n",
       "      <th>constructed_area</th>\n",
       "      <th>is_new_development</th>\n",
       "      <th>is_needs_renovating</th>\n",
       "      <th>is_goog_condition</th>\n",
       "    </tr>\n",
       "  </thead>\n",
       "  <tbody>\n",
       "    <tr>\n",
       "      <th>0</th>\n",
       "      <td>Chalet adosado en venta en Guadalmar</td>\n",
       "      <td>Churriana, Málaga</td>\n",
       "      <td>36.666638</td>\n",
       "      <td>-4.464576</td>\n",
       "      <td>395000</td>\n",
       "      <td>inProcess</td>\n",
       "      <td>{'roomNumber': '4', 'bathNumber': '3', 'hasPar...</td>\n",
       "      <td>4</td>\n",
       "      <td>3</td>\n",
       "      <td>1.0</td>\n",
       "      <td>1.0</td>\n",
       "      <td>1.0</td>\n",
       "      <td>1.0</td>\n",
       "      <td>NaN</td>\n",
       "      <td>194</td>\n",
       "      <td>0</td>\n",
       "      <td>0</td>\n",
       "      <td>1</td>\n",
       "    </tr>\n",
       "    <tr>\n",
       "      <th>1</th>\n",
       "      <td>Casa o chalet independiente en venta en calle ...</td>\n",
       "      <td>Churriana-El Pizarrillo-La Noria-Guadalsol, Má...</td>\n",
       "      <td>36.663719</td>\n",
       "      <td>-4.503897</td>\n",
       "      <td>640000</td>\n",
       "      <td>inProcess</td>\n",
       "      <td>{'roomNumber': '4', 'bathNumber': '2', 'hasPar...</td>\n",
       "      <td>4</td>\n",
       "      <td>2</td>\n",
       "      <td>1.0</td>\n",
       "      <td>1.0</td>\n",
       "      <td>1.0</td>\n",
       "      <td>1.0</td>\n",
       "      <td>NaN</td>\n",
       "      <td>310</td>\n",
       "      <td>0</td>\n",
       "      <td>0</td>\n",
       "      <td>1</td>\n",
       "    </tr>\n",
       "    <tr>\n",
       "      <th>2</th>\n",
       "      <td>Casa o chalet independiente en venta en calle ...</td>\n",
       "      <td>Cortijo de Maza-Finca Monsalvez-El Olivar, Málaga</td>\n",
       "      <td>36.656894</td>\n",
       "      <td>-4.502930</td>\n",
       "      <td>567000</td>\n",
       "      <td>inProcess</td>\n",
       "      <td>{'roomNumber': '5', 'bathNumber': '4', 'hasPar...</td>\n",
       "      <td>5</td>\n",
       "      <td>4</td>\n",
       "      <td>1.0</td>\n",
       "      <td>1.0</td>\n",
       "      <td>0.0</td>\n",
       "      <td>1.0</td>\n",
       "      <td>NaN</td>\n",
       "      <td>410</td>\n",
       "      <td>0</td>\n",
       "      <td>0</td>\n",
       "      <td>1</td>\n",
       "    </tr>\n",
       "    <tr>\n",
       "      <th>3</th>\n",
       "      <td>Ático en venta en calle Bangladesh, 25</td>\n",
       "      <td>Churriana-El Pizarrillo-La Noria-Guadalsol, Má...</td>\n",
       "      <td>36.671190</td>\n",
       "      <td>-4.516900</td>\n",
       "      <td>375900</td>\n",
       "      <td>unknown</td>\n",
       "      <td>{'roomNumber': '4', 'bathNumber': '2', 'hasLif...</td>\n",
       "      <td>4</td>\n",
       "      <td>2</td>\n",
       "      <td>1.0</td>\n",
       "      <td>1.0</td>\n",
       "      <td>1.0</td>\n",
       "      <td>1.0</td>\n",
       "      <td>1.0</td>\n",
       "      <td>236</td>\n",
       "      <td>1</td>\n",
       "      <td>0</td>\n",
       "      <td>0</td>\n",
       "    </tr>\n",
       "    <tr>\n",
       "      <th>4</th>\n",
       "      <td>Piso en venta en calle Bangladesh, 25</td>\n",
       "      <td>Churriana-El Pizarrillo-La Noria-Guadalsol, Má...</td>\n",
       "      <td>36.671190</td>\n",
       "      <td>-4.516900</td>\n",
       "      <td>249900</td>\n",
       "      <td>unknown</td>\n",
       "      <td>{'roomNumber': '2', 'bathNumber': '2', 'hasLif...</td>\n",
       "      <td>2</td>\n",
       "      <td>2</td>\n",
       "      <td>0.0</td>\n",
       "      <td>1.0</td>\n",
       "      <td>1.0</td>\n",
       "      <td>1.0</td>\n",
       "      <td>1.0</td>\n",
       "      <td>150</td>\n",
       "      <td>1</td>\n",
       "      <td>0</td>\n",
       "      <td>0</td>\n",
       "    </tr>\n",
       "  </tbody>\n",
       "</table>\n",
       "</div>"
      ],
      "text/plain": [
       "                                              titulo  \\\n",
       "0               Chalet adosado en venta en Guadalmar   \n",
       "1  Casa o chalet independiente en venta en calle ...   \n",
       "2  Casa o chalet independiente en venta en calle ...   \n",
       "3             Ático en venta en calle Bangladesh, 25   \n",
       "4              Piso en venta en calle Bangladesh, 25   \n",
       "\n",
       "                                        localizacion   latitude  longitude  \\\n",
       "0                                  Churriana, Málaga  36.666638  -4.464576   \n",
       "1  Churriana-El Pizarrillo-La Noria-Guadalsol, Má...  36.663719  -4.503897   \n",
       "2  Cortijo de Maza-Finca Monsalvez-El Olivar, Málaga  36.656894  -4.502930   \n",
       "3  Churriana-El Pizarrillo-La Noria-Guadalsol, Má...  36.671190  -4.516900   \n",
       "4  Churriana-El Pizarrillo-La Noria-Guadalsol, Má...  36.671190  -4.516900   \n",
       "\n",
       "    price energy_certification  \\\n",
       "0  395000            inProcess   \n",
       "1  640000            inProcess   \n",
       "2  567000            inProcess   \n",
       "3  375900              unknown   \n",
       "4  249900              unknown   \n",
       "\n",
       "                               basic_characteristics  room_number  \\\n",
       "0  {'roomNumber': '4', 'bathNumber': '3', 'hasPar...            4   \n",
       "1  {'roomNumber': '4', 'bathNumber': '2', 'hasPar...            4   \n",
       "2  {'roomNumber': '5', 'bathNumber': '4', 'hasPar...            5   \n",
       "3  {'roomNumber': '4', 'bathNumber': '2', 'hasLif...            4   \n",
       "4  {'roomNumber': '2', 'bathNumber': '2', 'hasLif...            2   \n",
       "\n",
       "   bath_number  has_garden  has_terrace  has_parking  has_swimmingpool  \\\n",
       "0            3         1.0          1.0          1.0               1.0   \n",
       "1            2         1.0          1.0          1.0               1.0   \n",
       "2            4         1.0          1.0          0.0               1.0   \n",
       "3            2         1.0          1.0          1.0               1.0   \n",
       "4            2         0.0          1.0          1.0               1.0   \n",
       "\n",
       "   has_lift  constructed_area  is_new_development  is_needs_renovating  \\\n",
       "0       NaN               194                   0                    0   \n",
       "1       NaN               310                   0                    0   \n",
       "2       NaN               410                   0                    0   \n",
       "3       1.0               236                   1                    0   \n",
       "4       1.0               150                   1                    0   \n",
       "\n",
       "   is_goog_condition  \n",
       "0                  1  \n",
       "1                  1  \n",
       "2                  1  \n",
       "3                  0  \n",
       "4                  0  "
      ]
     },
     "execution_count": 8,
     "metadata": {},
     "output_type": "execute_result"
    }
   ],
   "source": [
    "properties_churriana.head()"
   ]
  },
  {
   "cell_type": "code",
   "execution_count": 9,
   "metadata": {},
   "outputs": [
    {
     "name": "stdout",
     "output_type": "stream",
     "text": [
      "<class 'pandas.core.frame.DataFrame'>\n",
      "Int64Index: 187 entries, 0 to 186\n",
      "Data columns (total 18 columns):\n",
      " #   Column                 Non-Null Count  Dtype  \n",
      "---  ------                 --------------  -----  \n",
      " 0   titulo                 187 non-null    object \n",
      " 1   localizacion           187 non-null    object \n",
      " 2   latitude               187 non-null    float64\n",
      " 3   longitude              187 non-null    float64\n",
      " 4   price                  187 non-null    int64  \n",
      " 5   energy_certification   187 non-null    object \n",
      " 6   basic_characteristics  187 non-null    object \n",
      " 7   room_number            187 non-null    int64  \n",
      " 8   bath_number            187 non-null    int64  \n",
      " 9   has_garden             164 non-null    float64\n",
      " 10  has_terrace            170 non-null    float64\n",
      " 11  has_parking            169 non-null    float64\n",
      " 12  has_swimmingpool       158 non-null    float64\n",
      " 13  has_lift               81 non-null     float64\n",
      " 14  constructed_area       187 non-null    int64  \n",
      " 15  is_new_development     187 non-null    int64  \n",
      " 16  is_needs_renovating    187 non-null    int64  \n",
      " 17  is_goog_condition      187 non-null    int64  \n",
      "dtypes: float64(7), int64(7), object(4)\n",
      "memory usage: 27.8+ KB\n"
     ]
    }
   ],
   "source": [
    "properties_churriana.info()"
   ]
  },
  {
   "cell_type": "code",
   "execution_count": 10,
   "metadata": {},
   "outputs": [
    {
     "data": {
      "text/plain": [
       "titulo                    object\n",
       "localizacion              object\n",
       "latitude                 float64\n",
       "longitude                float64\n",
       "price                      int64\n",
       "energy_certification      object\n",
       "basic_characteristics     object\n",
       "room_number                int64\n",
       "bath_number                int64\n",
       "has_garden               float64\n",
       "has_terrace              float64\n",
       "has_parking              float64\n",
       "has_swimmingpool         float64\n",
       "has_lift                 float64\n",
       "constructed_area           int64\n",
       "is_new_development         int64\n",
       "is_needs_renovating        int64\n",
       "is_goog_condition          int64\n",
       "dtype: object"
      ]
     },
     "execution_count": 10,
     "metadata": {},
     "output_type": "execute_result"
    }
   ],
   "source": [
    "properties_churriana.dtypes"
   ]
  },
  {
   "cell_type": "code",
   "execution_count": 11,
   "metadata": {},
   "outputs": [
    {
     "data": {
      "text/html": [
       "<div>\n",
       "<style scoped>\n",
       "    .dataframe tbody tr th:only-of-type {\n",
       "        vertical-align: middle;\n",
       "    }\n",
       "\n",
       "    .dataframe tbody tr th {\n",
       "        vertical-align: top;\n",
       "    }\n",
       "\n",
       "    .dataframe thead th {\n",
       "        text-align: right;\n",
       "    }\n",
       "</style>\n",
       "<table border=\"1\" class=\"dataframe\">\n",
       "  <thead>\n",
       "    <tr style=\"text-align: right;\">\n",
       "      <th></th>\n",
       "      <th>count</th>\n",
       "      <th>mean</th>\n",
       "      <th>std</th>\n",
       "      <th>min</th>\n",
       "      <th>25%</th>\n",
       "      <th>50%</th>\n",
       "      <th>75%</th>\n",
       "      <th>max</th>\n",
       "    </tr>\n",
       "  </thead>\n",
       "  <tbody>\n",
       "    <tr>\n",
       "      <th>latitude</th>\n",
       "      <td>187.0</td>\n",
       "      <td>36.692094</td>\n",
       "      <td>0.113276</td>\n",
       "      <td>36.610730</td>\n",
       "      <td>36.659499</td>\n",
       "      <td>36.663815</td>\n",
       "      <td>36.671115</td>\n",
       "      <td>3.714505e+01</td>\n",
       "    </tr>\n",
       "    <tr>\n",
       "      <th>longitude</th>\n",
       "      <td>187.0</td>\n",
       "      <td>-4.449519</td>\n",
       "      <td>0.202287</td>\n",
       "      <td>-4.686328</td>\n",
       "      <td>-4.506868</td>\n",
       "      <td>-4.501821</td>\n",
       "      <td>-4.490153</td>\n",
       "      <td>-3.641632e+00</td>\n",
       "    </tr>\n",
       "    <tr>\n",
       "      <th>price</th>\n",
       "      <td>187.0</td>\n",
       "      <td>482993.689840</td>\n",
       "      <td>512781.940307</td>\n",
       "      <td>54900.000000</td>\n",
       "      <td>249900.000000</td>\n",
       "      <td>299990.000000</td>\n",
       "      <td>567000.000000</td>\n",
       "      <td>5.000000e+06</td>\n",
       "    </tr>\n",
       "    <tr>\n",
       "      <th>room_number</th>\n",
       "      <td>187.0</td>\n",
       "      <td>3.625668</td>\n",
       "      <td>1.629362</td>\n",
       "      <td>1.000000</td>\n",
       "      <td>3.000000</td>\n",
       "      <td>3.000000</td>\n",
       "      <td>4.000000</td>\n",
       "      <td>1.400000e+01</td>\n",
       "    </tr>\n",
       "    <tr>\n",
       "      <th>bath_number</th>\n",
       "      <td>187.0</td>\n",
       "      <td>2.556150</td>\n",
       "      <td>1.395385</td>\n",
       "      <td>1.000000</td>\n",
       "      <td>2.000000</td>\n",
       "      <td>2.000000</td>\n",
       "      <td>3.000000</td>\n",
       "      <td>8.000000e+00</td>\n",
       "    </tr>\n",
       "    <tr>\n",
       "      <th>has_garden</th>\n",
       "      <td>164.0</td>\n",
       "      <td>0.695122</td>\n",
       "      <td>0.461766</td>\n",
       "      <td>0.000000</td>\n",
       "      <td>0.000000</td>\n",
       "      <td>1.000000</td>\n",
       "      <td>1.000000</td>\n",
       "      <td>1.000000e+00</td>\n",
       "    </tr>\n",
       "    <tr>\n",
       "      <th>has_terrace</th>\n",
       "      <td>170.0</td>\n",
       "      <td>0.947059</td>\n",
       "      <td>0.224578</td>\n",
       "      <td>0.000000</td>\n",
       "      <td>1.000000</td>\n",
       "      <td>1.000000</td>\n",
       "      <td>1.000000</td>\n",
       "      <td>1.000000e+00</td>\n",
       "    </tr>\n",
       "    <tr>\n",
       "      <th>has_parking</th>\n",
       "      <td>169.0</td>\n",
       "      <td>0.899408</td>\n",
       "      <td>0.301681</td>\n",
       "      <td>0.000000</td>\n",
       "      <td>1.000000</td>\n",
       "      <td>1.000000</td>\n",
       "      <td>1.000000</td>\n",
       "      <td>1.000000e+00</td>\n",
       "    </tr>\n",
       "    <tr>\n",
       "      <th>has_swimmingpool</th>\n",
       "      <td>158.0</td>\n",
       "      <td>0.867089</td>\n",
       "      <td>0.340558</td>\n",
       "      <td>0.000000</td>\n",
       "      <td>1.000000</td>\n",
       "      <td>1.000000</td>\n",
       "      <td>1.000000</td>\n",
       "      <td>1.000000e+00</td>\n",
       "    </tr>\n",
       "    <tr>\n",
       "      <th>has_lift</th>\n",
       "      <td>81.0</td>\n",
       "      <td>0.975309</td>\n",
       "      <td>0.156150</td>\n",
       "      <td>0.000000</td>\n",
       "      <td>1.000000</td>\n",
       "      <td>1.000000</td>\n",
       "      <td>1.000000</td>\n",
       "      <td>1.000000e+00</td>\n",
       "    </tr>\n",
       "    <tr>\n",
       "      <th>constructed_area</th>\n",
       "      <td>187.0</td>\n",
       "      <td>243.433155</td>\n",
       "      <td>270.325987</td>\n",
       "      <td>50.000000</td>\n",
       "      <td>108.500000</td>\n",
       "      <td>152.000000</td>\n",
       "      <td>256.000000</td>\n",
       "      <td>2.500000e+03</td>\n",
       "    </tr>\n",
       "    <tr>\n",
       "      <th>is_new_development</th>\n",
       "      <td>187.0</td>\n",
       "      <td>0.229947</td>\n",
       "      <td>0.421928</td>\n",
       "      <td>0.000000</td>\n",
       "      <td>0.000000</td>\n",
       "      <td>0.000000</td>\n",
       "      <td>0.000000</td>\n",
       "      <td>1.000000e+00</td>\n",
       "    </tr>\n",
       "    <tr>\n",
       "      <th>is_needs_renovating</th>\n",
       "      <td>187.0</td>\n",
       "      <td>0.053476</td>\n",
       "      <td>0.225585</td>\n",
       "      <td>0.000000</td>\n",
       "      <td>0.000000</td>\n",
       "      <td>0.000000</td>\n",
       "      <td>0.000000</td>\n",
       "      <td>1.000000e+00</td>\n",
       "    </tr>\n",
       "    <tr>\n",
       "      <th>is_goog_condition</th>\n",
       "      <td>187.0</td>\n",
       "      <td>0.716578</td>\n",
       "      <td>0.451870</td>\n",
       "      <td>0.000000</td>\n",
       "      <td>0.000000</td>\n",
       "      <td>1.000000</td>\n",
       "      <td>1.000000</td>\n",
       "      <td>1.000000e+00</td>\n",
       "    </tr>\n",
       "  </tbody>\n",
       "</table>\n",
       "</div>"
      ],
      "text/plain": [
       "                     count           mean            std           min  \\\n",
       "latitude             187.0      36.692094       0.113276     36.610730   \n",
       "longitude            187.0      -4.449519       0.202287     -4.686328   \n",
       "price                187.0  482993.689840  512781.940307  54900.000000   \n",
       "room_number          187.0       3.625668       1.629362      1.000000   \n",
       "bath_number          187.0       2.556150       1.395385      1.000000   \n",
       "has_garden           164.0       0.695122       0.461766      0.000000   \n",
       "has_terrace          170.0       0.947059       0.224578      0.000000   \n",
       "has_parking          169.0       0.899408       0.301681      0.000000   \n",
       "has_swimmingpool     158.0       0.867089       0.340558      0.000000   \n",
       "has_lift              81.0       0.975309       0.156150      0.000000   \n",
       "constructed_area     187.0     243.433155     270.325987     50.000000   \n",
       "is_new_development   187.0       0.229947       0.421928      0.000000   \n",
       "is_needs_renovating  187.0       0.053476       0.225585      0.000000   \n",
       "is_goog_condition    187.0       0.716578       0.451870      0.000000   \n",
       "\n",
       "                               25%            50%            75%           max  \n",
       "latitude                 36.659499      36.663815      36.671115  3.714505e+01  \n",
       "longitude                -4.506868      -4.501821      -4.490153 -3.641632e+00  \n",
       "price                249900.000000  299990.000000  567000.000000  5.000000e+06  \n",
       "room_number               3.000000       3.000000       4.000000  1.400000e+01  \n",
       "bath_number               2.000000       2.000000       3.000000  8.000000e+00  \n",
       "has_garden                0.000000       1.000000       1.000000  1.000000e+00  \n",
       "has_terrace               1.000000       1.000000       1.000000  1.000000e+00  \n",
       "has_parking               1.000000       1.000000       1.000000  1.000000e+00  \n",
       "has_swimmingpool          1.000000       1.000000       1.000000  1.000000e+00  \n",
       "has_lift                  1.000000       1.000000       1.000000  1.000000e+00  \n",
       "constructed_area        108.500000     152.000000     256.000000  2.500000e+03  \n",
       "is_new_development        0.000000       0.000000       0.000000  1.000000e+00  \n",
       "is_needs_renovating       0.000000       0.000000       0.000000  1.000000e+00  \n",
       "is_goog_condition         0.000000       1.000000       1.000000  1.000000e+00  "
      ]
     },
     "execution_count": 11,
     "metadata": {},
     "output_type": "execute_result"
    }
   ],
   "source": [
    "properties_churriana.describe().T"
   ]
  },
  {
   "cell_type": "markdown",
   "metadata": {},
   "source": [
    "#### **Limpieza de datos**"
   ]
  },
  {
   "cell_type": "markdown",
   "metadata": {},
   "source": [
    "En primer lugar **eliminamos la columna basic_characteristics** ya que esta contiene un diccionario con todas las características de cada inmueble, las cuales ya están representadas en sus respectivas columnas."
   ]
  },
  {
   "cell_type": "code",
   "execution_count": 12,
   "metadata": {},
   "outputs": [],
   "source": [
    "properties_churriana = properties_churriana.drop(['basic_characteristics'], axis = 1)"
   ]
  },
  {
   "cell_type": "markdown",
   "metadata": {},
   "source": [
    "**Obtenemos el volumen de Nan numbers por columna.**<br>\n",
    "En este caso, al generar el dataset con web scraping, si el inmueble no contiene una de las características a recabar, por defecto se rellena el campo con el valor None. <br>\n",
    "Procedemos a identificar cuantos casos existen en el conjunto y pasaremos dichos valores None a valor 0 (no tienen esa característica). Por ejemplo con has_swimmingpool significaría que la vivienda no dispone de piscina)."
   ]
  },
  {
   "cell_type": "code",
   "execution_count": 13,
   "metadata": {},
   "outputs": [
    {
     "data": {
      "text/plain": [
       "titulo                    0\n",
       "localizacion              0\n",
       "latitude                  0\n",
       "longitude                 0\n",
       "price                     0\n",
       "energy_certification      0\n",
       "room_number               0\n",
       "bath_number               0\n",
       "has_garden               23\n",
       "has_terrace              17\n",
       "has_parking              18\n",
       "has_swimmingpool         29\n",
       "has_lift                106\n",
       "constructed_area          0\n",
       "is_new_development        0\n",
       "is_needs_renovating       0\n",
       "is_goog_condition         0\n",
       "dtype: int64"
      ]
     },
     "execution_count": 13,
     "metadata": {},
     "output_type": "execute_result"
    }
   ],
   "source": [
    "properties_churriana.isnull().sum(axis = 0)"
   ]
  },
  {
   "cell_type": "code",
   "execution_count": 14,
   "metadata": {},
   "outputs": [
    {
     "name": "stdout",
     "output_type": "stream",
     "text": [
      "Se encuentran 193 Nan numbers\n"
     ]
    }
   ],
   "source": [
    "Nan_numbers = properties_churriana.isnull().sum(axis = 0).sum()\n",
    "\n",
    "print(f\"Se encuentran {Nan_numbers} Nan numbers\")"
   ]
  },
  {
   "cell_type": "markdown",
   "metadata": {},
   "source": [
    "**Pasamos todos los Nan a 0**"
   ]
  },
  {
   "cell_type": "code",
   "execution_count": 15,
   "metadata": {},
   "outputs": [],
   "source": [
    "properties_churriana = properties_churriana.fillna(0)"
   ]
  },
  {
   "cell_type": "markdown",
   "metadata": {},
   "source": [
    "**Guardamos el dataset limpio sin valores Nan**"
   ]
  },
  {
   "cell_type": "code",
   "execution_count": 16,
   "metadata": {},
   "outputs": [],
   "source": [
    "properties_churriana.to_csv('clean_properties_churriana.csv')"
   ]
  },
  {
   "cell_type": "markdown",
   "metadata": {},
   "source": [
    "#### **EXPLORACIÓN**"
   ]
  },
  {
   "cell_type": "markdown",
   "metadata": {},
   "source": [
    "Para la exploración de los datos cargamos los datos limpios de valorer None."
   ]
  },
  {
   "cell_type": "code",
   "execution_count": 17,
   "metadata": {},
   "outputs": [],
   "source": [
    "data_clean = pd.read_csv('clean_properties_churriana.csv', index_col = 0)"
   ]
  },
  {
   "cell_type": "markdown",
   "metadata": {},
   "source": [
    "Partiremos con la visualizacion de los histogramas de las diferentes características de las viviendas. En la gráfica se observa que price y constructed_area presentan skew positivo, es decir, hay algunas viviendas que poseen mayores precios y metros cuadrados que el resto y esto hace que la gráfica presente una cola hacia la derecha. <br>\n",
    "Esta información será util para determinar que variables serán transformadas para que su distribucion se ajuste a la de la normal y, tal vez, ayude a mejorar los resultados de la predicción.\n",
    "Analizaremos posibles outliers en las distintas variables."
   ]
  },
  {
   "cell_type": "code",
   "execution_count": 18,
   "metadata": {},
   "outputs": [
    {
     "data": {
      "image/png": "[encoded data removed]",
      "text/plain": [
       "<Figure size 720x576 with 16 Axes>"
      ]
     },
     "metadata": {
      "needs_background": "light"
     },
     "output_type": "display_data"
    }
   ],
   "source": [
    "data_clean.hist(bins=50, figsize=(10, 8), color='orange')\n",
    "plt.savefig(\"histogramas.png\")"
   ]
  },
  {
   "cell_type": "markdown",
   "metadata": {},
   "source": [
    "Hacemos un **gráfico heatmap** para estudiar las correlaciones de la variable a predecir \"price\" con el resto del conjunto. Ver cuales presentan las correlaciones más altas y las más bajas y si son positivas o negativas. Esto nos ayuda a identificar que variables son más relevantes para el modelo predictivo.\n",
    "\n",
    "* Las variables constructed_area, room_number, bath_number son las que mayor relación positivan tienen con respecto a la variable precio. has_lift y is_need_renovating presentan una relación negativa.<br>\n",
    "\n",
    "* Para el modelo valoraremos la exclusión de la variable is_need_renovating ya que ya disponemos de la informción is_good_condition que ya nos está indicando si está en buenas condiciones."
   ]
  },
  {
   "cell_type": "code",
   "execution_count": 22,
   "metadata": {
    "tags": []
   },
   "outputs": [
    {
     "data": {
      "image/png": "[encoded data removed]",
      "text/plain": [
       "<Figure size 864x432 with 2 Axes>"
      ]
     },
     "metadata": {
      "needs_background": "light"
     },
     "output_type": "display_data"
    }
   ],
   "source": [
    "plt.figure(figsize=(12, 6))\n",
    "sb.heatmap(data_clean.corr(),\n",
    "            cmap = 'BrBG',\n",
    "            fmt = '.2f',\n",
    "            linewidths = 2,\n",
    "            annot = True)\n",
    "\n",
    "plt.savefig(\"heatmap.png\")"
   ]
  },
  {
   "cell_type": "markdown",
   "metadata": {},
   "source": [
    "Analizamos nuevamente como se comporta la variable precio con respecto a las variables con mayor correlación a través de un gŕafico de dispersión. \n",
    "* Presenta una correlación lineal. A mayor cantidad de metros construidos, habitaciones y baños mayor precio.\n",
    "* Podemos observar algunos valores extremos en precio y en metros construidos."
   ]
  },
  {
   "cell_type": "code",
   "execution_count": 23,
   "metadata": {},
   "outputs": [
    {
     "data": {
      "application/vnd.plotly.v1+json": {
       "config": {
        "plotlyServerURL": "https://plot.ly"
       },
       "data": [
        {
         "dimensions": [
          {
           "axis": {
            "matches": true
           },
           "label": "price",
           "values": [
            395000,
            640000,
            567000,
            375900,
            249900,
            230900,
            795000,
            235000,
            690000,
            371000,
            395000,
            595000,
            995000,
            625000,
            450000,
            256500,
            422500,
            1399000,
            256500,
            291800,
            235000,
            262181,
            567000,
            273100,
            246300,
            320000,
            275730,
            135000,
            2706000,
            795000,
            1148000,
            436700,
            291800,
            790000,
            320000,
            795000,
            297100,
            790000,
            205000,
            1148000,
            249900,
            297100,
            779000,
            367000,
            129900,
            179999,
            182100,
            262181,
            900000,
            182000,
            210000,
            235000,
            790000,
            790000,
            299990,
            250000,
            320000,
            550000,
            639000,
            330000,
            1500000,
            54900,
            425000,
            410000,
            895000,
            249900,
            249000,
            223000,
            235000,
            298000,
            139900,
            172000,
            5000000,
            180000,
            1500000,
            318500,
            160000,
            370000,
            205000,
            350000,
            640000,
            157500,
            725000,
            299000,
            430000,
            162000,
            395000,
            860000,
            360000,
            1500000,
            639000,
            1500000,
            173000,
            640000,
            340000,
            359000,
            700000,
            360000,
            700000,
            255000,
            310000,
            240000,
            270000,
            190000,
            1975000,
            260000,
            215000,
            449900,
            85000,
            298000,
            291800,
            262181,
            255900,
            265900,
            255900,
            265900,
            182100,
            291800,
            182100,
            256500,
            1148000,
            750000,
            182100,
            1089800,
            297100,
            291800,
            297100,
            262181,
            1148000,
            256500,
            252000,
            215000,
            225000,
            275000,
            358000,
            1300000,
            355000,
            335000,
            345000,
            362000,
            375900,
            299000,
            189500,
            264500,
            257000,
            258000,
            293000,
            389000,
            344000,
            318000,
            790000,
            175000,
            1990000,
            1210000,
            334000,
            445000,
            215000,
            375900,
            279900,
            299900,
            249900,
            385000,
            172670,
            165877,
            170297,
            262181,
            159320,
            165787,
            176746,
            188400,
            175599,
            1800000,
            422500,
            799900,
            291800,
            297100,
            698000,
            315000,
            278000,
            319000,
            291800,
            256500,
            320000,
            595000,
            640000,
            367500,
            360000
           ]
          },
          {
           "axis": {
            "matches": true
           },
           "label": "room_number",
           "values": [
            4,
            4,
            5,
            4,
            2,
            2,
            3,
            3,
            5,
            3,
            4,
            5,
            4,
            4,
            7,
            3,
            5,
            8,
            4,
            3,
            3,
            2,
            5,
            3,
            2,
            4,
            3,
            3,
            8,
            5,
            5,
            4,
            3,
            4,
            3,
            5,
            3,
            5,
            3,
            6,
            3,
            3,
            4,
            4,
            4,
            4,
            3,
            2,
            6,
            1,
            1,
            3,
            5,
            5,
            4,
            2,
            3,
            4,
            3,
            3,
            5,
            1,
            4,
            8,
            4,
            2,
            3,
            3,
            3,
            4,
            3,
            2,
            11,
            2,
            4,
            4,
            3,
            3,
            3,
            3,
            4,
            3,
            5,
            3,
            3,
            3,
            4,
            5,
            4,
            4,
            3,
            4,
            2,
            4,
            3,
            4,
            3,
            4,
            5,
            3,
            3,
            2,
            3,
            3,
            5,
            3,
            3,
            4,
            2,
            4,
            3,
            2,
            2,
            3,
            3,
            3,
            2,
            3,
            2,
            4,
            6,
            4,
            3,
            14,
            3,
            3,
            3,
            1,
            5,
            4,
            2,
            2,
            2,
            3,
            3,
            5,
            4,
            4,
            4,
            4,
            4,
            3,
            2,
            3,
            3,
            2,
            3,
            4,
            3,
            3,
            5,
            1,
            11,
            5,
            2,
            4,
            3,
            4,
            3,
            3,
            3,
            3,
            3,
            3,
            3,
            2,
            3,
            3,
            3,
            3,
            3,
            5,
            6,
            6,
            3,
            3,
            6,
            3,
            2,
            3,
            3,
            3,
            3,
            4,
            4,
            3,
            4
           ]
          },
          {
           "axis": {
            "matches": true
           },
           "label": "bath_number",
           "values": [
            3,
            2,
            4,
            2,
            2,
            2,
            4,
            2,
            4,
            3,
            3,
            3,
            4,
            3,
            3,
            1,
            3,
            6,
            2,
            2,
            2,
            1,
            4,
            2,
            2,
            2,
            2,
            1,
            8,
            5,
            4,
            2,
            2,
            2,
            3,
            5,
            2,
            3,
            1,
            6,
            1,
            2,
            3,
            3,
            2,
            2,
            1,
            1,
            4,
            1,
            1,
            2,
            3,
            3,
            3,
            1,
            3,
            4,
            2,
            4,
            6,
            1,
            3,
            4,
            4,
            1,
            2,
            2,
            2,
            2,
            1,
            2,
            6,
            1,
            5,
            2,
            1,
            3,
            1,
            2,
            5,
            1,
            3,
            2,
            2,
            1,
            3,
            2,
            3,
            6,
            2,
            6,
            1,
            2,
            2,
            3,
            2,
            3,
            3,
            2,
            3,
            1,
            2,
            1,
            7,
            1,
            2,
            3,
            1,
            2,
            2,
            1,
            2,
            2,
            2,
            2,
            1,
            2,
            1,
            2,
            6,
            3,
            1,
            7,
            2,
            2,
            2,
            1,
            4,
            2,
            2,
            2,
            2,
            2,
            2,
            6,
            3,
            3,
            3,
            3,
            2,
            2,
            1,
            3,
            2,
            2,
            2,
            2,
            2,
            2,
            3,
            1,
            7,
            5,
            2,
            3,
            1,
            2,
            2,
            3,
            2,
            2,
            2,
            2,
            2,
            1,
            2,
            2,
            2,
            2,
            2,
            5,
            4,
            4,
            2,
            2,
            3,
            2,
            2,
            2,
            2,
            1,
            3,
            3,
            2,
            2,
            3
           ]
          },
          {
           "axis": {
            "matches": true
           },
           "label": "constructed_area",
           "values": [
            194,
            310,
            410,
            236,
            150,
            99,
            702,
            149,
            649,
            152,
            152,
            338,
            265,
            298,
            133,
            179,
            257,
            290,
            153,
            116,
            102,
            103,
            410,
            101,
            83,
            160,
            115,
            80,
            2500,
            407,
            650,
            151,
            118,
            255,
            140,
            407,
            156,
            440,
            130,
            650,
            83,
            118,
            230,
            195,
            115,
            230,
            83,
            108,
            384,
            55,
            65,
            89,
            440,
            360,
            213,
            109,
            161,
            280,
            298,
            239,
            600,
            53,
            230,
            210,
            500,
            80,
            106,
            102,
            120,
            231,
            76,
            86,
            1600,
            75,
            620,
            180,
            80,
            198,
            67,
            123,
            300,
            68,
            278,
            150,
            160,
            74,
            194,
            223,
            220,
            630,
            298,
            710,
            91,
            250,
            76,
            190,
            455,
            220,
            270,
            178,
            251,
            109,
            100,
            77,
            706,
            114,
            85,
            250,
            55,
            231,
            159,
            102,
            149,
            119,
            165,
            113,
            83,
            159,
            83,
            153,
            650,
            551,
            83,
            1071,
            116,
            118,
            156,
            108,
            650,
            153,
            104,
            84,
            82,
            107,
            111,
            659,
            250,
            235,
            235,
            250,
            248,
            95,
            150,
            200,
            103,
            83,
            101,
            118,
            105,
            104,
            552,
            50,
            1028,
            659,
            143,
            300,
            171,
            236,
            118,
            139,
            117,
            116,
            125,
            111,
            112,
            102,
            119,
            125,
            116,
            130,
            118,
            1004,
            296,
            380,
            118,
            116,
            351,
            109,
            94,
            109,
            118,
            179,
            140,
            226,
            310,
            123,
            202
           ]
          }
         ],
         "hovertemplate": "%{xaxis.title.text}=%{x}<br>%{yaxis.title.text}=%{y}<extra></extra>",
         "legendgroup": "",
         "marker": {
          "color": "#636efa",
          "symbol": "circle"
         },
         "name": "",
         "showlegend": false,
         "type": "splom"
        }
       ],
       "layout": {
        "autosize": true,
        "dragmode": "select",
        "legend": {
         "tracegroupgap": 0
        },
        "margin": {
         "t": 60
        },
        "template": {
         "data": {
          "bar": [
           {
            "error_x": {
             "color": "#2a3f5f"
            },
            "error_y": {
             "color": "#2a3f5f"
            },
            "marker": {
             "line": {
              "color": "#E5ECF6",
              "width": 0.5
             },
             "pattern": {
              "fillmode": "overlay",
              "size": 10,
              "solidity": 0.2
             }
            },
            "type": "bar"
           }
          ],
          "barpolar": [
           {
            "marker": {
             "line": {
              "color": "#E5ECF6",
              "width": 0.5
             },
             "pattern": {
              "fillmode": "overlay",
              "size": 10,
              "solidity": 0.2
             }
            },
            "type": "barpolar"
           }
          ],
          "carpet": [
           {
            "aaxis": {
             "endlinecolor": "#2a3f5f",
             "gridcolor": "white",
             "linecolor": "white",
             "minorgridcolor": "white",
             "startlinecolor": "#2a3f5f"
            },
            "baxis": {
             "endlinecolor": "#2a3f5f",
             "gridcolor": "white",
             "linecolor": "white",
             "minorgridcolor": "white",
             "startlinecolor": "#2a3f5f"
            },
            "type": "carpet"
           }
          ],
          "choropleth": [
           {
            "colorbar": {
             "outlinewidth": 0,
             "ticks": ""
            },
            "type": "choropleth"
           }
          ],
          "contour": [
           {
            "colorbar": {
             "outlinewidth": 0,
             "ticks": ""
            },
            "colorscale": [
             [
              0,
              "#0d0887"
             ],
             [
              0.1111111111111111,
              "#46039f"
             ],
             [
              0.2222222222222222,
              "#7201a8"
             ],
             [
              0.3333333333333333,
              "#9c179e"
             ],
             [
              0.4444444444444444,
              "#bd3786"
             ],
             [
              0.5555555555555556,
              "#d8576b"
             ],
             [
              0.6666666666666666,
              "#ed7953"
             ],
             [
              0.7777777777777778,
              "#fb9f3a"
             ],
             [
              0.8888888888888888,
              "#fdca26"
             ],
             [
              1,
              "#f0f921"
             ]
            ],
            "type": "contour"
           }
          ],
          "contourcarpet": [
           {
            "colorbar": {
             "outlinewidth": 0,
             "ticks": ""
            },
            "type": "contourcarpet"
           }
          ],
          "heatmap": [
           {
            "colorbar": {
             "outlinewidth": 0,
             "ticks": ""
            },
            "colorscale": [
             [
              0,
              "#0d0887"
             ],
             [
              0.1111111111111111,
              "#46039f"
             ],
             [
              0.2222222222222222,
              "#7201a8"
             ],
             [
              0.3333333333333333,
              "#9c179e"
             ],
             [
              0.4444444444444444,
              "#bd3786"
             ],
             [
              0.5555555555555556,
              "#d8576b"
             ],
             [
              0.6666666666666666,
              "#ed7953"
             ],
             [
              0.7777777777777778,
              "#fb9f3a"
             ],
             [
              0.8888888888888888,
              "#fdca26"
             ],
             [
              1,
              "#f0f921"
             ]
            ],
            "type": "heatmap"
           }
          ],
          "heatmapgl": [
           {
            "colorbar": {
             "outlinewidth": 0,
             "ticks": ""
            },
            "colorscale": [
             [
              0,
              "#0d0887"
             ],
             [
              0.1111111111111111,
              "#46039f"
             ],
             [
              0.2222222222222222,
              "#7201a8"
             ],
             [
              0.3333333333333333,
              "#9c179e"
             ],
             [
              0.4444444444444444,
              "#bd3786"
             ],
             [
              0.5555555555555556,
              "#d8576b"
             ],
             [
              0.6666666666666666,
              "#ed7953"
             ],
             [
              0.7777777777777778,
              "#fb9f3a"
             ],
             [
              0.8888888888888888,
              "#fdca26"
             ],
             [
              1,
              "#f0f921"
             ]
            ],
            "type": "heatmapgl"
           }
          ],
          "histogram": [
           {
            "marker": {
             "pattern": {
              "fillmode": "overlay",
              "size": 10,
              "solidity": 0.2
             }
            },
            "type": "histogram"
           }
          ],
          "histogram2d": [
           {
            "colorbar": {
             "outlinewidth": 0,
             "ticks": ""
            },
            "colorscale": [
             [
              0,
              "#0d0887"
             ],
             [
              0.1111111111111111,
              "#46039f"
             ],
             [
              0.2222222222222222,
              "#7201a8"
             ],
             [
              0.3333333333333333,
              "#9c179e"
             ],
             [
              0.4444444444444444,
              "#bd3786"
             ],
             [
              0.5555555555555556,
              "#d8576b"
             ],
             [
              0.6666666666666666,
              "#ed7953"
             ],
             [
              0.7777777777777778,
              "#fb9f3a"
             ],
             [
              0.8888888888888888,
              "#fdca26"
             ],
             [
              1,
              "#f0f921"
             ]
            ],
            "type": "histogram2d"
           }
          ],
          "histogram2dcontour": [
           {
            "colorbar": {
             "outlinewidth": 0,
             "ticks": ""
            },
            "colorscale": [
             [
              0,
              "#0d0887"
             ],
             [
              0.1111111111111111,
              "#46039f"
             ],
             [
              0.2222222222222222,
              "#7201a8"
             ],
             [
              0.3333333333333333,
              "#9c179e"
             ],
             [
              0.4444444444444444,
              "#bd3786"
             ],
             [
              0.5555555555555556,
              "#d8576b"
             ],
             [
              0.6666666666666666,
              "#ed7953"
             ],
             [
              0.7777777777777778,
              "#fb9f3a"
             ],
             [
              0.8888888888888888,
              "#fdca26"
             ],
             [
              1,
              "#f0f921"
             ]
            ],
            "type": "histogram2dcontour"
           }
          ],
          "mesh3d": [
           {
            "colorbar": {
             "outlinewidth": 0,
             "ticks": ""
            },
            "type": "mesh3d"
           }
          ],
          "parcoords": [
           {
            "line": {
             "colorbar": {
              "outlinewidth": 0,
              "ticks": ""
             }
            },
            "type": "parcoords"
           }
          ],
          "pie": [
           {
            "automargin": true,
            "type": "pie"
           }
          ],
          "scatter": [
           {
            "fillpattern": {
             "fillmode": "overlay",
             "size": 10,
             "solidity": 0.2
            },
            "type": "scatter"
           }
          ],
          "scatter3d": [
           {
            "line": {
             "colorbar": {
              "outlinewidth": 0,
              "ticks": ""
             }
            },
            "marker": {
             "colorbar": {
              "outlinewidth": 0,
              "ticks": ""
             }
            },
            "type": "scatter3d"
           }
          ],
          "scattercarpet": [
           {
            "marker": {
             "colorbar": {
              "outlinewidth": 0,
              "ticks": ""
             }
            },
            "type": "scattercarpet"
           }
          ],
          "scattergeo": [
           {
            "marker": {
             "colorbar": {
              "outlinewidth": 0,
              "ticks": ""
             }
            },
            "type": "scattergeo"
           }
          ],
          "scattergl": [
           {
            "marker": {
             "colorbar": {
              "outlinewidth": 0,
              "ticks": ""
             }
            },
            "type": "scattergl"
           }
          ],
          "scattermapbox": [
           {
            "marker": {
             "colorbar": {
              "outlinewidth": 0,
              "ticks": ""
             }
            },
            "type": "scattermapbox"
           }
          ],
          "scatterpolar": [
           {
            "marker": {
             "colorbar": {
              "outlinewidth": 0,
              "ticks": ""
             }
            },
            "type": "scatterpolar"
           }
          ],
          "scatterpolargl": [
           {
            "marker": {
             "colorbar": {
              "outlinewidth": 0,
              "ticks": ""
             }
            },
            "type": "scatterpolargl"
           }
          ],
          "scatterternary": [
           {
            "marker": {
             "colorbar": {
              "outlinewidth": 0,
              "ticks": ""
             }
            },
            "type": "scatterternary"
           }
          ],
          "surface": [
           {
            "colorbar": {
             "outlinewidth": 0,
             "ticks": ""
            },
            "colorscale": [
             [
              0,
              "#0d0887"
             ],
             [
              0.1111111111111111,
              "#46039f"
             ],
             [
              0.2222222222222222,
              "#7201a8"
             ],
             [
              0.3333333333333333,
              "#9c179e"
             ],
             [
              0.4444444444444444,
              "#bd3786"
             ],
             [
              0.5555555555555556,
              "#d8576b"
             ],
             [
              0.6666666666666666,
              "#ed7953"
             ],
             [
              0.7777777777777778,
              "#fb9f3a"
             ],
             [
              0.8888888888888888,
              "#fdca26"
             ],
             [
              1,
              "#f0f921"
             ]
            ],
            "type": "surface"
           }
          ],
          "table": [
           {
            "cells": {
             "fill": {
              "color": "#EBF0F8"
             },
             "line": {
              "color": "white"
             }
            },
            "header": {
             "fill": {
              "color": "#C8D4E3"
             },
             "line": {
              "color": "white"
             }
            },
            "type": "table"
           }
          ]
         },
         "layout": {
          "annotationdefaults": {
           "arrowcolor": "#2a3f5f",
           "arrowhead": 0,
           "arrowwidth": 1
          },
          "autotypenumbers": "strict",
          "coloraxis": {
           "colorbar": {
            "outlinewidth": 0,
            "ticks": ""
           }
          },
          "colorscale": {
           "diverging": [
            [
             0,
             "#8e0152"
            ],
            [
             0.1,
             "#c51b7d"
            ],
            [
             0.2,
             "#de77ae"
            ],
            [
             0.3,
             "#f1b6da"
            ],
            [
             0.4,
             "#fde0ef"
            ],
            [
             0.5,
             "#f7f7f7"
            ],
            [
             0.6,
             "#e6f5d0"
            ],
            [
             0.7,
             "#b8e186"
            ],
            [
             0.8,
             "#7fbc41"
            ],
            [
             0.9,
             "#4d9221"
            ],
            [
             1,
             "#276419"
            ]
           ],
           "sequential": [
            [
             0,
             "#0d0887"
            ],
            [
             0.1111111111111111,
             "#46039f"
            ],
            [
             0.2222222222222222,
             "#7201a8"
            ],
            [
             0.3333333333333333,
             "#9c179e"
            ],
            [
             0.4444444444444444,
             "#bd3786"
            ],
            [
             0.5555555555555556,
             "#d8576b"
            ],
            [
             0.6666666666666666,
             "#ed7953"
            ],
            [
             0.7777777777777778,
             "#fb9f3a"
            ],
            [
             0.8888888888888888,
             "#fdca26"
            ],
            [
             1,
             "#f0f921"
            ]
           ],
           "sequentialminus": [
            [
             0,
             "#0d0887"
            ],
            [
             0.1111111111111111,
             "#46039f"
            ],
            [
             0.2222222222222222,
             "#7201a8"
            ],
            [
             0.3333333333333333,
             "#9c179e"
            ],
            [
             0.4444444444444444,
             "#bd3786"
            ],
            [
             0.5555555555555556,
             "#d8576b"
            ],
            [
             0.6666666666666666,
             "#ed7953"
            ],
            [
             0.7777777777777778,
             "#fb9f3a"
            ],
            [
             0.8888888888888888,
             "#fdca26"
            ],
            [
             1,
             "#f0f921"
            ]
           ]
          },
          "colorway": [
           "#636efa",
           "#EF553B",
           "#00cc96",
           "#ab63fa",
           "#FFA15A",
           "#19d3f3",
           "#FF6692",
           "#B6E880",
           "#FF97FF",
           "#FECB52"
          ],
          "font": {
           "color": "#2a3f5f"
          },
          "geo": {
           "bgcolor": "white",
           "lakecolor": "white",
           "landcolor": "#E5ECF6",
           "showlakes": true,
           "showland": true,
           "subunitcolor": "white"
          },
          "hoverlabel": {
           "align": "left"
          },
          "hovermode": "closest",
          "mapbox": {
           "style": "light"
          },
          "paper_bgcolor": "white",
          "plot_bgcolor": "#E5ECF6",
          "polar": {
           "angularaxis": {
            "gridcolor": "white",
            "linecolor": "white",
            "ticks": ""
           },
           "bgcolor": "#E5ECF6",
           "radialaxis": {
            "gridcolor": "white",
            "linecolor": "white",
            "ticks": ""
           }
          },
          "scene": {
           "xaxis": {
            "backgroundcolor": "#E5ECF6",
            "gridcolor": "white",
            "gridwidth": 2,
            "linecolor": "white",
            "showbackground": true,
            "ticks": "",
            "zerolinecolor": "white"
           },
           "yaxis": {
            "backgroundcolor": "#E5ECF6",
            "gridcolor": "white",
            "gridwidth": 2,
            "linecolor": "white",
            "showbackground": true,
            "ticks": "",
            "zerolinecolor": "white"
           },
           "zaxis": {
            "backgroundcolor": "#E5ECF6",
            "gridcolor": "white",
            "gridwidth": 2,
            "linecolor": "white",
            "showbackground": true,
            "ticks": "",
            "zerolinecolor": "white"
           }
          },
          "shapedefaults": {
           "line": {
            "color": "#2a3f5f"
           }
          },
          "ternary": {
           "aaxis": {
            "gridcolor": "white",
            "linecolor": "white",
            "ticks": ""
           },
           "baxis": {
            "gridcolor": "white",
            "linecolor": "white",
            "ticks": ""
           },
           "bgcolor": "#E5ECF6",
           "caxis": {
            "gridcolor": "white",
            "linecolor": "white",
            "ticks": ""
           }
          },
          "title": {
           "x": 0.05
          },
          "xaxis": {
           "automargin": true,
           "gridcolor": "white",
           "linecolor": "white",
           "ticks": "",
           "title": {
            "standoff": 15
           },
           "zerolinecolor": "white",
           "zerolinewidth": 2
          },
          "yaxis": {
           "automargin": true,
           "gridcolor": "white",
           "linecolor": "white",
           "ticks": "",
           "title": {
            "standoff": 15
           },
           "zerolinecolor": "white",
           "zerolinewidth": 2
          }
         }
        },
        "xaxis": {
         "autorange": true,
         "range": [
          -759323.4138972807,
          5814223.413897281
         ],
         "type": "linear"
        },
        "xaxis2": {
         "autorange": true,
         "range": [
          -1.1404833836858006,
          16.1404833836858
         ],
         "type": "linear"
        },
        "xaxis3": {
         "autorange": true,
         "range": [
          -0.1525679758308156,
          9.152567975830816
         ],
         "type": "linear"
        },
        "xaxis4": {
         "autorange": true,
         "range": [
          -353.3987915407854,
          2903.398791540785
         ],
         "type": "linear"
        },
        "yaxis": {
         "autorange": true,
         "range": [
          -759323.4138972807,
          5814223.413897281
         ],
         "type": "linear"
        },
        "yaxis2": {
         "autorange": true,
         "range": [
          -1.1404833836858006,
          16.1404833836858
         ],
         "type": "linear"
        },
        "yaxis3": {
         "autorange": true,
         "range": [
          -0.1525679758308156,
          9.152567975830816
         ],
         "type": "linear"
        },
        "yaxis4": {
         "autorange": true,
         "range": [
          -353.3987915407854,
          2903.398791540785
         ],
         "type": "linear"
        }
       }
      },
      "image/png": "[encoded data removed]",
      "text/html": [
       "<div>                            <div id=\"475ebf47-2ff5-4467-a2da-b6bac1e752f0\" class=\"plotly-graph-div\" style=\"height:525px; width:100%;\"></div>            <script type=\"text/javascript\">                require([\"plotly\"], function(Plotly) {                    window.PLOTLYENV=window.PLOTLYENV || {};                                    if (document.getElementById(\"475ebf47-2ff5-4467-a2da-b6bac1e752f0\")) {                    Plotly.newPlot(                        \"475ebf47-2ff5-4467-a2da-b6bac1e752f0\",                        [{\"dimensions\":[{\"axis\":{\"matches\":true},\"label\":\"price\",\"values\":[395000,640000,567000,375900,249900,230900,795000,235000,690000,371000,395000,595000,995000,625000,450000,256500,422500,1399000,256500,291800,235000,262181,567000,273100,246300,320000,275730,135000,2706000,795000,1148000,436700,291800,790000,320000,795000,297100,790000,205000,1148000,249900,297100,779000,367000,129900,179999,182100,262181,900000,182000,210000,235000,790000,790000,299990,250000,320000,550000,639000,330000,1500000,54900,425000,410000,895000,249900,249000,223000,235000,298000,139900,172000,5000000,180000,1500000,318500,160000,370000,205000,350000,640000,157500,725000,299000,430000,162000,395000,860000,360000,1500000,639000,1500000,173000,640000,340000,359000,700000,360000,700000,255000,310000,240000,270000,190000,1975000,260000,215000,449900,85000,298000,291800,262181,255900,265900,255900,265900,182100,291800,182100,256500,1148000,750000,182100,1089800,297100,291800,297100,262181,1148000,256500,252000,215000,225000,275000,358000,1300000,355000,335000,345000,362000,375900,299000,189500,264500,257000,258000,293000,389000,344000,318000,790000,175000,1990000,1210000,334000,445000,215000,375900,279900,299900,249900,385000,172670,165877,170297,262181,159320,165787,176746,188400,175599,1800000,422500,799900,291800,297100,698000,315000,278000,319000,291800,256500,320000,595000,640000,367500,360000]},{\"axis\":{\"matches\":true},\"label\":\"room_number\",\"values\":[4,4,5,4,2,2,3,3,5,3,4,5,4,4,7,3,5,8,4,3,3,2,5,3,2,4,3,3,8,5,5,4,3,4,3,5,3,5,3,6,3,3,4,4,4,4,3,2,6,1,1,3,5,5,4,2,3,4,3,3,5,1,4,8,4,2,3,3,3,4,3,2,11,2,4,4,3,3,3,3,4,3,5,3,3,3,4,5,4,4,3,4,2,4,3,4,3,4,5,3,3,2,3,3,5,3,3,4,2,4,3,2,2,3,3,3,2,3,2,4,6,4,3,14,3,3,3,1,5,4,2,2,2,3,3,5,4,4,4,4,4,3,2,3,3,2,3,4,3,3,5,1,11,5,2,4,3,4,3,3,3,3,3,3,3,2,3,3,3,3,3,5,6,6,3,3,6,3,2,3,3,3,3,4,4,3,4]},{\"axis\":{\"matches\":true},\"label\":\"bath_number\",\"values\":[3,2,4,2,2,2,4,2,4,3,3,3,4,3,3,1,3,6,2,2,2,1,4,2,2,2,2,1,8,5,4,2,2,2,3,5,2,3,1,6,1,2,3,3,2,2,1,1,4,1,1,2,3,3,3,1,3,4,2,4,6,1,3,4,4,1,2,2,2,2,1,2,6,1,5,2,1,3,1,2,5,1,3,2,2,1,3,2,3,6,2,6,1,2,2,3,2,3,3,2,3,1,2,1,7,1,2,3,1,2,2,1,2,2,2,2,1,2,1,2,6,3,1,7,2,2,2,1,4,2,2,2,2,2,2,6,3,3,3,3,2,2,1,3,2,2,2,2,2,2,3,1,7,5,2,3,1,2,2,3,2,2,2,2,2,1,2,2,2,2,2,5,4,4,2,2,3,2,2,2,2,1,3,3,2,2,3]},{\"axis\":{\"matches\":true},\"label\":\"constructed_area\",\"values\":[194,310,410,236,150,99,702,149,649,152,152,338,265,298,133,179,257,290,153,116,102,103,410,101,83,160,115,80,2500,407,650,151,118,255,140,407,156,440,130,650,83,118,230,195,115,230,83,108,384,55,65,89,440,360,213,109,161,280,298,239,600,53,230,210,500,80,106,102,120,231,76,86,1600,75,620,180,80,198,67,123,300,68,278,150,160,74,194,223,220,630,298,710,91,250,76,190,455,220,270,178,251,109,100,77,706,114,85,250,55,231,159,102,149,119,165,113,83,159,83,153,650,551,83,1071,116,118,156,108,650,153,104,84,82,107,111,659,250,235,235,250,248,95,150,200,103,83,101,118,105,104,552,50,1028,659,143,300,171,236,118,139,117,116,125,111,112,102,119,125,116,130,118,1004,296,380,118,116,351,109,94,109,118,179,140,226,310,123,202]}],\"hovertemplate\":\"%{xaxis.title.text}=%{x}<br>%{yaxis.title.text}=%{y}<extra></extra>\",\"legendgroup\":\"\",\"marker\":{\"color\":\"#636efa\",\"symbol\":\"circle\"},\"name\":\"\",\"showlegend\":false,\"type\":\"splom\"}],                        {\"template\":{\"data\":{\"histogram2dcontour\":[{\"type\":\"histogram2dcontour\",\"colorbar\":{\"outlinewidth\":0,\"ticks\":\"\"},\"colorscale\":[[0.0,\"#0d0887\"],[0.1111111111111111,\"#46039f\"],[0.2222222222222222,\"#7201a8\"],[0.3333333333333333,\"#9c179e\"],[0.4444444444444444,\"#bd3786\"],[0.5555555555555556,\"#d8576b\"],[0.6666666666666666,\"#ed7953\"],[0.7777777777777778,\"#fb9f3a\"],[0.8888888888888888,\"#fdca26\"],[1.0,\"#f0f921\"]]}],\"choropleth\":[{\"type\":\"choropleth\",\"colorbar\":{\"outlinewidth\":0,\"ticks\":\"\"}}],\"histogram2d\":[{\"type\":\"histogram2d\",\"colorbar\":{\"outlinewidth\":0,\"ticks\":\"\"},\"colorscale\":[[0.0,\"#0d0887\"],[0.1111111111111111,\"#46039f\"],[0.2222222222222222,\"#7201a8\"],[0.3333333333333333,\"#9c179e\"],[0.4444444444444444,\"#bd3786\"],[0.5555555555555556,\"#d8576b\"],[0.6666666666666666,\"#ed7953\"],[0.7777777777777778,\"#fb9f3a\"],[0.8888888888888888,\"#fdca26\"],[1.0,\"#f0f921\"]]}],\"heatmap\":[{\"type\":\"heatmap\",\"colorbar\":{\"outlinewidth\":0,\"ticks\":\"\"},\"colorscale\":[[0.0,\"#0d0887\"],[0.1111111111111111,\"#46039f\"],[0.2222222222222222,\"#7201a8\"],[0.3333333333333333,\"#9c179e\"],[0.4444444444444444,\"#bd3786\"],[0.5555555555555556,\"#d8576b\"],[0.6666666666666666,\"#ed7953\"],[0.7777777777777778,\"#fb9f3a\"],[0.8888888888888888,\"#fdca26\"],[1.0,\"#f0f921\"]]}],\"heatmapgl\":[{\"type\":\"heatmapgl\",\"colorbar\":{\"outlinewidth\":0,\"ticks\":\"\"},\"colorscale\":[[0.0,\"#0d0887\"],[0.1111111111111111,\"#46039f\"],[0.2222222222222222,\"#7201a8\"],[0.3333333333333333,\"#9c179e\"],[0.4444444444444444,\"#bd3786\"],[0.5555555555555556,\"#d8576b\"],[0.6666666666666666,\"#ed7953\"],[0.7777777777777778,\"#fb9f3a\"],[0.8888888888888888,\"#fdca26\"],[1.0,\"#f0f921\"]]}],\"contourcarpet\":[{\"type\":\"contourcarpet\",\"colorbar\":{\"outlinewidth\":0,\"ticks\":\"\"}}],\"contour\":[{\"type\":\"contour\",\"colorbar\":{\"outlinewidth\":0,\"ticks\":\"\"},\"colorscale\":[[0.0,\"#0d0887\"],[0.1111111111111111,\"#46039f\"],[0.2222222222222222,\"#7201a8\"],[0.3333333333333333,\"#9c179e\"],[0.4444444444444444,\"#bd3786\"],[0.5555555555555556,\"#d8576b\"],[0.6666666666666666,\"#ed7953\"],[0.7777777777777778,\"#fb9f3a\"],[0.8888888888888888,\"#fdca26\"],[1.0,\"#f0f921\"]]}],\"surface\":[{\"type\":\"surface\",\"colorbar\":{\"outlinewidth\":0,\"ticks\":\"\"},\"colorscale\":[[0.0,\"#0d0887\"],[0.1111111111111111,\"#46039f\"],[0.2222222222222222,\"#7201a8\"],[0.3333333333333333,\"#9c179e\"],[0.4444444444444444,\"#bd3786\"],[0.5555555555555556,\"#d8576b\"],[0.6666666666666666,\"#ed7953\"],[0.7777777777777778,\"#fb9f3a\"],[0.8888888888888888,\"#fdca26\"],[1.0,\"#f0f921\"]]}],\"mesh3d\":[{\"type\":\"mesh3d\",\"colorbar\":{\"outlinewidth\":0,\"ticks\":\"\"}}],\"scatter\":[{\"fillpattern\":{\"fillmode\":\"overlay\",\"size\":10,\"solidity\":0.2},\"type\":\"scatter\"}],\"parcoords\":[{\"type\":\"parcoords\",\"line\":{\"colorbar\":{\"outlinewidth\":0,\"ticks\":\"\"}}}],\"scatterpolargl\":[{\"type\":\"scatterpolargl\",\"marker\":{\"colorbar\":{\"outlinewidth\":0,\"ticks\":\"\"}}}],\"bar\":[{\"error_x\":{\"color\":\"#2a3f5f\"},\"error_y\":{\"color\":\"#2a3f5f\"},\"marker\":{\"line\":{\"color\":\"#E5ECF6\",\"width\":0.5},\"pattern\":{\"fillmode\":\"overlay\",\"size\":10,\"solidity\":0.2}},\"type\":\"bar\"}],\"scattergeo\":[{\"type\":\"scattergeo\",\"marker\":{\"colorbar\":{\"outlinewidth\":0,\"ticks\":\"\"}}}],\"scatterpolar\":[{\"type\":\"scatterpolar\",\"marker\":{\"colorbar\":{\"outlinewidth\":0,\"ticks\":\"\"}}}],\"histogram\":[{\"marker\":{\"pattern\":{\"fillmode\":\"overlay\",\"size\":10,\"solidity\":0.2}},\"type\":\"histogram\"}],\"scattergl\":[{\"type\":\"scattergl\",\"marker\":{\"colorbar\":{\"outlinewidth\":0,\"ticks\":\"\"}}}],\"scatter3d\":[{\"type\":\"scatter3d\",\"line\":{\"colorbar\":{\"outlinewidth\":0,\"ticks\":\"\"}},\"marker\":{\"colorbar\":{\"outlinewidth\":0,\"ticks\":\"\"}}}],\"scattermapbox\":[{\"type\":\"scattermapbox\",\"marker\":{\"colorbar\":{\"outlinewidth\":0,\"ticks\":\"\"}}}],\"scatterternary\":[{\"type\":\"scatterternary\",\"marker\":{\"colorbar\":{\"outlinewidth\":0,\"ticks\":\"\"}}}],\"scattercarpet\":[{\"type\":\"scattercarpet\",\"marker\":{\"colorbar\":{\"outlinewidth\":0,\"ticks\":\"\"}}}],\"carpet\":[{\"aaxis\":{\"endlinecolor\":\"#2a3f5f\",\"gridcolor\":\"white\",\"linecolor\":\"white\",\"minorgridcolor\":\"white\",\"startlinecolor\":\"#2a3f5f\"},\"baxis\":{\"endlinecolor\":\"#2a3f5f\",\"gridcolor\":\"white\",\"linecolor\":\"white\",\"minorgridcolor\":\"white\",\"startlinecolor\":\"#2a3f5f\"},\"type\":\"carpet\"}],\"table\":[{\"cells\":{\"fill\":{\"color\":\"#EBF0F8\"},\"line\":{\"color\":\"white\"}},\"header\":{\"fill\":{\"color\":\"#C8D4E3\"},\"line\":{\"color\":\"white\"}},\"type\":\"table\"}],\"barpolar\":[{\"marker\":{\"line\":{\"color\":\"#E5ECF6\",\"width\":0.5},\"pattern\":{\"fillmode\":\"overlay\",\"size\":10,\"solidity\":0.2}},\"type\":\"barpolar\"}],\"pie\":[{\"automargin\":true,\"type\":\"pie\"}]},\"layout\":{\"autotypenumbers\":\"strict\",\"colorway\":[\"#636efa\",\"#EF553B\",\"#00cc96\",\"#ab63fa\",\"#FFA15A\",\"#19d3f3\",\"#FF6692\",\"#B6E880\",\"#FF97FF\",\"#FECB52\"],\"font\":{\"color\":\"#2a3f5f\"},\"hovermode\":\"closest\",\"hoverlabel\":{\"align\":\"left\"},\"paper_bgcolor\":\"white\",\"plot_bgcolor\":\"#E5ECF6\",\"polar\":{\"bgcolor\":\"#E5ECF6\",\"angularaxis\":{\"gridcolor\":\"white\",\"linecolor\":\"white\",\"ticks\":\"\"},\"radialaxis\":{\"gridcolor\":\"white\",\"linecolor\":\"white\",\"ticks\":\"\"}},\"ternary\":{\"bgcolor\":\"#E5ECF6\",\"aaxis\":{\"gridcolor\":\"white\",\"linecolor\":\"white\",\"ticks\":\"\"},\"baxis\":{\"gridcolor\":\"white\",\"linecolor\":\"white\",\"ticks\":\"\"},\"caxis\":{\"gridcolor\":\"white\",\"linecolor\":\"white\",\"ticks\":\"\"}},\"coloraxis\":{\"colorbar\":{\"outlinewidth\":0,\"ticks\":\"\"}},\"colorscale\":{\"sequential\":[[0.0,\"#0d0887\"],[0.1111111111111111,\"#46039f\"],[0.2222222222222222,\"#7201a8\"],[0.3333333333333333,\"#9c179e\"],[0.4444444444444444,\"#bd3786\"],[0.5555555555555556,\"#d8576b\"],[0.6666666666666666,\"#ed7953\"],[0.7777777777777778,\"#fb9f3a\"],[0.8888888888888888,\"#fdca26\"],[1.0,\"#f0f921\"]],\"sequentialminus\":[[0.0,\"#0d0887\"],[0.1111111111111111,\"#46039f\"],[0.2222222222222222,\"#7201a8\"],[0.3333333333333333,\"#9c179e\"],[0.4444444444444444,\"#bd3786\"],[0.5555555555555556,\"#d8576b\"],[0.6666666666666666,\"#ed7953\"],[0.7777777777777778,\"#fb9f3a\"],[0.8888888888888888,\"#fdca26\"],[1.0,\"#f0f921\"]],\"diverging\":[[0,\"#8e0152\"],[0.1,\"#c51b7d\"],[0.2,\"#de77ae\"],[0.3,\"#f1b6da\"],[0.4,\"#fde0ef\"],[0.5,\"#f7f7f7\"],[0.6,\"#e6f5d0\"],[0.7,\"#b8e186\"],[0.8,\"#7fbc41\"],[0.9,\"#4d9221\"],[1,\"#276419\"]]},\"xaxis\":{\"gridcolor\":\"white\",\"linecolor\":\"white\",\"ticks\":\"\",\"title\":{\"standoff\":15},\"zerolinecolor\":\"white\",\"automargin\":true,\"zerolinewidth\":2},\"yaxis\":{\"gridcolor\":\"white\",\"linecolor\":\"white\",\"ticks\":\"\",\"title\":{\"standoff\":15},\"zerolinecolor\":\"white\",\"automargin\":true,\"zerolinewidth\":2},\"scene\":{\"xaxis\":{\"backgroundcolor\":\"#E5ECF6\",\"gridcolor\":\"white\",\"linecolor\":\"white\",\"showbackground\":true,\"ticks\":\"\",\"zerolinecolor\":\"white\",\"gridwidth\":2},\"yaxis\":{\"backgroundcolor\":\"#E5ECF6\",\"gridcolor\":\"white\",\"linecolor\":\"white\",\"showbackground\":true,\"ticks\":\"\",\"zerolinecolor\":\"white\",\"gridwidth\":2},\"zaxis\":{\"backgroundcolor\":\"#E5ECF6\",\"gridcolor\":\"white\",\"linecolor\":\"white\",\"showbackground\":true,\"ticks\":\"\",\"zerolinecolor\":\"white\",\"gridwidth\":2}},\"shapedefaults\":{\"line\":{\"color\":\"#2a3f5f\"}},\"annotationdefaults\":{\"arrowcolor\":\"#2a3f5f\",\"arrowhead\":0,\"arrowwidth\":1},\"geo\":{\"bgcolor\":\"white\",\"landcolor\":\"#E5ECF6\",\"subunitcolor\":\"white\",\"showland\":true,\"showlakes\":true,\"lakecolor\":\"white\"},\"title\":{\"x\":0.05},\"mapbox\":{\"style\":\"light\"}}},\"legend\":{\"tracegroupgap\":0},\"margin\":{\"t\":60},\"dragmode\":\"select\"},                        {\"responsive\": true}                    ).then(function(){\n",
       "                            \n",
       "var gd = document.getElementById('475ebf47-2ff5-4467-a2da-b6bac1e752f0');\n",
       "var x = new MutationObserver(function (mutations, observer) {{\n",
       "        var display = window.getComputedStyle(gd).display;\n",
       "        if (!display || display === 'none') {{\n",
       "            console.log([gd, 'removed!']);\n",
       "            Plotly.purge(gd);\n",
       "            observer.disconnect();\n",
       "        }}\n",
       "}});\n",
       "\n",
       "// Listen for the removal of the full notebook cells\n",
       "var notebookContainer = gd.closest('#notebook-container');\n",
       "if (notebookContainer) {{\n",
       "    x.observe(notebookContainer, {childList: true});\n",
       "}}\n",
       "\n",
       "// Listen for the clearing of the current output cell\n",
       "var outputEl = gd.closest('.output');\n",
       "if (outputEl) {{\n",
       "    x.observe(outputEl, {childList: true});\n",
       "}}\n",
       "\n",
       "                        })                };                });            </script>        </div>"
      ]
     },
     "metadata": {},
     "output_type": "display_data"
    }
   ],
   "source": [
    "fig = px.scatter_matrix(data_clean,\n",
    "                       dimensions= ['price', 'room_number', 'bath_number', 'constructed_area']\n",
    "                    \n",
    "                       )\n",
    "fig.show()\n"
   ]
  },
  {
   "cell_type": "markdown",
   "metadata": {},
   "source": [
    "**Exploración de posibles outliers** <br>\n",
    "Realizamos diferentes análisis para identificar estos valores \"Outliers\" y estudiar si se debe a valores atípicos que pueden afectar a nuestro modelo o si se debe a valores extremos y por tanto valorar si son o no excluidos del conjunto ya que pueden aportar información relevante para el aprendizaje del modelo."
   ]
  },
  {
   "cell_type": "code",
   "execution_count": 24,
   "metadata": {},
   "outputs": [],
   "source": [
    "data_selected_columns = data_clean[[\"price\", \"room_number\", \"bath_number\", \"constructed_area\"]]"
   ]
  },
  {
   "cell_type": "code",
   "execution_count": 25,
   "metadata": {},
   "outputs": [
    {
     "data": {
      "image/png": "[encoded data removed]",
      "text/plain": [
       "<Figure size 432x288 with 1 Axes>"
      ]
     },
     "metadata": {
      "needs_background": "light"
     },
     "output_type": "display_data"
    }
   ],
   "source": [
    "data_selected_columns.boxplot(grid=False, rot=45, fontsize=15)\n",
    "\n",
    "plt.show()"
   ]
  },
  {
   "cell_type": "markdown",
   "metadata": {},
   "source": [
    "En el gráfico de cajas y bigotes se observa como el precio presenta valores atípicos."
   ]
  },
  {
   "cell_type": "markdown",
   "metadata": {},
   "source": [
    "**Analizamos la distribución de la variable precio:**\n",
    "* La distribución de los datos de ajustan a una curva sesgada a la derecha. <br>"
   ]
  },
  {
   "cell_type": "code",
   "execution_count": 26,
   "metadata": {},
   "outputs": [
    {
     "name": "stderr",
     "output_type": "stream",
     "text": [
      "/home/dsc/.local/lib/python3.6/site-packages/seaborn/distributions.py:2619: FutureWarning:\n",
      "\n",
      "`distplot` is a deprecated function and will be removed in a future version. Please adapt your code to use either `displot` (a figure-level function with similar flexibility) or `histplot` (an axes-level function for histograms).\n",
      "\n"
     ]
    },
    {
     "data": {
      "image/png": "[encoded data removed]",
      "text/plain": [
       "<Figure size 432x288 with 1 Axes>"
      ]
     },
     "metadata": {
      "needs_background": "light"
     },
     "output_type": "display_data"
    }
   ],
   "source": [
    "sb.distplot(data_clean['price'], color = 'orange')\n",
    "plt.title('Distribución del precio', fontsize = 16)\n",
    "plt.xlabel('precio', fontsize = 14)\n",
    "plt.ylabel('Frecuencia', fontsize = 14)\n",
    "plt.xticks(fontsize = 8)\n",
    "plt.yticks(fontsize = 8)\n",
    "\n",
    "plt.savefig('distplot_price.png')\n",
    "plt.show()"
   ]
  },
  {
   "cell_type": "markdown",
   "metadata": {},
   "source": [
    "Dibujaremos la **gráfica en escala logarítmica** para analizar mejor el conjunto."
   ]
  },
  {
   "cell_type": "code",
   "execution_count": 27,
   "metadata": {},
   "outputs": [
    {
     "name": "stderr",
     "output_type": "stream",
     "text": [
      "/home/dsc/.local/lib/python3.6/site-packages/seaborn/distributions.py:2619: FutureWarning:\n",
      "\n",
      "`distplot` is a deprecated function and will be removed in a future version. Please adapt your code to use either `displot` (a figure-level function with similar flexibility) or `histplot` (an axes-level function for histograms).\n",
      "\n"
     ]
    },
    {
     "data": {
      "image/png": "[encoded data removed]",
      "text/plain": [
       "<Figure size 432x288 with 1 Axes>"
      ]
     },
     "metadata": {
      "needs_background": "light"
     },
     "output_type": "display_data"
    }
   ],
   "source": [
    "sb.distplot(np.log(data_clean['price']), color = 'darkorange')\n",
    "plt.title('Distribución precio escala logarítmica', fontsize = 16)\n",
    "plt.xlabel('precio', fontsize = 14)\n",
    "plt.ylabel('Frecuencia', fontsize = 14)\n",
    "plt.xticks(fontsize = 8)\n",
    "plt.yticks(fontsize = 8)\n",
    "\n",
    "plt.savefig('distplot_precio_log.png')\n",
    "plt.show()\n"
   ]
  },
  {
   "cell_type": "markdown",
   "metadata": {},
   "source": [
    "**Analizamos la distribución de los metros contruidos.**\n",
    "* Podemos ver que es una distribución con **skew positivo**. Sesgada a la derecha."
   ]
  },
  {
   "cell_type": "code",
   "execution_count": 28,
   "metadata": {},
   "outputs": [
    {
     "name": "stderr",
     "output_type": "stream",
     "text": [
      "/home/dsc/.local/lib/python3.6/site-packages/seaborn/distributions.py:2619: FutureWarning:\n",
      "\n",
      "`distplot` is a deprecated function and will be removed in a future version. Please adapt your code to use either `displot` (a figure-level function with similar flexibility) or `histplot` (an axes-level function for histograms).\n",
      "\n"
     ]
    },
    {
     "data": {
      "image/png": "[encoded data removed]",
      "text/plain": [
       "<Figure size 432x288 with 1 Axes>"
      ]
     },
     "metadata": {
      "needs_background": "light"
     },
     "output_type": "display_data"
    }
   ],
   "source": [
    "sb.distplot(data_clean['constructed_area'], color = 'orange')\n",
    "plt.title('Distribucíon Metros Construidos', fontsize = 16)\n",
    "plt.xlabel('Metros construidos', fontsize = 14)\n",
    "plt.ylabel('Frecuencia', fontsize = 14)\n",
    "plt.xticks(fontsize = 8)\n",
    "plt.yticks(fontsize = 8)\n",
    "\n",
    "plt.savefig('distplot_metros construidos.png')\n",
    "plt.show()"
   ]
  },
  {
   "cell_type": "code",
   "execution_count": 29,
   "metadata": {},
   "outputs": [
    {
     "name": "stderr",
     "output_type": "stream",
     "text": [
      "/home/dsc/.local/lib/python3.6/site-packages/seaborn/distributions.py:2619: FutureWarning:\n",
      "\n",
      "`distplot` is a deprecated function and will be removed in a future version. Please adapt your code to use either `displot` (a figure-level function with similar flexibility) or `histplot` (an axes-level function for histograms).\n",
      "\n"
     ]
    },
    {
     "data": {
      "image/png": "[encoded data removed]",
      "text/plain": [
       "<Figure size 432x288 with 1 Axes>"
      ]
     },
     "metadata": {
      "needs_background": "light"
     },
     "output_type": "display_data"
    }
   ],
   "source": [
    "sb.distplot(np.log(data_clean['constructed_area']), color = 'darkorange')\n",
    "plt.title('Distribución Metros Construidos escala logarítmica', fontsize = 16)\n",
    "plt.xlabel('Metros construidos', fontsize = 14)\n",
    "plt.ylabel('Frecuencia', fontsize = 14)\n",
    "plt.xticks(fontsize = 8)\n",
    "plt.yticks(fontsize = 8)\n",
    "\n",
    "plt.savefig('distplot_constructed_area_log.png')\n",
    "plt.show()"
   ]
  },
  {
   "cell_type": "markdown",
   "metadata": {},
   "source": [
    "Analizamos el **volumen de viviendas según el número de habitaciones**. <br>\n",
    "* La mayoría de las viviendas presenta **3 y 4 habitaciones**. \n",
    "* Podemos observar que hay alguna vivienda con 14 y 11 habitaciones. Un comportamiento atípico que podría sesgar los datos y afectar al modelo."
   ]
  },
  {
   "cell_type": "code",
   "execution_count": 30,
   "metadata": {
    "tags": []
   },
   "outputs": [
    {
     "data": {
      "image/png": "[encoded data removed]",
      "text/plain": [
       "<Figure size 432x288 with 1 Axes>"
      ]
     },
     "metadata": {
      "needs_background": "light"
     },
     "output_type": "display_data"
    }
   ],
   "source": [
    "data_clean['room_number'].value_counts().plot(kind='bar', color='orange')\n",
    "plt.title('Volumen de viviendas por número de habitaciones')\n",
    "plt.xlabel('Habitaciones')\n",
    "plt.ylabel('Número de Viviendas')\n",
    "sb.despine\n",
    "\n",
    "plt.savefig(\"numero_de_habitaciones.jpg\")"
   ]
  },
  {
   "cell_type": "markdown",
   "metadata": {},
   "source": [
    "Analizamos el **volumen de viviendas según el número de baños**. <br>\n"
   ]
  },
  {
   "cell_type": "code",
   "execution_count": 31,
   "metadata": {},
   "outputs": [
    {
     "data": {
      "image/png": "[encoded data removed]",
      "text/plain": [
       "<Figure size 432x288 with 1 Axes>"
      ]
     },
     "metadata": {
      "needs_background": "light"
     },
     "output_type": "display_data"
    }
   ],
   "source": [
    "data_clean['bath_number'].value_counts().plot(kind='bar', color='orange')\n",
    "plt.title('Volumen de viviendas por número de baños')\n",
    "plt.xlabel('Baños')\n",
    "plt.ylabel('Número de viviendas')\n",
    "sb.despine\n",
    "\n",
    "plt.savefig(\"numero_de_baños.jpg\")"
   ]
  },
  {
   "cell_type": "markdown",
   "metadata": {},
   "source": [
    "Analizamos la **relación del precio con el número de habitaciones y el número de baños.**\n",
    "* Se observan algunos Outlier en función del precio en viviendas de dos baños y en viviendas con 6 baños, el precio de esta es de 5 millones.\n",
    "* En Viviendas de 3,4 y 5 habitaciones también se observan Outliers."
   ]
  },
  {
   "cell_type": "code",
   "execution_count": 64,
   "metadata": {},
   "outputs": [
    {
     "data": {
      "application/vnd.plotly.v1+json": {
       "config": {
        "plotlyServerURL": "https://plot.ly"
       },
       "data": [
        {
         "name": "nº baños",
         "type": "box",
         "x": [
          3,
          2,
          4,
          2,
          2,
          2,
          4,
          2,
          4,
          3,
          3,
          3,
          4,
          3,
          3,
          1,
          3,
          6,
          2,
          2,
          2,
          1,
          4,
          2,
          2,
          2,
          2,
          1,
          8,
          5,
          4,
          2,
          2,
          2,
          3,
          5,
          2,
          3,
          1,
          6,
          1,
          2,
          3,
          3,
          2,
          2,
          1,
          1,
          4,
          1,
          1,
          2,
          3,
          3,
          3,
          1,
          3,
          4,
          2,
          4,
          6,
          1,
          3,
          4,
          4,
          1,
          2,
          2,
          2,
          2,
          1,
          2,
          6,
          1,
          5,
          2,
          1,
          3,
          1,
          2,
          5,
          1,
          3,
          2,
          2,
          1,
          3,
          2,
          3,
          6,
          2,
          6,
          1,
          2,
          2,
          3,
          2,
          3,
          3,
          2,
          3,
          1,
          2,
          1,
          7,
          1,
          2,
          3,
          1,
          2,
          2,
          1,
          2,
          2,
          2,
          2,
          1,
          2,
          1,
          2,
          6,
          3,
          1,
          7,
          2,
          2,
          2,
          1,
          4,
          2,
          2,
          2,
          2,
          2,
          2,
          6,
          3,
          3,
          3,
          3,
          2,
          2,
          1,
          3,
          2,
          2,
          2,
          2,
          2,
          2,
          3,
          1,
          7,
          5,
          2,
          3,
          1,
          2,
          2,
          3,
          2,
          2,
          2,
          2,
          2,
          1,
          2,
          2,
          2,
          2,
          2,
          5,
          4,
          4,
          2,
          2,
          3,
          2,
          2,
          2,
          2,
          1,
          3,
          3,
          2,
          2,
          3
         ],
         "xaxis": "x",
         "y": [
          395000,
          640000,
          567000,
          375900,
          249900,
          230900,
          795000,
          235000,
          690000,
          371000,
          395000,
          595000,
          995000,
          625000,
          450000,
          256500,
          422500,
          1399000,
          256500,
          291800,
          235000,
          262181,
          567000,
          273100,
          246300,
          320000,
          275730,
          135000,
          2706000,
          795000,
          1148000,
          436700,
          291800,
          790000,
          320000,
          795000,
          297100,
          790000,
          205000,
          1148000,
          249900,
          297100,
          779000,
          367000,
          129900,
          179999,
          182100,
          262181,
          900000,
          182000,
          210000,
          235000,
          790000,
          790000,
          299990,
          250000,
          320000,
          550000,
          639000,
          330000,
          1500000,
          54900,
          425000,
          410000,
          895000,
          249900,
          249000,
          223000,
          235000,
          298000,
          139900,
          172000,
          5000000,
          180000,
          1500000,
          318500,
          160000,
          370000,
          205000,
          350000,
          640000,
          157500,
          725000,
          299000,
          430000,
          162000,
          395000,
          860000,
          360000,
          1500000,
          639000,
          1500000,
          173000,
          640000,
          340000,
          359000,
          700000,
          360000,
          700000,
          255000,
          310000,
          240000,
          270000,
          190000,
          1975000,
          260000,
          215000,
          449900,
          85000,
          298000,
          291800,
          262181,
          255900,
          265900,
          255900,
          265900,
          182100,
          291800,
          182100,
          256500,
          1148000,
          750000,
          182100,
          1089800,
          297100,
          291800,
          297100,
          262181,
          1148000,
          256500,
          252000,
          215000,
          225000,
          275000,
          358000,
          1300000,
          355000,
          335000,
          345000,
          362000,
          375900,
          299000,
          189500,
          264500,
          257000,
          258000,
          293000,
          389000,
          344000,
          318000,
          790000,
          175000,
          1990000,
          1210000,
          334000,
          445000,
          215000,
          375900,
          279900,
          299900,
          249900,
          385000,
          172670,
          165877,
          170297,
          262181,
          159320,
          165787,
          176746,
          188400,
          175599,
          1800000,
          422500,
          799900,
          291800,
          297100,
          698000,
          315000,
          278000,
          319000,
          291800,
          256500,
          320000,
          595000,
          640000,
          367500,
          360000
         ],
         "yaxis": "y"
        },
        {
         "name": "nº habitaciones",
         "type": "box",
         "x": [
          4,
          4,
          5,
          4,
          2,
          2,
          3,
          3,
          5,
          3,
          4,
          5,
          4,
          4,
          7,
          3,
          5,
          8,
          4,
          3,
          3,
          2,
          5,
          3,
          2,
          4,
          3,
          3,
          8,
          5,
          5,
          4,
          3,
          4,
          3,
          5,
          3,
          5,
          3,
          6,
          3,
          3,
          4,
          4,
          4,
          4,
          3,
          2,
          6,
          1,
          1,
          3,
          5,
          5,
          4,
          2,
          3,
          4,
          3,
          3,
          5,
          1,
          4,
          8,
          4,
          2,
          3,
          3,
          3,
          4,
          3,
          2,
          11,
          2,
          4,
          4,
          3,
          3,
          3,
          3,
          4,
          3,
          5,
          3,
          3,
          3,
          4,
          5,
          4,
          4,
          3,
          4,
          2,
          4,
          3,
          4,
          3,
          4,
          5,
          3,
          3,
          2,
          3,
          3,
          5,
          3,
          3,
          4,
          2,
          4,
          3,
          2,
          2,
          3,
          3,
          3,
          2,
          3,
          2,
          4,
          6,
          4,
          3,
          14,
          3,
          3,
          3,
          1,
          5,
          4,
          2,
          2,
          2,
          3,
          3,
          5,
          4,
          4,
          4,
          4,
          4,
          3,
          2,
          3,
          3,
          2,
          3,
          4,
          3,
          3,
          5,
          1,
          11,
          5,
          2,
          4,
          3,
          4,
          3,
          3,
          3,
          3,
          3,
          3,
          3,
          2,
          3,
          3,
          3,
          3,
          3,
          5,
          6,
          6,
          3,
          3,
          6,
          3,
          2,
          3,
          3,
          3,
          3,
          4,
          4,
          3,
          4
         ],
         "xaxis": "x2",
         "y": [
          395000,
          640000,
          567000,
          375900,
          249900,
          230900,
          795000,
          235000,
          690000,
          371000,
          395000,
          595000,
          995000,
          625000,
          450000,
          256500,
          422500,
          1399000,
          256500,
          291800,
          235000,
          262181,
          567000,
          273100,
          246300,
          320000,
          275730,
          135000,
          2706000,
          795000,
          1148000,
          436700,
          291800,
          790000,
          320000,
          795000,
          297100,
          790000,
          205000,
          1148000,
          249900,
          297100,
          779000,
          367000,
          129900,
          179999,
          182100,
          262181,
          900000,
          182000,
          210000,
          235000,
          790000,
          790000,
          299990,
          250000,
          320000,
          550000,
          639000,
          330000,
          1500000,
          54900,
          425000,
          410000,
          895000,
          249900,
          249000,
          223000,
          235000,
          298000,
          139900,
          172000,
          5000000,
          180000,
          1500000,
          318500,
          160000,
          370000,
          205000,
          350000,
          640000,
          157500,
          725000,
          299000,
          430000,
          162000,
          395000,
          860000,
          360000,
          1500000,
          639000,
          1500000,
          173000,
          640000,
          340000,
          359000,
          700000,
          360000,
          700000,
          255000,
          310000,
          240000,
          270000,
          190000,
          1975000,
          260000,
          215000,
          449900,
          85000,
          298000,
          291800,
          262181,
          255900,
          265900,
          255900,
          265900,
          182100,
          291800,
          182100,
          256500,
          1148000,
          750000,
          182100,
          1089800,
          297100,
          291800,
          297100,
          262181,
          1148000,
          256500,
          252000,
          215000,
          225000,
          275000,
          358000,
          1300000,
          355000,
          335000,
          345000,
          362000,
          375900,
          299000,
          189500,
          264500,
          257000,
          258000,
          293000,
          389000,
          344000,
          318000,
          790000,
          175000,
          1990000,
          1210000,
          334000,
          445000,
          215000,
          375900,
          279900,
          299900,
          249900,
          385000,
          172670,
          165877,
          170297,
          262181,
          159320,
          165787,
          176746,
          188400,
          175599,
          1800000,
          422500,
          799900,
          291800,
          297100,
          698000,
          315000,
          278000,
          319000,
          291800,
          256500,
          320000,
          595000,
          640000,
          367500,
          360000
         ],
         "yaxis": "y2"
        }
       ],
       "layout": {
        "autosize": true,
        "template": {
         "data": {
          "bar": [
           {
            "error_x": {
             "color": "#2a3f5f"
            },
            "error_y": {
             "color": "#2a3f5f"
            },
            "marker": {
             "line": {
              "color": "#E5ECF6",
              "width": 0.5
             },
             "pattern": {
              "fillmode": "overlay",
              "size": 10,
              "solidity": 0.2
             }
            },
            "type": "bar"
           }
          ],
          "barpolar": [
           {
            "marker": {
             "line": {
              "color": "#E5ECF6",
              "width": 0.5
             },
             "pattern": {
              "fillmode": "overlay",
              "size": 10,
              "solidity": 0.2
             }
            },
            "type": "barpolar"
           }
          ],
          "carpet": [
           {
            "aaxis": {
             "endlinecolor": "#2a3f5f",
             "gridcolor": "white",
             "linecolor": "white",
             "minorgridcolor": "white",
             "startlinecolor": "#2a3f5f"
            },
            "baxis": {
             "endlinecolor": "#2a3f5f",
             "gridcolor": "white",
             "linecolor": "white",
             "minorgridcolor": "white",
             "startlinecolor": "#2a3f5f"
            },
            "type": "carpet"
           }
          ],
          "choropleth": [
           {
            "colorbar": {
             "outlinewidth": 0,
             "ticks": ""
            },
            "type": "choropleth"
           }
          ],
          "contour": [
           {
            "colorbar": {
             "outlinewidth": 0,
             "ticks": ""
            },
            "colorscale": [
             [
              0,
              "#0d0887"
             ],
             [
              0.1111111111111111,
              "#46039f"
             ],
             [
              0.2222222222222222,
              "#7201a8"
             ],
             [
              0.3333333333333333,
              "#9c179e"
             ],
             [
              0.4444444444444444,
              "#bd3786"
             ],
             [
              0.5555555555555556,
              "#d8576b"
             ],
             [
              0.6666666666666666,
              "#ed7953"
             ],
             [
              0.7777777777777778,
              "#fb9f3a"
             ],
             [
              0.8888888888888888,
              "#fdca26"
             ],
             [
              1,
              "#f0f921"
             ]
            ],
            "type": "contour"
           }
          ],
          "contourcarpet": [
           {
            "colorbar": {
             "outlinewidth": 0,
             "ticks": ""
            },
            "type": "contourcarpet"
           }
          ],
          "heatmap": [
           {
            "colorbar": {
             "outlinewidth": 0,
             "ticks": ""
            },
            "colorscale": [
             [
              0,
              "#0d0887"
             ],
             [
              0.1111111111111111,
              "#46039f"
             ],
             [
              0.2222222222222222,
              "#7201a8"
             ],
             [
              0.3333333333333333,
              "#9c179e"
             ],
             [
              0.4444444444444444,
              "#bd3786"
             ],
             [
              0.5555555555555556,
              "#d8576b"
             ],
             [
              0.6666666666666666,
              "#ed7953"
             ],
             [
              0.7777777777777778,
              "#fb9f3a"
             ],
             [
              0.8888888888888888,
              "#fdca26"
             ],
             [
              1,
              "#f0f921"
             ]
            ],
            "type": "heatmap"
           }
          ],
          "heatmapgl": [
           {
            "colorbar": {
             "outlinewidth": 0,
             "ticks": ""
            },
            "colorscale": [
             [
              0,
              "#0d0887"
             ],
             [
              0.1111111111111111,
              "#46039f"
             ],
             [
              0.2222222222222222,
              "#7201a8"
             ],
             [
              0.3333333333333333,
              "#9c179e"
             ],
             [
              0.4444444444444444,
              "#bd3786"
             ],
             [
              0.5555555555555556,
              "#d8576b"
             ],
             [
              0.6666666666666666,
              "#ed7953"
             ],
             [
              0.7777777777777778,
              "#fb9f3a"
             ],
             [
              0.8888888888888888,
              "#fdca26"
             ],
             [
              1,
              "#f0f921"
             ]
            ],
            "type": "heatmapgl"
           }
          ],
          "histogram": [
           {
            "marker": {
             "pattern": {
              "fillmode": "overlay",
              "size": 10,
              "solidity": 0.2
             }
            },
            "type": "histogram"
           }
          ],
          "histogram2d": [
           {
            "colorbar": {
             "outlinewidth": 0,
             "ticks": ""
            },
            "colorscale": [
             [
              0,
              "#0d0887"
             ],
             [
              0.1111111111111111,
              "#46039f"
             ],
             [
              0.2222222222222222,
              "#7201a8"
             ],
             [
              0.3333333333333333,
              "#9c179e"
             ],
             [
              0.4444444444444444,
              "#bd3786"
             ],
             [
              0.5555555555555556,
              "#d8576b"
             ],
             [
              0.6666666666666666,
              "#ed7953"
             ],
             [
              0.7777777777777778,
              "#fb9f3a"
             ],
             [
              0.8888888888888888,
              "#fdca26"
             ],
             [
              1,
              "#f0f921"
             ]
            ],
            "type": "histogram2d"
           }
          ],
          "histogram2dcontour": [
           {
            "colorbar": {
             "outlinewidth": 0,
             "ticks": ""
            },
            "colorscale": [
             [
              0,
              "#0d0887"
             ],
             [
              0.1111111111111111,
              "#46039f"
             ],
             [
              0.2222222222222222,
              "#7201a8"
             ],
             [
              0.3333333333333333,
              "#9c179e"
             ],
             [
              0.4444444444444444,
              "#bd3786"
             ],
             [
              0.5555555555555556,
              "#d8576b"
             ],
             [
              0.6666666666666666,
              "#ed7953"
             ],
             [
              0.7777777777777778,
              "#fb9f3a"
             ],
             [
              0.8888888888888888,
              "#fdca26"
             ],
             [
              1,
              "#f0f921"
             ]
            ],
            "type": "histogram2dcontour"
           }
          ],
          "mesh3d": [
           {
            "colorbar": {
             "outlinewidth": 0,
             "ticks": ""
            },
            "type": "mesh3d"
           }
          ],
          "parcoords": [
           {
            "line": {
             "colorbar": {
              "outlinewidth": 0,
              "ticks": ""
             }
            },
            "type": "parcoords"
           }
          ],
          "pie": [
           {
            "automargin": true,
            "type": "pie"
           }
          ],
          "scatter": [
           {
            "fillpattern": {
             "fillmode": "overlay",
             "size": 10,
             "solidity": 0.2
            },
            "type": "scatter"
           }
          ],
          "scatter3d": [
           {
            "line": {
             "colorbar": {
              "outlinewidth": 0,
              "ticks": ""
             }
            },
            "marker": {
             "colorbar": {
              "outlinewidth": 0,
              "ticks": ""
             }
            },
            "type": "scatter3d"
           }
          ],
          "scattercarpet": [
           {
            "marker": {
             "colorbar": {
              "outlinewidth": 0,
              "ticks": ""
             }
            },
            "type": "scattercarpet"
           }
          ],
          "scattergeo": [
           {
            "marker": {
             "colorbar": {
              "outlinewidth": 0,
              "ticks": ""
             }
            },
            "type": "scattergeo"
           }
          ],
          "scattergl": [
           {
            "marker": {
             "colorbar": {
              "outlinewidth": 0,
              "ticks": ""
             }
            },
            "type": "scattergl"
           }
          ],
          "scattermapbox": [
           {
            "marker": {
             "colorbar": {
              "outlinewidth": 0,
              "ticks": ""
             }
            },
            "type": "scattermapbox"
           }
          ],
          "scatterpolar": [
           {
            "marker": {
             "colorbar": {
              "outlinewidth": 0,
              "ticks": ""
             }
            },
            "type": "scatterpolar"
           }
          ],
          "scatterpolargl": [
           {
            "marker": {
             "colorbar": {
              "outlinewidth": 0,
              "ticks": ""
             }
            },
            "type": "scatterpolargl"
           }
          ],
          "scatterternary": [
           {
            "marker": {
             "colorbar": {
              "outlinewidth": 0,
              "ticks": ""
             }
            },
            "type": "scatterternary"
           }
          ],
          "surface": [
           {
            "colorbar": {
             "outlinewidth": 0,
             "ticks": ""
            },
            "colorscale": [
             [
              0,
              "#0d0887"
             ],
             [
              0.1111111111111111,
              "#46039f"
             ],
             [
              0.2222222222222222,
              "#7201a8"
             ],
             [
              0.3333333333333333,
              "#9c179e"
             ],
             [
              0.4444444444444444,
              "#bd3786"
             ],
             [
              0.5555555555555556,
              "#d8576b"
             ],
             [
              0.6666666666666666,
              "#ed7953"
             ],
             [
              0.7777777777777778,
              "#fb9f3a"
             ],
             [
              0.8888888888888888,
              "#fdca26"
             ],
             [
              1,
              "#f0f921"
             ]
            ],
            "type": "surface"
           }
          ],
          "table": [
           {
            "cells": {
             "fill": {
              "color": "#EBF0F8"
             },
             "line": {
              "color": "white"
             }
            },
            "header": {
             "fill": {
              "color": "#C8D4E3"
             },
             "line": {
              "color": "white"
             }
            },
            "type": "table"
           }
          ]
         },
         "layout": {
          "annotationdefaults": {
           "arrowcolor": "#2a3f5f",
           "arrowhead": 0,
           "arrowwidth": 1
          },
          "autotypenumbers": "strict",
          "coloraxis": {
           "colorbar": {
            "outlinewidth": 0,
            "ticks": ""
           }
          },
          "colorscale": {
           "diverging": [
            [
             0,
             "#8e0152"
            ],
            [
             0.1,
             "#c51b7d"
            ],
            [
             0.2,
             "#de77ae"
            ],
            [
             0.3,
             "#f1b6da"
            ],
            [
             0.4,
             "#fde0ef"
            ],
            [
             0.5,
             "#f7f7f7"
            ],
            [
             0.6,
             "#e6f5d0"
            ],
            [
             0.7,
             "#b8e186"
            ],
            [
             0.8,
             "#7fbc41"
            ],
            [
             0.9,
             "#4d9221"
            ],
            [
             1,
             "#276419"
            ]
           ],
           "sequential": [
            [
             0,
             "#0d0887"
            ],
            [
             0.1111111111111111,
             "#46039f"
            ],
            [
             0.2222222222222222,
             "#7201a8"
            ],
            [
             0.3333333333333333,
             "#9c179e"
            ],
            [
             0.4444444444444444,
             "#bd3786"
            ],
            [
             0.5555555555555556,
             "#d8576b"
            ],
            [
             0.6666666666666666,
             "#ed7953"
            ],
            [
             0.7777777777777778,
             "#fb9f3a"
            ],
            [
             0.8888888888888888,
             "#fdca26"
            ],
            [
             1,
             "#f0f921"
            ]
           ],
           "sequentialminus": [
            [
             0,
             "#0d0887"
            ],
            [
             0.1111111111111111,
             "#46039f"
            ],
            [
             0.2222222222222222,
             "#7201a8"
            ],
            [
             0.3333333333333333,
             "#9c179e"
            ],
            [
             0.4444444444444444,
             "#bd3786"
            ],
            [
             0.5555555555555556,
             "#d8576b"
            ],
            [
             0.6666666666666666,
             "#ed7953"
            ],
            [
             0.7777777777777778,
             "#fb9f3a"
            ],
            [
             0.8888888888888888,
             "#fdca26"
            ],
            [
             1,
             "#f0f921"
            ]
           ]
          },
          "colorway": [
           "#636efa",
           "#EF553B",
           "#00cc96",
           "#ab63fa",
           "#FFA15A",
           "#19d3f3",
           "#FF6692",
           "#B6E880",
           "#FF97FF",
           "#FECB52"
          ],
          "font": {
           "color": "#2a3f5f"
          },
          "geo": {
           "bgcolor": "white",
           "lakecolor": "white",
           "landcolor": "#E5ECF6",
           "showlakes": true,
           "showland": true,
           "subunitcolor": "white"
          },
          "hoverlabel": {
           "align": "left"
          },
          "hovermode": "closest",
          "mapbox": {
           "style": "light"
          },
          "paper_bgcolor": "white",
          "plot_bgcolor": "#E5ECF6",
          "polar": {
           "angularaxis": {
            "gridcolor": "white",
            "linecolor": "white",
            "ticks": ""
           },
           "bgcolor": "#E5ECF6",
           "radialaxis": {
            "gridcolor": "white",
            "linecolor": "white",
            "ticks": ""
           }
          },
          "scene": {
           "xaxis": {
            "backgroundcolor": "#E5ECF6",
            "gridcolor": "white",
            "gridwidth": 2,
            "linecolor": "white",
            "showbackground": true,
            "ticks": "",
            "zerolinecolor": "white"
           },
           "yaxis": {
            "backgroundcolor": "#E5ECF6",
            "gridcolor": "white",
            "gridwidth": 2,
            "linecolor": "white",
            "showbackground": true,
            "ticks": "",
            "zerolinecolor": "white"
           },
           "zaxis": {
            "backgroundcolor": "#E5ECF6",
            "gridcolor": "white",
            "gridwidth": 2,
            "linecolor": "white",
            "showbackground": true,
            "ticks": "",
            "zerolinecolor": "white"
           }
          },
          "shapedefaults": {
           "line": {
            "color": "#2a3f5f"
           }
          },
          "ternary": {
           "aaxis": {
            "gridcolor": "white",
            "linecolor": "white",
            "ticks": ""
           },
           "baxis": {
            "gridcolor": "white",
            "linecolor": "white",
            "ticks": ""
           },
           "bgcolor": "#E5ECF6",
           "caxis": {
            "gridcolor": "white",
            "linecolor": "white",
            "ticks": ""
           }
          },
          "title": {
           "x": 0.05
          },
          "xaxis": {
           "automargin": true,
           "gridcolor": "white",
           "linecolor": "white",
           "ticks": "",
           "title": {
            "standoff": 15
           },
           "zerolinecolor": "white",
           "zerolinewidth": 2
          },
          "yaxis": {
           "automargin": true,
           "gridcolor": "white",
           "linecolor": "white",
           "ticks": "",
           "title": {
            "standoff": 15
           },
           "zerolinecolor": "white",
           "zerolinewidth": 2
          }
         }
        },
        "xaxis": {
         "anchor": "y",
         "autorange": true,
         "domain": [
          0,
          0.45
         ],
         "range": [
          0.5,
          8.5
         ],
         "type": "linear"
        },
        "xaxis2": {
         "anchor": "y2",
         "autorange": true,
         "domain": [
          0.55,
          1
         ],
         "range": [
          0.5,
          14.5
         ],
         "type": "linear"
        },
        "yaxis": {
         "anchor": "x",
         "autorange": true,
         "domain": [
          0,
          1
         ],
         "range": [
          -219827.77777777775,
          5274727.777777778
         ],
         "type": "linear"
        },
        "yaxis2": {
         "anchor": "x2",
         "autorange": true,
         "domain": [
          0,
          1
         ],
         "range": [
          -219827.77777777775,
          5274727.777777778
         ],
         "type": "linear"
        }
       }
      },
      "image/png": "[encoded data removed]",
      "text/html": [
       "<div>                            <div id=\"4b06d3b4-72da-4009-ab7a-c08aa74603b6\" class=\"plotly-graph-div\" style=\"height:525px; width:100%;\"></div>            <script type=\"text/javascript\">                require([\"plotly\"], function(Plotly) {                    window.PLOTLYENV=window.PLOTLYENV || {};                                    if (document.getElementById(\"4b06d3b4-72da-4009-ab7a-c08aa74603b6\")) {                    Plotly.newPlot(                        \"4b06d3b4-72da-4009-ab7a-c08aa74603b6\",                        [{\"name\":\"n\\u00ba ba\\u00f1os\",\"x\":[3,2,4,2,2,2,4,2,4,3,3,3,4,3,3,1,3,6,2,2,2,1,4,2,2,2,2,1,8,5,4,2,2,2,3,5,2,3,1,6,1,2,3,3,2,2,1,1,4,1,1,2,3,3,3,1,3,4,2,4,6,1,3,4,4,1,2,2,2,2,1,2,6,1,5,2,1,3,1,2,5,1,3,2,2,1,3,2,3,6,2,6,1,2,2,3,2,3,3,2,3,1,2,1,7,1,2,3,1,2,2,1,2,2,2,2,1,2,1,2,6,3,1,7,2,2,2,1,4,2,2,2,2,2,2,6,3,3,3,3,2,2,1,3,2,2,2,2,2,2,3,1,7,5,2,3,1,2,2,3,2,2,2,2,2,1,2,2,2,2,2,5,4,4,2,2,3,2,2,2,2,1,3,3,2,2,3],\"y\":[395000,640000,567000,375900,249900,230900,795000,235000,690000,371000,395000,595000,995000,625000,450000,256500,422500,1399000,256500,291800,235000,262181,567000,273100,246300,320000,275730,135000,2706000,795000,1148000,436700,291800,790000,320000,795000,297100,790000,205000,1148000,249900,297100,779000,367000,129900,179999,182100,262181,900000,182000,210000,235000,790000,790000,299990,250000,320000,550000,639000,330000,1500000,54900,425000,410000,895000,249900,249000,223000,235000,298000,139900,172000,5000000,180000,1500000,318500,160000,370000,205000,350000,640000,157500,725000,299000,430000,162000,395000,860000,360000,1500000,639000,1500000,173000,640000,340000,359000,700000,360000,700000,255000,310000,240000,270000,190000,1975000,260000,215000,449900,85000,298000,291800,262181,255900,265900,255900,265900,182100,291800,182100,256500,1148000,750000,182100,1089800,297100,291800,297100,262181,1148000,256500,252000,215000,225000,275000,358000,1300000,355000,335000,345000,362000,375900,299000,189500,264500,257000,258000,293000,389000,344000,318000,790000,175000,1990000,1210000,334000,445000,215000,375900,279900,299900,249900,385000,172670,165877,170297,262181,159320,165787,176746,188400,175599,1800000,422500,799900,291800,297100,698000,315000,278000,319000,291800,256500,320000,595000,640000,367500,360000],\"type\":\"box\",\"xaxis\":\"x\",\"yaxis\":\"y\"},{\"name\":\"n\\u00ba habitaciones\",\"x\":[4,4,5,4,2,2,3,3,5,3,4,5,4,4,7,3,5,8,4,3,3,2,5,3,2,4,3,3,8,5,5,4,3,4,3,5,3,5,3,6,3,3,4,4,4,4,3,2,6,1,1,3,5,5,4,2,3,4,3,3,5,1,4,8,4,2,3,3,3,4,3,2,11,2,4,4,3,3,3,3,4,3,5,3,3,3,4,5,4,4,3,4,2,4,3,4,3,4,5,3,3,2,3,3,5,3,3,4,2,4,3,2,2,3,3,3,2,3,2,4,6,4,3,14,3,3,3,1,5,4,2,2,2,3,3,5,4,4,4,4,4,3,2,3,3,2,3,4,3,3,5,1,11,5,2,4,3,4,3,3,3,3,3,3,3,2,3,3,3,3,3,5,6,6,3,3,6,3,2,3,3,3,3,4,4,3,4],\"y\":[395000,640000,567000,375900,249900,230900,795000,235000,690000,371000,395000,595000,995000,625000,450000,256500,422500,1399000,256500,291800,235000,262181,567000,273100,246300,320000,275730,135000,2706000,795000,1148000,436700,291800,790000,320000,795000,297100,790000,205000,1148000,249900,297100,779000,367000,129900,179999,182100,262181,900000,182000,210000,235000,790000,790000,299990,250000,320000,550000,639000,330000,1500000,54900,425000,410000,895000,249900,249000,223000,235000,298000,139900,172000,5000000,180000,1500000,318500,160000,370000,205000,350000,640000,157500,725000,299000,430000,162000,395000,860000,360000,1500000,639000,1500000,173000,640000,340000,359000,700000,360000,700000,255000,310000,240000,270000,190000,1975000,260000,215000,449900,85000,298000,291800,262181,255900,265900,255900,265900,182100,291800,182100,256500,1148000,750000,182100,1089800,297100,291800,297100,262181,1148000,256500,252000,215000,225000,275000,358000,1300000,355000,335000,345000,362000,375900,299000,189500,264500,257000,258000,293000,389000,344000,318000,790000,175000,1990000,1210000,334000,445000,215000,375900,279900,299900,249900,385000,172670,165877,170297,262181,159320,165787,176746,188400,175599,1800000,422500,799900,291800,297100,698000,315000,278000,319000,291800,256500,320000,595000,640000,367500,360000],\"type\":\"box\",\"xaxis\":\"x2\",\"yaxis\":\"y2\"}],                        {\"template\":{\"data\":{\"histogram2dcontour\":[{\"type\":\"histogram2dcontour\",\"colorbar\":{\"outlinewidth\":0,\"ticks\":\"\"},\"colorscale\":[[0.0,\"#0d0887\"],[0.1111111111111111,\"#46039f\"],[0.2222222222222222,\"#7201a8\"],[0.3333333333333333,\"#9c179e\"],[0.4444444444444444,\"#bd3786\"],[0.5555555555555556,\"#d8576b\"],[0.6666666666666666,\"#ed7953\"],[0.7777777777777778,\"#fb9f3a\"],[0.8888888888888888,\"#fdca26\"],[1.0,\"#f0f921\"]]}],\"choropleth\":[{\"type\":\"choropleth\",\"colorbar\":{\"outlinewidth\":0,\"ticks\":\"\"}}],\"histogram2d\":[{\"type\":\"histogram2d\",\"colorbar\":{\"outlinewidth\":0,\"ticks\":\"\"},\"colorscale\":[[0.0,\"#0d0887\"],[0.1111111111111111,\"#46039f\"],[0.2222222222222222,\"#7201a8\"],[0.3333333333333333,\"#9c179e\"],[0.4444444444444444,\"#bd3786\"],[0.5555555555555556,\"#d8576b\"],[0.6666666666666666,\"#ed7953\"],[0.7777777777777778,\"#fb9f3a\"],[0.8888888888888888,\"#fdca26\"],[1.0,\"#f0f921\"]]}],\"heatmap\":[{\"type\":\"heatmap\",\"colorbar\":{\"outlinewidth\":0,\"ticks\":\"\"},\"colorscale\":[[0.0,\"#0d0887\"],[0.1111111111111111,\"#46039f\"],[0.2222222222222222,\"#7201a8\"],[0.3333333333333333,\"#9c179e\"],[0.4444444444444444,\"#bd3786\"],[0.5555555555555556,\"#d8576b\"],[0.6666666666666666,\"#ed7953\"],[0.7777777777777778,\"#fb9f3a\"],[0.8888888888888888,\"#fdca26\"],[1.0,\"#f0f921\"]]}],\"heatmapgl\":[{\"type\":\"heatmapgl\",\"colorbar\":{\"outlinewidth\":0,\"ticks\":\"\"},\"colorscale\":[[0.0,\"#0d0887\"],[0.1111111111111111,\"#46039f\"],[0.2222222222222222,\"#7201a8\"],[0.3333333333333333,\"#9c179e\"],[0.4444444444444444,\"#bd3786\"],[0.5555555555555556,\"#d8576b\"],[0.6666666666666666,\"#ed7953\"],[0.7777777777777778,\"#fb9f3a\"],[0.8888888888888888,\"#fdca26\"],[1.0,\"#f0f921\"]]}],\"contourcarpet\":[{\"type\":\"contourcarpet\",\"colorbar\":{\"outlinewidth\":0,\"ticks\":\"\"}}],\"contour\":[{\"type\":\"contour\",\"colorbar\":{\"outlinewidth\":0,\"ticks\":\"\"},\"colorscale\":[[0.0,\"#0d0887\"],[0.1111111111111111,\"#46039f\"],[0.2222222222222222,\"#7201a8\"],[0.3333333333333333,\"#9c179e\"],[0.4444444444444444,\"#bd3786\"],[0.5555555555555556,\"#d8576b\"],[0.6666666666666666,\"#ed7953\"],[0.7777777777777778,\"#fb9f3a\"],[0.8888888888888888,\"#fdca26\"],[1.0,\"#f0f921\"]]}],\"surface\":[{\"type\":\"surface\",\"colorbar\":{\"outlinewidth\":0,\"ticks\":\"\"},\"colorscale\":[[0.0,\"#0d0887\"],[0.1111111111111111,\"#46039f\"],[0.2222222222222222,\"#7201a8\"],[0.3333333333333333,\"#9c179e\"],[0.4444444444444444,\"#bd3786\"],[0.5555555555555556,\"#d8576b\"],[0.6666666666666666,\"#ed7953\"],[0.7777777777777778,\"#fb9f3a\"],[0.8888888888888888,\"#fdca26\"],[1.0,\"#f0f921\"]]}],\"mesh3d\":[{\"type\":\"mesh3d\",\"colorbar\":{\"outlinewidth\":0,\"ticks\":\"\"}}],\"scatter\":[{\"fillpattern\":{\"fillmode\":\"overlay\",\"size\":10,\"solidity\":0.2},\"type\":\"scatter\"}],\"parcoords\":[{\"type\":\"parcoords\",\"line\":{\"colorbar\":{\"outlinewidth\":0,\"ticks\":\"\"}}}],\"scatterpolargl\":[{\"type\":\"scatterpolargl\",\"marker\":{\"colorbar\":{\"outlinewidth\":0,\"ticks\":\"\"}}}],\"bar\":[{\"error_x\":{\"color\":\"#2a3f5f\"},\"error_y\":{\"color\":\"#2a3f5f\"},\"marker\":{\"line\":{\"color\":\"#E5ECF6\",\"width\":0.5},\"pattern\":{\"fillmode\":\"overlay\",\"size\":10,\"solidity\":0.2}},\"type\":\"bar\"}],\"scattergeo\":[{\"type\":\"scattergeo\",\"marker\":{\"colorbar\":{\"outlinewidth\":0,\"ticks\":\"\"}}}],\"scatterpolar\":[{\"type\":\"scatterpolar\",\"marker\":{\"colorbar\":{\"outlinewidth\":0,\"ticks\":\"\"}}}],\"histogram\":[{\"marker\":{\"pattern\":{\"fillmode\":\"overlay\",\"size\":10,\"solidity\":0.2}},\"type\":\"histogram\"}],\"scattergl\":[{\"type\":\"scattergl\",\"marker\":{\"colorbar\":{\"outlinewidth\":0,\"ticks\":\"\"}}}],\"scatter3d\":[{\"type\":\"scatter3d\",\"line\":{\"colorbar\":{\"outlinewidth\":0,\"ticks\":\"\"}},\"marker\":{\"colorbar\":{\"outlinewidth\":0,\"ticks\":\"\"}}}],\"scattermapbox\":[{\"type\":\"scattermapbox\",\"marker\":{\"colorbar\":{\"outlinewidth\":0,\"ticks\":\"\"}}}],\"scatterternary\":[{\"type\":\"scatterternary\",\"marker\":{\"colorbar\":{\"outlinewidth\":0,\"ticks\":\"\"}}}],\"scattercarpet\":[{\"type\":\"scattercarpet\",\"marker\":{\"colorbar\":{\"outlinewidth\":0,\"ticks\":\"\"}}}],\"carpet\":[{\"aaxis\":{\"endlinecolor\":\"#2a3f5f\",\"gridcolor\":\"white\",\"linecolor\":\"white\",\"minorgridcolor\":\"white\",\"startlinecolor\":\"#2a3f5f\"},\"baxis\":{\"endlinecolor\":\"#2a3f5f\",\"gridcolor\":\"white\",\"linecolor\":\"white\",\"minorgridcolor\":\"white\",\"startlinecolor\":\"#2a3f5f\"},\"type\":\"carpet\"}],\"table\":[{\"cells\":{\"fill\":{\"color\":\"#EBF0F8\"},\"line\":{\"color\":\"white\"}},\"header\":{\"fill\":{\"color\":\"#C8D4E3\"},\"line\":{\"color\":\"white\"}},\"type\":\"table\"}],\"barpolar\":[{\"marker\":{\"line\":{\"color\":\"#E5ECF6\",\"width\":0.5},\"pattern\":{\"fillmode\":\"overlay\",\"size\":10,\"solidity\":0.2}},\"type\":\"barpolar\"}],\"pie\":[{\"automargin\":true,\"type\":\"pie\"}]},\"layout\":{\"autotypenumbers\":\"strict\",\"colorway\":[\"#636efa\",\"#EF553B\",\"#00cc96\",\"#ab63fa\",\"#FFA15A\",\"#19d3f3\",\"#FF6692\",\"#B6E880\",\"#FF97FF\",\"#FECB52\"],\"font\":{\"color\":\"#2a3f5f\"},\"hovermode\":\"closest\",\"hoverlabel\":{\"align\":\"left\"},\"paper_bgcolor\":\"white\",\"plot_bgcolor\":\"#E5ECF6\",\"polar\":{\"bgcolor\":\"#E5ECF6\",\"angularaxis\":{\"gridcolor\":\"white\",\"linecolor\":\"white\",\"ticks\":\"\"},\"radialaxis\":{\"gridcolor\":\"white\",\"linecolor\":\"white\",\"ticks\":\"\"}},\"ternary\":{\"bgcolor\":\"#E5ECF6\",\"aaxis\":{\"gridcolor\":\"white\",\"linecolor\":\"white\",\"ticks\":\"\"},\"baxis\":{\"gridcolor\":\"white\",\"linecolor\":\"white\",\"ticks\":\"\"},\"caxis\":{\"gridcolor\":\"white\",\"linecolor\":\"white\",\"ticks\":\"\"}},\"coloraxis\":{\"colorbar\":{\"outlinewidth\":0,\"ticks\":\"\"}},\"colorscale\":{\"sequential\":[[0.0,\"#0d0887\"],[0.1111111111111111,\"#46039f\"],[0.2222222222222222,\"#7201a8\"],[0.3333333333333333,\"#9c179e\"],[0.4444444444444444,\"#bd3786\"],[0.5555555555555556,\"#d8576b\"],[0.6666666666666666,\"#ed7953\"],[0.7777777777777778,\"#fb9f3a\"],[0.8888888888888888,\"#fdca26\"],[1.0,\"#f0f921\"]],\"sequentialminus\":[[0.0,\"#0d0887\"],[0.1111111111111111,\"#46039f\"],[0.2222222222222222,\"#7201a8\"],[0.3333333333333333,\"#9c179e\"],[0.4444444444444444,\"#bd3786\"],[0.5555555555555556,\"#d8576b\"],[0.6666666666666666,\"#ed7953\"],[0.7777777777777778,\"#fb9f3a\"],[0.8888888888888888,\"#fdca26\"],[1.0,\"#f0f921\"]],\"diverging\":[[0,\"#8e0152\"],[0.1,\"#c51b7d\"],[0.2,\"#de77ae\"],[0.3,\"#f1b6da\"],[0.4,\"#fde0ef\"],[0.5,\"#f7f7f7\"],[0.6,\"#e6f5d0\"],[0.7,\"#b8e186\"],[0.8,\"#7fbc41\"],[0.9,\"#4d9221\"],[1,\"#276419\"]]},\"xaxis\":{\"gridcolor\":\"white\",\"linecolor\":\"white\",\"ticks\":\"\",\"title\":{\"standoff\":15},\"zerolinecolor\":\"white\",\"automargin\":true,\"zerolinewidth\":2},\"yaxis\":{\"gridcolor\":\"white\",\"linecolor\":\"white\",\"ticks\":\"\",\"title\":{\"standoff\":15},\"zerolinecolor\":\"white\",\"automargin\":true,\"zerolinewidth\":2},\"scene\":{\"xaxis\":{\"backgroundcolor\":\"#E5ECF6\",\"gridcolor\":\"white\",\"linecolor\":\"white\",\"showbackground\":true,\"ticks\":\"\",\"zerolinecolor\":\"white\",\"gridwidth\":2},\"yaxis\":{\"backgroundcolor\":\"#E5ECF6\",\"gridcolor\":\"white\",\"linecolor\":\"white\",\"showbackground\":true,\"ticks\":\"\",\"zerolinecolor\":\"white\",\"gridwidth\":2},\"zaxis\":{\"backgroundcolor\":\"#E5ECF6\",\"gridcolor\":\"white\",\"linecolor\":\"white\",\"showbackground\":true,\"ticks\":\"\",\"zerolinecolor\":\"white\",\"gridwidth\":2}},\"shapedefaults\":{\"line\":{\"color\":\"#2a3f5f\"}},\"annotationdefaults\":{\"arrowcolor\":\"#2a3f5f\",\"arrowhead\":0,\"arrowwidth\":1},\"geo\":{\"bgcolor\":\"white\",\"landcolor\":\"#E5ECF6\",\"subunitcolor\":\"white\",\"showland\":true,\"showlakes\":true,\"lakecolor\":\"white\"},\"title\":{\"x\":0.05},\"mapbox\":{\"style\":\"light\"}}},\"xaxis\":{\"anchor\":\"y\",\"domain\":[0.0,0.45]},\"yaxis\":{\"anchor\":\"x\",\"domain\":[0.0,1.0]},\"xaxis2\":{\"anchor\":\"y2\",\"domain\":[0.55,1.0]},\"yaxis2\":{\"anchor\":\"x2\",\"domain\":[0.0,1.0]}},                        {\"responsive\": true}                    ).then(function(){\n",
       "                            \n",
       "var gd = document.getElementById('4b06d3b4-72da-4009-ab7a-c08aa74603b6');\n",
       "var x = new MutationObserver(function (mutations, observer) {{\n",
       "        var display = window.getComputedStyle(gd).display;\n",
       "        if (!display || display === 'none') {{\n",
       "            console.log([gd, 'removed!']);\n",
       "            Plotly.purge(gd);\n",
       "            observer.disconnect();\n",
       "        }}\n",
       "}});\n",
       "\n",
       "// Listen for the removal of the full notebook cells\n",
       "var notebookContainer = gd.closest('#notebook-container');\n",
       "if (notebookContainer) {{\n",
       "    x.observe(notebookContainer, {childList: true});\n",
       "}}\n",
       "\n",
       "// Listen for the clearing of the current output cell\n",
       "var outputEl = gd.closest('.output');\n",
       "if (outputEl) {{\n",
       "    x.observe(outputEl, {childList: true});\n",
       "}}\n",
       "\n",
       "                        })                };                });            </script>        </div>"
      ]
     },
     "metadata": {},
     "output_type": "display_data"
    }
   ],
   "source": [
    "fig2 = make_subplots(rows=1,cols=2)\n",
    "fig2.add_box(x=data_clean['bath_number'],y=data_clean['price'],row=1,col=1,name='nº baños')\n",
    "fig2.add_box(x=data_clean['room_number'],y=data_clean['price'],row=1,col=2,name='nº habitaciones')\n",
    "fig2.show()"
   ]
  },
  {
   "cell_type": "markdown",
   "metadata": {},
   "source": [
    "Analizamos la **relación entre el precio y los metros contruidos.**"
   ]
  },
  {
   "cell_type": "code",
   "execution_count": 33,
   "metadata": {},
   "outputs": [
    {
     "data": {
      "text/plain": [
       "Text(0.5, 1.0, 'Price vs Constructe area')"
      ]
     },
     "execution_count": 33,
     "metadata": {},
     "output_type": "execute_result"
    },
    {
     "data": {
      "image/png": "[encoded data removed]",
      "text/plain": [
       "<Figure size 432x288 with 1 Axes>"
      ]
     },
     "metadata": {
      "needs_background": "light"
     },
     "output_type": "display_data"
    }
   ],
   "source": [
    "plt.scatter(data_clean.price,data_clean.constructed_area)\n",
    "plt.title(\"Price vs Constructe area\")"
   ]
  },
  {
   "cell_type": "markdown",
   "metadata": {},
   "source": []
  },
  {
   "cell_type": "markdown",
   "metadata": {},
   "source": [
    "**Análisis del precio en función del número de habitaciones** <br>\n",
    "* Podemos afirmar que los valores extremos de precio identificados en el estudio corresponden con viviendas que presentan un gran número de habitaciones.\n",
    "* Esto es algo normal y podemos decir que los datos no son atípicos sino que son valores extremos. A pesar de afirmar esto, identificaremos estos puntos para guardar un nuevo dataset con estos valores excluidos.\n",
    "* Posteriormente entrenaremos los modelos tanto con todo el conjunto de datos como con el dataset sin outliers para quedarnos con el que mejor rendimiento aporte al modelo de predicción. <br><br>"
   ]
  },
  {
   "cell_type": "code",
   "execution_count": 34,
   "metadata": {},
   "outputs": [
    {
     "data": {
      "image/png": "[encoded data removed]",
      "text/plain": [
       "<Figure size 432x288 with 1 Axes>"
      ]
     },
     "metadata": {
      "needs_background": "light"
     },
     "output_type": "display_data"
    }
   ],
   "source": [
    "plt.scatter(data_clean.room_number,data_clean.price)\n",
    "plt.title(\"nº habitaciones y Precio\")\n",
    "plt.xlabel(\"Habitaciones\")\n",
    "plt.ylabel(\"Precio\")\n",
    "plt.show()"
   ]
  },
  {
   "cell_type": "markdown",
   "metadata": {},
   "source": [
    "Realizamos algunos **análisis adicionales en función del resto de características** de la base de datos:\n",
    "* Relación del precio con piscina.\n",
    "* Relación del precio con jardín.\n",
    "* Relación del precio con si es nueva construcción.\n",
    "* Relación del precio cn si está en buenas condiciones.\n",
    "* Relación del precio con si necesita reforma.\n",
    "* Relación del precio con si tiene terraza.\n",
    "\n",
    "\n",
    "Las viviendas con estas características a excepción de si es nueva construcción presentan precios más elevados."
   ]
  },
  {
   "cell_type": "code",
   "execution_count": 35,
   "metadata": {
    "tags": []
   },
   "outputs": [
    {
     "data": {
      "text/plain": [
       "Text(0.5, 1.0, 'Piscina  vs Precio ( 1= Con piscina)')"
      ]
     },
     "execution_count": 35,
     "metadata": {},
     "output_type": "execute_result"
    },
    {
     "data": {
      "image/png": "[encoded data removed]",
      "text/plain": [
       "<Figure size 432x288 with 1 Axes>"
      ]
     },
     "metadata": {
      "needs_background": "light"
     },
     "output_type": "display_data"
    }
   ],
   "source": [
    "plt.scatter(data_clean.has_swimmingpool,data_clean.price)\n",
    "plt.title(\"Piscina  vs Precio ( 1= Con piscina)\")"
   ]
  },
  {
   "cell_type": "code",
   "execution_count": 36,
   "metadata": {},
   "outputs": [
    {
     "data": {
      "text/plain": [
       "Text(0.5, 1.0, 'Jardín  vs Precio ( 1= Con jardín)')"
      ]
     },
     "execution_count": 36,
     "metadata": {},
     "output_type": "execute_result"
    },
    {
     "data": {
      "image/png": "[encoded data removed]",
      "text/plain": [
       "<Figure size 432x288 with 1 Axes>"
      ]
     },
     "metadata": {
      "needs_background": "light"
     },
     "output_type": "display_data"
    }
   ],
   "source": [
    "plt.scatter(data_clean.has_garden,data_clean.price)\n",
    "plt.title(\"Jardín  vs Precio ( 1= Con jardín)\")"
   ]
  },
  {
   "cell_type": "code",
   "execution_count": 37,
   "metadata": {},
   "outputs": [
    {
     "data": {
      "text/plain": [
       "Text(0.5, 1.0, 'Nueva Construcción  vs Precio ( 1= Es de Nueva Construcción)')"
      ]
     },
     "execution_count": 37,
     "metadata": {},
     "output_type": "execute_result"
    },
    {
     "data": {
      "image/png": "[encoded data removed]",
      "text/plain": [
       "<Figure size 432x288 with 1 Axes>"
      ]
     },
     "metadata": {
      "needs_background": "light"
     },
     "output_type": "display_data"
    }
   ],
   "source": [
    "plt.scatter(data_clean.is_new_development,data_clean.price)\n",
    "plt.title(\"Nueva Construcción  vs Precio ( 1= Es de Nueva Construcción)\")"
   ]
  },
  {
   "cell_type": "code",
   "execution_count": 38,
   "metadata": {
    "tags": []
   },
   "outputs": [
    {
     "data": {
      "text/plain": [
       "Text(0.5, 1.0, 'En Buenas Condiciones  vs Precio ( 1= En Buenas Condiciones)')"
      ]
     },
     "execution_count": 38,
     "metadata": {},
     "output_type": "execute_result"
    },
    {
     "data": {
      "image/png": "[encoded data removed]",
      "text/plain": [
       "<Figure size 432x288 with 1 Axes>"
      ]
     },
     "metadata": {
      "needs_background": "light"
     },
     "output_type": "display_data"
    }
   ],
   "source": [
    "plt.scatter(data_clean.is_goog_condition,data_clean.price)\n",
    "plt.title(\"En Buenas Condiciones  vs Precio ( 1= En Buenas Condiciones)\")"
   ]
  },
  {
   "cell_type": "code",
   "execution_count": 39,
   "metadata": {},
   "outputs": [
    {
     "data": {
      "text/plain": [
       "Text(0.5, 1.0, 'Terraza  vs Precio ( 1= Tiene Terraza)')"
      ]
     },
     "execution_count": 39,
     "metadata": {},
     "output_type": "execute_result"
    },
    {
     "data": {
      "image/png": "[encoded data removed]",
      "text/plain": [
       "<Figure size 432x288 with 1 Axes>"
      ]
     },
     "metadata": {
      "needs_background": "light"
     },
     "output_type": "display_data"
    }
   ],
   "source": [
    "plt.scatter(data_clean.has_terrace,data_clean.price)\n",
    "plt.title(\"Terraza  vs Precio ( 1= Tiene Terraza)\")"
   ]
  },
  {
   "cell_type": "code",
   "execution_count": 40,
   "metadata": {},
   "outputs": [
    {
     "data": {
      "text/plain": [
       "137"
      ]
     },
     "execution_count": 40,
     "metadata": {},
     "output_type": "execute_result"
    }
   ],
   "source": [
    "data_clean[\"has_swimmingpool\"].value_counts()[1]"
   ]
  },
  {
   "cell_type": "code",
   "execution_count": 41,
   "metadata": {},
   "outputs": [
    {
     "data": {
      "text/plain": [
       "114"
      ]
     },
     "execution_count": 41,
     "metadata": {},
     "output_type": "execute_result"
    }
   ],
   "source": [
    "data_clean[\"has_garden\"].value_counts()[1]"
   ]
  },
  {
   "cell_type": "code",
   "execution_count": 42,
   "metadata": {},
   "outputs": [
    {
     "data": {
      "text/plain": [
       "43"
      ]
     },
     "execution_count": 42,
     "metadata": {},
     "output_type": "execute_result"
    }
   ],
   "source": [
    "data_clean[\"is_new_development\"].value_counts()[1]"
   ]
  },
  {
   "cell_type": "code",
   "execution_count": 43,
   "metadata": {},
   "outputs": [
    {
     "data": {
      "text/plain": [
       "10"
      ]
     },
     "execution_count": 43,
     "metadata": {},
     "output_type": "execute_result"
    }
   ],
   "source": [
    "data_clean[\"is_needs_renovating\"].value_counts()[1]"
   ]
  },
  {
   "cell_type": "markdown",
   "metadata": {},
   "source": [
    "En Churriana la gran mayoría de viviendas a la venta tienen piscina, y una gran parte de ellas jardín. Además casi todas están en buenas condiciones, tan solo 10 de 186 necesitan reforma."
   ]
  },
  {
   "cell_type": "markdown",
   "metadata": {},
   "source": [
    "**Cálculo de Outliers** <br>\n",
    "Calculamos los cuartiles 1 y 3 para poder calcular el valor intercuartílico **\"IQR\"** y así obtener el límite inferior y el límite superior para la exclusión de las viviendas que estén fuera de estos límites."
   ]
  },
  {
   "cell_type": "code",
   "execution_count": 44,
   "metadata": {},
   "outputs": [],
   "source": [
    "q1 = np.percentile(data_clean[\"price\"], 25)\n",
    "q3 = np.percentile(data_clean[\"price\"], 75)"
   ]
  },
  {
   "cell_type": "code",
   "execution_count": 45,
   "metadata": {},
   "outputs": [
    {
     "name": "stdout",
     "output_type": "stream",
     "text": [
      "Todas las viviendas con precios superiores a: 1042650.0€ serán excluidas\n",
      "Todas las viviendas con precios inferiores a: -225750.0€ serán excluidas\n"
     ]
    }
   ],
   "source": [
    "iqr = q3 - q1\n",
    "\n",
    "# calculamos los límites inferior y superior del precio\n",
    "upper_limit = q3 + 1.5 * iqr\n",
    "lower_limit = q1 - 1.5 * iqr\n",
    "\n",
    "print(f\"Todas las viviendas con precios superiores a: {upper_limit}€ serán excluidas\")\n",
    "print(f\"Todas las viviendas con precios inferiores a: {lower_limit}€ serán excluidas\")\n"
   ]
  },
  {
   "cell_type": "markdown",
   "metadata": {},
   "source": [
    "Vemos **cuántas viviendas estaríamos excluyendo del conjunto con precios superiores al límite superior**. No calculamos el inferior ya que da una cantidad negativa por lo que no hay ningún dato que calcular ni excluir."
   ]
  },
  {
   "cell_type": "code",
   "execution_count": 46,
   "metadata": {},
   "outputs": [
    {
     "name": "stdout",
     "output_type": "stream",
     "text": [
      "Excluiríamos 17 viviendas\n"
     ]
    }
   ],
   "source": [
    "data_outliers = data_clean[data_clean[\"price\"] > upper_limit].shape[0]\n",
    "\n",
    "\n",
    "print(f\"Excluiríamos {data_outliers} viviendas\")"
   ]
  },
  {
   "cell_type": "markdown",
   "metadata": {},
   "source": [
    "Vemos los 25 primeros valores del dataset ordenados por los precios más altos para tener una visión de los datos a excluir."
   ]
  },
  {
   "cell_type": "code",
   "execution_count": 47,
   "metadata": {},
   "outputs": [
    {
     "data": {
      "text/html": [
       "<div>\n",
       "<style scoped>\n",
       "    .dataframe tbody tr th:only-of-type {\n",
       "        vertical-align: middle;\n",
       "    }\n",
       "\n",
       "    .dataframe tbody tr th {\n",
       "        vertical-align: top;\n",
       "    }\n",
       "\n",
       "    .dataframe thead th {\n",
       "        text-align: right;\n",
       "    }\n",
       "</style>\n",
       "<table border=\"1\" class=\"dataframe\">\n",
       "  <thead>\n",
       "    <tr style=\"text-align: right;\">\n",
       "      <th></th>\n",
       "      <th>titulo</th>\n",
       "      <th>localizacion</th>\n",
       "      <th>latitude</th>\n",
       "      <th>longitude</th>\n",
       "      <th>price</th>\n",
       "      <th>energy_certification</th>\n",
       "      <th>room_number</th>\n",
       "      <th>bath_number</th>\n",
       "      <th>has_garden</th>\n",
       "      <th>has_terrace</th>\n",
       "      <th>has_parking</th>\n",
       "      <th>has_swimmingpool</th>\n",
       "      <th>has_lift</th>\n",
       "      <th>constructed_area</th>\n",
       "      <th>is_new_development</th>\n",
       "      <th>is_needs_renovating</th>\n",
       "      <th>is_goog_condition</th>\n",
       "    </tr>\n",
       "  </thead>\n",
       "  <tbody>\n",
       "    <tr>\n",
       "      <th>72</th>\n",
       "      <td>Casa o chalet independiente en venta en Churri...</td>\n",
       "      <td>Churriana, Málaga</td>\n",
       "      <td>36.663815</td>\n",
       "      <td>-4.505882</td>\n",
       "      <td>5000000</td>\n",
       "      <td>c</td>\n",
       "      <td>11</td>\n",
       "      <td>6</td>\n",
       "      <td>1.0</td>\n",
       "      <td>1.0</td>\n",
       "      <td>1.0</td>\n",
       "      <td>1.0</td>\n",
       "      <td>0.0</td>\n",
       "      <td>1600</td>\n",
       "      <td>0</td>\n",
       "      <td>0</td>\n",
       "      <td>1</td>\n",
       "    </tr>\n",
       "    <tr>\n",
       "      <th>28</th>\n",
       "      <td>Casa o chalet independiente en venta en calle ...</td>\n",
       "      <td>Pinos de Alhaurín, Alhaurín de la Torre</td>\n",
       "      <td>36.658921</td>\n",
       "      <td>-4.578677</td>\n",
       "      <td>2706000</td>\n",
       "      <td>f</td>\n",
       "      <td>8</td>\n",
       "      <td>8</td>\n",
       "      <td>1.0</td>\n",
       "      <td>1.0</td>\n",
       "      <td>1.0</td>\n",
       "      <td>1.0</td>\n",
       "      <td>0.0</td>\n",
       "      <td>2500</td>\n",
       "      <td>0</td>\n",
       "      <td>0</td>\n",
       "      <td>1</td>\n",
       "    </tr>\n",
       "    <tr>\n",
       "      <th>152</th>\n",
       "      <td>Casa o chalet independiente en venta en Urb. E...</td>\n",
       "      <td>Churriana, Málaga</td>\n",
       "      <td>36.654915</td>\n",
       "      <td>-4.491654</td>\n",
       "      <td>1990000</td>\n",
       "      <td>c</td>\n",
       "      <td>11</td>\n",
       "      <td>7</td>\n",
       "      <td>1.0</td>\n",
       "      <td>1.0</td>\n",
       "      <td>1.0</td>\n",
       "      <td>1.0</td>\n",
       "      <td>0.0</td>\n",
       "      <td>1028</td>\n",
       "      <td>0</td>\n",
       "      <td>0</td>\n",
       "      <td>1</td>\n",
       "    </tr>\n",
       "    <tr>\n",
       "      <th>104</th>\n",
       "      <td>Casa o chalet independiente en venta en Urb. E...</td>\n",
       "      <td>Churriana, Málaga</td>\n",
       "      <td>36.650969</td>\n",
       "      <td>-4.493461</td>\n",
       "      <td>1975000</td>\n",
       "      <td>d</td>\n",
       "      <td>5</td>\n",
       "      <td>7</td>\n",
       "      <td>1.0</td>\n",
       "      <td>1.0</td>\n",
       "      <td>1.0</td>\n",
       "      <td>1.0</td>\n",
       "      <td>0.0</td>\n",
       "      <td>706</td>\n",
       "      <td>0</td>\n",
       "      <td>0</td>\n",
       "      <td>1</td>\n",
       "    </tr>\n",
       "    <tr>\n",
       "      <th>171</th>\n",
       "      <td>Casa o chalet independiente en venta en calle ...</td>\n",
       "      <td>Cortijo de Maza-Finca Monsalvez-El Olivar, Málaga</td>\n",
       "      <td>36.645745</td>\n",
       "      <td>-4.501694</td>\n",
       "      <td>1800000</td>\n",
       "      <td>d</td>\n",
       "      <td>5</td>\n",
       "      <td>5</td>\n",
       "      <td>1.0</td>\n",
       "      <td>1.0</td>\n",
       "      <td>1.0</td>\n",
       "      <td>1.0</td>\n",
       "      <td>0.0</td>\n",
       "      <td>1004</td>\n",
       "      <td>0</td>\n",
       "      <td>0</td>\n",
       "      <td>1</td>\n",
       "    </tr>\n",
       "    <tr>\n",
       "      <th>60</th>\n",
       "      <td>Casa o chalet independiente en venta en calle ...</td>\n",
       "      <td>Guadalmar, Málaga</td>\n",
       "      <td>36.667578</td>\n",
       "      <td>-4.462350</td>\n",
       "      <td>1500000</td>\n",
       "      <td>d</td>\n",
       "      <td>5</td>\n",
       "      <td>6</td>\n",
       "      <td>1.0</td>\n",
       "      <td>1.0</td>\n",
       "      <td>1.0</td>\n",
       "      <td>1.0</td>\n",
       "      <td>0.0</td>\n",
       "      <td>600</td>\n",
       "      <td>0</td>\n",
       "      <td>0</td>\n",
       "      <td>1</td>\n",
       "    </tr>\n",
       "    <tr>\n",
       "      <th>74</th>\n",
       "      <td>Casa o chalet independiente en venta en calle ...</td>\n",
       "      <td>Guadalmar, Málaga</td>\n",
       "      <td>36.667478</td>\n",
       "      <td>-4.460549</td>\n",
       "      <td>1500000</td>\n",
       "      <td>c</td>\n",
       "      <td>4</td>\n",
       "      <td>5</td>\n",
       "      <td>1.0</td>\n",
       "      <td>1.0</td>\n",
       "      <td>1.0</td>\n",
       "      <td>1.0</td>\n",
       "      <td>0.0</td>\n",
       "      <td>620</td>\n",
       "      <td>0</td>\n",
       "      <td>0</td>\n",
       "      <td>1</td>\n",
       "    </tr>\n",
       "    <tr>\n",
       "      <th>91</th>\n",
       "      <td>Casa o chalet independiente en venta en Urb. G...</td>\n",
       "      <td>Churriana, Málaga</td>\n",
       "      <td>36.665476</td>\n",
       "      <td>-4.461655</td>\n",
       "      <td>1500000</td>\n",
       "      <td>c</td>\n",
       "      <td>4</td>\n",
       "      <td>6</td>\n",
       "      <td>1.0</td>\n",
       "      <td>1.0</td>\n",
       "      <td>1.0</td>\n",
       "      <td>1.0</td>\n",
       "      <td>0.0</td>\n",
       "      <td>710</td>\n",
       "      <td>0</td>\n",
       "      <td>0</td>\n",
       "      <td>1</td>\n",
       "    </tr>\n",
       "    <tr>\n",
       "      <th>89</th>\n",
       "      <td>Casa o chalet independiente en venta en Guadalmar</td>\n",
       "      <td>Churriana, Málaga</td>\n",
       "      <td>36.664578</td>\n",
       "      <td>-4.460050</td>\n",
       "      <td>1500000</td>\n",
       "      <td>inProcess</td>\n",
       "      <td>4</td>\n",
       "      <td>6</td>\n",
       "      <td>1.0</td>\n",
       "      <td>1.0</td>\n",
       "      <td>1.0</td>\n",
       "      <td>1.0</td>\n",
       "      <td>0.0</td>\n",
       "      <td>630</td>\n",
       "      <td>0</td>\n",
       "      <td>0</td>\n",
       "      <td>1</td>\n",
       "    </tr>\n",
       "    <tr>\n",
       "      <th>17</th>\n",
       "      <td>Casa o chalet independiente en venta en carril...</td>\n",
       "      <td>Cortijo de Maza-Finca Monsalvez-El Olivar, Málaga</td>\n",
       "      <td>36.652227</td>\n",
       "      <td>-4.489694</td>\n",
       "      <td>1399000</td>\n",
       "      <td>e</td>\n",
       "      <td>8</td>\n",
       "      <td>6</td>\n",
       "      <td>1.0</td>\n",
       "      <td>1.0</td>\n",
       "      <td>1.0</td>\n",
       "      <td>1.0</td>\n",
       "      <td>0.0</td>\n",
       "      <td>290</td>\n",
       "      <td>0</td>\n",
       "      <td>0</td>\n",
       "      <td>1</td>\n",
       "    </tr>\n",
       "    <tr>\n",
       "      <th>135</th>\n",
       "      <td>Casa o chalet en venta en Churriana-El Pizarri...</td>\n",
       "      <td>Churriana, Málaga</td>\n",
       "      <td>36.664740</td>\n",
       "      <td>-4.505720</td>\n",
       "      <td>1300000</td>\n",
       "      <td>inProcess</td>\n",
       "      <td>5</td>\n",
       "      <td>6</td>\n",
       "      <td>1.0</td>\n",
       "      <td>1.0</td>\n",
       "      <td>1.0</td>\n",
       "      <td>1.0</td>\n",
       "      <td>0.0</td>\n",
       "      <td>659</td>\n",
       "      <td>0</td>\n",
       "      <td>0</td>\n",
       "      <td>1</td>\n",
       "    </tr>\n",
       "    <tr>\n",
       "      <th>153</th>\n",
       "      <td>Casa o chalet independiente en venta en Urb. E...</td>\n",
       "      <td>Churriana, Málaga</td>\n",
       "      <td>36.656330</td>\n",
       "      <td>-4.490014</td>\n",
       "      <td>1210000</td>\n",
       "      <td>d</td>\n",
       "      <td>5</td>\n",
       "      <td>5</td>\n",
       "      <td>1.0</td>\n",
       "      <td>1.0</td>\n",
       "      <td>1.0</td>\n",
       "      <td>1.0</td>\n",
       "      <td>0.0</td>\n",
       "      <td>659</td>\n",
       "      <td>0</td>\n",
       "      <td>0</td>\n",
       "      <td>1</td>\n",
       "    </tr>\n",
       "    <tr>\n",
       "      <th>30</th>\n",
       "      <td>Casa o chalet independiente en venta en calle ...</td>\n",
       "      <td>Cortijo de Maza-Finca Monsalvez-El Olivar, Málaga</td>\n",
       "      <td>36.659964</td>\n",
       "      <td>-4.503641</td>\n",
       "      <td>1148000</td>\n",
       "      <td>f</td>\n",
       "      <td>5</td>\n",
       "      <td>4</td>\n",
       "      <td>1.0</td>\n",
       "      <td>1.0</td>\n",
       "      <td>1.0</td>\n",
       "      <td>0.0</td>\n",
       "      <td>0.0</td>\n",
       "      <td>650</td>\n",
       "      <td>0</td>\n",
       "      <td>0</td>\n",
       "      <td>1</td>\n",
       "    </tr>\n",
       "    <tr>\n",
       "      <th>128</th>\n",
       "      <td>Casa o chalet independiente en venta en calle ...</td>\n",
       "      <td>Cortijo de Maza-Finca Monsalvez-El Olivar, Málaga</td>\n",
       "      <td>36.661271</td>\n",
       "      <td>-4.505055</td>\n",
       "      <td>1148000</td>\n",
       "      <td>f</td>\n",
       "      <td>5</td>\n",
       "      <td>4</td>\n",
       "      <td>1.0</td>\n",
       "      <td>0.0</td>\n",
       "      <td>0.0</td>\n",
       "      <td>0.0</td>\n",
       "      <td>0.0</td>\n",
       "      <td>650</td>\n",
       "      <td>0</td>\n",
       "      <td>0</td>\n",
       "      <td>1</td>\n",
       "    </tr>\n",
       "    <tr>\n",
       "      <th>120</th>\n",
       "      <td>Casa o chalet independiente en venta en calle ...</td>\n",
       "      <td>Cortijo de Maza-Finca Monsalvez-El Olivar, Málaga</td>\n",
       "      <td>36.659177</td>\n",
       "      <td>-4.502023</td>\n",
       "      <td>1148000</td>\n",
       "      <td>g</td>\n",
       "      <td>6</td>\n",
       "      <td>6</td>\n",
       "      <td>1.0</td>\n",
       "      <td>1.0</td>\n",
       "      <td>1.0</td>\n",
       "      <td>0.0</td>\n",
       "      <td>0.0</td>\n",
       "      <td>650</td>\n",
       "      <td>0</td>\n",
       "      <td>0</td>\n",
       "      <td>1</td>\n",
       "    </tr>\n",
       "    <tr>\n",
       "      <th>39</th>\n",
       "      <td>Casa o chalet independiente en venta en calle ...</td>\n",
       "      <td>Cortijo de Maza-Finca Monsalvez-El Olivar, Málaga</td>\n",
       "      <td>36.659971</td>\n",
       "      <td>-4.503655</td>\n",
       "      <td>1148000</td>\n",
       "      <td>f</td>\n",
       "      <td>6</td>\n",
       "      <td>6</td>\n",
       "      <td>1.0</td>\n",
       "      <td>1.0</td>\n",
       "      <td>1.0</td>\n",
       "      <td>0.0</td>\n",
       "      <td>0.0</td>\n",
       "      <td>650</td>\n",
       "      <td>0</td>\n",
       "      <td>0</td>\n",
       "      <td>1</td>\n",
       "    </tr>\n",
       "    <tr>\n",
       "      <th>123</th>\n",
       "      <td>Casa o chalet independiente en venta en camino...</td>\n",
       "      <td>Cortijo de Maza-Finca Monsalvez-El Olivar, Málaga</td>\n",
       "      <td>36.648986</td>\n",
       "      <td>-4.502343</td>\n",
       "      <td>1089800</td>\n",
       "      <td>e</td>\n",
       "      <td>14</td>\n",
       "      <td>7</td>\n",
       "      <td>1.0</td>\n",
       "      <td>1.0</td>\n",
       "      <td>1.0</td>\n",
       "      <td>0.0</td>\n",
       "      <td>0.0</td>\n",
       "      <td>1071</td>\n",
       "      <td>0</td>\n",
       "      <td>1</td>\n",
       "      <td>0</td>\n",
       "    </tr>\n",
       "    <tr>\n",
       "      <th>12</th>\n",
       "      <td>Casa o chalet independiente en venta en avenid...</td>\n",
       "      <td>Cortijo de Maza-Finca Monsalvez-El Olivar, Málaga</td>\n",
       "      <td>36.652660</td>\n",
       "      <td>-4.492630</td>\n",
       "      <td>995000</td>\n",
       "      <td>a</td>\n",
       "      <td>4</td>\n",
       "      <td>4</td>\n",
       "      <td>1.0</td>\n",
       "      <td>1.0</td>\n",
       "      <td>1.0</td>\n",
       "      <td>1.0</td>\n",
       "      <td>0.0</td>\n",
       "      <td>265</td>\n",
       "      <td>0</td>\n",
       "      <td>0</td>\n",
       "      <td>1</td>\n",
       "    </tr>\n",
       "    <tr>\n",
       "      <th>48</th>\n",
       "      <td>Casa o chalet independiente en venta en Cortij...</td>\n",
       "      <td>Churriana, Málaga</td>\n",
       "      <td>36.650717</td>\n",
       "      <td>-4.498098</td>\n",
       "      <td>900000</td>\n",
       "      <td>inProcess</td>\n",
       "      <td>6</td>\n",
       "      <td>4</td>\n",
       "      <td>1.0</td>\n",
       "      <td>1.0</td>\n",
       "      <td>1.0</td>\n",
       "      <td>1.0</td>\n",
       "      <td>0.0</td>\n",
       "      <td>384</td>\n",
       "      <td>0</td>\n",
       "      <td>1</td>\n",
       "      <td>0</td>\n",
       "    </tr>\n",
       "    <tr>\n",
       "      <th>64</th>\n",
       "      <td>Casa o chalet independiente en venta en Cortij...</td>\n",
       "      <td>Churriana, Málaga</td>\n",
       "      <td>36.649549</td>\n",
       "      <td>-4.488846</td>\n",
       "      <td>895000</td>\n",
       "      <td>inProcess</td>\n",
       "      <td>4</td>\n",
       "      <td>4</td>\n",
       "      <td>1.0</td>\n",
       "      <td>1.0</td>\n",
       "      <td>1.0</td>\n",
       "      <td>1.0</td>\n",
       "      <td>0.0</td>\n",
       "      <td>500</td>\n",
       "      <td>0</td>\n",
       "      <td>0</td>\n",
       "      <td>1</td>\n",
       "    </tr>\n",
       "    <tr>\n",
       "      <th>87</th>\n",
       "      <td>Casa o chalet independiente en venta en carret...</td>\n",
       "      <td>Cortijo de Maza-Finca Monsalvez-El Olivar, Málaga</td>\n",
       "      <td>36.659266</td>\n",
       "      <td>-4.493799</td>\n",
       "      <td>860000</td>\n",
       "      <td>unknown</td>\n",
       "      <td>5</td>\n",
       "      <td>2</td>\n",
       "      <td>1.0</td>\n",
       "      <td>1.0</td>\n",
       "      <td>1.0</td>\n",
       "      <td>0.0</td>\n",
       "      <td>0.0</td>\n",
       "      <td>223</td>\n",
       "      <td>0</td>\n",
       "      <td>0</td>\n",
       "      <td>1</td>\n",
       "    </tr>\n",
       "    <tr>\n",
       "      <th>173</th>\n",
       "      <td>Casa o chalet independiente en venta en avenid...</td>\n",
       "      <td>Cortijo de Maza-Finca Monsalvez-El Olivar, Málaga</td>\n",
       "      <td>36.653299</td>\n",
       "      <td>-4.488580</td>\n",
       "      <td>799900</td>\n",
       "      <td>d</td>\n",
       "      <td>6</td>\n",
       "      <td>4</td>\n",
       "      <td>1.0</td>\n",
       "      <td>1.0</td>\n",
       "      <td>1.0</td>\n",
       "      <td>1.0</td>\n",
       "      <td>0.0</td>\n",
       "      <td>380</td>\n",
       "      <td>0</td>\n",
       "      <td>0</td>\n",
       "      <td>1</td>\n",
       "    </tr>\n",
       "    <tr>\n",
       "      <th>35</th>\n",
       "      <td>Casa o chalet independiente en venta en Av. As...</td>\n",
       "      <td>Cortijo de Maza-Finca Monsalvez-El Olivar, Málaga</td>\n",
       "      <td>36.653630</td>\n",
       "      <td>-4.492125</td>\n",
       "      <td>795000</td>\n",
       "      <td>a</td>\n",
       "      <td>5</td>\n",
       "      <td>5</td>\n",
       "      <td>1.0</td>\n",
       "      <td>1.0</td>\n",
       "      <td>1.0</td>\n",
       "      <td>1.0</td>\n",
       "      <td>0.0</td>\n",
       "      <td>407</td>\n",
       "      <td>0</td>\n",
       "      <td>1</td>\n",
       "      <td>0</td>\n",
       "    </tr>\n",
       "    <tr>\n",
       "      <th>29</th>\n",
       "      <td>Casa o chalet independiente en venta en avenid...</td>\n",
       "      <td>Cortijo de Maza-Finca Monsalvez-El Olivar, Málaga</td>\n",
       "      <td>36.651378</td>\n",
       "      <td>-4.492635</td>\n",
       "      <td>795000</td>\n",
       "      <td>d</td>\n",
       "      <td>5</td>\n",
       "      <td>5</td>\n",
       "      <td>1.0</td>\n",
       "      <td>1.0</td>\n",
       "      <td>1.0</td>\n",
       "      <td>1.0</td>\n",
       "      <td>0.0</td>\n",
       "      <td>407</td>\n",
       "      <td>0</td>\n",
       "      <td>0</td>\n",
       "      <td>1</td>\n",
       "    </tr>\n",
       "    <tr>\n",
       "      <th>6</th>\n",
       "      <td>Casa o chalet en venta en Cortijo de Maza-Finc...</td>\n",
       "      <td>Churriana, Málaga</td>\n",
       "      <td>36.651026</td>\n",
       "      <td>-4.493962</td>\n",
       "      <td>795000</td>\n",
       "      <td>c</td>\n",
       "      <td>3</td>\n",
       "      <td>4</td>\n",
       "      <td>1.0</td>\n",
       "      <td>1.0</td>\n",
       "      <td>1.0</td>\n",
       "      <td>1.0</td>\n",
       "      <td>0.0</td>\n",
       "      <td>702</td>\n",
       "      <td>0</td>\n",
       "      <td>1</td>\n",
       "      <td>0</td>\n",
       "    </tr>\n",
       "  </tbody>\n",
       "</table>\n",
       "</div>"
      ],
      "text/plain": [
       "                                                titulo  \\\n",
       "72   Casa o chalet independiente en venta en Churri...   \n",
       "28   Casa o chalet independiente en venta en calle ...   \n",
       "152  Casa o chalet independiente en venta en Urb. E...   \n",
       "104  Casa o chalet independiente en venta en Urb. E...   \n",
       "171  Casa o chalet independiente en venta en calle ...   \n",
       "60   Casa o chalet independiente en venta en calle ...   \n",
       "74   Casa o chalet independiente en venta en calle ...   \n",
       "91   Casa o chalet independiente en venta en Urb. G...   \n",
       "89   Casa o chalet independiente en venta en Guadalmar   \n",
       "17   Casa o chalet independiente en venta en carril...   \n",
       "135  Casa o chalet en venta en Churriana-El Pizarri...   \n",
       "153  Casa o chalet independiente en venta en Urb. E...   \n",
       "30   Casa o chalet independiente en venta en calle ...   \n",
       "128  Casa o chalet independiente en venta en calle ...   \n",
       "120  Casa o chalet independiente en venta en calle ...   \n",
       "39   Casa o chalet independiente en venta en calle ...   \n",
       "123  Casa o chalet independiente en venta en camino...   \n",
       "12   Casa o chalet independiente en venta en avenid...   \n",
       "48   Casa o chalet independiente en venta en Cortij...   \n",
       "64   Casa o chalet independiente en venta en Cortij...   \n",
       "87   Casa o chalet independiente en venta en carret...   \n",
       "173  Casa o chalet independiente en venta en avenid...   \n",
       "35   Casa o chalet independiente en venta en Av. As...   \n",
       "29   Casa o chalet independiente en venta en avenid...   \n",
       "6    Casa o chalet en venta en Cortijo de Maza-Finc...   \n",
       "\n",
       "                                          localizacion   latitude  longitude  \\\n",
       "72                                   Churriana, Málaga  36.663815  -4.505882   \n",
       "28             Pinos de Alhaurín, Alhaurín de la Torre  36.658921  -4.578677   \n",
       "152                                  Churriana, Málaga  36.654915  -4.491654   \n",
       "104                                  Churriana, Málaga  36.650969  -4.493461   \n",
       "171  Cortijo de Maza-Finca Monsalvez-El Olivar, Málaga  36.645745  -4.501694   \n",
       "60                                   Guadalmar, Málaga  36.667578  -4.462350   \n",
       "74                                   Guadalmar, Málaga  36.667478  -4.460549   \n",
       "91                                   Churriana, Málaga  36.665476  -4.461655   \n",
       "89                                   Churriana, Málaga  36.664578  -4.460050   \n",
       "17   Cortijo de Maza-Finca Monsalvez-El Olivar, Málaga  36.652227  -4.489694   \n",
       "135                                  Churriana, Málaga  36.664740  -4.505720   \n",
       "153                                  Churriana, Málaga  36.656330  -4.490014   \n",
       "30   Cortijo de Maza-Finca Monsalvez-El Olivar, Málaga  36.659964  -4.503641   \n",
       "128  Cortijo de Maza-Finca Monsalvez-El Olivar, Málaga  36.661271  -4.505055   \n",
       "120  Cortijo de Maza-Finca Monsalvez-El Olivar, Málaga  36.659177  -4.502023   \n",
       "39   Cortijo de Maza-Finca Monsalvez-El Olivar, Málaga  36.659971  -4.503655   \n",
       "123  Cortijo de Maza-Finca Monsalvez-El Olivar, Málaga  36.648986  -4.502343   \n",
       "12   Cortijo de Maza-Finca Monsalvez-El Olivar, Málaga  36.652660  -4.492630   \n",
       "48                                   Churriana, Málaga  36.650717  -4.498098   \n",
       "64                                   Churriana, Málaga  36.649549  -4.488846   \n",
       "87   Cortijo de Maza-Finca Monsalvez-El Olivar, Málaga  36.659266  -4.493799   \n",
       "173  Cortijo de Maza-Finca Monsalvez-El Olivar, Málaga  36.653299  -4.488580   \n",
       "35   Cortijo de Maza-Finca Monsalvez-El Olivar, Málaga  36.653630  -4.492125   \n",
       "29   Cortijo de Maza-Finca Monsalvez-El Olivar, Málaga  36.651378  -4.492635   \n",
       "6                                    Churriana, Málaga  36.651026  -4.493962   \n",
       "\n",
       "       price energy_certification  room_number  bath_number  has_garden  \\\n",
       "72   5000000                    c           11            6         1.0   \n",
       "28   2706000                    f            8            8         1.0   \n",
       "152  1990000                    c           11            7         1.0   \n",
       "104  1975000                    d            5            7         1.0   \n",
       "171  1800000                    d            5            5         1.0   \n",
       "60   1500000                    d            5            6         1.0   \n",
       "74   1500000                    c            4            5         1.0   \n",
       "91   1500000                    c            4            6         1.0   \n",
       "89   1500000            inProcess            4            6         1.0   \n",
       "17   1399000                    e            8            6         1.0   \n",
       "135  1300000            inProcess            5            6         1.0   \n",
       "153  1210000                    d            5            5         1.0   \n",
       "30   1148000                    f            5            4         1.0   \n",
       "128  1148000                    f            5            4         1.0   \n",
       "120  1148000                    g            6            6         1.0   \n",
       "39   1148000                    f            6            6         1.0   \n",
       "123  1089800                    e           14            7         1.0   \n",
       "12    995000                    a            4            4         1.0   \n",
       "48    900000            inProcess            6            4         1.0   \n",
       "64    895000            inProcess            4            4         1.0   \n",
       "87    860000              unknown            5            2         1.0   \n",
       "173   799900                    d            6            4         1.0   \n",
       "35    795000                    a            5            5         1.0   \n",
       "29    795000                    d            5            5         1.0   \n",
       "6     795000                    c            3            4         1.0   \n",
       "\n",
       "     has_terrace  has_parking  has_swimmingpool  has_lift  constructed_area  \\\n",
       "72           1.0          1.0               1.0       0.0              1600   \n",
       "28           1.0          1.0               1.0       0.0              2500   \n",
       "152          1.0          1.0               1.0       0.0              1028   \n",
       "104          1.0          1.0               1.0       0.0               706   \n",
       "171          1.0          1.0               1.0       0.0              1004   \n",
       "60           1.0          1.0               1.0       0.0               600   \n",
       "74           1.0          1.0               1.0       0.0               620   \n",
       "91           1.0          1.0               1.0       0.0               710   \n",
       "89           1.0          1.0               1.0       0.0               630   \n",
       "17           1.0          1.0               1.0       0.0               290   \n",
       "135          1.0          1.0               1.0       0.0               659   \n",
       "153          1.0          1.0               1.0       0.0               659   \n",
       "30           1.0          1.0               0.0       0.0               650   \n",
       "128          0.0          0.0               0.0       0.0               650   \n",
       "120          1.0          1.0               0.0       0.0               650   \n",
       "39           1.0          1.0               0.0       0.0               650   \n",
       "123          1.0          1.0               0.0       0.0              1071   \n",
       "12           1.0          1.0               1.0       0.0               265   \n",
       "48           1.0          1.0               1.0       0.0               384   \n",
       "64           1.0          1.0               1.0       0.0               500   \n",
       "87           1.0          1.0               0.0       0.0               223   \n",
       "173          1.0          1.0               1.0       0.0               380   \n",
       "35           1.0          1.0               1.0       0.0               407   \n",
       "29           1.0          1.0               1.0       0.0               407   \n",
       "6            1.0          1.0               1.0       0.0               702   \n",
       "\n",
       "     is_new_development  is_needs_renovating  is_goog_condition  \n",
       "72                    0                    0                  1  \n",
       "28                    0                    0                  1  \n",
       "152                   0                    0                  1  \n",
       "104                   0                    0                  1  \n",
       "171                   0                    0                  1  \n",
       "60                    0                    0                  1  \n",
       "74                    0                    0                  1  \n",
       "91                    0                    0                  1  \n",
       "89                    0                    0                  1  \n",
       "17                    0                    0                  1  \n",
       "135                   0                    0                  1  \n",
       "153                   0                    0                  1  \n",
       "30                    0                    0                  1  \n",
       "128                   0                    0                  1  \n",
       "120                   0                    0                  1  \n",
       "39                    0                    0                  1  \n",
       "123                   0                    1                  0  \n",
       "12                    0                    0                  1  \n",
       "48                    0                    1                  0  \n",
       "64                    0                    0                  1  \n",
       "87                    0                    0                  1  \n",
       "173                   0                    0                  1  \n",
       "35                    0                    1                  0  \n",
       "29                    0                    0                  1  \n",
       "6                     0                    1                  0  "
      ]
     },
     "execution_count": 47,
     "metadata": {},
     "output_type": "execute_result"
    }
   ],
   "source": [
    "properties_churriana.sort_values(by='price',ascending=False).head(25)\n",
    "                                                        "
   ]
  },
  {
   "cell_type": "markdown",
   "metadata": {},
   "source": [
    "Generamos un nuevo conjunto de datos con la exclusión de los outliers. Lo guardamos en csv y posteriormente lo usaremos en los modelos."
   ]
  },
  {
   "cell_type": "code",
   "execution_count": 48,
   "metadata": {},
   "outputs": [],
   "source": [
    "data_without_outliers = data_clean[data_clean[\"price\"] <= upper_limit]"
   ]
  },
  {
   "cell_type": "code",
   "execution_count": 49,
   "metadata": {},
   "outputs": [
    {
     "data": {
      "text/html": [
       "<div>\n",
       "<style scoped>\n",
       "    .dataframe tbody tr th:only-of-type {\n",
       "        vertical-align: middle;\n",
       "    }\n",
       "\n",
       "    .dataframe tbody tr th {\n",
       "        vertical-align: top;\n",
       "    }\n",
       "\n",
       "    .dataframe thead th {\n",
       "        text-align: right;\n",
       "    }\n",
       "</style>\n",
       "<table border=\"1\" class=\"dataframe\">\n",
       "  <thead>\n",
       "    <tr style=\"text-align: right;\">\n",
       "      <th></th>\n",
       "      <th>titulo</th>\n",
       "      <th>localizacion</th>\n",
       "      <th>latitude</th>\n",
       "      <th>longitude</th>\n",
       "      <th>price</th>\n",
       "      <th>energy_certification</th>\n",
       "      <th>room_number</th>\n",
       "      <th>bath_number</th>\n",
       "      <th>has_garden</th>\n",
       "      <th>has_terrace</th>\n",
       "      <th>has_parking</th>\n",
       "      <th>has_swimmingpool</th>\n",
       "      <th>has_lift</th>\n",
       "      <th>constructed_area</th>\n",
       "      <th>is_new_development</th>\n",
       "      <th>is_needs_renovating</th>\n",
       "      <th>is_goog_condition</th>\n",
       "    </tr>\n",
       "  </thead>\n",
       "  <tbody>\n",
       "    <tr>\n",
       "      <th>0</th>\n",
       "      <td>Chalet adosado en venta en Guadalmar</td>\n",
       "      <td>Churriana, Málaga</td>\n",
       "      <td>36.666638</td>\n",
       "      <td>-4.464576</td>\n",
       "      <td>395000</td>\n",
       "      <td>inProcess</td>\n",
       "      <td>4</td>\n",
       "      <td>3</td>\n",
       "      <td>1.0</td>\n",
       "      <td>1.0</td>\n",
       "      <td>1.0</td>\n",
       "      <td>1.0</td>\n",
       "      <td>0.0</td>\n",
       "      <td>194</td>\n",
       "      <td>0</td>\n",
       "      <td>0</td>\n",
       "      <td>1</td>\n",
       "    </tr>\n",
       "    <tr>\n",
       "      <th>1</th>\n",
       "      <td>Casa o chalet independiente en venta en calle ...</td>\n",
       "      <td>Churriana-El Pizarrillo-La Noria-Guadalsol, Má...</td>\n",
       "      <td>36.663719</td>\n",
       "      <td>-4.503897</td>\n",
       "      <td>640000</td>\n",
       "      <td>inProcess</td>\n",
       "      <td>4</td>\n",
       "      <td>2</td>\n",
       "      <td>1.0</td>\n",
       "      <td>1.0</td>\n",
       "      <td>1.0</td>\n",
       "      <td>1.0</td>\n",
       "      <td>0.0</td>\n",
       "      <td>310</td>\n",
       "      <td>0</td>\n",
       "      <td>0</td>\n",
       "      <td>1</td>\n",
       "    </tr>\n",
       "    <tr>\n",
       "      <th>2</th>\n",
       "      <td>Casa o chalet independiente en venta en calle ...</td>\n",
       "      <td>Cortijo de Maza-Finca Monsalvez-El Olivar, Málaga</td>\n",
       "      <td>36.656894</td>\n",
       "      <td>-4.502930</td>\n",
       "      <td>567000</td>\n",
       "      <td>inProcess</td>\n",
       "      <td>5</td>\n",
       "      <td>4</td>\n",
       "      <td>1.0</td>\n",
       "      <td>1.0</td>\n",
       "      <td>0.0</td>\n",
       "      <td>1.0</td>\n",
       "      <td>0.0</td>\n",
       "      <td>410</td>\n",
       "      <td>0</td>\n",
       "      <td>0</td>\n",
       "      <td>1</td>\n",
       "    </tr>\n",
       "    <tr>\n",
       "      <th>3</th>\n",
       "      <td>Ático en venta en calle Bangladesh, 25</td>\n",
       "      <td>Churriana-El Pizarrillo-La Noria-Guadalsol, Má...</td>\n",
       "      <td>36.671190</td>\n",
       "      <td>-4.516900</td>\n",
       "      <td>375900</td>\n",
       "      <td>unknown</td>\n",
       "      <td>4</td>\n",
       "      <td>2</td>\n",
       "      <td>1.0</td>\n",
       "      <td>1.0</td>\n",
       "      <td>1.0</td>\n",
       "      <td>1.0</td>\n",
       "      <td>1.0</td>\n",
       "      <td>236</td>\n",
       "      <td>1</td>\n",
       "      <td>0</td>\n",
       "      <td>0</td>\n",
       "    </tr>\n",
       "    <tr>\n",
       "      <th>4</th>\n",
       "      <td>Piso en venta en calle Bangladesh, 25</td>\n",
       "      <td>Churriana-El Pizarrillo-La Noria-Guadalsol, Má...</td>\n",
       "      <td>36.671190</td>\n",
       "      <td>-4.516900</td>\n",
       "      <td>249900</td>\n",
       "      <td>unknown</td>\n",
       "      <td>2</td>\n",
       "      <td>2</td>\n",
       "      <td>0.0</td>\n",
       "      <td>1.0</td>\n",
       "      <td>1.0</td>\n",
       "      <td>1.0</td>\n",
       "      <td>1.0</td>\n",
       "      <td>150</td>\n",
       "      <td>1</td>\n",
       "      <td>0</td>\n",
       "      <td>0</td>\n",
       "    </tr>\n",
       "  </tbody>\n",
       "</table>\n",
       "</div>"
      ],
      "text/plain": [
       "                                              titulo  \\\n",
       "0               Chalet adosado en venta en Guadalmar   \n",
       "1  Casa o chalet independiente en venta en calle ...   \n",
       "2  Casa o chalet independiente en venta en calle ...   \n",
       "3             Ático en venta en calle Bangladesh, 25   \n",
       "4              Piso en venta en calle Bangladesh, 25   \n",
       "\n",
       "                                        localizacion   latitude  longitude  \\\n",
       "0                                  Churriana, Málaga  36.666638  -4.464576   \n",
       "1  Churriana-El Pizarrillo-La Noria-Guadalsol, Má...  36.663719  -4.503897   \n",
       "2  Cortijo de Maza-Finca Monsalvez-El Olivar, Málaga  36.656894  -4.502930   \n",
       "3  Churriana-El Pizarrillo-La Noria-Guadalsol, Má...  36.671190  -4.516900   \n",
       "4  Churriana-El Pizarrillo-La Noria-Guadalsol, Má...  36.671190  -4.516900   \n",
       "\n",
       "    price energy_certification  room_number  bath_number  has_garden  \\\n",
       "0  395000            inProcess            4            3         1.0   \n",
       "1  640000            inProcess            4            2         1.0   \n",
       "2  567000            inProcess            5            4         1.0   \n",
       "3  375900              unknown            4            2         1.0   \n",
       "4  249900              unknown            2            2         0.0   \n",
       "\n",
       "   has_terrace  has_parking  has_swimmingpool  has_lift  constructed_area  \\\n",
       "0          1.0          1.0               1.0       0.0               194   \n",
       "1          1.0          1.0               1.0       0.0               310   \n",
       "2          1.0          0.0               1.0       0.0               410   \n",
       "3          1.0          1.0               1.0       1.0               236   \n",
       "4          1.0          1.0               1.0       1.0               150   \n",
       "\n",
       "   is_new_development  is_needs_renovating  is_goog_condition  \n",
       "0                   0                    0                  1  \n",
       "1                   0                    0                  1  \n",
       "2                   0                    0                  1  \n",
       "3                   1                    0                  0  \n",
       "4                   1                    0                  0  "
      ]
     },
     "execution_count": 49,
     "metadata": {},
     "output_type": "execute_result"
    }
   ],
   "source": [
    "data_without_outliers.head()"
   ]
  },
  {
   "cell_type": "code",
   "execution_count": 50,
   "metadata": {},
   "outputs": [],
   "source": [
    "data_without_outliers.to_csv('clean_properties_churriana_without_outliers.csv')"
   ]
  },
  {
   "cell_type": "code",
   "execution_count": 51,
   "metadata": {},
   "outputs": [
    {
     "data": {
      "text/html": [
       "<div>\n",
       "<style scoped>\n",
       "    .dataframe tbody tr th:only-of-type {\n",
       "        vertical-align: middle;\n",
       "    }\n",
       "\n",
       "    .dataframe tbody tr th {\n",
       "        vertical-align: top;\n",
       "    }\n",
       "\n",
       "    .dataframe thead th {\n",
       "        text-align: right;\n",
       "    }\n",
       "</style>\n",
       "<table border=\"1\" class=\"dataframe\">\n",
       "  <thead>\n",
       "    <tr style=\"text-align: right;\">\n",
       "      <th></th>\n",
       "      <th>latitude</th>\n",
       "      <th>longitude</th>\n",
       "      <th>price</th>\n",
       "      <th>room_number</th>\n",
       "      <th>bath_number</th>\n",
       "      <th>has_garden</th>\n",
       "      <th>has_terrace</th>\n",
       "      <th>has_parking</th>\n",
       "      <th>has_swimmingpool</th>\n",
       "      <th>has_lift</th>\n",
       "      <th>constructed_area</th>\n",
       "      <th>is_new_development</th>\n",
       "      <th>is_needs_renovating</th>\n",
       "      <th>is_goog_condition</th>\n",
       "    </tr>\n",
       "  </thead>\n",
       "  <tbody>\n",
       "    <tr>\n",
       "      <th>count</th>\n",
       "      <td>187.000000</td>\n",
       "      <td>187.000000</td>\n",
       "      <td>1.870000e+02</td>\n",
       "      <td>187.000000</td>\n",
       "      <td>187.000000</td>\n",
       "      <td>187.000000</td>\n",
       "      <td>187.000000</td>\n",
       "      <td>187.000000</td>\n",
       "      <td>187.00000</td>\n",
       "      <td>187.000000</td>\n",
       "      <td>187.000000</td>\n",
       "      <td>187.000000</td>\n",
       "      <td>187.000000</td>\n",
       "      <td>187.000000</td>\n",
       "    </tr>\n",
       "    <tr>\n",
       "      <th>mean</th>\n",
       "      <td>36.692094</td>\n",
       "      <td>-4.449519</td>\n",
       "      <td>4.829937e+05</td>\n",
       "      <td>3.625668</td>\n",
       "      <td>2.556150</td>\n",
       "      <td>0.609626</td>\n",
       "      <td>0.860963</td>\n",
       "      <td>0.812834</td>\n",
       "      <td>0.73262</td>\n",
       "      <td>0.422460</td>\n",
       "      <td>243.433155</td>\n",
       "      <td>0.229947</td>\n",
       "      <td>0.053476</td>\n",
       "      <td>0.716578</td>\n",
       "    </tr>\n",
       "    <tr>\n",
       "      <th>std</th>\n",
       "      <td>0.113276</td>\n",
       "      <td>0.202287</td>\n",
       "      <td>5.127819e+05</td>\n",
       "      <td>1.629362</td>\n",
       "      <td>1.395385</td>\n",
       "      <td>0.489144</td>\n",
       "      <td>0.346914</td>\n",
       "      <td>0.391092</td>\n",
       "      <td>0.44378</td>\n",
       "      <td>0.495277</td>\n",
       "      <td>270.325987</td>\n",
       "      <td>0.421928</td>\n",
       "      <td>0.225585</td>\n",
       "      <td>0.451870</td>\n",
       "    </tr>\n",
       "    <tr>\n",
       "      <th>min</th>\n",
       "      <td>36.610730</td>\n",
       "      <td>-4.686328</td>\n",
       "      <td>5.490000e+04</td>\n",
       "      <td>1.000000</td>\n",
       "      <td>1.000000</td>\n",
       "      <td>0.000000</td>\n",
       "      <td>0.000000</td>\n",
       "      <td>0.000000</td>\n",
       "      <td>0.00000</td>\n",
       "      <td>0.000000</td>\n",
       "      <td>50.000000</td>\n",
       "      <td>0.000000</td>\n",
       "      <td>0.000000</td>\n",
       "      <td>0.000000</td>\n",
       "    </tr>\n",
       "    <tr>\n",
       "      <th>25%</th>\n",
       "      <td>36.659499</td>\n",
       "      <td>-4.506868</td>\n",
       "      <td>2.499000e+05</td>\n",
       "      <td>3.000000</td>\n",
       "      <td>2.000000</td>\n",
       "      <td>0.000000</td>\n",
       "      <td>1.000000</td>\n",
       "      <td>1.000000</td>\n",
       "      <td>0.00000</td>\n",
       "      <td>0.000000</td>\n",
       "      <td>108.500000</td>\n",
       "      <td>0.000000</td>\n",
       "      <td>0.000000</td>\n",
       "      <td>0.000000</td>\n",
       "    </tr>\n",
       "    <tr>\n",
       "      <th>50%</th>\n",
       "      <td>36.663815</td>\n",
       "      <td>-4.501821</td>\n",
       "      <td>2.999900e+05</td>\n",
       "      <td>3.000000</td>\n",
       "      <td>2.000000</td>\n",
       "      <td>1.000000</td>\n",
       "      <td>1.000000</td>\n",
       "      <td>1.000000</td>\n",
       "      <td>1.00000</td>\n",
       "      <td>0.000000</td>\n",
       "      <td>152.000000</td>\n",
       "      <td>0.000000</td>\n",
       "      <td>0.000000</td>\n",
       "      <td>1.000000</td>\n",
       "    </tr>\n",
       "    <tr>\n",
       "      <th>75%</th>\n",
       "      <td>36.671115</td>\n",
       "      <td>-4.490153</td>\n",
       "      <td>5.670000e+05</td>\n",
       "      <td>4.000000</td>\n",
       "      <td>3.000000</td>\n",
       "      <td>1.000000</td>\n",
       "      <td>1.000000</td>\n",
       "      <td>1.000000</td>\n",
       "      <td>1.00000</td>\n",
       "      <td>1.000000</td>\n",
       "      <td>256.000000</td>\n",
       "      <td>0.000000</td>\n",
       "      <td>0.000000</td>\n",
       "      <td>1.000000</td>\n",
       "    </tr>\n",
       "    <tr>\n",
       "      <th>max</th>\n",
       "      <td>37.145055</td>\n",
       "      <td>-3.641632</td>\n",
       "      <td>5.000000e+06</td>\n",
       "      <td>14.000000</td>\n",
       "      <td>8.000000</td>\n",
       "      <td>1.000000</td>\n",
       "      <td>1.000000</td>\n",
       "      <td>1.000000</td>\n",
       "      <td>1.00000</td>\n",
       "      <td>1.000000</td>\n",
       "      <td>2500.000000</td>\n",
       "      <td>1.000000</td>\n",
       "      <td>1.000000</td>\n",
       "      <td>1.000000</td>\n",
       "    </tr>\n",
       "  </tbody>\n",
       "</table>\n",
       "</div>"
      ],
      "text/plain": [
       "         latitude   longitude         price  room_number  bath_number  \\\n",
       "count  187.000000  187.000000  1.870000e+02   187.000000   187.000000   \n",
       "mean    36.692094   -4.449519  4.829937e+05     3.625668     2.556150   \n",
       "std      0.113276    0.202287  5.127819e+05     1.629362     1.395385   \n",
       "min     36.610730   -4.686328  5.490000e+04     1.000000     1.000000   \n",
       "25%     36.659499   -4.506868  2.499000e+05     3.000000     2.000000   \n",
       "50%     36.663815   -4.501821  2.999900e+05     3.000000     2.000000   \n",
       "75%     36.671115   -4.490153  5.670000e+05     4.000000     3.000000   \n",
       "max     37.145055   -3.641632  5.000000e+06    14.000000     8.000000   \n",
       "\n",
       "       has_garden  has_terrace  has_parking  has_swimmingpool    has_lift  \\\n",
       "count  187.000000   187.000000   187.000000         187.00000  187.000000   \n",
       "mean     0.609626     0.860963     0.812834           0.73262    0.422460   \n",
       "std      0.489144     0.346914     0.391092           0.44378    0.495277   \n",
       "min      0.000000     0.000000     0.000000           0.00000    0.000000   \n",
       "25%      0.000000     1.000000     1.000000           0.00000    0.000000   \n",
       "50%      1.000000     1.000000     1.000000           1.00000    0.000000   \n",
       "75%      1.000000     1.000000     1.000000           1.00000    1.000000   \n",
       "max      1.000000     1.000000     1.000000           1.00000    1.000000   \n",
       "\n",
       "       constructed_area  is_new_development  is_needs_renovating  \\\n",
       "count        187.000000          187.000000           187.000000   \n",
       "mean         243.433155            0.229947             0.053476   \n",
       "std          270.325987            0.421928             0.225585   \n",
       "min           50.000000            0.000000             0.000000   \n",
       "25%          108.500000            0.000000             0.000000   \n",
       "50%          152.000000            0.000000             0.000000   \n",
       "75%          256.000000            0.000000             0.000000   \n",
       "max         2500.000000            1.000000             1.000000   \n",
       "\n",
       "       is_goog_condition  \n",
       "count         187.000000  \n",
       "mean            0.716578  \n",
       "std             0.451870  \n",
       "min             0.000000  \n",
       "25%             0.000000  \n",
       "50%             1.000000  \n",
       "75%             1.000000  \n",
       "max             1.000000  "
      ]
     },
     "execution_count": 51,
     "metadata": {},
     "output_type": "execute_result"
    }
   ],
   "source": [
    "data_clean.describe()"
   ]
  },
  {
   "cell_type": "code",
   "execution_count": 52,
   "metadata": {},
   "outputs": [
    {
     "data": {
      "text/html": [
       "<div>\n",
       "<style scoped>\n",
       "    .dataframe tbody tr th:only-of-type {\n",
       "        vertical-align: middle;\n",
       "    }\n",
       "\n",
       "    .dataframe tbody tr th {\n",
       "        vertical-align: top;\n",
       "    }\n",
       "\n",
       "    .dataframe thead th {\n",
       "        text-align: right;\n",
       "    }\n",
       "</style>\n",
       "<table border=\"1\" class=\"dataframe\">\n",
       "  <thead>\n",
       "    <tr style=\"text-align: right;\">\n",
       "      <th></th>\n",
       "      <th>latitude</th>\n",
       "      <th>longitude</th>\n",
       "      <th>price</th>\n",
       "      <th>room_number</th>\n",
       "      <th>bath_number</th>\n",
       "      <th>has_garden</th>\n",
       "      <th>has_terrace</th>\n",
       "      <th>has_parking</th>\n",
       "      <th>has_swimmingpool</th>\n",
       "      <th>has_lift</th>\n",
       "      <th>constructed_area</th>\n",
       "      <th>is_new_development</th>\n",
       "      <th>is_needs_renovating</th>\n",
       "      <th>is_goog_condition</th>\n",
       "    </tr>\n",
       "  </thead>\n",
       "  <tbody>\n",
       "    <tr>\n",
       "      <th>count</th>\n",
       "      <td>170.000000</td>\n",
       "      <td>170.000000</td>\n",
       "      <td>170.000000</td>\n",
       "      <td>170.000000</td>\n",
       "      <td>170.000000</td>\n",
       "      <td>170.000000</td>\n",
       "      <td>170.000000</td>\n",
       "      <td>170.000000</td>\n",
       "      <td>170.000000</td>\n",
       "      <td>170.000000</td>\n",
       "      <td>170.000000</td>\n",
       "      <td>170.000000</td>\n",
       "      <td>170.000000</td>\n",
       "      <td>170.000000</td>\n",
       "    </tr>\n",
       "    <tr>\n",
       "      <th>mean</th>\n",
       "      <td>36.695409</td>\n",
       "      <td>-4.444952</td>\n",
       "      <td>360341.294118</td>\n",
       "      <td>3.335294</td>\n",
       "      <td>2.223529</td>\n",
       "      <td>0.570588</td>\n",
       "      <td>0.852941</td>\n",
       "      <td>0.800000</td>\n",
       "      <td>0.735294</td>\n",
       "      <td>0.464706</td>\n",
       "      <td>181.441176</td>\n",
       "      <td>0.252941</td>\n",
       "      <td>0.052941</td>\n",
       "      <td>0.694118</td>\n",
       "    </tr>\n",
       "    <tr>\n",
       "      <th>std</th>\n",
       "      <td>0.118307</td>\n",
       "      <td>0.211501</td>\n",
       "      <td>195575.256634</td>\n",
       "      <td>1.087553</td>\n",
       "      <td>0.902022</td>\n",
       "      <td>0.496455</td>\n",
       "      <td>0.355211</td>\n",
       "      <td>0.401182</td>\n",
       "      <td>0.442480</td>\n",
       "      <td>0.500226</td>\n",
       "      <td>115.866530</td>\n",
       "      <td>0.435982</td>\n",
       "      <td>0.224578</td>\n",
       "      <td>0.462141</td>\n",
       "    </tr>\n",
       "    <tr>\n",
       "      <th>min</th>\n",
       "      <td>36.610730</td>\n",
       "      <td>-4.686328</td>\n",
       "      <td>54900.000000</td>\n",
       "      <td>1.000000</td>\n",
       "      <td>1.000000</td>\n",
       "      <td>0.000000</td>\n",
       "      <td>0.000000</td>\n",
       "      <td>0.000000</td>\n",
       "      <td>0.000000</td>\n",
       "      <td>0.000000</td>\n",
       "      <td>50.000000</td>\n",
       "      <td>0.000000</td>\n",
       "      <td>0.000000</td>\n",
       "      <td>0.000000</td>\n",
       "    </tr>\n",
       "    <tr>\n",
       "      <th>25%</th>\n",
       "      <td>36.659824</td>\n",
       "      <td>-4.507887</td>\n",
       "      <td>246975.000000</td>\n",
       "      <td>3.000000</td>\n",
       "      <td>2.000000</td>\n",
       "      <td>0.000000</td>\n",
       "      <td>1.000000</td>\n",
       "      <td>1.000000</td>\n",
       "      <td>0.000000</td>\n",
       "      <td>0.000000</td>\n",
       "      <td>105.250000</td>\n",
       "      <td>0.000000</td>\n",
       "      <td>0.000000</td>\n",
       "      <td>0.000000</td>\n",
       "    </tr>\n",
       "    <tr>\n",
       "      <th>50%</th>\n",
       "      <td>36.664441</td>\n",
       "      <td>-4.501821</td>\n",
       "      <td>297100.000000</td>\n",
       "      <td>3.000000</td>\n",
       "      <td>2.000000</td>\n",
       "      <td>1.000000</td>\n",
       "      <td>1.000000</td>\n",
       "      <td>1.000000</td>\n",
       "      <td>1.000000</td>\n",
       "      <td>0.000000</td>\n",
       "      <td>141.500000</td>\n",
       "      <td>0.000000</td>\n",
       "      <td>0.000000</td>\n",
       "      <td>1.000000</td>\n",
       "    </tr>\n",
       "    <tr>\n",
       "      <th>75%</th>\n",
       "      <td>36.671190</td>\n",
       "      <td>-4.490806</td>\n",
       "      <td>395000.000000</td>\n",
       "      <td>4.000000</td>\n",
       "      <td>3.000000</td>\n",
       "      <td>1.000000</td>\n",
       "      <td>1.000000</td>\n",
       "      <td>1.000000</td>\n",
       "      <td>1.000000</td>\n",
       "      <td>1.000000</td>\n",
       "      <td>231.000000</td>\n",
       "      <td>0.750000</td>\n",
       "      <td>0.000000</td>\n",
       "      <td>1.000000</td>\n",
       "    </tr>\n",
       "    <tr>\n",
       "      <th>max</th>\n",
       "      <td>37.145055</td>\n",
       "      <td>-3.641632</td>\n",
       "      <td>995000.000000</td>\n",
       "      <td>8.000000</td>\n",
       "      <td>5.000000</td>\n",
       "      <td>1.000000</td>\n",
       "      <td>1.000000</td>\n",
       "      <td>1.000000</td>\n",
       "      <td>1.000000</td>\n",
       "      <td>1.000000</td>\n",
       "      <td>702.000000</td>\n",
       "      <td>1.000000</td>\n",
       "      <td>1.000000</td>\n",
       "      <td>1.000000</td>\n",
       "    </tr>\n",
       "  </tbody>\n",
       "</table>\n",
       "</div>"
      ],
      "text/plain": [
       "         latitude   longitude          price  room_number  bath_number  \\\n",
       "count  170.000000  170.000000     170.000000   170.000000   170.000000   \n",
       "mean    36.695409   -4.444952  360341.294118     3.335294     2.223529   \n",
       "std      0.118307    0.211501  195575.256634     1.087553     0.902022   \n",
       "min     36.610730   -4.686328   54900.000000     1.000000     1.000000   \n",
       "25%     36.659824   -4.507887  246975.000000     3.000000     2.000000   \n",
       "50%     36.664441   -4.501821  297100.000000     3.000000     2.000000   \n",
       "75%     36.671190   -4.490806  395000.000000     4.000000     3.000000   \n",
       "max     37.145055   -3.641632  995000.000000     8.000000     5.000000   \n",
       "\n",
       "       has_garden  has_terrace  has_parking  has_swimmingpool    has_lift  \\\n",
       "count  170.000000   170.000000   170.000000        170.000000  170.000000   \n",
       "mean     0.570588     0.852941     0.800000          0.735294    0.464706   \n",
       "std      0.496455     0.355211     0.401182          0.442480    0.500226   \n",
       "min      0.000000     0.000000     0.000000          0.000000    0.000000   \n",
       "25%      0.000000     1.000000     1.000000          0.000000    0.000000   \n",
       "50%      1.000000     1.000000     1.000000          1.000000    0.000000   \n",
       "75%      1.000000     1.000000     1.000000          1.000000    1.000000   \n",
       "max      1.000000     1.000000     1.000000          1.000000    1.000000   \n",
       "\n",
       "       constructed_area  is_new_development  is_needs_renovating  \\\n",
       "count        170.000000          170.000000           170.000000   \n",
       "mean         181.441176            0.252941             0.052941   \n",
       "std          115.866530            0.435982             0.224578   \n",
       "min           50.000000            0.000000             0.000000   \n",
       "25%          105.250000            0.000000             0.000000   \n",
       "50%          141.500000            0.000000             0.000000   \n",
       "75%          231.000000            0.750000             0.000000   \n",
       "max          702.000000            1.000000             1.000000   \n",
       "\n",
       "       is_goog_condition  \n",
       "count         170.000000  \n",
       "mean            0.694118  \n",
       "std             0.462141  \n",
       "min             0.000000  \n",
       "25%             0.000000  \n",
       "50%             1.000000  \n",
       "75%             1.000000  \n",
       "max             1.000000  "
      ]
     },
     "execution_count": 52,
     "metadata": {},
     "output_type": "execute_result"
    }
   ],
   "source": [
    "data_without_outliers.describe()"
   ]
  },
  {
   "cell_type": "markdown",
   "metadata": {},
   "source": [
    "### **Preprocesamiento de variables categóricas**"
   ]
  },
  {
   "cell_type": "markdown",
   "metadata": {},
   "source": [
    "Analizamos el tipo de variables del conjunto. Se identifcian 3 variables catgóricas."
   ]
  },
  {
   "cell_type": "code",
   "execution_count": 53,
   "metadata": {},
   "outputs": [
    {
     "name": "stdout",
     "output_type": "stream",
     "text": [
      "Categorical variables: 3\n",
      "Integer variables: 7\n",
      "Float variables: 7\n"
     ]
    }
   ],
   "source": [
    "#tipo de variables\n",
    "\n",
    "obj = (data_clean.dtypes == 'object')\n",
    "object_cols = list(obj[obj].index)\n",
    "print(\"Categorical variables:\",len(object_cols))\n",
    " \n",
    "int_ = (data_clean.dtypes == 'int')\n",
    "num_cols = list(int_[int_].index)\n",
    "print(\"Integer variables:\",len(num_cols))\n",
    " \n",
    "fl = (data_clean.dtypes == 'float')\n",
    "fl_cols = list(fl[fl].index)\n",
    "print(\"Float variables:\",len(fl_cols))"
   ]
  },
  {
   "cell_type": "markdown",
   "metadata": {},
   "source": [
    "Las variables categóricas obtenidas son: Título, Localización y Certificación energética. <br>\n",
    "* La variable título no va a ser usada en el modelo. La misma presenta valores diferentes en todas las viviendas ya que cada propietario pone el título que desea para promocionar su viviendas en el portal.\n",
    "* LA variable Localización no va a ser unasada tampoco en el modelo. La zona de estudio es Churriana por lo que no aporta valores significativos, además disponemos de las columnas latitud y longitud que ya marcan un punto en el mapa con lo que ya se estáría teniendo en cuenta la localización en el modelo.\n",
    "* Para la variable certificación energética se realzia un preprocesamiento de datos para trasformar los valores categóricos en númericos. Para ello usaremos Label Encoder."
   ]
  },
  {
   "cell_type": "code",
   "execution_count": 56,
   "metadata": {},
   "outputs": [
    {
     "data": {
      "text/plain": [
       "<AxesSubplot:title={'center':'No. Unique values of Categorical Features'}>"
      ]
     },
     "execution_count": 56,
     "metadata": {},
     "output_type": "execute_result"
    },
    {
     "data": {
      "image/png": "[encoded data removed]",
      "text/plain": [
       "<Figure size 720x432 with 1 Axes>"
      ]
     },
     "metadata": {
      "needs_background": "light"
     },
     "output_type": "display_data"
    }
   ],
   "source": [
    "unique_values = []\n",
    "for col in object_cols:\n",
    "  unique_values.append(data_clean[col].unique().size)\n",
    "plt.figure(figsize=(10,6))\n",
    "plt.title('No. Unique values of Categorical Features')\n",
    "plt.xticks(rotation=90)\n",
    "sb.barplot(x=object_cols,y=unique_values)"
   ]
  },
  {
   "cell_type": "markdown",
   "metadata": {
    "jp-MarkdownHeadingCollapsed": true,
    "tags": []
   },
   "source": [
    "**Data Engineer - energy_certification** <br>\n",
    "Trasformamos las variables categóricas a numéricas. Usamos LAbelEncoder para ello asignando un valor único para cada valor categórico en cada una de las variables. Guardamos el dataset en formato csv."
   ]
  },
  {
   "cell_type": "code",
   "execution_count": 57,
   "metadata": {},
   "outputs": [],
   "source": [
    "#importamos librería\n",
    "from sklearn.preprocessing import LabelEncoder\n",
    "le = LabelEncoder()\n",
    "\n",
    "data_clean.localizacion= le.fit_transform(data_clean.localizacion.values)\n",
    "data_clean.titulo= le.fit_transform(data_clean.titulo.values)\n",
    "data_clean.energy_certification= le.fit_transform(data_clean.energy_certification.values)\n",
    "                                                  "
   ]
  },
  {
   "cell_type": "code",
   "execution_count": 58,
   "metadata": {},
   "outputs": [
    {
     "data": {
      "text/html": [
       "<div>\n",
       "<style scoped>\n",
       "    .dataframe tbody tr th:only-of-type {\n",
       "        vertical-align: middle;\n",
       "    }\n",
       "\n",
       "    .dataframe tbody tr th {\n",
       "        vertical-align: top;\n",
       "    }\n",
       "\n",
       "    .dataframe thead th {\n",
       "        text-align: right;\n",
       "    }\n",
       "</style>\n",
       "<table border=\"1\" class=\"dataframe\">\n",
       "  <thead>\n",
       "    <tr style=\"text-align: right;\">\n",
       "      <th></th>\n",
       "      <th>titulo</th>\n",
       "      <th>localizacion</th>\n",
       "      <th>latitude</th>\n",
       "      <th>longitude</th>\n",
       "      <th>price</th>\n",
       "      <th>energy_certification</th>\n",
       "      <th>room_number</th>\n",
       "      <th>bath_number</th>\n",
       "      <th>has_garden</th>\n",
       "      <th>has_terrace</th>\n",
       "      <th>has_parking</th>\n",
       "      <th>has_swimmingpool</th>\n",
       "      <th>has_lift</th>\n",
       "      <th>constructed_area</th>\n",
       "      <th>is_new_development</th>\n",
       "      <th>is_needs_renovating</th>\n",
       "      <th>is_goog_condition</th>\n",
       "    </tr>\n",
       "  </thead>\n",
       "  <tbody>\n",
       "    <tr>\n",
       "      <th>0</th>\n",
       "      <td>49</td>\n",
       "      <td>3</td>\n",
       "      <td>36.666638</td>\n",
       "      <td>-4.464576</td>\n",
       "      <td>395000</td>\n",
       "      <td>7</td>\n",
       "      <td>4</td>\n",
       "      <td>3</td>\n",
       "      <td>1.0</td>\n",
       "      <td>1.0</td>\n",
       "      <td>1.0</td>\n",
       "      <td>1.0</td>\n",
       "      <td>0.0</td>\n",
       "      <td>194</td>\n",
       "      <td>0</td>\n",
       "      <td>0</td>\n",
       "      <td>1</td>\n",
       "    </tr>\n",
       "    <tr>\n",
       "      <th>1</th>\n",
       "      <td>35</td>\n",
       "      <td>4</td>\n",
       "      <td>36.663719</td>\n",
       "      <td>-4.503897</td>\n",
       "      <td>640000</td>\n",
       "      <td>7</td>\n",
       "      <td>4</td>\n",
       "      <td>2</td>\n",
       "      <td>1.0</td>\n",
       "      <td>1.0</td>\n",
       "      <td>1.0</td>\n",
       "      <td>1.0</td>\n",
       "      <td>0.0</td>\n",
       "      <td>310</td>\n",
       "      <td>0</td>\n",
       "      <td>0</td>\n",
       "      <td>1</td>\n",
       "    </tr>\n",
       "    <tr>\n",
       "      <th>2</th>\n",
       "      <td>29</td>\n",
       "      <td>5</td>\n",
       "      <td>36.656894</td>\n",
       "      <td>-4.502930</td>\n",
       "      <td>567000</td>\n",
       "      <td>7</td>\n",
       "      <td>5</td>\n",
       "      <td>4</td>\n",
       "      <td>1.0</td>\n",
       "      <td>1.0</td>\n",
       "      <td>0.0</td>\n",
       "      <td>1.0</td>\n",
       "      <td>0.0</td>\n",
       "      <td>410</td>\n",
       "      <td>0</td>\n",
       "      <td>0</td>\n",
       "      <td>1</td>\n",
       "    </tr>\n",
       "    <tr>\n",
       "      <th>3</th>\n",
       "      <td>114</td>\n",
       "      <td>4</td>\n",
       "      <td>36.671190</td>\n",
       "      <td>-4.516900</td>\n",
       "      <td>375900</td>\n",
       "      <td>8</td>\n",
       "      <td>4</td>\n",
       "      <td>2</td>\n",
       "      <td>1.0</td>\n",
       "      <td>1.0</td>\n",
       "      <td>1.0</td>\n",
       "      <td>1.0</td>\n",
       "      <td>1.0</td>\n",
       "      <td>236</td>\n",
       "      <td>1</td>\n",
       "      <td>0</td>\n",
       "      <td>0</td>\n",
       "    </tr>\n",
       "    <tr>\n",
       "      <th>4</th>\n",
       "      <td>97</td>\n",
       "      <td>4</td>\n",
       "      <td>36.671190</td>\n",
       "      <td>-4.516900</td>\n",
       "      <td>249900</td>\n",
       "      <td>8</td>\n",
       "      <td>2</td>\n",
       "      <td>2</td>\n",
       "      <td>0.0</td>\n",
       "      <td>1.0</td>\n",
       "      <td>1.0</td>\n",
       "      <td>1.0</td>\n",
       "      <td>1.0</td>\n",
       "      <td>150</td>\n",
       "      <td>1</td>\n",
       "      <td>0</td>\n",
       "      <td>0</td>\n",
       "    </tr>\n",
       "    <tr>\n",
       "      <th>...</th>\n",
       "      <td>...</td>\n",
       "      <td>...</td>\n",
       "      <td>...</td>\n",
       "      <td>...</td>\n",
       "      <td>...</td>\n",
       "      <td>...</td>\n",
       "      <td>...</td>\n",
       "      <td>...</td>\n",
       "      <td>...</td>\n",
       "      <td>...</td>\n",
       "      <td>...</td>\n",
       "      <td>...</td>\n",
       "      <td>...</td>\n",
       "      <td>...</td>\n",
       "      <td>...</td>\n",
       "      <td>...</td>\n",
       "      <td>...</td>\n",
       "    </tr>\n",
       "    <tr>\n",
       "      <th>182</th>\n",
       "      <td>66</td>\n",
       "      <td>4</td>\n",
       "      <td>36.669872</td>\n",
       "      <td>-4.519457</td>\n",
       "      <td>320000</td>\n",
       "      <td>1</td>\n",
       "      <td>3</td>\n",
       "      <td>3</td>\n",
       "      <td>1.0</td>\n",
       "      <td>1.0</td>\n",
       "      <td>1.0</td>\n",
       "      <td>1.0</td>\n",
       "      <td>0.0</td>\n",
       "      <td>140</td>\n",
       "      <td>0</td>\n",
       "      <td>0</td>\n",
       "      <td>1</td>\n",
       "    </tr>\n",
       "    <tr>\n",
       "      <th>183</th>\n",
       "      <td>62</td>\n",
       "      <td>5</td>\n",
       "      <td>36.661758</td>\n",
       "      <td>-4.504469</td>\n",
       "      <td>595000</td>\n",
       "      <td>4</td>\n",
       "      <td>4</td>\n",
       "      <td>3</td>\n",
       "      <td>1.0</td>\n",
       "      <td>1.0</td>\n",
       "      <td>1.0</td>\n",
       "      <td>0.0</td>\n",
       "      <td>0.0</td>\n",
       "      <td>226</td>\n",
       "      <td>0</td>\n",
       "      <td>0</td>\n",
       "      <td>1</td>\n",
       "    </tr>\n",
       "    <tr>\n",
       "      <th>184</th>\n",
       "      <td>37</td>\n",
       "      <td>4</td>\n",
       "      <td>36.664690</td>\n",
       "      <td>-4.519482</td>\n",
       "      <td>640000</td>\n",
       "      <td>8</td>\n",
       "      <td>4</td>\n",
       "      <td>2</td>\n",
       "      <td>1.0</td>\n",
       "      <td>1.0</td>\n",
       "      <td>1.0</td>\n",
       "      <td>1.0</td>\n",
       "      <td>0.0</td>\n",
       "      <td>310</td>\n",
       "      <td>0</td>\n",
       "      <td>0</td>\n",
       "      <td>1</td>\n",
       "    </tr>\n",
       "    <tr>\n",
       "      <th>185</th>\n",
       "      <td>82</td>\n",
       "      <td>4</td>\n",
       "      <td>36.661137</td>\n",
       "      <td>-4.519971</td>\n",
       "      <td>367500</td>\n",
       "      <td>7</td>\n",
       "      <td>3</td>\n",
       "      <td>2</td>\n",
       "      <td>1.0</td>\n",
       "      <td>1.0</td>\n",
       "      <td>1.0</td>\n",
       "      <td>1.0</td>\n",
       "      <td>0.0</td>\n",
       "      <td>123</td>\n",
       "      <td>0</td>\n",
       "      <td>0</td>\n",
       "      <td>1</td>\n",
       "    </tr>\n",
       "    <tr>\n",
       "      <th>186</th>\n",
       "      <td>59</td>\n",
       "      <td>4</td>\n",
       "      <td>36.662522</td>\n",
       "      <td>-4.497892</td>\n",
       "      <td>360000</td>\n",
       "      <td>7</td>\n",
       "      <td>4</td>\n",
       "      <td>3</td>\n",
       "      <td>0.0</td>\n",
       "      <td>1.0</td>\n",
       "      <td>1.0</td>\n",
       "      <td>1.0</td>\n",
       "      <td>0.0</td>\n",
       "      <td>202</td>\n",
       "      <td>0</td>\n",
       "      <td>0</td>\n",
       "      <td>1</td>\n",
       "    </tr>\n",
       "  </tbody>\n",
       "</table>\n",
       "<p>187 rows × 17 columns</p>\n",
       "</div>"
      ],
      "text/plain": [
       "     titulo  localizacion   latitude  longitude   price  energy_certification  \\\n",
       "0        49             3  36.666638  -4.464576  395000                     7   \n",
       "1        35             4  36.663719  -4.503897  640000                     7   \n",
       "2        29             5  36.656894  -4.502930  567000                     7   \n",
       "3       114             4  36.671190  -4.516900  375900                     8   \n",
       "4        97             4  36.671190  -4.516900  249900                     8   \n",
       "..      ...           ...        ...        ...     ...                   ...   \n",
       "182      66             4  36.669872  -4.519457  320000                     1   \n",
       "183      62             5  36.661758  -4.504469  595000                     4   \n",
       "184      37             4  36.664690  -4.519482  640000                     8   \n",
       "185      82             4  36.661137  -4.519971  367500                     7   \n",
       "186      59             4  36.662522  -4.497892  360000                     7   \n",
       "\n",
       "     room_number  bath_number  has_garden  has_terrace  has_parking  \\\n",
       "0              4            3         1.0          1.0          1.0   \n",
       "1              4            2         1.0          1.0          1.0   \n",
       "2              5            4         1.0          1.0          0.0   \n",
       "3              4            2         1.0          1.0          1.0   \n",
       "4              2            2         0.0          1.0          1.0   \n",
       "..           ...          ...         ...          ...          ...   \n",
       "182            3            3         1.0          1.0          1.0   \n",
       "183            4            3         1.0          1.0          1.0   \n",
       "184            4            2         1.0          1.0          1.0   \n",
       "185            3            2         1.0          1.0          1.0   \n",
       "186            4            3         0.0          1.0          1.0   \n",
       "\n",
       "     has_swimmingpool  has_lift  constructed_area  is_new_development  \\\n",
       "0                 1.0       0.0               194                   0   \n",
       "1                 1.0       0.0               310                   0   \n",
       "2                 1.0       0.0               410                   0   \n",
       "3                 1.0       1.0               236                   1   \n",
       "4                 1.0       1.0               150                   1   \n",
       "..                ...       ...               ...                 ...   \n",
       "182               1.0       0.0               140                   0   \n",
       "183               0.0       0.0               226                   0   \n",
       "184               1.0       0.0               310                   0   \n",
       "185               1.0       0.0               123                   0   \n",
       "186               1.0       0.0               202                   0   \n",
       "\n",
       "     is_needs_renovating  is_goog_condition  \n",
       "0                      0                  1  \n",
       "1                      0                  1  \n",
       "2                      0                  1  \n",
       "3                      0                  0  \n",
       "4                      0                  0  \n",
       "..                   ...                ...  \n",
       "182                    0                  1  \n",
       "183                    0                  1  \n",
       "184                    0                  1  \n",
       "185                    0                  1  \n",
       "186                    0                  1  \n",
       "\n",
       "[187 rows x 17 columns]"
      ]
     },
     "execution_count": 58,
     "metadata": {},
     "output_type": "execute_result"
    }
   ],
   "source": [
    "data_clean"
   ]
  },
  {
   "cell_type": "code",
   "execution_count": 59,
   "metadata": {},
   "outputs": [],
   "source": [
    "data_clean.to_csv('data_model_churriana_malaga.csv')"
   ]
  },
  {
   "cell_type": "code",
   "execution_count": null,
   "metadata": {},
   "outputs": [],
   "source": []
  },
  {
   "cell_type": "code",
   "execution_count": null,
   "metadata": {},
   "outputs": [],
   "source": []
  }
 ],
 "metadata": {
  "kernelspec": {
   "display_name": "Python 3",
   "language": "python",
   "name": "python3"
  },
  "language_info": {
   "codemirror_mode": {
    "name": "ipython",
    "version": 3
   },
   "file_extension": ".py",
   "mimetype": "text/x-python",
   "name": "python",
   "nbconvert_exporter": "python",
   "pygments_lexer": "ipython3",
   "version": "3.6.9"
  }
 },
 "nbformat": 4,
 "nbformat_minor": 4
}
