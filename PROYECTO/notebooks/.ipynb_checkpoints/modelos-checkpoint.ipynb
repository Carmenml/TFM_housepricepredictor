{
 "cells": [
  {
   "cell_type": "markdown",
   "metadata": {},
   "source": [
    "## ***MODELOS***\n",
    "El dataset utilizado no contiene una gran cantidad de datos ya que se realizar sobre un conjunto pequeño, la zona de Churriana Málaga. No obstante, aprovecharemos la baja cantidad de caracteristicas recopiladas para graficar su relación con la variable a predecir, en este caso el precio; y la relacion entre las mismas. Antes de optar por escoger un algoritmo de regresión, la mejor opcion es dar un vistaso al dataset y analizar el comportamiento de las variables.\n",
    "\n",
    "realizamos diferentes modelos para ver cual de ellos presenta el mejor comportamiento a la hora de predecir el precio:\n",
    "* Linear Regressor\n",
    "* Random Forest Regressor\n",
    "* SVM-Support Vector Machine"
   ]
  },
  {
   "cell_type": "code",
   "execution_count": null,
   "metadata": {},
   "outputs": [],
   "source": [
    "import numpy as np\n",
    "import matplotlib.pyplot as plt\n",
    "import pandas as pd\n",
    "import seaborn as sns\n",
    "\n",
    "from sklearn.linear_model import LinearRegression\n",
    "from sklearn.model_selection import train_test_split\n",
    "from sklearn.metrics import mean_squared_error, mean_absolute_error, r2_score, explained_variance_score\n",
    "\n",
    "\n",
    "\n"
   ]
  },
  {
   "cell_type": "code",
   "execution_count": null,
   "metadata": {},
   "outputs": [],
   "source": [
    "data = pd.read_csv('clean_properties_churriana.csv', index_col = 0)"
   ]
  },
  {
   "cell_type": "code",
   "execution_count": 7,
   "metadata": {},
   "outputs": [
    {
     "data": {
      "text/html": [
       "<div>\n",
       "<style scoped>\n",
       "    .dataframe tbody tr th:only-of-type {\n",
       "        vertical-align: middle;\n",
       "    }\n",
       "\n",
       "    .dataframe tbody tr th {\n",
       "        vertical-align: top;\n",
       "    }\n",
       "\n",
       "    .dataframe thead th {\n",
       "        text-align: right;\n",
       "    }\n",
       "</style>\n",
       "<table border=\"1\" class=\"dataframe\">\n",
       "  <thead>\n",
       "    <tr style=\"text-align: right;\">\n",
       "      <th></th>\n",
       "      <th>titulo</th>\n",
       "      <th>localizacion</th>\n",
       "      <th>latitude</th>\n",
       "      <th>longitude</th>\n",
       "      <th>price</th>\n",
       "      <th>energy_certification</th>\n",
       "      <th>room_number</th>\n",
       "      <th>bath_number</th>\n",
       "      <th>has_garden</th>\n",
       "      <th>has_terrace</th>\n",
       "      <th>has_parking</th>\n",
       "      <th>has_swimmingpool</th>\n",
       "      <th>has_lift</th>\n",
       "      <th>constructed_area</th>\n",
       "      <th>is_new_development</th>\n",
       "      <th>is_needs_renovating</th>\n",
       "      <th>is_goog_condition</th>\n",
       "    </tr>\n",
       "  </thead>\n",
       "  <tbody>\n",
       "    <tr>\n",
       "      <th>0</th>\n",
       "      <td>Chalet adosado en venta en Guadalmar</td>\n",
       "      <td>Churriana, Málaga</td>\n",
       "      <td>36.666638</td>\n",
       "      <td>-4.464576</td>\n",
       "      <td>395000</td>\n",
       "      <td>inProcess</td>\n",
       "      <td>4</td>\n",
       "      <td>3</td>\n",
       "      <td>1.0</td>\n",
       "      <td>1.0</td>\n",
       "      <td>1.0</td>\n",
       "      <td>1.0</td>\n",
       "      <td>0.0</td>\n",
       "      <td>194</td>\n",
       "      <td>0</td>\n",
       "      <td>0</td>\n",
       "      <td>1</td>\n",
       "    </tr>\n",
       "    <tr>\n",
       "      <th>1</th>\n",
       "      <td>Casa o chalet independiente en venta en calle ...</td>\n",
       "      <td>Churriana-El Pizarrillo-La Noria-Guadalsol, Má...</td>\n",
       "      <td>36.663719</td>\n",
       "      <td>-4.503897</td>\n",
       "      <td>640000</td>\n",
       "      <td>inProcess</td>\n",
       "      <td>4</td>\n",
       "      <td>2</td>\n",
       "      <td>1.0</td>\n",
       "      <td>1.0</td>\n",
       "      <td>1.0</td>\n",
       "      <td>1.0</td>\n",
       "      <td>0.0</td>\n",
       "      <td>310</td>\n",
       "      <td>0</td>\n",
       "      <td>0</td>\n",
       "      <td>1</td>\n",
       "    </tr>\n",
       "    <tr>\n",
       "      <th>2</th>\n",
       "      <td>Casa o chalet independiente en venta en calle ...</td>\n",
       "      <td>Cortijo de Maza-Finca Monsalvez-El Olivar, Málaga</td>\n",
       "      <td>36.656894</td>\n",
       "      <td>-4.502930</td>\n",
       "      <td>567000</td>\n",
       "      <td>inProcess</td>\n",
       "      <td>5</td>\n",
       "      <td>4</td>\n",
       "      <td>1.0</td>\n",
       "      <td>1.0</td>\n",
       "      <td>0.0</td>\n",
       "      <td>1.0</td>\n",
       "      <td>0.0</td>\n",
       "      <td>410</td>\n",
       "      <td>0</td>\n",
       "      <td>0</td>\n",
       "      <td>1</td>\n",
       "    </tr>\n",
       "    <tr>\n",
       "      <th>3</th>\n",
       "      <td>Ático en venta en calle Bangladesh, 25</td>\n",
       "      <td>Churriana-El Pizarrillo-La Noria-Guadalsol, Má...</td>\n",
       "      <td>36.671190</td>\n",
       "      <td>-4.516900</td>\n",
       "      <td>375900</td>\n",
       "      <td>unknown</td>\n",
       "      <td>4</td>\n",
       "      <td>2</td>\n",
       "      <td>1.0</td>\n",
       "      <td>1.0</td>\n",
       "      <td>1.0</td>\n",
       "      <td>1.0</td>\n",
       "      <td>1.0</td>\n",
       "      <td>236</td>\n",
       "      <td>1</td>\n",
       "      <td>0</td>\n",
       "      <td>0</td>\n",
       "    </tr>\n",
       "    <tr>\n",
       "      <th>4</th>\n",
       "      <td>Piso en venta en calle Bangladesh, 25</td>\n",
       "      <td>Churriana-El Pizarrillo-La Noria-Guadalsol, Má...</td>\n",
       "      <td>36.671190</td>\n",
       "      <td>-4.516900</td>\n",
       "      <td>249900</td>\n",
       "      <td>unknown</td>\n",
       "      <td>2</td>\n",
       "      <td>2</td>\n",
       "      <td>0.0</td>\n",
       "      <td>1.0</td>\n",
       "      <td>1.0</td>\n",
       "      <td>1.0</td>\n",
       "      <td>1.0</td>\n",
       "      <td>150</td>\n",
       "      <td>1</td>\n",
       "      <td>0</td>\n",
       "      <td>0</td>\n",
       "    </tr>\n",
       "  </tbody>\n",
       "</table>\n",
       "</div>"
      ],
      "text/plain": [
       "                                              titulo  \\\n",
       "0               Chalet adosado en venta en Guadalmar   \n",
       "1  Casa o chalet independiente en venta en calle ...   \n",
       "2  Casa o chalet independiente en venta en calle ...   \n",
       "3             Ático en venta en calle Bangladesh, 25   \n",
       "4              Piso en venta en calle Bangladesh, 25   \n",
       "\n",
       "                                        localizacion   latitude  longitude  \\\n",
       "0                                  Churriana, Málaga  36.666638  -4.464576   \n",
       "1  Churriana-El Pizarrillo-La Noria-Guadalsol, Má...  36.663719  -4.503897   \n",
       "2  Cortijo de Maza-Finca Monsalvez-El Olivar, Málaga  36.656894  -4.502930   \n",
       "3  Churriana-El Pizarrillo-La Noria-Guadalsol, Má...  36.671190  -4.516900   \n",
       "4  Churriana-El Pizarrillo-La Noria-Guadalsol, Má...  36.671190  -4.516900   \n",
       "\n",
       "    price energy_certification  room_number  bath_number  has_garden  \\\n",
       "0  395000            inProcess            4            3         1.0   \n",
       "1  640000            inProcess            4            2         1.0   \n",
       "2  567000            inProcess            5            4         1.0   \n",
       "3  375900              unknown            4            2         1.0   \n",
       "4  249900              unknown            2            2         0.0   \n",
       "\n",
       "   has_terrace  has_parking  has_swimmingpool  has_lift  constructed_area  \\\n",
       "0          1.0          1.0               1.0       0.0               194   \n",
       "1          1.0          1.0               1.0       0.0               310   \n",
       "2          1.0          0.0               1.0       0.0               410   \n",
       "3          1.0          1.0               1.0       1.0               236   \n",
       "4          1.0          1.0               1.0       1.0               150   \n",
       "\n",
       "   is_new_development  is_needs_renovating  is_goog_condition  \n",
       "0                   0                    0                  1  \n",
       "1                   0                    0                  1  \n",
       "2                   0                    0                  1  \n",
       "3                   1                    0                  0  \n",
       "4                   1                    0                  0  "
      ]
     },
     "execution_count": 7,
     "metadata": {},
     "output_type": "execute_result"
    }
   ],
   "source": [
    "data.head()"
   ]
  },
  {
   "cell_type": "markdown",
   "metadata": {},
   "source": [
    "#### **DATA ENGINEER**\n",
    "Trasformamos las variables categóricas a numéricas. Usamos LAbelEncoder para ello asignando un valor único para cada valor categórico en cada una delas variables.\n",
    "\n"
   ]
  },
  {
   "cell_type": "code",
   "execution_count": 8,
   "metadata": {},
   "outputs": [],
   "source": [
    "from sklearn.preprocessing import LabelEncoder\n",
    "le = LabelEncoder()\n",
    "data.localizacion= le.fit_transform(data.localizacion.values)\n",
    "data.titulo= le.fit_transform(data.titulo.values)\n",
    "data.energy_certification= le.fit_transform(data.energy_certification.values)"
   ]
  },
  {
   "cell_type": "code",
   "execution_count": 9,
   "metadata": {},
   "outputs": [
    {
     "data": {
      "image/png": "[encoded data removed]",
      "text/plain": [
       "<Figure size 720x576 with 20 Axes>"
      ]
     },
     "metadata": {
      "needs_background": "light"
     },
     "output_type": "display_data"
    }
   ],
   "source": [
    "data.hist(bins=50, figsize=(10, 8))\n",
    "plt.show()"
   ]
  },
  {
   "cell_type": "markdown",
   "metadata": {},
   "source": [
    "Columnas de entrada y salida"
   ]
  },
  {
   "cell_type": "code",
   "execution_count": 10,
   "metadata": {},
   "outputs": [
    {
     "data": {
      "image/png": "[encoded data removed]",
      "text/plain": [
       "<Figure size 432x288 with 2 Axes>"
      ]
     },
     "metadata": {
      "needs_background": "light"
     },
     "output_type": "display_data"
    }
   ],
   "source": [
    "corr = data.corr()\n",
    "sns.heatmap(corr, xticklabels=corr.columns, yticklabels=corr.columns)\n",
    "plt.show()"
   ]
  },
  {
   "cell_type": "markdown",
   "metadata": {},
   "source": [
    "Las columna de: Título, latitud, longitud, energy certification, has lift, is new development no influyen en nuestra salida de datos para la variable precio."
   ]
  },
  {
   "cell_type": "code",
   "execution_count": null,
   "metadata": {
    "tags": []
   },
   "outputs": [],
   "source": [
    "#### ***Definimos los datos de entrada y de salida.***"
   ]
  },
  {
   "cell_type": "code",
   "execution_count": null,
   "metadata": {},
   "outputs": [],
   "source": [
    "target = data['price']\n",
    "features = data.drop(\"price\",axis=1)\n",
    "\n"
   ]
  },
  {
   "cell_type": "code",
   "execution_count": null,
   "metadata": {},
   "outputs": [],
   "source": [
    "#### **División de datos en Train y Test**"
   ]
  },
  {
   "cell_type": "code",
   "execution_count": null,
   "metadata": {},
   "outputs": [],
   "source": [
    "Conjunto de entrenamiento y prueba"
   ]
  },
  {
   "cell_type": "code",
   "execution_count": null,
   "metadata": {},
   "outputs": [],
   "source": [
    "features_train, features_test, target_train, target_test = train_test_split(features, target)\n",
    "features_train.shape"
   ]
  },
  {
   "cell_type": "code",
   "execution_count": null,
   "metadata": {},
   "outputs": [],
   "source": [
    "#puesto para que nos sirva para el modelo de regresión lineal.\n",
    "#referencia: https://www.kaggle.com/code/laeclover/predicci-n-de-venta-de-casa\n",
    "resultados = pd.DataFrame({\n",
    "    'Modelo':[],\n",
    "    'Detalles':[],\n",
    "    'R2 train':[],\n",
    "    'R2 test':[],\n",
    "    'MAE train':[],\n",
    "    'MAE test':[]\n",
    "})\n",
    "\n",
    "def error_absoluto_medio(y,y_pred):\n",
    "    v = np.abs(y - y_pred)\n",
    "    return v.sum()/len(y)\n",
    "    \n",
    "def error_gen(y_train,y_pred_train,y_test,y_pred_test):\n",
    "    MAE_TRAIN = error_absoluto_medio(y_train,y_pred_train)\n",
    "    MAE_TEST = error_absoluto_medio(y_test,y_pred_test)\n",
    "    return MAE_TRAIN,MAE_TEST"
   ]
  },
  {
   "cell_type": "code",
   "execution_count": null,
   "metadata": {},
   "outputs": [],
   "source": [
    "## ***Linear Regressor***"
   ]
  },
  {
   "cell_type": "code",
   "execution_count": null,
   "metadata": {},
   "outputs": [],
   "source": [
    "#Creamos una instancia para el modelo de regresion lineal\n",
    "lr = LinearRegression()"
   ]
  },
  {
   "cell_type": "code",
   "execution_count": null,
   "metadata": {},
   "outputs": [],
   "source": [
    "Entrenamos el modelo"
   ]
  },
  {
   "cell_type": "code",
   "execution_count": null,
   "metadata": {},
   "outputs": [],
   "source": [
    "lr.fit(features_train, target_train)"
   ]
  },
  {
   "cell_type": "code",
   "execution_count": null,
   "metadata": {},
   "outputs": [],
   "source": [
    "target_pred= lr.predict(features_test)"
   ]
  },
  {
   "cell_type": "code",
   "execution_count": null,
   "metadata": {},
   "outputs": [],
   "source": [
    "features_test.shape"
   ]
  },
  {
   "cell_type": "code",
   "execution_count": null,
   "metadata": {},
   "outputs": [],
   "source": [
    "target_pred.shape"
   ]
  },
  {
   "cell_type": "code",
   "execution_count": null,
   "metadata": {},
   "outputs": [],
   "source": [
    "target_pred"
   ]
  },
  {
   "cell_type": "code",
   "execution_count": null,
   "metadata": {},
   "outputs": [],
   "source": [
    "features_test.head()"
   ]
  },
  {
   "cell_type": "code",
   "execution_count": null,
   "metadata": {},
   "outputs": [],
   "source": [
    "mae = mean_absolute_error(target_test, target_pred)"
   ]
  },
  {
   "cell_type": "code",
   "execution_count": null,
   "metadata": {},
   "outputs": [],
   "source": [
    "mae"
   ]
  },
  {
   "cell_type": "code",
   "execution_count": null,
   "metadata": {
    "tags": []
   },
   "outputs": [],
   "source": [
    "mse = mean_squared_error(target_test, target_pred)\n",
    "r2 = r2_score(target_test, target_pred)\n",
    "r2"
   ]
  },
  {
   "cell_type": "code",
   "execution_count": null,
   "metadata": {},
   "outputs": [],
   "source": [
    "plt.scatter(target_test, target_pred)\n",
    "plt.xlabel(\"Precios verdaderos\")\n",
    "plt.ylabel(\"Predicciones del modelo\")\n",
    "plt.title(\"Precios verdaderos vs predicciones del modelo\")\n",
    "plt.show()"
   ]
  },
  {
   "cell_type": "code",
   "execution_count": null,
   "metadata": {},
   "outputs": [],
   "source": [
    "plt.plot(target_test, label='Precios verdaderos')\n",
    "plt.plot(target_pred, label='Predicciones del precio')\n",
    "plt.xlabel('Precios verdaderos')\n",
    "plt.ylabel('Predicción del precio')\n",
    "plt.title('Precios verdaderos vs. Precios predichos')\n",
    "plt.legend()\n",
    "plt.show()"
   ]
  },
  {
   "cell_type": "code",
   "execution_count": null,
   "metadata": {},
   "outputs": [],
   "source": [
    "!pip install seaborn"
   ]
  },
  {
   "cell_type": "code",
   "execution_count": null,
   "metadata": {},
   "outputs": [],
   "source": [
    "import seaborn as sns"
   ]
  },
  {
   "cell_type": "code",
   "execution_count": null,
   "metadata": {},
   "outputs": [],
   "source": [
    "sns.scatterplot(target_test, target_pred)\n",
    "plt.xlabel('Precios verdaderos')\n",
    "plt.ylabel('Precios predichos')\n",
    "plt.title('Relación entre precios verdaderos y predichos')\n",
    "\n",
    "plt.show()"
   ]
  },
  {
   "cell_type": "code",
   "execution_count": null,
   "metadata": {},
   "outputs": [],
   "source": [
    "Realización de una enumeración para comparar para cada vivienda los precios reales con los predichos."
   ]
  },
  {
   "cell_type": "code",
   "execution_count": null,
   "metadata": {},
   "outputs": [],
   "source": [
    "for i, (target_test, target_pred) in enumerate(zip(target_test, target_pred)):\n",
    "    print(f'Vivienda {i}: Precio verdadero = {target_test}, Precio predicho = {target_pred}')"
   ]
  },
  {
   "cell_type": "code",
   "execution_count": null,
   "metadata": {},
   "outputs": [],
   "source": [
    "target_pred1= lr.predict(features)"
   ]
  },
  {
   "cell_type": "code",
   "execution_count": null,
   "metadata": {},
   "outputs": [],
   "source": [
    "data['Price_predict'] = target_pred1"
   ]
  },
  {
   "cell_type": "code",
   "execution_count": null,
   "metadata": {},
   "outputs": [],
   "source": [
    "data.head()"
   ]
  },
  {
   "cell_type": "code",
   "execution_count": null,
   "metadata": {},
   "outputs": [],
   "source": [
    "data['Var_Prices'] =  data['price'] - data['Price_predict']"
   ]
  },
  {
   "cell_type": "code",
   "execution_count": null,
   "metadata": {},
   "outputs": [],
   "source": [
    "Todos los datos en negativo son viviendas en las que su precio actual por las que están a la venta está por debajo del precio predicho por lo cual son una oportunidad de inversión "
   ]
  },
  {
   "cell_type": "code",
   "execution_count": null,
   "metadata": {},
   "outputs": [],
   "source": [
    "data"
   ]
  },
  {
   "cell_type": "markdown",
   "metadata": {},
   "source": [
    "data.to_csv('datos_finales.csv', index=False)"
   ]
  },
  {
   "cell_type": "code",
   "execution_count": null,
   "metadata": {},
   "outputs": [],
   "source": []
  },
  {
   "cell_type": "code",
   "execution_count": null,
   "metadata": {},
   "outputs": [],
   "source": []
  },
  {
   "cell_type": "code",
   "execution_count": null,
   "metadata": {},
   "outputs": [],
   "source": []
  },
  {
   "cell_type": "markdown",
   "metadata": {},
   "source": [
    "https://www.kaggle.com/code/laeclover/predicci-n-de-venta-de-casa"
   ]
  },
  {
   "cell_type": "code",
   "execution_count": 11,
   "metadata": {},
   "outputs": [],
   "source": [
    "import pandas as pd\n",
    "from plotly.subplots import make_subplots\n",
    "import plotly.graph_objects as go\n",
    "import plotly.express as px\n",
    "\n",
    "resultados = pd.DataFrame({\n",
    "    'Modelo':[],\n",
    "    'Detalles':[],\n",
    "    'R2 train':[],\n",
    "    'R2 test':[],\n",
    "    'MAE train':[],\n",
    "    'MAE test':[]\n",
    "})\n",
    "\n",
    "def error_absoluto_medio(y,y_pred):\n",
    "    v = np.abs(y - y_pred)\n",
    "    return v.sum()/len(y)\n",
    "    \n",
    "def error_gen(y_train,y_pred_train,y_test,y_pred_test):\n",
    "    MAE_TRAIN = error_absoluto_medio(y_train,y_pred_train)\n",
    "    MAE_TEST = error_absoluto_medio(y_test,y_pred_test)\n",
    "    return MAE_TRAIN,MAE_TEST"
   ]
  },
  {
   "cell_type": "markdown",
   "metadata": {
    "tags": []
   },
   "source": [
    "#### **Preprocesamiento de los datos**\n",
    "Antes de ingresar los datos a un modelo, estos deben ser acondicionados para que las predicciones sean las mas acertadas posibles. Para ello se utilizan técnicas como transformaciones, agrupamiento o normalización. Pero antes de realizar el preprocesamiento tengamos una idea de cual sería el resultado de ingresar los datos sin acondicionar a una regresión múltiple."
   ]
  },
  {
   "cell_type": "code",
   "execution_count": 12,
   "metadata": {
    "tags": []
   },
   "outputs": [
    {
     "data": {
      "text/html": [
       "<div>\n",
       "<style scoped>\n",
       "    .dataframe tbody tr th:only-of-type {\n",
       "        vertical-align: middle;\n",
       "    }\n",
       "\n",
       "    .dataframe tbody tr th {\n",
       "        vertical-align: top;\n",
       "    }\n",
       "\n",
       "    .dataframe thead th {\n",
       "        text-align: right;\n",
       "    }\n",
       "</style>\n",
       "<table border=\"1\" class=\"dataframe\">\n",
       "  <thead>\n",
       "    <tr style=\"text-align: right;\">\n",
       "      <th></th>\n",
       "      <th>Modelo</th>\n",
       "      <th>Detalles</th>\n",
       "      <th>R2 train</th>\n",
       "      <th>R2 test</th>\n",
       "      <th>MAE train</th>\n",
       "      <th>MAE test</th>\n",
       "    </tr>\n",
       "  </thead>\n",
       "  <tbody>\n",
       "    <tr>\n",
       "      <th>0</th>\n",
       "      <td>Regresión Lineal</td>\n",
       "      <td>Sin procesar</td>\n",
       "      <td>0.905204</td>\n",
       "      <td>0.613774</td>\n",
       "      <td>86970.591973</td>\n",
       "      <td>198583.448126</td>\n",
       "    </tr>\n",
       "  </tbody>\n",
       "</table>\n",
       "</div>"
      ],
      "text/plain": [
       "             Modelo      Detalles  R2 train   R2 test     MAE train  \\\n",
       "0  Regresión Lineal  Sin procesar  0.905204  0.613774  86970.591973   \n",
       "\n",
       "        MAE test  \n",
       "0  198583.448126  "
      ]
     },
     "execution_count": 12,
     "metadata": {},
     "output_type": "execute_result"
    }
   ],
   "source": [
    "from sklearn.linear_model import LinearRegression\n",
    "from sklearn.model_selection import train_test_split\n",
    "\n",
    "\n",
    "def regresion_lineal(data,test_size=0.2,Prec_var='price'):\n",
    "    x = data.drop(Prec_var,axis=1)\n",
    "    y = data[Prec_var]\n",
    "    x_train,x_test,y_train,y_test = train_test_split(x,y,test_size=test_size)\n",
    "    lr = LinearRegression()\n",
    "    lr.fit(x_train,y_train)\n",
    "\n",
    "    r2_train = lr.score(x_train,y_train)\n",
    "    r2_test = lr.score(x_test,y_test)\n",
    "    \n",
    "    y_train_pred = lr.predict(x_train)\n",
    "    y_test_pred = lr.predict(x_test)\n",
    "    \n",
    "    MAE_train,MAE_test = error_gen(y_train,y_train_pred,y_test,y_test_pred)\n",
    "    \n",
    "    return r2_train,r2_test,MAE_train,MAE_test\n",
    "\n",
    "r2_train,r2_test,MAE_train,MAE_test = regresion_lineal(data)\n",
    "\n",
    "\n",
    "final = resultados.shape[0]\n",
    "resultados.loc[final] = ['Regresión Lineal','Sin procesar',r2_train,r2_test,MAE_train,MAE_test]\n",
    "resultados"
   ]
  },
  {
   "cell_type": "markdown",
   "metadata": {},
   "source": [
    "#### **Escalación de los datos**"
   ]
  },
  {
   "cell_type": "code",
   "execution_count": 13,
   "metadata": {},
   "outputs": [],
   "source": [
    "from sklearn.preprocessing import MinMaxScaler\n",
    "aux1 =  data.drop('price',axis=1)\n",
    "col_esc = aux1.columns.values\n",
    "\n",
    "scale = MinMaxScaler()\n",
    "\n",
    "data2 = data\n",
    "data2[col_esc] = scale.fit_transform(data[col_esc])"
   ]
  },
  {
   "cell_type": "code",
   "execution_count": 14,
   "metadata": {
    "tags": []
   },
   "outputs": [
    {
     "data": {
      "text/html": [
       "<div>\n",
       "<style scoped>\n",
       "    .dataframe tbody tr th:only-of-type {\n",
       "        vertical-align: middle;\n",
       "    }\n",
       "\n",
       "    .dataframe tbody tr th {\n",
       "        vertical-align: top;\n",
       "    }\n",
       "\n",
       "    .dataframe thead th {\n",
       "        text-align: right;\n",
       "    }\n",
       "</style>\n",
       "<table border=\"1\" class=\"dataframe\">\n",
       "  <thead>\n",
       "    <tr style=\"text-align: right;\">\n",
       "      <th></th>\n",
       "      <th>titulo</th>\n",
       "      <th>localizacion</th>\n",
       "      <th>latitude</th>\n",
       "      <th>longitude</th>\n",
       "      <th>price</th>\n",
       "      <th>energy_certification</th>\n",
       "      <th>room_number</th>\n",
       "      <th>bath_number</th>\n",
       "      <th>has_garden</th>\n",
       "      <th>has_terrace</th>\n",
       "      <th>has_parking</th>\n",
       "      <th>has_swimmingpool</th>\n",
       "      <th>has_lift</th>\n",
       "      <th>constructed_area</th>\n",
       "      <th>is_new_development</th>\n",
       "      <th>is_needs_renovating</th>\n",
       "      <th>is_goog_condition</th>\n",
       "    </tr>\n",
       "  </thead>\n",
       "  <tbody>\n",
       "    <tr>\n",
       "      <th>0</th>\n",
       "      <td>0.415254</td>\n",
       "      <td>0.200000</td>\n",
       "      <td>0.104634</td>\n",
       "      <td>0.212265</td>\n",
       "      <td>395000</td>\n",
       "      <td>0.875</td>\n",
       "      <td>0.230769</td>\n",
       "      <td>0.285714</td>\n",
       "      <td>1.0</td>\n",
       "      <td>1.0</td>\n",
       "      <td>1.0</td>\n",
       "      <td>1.0</td>\n",
       "      <td>0.0</td>\n",
       "      <td>0.058776</td>\n",
       "      <td>0.0</td>\n",
       "      <td>0.0</td>\n",
       "      <td>1.0</td>\n",
       "    </tr>\n",
       "    <tr>\n",
       "      <th>1</th>\n",
       "      <td>0.296610</td>\n",
       "      <td>0.266667</td>\n",
       "      <td>0.099171</td>\n",
       "      <td>0.174626</td>\n",
       "      <td>640000</td>\n",
       "      <td>0.875</td>\n",
       "      <td>0.230769</td>\n",
       "      <td>0.142857</td>\n",
       "      <td>1.0</td>\n",
       "      <td>1.0</td>\n",
       "      <td>1.0</td>\n",
       "      <td>1.0</td>\n",
       "      <td>0.0</td>\n",
       "      <td>0.106122</td>\n",
       "      <td>0.0</td>\n",
       "      <td>0.0</td>\n",
       "      <td>1.0</td>\n",
       "    </tr>\n",
       "    <tr>\n",
       "      <th>2</th>\n",
       "      <td>0.245763</td>\n",
       "      <td>0.333333</td>\n",
       "      <td>0.086396</td>\n",
       "      <td>0.175551</td>\n",
       "      <td>567000</td>\n",
       "      <td>0.875</td>\n",
       "      <td>0.307692</td>\n",
       "      <td>0.428571</td>\n",
       "      <td>1.0</td>\n",
       "      <td>1.0</td>\n",
       "      <td>0.0</td>\n",
       "      <td>1.0</td>\n",
       "      <td>0.0</td>\n",
       "      <td>0.146939</td>\n",
       "      <td>0.0</td>\n",
       "      <td>0.0</td>\n",
       "      <td>1.0</td>\n",
       "    </tr>\n",
       "    <tr>\n",
       "      <th>3</th>\n",
       "      <td>0.966102</td>\n",
       "      <td>0.266667</td>\n",
       "      <td>0.113152</td>\n",
       "      <td>0.162179</td>\n",
       "      <td>375900</td>\n",
       "      <td>1.000</td>\n",
       "      <td>0.230769</td>\n",
       "      <td>0.142857</td>\n",
       "      <td>1.0</td>\n",
       "      <td>1.0</td>\n",
       "      <td>1.0</td>\n",
       "      <td>1.0</td>\n",
       "      <td>1.0</td>\n",
       "      <td>0.075918</td>\n",
       "      <td>1.0</td>\n",
       "      <td>0.0</td>\n",
       "      <td>0.0</td>\n",
       "    </tr>\n",
       "    <tr>\n",
       "      <th>4</th>\n",
       "      <td>0.822034</td>\n",
       "      <td>0.266667</td>\n",
       "      <td>0.113152</td>\n",
       "      <td>0.162179</td>\n",
       "      <td>249900</td>\n",
       "      <td>1.000</td>\n",
       "      <td>0.076923</td>\n",
       "      <td>0.142857</td>\n",
       "      <td>0.0</td>\n",
       "      <td>1.0</td>\n",
       "      <td>1.0</td>\n",
       "      <td>1.0</td>\n",
       "      <td>1.0</td>\n",
       "      <td>0.040816</td>\n",
       "      <td>1.0</td>\n",
       "      <td>0.0</td>\n",
       "      <td>0.0</td>\n",
       "    </tr>\n",
       "  </tbody>\n",
       "</table>\n",
       "</div>"
      ],
      "text/plain": [
       "     titulo  localizacion  latitude  longitude   price  energy_certification  \\\n",
       "0  0.415254      0.200000  0.104634   0.212265  395000                 0.875   \n",
       "1  0.296610      0.266667  0.099171   0.174626  640000                 0.875   \n",
       "2  0.245763      0.333333  0.086396   0.175551  567000                 0.875   \n",
       "3  0.966102      0.266667  0.113152   0.162179  375900                 1.000   \n",
       "4  0.822034      0.266667  0.113152   0.162179  249900                 1.000   \n",
       "\n",
       "   room_number  bath_number  has_garden  has_terrace  has_parking  \\\n",
       "0     0.230769     0.285714         1.0          1.0          1.0   \n",
       "1     0.230769     0.142857         1.0          1.0          1.0   \n",
       "2     0.307692     0.428571         1.0          1.0          0.0   \n",
       "3     0.230769     0.142857         1.0          1.0          1.0   \n",
       "4     0.076923     0.142857         0.0          1.0          1.0   \n",
       "\n",
       "   has_swimmingpool  has_lift  constructed_area  is_new_development  \\\n",
       "0               1.0       0.0          0.058776                 0.0   \n",
       "1               1.0       0.0          0.106122                 0.0   \n",
       "2               1.0       0.0          0.146939                 0.0   \n",
       "3               1.0       1.0          0.075918                 1.0   \n",
       "4               1.0       1.0          0.040816                 1.0   \n",
       "\n",
       "   is_needs_renovating  is_goog_condition  \n",
       "0                  0.0                1.0  \n",
       "1                  0.0                1.0  \n",
       "2                  0.0                1.0  \n",
       "3                  0.0                0.0  \n",
       "4                  0.0                0.0  "
      ]
     },
     "execution_count": 14,
     "metadata": {},
     "output_type": "execute_result"
    }
   ],
   "source": [
    "data2.head()"
   ]
  },
  {
   "cell_type": "code",
   "execution_count": 15,
   "metadata": {},
   "outputs": [
    {
     "data": {
      "text/html": [
       "<div>\n",
       "<style scoped>\n",
       "    .dataframe tbody tr th:only-of-type {\n",
       "        vertical-align: middle;\n",
       "    }\n",
       "\n",
       "    .dataframe tbody tr th {\n",
       "        vertical-align: top;\n",
       "    }\n",
       "\n",
       "    .dataframe thead th {\n",
       "        text-align: right;\n",
       "    }\n",
       "</style>\n",
       "<table border=\"1\" class=\"dataframe\">\n",
       "  <thead>\n",
       "    <tr style=\"text-align: right;\">\n",
       "      <th></th>\n",
       "      <th>titulo</th>\n",
       "      <th>localizacion</th>\n",
       "      <th>latitude</th>\n",
       "      <th>longitude</th>\n",
       "      <th>price</th>\n",
       "      <th>energy_certification</th>\n",
       "      <th>room_number</th>\n",
       "      <th>bath_number</th>\n",
       "      <th>has_garden</th>\n",
       "      <th>has_terrace</th>\n",
       "      <th>has_parking</th>\n",
       "      <th>has_swimmingpool</th>\n",
       "      <th>has_lift</th>\n",
       "      <th>constructed_area</th>\n",
       "      <th>is_new_development</th>\n",
       "      <th>is_needs_renovating</th>\n",
       "      <th>is_goog_condition</th>\n",
       "    </tr>\n",
       "  </thead>\n",
       "  <tbody>\n",
       "    <tr>\n",
       "      <th>count</th>\n",
       "      <td>187.000000</td>\n",
       "      <td>187.000000</td>\n",
       "      <td>187.000000</td>\n",
       "      <td>187.000000</td>\n",
       "      <td>1.870000e+02</td>\n",
       "      <td>187.000000</td>\n",
       "      <td>187.000000</td>\n",
       "      <td>187.000000</td>\n",
       "      <td>187.000000</td>\n",
       "      <td>187.000000</td>\n",
       "      <td>187.000000</td>\n",
       "      <td>187.00000</td>\n",
       "      <td>187.000000</td>\n",
       "      <td>187.000000</td>\n",
       "      <td>187.000000</td>\n",
       "      <td>187.000000</td>\n",
       "      <td>187.000000</td>\n",
       "    </tr>\n",
       "    <tr>\n",
       "      <th>mean</th>\n",
       "      <td>0.555289</td>\n",
       "      <td>0.354011</td>\n",
       "      <td>0.152275</td>\n",
       "      <td>0.226678</td>\n",
       "      <td>4.829937e+05</td>\n",
       "      <td>0.679813</td>\n",
       "      <td>0.201974</td>\n",
       "      <td>0.222307</td>\n",
       "      <td>0.609626</td>\n",
       "      <td>0.860963</td>\n",
       "      <td>0.812834</td>\n",
       "      <td>0.73262</td>\n",
       "      <td>0.422460</td>\n",
       "      <td>0.078952</td>\n",
       "      <td>0.229947</td>\n",
       "      <td>0.053476</td>\n",
       "      <td>0.716578</td>\n",
       "    </tr>\n",
       "    <tr>\n",
       "      <th>std</th>\n",
       "      <td>0.304381</td>\n",
       "      <td>0.211385</td>\n",
       "      <td>0.211999</td>\n",
       "      <td>0.193632</td>\n",
       "      <td>5.127819e+05</td>\n",
       "      <td>0.301770</td>\n",
       "      <td>0.125336</td>\n",
       "      <td>0.199341</td>\n",
       "      <td>0.489144</td>\n",
       "      <td>0.346914</td>\n",
       "      <td>0.391092</td>\n",
       "      <td>0.44378</td>\n",
       "      <td>0.495277</td>\n",
       "      <td>0.110337</td>\n",
       "      <td>0.421928</td>\n",
       "      <td>0.225585</td>\n",
       "      <td>0.451870</td>\n",
       "    </tr>\n",
       "    <tr>\n",
       "      <th>min</th>\n",
       "      <td>0.000000</td>\n",
       "      <td>0.000000</td>\n",
       "      <td>0.000000</td>\n",
       "      <td>0.000000</td>\n",
       "      <td>5.490000e+04</td>\n",
       "      <td>0.000000</td>\n",
       "      <td>0.000000</td>\n",
       "      <td>0.000000</td>\n",
       "      <td>0.000000</td>\n",
       "      <td>0.000000</td>\n",
       "      <td>0.000000</td>\n",
       "      <td>0.00000</td>\n",
       "      <td>0.000000</td>\n",
       "      <td>0.000000</td>\n",
       "      <td>0.000000</td>\n",
       "      <td>0.000000</td>\n",
       "      <td>0.000000</td>\n",
       "    </tr>\n",
       "    <tr>\n",
       "      <th>25%</th>\n",
       "      <td>0.292373</td>\n",
       "      <td>0.266667</td>\n",
       "      <td>0.091272</td>\n",
       "      <td>0.171782</td>\n",
       "      <td>2.499000e+05</td>\n",
       "      <td>0.500000</td>\n",
       "      <td>0.153846</td>\n",
       "      <td>0.142857</td>\n",
       "      <td>0.000000</td>\n",
       "      <td>1.000000</td>\n",
       "      <td>1.000000</td>\n",
       "      <td>0.00000</td>\n",
       "      <td>0.000000</td>\n",
       "      <td>0.023878</td>\n",
       "      <td>0.000000</td>\n",
       "      <td>0.000000</td>\n",
       "      <td>0.000000</td>\n",
       "    </tr>\n",
       "    <tr>\n",
       "      <th>50%</th>\n",
       "      <td>0.576271</td>\n",
       "      <td>0.266667</td>\n",
       "      <td>0.099349</td>\n",
       "      <td>0.176613</td>\n",
       "      <td>2.999900e+05</td>\n",
       "      <td>0.750000</td>\n",
       "      <td>0.153846</td>\n",
       "      <td>0.142857</td>\n",
       "      <td>1.000000</td>\n",
       "      <td>1.000000</td>\n",
       "      <td>1.000000</td>\n",
       "      <td>1.00000</td>\n",
       "      <td>0.000000</td>\n",
       "      <td>0.041633</td>\n",
       "      <td>0.000000</td>\n",
       "      <td>0.000000</td>\n",
       "      <td>1.000000</td>\n",
       "    </tr>\n",
       "    <tr>\n",
       "      <th>75%</th>\n",
       "      <td>0.830508</td>\n",
       "      <td>0.333333</td>\n",
       "      <td>0.113012</td>\n",
       "      <td>0.187782</td>\n",
       "      <td>5.670000e+05</td>\n",
       "      <td>1.000000</td>\n",
       "      <td>0.230769</td>\n",
       "      <td>0.285714</td>\n",
       "      <td>1.000000</td>\n",
       "      <td>1.000000</td>\n",
       "      <td>1.000000</td>\n",
       "      <td>1.00000</td>\n",
       "      <td>1.000000</td>\n",
       "      <td>0.084082</td>\n",
       "      <td>0.000000</td>\n",
       "      <td>0.000000</td>\n",
       "      <td>1.000000</td>\n",
       "    </tr>\n",
       "    <tr>\n",
       "      <th>max</th>\n",
       "      <td>1.000000</td>\n",
       "      <td>1.000000</td>\n",
       "      <td>1.000000</td>\n",
       "      <td>1.000000</td>\n",
       "      <td>5.000000e+06</td>\n",
       "      <td>1.000000</td>\n",
       "      <td>1.000000</td>\n",
       "      <td>1.000000</td>\n",
       "      <td>1.000000</td>\n",
       "      <td>1.000000</td>\n",
       "      <td>1.000000</td>\n",
       "      <td>1.00000</td>\n",
       "      <td>1.000000</td>\n",
       "      <td>1.000000</td>\n",
       "      <td>1.000000</td>\n",
       "      <td>1.000000</td>\n",
       "      <td>1.000000</td>\n",
       "    </tr>\n",
       "  </tbody>\n",
       "</table>\n",
       "</div>"
      ],
      "text/plain": [
       "           titulo  localizacion    latitude   longitude         price  \\\n",
       "count  187.000000    187.000000  187.000000  187.000000  1.870000e+02   \n",
       "mean     0.555289      0.354011    0.152275    0.226678  4.829937e+05   \n",
       "std      0.304381      0.211385    0.211999    0.193632  5.127819e+05   \n",
       "min      0.000000      0.000000    0.000000    0.000000  5.490000e+04   \n",
       "25%      0.292373      0.266667    0.091272    0.171782  2.499000e+05   \n",
       "50%      0.576271      0.266667    0.099349    0.176613  2.999900e+05   \n",
       "75%      0.830508      0.333333    0.113012    0.187782  5.670000e+05   \n",
       "max      1.000000      1.000000    1.000000    1.000000  5.000000e+06   \n",
       "\n",
       "       energy_certification  room_number  bath_number  has_garden  \\\n",
       "count            187.000000   187.000000   187.000000  187.000000   \n",
       "mean               0.679813     0.201974     0.222307    0.609626   \n",
       "std                0.301770     0.125336     0.199341    0.489144   \n",
       "min                0.000000     0.000000     0.000000    0.000000   \n",
       "25%                0.500000     0.153846     0.142857    0.000000   \n",
       "50%                0.750000     0.153846     0.142857    1.000000   \n",
       "75%                1.000000     0.230769     0.285714    1.000000   \n",
       "max                1.000000     1.000000     1.000000    1.000000   \n",
       "\n",
       "       has_terrace  has_parking  has_swimmingpool    has_lift  \\\n",
       "count   187.000000   187.000000         187.00000  187.000000   \n",
       "mean      0.860963     0.812834           0.73262    0.422460   \n",
       "std       0.346914     0.391092           0.44378    0.495277   \n",
       "min       0.000000     0.000000           0.00000    0.000000   \n",
       "25%       1.000000     1.000000           0.00000    0.000000   \n",
       "50%       1.000000     1.000000           1.00000    0.000000   \n",
       "75%       1.000000     1.000000           1.00000    1.000000   \n",
       "max       1.000000     1.000000           1.00000    1.000000   \n",
       "\n",
       "       constructed_area  is_new_development  is_needs_renovating  \\\n",
       "count        187.000000          187.000000           187.000000   \n",
       "mean           0.078952            0.229947             0.053476   \n",
       "std            0.110337            0.421928             0.225585   \n",
       "min            0.000000            0.000000             0.000000   \n",
       "25%            0.023878            0.000000             0.000000   \n",
       "50%            0.041633            0.000000             0.000000   \n",
       "75%            0.084082            0.000000             0.000000   \n",
       "max            1.000000            1.000000             1.000000   \n",
       "\n",
       "       is_goog_condition  \n",
       "count         187.000000  \n",
       "mean            0.716578  \n",
       "std             0.451870  \n",
       "min             0.000000  \n",
       "25%             0.000000  \n",
       "50%             1.000000  \n",
       "75%             1.000000  \n",
       "max             1.000000  "
      ]
     },
     "execution_count": 15,
     "metadata": {},
     "output_type": "execute_result"
    }
   ],
   "source": [
    "data.describe()"
   ]
  },
  {
   "cell_type": "code",
   "execution_count": 16,
   "metadata": {},
   "outputs": [
    {
     "data": {
      "text/html": [
       "<div>\n",
       "<style scoped>\n",
       "    .dataframe tbody tr th:only-of-type {\n",
       "        vertical-align: middle;\n",
       "    }\n",
       "\n",
       "    .dataframe tbody tr th {\n",
       "        vertical-align: top;\n",
       "    }\n",
       "\n",
       "    .dataframe thead th {\n",
       "        text-align: right;\n",
       "    }\n",
       "</style>\n",
       "<table border=\"1\" class=\"dataframe\">\n",
       "  <thead>\n",
       "    <tr style=\"text-align: right;\">\n",
       "      <th></th>\n",
       "      <th>Modelo</th>\n",
       "      <th>Detalles</th>\n",
       "      <th>R2 train</th>\n",
       "      <th>R2 test</th>\n",
       "      <th>MAE train</th>\n",
       "      <th>MAE test</th>\n",
       "    </tr>\n",
       "  </thead>\n",
       "  <tbody>\n",
       "    <tr>\n",
       "      <th>0</th>\n",
       "      <td>Regresión Lineal</td>\n",
       "      <td>Sin procesar</td>\n",
       "      <td>0.905204</td>\n",
       "      <td>0.613774</td>\n",
       "      <td>86970.591973</td>\n",
       "      <td>198583.448126</td>\n",
       "    </tr>\n",
       "    <tr>\n",
       "      <th>1</th>\n",
       "      <td>Regresión Lineal</td>\n",
       "      <td>Datos Escalados</td>\n",
       "      <td>0.778667</td>\n",
       "      <td>0.903712</td>\n",
       "      <td>129022.420815</td>\n",
       "      <td>92139.865487</td>\n",
       "    </tr>\n",
       "  </tbody>\n",
       "</table>\n",
       "</div>"
      ],
      "text/plain": [
       "             Modelo         Detalles  R2 train   R2 test      MAE train  \\\n",
       "0  Regresión Lineal     Sin procesar  0.905204  0.613774   86970.591973   \n",
       "1  Regresión Lineal  Datos Escalados  0.778667  0.903712  129022.420815   \n",
       "\n",
       "        MAE test  \n",
       "0  198583.448126  \n",
       "1   92139.865487  "
      ]
     },
     "execution_count": 16,
     "metadata": {},
     "output_type": "execute_result"
    }
   ],
   "source": [
    "r2_train,r2_test,MAE_train,MAE_test = regresion_lineal(data2)\n",
    "\n",
    "\n",
    "final = resultados.shape[0]\n",
    "resultados.loc[final] = ['Regresión Lineal','Datos Escalados',r2_train,r2_test,MAE_train,MAE_test]\n",
    "resultados"
   ]
  },
  {
   "cell_type": "markdown",
   "metadata": {},
   "source": [
    "### **Selección del modelo de regresión**<br>\n",
    "Al usar la regresion lineal obtenemos un porcentaje de precisión del 76%. Este resultado no está mal pero dado que el dataset posee varias características que no presentan una relación lineal con el precio, probaremos con modelos más flexibles.\n",
    "<br><br>\n",
    "#### **Regresión polinómica**"
   ]
  },
  {
   "cell_type": "code",
   "execution_count": 17,
   "metadata": {
    "tags": []
   },
   "outputs": [],
   "source": [
    "from sklearn.preprocessing import PolynomialFeatures\n",
    "\n",
    "def regresion_poli(data,degree=2,test_size=0.2,Prec_var='price'):\n",
    "    x = data.drop(Prec_var,axis=1)\n",
    "    y = data[Prec_var]\n",
    "    \n",
    "    poly = PolynomialFeatures(degree=2,)\n",
    "    x_poly = poly.fit_transform(x)\n",
    "    \n",
    "    x_train,x_test,y_train,y_test = train_test_split(x_poly,y,test_size=test_size)\n",
    "        \n",
    "    lr = LinearRegression()\n",
    "    lr.fit(x_train,y_train)\n",
    "    \n",
    "    r2_train = lr.score(x_train,y_train)\n",
    "    r2_test = lr.score(x_test,y_test)\n",
    "    \n",
    "    y_train_pred = lr.predict(x_train)\n",
    "    y_test_pred = lr.predict(x_test)\n",
    "    \n",
    "    MAE_train,MAE_test = error_gen(y_train,y_train_pred,y_test,y_test_pred)\n",
    "    \n",
    "\n",
    "    return r2_train,r2_test,MAE_train,MAE_test"
   ]
  },
  {
   "cell_type": "code",
   "execution_count": 18,
   "metadata": {},
   "outputs": [
    {
     "data": {
      "text/html": [
       "<div>\n",
       "<style scoped>\n",
       "    .dataframe tbody tr th:only-of-type {\n",
       "        vertical-align: middle;\n",
       "    }\n",
       "\n",
       "    .dataframe tbody tr th {\n",
       "        vertical-align: top;\n",
       "    }\n",
       "\n",
       "    .dataframe thead th {\n",
       "        text-align: right;\n",
       "    }\n",
       "</style>\n",
       "<table border=\"1\" class=\"dataframe\">\n",
       "  <thead>\n",
       "    <tr style=\"text-align: right;\">\n",
       "      <th></th>\n",
       "      <th>Modelo</th>\n",
       "      <th>Detalles</th>\n",
       "      <th>R2 train</th>\n",
       "      <th>R2 test</th>\n",
       "      <th>MAE train</th>\n",
       "      <th>MAE test</th>\n",
       "    </tr>\n",
       "  </thead>\n",
       "  <tbody>\n",
       "    <tr>\n",
       "      <th>0</th>\n",
       "      <td>Regresión Lineal</td>\n",
       "      <td>Sin procesar</td>\n",
       "      <td>0.905204</td>\n",
       "      <td>0.613774</td>\n",
       "      <td>86970.591973</td>\n",
       "      <td>198583.448126</td>\n",
       "    </tr>\n",
       "    <tr>\n",
       "      <th>1</th>\n",
       "      <td>Regresión Lineal</td>\n",
       "      <td>Datos Escalados</td>\n",
       "      <td>0.778667</td>\n",
       "      <td>0.903712</td>\n",
       "      <td>129022.420815</td>\n",
       "      <td>92139.865487</td>\n",
       "    </tr>\n",
       "    <tr>\n",
       "      <th>2</th>\n",
       "      <td>Regresión Polinómica</td>\n",
       "      <td>Sin procesar / Grado 3</td>\n",
       "      <td>0.999052</td>\n",
       "      <td>-4.656410</td>\n",
       "      <td>11576.254973</td>\n",
       "      <td>427432.399992</td>\n",
       "    </tr>\n",
       "  </tbody>\n",
       "</table>\n",
       "</div>"
      ],
      "text/plain": [
       "                 Modelo                Detalles  R2 train   R2 test  \\\n",
       "0      Regresión Lineal            Sin procesar  0.905204  0.613774   \n",
       "1      Regresión Lineal         Datos Escalados  0.778667  0.903712   \n",
       "2  Regresión Polinómica  Sin procesar / Grado 3  0.999052 -4.656410   \n",
       "\n",
       "       MAE train       MAE test  \n",
       "0   86970.591973  198583.448126  \n",
       "1  129022.420815   92139.865487  \n",
       "2   11576.254973  427432.399992  "
      ]
     },
     "execution_count": 18,
     "metadata": {},
     "output_type": "execute_result"
    }
   ],
   "source": [
    "r2_train,r2_test,MAE_train,MAE_test = regresion_poli(data2,degree=3)\n",
    "final = resultados.shape[0]\n",
    "resultados.loc[final] = ['Regresión Polinómica','Sin procesar / Grado 3',r2_train,r2_test,MAE_train,MAE_test]\n",
    "resultados"
   ]
  },
  {
   "cell_type": "code",
   "execution_count": 19,
   "metadata": {},
   "outputs": [
    {
     "data": {
      "text/html": [
       "<div>\n",
       "<style scoped>\n",
       "    .dataframe tbody tr th:only-of-type {\n",
       "        vertical-align: middle;\n",
       "    }\n",
       "\n",
       "    .dataframe tbody tr th {\n",
       "        vertical-align: top;\n",
       "    }\n",
       "\n",
       "    .dataframe thead th {\n",
       "        text-align: right;\n",
       "    }\n",
       "</style>\n",
       "<table border=\"1\" class=\"dataframe\">\n",
       "  <thead>\n",
       "    <tr style=\"text-align: right;\">\n",
       "      <th></th>\n",
       "      <th>Modelo</th>\n",
       "      <th>Detalles</th>\n",
       "      <th>R2 train</th>\n",
       "      <th>R2 test</th>\n",
       "      <th>MAE train</th>\n",
       "      <th>MAE test</th>\n",
       "    </tr>\n",
       "  </thead>\n",
       "  <tbody>\n",
       "    <tr>\n",
       "      <th>0</th>\n",
       "      <td>Regresión Lineal</td>\n",
       "      <td>Sin procesar</td>\n",
       "      <td>0.905204</td>\n",
       "      <td>0.613774</td>\n",
       "      <td>86970.591973</td>\n",
       "      <td>198583.448126</td>\n",
       "    </tr>\n",
       "    <tr>\n",
       "      <th>1</th>\n",
       "      <td>Regresión Lineal</td>\n",
       "      <td>Datos Escalados</td>\n",
       "      <td>0.778667</td>\n",
       "      <td>0.903712</td>\n",
       "      <td>129022.420815</td>\n",
       "      <td>92139.865487</td>\n",
       "    </tr>\n",
       "    <tr>\n",
       "      <th>2</th>\n",
       "      <td>Regresión Polinómica</td>\n",
       "      <td>Sin procesar / Grado 3</td>\n",
       "      <td>0.999052</td>\n",
       "      <td>-4.656410</td>\n",
       "      <td>11576.254973</td>\n",
       "      <td>427432.399992</td>\n",
       "    </tr>\n",
       "    <tr>\n",
       "      <th>3</th>\n",
       "      <td>Regresión Polinómica</td>\n",
       "      <td>Sin procesar / Grado 3</td>\n",
       "      <td>0.993723</td>\n",
       "      <td>-0.591277</td>\n",
       "      <td>17081.224928</td>\n",
       "      <td>554276.704372</td>\n",
       "    </tr>\n",
       "  </tbody>\n",
       "</table>\n",
       "</div>"
      ],
      "text/plain": [
       "                 Modelo                Detalles  R2 train   R2 test  \\\n",
       "0      Regresión Lineal            Sin procesar  0.905204  0.613774   \n",
       "1      Regresión Lineal         Datos Escalados  0.778667  0.903712   \n",
       "2  Regresión Polinómica  Sin procesar / Grado 3  0.999052 -4.656410   \n",
       "3  Regresión Polinómica  Sin procesar / Grado 3  0.993723 -0.591277   \n",
       "\n",
       "       MAE train       MAE test  \n",
       "0   86970.591973  198583.448126  \n",
       "1  129022.420815   92139.865487  \n",
       "2   11576.254973  427432.399992  \n",
       "3   17081.224928  554276.704372  "
      ]
     },
     "execution_count": 19,
     "metadata": {},
     "output_type": "execute_result"
    }
   ],
   "source": [
    "regresion_poli(data2)\n",
    "r2_train,r2_test,MAE_train,MAE_test = regresion_poli(data2,degree=3)\n",
    "final = resultados.shape[0]\n",
    "resultados.loc[final] = ['Regresión Polinómica','Datos Escalados / Grado 3',r2_train,r2_test,MAE_train,MAE_test]\n",
    "resultados"
   ]
  },
  {
   "cell_type": "markdown",
   "metadata": {
    "tags": []
   },
   "source": [
    "### **Random Forest Regressor**"
   ]
  },
  {
   "cell_type": "code",
   "execution_count": 20,
   "metadata": {},
   "outputs": [],
   "source": [
    "from sklearn.tree import DecisionTreeRegressor\n",
    "\n",
    "def Arbol_Regresion(data,test_size=0.2,Prec_var='price'):\n",
    "    x = data.drop(Prec_var,axis=1)\n",
    "    y = data[Prec_var]\n",
    "    x_train,x_test,y_train,y_test = train_test_split(x,y,test_size=test_size)\n",
    "    \n",
    "    tree = DecisionTreeRegressor(min_samples_split=30,min_samples_leaf=10,random_state=0)\n",
    "    tree.fit(x_train,y_train)\n",
    "    \n",
    "    r2_train = tree.score(x_train,y_train)\n",
    "    r2_test = tree.score(x_test,y_test)\n",
    "    \n",
    "    y_train_pred = tree.predict(x_train)\n",
    "    y_test_pred = tree.predict(x_test)\n",
    "    \n",
    "    MAE_train,MAE_test = error_gen(y_train,y_train_pred,y_test,y_test_pred)\n",
    "    \n",
    "    return r2_train,r2_test, MAE_train,MAE_test"
   ]
  },
  {
   "cell_type": "code",
   "execution_count": 21,
   "metadata": {},
   "outputs": [
    {
     "data": {
      "text/html": [
       "<div>\n",
       "<style scoped>\n",
       "    .dataframe tbody tr th:only-of-type {\n",
       "        vertical-align: middle;\n",
       "    }\n",
       "\n",
       "    .dataframe tbody tr th {\n",
       "        vertical-align: top;\n",
       "    }\n",
       "\n",
       "    .dataframe thead th {\n",
       "        text-align: right;\n",
       "    }\n",
       "</style>\n",
       "<table border=\"1\" class=\"dataframe\">\n",
       "  <thead>\n",
       "    <tr style=\"text-align: right;\">\n",
       "      <th></th>\n",
       "      <th>Modelo</th>\n",
       "      <th>Detalles</th>\n",
       "      <th>R2 train</th>\n",
       "      <th>R2 test</th>\n",
       "      <th>MAE train</th>\n",
       "      <th>MAE test</th>\n",
       "    </tr>\n",
       "  </thead>\n",
       "  <tbody>\n",
       "    <tr>\n",
       "      <th>0</th>\n",
       "      <td>Regresión Lineal</td>\n",
       "      <td>Sin procesar</td>\n",
       "      <td>0.905204</td>\n",
       "      <td>0.613774</td>\n",
       "      <td>86970.591973</td>\n",
       "      <td>198583.448126</td>\n",
       "    </tr>\n",
       "    <tr>\n",
       "      <th>1</th>\n",
       "      <td>Regresión Lineal</td>\n",
       "      <td>Datos Escalados</td>\n",
       "      <td>0.778667</td>\n",
       "      <td>0.903712</td>\n",
       "      <td>129022.420815</td>\n",
       "      <td>92139.865487</td>\n",
       "    </tr>\n",
       "    <tr>\n",
       "      <th>2</th>\n",
       "      <td>Regresión Polinómica</td>\n",
       "      <td>Sin procesar / Grado 3</td>\n",
       "      <td>0.999052</td>\n",
       "      <td>-4.656410</td>\n",
       "      <td>11576.254973</td>\n",
       "      <td>427432.399992</td>\n",
       "    </tr>\n",
       "    <tr>\n",
       "      <th>3</th>\n",
       "      <td>Regresión Polinómica</td>\n",
       "      <td>Sin procesar / Grado 3</td>\n",
       "      <td>0.993723</td>\n",
       "      <td>-0.591277</td>\n",
       "      <td>17081.224928</td>\n",
       "      <td>554276.704372</td>\n",
       "    </tr>\n",
       "    <tr>\n",
       "      <th>4</th>\n",
       "      <td>Árbol de regresión</td>\n",
       "      <td>Sin procesar</td>\n",
       "      <td>0.791610</td>\n",
       "      <td>-0.591277</td>\n",
       "      <td>89251.779588</td>\n",
       "      <td>186624.710518</td>\n",
       "    </tr>\n",
       "  </tbody>\n",
       "</table>\n",
       "</div>"
      ],
      "text/plain": [
       "                 Modelo                Detalles  R2 train   R2 test  \\\n",
       "0      Regresión Lineal            Sin procesar  0.905204  0.613774   \n",
       "1      Regresión Lineal         Datos Escalados  0.778667  0.903712   \n",
       "2  Regresión Polinómica  Sin procesar / Grado 3  0.999052 -4.656410   \n",
       "3  Regresión Polinómica  Sin procesar / Grado 3  0.993723 -0.591277   \n",
       "4    Árbol de regresión            Sin procesar  0.791610 -0.591277   \n",
       "\n",
       "       MAE train       MAE test  \n",
       "0   86970.591973  198583.448126  \n",
       "1  129022.420815   92139.865487  \n",
       "2   11576.254973  427432.399992  \n",
       "3   17081.224928  554276.704372  \n",
       "4   89251.779588  186624.710518  "
      ]
     },
     "execution_count": 21,
     "metadata": {},
     "output_type": "execute_result"
    }
   ],
   "source": [
    "r2_train,r2_tes, MAE_train,MAE_test = Arbol_Regresion(data)\n",
    "final = resultados.shape[0]\n",
    "resultados.loc[final] = ['Árbol de regresión','Sin procesar',r2_train,r2_test, MAE_train,MAE_test]\n",
    "resultados"
   ]
  },
  {
   "cell_type": "code",
   "execution_count": 22,
   "metadata": {},
   "outputs": [
    {
     "data": {
      "text/html": [
       "<div>\n",
       "<style scoped>\n",
       "    .dataframe tbody tr th:only-of-type {\n",
       "        vertical-align: middle;\n",
       "    }\n",
       "\n",
       "    .dataframe tbody tr th {\n",
       "        vertical-align: top;\n",
       "    }\n",
       "\n",
       "    .dataframe thead th {\n",
       "        text-align: right;\n",
       "    }\n",
       "</style>\n",
       "<table border=\"1\" class=\"dataframe\">\n",
       "  <thead>\n",
       "    <tr style=\"text-align: right;\">\n",
       "      <th></th>\n",
       "      <th>Modelo</th>\n",
       "      <th>Detalles</th>\n",
       "      <th>R2 train</th>\n",
       "      <th>R2 test</th>\n",
       "      <th>MAE train</th>\n",
       "      <th>MAE test</th>\n",
       "    </tr>\n",
       "  </thead>\n",
       "  <tbody>\n",
       "    <tr>\n",
       "      <th>0</th>\n",
       "      <td>Regresión Lineal</td>\n",
       "      <td>Sin procesar</td>\n",
       "      <td>0.905204</td>\n",
       "      <td>0.613774</td>\n",
       "      <td>86970.591973</td>\n",
       "      <td>198583.448126</td>\n",
       "    </tr>\n",
       "    <tr>\n",
       "      <th>1</th>\n",
       "      <td>Regresión Lineal</td>\n",
       "      <td>Datos Escalados</td>\n",
       "      <td>0.778667</td>\n",
       "      <td>0.903712</td>\n",
       "      <td>129022.420815</td>\n",
       "      <td>92139.865487</td>\n",
       "    </tr>\n",
       "    <tr>\n",
       "      <th>2</th>\n",
       "      <td>Regresión Polinómica</td>\n",
       "      <td>Sin procesar / Grado 3</td>\n",
       "      <td>0.999052</td>\n",
       "      <td>-4.656410</td>\n",
       "      <td>11576.254973</td>\n",
       "      <td>427432.399992</td>\n",
       "    </tr>\n",
       "    <tr>\n",
       "      <th>3</th>\n",
       "      <td>Regresión Polinómica</td>\n",
       "      <td>Sin procesar / Grado 3</td>\n",
       "      <td>0.993723</td>\n",
       "      <td>-0.591277</td>\n",
       "      <td>17081.224928</td>\n",
       "      <td>554276.704372</td>\n",
       "    </tr>\n",
       "    <tr>\n",
       "      <th>4</th>\n",
       "      <td>Árbol de regresión</td>\n",
       "      <td>Sin procesar</td>\n",
       "      <td>0.791610</td>\n",
       "      <td>-0.591277</td>\n",
       "      <td>89251.779588</td>\n",
       "      <td>186624.710518</td>\n",
       "    </tr>\n",
       "    <tr>\n",
       "      <th>5</th>\n",
       "      <td>Árbol de regresión</td>\n",
       "      <td>Sin procesar</td>\n",
       "      <td>0.586993</td>\n",
       "      <td>-0.591277</td>\n",
       "      <td>113927.327083</td>\n",
       "      <td>104981.306224</td>\n",
       "    </tr>\n",
       "  </tbody>\n",
       "</table>\n",
       "</div>"
      ],
      "text/plain": [
       "                 Modelo                Detalles  R2 train   R2 test  \\\n",
       "0      Regresión Lineal            Sin procesar  0.905204  0.613774   \n",
       "1      Regresión Lineal         Datos Escalados  0.778667  0.903712   \n",
       "2  Regresión Polinómica  Sin procesar / Grado 3  0.999052 -4.656410   \n",
       "3  Regresión Polinómica  Sin procesar / Grado 3  0.993723 -0.591277   \n",
       "4    Árbol de regresión            Sin procesar  0.791610 -0.591277   \n",
       "5    Árbol de regresión            Sin procesar  0.586993 -0.591277   \n",
       "\n",
       "       MAE train       MAE test  \n",
       "0   86970.591973  198583.448126  \n",
       "1  129022.420815   92139.865487  \n",
       "2   11576.254973  427432.399992  \n",
       "3   17081.224928  554276.704372  \n",
       "4   89251.779588  186624.710518  \n",
       "5  113927.327083  104981.306224  "
      ]
     },
     "execution_count": 22,
     "metadata": {},
     "output_type": "execute_result"
    }
   ],
   "source": [
    "Arbol_Regresion(data2)\n",
    "r2_train,r2_tes, MAE_train,MAE_test = Arbol_Regresion(data2)\n",
    "final = resultados.shape[0]\n",
    "resultados.loc[final] = ['Árbol de regresión','Datos Escalados',r2_train,r2_test, MAE_train,MAE_test]\n",
    "resultados"
   ]
  },
  {
   "cell_type": "markdown",
   "metadata": {},
   "source": [
    "#### **Redes neuronales - Regresión**\n"
   ]
  },
  {
   "cell_type": "markdown",
   "metadata": {},
   "source": [
    "**Compilación del modelo**"
   ]
  },
  {
   "cell_type": "code",
   "execution_count": 27,
   "metadata": {},
   "outputs": [],
   "source": [
    "import tensorflow as tf\n",
    "from tensorflow.keras import regularizers\n",
    "\n",
    "def get_model_compile():\n",
    "    model = tf.keras.Sequential([\n",
    "        tf.keras.layers.Dense(32,activation='tanh',input_shape=(16,)),\n",
    "        tf.keras.layers.Dense(64,activation='relu'),\n",
    "        tf.keras.layers.Dropout(0.1),\n",
    "        tf.keras.layers.Dense(128,activation='relu'),\n",
    "        tf.keras.layers.Dropout(0.2),\n",
    "        tf.keras.layers.Dense(64,activation='relu'),\n",
    "        tf.keras.layers.Dropout(0.2),\n",
    "        tf.keras.layers.Dense(1)   \n",
    "    ])\n",
    "\n",
    "    optimizer=tf.keras.optimizers.Adam(0.001)\n",
    "    model.compile(loss='mse',\n",
    "                 optimizer=optimizer,\n",
    "                 metrics=['mae','mse'])\n",
    "    return model"
   ]
  },
  {
   "cell_type": "markdown",
   "metadata": {},
   "source": [
    "División del dataset y entrenamiento del modelo¶\n"
   ]
  },
  {
   "cell_type": "code",
   "execution_count": 28,
   "metadata": {},
   "outputs": [],
   "source": [
    "x = data2.drop('price',axis=1)\n",
    "y = data2['price']\n",
    "\n",
    "batch_size = 25 #numero de muestra sobre el que se va a entrenar antes de aplicar el modelo al resto de datos\n",
    "epochs= 10 #numero de veces del bucle de entrenamiento de mi modelo\n",
    "\n",
    "x_train,x_test,y_train,y_test = train_test_split(x,y,test_size=0.2)\n",
    "\n"
   ]
  },
  {
   "cell_type": "code",
   "execution_count": 29,
   "metadata": {},
   "outputs": [],
   "source": [
    "model = get_model_compile()"
   ]
  },
  {
   "cell_type": "code",
   "execution_count": 30,
   "metadata": {},
   "outputs": [],
   "source": [
    "history = model.fit(x_train,y_train,\n",
    "                    epochs=epochs,batch_size=batch_size,\n",
    "                    validation_data=(x_test,y_test),\n",
    "                    shuffle=True,\n",
    "                    verbose=0)"
   ]
  },
  {
   "cell_type": "code",
   "execution_count": 32,
   "metadata": {},
   "outputs": [
    {
     "data": {
      "application/vnd.plotly.v1+json": {
       "config": {
        "plotlyServerURL": "https://plot.ly"
       },
       "data": [
        {
         "mode": "lines",
         "name": "mae",
         "type": "scatter",
         "x": [
          0,
          1,
          2,
          3,
          4,
          5,
          6,
          7,
          8,
          9
         ],
         "xaxis": "x",
         "y": [
          470551.34375,
          470550.5,
          470549.21875,
          470547,
          470543.15625,
          470536.46875,
          470523.96875,
          470501.6875,
          470465.03125,
          470408.0625
         ],
         "yaxis": "y"
        },
        {
         "mode": "lines",
         "name": "val_mae",
         "type": "scatter",
         "x": [
          0,
          1,
          2,
          3,
          4,
          5,
          6,
          7,
          8,
          9
         ],
         "xaxis": "x",
         "y": [
          531778.5,
          531777.5,
          531775.75,
          531772.6875,
          531767.25,
          531757.375,
          531739.8125,
          531709.8125,
          531660,
          531580.5
         ],
         "yaxis": "y"
        },
        {
         "mode": "lines",
         "name": "mse",
         "type": "scatter",
         "x": [
          0,
          1,
          2,
          3,
          4,
          5,
          6,
          7,
          8,
          9
         ],
         "xaxis": "x2",
         "y": [
          496972595200,
          496971939840,
          496970596352,
          496968597504,
          496964665344,
          496958930944,
          496947167232,
          496925081600,
          496890019840,
          496833101824
         ],
         "yaxis": "y2"
        },
        {
         "mode": "lines",
         "name": "val_mse",
         "type": "scatter",
         "x": [
          0,
          1,
          2,
          3,
          4,
          5,
          6,
          7,
          8,
          9
         ],
         "xaxis": "x2",
         "y": [
          486387482624,
          486386499584,
          486384631808,
          486381420544,
          486375522304,
          486364971008,
          486346162176,
          486313820160,
          486260113408,
          486174457856
         ],
         "yaxis": "y2"
        }
       ],
       "layout": {
        "autosize": true,
        "template": {
         "data": {
          "bar": [
           {
            "error_x": {
             "color": "#2a3f5f"
            },
            "error_y": {
             "color": "#2a3f5f"
            },
            "marker": {
             "line": {
              "color": "#E5ECF6",
              "width": 0.5
             },
             "pattern": {
              "fillmode": "overlay",
              "size": 10,
              "solidity": 0.2
             }
            },
            "type": "bar"
           }
          ],
          "barpolar": [
           {
            "marker": {
             "line": {
              "color": "#E5ECF6",
              "width": 0.5
             },
             "pattern": {
              "fillmode": "overlay",
              "size": 10,
              "solidity": 0.2
             }
            },
            "type": "barpolar"
           }
          ],
          "carpet": [
           {
            "aaxis": {
             "endlinecolor": "#2a3f5f",
             "gridcolor": "white",
             "linecolor": "white",
             "minorgridcolor": "white",
             "startlinecolor": "#2a3f5f"
            },
            "baxis": {
             "endlinecolor": "#2a3f5f",
             "gridcolor": "white",
             "linecolor": "white",
             "minorgridcolor": "white",
             "startlinecolor": "#2a3f5f"
            },
            "type": "carpet"
           }
          ],
          "choropleth": [
           {
            "colorbar": {
             "outlinewidth": 0,
             "ticks": ""
            },
            "type": "choropleth"
           }
          ],
          "contour": [
           {
            "colorbar": {
             "outlinewidth": 0,
             "ticks": ""
            },
            "colorscale": [
             [
              0,
              "#0d0887"
             ],
             [
              0.1111111111111111,
              "#46039f"
             ],
             [
              0.2222222222222222,
              "#7201a8"
             ],
             [
              0.3333333333333333,
              "#9c179e"
             ],
             [
              0.4444444444444444,
              "#bd3786"
             ],
             [
              0.5555555555555556,
              "#d8576b"
             ],
             [
              0.6666666666666666,
              "#ed7953"
             ],
             [
              0.7777777777777778,
              "#fb9f3a"
             ],
             [
              0.8888888888888888,
              "#fdca26"
             ],
             [
              1,
              "#f0f921"
             ]
            ],
            "type": "contour"
           }
          ],
          "contourcarpet": [
           {
            "colorbar": {
             "outlinewidth": 0,
             "ticks": ""
            },
            "type": "contourcarpet"
           }
          ],
          "heatmap": [
           {
            "colorbar": {
             "outlinewidth": 0,
             "ticks": ""
            },
            "colorscale": [
             [
              0,
              "#0d0887"
             ],
             [
              0.1111111111111111,
              "#46039f"
             ],
             [
              0.2222222222222222,
              "#7201a8"
             ],
             [
              0.3333333333333333,
              "#9c179e"
             ],
             [
              0.4444444444444444,
              "#bd3786"
             ],
             [
              0.5555555555555556,
              "#d8576b"
             ],
             [
              0.6666666666666666,
              "#ed7953"
             ],
             [
              0.7777777777777778,
              "#fb9f3a"
             ],
             [
              0.8888888888888888,
              "#fdca26"
             ],
             [
              1,
              "#f0f921"
             ]
            ],
            "type": "heatmap"
           }
          ],
          "heatmapgl": [
           {
            "colorbar": {
             "outlinewidth": 0,
             "ticks": ""
            },
            "colorscale": [
             [
              0,
              "#0d0887"
             ],
             [
              0.1111111111111111,
              "#46039f"
             ],
             [
              0.2222222222222222,
              "#7201a8"
             ],
             [
              0.3333333333333333,
              "#9c179e"
             ],
             [
              0.4444444444444444,
              "#bd3786"
             ],
             [
              0.5555555555555556,
              "#d8576b"
             ],
             [
              0.6666666666666666,
              "#ed7953"
             ],
             [
              0.7777777777777778,
              "#fb9f3a"
             ],
             [
              0.8888888888888888,
              "#fdca26"
             ],
             [
              1,
              "#f0f921"
             ]
            ],
            "type": "heatmapgl"
           }
          ],
          "histogram": [
           {
            "marker": {
             "pattern": {
              "fillmode": "overlay",
              "size": 10,
              "solidity": 0.2
             }
            },
            "type": "histogram"
           }
          ],
          "histogram2d": [
           {
            "colorbar": {
             "outlinewidth": 0,
             "ticks": ""
            },
            "colorscale": [
             [
              0,
              "#0d0887"
             ],
             [
              0.1111111111111111,
              "#46039f"
             ],
             [
              0.2222222222222222,
              "#7201a8"
             ],
             [
              0.3333333333333333,
              "#9c179e"
             ],
             [
              0.4444444444444444,
              "#bd3786"
             ],
             [
              0.5555555555555556,
              "#d8576b"
             ],
             [
              0.6666666666666666,
              "#ed7953"
             ],
             [
              0.7777777777777778,
              "#fb9f3a"
             ],
             [
              0.8888888888888888,
              "#fdca26"
             ],
             [
              1,
              "#f0f921"
             ]
            ],
            "type": "histogram2d"
           }
          ],
          "histogram2dcontour": [
           {
            "colorbar": {
             "outlinewidth": 0,
             "ticks": ""
            },
            "colorscale": [
             [
              0,
              "#0d0887"
             ],
             [
              0.1111111111111111,
              "#46039f"
             ],
             [
              0.2222222222222222,
              "#7201a8"
             ],
             [
              0.3333333333333333,
              "#9c179e"
             ],
             [
              0.4444444444444444,
              "#bd3786"
             ],
             [
              0.5555555555555556,
              "#d8576b"
             ],
             [
              0.6666666666666666,
              "#ed7953"
             ],
             [
              0.7777777777777778,
              "#fb9f3a"
             ],
             [
              0.8888888888888888,
              "#fdca26"
             ],
             [
              1,
              "#f0f921"
             ]
            ],
            "type": "histogram2dcontour"
           }
          ],
          "mesh3d": [
           {
            "colorbar": {
             "outlinewidth": 0,
             "ticks": ""
            },
            "type": "mesh3d"
           }
          ],
          "parcoords": [
           {
            "line": {
             "colorbar": {
              "outlinewidth": 0,
              "ticks": ""
             }
            },
            "type": "parcoords"
           }
          ],
          "pie": [
           {
            "automargin": true,
            "type": "pie"
           }
          ],
          "scatter": [
           {
            "fillpattern": {
             "fillmode": "overlay",
             "size": 10,
             "solidity": 0.2
            },
            "type": "scatter"
           }
          ],
          "scatter3d": [
           {
            "line": {
             "colorbar": {
              "outlinewidth": 0,
              "ticks": ""
             }
            },
            "marker": {
             "colorbar": {
              "outlinewidth": 0,
              "ticks": ""
             }
            },
            "type": "scatter3d"
           }
          ],
          "scattercarpet": [
           {
            "marker": {
             "colorbar": {
              "outlinewidth": 0,
              "ticks": ""
             }
            },
            "type": "scattercarpet"
           }
          ],
          "scattergeo": [
           {
            "marker": {
             "colorbar": {
              "outlinewidth": 0,
              "ticks": ""
             }
            },
            "type": "scattergeo"
           }
          ],
          "scattergl": [
           {
            "marker": {
             "colorbar": {
              "outlinewidth": 0,
              "ticks": ""
             }
            },
            "type": "scattergl"
           }
          ],
          "scattermapbox": [
           {
            "marker": {
             "colorbar": {
              "outlinewidth": 0,
              "ticks": ""
             }
            },
            "type": "scattermapbox"
           }
          ],
          "scatterpolar": [
           {
            "marker": {
             "colorbar": {
              "outlinewidth": 0,
              "ticks": ""
             }
            },
            "type": "scatterpolar"
           }
          ],
          "scatterpolargl": [
           {
            "marker": {
             "colorbar": {
              "outlinewidth": 0,
              "ticks": ""
             }
            },
            "type": "scatterpolargl"
           }
          ],
          "scatterternary": [
           {
            "marker": {
             "colorbar": {
              "outlinewidth": 0,
              "ticks": ""
             }
            },
            "type": "scatterternary"
           }
          ],
          "surface": [
           {
            "colorbar": {
             "outlinewidth": 0,
             "ticks": ""
            },
            "colorscale": [
             [
              0,
              "#0d0887"
             ],
             [
              0.1111111111111111,
              "#46039f"
             ],
             [
              0.2222222222222222,
              "#7201a8"
             ],
             [
              0.3333333333333333,
              "#9c179e"
             ],
             [
              0.4444444444444444,
              "#bd3786"
             ],
             [
              0.5555555555555556,
              "#d8576b"
             ],
             [
              0.6666666666666666,
              "#ed7953"
             ],
             [
              0.7777777777777778,
              "#fb9f3a"
             ],
             [
              0.8888888888888888,
              "#fdca26"
             ],
             [
              1,
              "#f0f921"
             ]
            ],
            "type": "surface"
           }
          ],
          "table": [
           {
            "cells": {
             "fill": {
              "color": "#EBF0F8"
             },
             "line": {
              "color": "white"
             }
            },
            "header": {
             "fill": {
              "color": "#C8D4E3"
             },
             "line": {
              "color": "white"
             }
            },
            "type": "table"
           }
          ]
         },
         "layout": {
          "annotationdefaults": {
           "arrowcolor": "#2a3f5f",
           "arrowhead": 0,
           "arrowwidth": 1
          },
          "autotypenumbers": "strict",
          "coloraxis": {
           "colorbar": {
            "outlinewidth": 0,
            "ticks": ""
           }
          },
          "colorscale": {
           "diverging": [
            [
             0,
             "#8e0152"
            ],
            [
             0.1,
             "#c51b7d"
            ],
            [
             0.2,
             "#de77ae"
            ],
            [
             0.3,
             "#f1b6da"
            ],
            [
             0.4,
             "#fde0ef"
            ],
            [
             0.5,
             "#f7f7f7"
            ],
            [
             0.6,
             "#e6f5d0"
            ],
            [
             0.7,
             "#b8e186"
            ],
            [
             0.8,
             "#7fbc41"
            ],
            [
             0.9,
             "#4d9221"
            ],
            [
             1,
             "#276419"
            ]
           ],
           "sequential": [
            [
             0,
             "#0d0887"
            ],
            [
             0.1111111111111111,
             "#46039f"
            ],
            [
             0.2222222222222222,
             "#7201a8"
            ],
            [
             0.3333333333333333,
             "#9c179e"
            ],
            [
             0.4444444444444444,
             "#bd3786"
            ],
            [
             0.5555555555555556,
             "#d8576b"
            ],
            [
             0.6666666666666666,
             "#ed7953"
            ],
            [
             0.7777777777777778,
             "#fb9f3a"
            ],
            [
             0.8888888888888888,
             "#fdca26"
            ],
            [
             1,
             "#f0f921"
            ]
           ],
           "sequentialminus": [
            [
             0,
             "#0d0887"
            ],
            [
             0.1111111111111111,
             "#46039f"
            ],
            [
             0.2222222222222222,
             "#7201a8"
            ],
            [
             0.3333333333333333,
             "#9c179e"
            ],
            [
             0.4444444444444444,
             "#bd3786"
            ],
            [
             0.5555555555555556,
             "#d8576b"
            ],
            [
             0.6666666666666666,
             "#ed7953"
            ],
            [
             0.7777777777777778,
             "#fb9f3a"
            ],
            [
             0.8888888888888888,
             "#fdca26"
            ],
            [
             1,
             "#f0f921"
            ]
           ]
          },
          "colorway": [
           "#636efa",
           "#EF553B",
           "#00cc96",
           "#ab63fa",
           "#FFA15A",
           "#19d3f3",
           "#FF6692",
           "#B6E880",
           "#FF97FF",
           "#FECB52"
          ],
          "font": {
           "color": "#2a3f5f"
          },
          "geo": {
           "bgcolor": "white",
           "lakecolor": "white",
           "landcolor": "#E5ECF6",
           "showlakes": true,
           "showland": true,
           "subunitcolor": "white"
          },
          "hoverlabel": {
           "align": "left"
          },
          "hovermode": "closest",
          "mapbox": {
           "style": "light"
          },
          "paper_bgcolor": "white",
          "plot_bgcolor": "#E5ECF6",
          "polar": {
           "angularaxis": {
            "gridcolor": "white",
            "linecolor": "white",
            "ticks": ""
           },
           "bgcolor": "#E5ECF6",
           "radialaxis": {
            "gridcolor": "white",
            "linecolor": "white",
            "ticks": ""
           }
          },
          "scene": {
           "xaxis": {
            "backgroundcolor": "#E5ECF6",
            "gridcolor": "white",
            "gridwidth": 2,
            "linecolor": "white",
            "showbackground": true,
            "ticks": "",
            "zerolinecolor": "white"
           },
           "yaxis": {
            "backgroundcolor": "#E5ECF6",
            "gridcolor": "white",
            "gridwidth": 2,
            "linecolor": "white",
            "showbackground": true,
            "ticks": "",
            "zerolinecolor": "white"
           },
           "zaxis": {
            "backgroundcolor": "#E5ECF6",
            "gridcolor": "white",
            "gridwidth": 2,
            "linecolor": "white",
            "showbackground": true,
            "ticks": "",
            "zerolinecolor": "white"
           }
          },
          "shapedefaults": {
           "line": {
            "color": "#2a3f5f"
           }
          },
          "ternary": {
           "aaxis": {
            "gridcolor": "white",
            "linecolor": "white",
            "ticks": ""
           },
           "baxis": {
            "gridcolor": "white",
            "linecolor": "white",
            "ticks": ""
           },
           "bgcolor": "#E5ECF6",
           "caxis": {
            "gridcolor": "white",
            "linecolor": "white",
            "ticks": ""
           }
          },
          "title": {
           "x": 0.05
          },
          "xaxis": {
           "automargin": true,
           "gridcolor": "white",
           "linecolor": "white",
           "ticks": "",
           "title": {
            "standoff": 15
           },
           "zerolinecolor": "white",
           "zerolinewidth": 2
          },
          "yaxis": {
           "automargin": true,
           "gridcolor": "white",
           "linecolor": "white",
           "ticks": "",
           "title": {
            "standoff": 15
           },
           "zerolinecolor": "white",
           "zerolinewidth": 2
          }
         }
        },
        "title": {
         "text": "Gráficas de MAE y MSE vs Época"
        },
        "xaxis": {
         "anchor": "y",
         "autorange": true,
         "domain": [
          0,
          0.45
         ],
         "range": [
          0,
          9
         ],
         "type": "linear"
        },
        "xaxis2": {
         "anchor": "y2",
         "autorange": true,
         "domain": [
          0.55,
          1
         ],
         "range": [
          0,
          9
         ],
         "type": "linear"
        },
        "yaxis": {
         "anchor": "x",
         "autorange": true,
         "domain": [
          0,
          1
         ],
         "range": [
          466998.59375,
          535187.96875
         ],
         "type": "linear"
        },
        "yaxis2": {
         "anchor": "x2",
         "autorange": true,
         "domain": [
          0,
          1
         ],
         "range": [
          485574561336.8889,
          497572491719.1111
         ],
         "type": "linear"
        }
       }
      },
      "image/png": "[encoded data removed]",
      "text/html": [
       "<div>                            <div id=\"78cc0b1b-a5d5-474a-8580-2c0974594824\" class=\"plotly-graph-div\" style=\"height:525px; width:100%;\"></div>            <script type=\"text/javascript\">                require([\"plotly\"], function(Plotly) {                    window.PLOTLYENV=window.PLOTLYENV || {};                                    if (document.getElementById(\"78cc0b1b-a5d5-474a-8580-2c0974594824\")) {                    Plotly.newPlot(                        \"78cc0b1b-a5d5-474a-8580-2c0974594824\",                        [{\"mode\":\"lines\",\"name\":\"mae\",\"x\":[0,1,2,3,4,5,6,7,8,9],\"y\":[470551.34375,470550.5,470549.21875,470547.0,470543.15625,470536.46875,470523.96875,470501.6875,470465.03125,470408.0625],\"type\":\"scatter\",\"xaxis\":\"x\",\"yaxis\":\"y\"},{\"mode\":\"lines\",\"name\":\"val_mae\",\"x\":[0,1,2,3,4,5,6,7,8,9],\"y\":[531778.5,531777.5,531775.75,531772.6875,531767.25,531757.375,531739.8125,531709.8125,531660.0,531580.5],\"type\":\"scatter\",\"xaxis\":\"x\",\"yaxis\":\"y\"},{\"mode\":\"lines\",\"name\":\"mse\",\"x\":[0,1,2,3,4,5,6,7,8,9],\"y\":[496972595200.0,496971939840.0,496970596352.0,496968597504.0,496964665344.0,496958930944.0,496947167232.0,496925081600.0,496890019840.0,496833101824.0],\"type\":\"scatter\",\"xaxis\":\"x2\",\"yaxis\":\"y2\"},{\"mode\":\"lines\",\"name\":\"val_mse\",\"x\":[0,1,2,3,4,5,6,7,8,9],\"y\":[486387482624.0,486386499584.0,486384631808.0,486381420544.0,486375522304.0,486364971008.0,486346162176.0,486313820160.0,486260113408.0,486174457856.0],\"type\":\"scatter\",\"xaxis\":\"x2\",\"yaxis\":\"y2\"}],                        {\"template\":{\"data\":{\"histogram2dcontour\":[{\"type\":\"histogram2dcontour\",\"colorbar\":{\"outlinewidth\":0,\"ticks\":\"\"},\"colorscale\":[[0.0,\"#0d0887\"],[0.1111111111111111,\"#46039f\"],[0.2222222222222222,\"#7201a8\"],[0.3333333333333333,\"#9c179e\"],[0.4444444444444444,\"#bd3786\"],[0.5555555555555556,\"#d8576b\"],[0.6666666666666666,\"#ed7953\"],[0.7777777777777778,\"#fb9f3a\"],[0.8888888888888888,\"#fdca26\"],[1.0,\"#f0f921\"]]}],\"choropleth\":[{\"type\":\"choropleth\",\"colorbar\":{\"outlinewidth\":0,\"ticks\":\"\"}}],\"histogram2d\":[{\"type\":\"histogram2d\",\"colorbar\":{\"outlinewidth\":0,\"ticks\":\"\"},\"colorscale\":[[0.0,\"#0d0887\"],[0.1111111111111111,\"#46039f\"],[0.2222222222222222,\"#7201a8\"],[0.3333333333333333,\"#9c179e\"],[0.4444444444444444,\"#bd3786\"],[0.5555555555555556,\"#d8576b\"],[0.6666666666666666,\"#ed7953\"],[0.7777777777777778,\"#fb9f3a\"],[0.8888888888888888,\"#fdca26\"],[1.0,\"#f0f921\"]]}],\"heatmap\":[{\"type\":\"heatmap\",\"colorbar\":{\"outlinewidth\":0,\"ticks\":\"\"},\"colorscale\":[[0.0,\"#0d0887\"],[0.1111111111111111,\"#46039f\"],[0.2222222222222222,\"#7201a8\"],[0.3333333333333333,\"#9c179e\"],[0.4444444444444444,\"#bd3786\"],[0.5555555555555556,\"#d8576b\"],[0.6666666666666666,\"#ed7953\"],[0.7777777777777778,\"#fb9f3a\"],[0.8888888888888888,\"#fdca26\"],[1.0,\"#f0f921\"]]}],\"heatmapgl\":[{\"type\":\"heatmapgl\",\"colorbar\":{\"outlinewidth\":0,\"ticks\":\"\"},\"colorscale\":[[0.0,\"#0d0887\"],[0.1111111111111111,\"#46039f\"],[0.2222222222222222,\"#7201a8\"],[0.3333333333333333,\"#9c179e\"],[0.4444444444444444,\"#bd3786\"],[0.5555555555555556,\"#d8576b\"],[0.6666666666666666,\"#ed7953\"],[0.7777777777777778,\"#fb9f3a\"],[0.8888888888888888,\"#fdca26\"],[1.0,\"#f0f921\"]]}],\"contourcarpet\":[{\"type\":\"contourcarpet\",\"colorbar\":{\"outlinewidth\":0,\"ticks\":\"\"}}],\"contour\":[{\"type\":\"contour\",\"colorbar\":{\"outlinewidth\":0,\"ticks\":\"\"},\"colorscale\":[[0.0,\"#0d0887\"],[0.1111111111111111,\"#46039f\"],[0.2222222222222222,\"#7201a8\"],[0.3333333333333333,\"#9c179e\"],[0.4444444444444444,\"#bd3786\"],[0.5555555555555556,\"#d8576b\"],[0.6666666666666666,\"#ed7953\"],[0.7777777777777778,\"#fb9f3a\"],[0.8888888888888888,\"#fdca26\"],[1.0,\"#f0f921\"]]}],\"surface\":[{\"type\":\"surface\",\"colorbar\":{\"outlinewidth\":0,\"ticks\":\"\"},\"colorscale\":[[0.0,\"#0d0887\"],[0.1111111111111111,\"#46039f\"],[0.2222222222222222,\"#7201a8\"],[0.3333333333333333,\"#9c179e\"],[0.4444444444444444,\"#bd3786\"],[0.5555555555555556,\"#d8576b\"],[0.6666666666666666,\"#ed7953\"],[0.7777777777777778,\"#fb9f3a\"],[0.8888888888888888,\"#fdca26\"],[1.0,\"#f0f921\"]]}],\"mesh3d\":[{\"type\":\"mesh3d\",\"colorbar\":{\"outlinewidth\":0,\"ticks\":\"\"}}],\"scatter\":[{\"fillpattern\":{\"fillmode\":\"overlay\",\"size\":10,\"solidity\":0.2},\"type\":\"scatter\"}],\"parcoords\":[{\"type\":\"parcoords\",\"line\":{\"colorbar\":{\"outlinewidth\":0,\"ticks\":\"\"}}}],\"scatterpolargl\":[{\"type\":\"scatterpolargl\",\"marker\":{\"colorbar\":{\"outlinewidth\":0,\"ticks\":\"\"}}}],\"bar\":[{\"error_x\":{\"color\":\"#2a3f5f\"},\"error_y\":{\"color\":\"#2a3f5f\"},\"marker\":{\"line\":{\"color\":\"#E5ECF6\",\"width\":0.5},\"pattern\":{\"fillmode\":\"overlay\",\"size\":10,\"solidity\":0.2}},\"type\":\"bar\"}],\"scattergeo\":[{\"type\":\"scattergeo\",\"marker\":{\"colorbar\":{\"outlinewidth\":0,\"ticks\":\"\"}}}],\"scatterpolar\":[{\"type\":\"scatterpolar\",\"marker\":{\"colorbar\":{\"outlinewidth\":0,\"ticks\":\"\"}}}],\"histogram\":[{\"marker\":{\"pattern\":{\"fillmode\":\"overlay\",\"size\":10,\"solidity\":0.2}},\"type\":\"histogram\"}],\"scattergl\":[{\"type\":\"scattergl\",\"marker\":{\"colorbar\":{\"outlinewidth\":0,\"ticks\":\"\"}}}],\"scatter3d\":[{\"type\":\"scatter3d\",\"line\":{\"colorbar\":{\"outlinewidth\":0,\"ticks\":\"\"}},\"marker\":{\"colorbar\":{\"outlinewidth\":0,\"ticks\":\"\"}}}],\"scattermapbox\":[{\"type\":\"scattermapbox\",\"marker\":{\"colorbar\":{\"outlinewidth\":0,\"ticks\":\"\"}}}],\"scatterternary\":[{\"type\":\"scatterternary\",\"marker\":{\"colorbar\":{\"outlinewidth\":0,\"ticks\":\"\"}}}],\"scattercarpet\":[{\"type\":\"scattercarpet\",\"marker\":{\"colorbar\":{\"outlinewidth\":0,\"ticks\":\"\"}}}],\"carpet\":[{\"aaxis\":{\"endlinecolor\":\"#2a3f5f\",\"gridcolor\":\"white\",\"linecolor\":\"white\",\"minorgridcolor\":\"white\",\"startlinecolor\":\"#2a3f5f\"},\"baxis\":{\"endlinecolor\":\"#2a3f5f\",\"gridcolor\":\"white\",\"linecolor\":\"white\",\"minorgridcolor\":\"white\",\"startlinecolor\":\"#2a3f5f\"},\"type\":\"carpet\"}],\"table\":[{\"cells\":{\"fill\":{\"color\":\"#EBF0F8\"},\"line\":{\"color\":\"white\"}},\"header\":{\"fill\":{\"color\":\"#C8D4E3\"},\"line\":{\"color\":\"white\"}},\"type\":\"table\"}],\"barpolar\":[{\"marker\":{\"line\":{\"color\":\"#E5ECF6\",\"width\":0.5},\"pattern\":{\"fillmode\":\"overlay\",\"size\":10,\"solidity\":0.2}},\"type\":\"barpolar\"}],\"pie\":[{\"automargin\":true,\"type\":\"pie\"}]},\"layout\":{\"autotypenumbers\":\"strict\",\"colorway\":[\"#636efa\",\"#EF553B\",\"#00cc96\",\"#ab63fa\",\"#FFA15A\",\"#19d3f3\",\"#FF6692\",\"#B6E880\",\"#FF97FF\",\"#FECB52\"],\"font\":{\"color\":\"#2a3f5f\"},\"hovermode\":\"closest\",\"hoverlabel\":{\"align\":\"left\"},\"paper_bgcolor\":\"white\",\"plot_bgcolor\":\"#E5ECF6\",\"polar\":{\"bgcolor\":\"#E5ECF6\",\"angularaxis\":{\"gridcolor\":\"white\",\"linecolor\":\"white\",\"ticks\":\"\"},\"radialaxis\":{\"gridcolor\":\"white\",\"linecolor\":\"white\",\"ticks\":\"\"}},\"ternary\":{\"bgcolor\":\"#E5ECF6\",\"aaxis\":{\"gridcolor\":\"white\",\"linecolor\":\"white\",\"ticks\":\"\"},\"baxis\":{\"gridcolor\":\"white\",\"linecolor\":\"white\",\"ticks\":\"\"},\"caxis\":{\"gridcolor\":\"white\",\"linecolor\":\"white\",\"ticks\":\"\"}},\"coloraxis\":{\"colorbar\":{\"outlinewidth\":0,\"ticks\":\"\"}},\"colorscale\":{\"sequential\":[[0.0,\"#0d0887\"],[0.1111111111111111,\"#46039f\"],[0.2222222222222222,\"#7201a8\"],[0.3333333333333333,\"#9c179e\"],[0.4444444444444444,\"#bd3786\"],[0.5555555555555556,\"#d8576b\"],[0.6666666666666666,\"#ed7953\"],[0.7777777777777778,\"#fb9f3a\"],[0.8888888888888888,\"#fdca26\"],[1.0,\"#f0f921\"]],\"sequentialminus\":[[0.0,\"#0d0887\"],[0.1111111111111111,\"#46039f\"],[0.2222222222222222,\"#7201a8\"],[0.3333333333333333,\"#9c179e\"],[0.4444444444444444,\"#bd3786\"],[0.5555555555555556,\"#d8576b\"],[0.6666666666666666,\"#ed7953\"],[0.7777777777777778,\"#fb9f3a\"],[0.8888888888888888,\"#fdca26\"],[1.0,\"#f0f921\"]],\"diverging\":[[0,\"#8e0152\"],[0.1,\"#c51b7d\"],[0.2,\"#de77ae\"],[0.3,\"#f1b6da\"],[0.4,\"#fde0ef\"],[0.5,\"#f7f7f7\"],[0.6,\"#e6f5d0\"],[0.7,\"#b8e186\"],[0.8,\"#7fbc41\"],[0.9,\"#4d9221\"],[1,\"#276419\"]]},\"xaxis\":{\"gridcolor\":\"white\",\"linecolor\":\"white\",\"ticks\":\"\",\"title\":{\"standoff\":15},\"zerolinecolor\":\"white\",\"automargin\":true,\"zerolinewidth\":2},\"yaxis\":{\"gridcolor\":\"white\",\"linecolor\":\"white\",\"ticks\":\"\",\"title\":{\"standoff\":15},\"zerolinecolor\":\"white\",\"automargin\":true,\"zerolinewidth\":2},\"scene\":{\"xaxis\":{\"backgroundcolor\":\"#E5ECF6\",\"gridcolor\":\"white\",\"linecolor\":\"white\",\"showbackground\":true,\"ticks\":\"\",\"zerolinecolor\":\"white\",\"gridwidth\":2},\"yaxis\":{\"backgroundcolor\":\"#E5ECF6\",\"gridcolor\":\"white\",\"linecolor\":\"white\",\"showbackground\":true,\"ticks\":\"\",\"zerolinecolor\":\"white\",\"gridwidth\":2},\"zaxis\":{\"backgroundcolor\":\"#E5ECF6\",\"gridcolor\":\"white\",\"linecolor\":\"white\",\"showbackground\":true,\"ticks\":\"\",\"zerolinecolor\":\"white\",\"gridwidth\":2}},\"shapedefaults\":{\"line\":{\"color\":\"#2a3f5f\"}},\"annotationdefaults\":{\"arrowcolor\":\"#2a3f5f\",\"arrowhead\":0,\"arrowwidth\":1},\"geo\":{\"bgcolor\":\"white\",\"landcolor\":\"#E5ECF6\",\"subunitcolor\":\"white\",\"showland\":true,\"showlakes\":true,\"lakecolor\":\"white\"},\"title\":{\"x\":0.05},\"mapbox\":{\"style\":\"light\"}}},\"xaxis\":{\"anchor\":\"y\",\"domain\":[0.0,0.45]},\"yaxis\":{\"anchor\":\"x\",\"domain\":[0.0,1.0]},\"xaxis2\":{\"anchor\":\"y2\",\"domain\":[0.55,1.0]},\"yaxis2\":{\"anchor\":\"x2\",\"domain\":[0.0,1.0]},\"title\":{\"text\":\"Gr\\u00e1ficas de MAE y MSE vs \\u00c9poca\"}},                        {\"responsive\": true}                    ).then(function(){\n",
       "                            \n",
       "var gd = document.getElementById('78cc0b1b-a5d5-474a-8580-2c0974594824');\n",
       "var x = new MutationObserver(function (mutations, observer) {{\n",
       "        var display = window.getComputedStyle(gd).display;\n",
       "        if (!display || display === 'none') {{\n",
       "            console.log([gd, 'removed!']);\n",
       "            Plotly.purge(gd);\n",
       "            observer.disconnect();\n",
       "        }}\n",
       "}});\n",
       "\n",
       "// Listen for the removal of the full notebook cells\n",
       "var notebookContainer = gd.closest('#notebook-container');\n",
       "if (notebookContainer) {{\n",
       "    x.observe(notebookContainer, {childList: true});\n",
       "}}\n",
       "\n",
       "// Listen for the clearing of the current output cell\n",
       "var outputEl = gd.closest('.output');\n",
       "if (outputEl) {{\n",
       "    x.observe(outputEl, {childList: true});\n",
       "}}\n",
       "\n",
       "                        })                };                });            </script>        </div>"
      ]
     },
     "metadata": {},
     "output_type": "display_data"
    },
    {
     "data": {
      "application/vnd.plotly.v1+json": {
       "config": {
        "plotlyServerURL": "https://plot.ly"
       },
       "data": [
        {
         "hovertemplate": "price=%{x}<br>price_pred=%{y}<extra></extra>",
         "legendgroup": "",
         "marker": {
          "color": "#636efa",
          "symbol": "circle"
         },
         "mode": "markers",
         "name": "",
         "orientation": "v",
         "showlegend": false,
         "type": "scatter",
         "x": [
          395000,
          640000,
          567000,
          375900,
          249900,
          230900,
          795000,
          235000,
          690000,
          371000,
          395000,
          595000,
          995000,
          625000,
          450000,
          256500,
          422500,
          1399000,
          256500,
          291800,
          235000,
          262181,
          567000,
          273100,
          246300,
          320000,
          275730,
          135000,
          2706000,
          795000,
          1148000,
          436700,
          291800,
          790000,
          320000,
          795000,
          297100,
          790000,
          205000,
          1148000,
          249900,
          297100,
          779000,
          367000,
          129900,
          179999,
          182100,
          262181,
          900000,
          182000,
          210000,
          235000,
          790000,
          790000,
          299990,
          250000,
          320000,
          550000,
          639000,
          330000,
          1500000,
          54900,
          425000,
          410000,
          895000,
          249900,
          249000,
          223000,
          235000,
          298000,
          139900,
          172000,
          5000000,
          180000,
          1500000,
          318500,
          160000,
          370000,
          205000,
          350000,
          640000,
          157500,
          725000,
          299000,
          430000,
          162000,
          395000,
          860000,
          360000,
          1500000,
          639000,
          1500000,
          173000,
          640000,
          340000,
          359000,
          700000,
          360000,
          700000,
          255000,
          310000,
          240000,
          270000,
          190000,
          1975000,
          260000,
          215000,
          449900,
          85000,
          298000,
          291800,
          262181,
          255900,
          265900,
          255900,
          265900,
          182100,
          291800,
          182100,
          256500,
          1148000,
          750000,
          182100,
          1089800,
          297100,
          291800,
          297100,
          262181,
          1148000,
          256500,
          252000,
          215000,
          225000,
          275000,
          358000,
          1300000,
          355000,
          335000,
          345000,
          362000,
          375900,
          299000,
          189500,
          264500,
          257000,
          258000,
          293000,
          389000,
          344000,
          318000,
          790000,
          175000,
          1990000,
          1210000,
          334000,
          445000,
          215000,
          375900,
          279900,
          299900,
          249900,
          385000,
          172670,
          165877,
          170297,
          262181,
          159320,
          165787,
          176746,
          188400,
          175599,
          1800000,
          422500,
          799900,
          291800,
          297100,
          698000,
          315000,
          278000,
          319000,
          291800,
          256500,
          320000,
          595000,
          640000,
          367500,
          360000
         ],
         "xaxis": "x",
         "y": [
          208.47972106933594,
          204.4273223876953,
          193.79476928710938,
          216.2648468017578,
          195.3694610595703,
          195.02699279785156,
          175.7635955810547,
          158.55662536621094,
          202.1892547607422,
          190.8020782470703,
          203.1977996826172,
          192.93946838378906,
          195.40579223632812,
          192.26760864257812,
          221.32850646972656,
          159.30892944335938,
          132.61868286132812,
          212.6543426513672,
          140.18646240234375,
          222.2750244140625,
          217.94764709472656,
          153.94544982910156,
          193.81051635742188,
          193.2327117919922,
          192.5991668701172,
          194.8539581298828,
          182.74986267089844,
          160.09080505371094,
          229.17837524414062,
          202.44642639160156,
          202.5927276611328,
          194.03697204589844,
          217.64683532714844,
          200.2900848388672,
          185.43797302246094,
          176.7053680419922,
          221.3534393310547,
          196.89707946777344,
          175.4757843017578,
          205.5259246826172,
          228.2457733154297,
          222.28590393066406,
          189.40943908691406,
          206.27621459960938,
          209.47190856933594,
          234.7064971923828,
          142.0816650390625,
          188.00706481933594,
          187.11436462402344,
          213.8048553466797,
          155.78016662597656,
          194.4147186279297,
          200.20132446289062,
          203.92556762695312,
          154.91539001464844,
          213.64895629882812,
          157.84254455566406,
          211.2674102783203,
          186.5408172607422,
          211.46034240722656,
          212.14772033691406,
          206.16409301757812,
          211.4911651611328,
          190.92005920410156,
          200.63865661621094,
          191.9141387939453,
          205.9114532470703,
          215.20350646972656,
          204.29196166992188,
          187.8135528564453,
          142.18556213378906,
          169.8704071044922,
          206.15208435058594,
          159.4845428466797,
          208.98965454101562,
          204.06997680664062,
          160.1284942626953,
          206.612060546875,
          164.75111389160156,
          225.47633361816406,
          213.1053009033203,
          205.3097381591797,
          203.0403289794922,
          177.6047821044922,
          203.4292755126953,
          177.22952270507812,
          222.13815307617188,
          202.9061737060547,
          199.49510192871094,
          205.5385284423828,
          184.7408905029297,
          199.8704833984375,
          149.05519104003906,
          194.6359100341797,
          201.78688049316406,
          200.95993041992188,
          193.95375061035156,
          203.9330291748047,
          204.37791442871094,
          169.94834899902344,
          194.3632354736328,
          217.58551025390625,
          190.22486877441406,
          206.20953369140625,
          202.29983520507812,
          182.90550231933594,
          200.63768005371094,
          130.0453338623047,
          116.2578353881836,
          168.5695343017578,
          224.00747680664062,
          210.39865112304688,
          198.7117462158203,
          195.83448791503906,
          196.1413116455078,
          195.7942657470703,
          162.6620330810547,
          224.00747680664062,
          181.59742736816406,
          166.91836547851562,
          206.5001678466797,
          200.4840545654297,
          180.51820373535156,
          200.27647399902344,
          222.2750244140625,
          222.28590393066406,
          222.49212646484375,
          184.59544372558594,
          154.53993225097656,
          167.05442810058594,
          196.8007049560547,
          196.6670379638672,
          196.6536407470703,
          197.48536682128906,
          199.62281799316406,
          203.2621612548828,
          197.5166473388672,
          197.42189025878906,
          197.42189025878906,
          197.5166473388672,
          200.6241912841797,
          225.16578674316406,
          159.77069091796875,
          142.30455017089844,
          197.4587860107422,
          196.66033935546875,
          197.4454803466797,
          200.2884979248047,
          199.5835418701172,
          190.8087158203125,
          186.25222778320312,
          220.24447631835938,
          205.6003875732422,
          199.4590301513672,
          219.10423278808594,
          206.9832000732422,
          144.88458251953125,
          216.2648468017578,
          195.8278045654297,
          173.52622985839844,
          195.8210906982422,
          187.00721740722656,
          221.708984375,
          221.63922119140625,
          221.64418029785156,
          185.62782287597656,
          221.09861755371094,
          221.12677001953125,
          221.0845184326172,
          221.73385620117188,
          221.67413330078125,
          207.8699951171875,
          206.9597930908203,
          201.1000213623047,
          224.23114013671875,
          219.8086395263672,
          210.6211700439453,
          184.738525390625,
          184.00340270996094,
          184.738525390625,
          222.28590393066406,
          161.23243713378906,
          203.06825256347656,
          204.1392059326172,
          205.7047576904297,
          213.30661010742188,
          196.1953887939453
         ],
         "yaxis": "y"
        }
       ],
       "layout": {
        "autosize": true,
        "legend": {
         "tracegroupgap": 0
        },
        "template": {
         "data": {
          "bar": [
           {
            "error_x": {
             "color": "#2a3f5f"
            },
            "error_y": {
             "color": "#2a3f5f"
            },
            "marker": {
             "line": {
              "color": "#E5ECF6",
              "width": 0.5
             },
             "pattern": {
              "fillmode": "overlay",
              "size": 10,
              "solidity": 0.2
             }
            },
            "type": "bar"
           }
          ],
          "barpolar": [
           {
            "marker": {
             "line": {
              "color": "#E5ECF6",
              "width": 0.5
             },
             "pattern": {
              "fillmode": "overlay",
              "size": 10,
              "solidity": 0.2
             }
            },
            "type": "barpolar"
           }
          ],
          "carpet": [
           {
            "aaxis": {
             "endlinecolor": "#2a3f5f",
             "gridcolor": "white",
             "linecolor": "white",
             "minorgridcolor": "white",
             "startlinecolor": "#2a3f5f"
            },
            "baxis": {
             "endlinecolor": "#2a3f5f",
             "gridcolor": "white",
             "linecolor": "white",
             "minorgridcolor": "white",
             "startlinecolor": "#2a3f5f"
            },
            "type": "carpet"
           }
          ],
          "choropleth": [
           {
            "colorbar": {
             "outlinewidth": 0,
             "ticks": ""
            },
            "type": "choropleth"
           }
          ],
          "contour": [
           {
            "colorbar": {
             "outlinewidth": 0,
             "ticks": ""
            },
            "colorscale": [
             [
              0,
              "#0d0887"
             ],
             [
              0.1111111111111111,
              "#46039f"
             ],
             [
              0.2222222222222222,
              "#7201a8"
             ],
             [
              0.3333333333333333,
              "#9c179e"
             ],
             [
              0.4444444444444444,
              "#bd3786"
             ],
             [
              0.5555555555555556,
              "#d8576b"
             ],
             [
              0.6666666666666666,
              "#ed7953"
             ],
             [
              0.7777777777777778,
              "#fb9f3a"
             ],
             [
              0.8888888888888888,
              "#fdca26"
             ],
             [
              1,
              "#f0f921"
             ]
            ],
            "type": "contour"
           }
          ],
          "contourcarpet": [
           {
            "colorbar": {
             "outlinewidth": 0,
             "ticks": ""
            },
            "type": "contourcarpet"
           }
          ],
          "heatmap": [
           {
            "colorbar": {
             "outlinewidth": 0,
             "ticks": ""
            },
            "colorscale": [
             [
              0,
              "#0d0887"
             ],
             [
              0.1111111111111111,
              "#46039f"
             ],
             [
              0.2222222222222222,
              "#7201a8"
             ],
             [
              0.3333333333333333,
              "#9c179e"
             ],
             [
              0.4444444444444444,
              "#bd3786"
             ],
             [
              0.5555555555555556,
              "#d8576b"
             ],
             [
              0.6666666666666666,
              "#ed7953"
             ],
             [
              0.7777777777777778,
              "#fb9f3a"
             ],
             [
              0.8888888888888888,
              "#fdca26"
             ],
             [
              1,
              "#f0f921"
             ]
            ],
            "type": "heatmap"
           }
          ],
          "heatmapgl": [
           {
            "colorbar": {
             "outlinewidth": 0,
             "ticks": ""
            },
            "colorscale": [
             [
              0,
              "#0d0887"
             ],
             [
              0.1111111111111111,
              "#46039f"
             ],
             [
              0.2222222222222222,
              "#7201a8"
             ],
             [
              0.3333333333333333,
              "#9c179e"
             ],
             [
              0.4444444444444444,
              "#bd3786"
             ],
             [
              0.5555555555555556,
              "#d8576b"
             ],
             [
              0.6666666666666666,
              "#ed7953"
             ],
             [
              0.7777777777777778,
              "#fb9f3a"
             ],
             [
              0.8888888888888888,
              "#fdca26"
             ],
             [
              1,
              "#f0f921"
             ]
            ],
            "type": "heatmapgl"
           }
          ],
          "histogram": [
           {
            "marker": {
             "pattern": {
              "fillmode": "overlay",
              "size": 10,
              "solidity": 0.2
             }
            },
            "type": "histogram"
           }
          ],
          "histogram2d": [
           {
            "colorbar": {
             "outlinewidth": 0,
             "ticks": ""
            },
            "colorscale": [
             [
              0,
              "#0d0887"
             ],
             [
              0.1111111111111111,
              "#46039f"
             ],
             [
              0.2222222222222222,
              "#7201a8"
             ],
             [
              0.3333333333333333,
              "#9c179e"
             ],
             [
              0.4444444444444444,
              "#bd3786"
             ],
             [
              0.5555555555555556,
              "#d8576b"
             ],
             [
              0.6666666666666666,
              "#ed7953"
             ],
             [
              0.7777777777777778,
              "#fb9f3a"
             ],
             [
              0.8888888888888888,
              "#fdca26"
             ],
             [
              1,
              "#f0f921"
             ]
            ],
            "type": "histogram2d"
           }
          ],
          "histogram2dcontour": [
           {
            "colorbar": {
             "outlinewidth": 0,
             "ticks": ""
            },
            "colorscale": [
             [
              0,
              "#0d0887"
             ],
             [
              0.1111111111111111,
              "#46039f"
             ],
             [
              0.2222222222222222,
              "#7201a8"
             ],
             [
              0.3333333333333333,
              "#9c179e"
             ],
             [
              0.4444444444444444,
              "#bd3786"
             ],
             [
              0.5555555555555556,
              "#d8576b"
             ],
             [
              0.6666666666666666,
              "#ed7953"
             ],
             [
              0.7777777777777778,
              "#fb9f3a"
             ],
             [
              0.8888888888888888,
              "#fdca26"
             ],
             [
              1,
              "#f0f921"
             ]
            ],
            "type": "histogram2dcontour"
           }
          ],
          "mesh3d": [
           {
            "colorbar": {
             "outlinewidth": 0,
             "ticks": ""
            },
            "type": "mesh3d"
           }
          ],
          "parcoords": [
           {
            "line": {
             "colorbar": {
              "outlinewidth": 0,
              "ticks": ""
             }
            },
            "type": "parcoords"
           }
          ],
          "pie": [
           {
            "automargin": true,
            "type": "pie"
           }
          ],
          "scatter": [
           {
            "fillpattern": {
             "fillmode": "overlay",
             "size": 10,
             "solidity": 0.2
            },
            "type": "scatter"
           }
          ],
          "scatter3d": [
           {
            "line": {
             "colorbar": {
              "outlinewidth": 0,
              "ticks": ""
             }
            },
            "marker": {
             "colorbar": {
              "outlinewidth": 0,
              "ticks": ""
             }
            },
            "type": "scatter3d"
           }
          ],
          "scattercarpet": [
           {
            "marker": {
             "colorbar": {
              "outlinewidth": 0,
              "ticks": ""
             }
            },
            "type": "scattercarpet"
           }
          ],
          "scattergeo": [
           {
            "marker": {
             "colorbar": {
              "outlinewidth": 0,
              "ticks": ""
             }
            },
            "type": "scattergeo"
           }
          ],
          "scattergl": [
           {
            "marker": {
             "colorbar": {
              "outlinewidth": 0,
              "ticks": ""
             }
            },
            "type": "scattergl"
           }
          ],
          "scattermapbox": [
           {
            "marker": {
             "colorbar": {
              "outlinewidth": 0,
              "ticks": ""
             }
            },
            "type": "scattermapbox"
           }
          ],
          "scatterpolar": [
           {
            "marker": {
             "colorbar": {
              "outlinewidth": 0,
              "ticks": ""
             }
            },
            "type": "scatterpolar"
           }
          ],
          "scatterpolargl": [
           {
            "marker": {
             "colorbar": {
              "outlinewidth": 0,
              "ticks": ""
             }
            },
            "type": "scatterpolargl"
           }
          ],
          "scatterternary": [
           {
            "marker": {
             "colorbar": {
              "outlinewidth": 0,
              "ticks": ""
             }
            },
            "type": "scatterternary"
           }
          ],
          "surface": [
           {
            "colorbar": {
             "outlinewidth": 0,
             "ticks": ""
            },
            "colorscale": [
             [
              0,
              "#0d0887"
             ],
             [
              0.1111111111111111,
              "#46039f"
             ],
             [
              0.2222222222222222,
              "#7201a8"
             ],
             [
              0.3333333333333333,
              "#9c179e"
             ],
             [
              0.4444444444444444,
              "#bd3786"
             ],
             [
              0.5555555555555556,
              "#d8576b"
             ],
             [
              0.6666666666666666,
              "#ed7953"
             ],
             [
              0.7777777777777778,
              "#fb9f3a"
             ],
             [
              0.8888888888888888,
              "#fdca26"
             ],
             [
              1,
              "#f0f921"
             ]
            ],
            "type": "surface"
           }
          ],
          "table": [
           {
            "cells": {
             "fill": {
              "color": "#EBF0F8"
             },
             "line": {
              "color": "white"
             }
            },
            "header": {
             "fill": {
              "color": "#C8D4E3"
             },
             "line": {
              "color": "white"
             }
            },
            "type": "table"
           }
          ]
         },
         "layout": {
          "annotationdefaults": {
           "arrowcolor": "#2a3f5f",
           "arrowhead": 0,
           "arrowwidth": 1
          },
          "autotypenumbers": "strict",
          "coloraxis": {
           "colorbar": {
            "outlinewidth": 0,
            "ticks": ""
           }
          },
          "colorscale": {
           "diverging": [
            [
             0,
             "#8e0152"
            ],
            [
             0.1,
             "#c51b7d"
            ],
            [
             0.2,
             "#de77ae"
            ],
            [
             0.3,
             "#f1b6da"
            ],
            [
             0.4,
             "#fde0ef"
            ],
            [
             0.5,
             "#f7f7f7"
            ],
            [
             0.6,
             "#e6f5d0"
            ],
            [
             0.7,
             "#b8e186"
            ],
            [
             0.8,
             "#7fbc41"
            ],
            [
             0.9,
             "#4d9221"
            ],
            [
             1,
             "#276419"
            ]
           ],
           "sequential": [
            [
             0,
             "#0d0887"
            ],
            [
             0.1111111111111111,
             "#46039f"
            ],
            [
             0.2222222222222222,
             "#7201a8"
            ],
            [
             0.3333333333333333,
             "#9c179e"
            ],
            [
             0.4444444444444444,
             "#bd3786"
            ],
            [
             0.5555555555555556,
             "#d8576b"
            ],
            [
             0.6666666666666666,
             "#ed7953"
            ],
            [
             0.7777777777777778,
             "#fb9f3a"
            ],
            [
             0.8888888888888888,
             "#fdca26"
            ],
            [
             1,
             "#f0f921"
            ]
           ],
           "sequentialminus": [
            [
             0,
             "#0d0887"
            ],
            [
             0.1111111111111111,
             "#46039f"
            ],
            [
             0.2222222222222222,
             "#7201a8"
            ],
            [
             0.3333333333333333,
             "#9c179e"
            ],
            [
             0.4444444444444444,
             "#bd3786"
            ],
            [
             0.5555555555555556,
             "#d8576b"
            ],
            [
             0.6666666666666666,
             "#ed7953"
            ],
            [
             0.7777777777777778,
             "#fb9f3a"
            ],
            [
             0.8888888888888888,
             "#fdca26"
            ],
            [
             1,
             "#f0f921"
            ]
           ]
          },
          "colorway": [
           "#636efa",
           "#EF553B",
           "#00cc96",
           "#ab63fa",
           "#FFA15A",
           "#19d3f3",
           "#FF6692",
           "#B6E880",
           "#FF97FF",
           "#FECB52"
          ],
          "font": {
           "color": "#2a3f5f"
          },
          "geo": {
           "bgcolor": "white",
           "lakecolor": "white",
           "landcolor": "#E5ECF6",
           "showlakes": true,
           "showland": true,
           "subunitcolor": "white"
          },
          "hoverlabel": {
           "align": "left"
          },
          "hovermode": "closest",
          "mapbox": {
           "style": "light"
          },
          "paper_bgcolor": "white",
          "plot_bgcolor": "#E5ECF6",
          "polar": {
           "angularaxis": {
            "gridcolor": "white",
            "linecolor": "white",
            "ticks": ""
           },
           "bgcolor": "#E5ECF6",
           "radialaxis": {
            "gridcolor": "white",
            "linecolor": "white",
            "ticks": ""
           }
          },
          "scene": {
           "xaxis": {
            "backgroundcolor": "#E5ECF6",
            "gridcolor": "white",
            "gridwidth": 2,
            "linecolor": "white",
            "showbackground": true,
            "ticks": "",
            "zerolinecolor": "white"
           },
           "yaxis": {
            "backgroundcolor": "#E5ECF6",
            "gridcolor": "white",
            "gridwidth": 2,
            "linecolor": "white",
            "showbackground": true,
            "ticks": "",
            "zerolinecolor": "white"
           },
           "zaxis": {
            "backgroundcolor": "#E5ECF6",
            "gridcolor": "white",
            "gridwidth": 2,
            "linecolor": "white",
            "showbackground": true,
            "ticks": "",
            "zerolinecolor": "white"
           }
          },
          "shapedefaults": {
           "line": {
            "color": "#2a3f5f"
           }
          },
          "ternary": {
           "aaxis": {
            "gridcolor": "white",
            "linecolor": "white",
            "ticks": ""
           },
           "baxis": {
            "gridcolor": "white",
            "linecolor": "white",
            "ticks": ""
           },
           "bgcolor": "#E5ECF6",
           "caxis": {
            "gridcolor": "white",
            "linecolor": "white",
            "ticks": ""
           }
          },
          "title": {
           "x": 0.05
          },
          "xaxis": {
           "automargin": true,
           "gridcolor": "white",
           "linecolor": "white",
           "ticks": "",
           "title": {
            "standoff": 15
           },
           "zerolinecolor": "white",
           "zerolinewidth": 2
          },
          "yaxis": {
           "automargin": true,
           "gridcolor": "white",
           "linecolor": "white",
           "ticks": "",
           "title": {
            "standoff": 15
           },
           "zerolinecolor": "white",
           "zerolinewidth": 2
          }
         }
        },
        "title": {
         "text": "Gráfica de los precios reales vs los precios predichos "
        },
        "xaxis": {
         "anchor": "y",
         "autorange": true,
         "domain": [
          0,
          1
         ],
         "range": [
          -240075.99253144657,
          5294975.992531447
         ],
         "title": {
          "text": "price"
         },
         "type": "linear"
        },
        "yaxis": {
         "anchor": "x",
         "autorange": true,
         "domain": [
          0,
          1
         ],
         "range": [
          106.48294582181764,
          244.48138675874876
         ],
         "title": {
          "text": "price_pred"
         },
         "type": "linear"
        }
       }
      },
      "image/png": "[encoded data removed]",
      "text/html": [
       "<div>                            <div id=\"bbe9cd0a-1991-447f-9ce3-3cbbf68acca6\" class=\"plotly-graph-div\" style=\"height:525px; width:100%;\"></div>            <script type=\"text/javascript\">                require([\"plotly\"], function(Plotly) {                    window.PLOTLYENV=window.PLOTLYENV || {};                                    if (document.getElementById(\"bbe9cd0a-1991-447f-9ce3-3cbbf68acca6\")) {                    Plotly.newPlot(                        \"bbe9cd0a-1991-447f-9ce3-3cbbf68acca6\",                        [{\"hovertemplate\":\"price=%{x}<br>price_pred=%{y}<extra></extra>\",\"legendgroup\":\"\",\"marker\":{\"color\":\"#636efa\",\"symbol\":\"circle\"},\"mode\":\"markers\",\"name\":\"\",\"orientation\":\"v\",\"showlegend\":false,\"x\":[395000,640000,567000,375900,249900,230900,795000,235000,690000,371000,395000,595000,995000,625000,450000,256500,422500,1399000,256500,291800,235000,262181,567000,273100,246300,320000,275730,135000,2706000,795000,1148000,436700,291800,790000,320000,795000,297100,790000,205000,1148000,249900,297100,779000,367000,129900,179999,182100,262181,900000,182000,210000,235000,790000,790000,299990,250000,320000,550000,639000,330000,1500000,54900,425000,410000,895000,249900,249000,223000,235000,298000,139900,172000,5000000,180000,1500000,318500,160000,370000,205000,350000,640000,157500,725000,299000,430000,162000,395000,860000,360000,1500000,639000,1500000,173000,640000,340000,359000,700000,360000,700000,255000,310000,240000,270000,190000,1975000,260000,215000,449900,85000,298000,291800,262181,255900,265900,255900,265900,182100,291800,182100,256500,1148000,750000,182100,1089800,297100,291800,297100,262181,1148000,256500,252000,215000,225000,275000,358000,1300000,355000,335000,345000,362000,375900,299000,189500,264500,257000,258000,293000,389000,344000,318000,790000,175000,1990000,1210000,334000,445000,215000,375900,279900,299900,249900,385000,172670,165877,170297,262181,159320,165787,176746,188400,175599,1800000,422500,799900,291800,297100,698000,315000,278000,319000,291800,256500,320000,595000,640000,367500,360000],\"xaxis\":\"x\",\"y\":[208.47972106933594,204.4273223876953,193.79476928710938,216.2648468017578,195.3694610595703,195.02699279785156,175.7635955810547,158.55662536621094,202.1892547607422,190.8020782470703,203.1977996826172,192.93946838378906,195.40579223632812,192.26760864257812,221.32850646972656,159.30892944335938,132.61868286132812,212.6543426513672,140.18646240234375,222.2750244140625,217.94764709472656,153.94544982910156,193.81051635742188,193.2327117919922,192.5991668701172,194.8539581298828,182.74986267089844,160.09080505371094,229.17837524414062,202.44642639160156,202.5927276611328,194.03697204589844,217.64683532714844,200.2900848388672,185.43797302246094,176.7053680419922,221.3534393310547,196.89707946777344,175.4757843017578,205.5259246826172,228.2457733154297,222.28590393066406,189.40943908691406,206.27621459960938,209.47190856933594,234.7064971923828,142.0816650390625,188.00706481933594,187.11436462402344,213.8048553466797,155.78016662597656,194.4147186279297,200.20132446289062,203.92556762695312,154.91539001464844,213.64895629882812,157.84254455566406,211.2674102783203,186.5408172607422,211.46034240722656,212.14772033691406,206.16409301757812,211.4911651611328,190.92005920410156,200.63865661621094,191.9141387939453,205.9114532470703,215.20350646972656,204.29196166992188,187.8135528564453,142.18556213378906,169.8704071044922,206.15208435058594,159.4845428466797,208.98965454101562,204.06997680664062,160.1284942626953,206.612060546875,164.75111389160156,225.47633361816406,213.1053009033203,205.3097381591797,203.0403289794922,177.6047821044922,203.4292755126953,177.22952270507812,222.13815307617188,202.9061737060547,199.49510192871094,205.5385284423828,184.7408905029297,199.8704833984375,149.05519104003906,194.6359100341797,201.78688049316406,200.95993041992188,193.95375061035156,203.9330291748047,204.37791442871094,169.94834899902344,194.3632354736328,217.58551025390625,190.22486877441406,206.20953369140625,202.29983520507812,182.90550231933594,200.63768005371094,130.0453338623047,116.2578353881836,168.5695343017578,224.00747680664062,210.39865112304688,198.7117462158203,195.83448791503906,196.1413116455078,195.7942657470703,162.6620330810547,224.00747680664062,181.59742736816406,166.91836547851562,206.5001678466797,200.4840545654297,180.51820373535156,200.27647399902344,222.2750244140625,222.28590393066406,222.49212646484375,184.59544372558594,154.53993225097656,167.05442810058594,196.8007049560547,196.6670379638672,196.6536407470703,197.48536682128906,199.62281799316406,203.2621612548828,197.5166473388672,197.42189025878906,197.42189025878906,197.5166473388672,200.6241912841797,225.16578674316406,159.77069091796875,142.30455017089844,197.4587860107422,196.66033935546875,197.4454803466797,200.2884979248047,199.5835418701172,190.8087158203125,186.25222778320312,220.24447631835938,205.6003875732422,199.4590301513672,219.10423278808594,206.9832000732422,144.88458251953125,216.2648468017578,195.8278045654297,173.52622985839844,195.8210906982422,187.00721740722656,221.708984375,221.63922119140625,221.64418029785156,185.62782287597656,221.09861755371094,221.12677001953125,221.0845184326172,221.73385620117188,221.67413330078125,207.8699951171875,206.9597930908203,201.1000213623047,224.23114013671875,219.8086395263672,210.6211700439453,184.738525390625,184.00340270996094,184.738525390625,222.28590393066406,161.23243713378906,203.06825256347656,204.1392059326172,205.7047576904297,213.30661010742188,196.1953887939453],\"yaxis\":\"y\",\"type\":\"scatter\"}],                        {\"template\":{\"data\":{\"histogram2dcontour\":[{\"type\":\"histogram2dcontour\",\"colorbar\":{\"outlinewidth\":0,\"ticks\":\"\"},\"colorscale\":[[0.0,\"#0d0887\"],[0.1111111111111111,\"#46039f\"],[0.2222222222222222,\"#7201a8\"],[0.3333333333333333,\"#9c179e\"],[0.4444444444444444,\"#bd3786\"],[0.5555555555555556,\"#d8576b\"],[0.6666666666666666,\"#ed7953\"],[0.7777777777777778,\"#fb9f3a\"],[0.8888888888888888,\"#fdca26\"],[1.0,\"#f0f921\"]]}],\"choropleth\":[{\"type\":\"choropleth\",\"colorbar\":{\"outlinewidth\":0,\"ticks\":\"\"}}],\"histogram2d\":[{\"type\":\"histogram2d\",\"colorbar\":{\"outlinewidth\":0,\"ticks\":\"\"},\"colorscale\":[[0.0,\"#0d0887\"],[0.1111111111111111,\"#46039f\"],[0.2222222222222222,\"#7201a8\"],[0.3333333333333333,\"#9c179e\"],[0.4444444444444444,\"#bd3786\"],[0.5555555555555556,\"#d8576b\"],[0.6666666666666666,\"#ed7953\"],[0.7777777777777778,\"#fb9f3a\"],[0.8888888888888888,\"#fdca26\"],[1.0,\"#f0f921\"]]}],\"heatmap\":[{\"type\":\"heatmap\",\"colorbar\":{\"outlinewidth\":0,\"ticks\":\"\"},\"colorscale\":[[0.0,\"#0d0887\"],[0.1111111111111111,\"#46039f\"],[0.2222222222222222,\"#7201a8\"],[0.3333333333333333,\"#9c179e\"],[0.4444444444444444,\"#bd3786\"],[0.5555555555555556,\"#d8576b\"],[0.6666666666666666,\"#ed7953\"],[0.7777777777777778,\"#fb9f3a\"],[0.8888888888888888,\"#fdca26\"],[1.0,\"#f0f921\"]]}],\"heatmapgl\":[{\"type\":\"heatmapgl\",\"colorbar\":{\"outlinewidth\":0,\"ticks\":\"\"},\"colorscale\":[[0.0,\"#0d0887\"],[0.1111111111111111,\"#46039f\"],[0.2222222222222222,\"#7201a8\"],[0.3333333333333333,\"#9c179e\"],[0.4444444444444444,\"#bd3786\"],[0.5555555555555556,\"#d8576b\"],[0.6666666666666666,\"#ed7953\"],[0.7777777777777778,\"#fb9f3a\"],[0.8888888888888888,\"#fdca26\"],[1.0,\"#f0f921\"]]}],\"contourcarpet\":[{\"type\":\"contourcarpet\",\"colorbar\":{\"outlinewidth\":0,\"ticks\":\"\"}}],\"contour\":[{\"type\":\"contour\",\"colorbar\":{\"outlinewidth\":0,\"ticks\":\"\"},\"colorscale\":[[0.0,\"#0d0887\"],[0.1111111111111111,\"#46039f\"],[0.2222222222222222,\"#7201a8\"],[0.3333333333333333,\"#9c179e\"],[0.4444444444444444,\"#bd3786\"],[0.5555555555555556,\"#d8576b\"],[0.6666666666666666,\"#ed7953\"],[0.7777777777777778,\"#fb9f3a\"],[0.8888888888888888,\"#fdca26\"],[1.0,\"#f0f921\"]]}],\"surface\":[{\"type\":\"surface\",\"colorbar\":{\"outlinewidth\":0,\"ticks\":\"\"},\"colorscale\":[[0.0,\"#0d0887\"],[0.1111111111111111,\"#46039f\"],[0.2222222222222222,\"#7201a8\"],[0.3333333333333333,\"#9c179e\"],[0.4444444444444444,\"#bd3786\"],[0.5555555555555556,\"#d8576b\"],[0.6666666666666666,\"#ed7953\"],[0.7777777777777778,\"#fb9f3a\"],[0.8888888888888888,\"#fdca26\"],[1.0,\"#f0f921\"]]}],\"mesh3d\":[{\"type\":\"mesh3d\",\"colorbar\":{\"outlinewidth\":0,\"ticks\":\"\"}}],\"scatter\":[{\"fillpattern\":{\"fillmode\":\"overlay\",\"size\":10,\"solidity\":0.2},\"type\":\"scatter\"}],\"parcoords\":[{\"type\":\"parcoords\",\"line\":{\"colorbar\":{\"outlinewidth\":0,\"ticks\":\"\"}}}],\"scatterpolargl\":[{\"type\":\"scatterpolargl\",\"marker\":{\"colorbar\":{\"outlinewidth\":0,\"ticks\":\"\"}}}],\"bar\":[{\"error_x\":{\"color\":\"#2a3f5f\"},\"error_y\":{\"color\":\"#2a3f5f\"},\"marker\":{\"line\":{\"color\":\"#E5ECF6\",\"width\":0.5},\"pattern\":{\"fillmode\":\"overlay\",\"size\":10,\"solidity\":0.2}},\"type\":\"bar\"}],\"scattergeo\":[{\"type\":\"scattergeo\",\"marker\":{\"colorbar\":{\"outlinewidth\":0,\"ticks\":\"\"}}}],\"scatterpolar\":[{\"type\":\"scatterpolar\",\"marker\":{\"colorbar\":{\"outlinewidth\":0,\"ticks\":\"\"}}}],\"histogram\":[{\"marker\":{\"pattern\":{\"fillmode\":\"overlay\",\"size\":10,\"solidity\":0.2}},\"type\":\"histogram\"}],\"scattergl\":[{\"type\":\"scattergl\",\"marker\":{\"colorbar\":{\"outlinewidth\":0,\"ticks\":\"\"}}}],\"scatter3d\":[{\"type\":\"scatter3d\",\"line\":{\"colorbar\":{\"outlinewidth\":0,\"ticks\":\"\"}},\"marker\":{\"colorbar\":{\"outlinewidth\":0,\"ticks\":\"\"}}}],\"scattermapbox\":[{\"type\":\"scattermapbox\",\"marker\":{\"colorbar\":{\"outlinewidth\":0,\"ticks\":\"\"}}}],\"scatterternary\":[{\"type\":\"scatterternary\",\"marker\":{\"colorbar\":{\"outlinewidth\":0,\"ticks\":\"\"}}}],\"scattercarpet\":[{\"type\":\"scattercarpet\",\"marker\":{\"colorbar\":{\"outlinewidth\":0,\"ticks\":\"\"}}}],\"carpet\":[{\"aaxis\":{\"endlinecolor\":\"#2a3f5f\",\"gridcolor\":\"white\",\"linecolor\":\"white\",\"minorgridcolor\":\"white\",\"startlinecolor\":\"#2a3f5f\"},\"baxis\":{\"endlinecolor\":\"#2a3f5f\",\"gridcolor\":\"white\",\"linecolor\":\"white\",\"minorgridcolor\":\"white\",\"startlinecolor\":\"#2a3f5f\"},\"type\":\"carpet\"}],\"table\":[{\"cells\":{\"fill\":{\"color\":\"#EBF0F8\"},\"line\":{\"color\":\"white\"}},\"header\":{\"fill\":{\"color\":\"#C8D4E3\"},\"line\":{\"color\":\"white\"}},\"type\":\"table\"}],\"barpolar\":[{\"marker\":{\"line\":{\"color\":\"#E5ECF6\",\"width\":0.5},\"pattern\":{\"fillmode\":\"overlay\",\"size\":10,\"solidity\":0.2}},\"type\":\"barpolar\"}],\"pie\":[{\"automargin\":true,\"type\":\"pie\"}]},\"layout\":{\"autotypenumbers\":\"strict\",\"colorway\":[\"#636efa\",\"#EF553B\",\"#00cc96\",\"#ab63fa\",\"#FFA15A\",\"#19d3f3\",\"#FF6692\",\"#B6E880\",\"#FF97FF\",\"#FECB52\"],\"font\":{\"color\":\"#2a3f5f\"},\"hovermode\":\"closest\",\"hoverlabel\":{\"align\":\"left\"},\"paper_bgcolor\":\"white\",\"plot_bgcolor\":\"#E5ECF6\",\"polar\":{\"bgcolor\":\"#E5ECF6\",\"angularaxis\":{\"gridcolor\":\"white\",\"linecolor\":\"white\",\"ticks\":\"\"},\"radialaxis\":{\"gridcolor\":\"white\",\"linecolor\":\"white\",\"ticks\":\"\"}},\"ternary\":{\"bgcolor\":\"#E5ECF6\",\"aaxis\":{\"gridcolor\":\"white\",\"linecolor\":\"white\",\"ticks\":\"\"},\"baxis\":{\"gridcolor\":\"white\",\"linecolor\":\"white\",\"ticks\":\"\"},\"caxis\":{\"gridcolor\":\"white\",\"linecolor\":\"white\",\"ticks\":\"\"}},\"coloraxis\":{\"colorbar\":{\"outlinewidth\":0,\"ticks\":\"\"}},\"colorscale\":{\"sequential\":[[0.0,\"#0d0887\"],[0.1111111111111111,\"#46039f\"],[0.2222222222222222,\"#7201a8\"],[0.3333333333333333,\"#9c179e\"],[0.4444444444444444,\"#bd3786\"],[0.5555555555555556,\"#d8576b\"],[0.6666666666666666,\"#ed7953\"],[0.7777777777777778,\"#fb9f3a\"],[0.8888888888888888,\"#fdca26\"],[1.0,\"#f0f921\"]],\"sequentialminus\":[[0.0,\"#0d0887\"],[0.1111111111111111,\"#46039f\"],[0.2222222222222222,\"#7201a8\"],[0.3333333333333333,\"#9c179e\"],[0.4444444444444444,\"#bd3786\"],[0.5555555555555556,\"#d8576b\"],[0.6666666666666666,\"#ed7953\"],[0.7777777777777778,\"#fb9f3a\"],[0.8888888888888888,\"#fdca26\"],[1.0,\"#f0f921\"]],\"diverging\":[[0,\"#8e0152\"],[0.1,\"#c51b7d\"],[0.2,\"#de77ae\"],[0.3,\"#f1b6da\"],[0.4,\"#fde0ef\"],[0.5,\"#f7f7f7\"],[0.6,\"#e6f5d0\"],[0.7,\"#b8e186\"],[0.8,\"#7fbc41\"],[0.9,\"#4d9221\"],[1,\"#276419\"]]},\"xaxis\":{\"gridcolor\":\"white\",\"linecolor\":\"white\",\"ticks\":\"\",\"title\":{\"standoff\":15},\"zerolinecolor\":\"white\",\"automargin\":true,\"zerolinewidth\":2},\"yaxis\":{\"gridcolor\":\"white\",\"linecolor\":\"white\",\"ticks\":\"\",\"title\":{\"standoff\":15},\"zerolinecolor\":\"white\",\"automargin\":true,\"zerolinewidth\":2},\"scene\":{\"xaxis\":{\"backgroundcolor\":\"#E5ECF6\",\"gridcolor\":\"white\",\"linecolor\":\"white\",\"showbackground\":true,\"ticks\":\"\",\"zerolinecolor\":\"white\",\"gridwidth\":2},\"yaxis\":{\"backgroundcolor\":\"#E5ECF6\",\"gridcolor\":\"white\",\"linecolor\":\"white\",\"showbackground\":true,\"ticks\":\"\",\"zerolinecolor\":\"white\",\"gridwidth\":2},\"zaxis\":{\"backgroundcolor\":\"#E5ECF6\",\"gridcolor\":\"white\",\"linecolor\":\"white\",\"showbackground\":true,\"ticks\":\"\",\"zerolinecolor\":\"white\",\"gridwidth\":2}},\"shapedefaults\":{\"line\":{\"color\":\"#2a3f5f\"}},\"annotationdefaults\":{\"arrowcolor\":\"#2a3f5f\",\"arrowhead\":0,\"arrowwidth\":1},\"geo\":{\"bgcolor\":\"white\",\"landcolor\":\"#E5ECF6\",\"subunitcolor\":\"white\",\"showland\":true,\"showlakes\":true,\"lakecolor\":\"white\"},\"title\":{\"x\":0.05},\"mapbox\":{\"style\":\"light\"}}},\"xaxis\":{\"anchor\":\"y\",\"domain\":[0.0,1.0],\"title\":{\"text\":\"price\"}},\"yaxis\":{\"anchor\":\"x\",\"domain\":[0.0,1.0],\"title\":{\"text\":\"price_pred\"}},\"legend\":{\"tracegroupgap\":0},\"title\":{\"text\":\"Gr\\u00e1fica de los precios reales vs los precios predichos \"}},                        {\"responsive\": true}                    ).then(function(){\n",
       "                            \n",
       "var gd = document.getElementById('bbe9cd0a-1991-447f-9ce3-3cbbf68acca6');\n",
       "var x = new MutationObserver(function (mutations, observer) {{\n",
       "        var display = window.getComputedStyle(gd).display;\n",
       "        if (!display || display === 'none') {{\n",
       "            console.log([gd, 'removed!']);\n",
       "            Plotly.purge(gd);\n",
       "            observer.disconnect();\n",
       "        }}\n",
       "}});\n",
       "\n",
       "// Listen for the removal of the full notebook cells\n",
       "var notebookContainer = gd.closest('#notebook-container');\n",
       "if (notebookContainer) {{\n",
       "    x.observe(notebookContainer, {childList: true});\n",
       "}}\n",
       "\n",
       "// Listen for the clearing of the current output cell\n",
       "var outputEl = gd.closest('.output');\n",
       "if (outputEl) {{\n",
       "    x.observe(outputEl, {childList: true});\n",
       "}}\n",
       "\n",
       "                        })                };                });            </script>        </div>"
      ]
     },
     "metadata": {},
     "output_type": "display_data"
    }
   ],
   "source": [
    "evol_train = pd.DataFrame(history.history)\n",
    "evol_train['epoch'] = history.epoch\n",
    "\n",
    "trace1 = go.Scatter(x=evol_train['epoch'], y=evol_train['mae'], mode='lines',name='mae')\n",
    "trace2 = go.Scatter(x=evol_train['epoch'], y=evol_train['val_mae'], mode='lines',name='val_mae')\n",
    "\n",
    "trace3 = go.Scatter(x=evol_train['epoch'], y=evol_train['mse'], mode='lines',name='mse')\n",
    "trace4 = go.Scatter(x=evol_train['epoch'], y=evol_train['val_mse'], mode='lines',name='val_mse')\n",
    "\n",
    "fig = make_subplots(rows=1,cols=2)\n",
    "fig.add_trace(trace1,row=1,col=1)\n",
    "fig.add_trace(trace2,row=1,col=1)\n",
    "\n",
    "fig.add_trace(trace3,row=1,col=2)\n",
    "fig.add_trace(trace4,row=1,col=2)\n",
    "\n",
    "fig.update_layout(title_text=\"Gráficas de MAE y MSE vs Época\")\n",
    "fig.show()\n",
    "\n",
    "data2['price_pred'] = model.predict(x)\n",
    "px.scatter(data2,x='price',y='price_pred',title='Gráfica de los precios reales vs los precios predichos ')"
   ]
  },
  {
   "cell_type": "code",
   "execution_count": 33,
   "metadata": {},
   "outputs": [
    {
     "data": {
      "text/html": [
       "<div>\n",
       "<style scoped>\n",
       "    .dataframe tbody tr th:only-of-type {\n",
       "        vertical-align: middle;\n",
       "    }\n",
       "\n",
       "    .dataframe tbody tr th {\n",
       "        vertical-align: top;\n",
       "    }\n",
       "\n",
       "    .dataframe thead th {\n",
       "        text-align: right;\n",
       "    }\n",
       "</style>\n",
       "<table border=\"1\" class=\"dataframe\">\n",
       "  <thead>\n",
       "    <tr style=\"text-align: right;\">\n",
       "      <th></th>\n",
       "      <th>Modelo</th>\n",
       "      <th>Detalles</th>\n",
       "      <th>R2 train</th>\n",
       "      <th>R2 test</th>\n",
       "      <th>MAE train</th>\n",
       "      <th>MAE test</th>\n",
       "    </tr>\n",
       "  </thead>\n",
       "  <tbody>\n",
       "    <tr>\n",
       "      <th>0</th>\n",
       "      <td>Regresión Lineal</td>\n",
       "      <td>Sin procesar</td>\n",
       "      <td>0.905204</td>\n",
       "      <td>0.613774</td>\n",
       "      <td>86970.591973</td>\n",
       "      <td>198583.448126</td>\n",
       "    </tr>\n",
       "    <tr>\n",
       "      <th>1</th>\n",
       "      <td>Regresión Lineal</td>\n",
       "      <td>Datos Escalados</td>\n",
       "      <td>0.778667</td>\n",
       "      <td>0.903712</td>\n",
       "      <td>129022.420815</td>\n",
       "      <td>92139.865487</td>\n",
       "    </tr>\n",
       "    <tr>\n",
       "      <th>2</th>\n",
       "      <td>Regresión Polinómica</td>\n",
       "      <td>Sin procesar / Grado 3</td>\n",
       "      <td>0.999052</td>\n",
       "      <td>-4.656410</td>\n",
       "      <td>11576.254973</td>\n",
       "      <td>427432.399992</td>\n",
       "    </tr>\n",
       "    <tr>\n",
       "      <th>3</th>\n",
       "      <td>Regresión Polinómica</td>\n",
       "      <td>Sin procesar / Grado 3</td>\n",
       "      <td>0.993723</td>\n",
       "      <td>-0.591277</td>\n",
       "      <td>17081.224928</td>\n",
       "      <td>554276.704372</td>\n",
       "    </tr>\n",
       "    <tr>\n",
       "      <th>4</th>\n",
       "      <td>Árbol de regresión</td>\n",
       "      <td>Sin procesar</td>\n",
       "      <td>0.791610</td>\n",
       "      <td>-0.591277</td>\n",
       "      <td>89251.779588</td>\n",
       "      <td>186624.710518</td>\n",
       "    </tr>\n",
       "    <tr>\n",
       "      <th>5</th>\n",
       "      <td>Árbol de regresión</td>\n",
       "      <td>Sin procesar</td>\n",
       "      <td>0.586993</td>\n",
       "      <td>-0.591277</td>\n",
       "      <td>113927.327083</td>\n",
       "      <td>104981.306224</td>\n",
       "    </tr>\n",
       "    <tr>\n",
       "      <th>6</th>\n",
       "      <td>ANN</td>\n",
       "      <td>Datos Escalados</td>\n",
       "      <td>-0.802863</td>\n",
       "      <td>-1.387900</td>\n",
       "      <td>470357.014703</td>\n",
       "      <td>531580.564937</td>\n",
       "    </tr>\n",
       "  </tbody>\n",
       "</table>\n",
       "</div>"
      ],
      "text/plain": [
       "                 Modelo                Detalles  R2 train   R2 test  \\\n",
       "0      Regresión Lineal            Sin procesar  0.905204  0.613774   \n",
       "1      Regresión Lineal         Datos Escalados  0.778667  0.903712   \n",
       "2  Regresión Polinómica  Sin procesar / Grado 3  0.999052 -4.656410   \n",
       "3  Regresión Polinómica  Sin procesar / Grado 3  0.993723 -0.591277   \n",
       "4    Árbol de regresión            Sin procesar  0.791610 -0.591277   \n",
       "5    Árbol de regresión            Sin procesar  0.586993 -0.591277   \n",
       "6                   ANN         Datos Escalados -0.802863 -1.387900   \n",
       "\n",
       "       MAE train       MAE test  \n",
       "0   86970.591973  198583.448126  \n",
       "1  129022.420815   92139.865487  \n",
       "2   11576.254973  427432.399992  \n",
       "3   17081.224928  554276.704372  \n",
       "4   89251.779588  186624.710518  \n",
       "5  113927.327083  104981.306224  \n",
       "6  470357.014703  531580.564937  "
      ]
     },
     "execution_count": 33,
     "metadata": {},
     "output_type": "execute_result"
    }
   ],
   "source": [
    "from sklearn.metrics import r2_score\n",
    "y_pred_train = model.predict(x_train)\n",
    "y_pred_test = model.predict(x_test)\n",
    "\n",
    "r2_train = r2_score(y_train,y_pred_train)\n",
    "r2_test = r2_score(y_test,y_pred_test)\n",
    "\n",
    "MAE_TRAIN,MAE_TEST = error_gen(y_train,y_pred_train[:,0],y_test,y_pred_test[:,0])\n",
    "\n",
    "final = resultados.shape[0]\n",
    "resultados.loc[final] = ['ANN','Datos Escalados',r2_train,r2_test,MAE_TRAIN,MAE_TEST]\n",
    "resultados"
   ]
  },
  {
   "cell_type": "code",
   "execution_count": null,
   "metadata": {},
   "outputs": [],
   "source": []
  },
  {
   "cell_type": "markdown",
   "metadata": {},
   "source": [
    "<p> Hace falta incluir en el dataset la columna precio predicho y crear una columna con la diferencia del precio real y el predicho. </p>\n",
    "<p> Crear un dataset adicional solo con aquellas viviendas en las que el precio predicho haya sido superior al real. Esta será la que usaremos para la visualización de los datos. Le mostraremos al usuario la coluna precio actual, la columna precio predicho y la columna rentabilidad (esta con la diferencia entre lo real y el predicho)</p>"
   ]
  },
  {
   "cell_type": "code",
   "execution_count": null,
   "metadata": {},
   "outputs": [],
   "source": []
  }
 ],
 "metadata": {
  "kernelspec": {
   "display_name": "Python 3",
   "language": "python",
   "name": "python3"
  },
  "language_info": {
   "codemirror_mode": {
    "name": "ipython",
    "version": 3
   },
   "file_extension": ".py",
   "mimetype": "text/x-python",
   "name": "python",
   "nbconvert_exporter": "python",
   "pygments_lexer": "ipython3",
   "version": "3.6.9"
  }
 },
 "nbformat": 4,
 "nbformat_minor": 4
}
